{
 "cells": [
  {
   "cell_type": "markdown",
   "metadata": {},
   "source": [
    "# Исследование надёжности заёмщиков\n",
    "\n",
    "**Цели и задачи проекта:** Заказчик — кредитный отдел банка. Требуется определить, влияет ли семейное положение или количество детей, а также ежемесячный доход клиента или цель кредита на факт его погашения в срок. Результаты исследования будут учтены при построении модели *кредитного скоринга* — специальной системы, которая оценивает способность потенциального заёмщика вернуть кредит банку.\n",
    "\n",
    "**Входные данные:** статистика банка о платёжеспособности клиентов предоставлена в виде файла формата csv. Статистика дает описание возраста клиента, его пола, семейного положения и информацию о наличии детей. Также имеются данные об образовании клиента, трудовом стаже и цели займа. \n",
    "\n",
    "**Обозначения категорий исходных данных:**\n",
    "* *children* — количество детей в семье\n",
    "* *days_employed* — общий трудовой стаж в днях\n",
    "* *dob_years* — возраст клиента в годах\n",
    "* *education* — уровень образования клиента\n",
    "* *education_id* — идентификатор уровня образования\n",
    "* *family_status* — семейное положение\n",
    "* *family_status_id* — идентификатор семейного положения\n",
    "* *gender* — пол клиента (F - женский, M - мужской)\n",
    "* *income_type* — тип занятости\n",
    "* *debt* — имел ли задолженность по возврату кредитов (0 - отсутствует, 1 - имеется)\n",
    "* *total_income* — ежемесячный доход\n",
    "* *purpose* — цель получения кредита\n",
    "\n",
    "**План работы** над проектом включает в себя выполнение следующих шагов:\n",
    "* *Импорт исходных данных и библиотек Python.* На этом этапе получаем общую информацию об имеющейся у нас в распоряжении информации, типах данных, их полноте и правильности представления.\n",
    "* *Предварительная обработка данных.* В этой части работы обращаем пристальное внимание на недостатки исходных данных и их релевантность: обрабатываем пропуски в данных, преобразуем данные в верный тип, проверяем их на присутствие ошибочных значений и обрабатываем дубликаты с целью исключения искажений в результатах. Организация категорий внутри имеющихся групп данных позволяет нам подготовить информацию о цели кредита, ежемесячном доходе и наличию детеЙ к детальному анализу.  \n",
    "* *Анализ данных.* Данный этап позволяет ответить на вопросы, каким образом та или иная характеристика клиента может оказать влияние на его/ее задолженность по кредиту. Указанные зависимости отражаются в сводных таблицах по результатам группировки, подсчету и аггрегирования различных данных. Анализ позволяет критически оценить полученные результаты и оценить их достоверность.\n",
    "* *Формулирование общиего вывода*. На заключительном этапе приводится сумма выводов и рекомендаций по каждой части выполненного проекта. В общем выводе по проекту мы отразим ключевые рекомендации для заемщика о роли каждого из факторов на возврат кредита."
   ]
  },
  {
   "cell_type": "markdown",
   "metadata": {
    "toc": true
   },
   "source": [
    "<h1>Содержание проекта<span class=\"tocSkip\"></span></h1>\n",
    "<div class=\"toc\"><ul class=\"toc-item\"><li><span><a href=\"#Импорт-данных-и-изучение-общей-информации\" data-toc-modified-id=\"Импорт-данных-и-изучение-общей-информации-1\"><span class=\"toc-item-num\">1&nbsp;&nbsp;</span>Импорт данных и изучение общей информации</a></span></li><li><span><a href=\"#Предобработка-данных\" data-toc-modified-id=\"Предобработка-данных-2\"><span class=\"toc-item-num\">2&nbsp;&nbsp;</span>Предобработка данных</a></span><ul class=\"toc-item\"><li><span><a href=\"#Обработка-пропусков\" data-toc-modified-id=\"Обработка-пропусков-2.1\"><span class=\"toc-item-num\">2.1&nbsp;&nbsp;</span>Обработка пропусков</a></span><ul class=\"toc-item\"><li><span><a href=\"#Подсчет-количества-строк-с-отсутствующими-данными\" data-toc-modified-id=\"Подсчет-количества-строк-с-отсутствующими-данными-2.1.1\"><span class=\"toc-item-num\">2.1.1&nbsp;&nbsp;</span>Подсчет количества строк с отсутствующими данными</a></span></li><li><span><a href=\"#Подсчет-доли-пропусков\" data-toc-modified-id=\"Подсчет-доли-пропусков-2.1.2\"><span class=\"toc-item-num\">2.1.2&nbsp;&nbsp;</span>Подсчет доли пропусков</a></span></li></ul></li><li><span><a href=\"#Обработка-некорректных-значений\" data-toc-modified-id=\"Обработка-некорректных-значений-2.2\"><span class=\"toc-item-num\">2.2&nbsp;&nbsp;</span>Обработка некорректных значений</a></span><ul class=\"toc-item\"><li><span><a href=\"#Проверка-данных-о-численности-детей-на-наличие-некорректных-значений\" data-toc-modified-id=\"Проверка-данных-о-численности-детей-на-наличие-некорректных-значений-2.2.1\"><span class=\"toc-item-num\">2.2.1&nbsp;&nbsp;</span>Проверка данных о численности детей на наличие некорректных значений</a></span></li><li><span><a href=\"#Проверка-данных-о-возрасте-заявителей-на-наличие-некорректных-значений\" data-toc-modified-id=\"Проверка-данных-о-возрасте-заявителей-на-наличие-некорректных-значений-2.2.2\"><span class=\"toc-item-num\">2.2.2&nbsp;&nbsp;</span>Проверка данных о возрасте заявителей на наличие некорректных значений</a></span></li><li><span><a href=\"#Проверка-данных-о-стаже-работе-заявителей-на-наличие-некорректных-значений\" data-toc-modified-id=\"Проверка-данных-о-стаже-работе-заявителей-на-наличие-некорректных-значений-2.2.3\"><span class=\"toc-item-num\">2.2.3&nbsp;&nbsp;</span>Проверка данных о стаже работе заявителей на наличие некорректных значений</a></span></li></ul></li><li><span><a href=\"#Замена-пропусков-и-типа-данных\" data-toc-modified-id=\"Замена-пропусков-и-типа-данных-2.3\"><span class=\"toc-item-num\">2.3&nbsp;&nbsp;</span>Замена пропусков и типа данных</a></span></li><li><span><a href=\"#Обработка-дубликатов\" data-toc-modified-id=\"Обработка-дубликатов-2.4\"><span class=\"toc-item-num\">2.4&nbsp;&nbsp;</span>Обработка дубликатов</a></span><ul class=\"toc-item\"><li><span><a href=\"#Выявление-и-обработка-дубликатов-в-сведениях-об-образовании\" data-toc-modified-id=\"Выявление-и-обработка-дубликатов-в-сведениях-об-образовании-2.4.1\"><span class=\"toc-item-num\">2.4.1&nbsp;&nbsp;</span>Выявление и обработка дубликатов в сведениях об образовании</a></span></li><li><span><a href=\"#Выявление-и-обработка-дубликатов-в-сведениях-о-семейном-положении\" data-toc-modified-id=\"Выявление-и-обработка-дубликатов-в-сведениях-о-семейном-положении-2.4.2\"><span class=\"toc-item-num\">2.4.2&nbsp;&nbsp;</span>Выявление и обработка дубликатов в сведениях о семейном положении</a></span></li><li><span><a href=\"#Выявление-дубликатов-в-сведениях-о-поле-клиента\" data-toc-modified-id=\"Выявление-дубликатов-в-сведениях-о-поле-клиента-2.4.3\"><span class=\"toc-item-num\">2.4.3&nbsp;&nbsp;</span>Выявление дубликатов в сведениях о поле клиента</a></span></li><li><span><a href=\"#Выявление-дубликатов-в-сведениях-о-типе-занятости\" data-toc-modified-id=\"Выявление-дубликатов-в-сведениях-о-типе-занятости-2.4.4\"><span class=\"toc-item-num\">2.4.4&nbsp;&nbsp;</span>Выявление дубликатов в сведениях о типе занятости</a></span></li><li><span><a href=\"#Выявление-дубликатов-в-сведениях-о-цели-получения-кредита\" data-toc-modified-id=\"Выявление-дубликатов-в-сведениях-о-цели-получения-кредита-2.4.5\"><span class=\"toc-item-num\">2.4.5&nbsp;&nbsp;</span>Выявление дубликатов в сведениях о цели получения кредита</a></span></li></ul></li><li><span><a href=\"#Лемматизация\" data-toc-modified-id=\"Лемматизация-2.5\"><span class=\"toc-item-num\">2.5&nbsp;&nbsp;</span>Лемматизация</a></span></li><li><span><a href=\"#Категоризация-данных\" data-toc-modified-id=\"Категоризация-данных-2.6\"><span class=\"toc-item-num\">2.6&nbsp;&nbsp;</span>Категоризация данных</a></span><ul class=\"toc-item\"><li><span><a href=\"#Категоризация-данных-по-цели-получения-кредита\" data-toc-modified-id=\"Категоризация-данных-по-цели-получения-кредита-2.6.1\"><span class=\"toc-item-num\">2.6.1&nbsp;&nbsp;</span>Категоризация данных по цели получения кредита</a></span></li><li><span><a href=\"#Категоризация-данных-по-наличию-детей\" data-toc-modified-id=\"Категоризация-данных-по-наличию-детей-2.6.2\"><span class=\"toc-item-num\">2.6.2&nbsp;&nbsp;</span>Категоризация данных по наличию детей</a></span></li><li><span><a href=\"#Категоризация-данных-по-ежемесячному-доходу\" data-toc-modified-id=\"Категоризация-данных-по-ежемесячному-доходу-2.6.3\"><span class=\"toc-item-num\">2.6.3&nbsp;&nbsp;</span>Категоризация данных по ежемесячному доходу</a></span></li></ul></li></ul></li><li><span><a href=\"#Анализ-данных\" data-toc-modified-id=\"Анализ-данных-3\"><span class=\"toc-item-num\">3&nbsp;&nbsp;</span>Анализ данных</a></span><ul class=\"toc-item\"><li><span><a href=\"#Зависимость-между-наличием-детей-и-возвратом-кредита-в-срок\" data-toc-modified-id=\"Зависимость-между-наличием-детей-и-возвратом-кредита-в-срок-3.1\"><span class=\"toc-item-num\">3.1&nbsp;&nbsp;</span>Зависимость между наличием детей и возвратом кредита в срок</a></span></li><li><span><a href=\"#Зависимость-между-семейным-положением-и-возвратом-кредита-в-срок\" data-toc-modified-id=\"Зависимость-между-семейным-положением-и-возвратом-кредита-в-срок-3.2\"><span class=\"toc-item-num\">3.2&nbsp;&nbsp;</span>Зависимость между семейным положением и возвратом кредита в срок</a></span></li><li><span><a href=\"#Зависимость-между-уровнем-дохода-и-возвратом-кредита-в-срок\" data-toc-modified-id=\"Зависимость-между-уровнем-дохода-и-возвратом-кредита-в-срок-3.3\"><span class=\"toc-item-num\">3.3&nbsp;&nbsp;</span>Зависимость между уровнем дохода и возвратом кредита в срок</a></span></li><li><span><a href=\"#Зависимость-между-целями-и-возвратом-кредита-в-срок\" data-toc-modified-id=\"Зависимость-между-целями-и-возвратом-кредита-в-срок-3.4\"><span class=\"toc-item-num\">3.4&nbsp;&nbsp;</span>Зависимость между целями и возвратом кредита в срок</a></span></li><li><span><a href=\"#Зависимость-между-полом-клиента-и-возвратом-кредита-в-срок\" data-toc-modified-id=\"Зависимость-между-полом-клиента-и-возвратом-кредита-в-срок-3.5\"><span class=\"toc-item-num\">3.5&nbsp;&nbsp;</span>Зависимость между полом клиента и возвратом кредита в срок</a></span></li></ul></li><li><span><a href=\"#Общие-выводы\" data-toc-modified-id=\"Общие-выводы-4\"><span class=\"toc-item-num\">4&nbsp;&nbsp;</span>Общие выводы</a></span></li><li><span><a href=\"#Чек-лист-готовности-проекта\" data-toc-modified-id=\"Чек-лист-готовности-проекта-5\"><span class=\"toc-item-num\">5&nbsp;&nbsp;</span>Чек-лист готовности проекта</a></span></li></ul></div>"
   ]
  },
  {
   "cell_type": "markdown",
   "metadata": {},
   "source": [
    "## Импорт данных и изучение общей информации"
   ]
  },
  {
   "cell_type": "code",
   "execution_count": 1,
   "metadata": {},
   "outputs": [],
   "source": [
    "import pandas as pd                        \n",
    "import numpy as np\n",
    "import matplotlib.pyplot as plt\n",
    "import math\n",
    "\n",
    "# импорт библиотек для лемматизации\n",
    "from pymystem3 import Mystem\n",
    "from collections import Counter\n",
    "\n",
    "# константы, использующиеся в проекте\n",
    "START_JOB_AGE = 14 # минимальный возраст для заключения трудового соглашения\n",
    "DAYS_PER_YEAR = 365 # количество дней в году, без учета высокосного года"
   ]
  },
  {
   "cell_type": "code",
   "execution_count": 2,
   "metadata": {},
   "outputs": [
    {
     "data": {
      "text/html": [
       "<div>\n",
       "<style scoped>\n",
       "    .dataframe tbody tr th:only-of-type {\n",
       "        vertical-align: middle;\n",
       "    }\n",
       "\n",
       "    .dataframe tbody tr th {\n",
       "        vertical-align: top;\n",
       "    }\n",
       "\n",
       "    .dataframe thead th {\n",
       "        text-align: right;\n",
       "    }\n",
       "</style>\n",
       "<table border=\"1\" class=\"dataframe\">\n",
       "  <thead>\n",
       "    <tr style=\"text-align: right;\">\n",
       "      <th></th>\n",
       "      <th>children</th>\n",
       "      <th>days_employed</th>\n",
       "      <th>dob_years</th>\n",
       "      <th>education</th>\n",
       "      <th>education_id</th>\n",
       "      <th>family_status</th>\n",
       "      <th>family_status_id</th>\n",
       "      <th>gender</th>\n",
       "      <th>income_type</th>\n",
       "      <th>debt</th>\n",
       "      <th>total_income</th>\n",
       "      <th>purpose</th>\n",
       "    </tr>\n",
       "  </thead>\n",
       "  <tbody>\n",
       "    <tr>\n",
       "      <td>0</td>\n",
       "      <td>1</td>\n",
       "      <td>-8437.673028</td>\n",
       "      <td>42</td>\n",
       "      <td>высшее</td>\n",
       "      <td>0</td>\n",
       "      <td>женат / замужем</td>\n",
       "      <td>0</td>\n",
       "      <td>F</td>\n",
       "      <td>сотрудник</td>\n",
       "      <td>0</td>\n",
       "      <td>253875.639453</td>\n",
       "      <td>покупка жилья</td>\n",
       "    </tr>\n",
       "    <tr>\n",
       "      <td>1</td>\n",
       "      <td>1</td>\n",
       "      <td>-4024.803754</td>\n",
       "      <td>36</td>\n",
       "      <td>среднее</td>\n",
       "      <td>1</td>\n",
       "      <td>женат / замужем</td>\n",
       "      <td>0</td>\n",
       "      <td>F</td>\n",
       "      <td>сотрудник</td>\n",
       "      <td>0</td>\n",
       "      <td>112080.014102</td>\n",
       "      <td>приобретение автомобиля</td>\n",
       "    </tr>\n",
       "    <tr>\n",
       "      <td>2</td>\n",
       "      <td>0</td>\n",
       "      <td>-5623.422610</td>\n",
       "      <td>33</td>\n",
       "      <td>Среднее</td>\n",
       "      <td>1</td>\n",
       "      <td>женат / замужем</td>\n",
       "      <td>0</td>\n",
       "      <td>M</td>\n",
       "      <td>сотрудник</td>\n",
       "      <td>0</td>\n",
       "      <td>145885.952297</td>\n",
       "      <td>покупка жилья</td>\n",
       "    </tr>\n",
       "    <tr>\n",
       "      <td>3</td>\n",
       "      <td>3</td>\n",
       "      <td>-4124.747207</td>\n",
       "      <td>32</td>\n",
       "      <td>среднее</td>\n",
       "      <td>1</td>\n",
       "      <td>женат / замужем</td>\n",
       "      <td>0</td>\n",
       "      <td>M</td>\n",
       "      <td>сотрудник</td>\n",
       "      <td>0</td>\n",
       "      <td>267628.550329</td>\n",
       "      <td>дополнительное образование</td>\n",
       "    </tr>\n",
       "    <tr>\n",
       "      <td>4</td>\n",
       "      <td>0</td>\n",
       "      <td>340266.072047</td>\n",
       "      <td>53</td>\n",
       "      <td>среднее</td>\n",
       "      <td>1</td>\n",
       "      <td>гражданский брак</td>\n",
       "      <td>1</td>\n",
       "      <td>F</td>\n",
       "      <td>пенсионер</td>\n",
       "      <td>0</td>\n",
       "      <td>158616.077870</td>\n",
       "      <td>сыграть свадьбу</td>\n",
       "    </tr>\n",
       "  </tbody>\n",
       "</table>\n",
       "</div>"
      ],
      "text/plain": [
       "   children  days_employed  dob_years education  education_id  \\\n",
       "0         1   -8437.673028         42    высшее             0   \n",
       "1         1   -4024.803754         36   среднее             1   \n",
       "2         0   -5623.422610         33   Среднее             1   \n",
       "3         3   -4124.747207         32   среднее             1   \n",
       "4         0  340266.072047         53   среднее             1   \n",
       "\n",
       "      family_status  family_status_id gender income_type  debt   total_income  \\\n",
       "0   женат / замужем                 0      F   сотрудник     0  253875.639453   \n",
       "1   женат / замужем                 0      F   сотрудник     0  112080.014102   \n",
       "2   женат / замужем                 0      M   сотрудник     0  145885.952297   \n",
       "3   женат / замужем                 0      M   сотрудник     0  267628.550329   \n",
       "4  гражданский брак                 1      F   пенсионер     0  158616.077870   \n",
       "\n",
       "                      purpose  \n",
       "0               покупка жилья  \n",
       "1     приобретение автомобиля  \n",
       "2               покупка жилья  \n",
       "3  дополнительное образование  \n",
       "4             сыграть свадьбу  "
      ]
     },
     "execution_count": 2,
     "metadata": {},
     "output_type": "execute_result"
    }
   ],
   "source": [
    "df = pd.read_csv('/datasets/data.csv')     \n",
    "df.head()"
   ]
  },
  {
   "cell_type": "code",
   "execution_count": 3,
   "metadata": {},
   "outputs": [
    {
     "name": "stdout",
     "output_type": "stream",
     "text": [
      "<class 'pandas.core.frame.DataFrame'>\n",
      "RangeIndex: 21525 entries, 0 to 21524\n",
      "Data columns (total 12 columns):\n",
      "children            21525 non-null int64\n",
      "days_employed       19351 non-null float64\n",
      "dob_years           21525 non-null int64\n",
      "education           21525 non-null object\n",
      "education_id        21525 non-null int64\n",
      "family_status       21525 non-null object\n",
      "family_status_id    21525 non-null int64\n",
      "gender              21525 non-null object\n",
      "income_type         21525 non-null object\n",
      "debt                21525 non-null int64\n",
      "total_income        19351 non-null float64\n",
      "purpose             21525 non-null object\n",
      "dtypes: float64(2), int64(5), object(5)\n",
      "memory usage: 2.0+ MB\n"
     ]
    }
   ],
   "source": [
    "df.info()                                   "
   ]
  },
  {
   "cell_type": "code",
   "execution_count": 4,
   "metadata": {},
   "outputs": [],
   "source": [
    "number_rows = len(df)"
   ]
  },
  {
   "cell_type": "markdown",
   "metadata": {},
   "source": [
    "**Промежуточные выводы:**"
   ]
  },
  {
   "cell_type": "markdown",
   "metadata": {},
   "source": [
    "* Данные файла формата csv представлены в требуемой кодировке и не имеют нечитаемых символов <br>\n",
    "* Названия колонок представлены в едином формате и не требуют переименования <br>\n",
    "* В датафрейме 21525 строк и 12 колонок\n",
    "* В колонках <i>days_employed</i> и <i>total_income</i> содержатся пропуски\n",
    "* Типы данных колонок <i>days_employed</i> и <i>total_income</i> требуют преобразования из <i>float64</i> в <i>int64</i> для корректного представления данных\n",
    "* Предварительный анализ датафрейма говорит о некорректном представлении рабочего стажа (присутствует знак '-') и наличии артефактов (например, рабочий стаж заемщика равен 340266 дням, что составляет 932 года). Как следствие, требуется провести предобработку данных.   "
   ]
  },
  {
   "cell_type": "markdown",
   "metadata": {},
   "source": [
    "## Предобработка данных"
   ]
  },
  {
   "cell_type": "markdown",
   "metadata": {},
   "source": [
    "### Обработка пропусков"
   ]
  },
  {
   "cell_type": "markdown",
   "metadata": {},
   "source": [
    "#### Подсчет количества строк с отсутствующими данными"
   ]
  },
  {
   "cell_type": "code",
   "execution_count": 5,
   "metadata": {},
   "outputs": [
    {
     "data": {
      "text/plain": [
       "children               0\n",
       "days_employed       2174\n",
       "dob_years              0\n",
       "education              0\n",
       "education_id           0\n",
       "family_status          0\n",
       "family_status_id       0\n",
       "gender                 0\n",
       "income_type            0\n",
       "debt                   0\n",
       "total_income        2174\n",
       "purpose                0\n",
       "dtype: int64"
      ]
     },
     "execution_count": 5,
     "metadata": {},
     "output_type": "execute_result"
    }
   ],
   "source": [
    "df.isnull().sum()                          "
   ]
  },
  {
   "cell_type": "markdown",
   "metadata": {},
   "source": [
    "#### Подсчет доли пропусков"
   ]
  },
  {
   "cell_type": "code",
   "execution_count": 6,
   "metadata": {},
   "outputs": [
    {
     "data": {
      "text/plain": [
       "children            0.000000\n",
       "days_employed       0.100999\n",
       "dob_years           0.000000\n",
       "education           0.000000\n",
       "education_id        0.000000\n",
       "family_status       0.000000\n",
       "family_status_id    0.000000\n",
       "gender              0.000000\n",
       "income_type         0.000000\n",
       "debt                0.000000\n",
       "total_income        0.100999\n",
       "purpose             0.000000\n",
       "dtype: float64"
      ]
     },
     "execution_count": 6,
     "metadata": {},
     "output_type": "execute_result"
    }
   ],
   "source": [
    "df.isna().mean()"
   ]
  },
  {
   "cell_type": "markdown",
   "metadata": {},
   "source": [
    "Процент пропущенных данные о стаже работы и ежемесячном доходе составляет 10.1% от общей выборки. Удаление строк с пропущенными данными может привести к серьезному искажению результатов."
   ]
  },
  {
   "cell_type": "markdown",
   "metadata": {},
   "source": [
    "### Обработка некорректных значений"
   ]
  },
  {
   "cell_type": "markdown",
   "metadata": {},
   "source": [
    "#### Проверка данных о численности детей на наличие некорректных значений"
   ]
  },
  {
   "cell_type": "code",
   "execution_count": 7,
   "metadata": {},
   "outputs": [
    {
     "data": {
      "text/plain": [
       " 0     14149\n",
       " 1      4818\n",
       " 2      2055\n",
       " 3       330\n",
       " 20       76\n",
       "-1        47\n",
       " 4        41\n",
       " 5         9\n",
       "Name: children, dtype: int64"
      ]
     },
     "execution_count": 7,
     "metadata": {},
     "output_type": "execute_result"
    }
   ],
   "source": [
    "df['children'].value_counts()"
   ]
  },
  {
   "cell_type": "code",
   "execution_count": 8,
   "metadata": {},
   "outputs": [
    {
     "name": "stdout",
     "output_type": "stream",
     "text": [
      "Количество ошибочных данных о численности детей: 123 , составляющих 0.57% от общей выборки\n"
     ]
    }
   ],
   "source": [
    "negative_values_kids = df.loc[df.loc[:, 'children'] < 0]['children'].count()\n",
    "suspicious_values_kids = df.loc[df.loc[:, 'children'] > 15]['children'].count()\n",
    "total_wrong_values_kids = negative_values_kids + suspicious_values_kids\n",
    "print('Количество ошибочных данных о численности детей:', total_wrong_values_kids,\n",
    "      ', составляющих {:.2%} от общей выборки'.format(total_wrong_values_kids/number_rows))"
   ]
  },
  {
   "cell_type": "markdown",
   "metadata": {},
   "source": [
    "Общее число некорректных данных по численности детей не оказывает значительного влияния в случае удаления ошибочных строк. \n",
    "\n",
    "Тем не менее, с использованием функции *children chheck* отрицательные значения возраста детей были преобразованы в положительные, после чего была проведена дополнительная проверка на наличие в списке более 15-ти детей (число выбрано из-за возможности присутствия данных о многодетных семьях). В случае превышения этого лимита, используется алгоритм удаления строк с ошибочными данными.   "
   ]
  },
  {
   "cell_type": "code",
   "execution_count": 9,
   "metadata": {},
   "outputs": [],
   "source": [
    "def children_check(number):\n",
    "\n",
    "    \"\"\"\n",
    "    Функция выполняет универсальную проверку на наличие отрицательных и возможных некорректных\n",
    "    значений в численности детей.\n",
    "    \"\"\"\n",
    "    \n",
    "    if number < 0:\n",
    "        return (number / -1)\n",
    "        if number > 15:\n",
    "            return 'mistake'\n",
    "    if number >= 0 and number < 15:\n",
    "        return number\n",
    "    if number > 15:\n",
    "        return 'mistake'\n",
    "df['children'] = df['children'].apply(children_check)\n",
    "\n",
    "df.drop(df[df.children == 'mistake'].index, inplace = True)"
   ]
  },
  {
   "cell_type": "code",
   "execution_count": 10,
   "metadata": {},
   "outputs": [
    {
     "data": {
      "text/plain": [
       "0    14149\n",
       "1     4865\n",
       "2     2055\n",
       "3      330\n",
       "4       41\n",
       "5        9\n",
       "Name: children, dtype: int64"
      ]
     },
     "execution_count": 10,
     "metadata": {},
     "output_type": "execute_result"
    }
   ],
   "source": [
    "# проверка правильности обновленных данных по количеству детей\n",
    "df['children'] = df['children'].astype(int)\n",
    "df['children'].value_counts()"
   ]
  },
  {
   "cell_type": "markdown",
   "metadata": {},
   "source": [
    "#### Проверка данных о возрасте заявителей на наличие некорректных значений"
   ]
  },
  {
   "cell_type": "code",
   "execution_count": 11,
   "metadata": {},
   "outputs": [
    {
     "data": {
      "text/plain": [
       "0     100\n",
       "68     99\n",
       "69     84\n",
       "70     65\n",
       "71     58\n",
       "20     51\n",
       "72     33\n",
       "19     14\n",
       "73      8\n",
       "74      6\n",
       "75      1\n",
       "Name: dob_years, dtype: int64"
      ]
     },
     "execution_count": 11,
     "metadata": {},
     "output_type": "execute_result"
    }
   ],
   "source": [
    "df['dob_years'].value_counts().tail(11)"
   ]
  },
  {
   "cell_type": "markdown",
   "metadata": {},
   "source": [
    "Проверка уникальных данных о возрасте показала, что у 100 заемщиков в качестве возраста указано значение 0, что можно рассматривать либо как нежелание указывать свой возраст или как ошибку заполнения."
   ]
  },
  {
   "cell_type": "markdown",
   "metadata": {},
   "source": [
    "#### Проверка данных о стаже работе заявителей на наличие некорректных значений"
   ]
  },
  {
   "cell_type": "code",
   "execution_count": 12,
   "metadata": {},
   "outputs": [],
   "source": [
    "# Вычисление абсолютных значений для столбца days_employed\n",
    "df['days_employed'] = df['days_employed'].abs()"
   ]
  },
  {
   "cell_type": "code",
   "execution_count": 13,
   "metadata": {},
   "outputs": [],
   "source": [
    "# Выявление артефактов в данных о стаже работы\n",
    "df['years_employed_check'] = (df['dob_years'] - START_JOB_AGE) - (df['days_employed']/DAYS_PER_YEAR)"
   ]
  },
  {
   "cell_type": "code",
   "execution_count": 14,
   "metadata": {},
   "outputs": [],
   "source": [
    "# выявление отрицательных значений, указывающих на артефакты\n",
    "artefacts_count = df.loc[df.loc[:, 'years_employed_check'] < 0]['years_employed_check'].count()"
   ]
  },
  {
   "cell_type": "code",
   "execution_count": 15,
   "metadata": {},
   "outputs": [
    {
     "name": "stdout",
     "output_type": "stream",
     "text": [
      "Количество ошибочных данных о стаже работы: 3527 , составляющих 16.4% от общей выборки\n"
     ]
    }
   ],
   "source": [
    "print('Количество ошибочных данных о стаже работы:', artefacts_count,\n",
    "      ', составляющих {:.1%} от общей выборки'.format(artefacts_count/number_rows))"
   ]
  },
  {
   "cell_type": "markdown",
   "metadata": {},
   "source": [
    "К артефактам были отнесены значения стажа работы (в годах), превышающие возраст клиента за минусом 14 лет (выбранный минимальный возраст для заключения трудового договора)."
   ]
  },
  {
   "cell_type": "markdown",
   "metadata": {},
   "source": [
    "**Промежуточные выводы:**"
   ]
  },
  {
   "cell_type": "markdown",
   "metadata": {},
   "source": [
    "* Количество пропусков (стаж работы и ежемесячный доход) и количество ошибочных данных о стаже работы в выборке составляет 10,1% и 16.4% соответственно.\n",
    "* Проверка уникальных данных о возрасте показала, что у 101 заемщика в качестве возраста указано значение 0, что можно рассматривать либо как нежелание указывать свой возраст или как ошибку заполнения.\n",
    "* Возможным вариантом дальнейшей предобработки таблицы является либо удаление из таблицы артефактов, касающихся стажа работы из-за невозможности достоверно установить точные значения, либо при их сохранении (для увеличения данных выборки) исключить фактор стажа работы из анализа. При выполнении проекта был выбран второй вариант, т.к. он в большей степени соответствует поставленному заданию."
   ]
  },
  {
   "cell_type": "markdown",
   "metadata": {},
   "source": [
    "### Замена пропусков и типа данных"
   ]
  },
  {
   "cell_type": "markdown",
   "metadata": {},
   "source": [
    "Общее число пропущенных значений ежемесячного дохода (2174) составляет значительную часть от общей выборки. С целью сохранения большего числа данных для анализа, пропуски были заменены на медианное значение, полученное из имеющихся данных о доходах."
   ]
  },
  {
   "cell_type": "code",
   "execution_count": 16,
   "metadata": {},
   "outputs": [
    {
     "name": "stdout",
     "output_type": "stream",
     "text": [
      "Медианное значение ежемесячного дохода составляет: 145020.80127962783\n"
     ]
    }
   ],
   "source": [
    "total_income_median = df['total_income'].median()\n",
    "print('Медианное значение ежемесячного дохода составляет:', total_income_median)\n",
    "df['total_income'] = df['total_income'].fillna(total_income_median)"
   ]
  },
  {
   "cell_type": "markdown",
   "metadata": {},
   "source": [
    "Пропущенные значения о стаже работы были оставлены в выборке, т.к. данные этой колонки не используются в анализе по условиям проекта. Их удаление привело бы к значительному уменьшению данных для анализа по другим показателям. "
   ]
  },
  {
   "cell_type": "markdown",
   "metadata": {},
   "source": [
    "Данные о ежемесячном доходе и стаже работы* требуется преобразовать в целочисленный тип данных. Это позволяет представить их в более наглядной форме. Так как исходный тип данных был float64 (числа с плавающей точкой), то использовался метод astype( ), в отличие от to_numeric(), который используется для преобразования из строкового типа (object / str) в числовой (float).\n",
    "\n",
    "*- преобразование не проводилось из-за намеренного сохранения NaN в этой колонке"
   ]
  },
  {
   "cell_type": "code",
   "execution_count": 17,
   "metadata": {},
   "outputs": [],
   "source": [
    "df['total_income'] = df['total_income'].astype('int')"
   ]
  },
  {
   "cell_type": "markdown",
   "metadata": {},
   "source": [
    "### Обработка дубликатов"
   ]
  },
  {
   "cell_type": "markdown",
   "metadata": {},
   "source": [
    "На первоначальном этапе оцениваем содержит ли датафрейм дубликаты и к какому типу они относятся."
   ]
  },
  {
   "cell_type": "markdown",
   "metadata": {},
   "source": [
    "#### Выявление и обработка дубликатов в сведениях об образовании"
   ]
  },
  {
   "cell_type": "markdown",
   "metadata": {},
   "source": [
    "Выявим уникальные значения для столбцов с текстовыми данными и проведем подсчет с какой частотой они встречаются:"
   ]
  },
  {
   "cell_type": "code",
   "execution_count": 18,
   "metadata": {},
   "outputs": [
    {
     "data": {
      "text/plain": [
       "среднее                13698\n",
       "высшее                  4706\n",
       "СРЕДНЕЕ                  770\n",
       "Среднее                  705\n",
       "неоконченное высшее      666\n",
       "ВЫСШЕЕ                   272\n",
       "Высшее                   268\n",
       "начальное                250\n",
       "Неоконченное высшее       47\n",
       "НЕОКОНЧЕННОЕ ВЫСШЕЕ       29\n",
       "НАЧАЛЬНОЕ                 17\n",
       "Начальное                 15\n",
       "ученая степень             4\n",
       "Ученая степень             1\n",
       "УЧЕНАЯ СТЕПЕНЬ             1\n",
       "Name: education, dtype: int64"
      ]
     },
     "execution_count": 18,
     "metadata": {},
     "output_type": "execute_result"
    }
   ],
   "source": [
    "df['education'].value_counts()"
   ]
  },
  {
   "cell_type": "markdown",
   "metadata": {},
   "source": [
    "Данные столбца 'образование' содержат дубликаты, возникшие из-за использования смешанного регистра. Приводим данные столбца 'образование' к нижнему регистру, что позволит исключить дубликаты:"
   ]
  },
  {
   "cell_type": "code",
   "execution_count": 19,
   "metadata": {},
   "outputs": [
    {
     "data": {
      "text/plain": [
       "среднее                15173\n",
       "высшее                  5246\n",
       "неоконченное высшее      742\n",
       "начальное                282\n",
       "ученая степень             6\n",
       "Name: education, dtype: int64"
      ]
     },
     "execution_count": 19,
     "metadata": {},
     "output_type": "execute_result"
    }
   ],
   "source": [
    "df['education'] = df['education'].str.lower()\n",
    "df['education'].value_counts()"
   ]
  },
  {
   "cell_type": "code",
   "execution_count": 20,
   "metadata": {},
   "outputs": [
    {
     "name": "stdout",
     "output_type": "stream",
     "text": [
      "Количество дубликатов в данных: 71\n"
     ]
    }
   ],
   "source": [
    "duplicates_amount = df.duplicated().sum()\n",
    "print('Количество дубликатов в данных:', duplicates_amount)"
   ]
  },
  {
   "cell_type": "markdown",
   "metadata": {},
   "source": [
    "Удалим одинаковые строки, встречающиеся в датафрейме:"
   ]
  },
  {
   "cell_type": "code",
   "execution_count": 21,
   "metadata": {},
   "outputs": [],
   "source": [
    "df = df.drop_duplicates()"
   ]
  },
  {
   "cell_type": "code",
   "execution_count": 22,
   "metadata": {},
   "outputs": [
    {
     "name": "stdout",
     "output_type": "stream",
     "text": [
      "Количество строк в датафрейме после удаления дубликатов: 21378\n"
     ]
    }
   ],
   "source": [
    "number_rows_new = len(df)\n",
    "print('Количество строк в датафрейме после удаления дубликатов:', number_rows_new)"
   ]
  },
  {
   "cell_type": "markdown",
   "metadata": {},
   "source": [
    "#### Выявление и обработка дубликатов в сведениях о семейном положении"
   ]
  },
  {
   "cell_type": "markdown",
   "metadata": {},
   "source": [
    "Определение уникальных значений:"
   ]
  },
  {
   "cell_type": "code",
   "execution_count": 23,
   "metadata": {},
   "outputs": [
    {
     "data": {
      "text/plain": [
       "array(['женат / замужем', 'гражданский брак', 'вдовец / вдова',\n",
       "       'в разводе', 'Не женат / не замужем'], dtype=object)"
      ]
     },
     "execution_count": 23,
     "metadata": {},
     "output_type": "execute_result"
    }
   ],
   "source": [
    "df['family_status'].unique()"
   ]
  },
  {
   "cell_type": "markdown",
   "metadata": {},
   "source": [
    "Сведения о семейном положении заемщика не содержат дубликатов, но рекомендуется привести их к нижнему регистру."
   ]
  },
  {
   "cell_type": "code",
   "execution_count": 24,
   "metadata": {},
   "outputs": [
    {
     "data": {
      "text/plain": [
       "женат / замужем          0.574890\n",
       "гражданский брак         0.193610\n",
       "не женат / не замужем    0.131023\n",
       "в разводе                0.055805\n",
       "вдовец / вдова           0.044672\n",
       "Name: family_status, dtype: float64"
      ]
     },
     "execution_count": 24,
     "metadata": {},
     "output_type": "execute_result"
    }
   ],
   "source": [
    "df['family_status'] = df['family_status'].str.lower()\n",
    "df['family_status'].value_counts(normalize = True)"
   ]
  },
  {
   "cell_type": "markdown",
   "metadata": {},
   "source": [
    "#### Выявление дубликатов в сведениях о поле клиента"
   ]
  },
  {
   "cell_type": "code",
   "execution_count": 25,
   "metadata": {},
   "outputs": [
    {
     "data": {
      "text/plain": [
       "array(['F', 'M', 'XNA'], dtype=object)"
      ]
     },
     "execution_count": 25,
     "metadata": {},
     "output_type": "execute_result"
    }
   ],
   "source": [
    "df['gender'].unique()"
   ]
  },
  {
   "cell_type": "code",
   "execution_count": 26,
   "metadata": {},
   "outputs": [],
   "source": [
    "# Удаление неинформативных данных о поле клиента\n",
    "df.drop(df[df.gender == 'XNA'].index, inplace=True)"
   ]
  },
  {
   "cell_type": "markdown",
   "metadata": {},
   "source": [
    "Сведения о поле клиента не содержат дубликатов."
   ]
  },
  {
   "cell_type": "markdown",
   "metadata": {},
   "source": [
    "#### Выявление дубликатов в сведениях о типе занятости"
   ]
  },
  {
   "cell_type": "code",
   "execution_count": 27,
   "metadata": {},
   "outputs": [
    {
     "data": {
      "text/plain": [
       "array(['сотрудник', 'пенсионер', 'компаньон', 'госслужащий',\n",
       "       'безработный', 'предприниматель', 'студент', 'в декрете'],\n",
       "      dtype=object)"
      ]
     },
     "execution_count": 27,
     "metadata": {},
     "output_type": "execute_result"
    }
   ],
   "source": [
    "df['income_type'].unique()"
   ]
  },
  {
   "cell_type": "markdown",
   "metadata": {},
   "source": [
    "Сведения о типе занятости не содержат дубликатов."
   ]
  },
  {
   "cell_type": "markdown",
   "metadata": {},
   "source": [
    "#### Выявление дубликатов в сведениях о цели получения кредита"
   ]
  },
  {
   "cell_type": "code",
   "execution_count": 28,
   "metadata": {},
   "outputs": [
    {
     "data": {
      "text/plain": [
       "array(['покупка жилья', 'приобретение автомобиля',\n",
       "       'дополнительное образование', 'сыграть свадьбу',\n",
       "       'операции с жильем', 'образование', 'на проведение свадьбы',\n",
       "       'покупка жилья для семьи', 'покупка недвижимости',\n",
       "       'покупка коммерческой недвижимости', 'покупка жилой недвижимости',\n",
       "       'строительство собственной недвижимости', 'недвижимость',\n",
       "       'строительство недвижимости', 'на покупку подержанного автомобиля',\n",
       "       'на покупку своего автомобиля',\n",
       "       'операции с коммерческой недвижимостью',\n",
       "       'строительство жилой недвижимости', 'жилье',\n",
       "       'операции со своей недвижимостью', 'автомобили',\n",
       "       'заняться образованием', 'сделка с подержанным автомобилем',\n",
       "       'получение образования', 'автомобиль', 'свадьба',\n",
       "       'получение дополнительного образования', 'покупка своего жилья',\n",
       "       'операции с недвижимостью', 'получение высшего образования',\n",
       "       'свой автомобиль', 'сделка с автомобилем',\n",
       "       'профильное образование', 'высшее образование',\n",
       "       'покупка жилья для сдачи', 'на покупку автомобиля', 'ремонт жилью',\n",
       "       'заняться высшим образованием'], dtype=object)"
      ]
     },
     "execution_count": 28,
     "metadata": {},
     "output_type": "execute_result"
    }
   ],
   "source": [
    "df['purpose'].unique()"
   ]
  },
  {
   "cell_type": "markdown",
   "metadata": {},
   "source": [
    "Сведения о типе занятости содержат дублирующую информацию, вызванную использованием слов (словосочетаний) в разных формах.<br>\n",
    "Рекомендуется использовать методы стемминга и/или лемматизации для работы с такого рода дубликатами."
   ]
  },
  {
   "cell_type": "markdown",
   "metadata": {},
   "source": [
    "**Промежуточные выводы:**"
   ]
  },
  {
   "cell_type": "markdown",
   "metadata": {},
   "source": [
    "* Данные содержат дубликаты двух типов: идентичная информация, отличающаяся регистром, и данные, представленные использованием слов (словосочетаний) в разных формах.\n",
    "* Дубликаты первого типа были обработаны методом str.lower(), позволяющим привести их к нижнему регистру, тем самым исключив дублирующие значения.\n",
    "* Дубликаты второго типа требуется исключить методом лемматизации, путем автоматического приведения слова к его словарной форме."
   ]
  },
  {
   "cell_type": "markdown",
   "metadata": {},
   "source": [
    "### Лемматизация"
   ]
  },
  {
   "cell_type": "markdown",
   "metadata": {},
   "source": [
    "Для поиска дубликатов в указанных заявителями целями на получение кредита проводим лемматизацию с использованием библиотеки с функцией лемматизации на русском языке — pymystem3, разработаной в Яндексе:"
   ]
  },
  {
   "cell_type": "code",
   "execution_count": 29,
   "metadata": {},
   "outputs": [],
   "source": [
    "m = Mystem()\n",
    "df['purpose']=df['purpose'].apply(m.lemmatize)"
   ]
  },
  {
   "cell_type": "code",
   "execution_count": 30,
   "metadata": {},
   "outputs": [
    {
     "name": "stdout",
     "output_type": "stream",
     "text": [
      "[автомобиль, \\n]                                          970\n",
      "[свадьба, \\n]                                             790\n",
      "[на,  , проведение,  , свадьба, \\n]                       764\n",
      "[сыграть,  , свадьба, \\n]                                 761\n",
      "[операция,  , с,  , недвижимость, \\n]                     674\n",
      "[покупка,  , коммерческий,  , недвижимость, \\n]           658\n",
      "[покупка,  , жилье,  , для,  , сдача, \\n]                 650\n",
      "[операция,  , с,  , жилье, \\n]                            648\n",
      "[операция,  , с,  , коммерческий,  , недвижимость, \\n]    646\n",
      "[покупка,  , жилье, \\n]                                   643\n",
      "[жилье, \\n]                                               642\n",
      "[покупка,  , жилье,  , для,  , семья, \\n]                 637\n",
      "[недвижимость, \\n]                                        632\n",
      "[строительство,  , собственный,  , недвижимость, \\n]      629\n",
      "[операция,  , со,  , свой,  , недвижимость, \\n]           626\n",
      "[строительство,  , жилой,  , недвижимость, \\n]            623\n",
      "[покупка,  , свой,  , жилье, \\n]                          620\n",
      "[строительство,  , недвижимость, \\n]                      619\n",
      "[покупка,  , недвижимость, \\n]                            618\n",
      "[ремонт,  , жилье, \\n]                                    605\n",
      "[покупка,  , жилой,  , недвижимость, \\n]                  604\n",
      "[на,  , покупка,  , свой,  , автомобиль, \\n]              505\n",
      "[заниматься,  , высокий,  , образование, \\n]              496\n",
      "[сделка,  , с,  , подержанный,  , автомобиль, \\n]         482\n",
      "[свой,  , автомобиль, \\n]                                 475\n",
      "[на,  , покупка,  , подержать,  , автомобиль, \\n]         472\n",
      "[на,  , покупка,  , автомобиль, \\n]                       470\n",
      "[приобретение,  , автомобиль, \\n]                         461\n",
      "[дополнительный,  , образование, \\n]                      457\n",
      "[сделка,  , с,  , автомобиль, \\n]                         455\n",
      "[высокий,  , образование, \\n]                             447\n",
      "[получение,  , дополнительный,  , образование, \\n]        445\n",
      "[образование, \\n]                                         445\n",
      "[получение,  , образование, \\n]                           441\n",
      "[профильный,  , образование, \\n]                          434\n",
      "[получение,  , высокий,  , образование, \\n]               425\n",
      "[заниматься,  , образование, \\n]                          408\n",
      "Name: purpose, dtype: int64\n"
     ]
    }
   ],
   "source": [
    "print(df['purpose'].value_counts())"
   ]
  },
  {
   "cell_type": "code",
   "execution_count": 31,
   "metadata": {},
   "outputs": [],
   "source": [
    "lemma = df['purpose'].sum()"
   ]
  },
  {
   "cell_type": "code",
   "execution_count": 32,
   "metadata": {},
   "outputs": [
    {
     "name": "stdout",
     "output_type": "stream",
     "text": [
      "Counter({' ': 33445, '\\n': 21377, 'недвижимость': 6329, 'покупка': 5877, 'жилье': 4445, 'автомобиль': 4290, 'образование': 3998, 'с': 2905, 'операция': 2594, 'свадьба': 2315, 'свой': 2226, 'на': 2211, 'строительство': 1871, 'высокий': 1368, 'получение': 1311, 'коммерческий': 1304, 'для': 1287, 'жилой': 1227, 'сделка': 937, 'заниматься': 904, 'дополнительный': 902, 'проведение': 764, 'сыграть': 761, 'сдача': 650, 'семья': 637, 'собственный': 629, 'со': 626, 'ремонт': 605, 'подержанный': 482, 'подержать': 472, 'приобретение': 461, 'профильный': 434})\n"
     ]
    }
   ],
   "source": [
    "print(Counter(lemma))"
   ]
  },
  {
   "cell_type": "markdown",
   "metadata": {},
   "source": [
    "Из полученных данных о целях получения кредита можно выделить 5 основных категорий: автомобиль, свадьба, недвижимость, образование, ремонт. Категория недвижимости включает в себя жилую и коммерческую недвижимость, но разделить эти компоненты из имеющихся данных можно только с потерей информации, т.к. в лемматизированных данных отдельно присутствует общая категория \"недвижимость\" без указания точной цели по использованию кредита.  "
   ]
  },
  {
   "cell_type": "markdown",
   "metadata": {},
   "source": [
    "### Категоризация данных"
   ]
  },
  {
   "cell_type": "markdown",
   "metadata": {},
   "source": [
    "#### Категоризация данных по цели получения кредита"
   ]
  },
  {
   "cell_type": "markdown",
   "metadata": {},
   "source": [
    "Используя данные о цели кредита после лемматизации, разделим их на выбранные нами категории и определим их частоту:"
   ]
  },
  {
   "cell_type": "code",
   "execution_count": 33,
   "metadata": {},
   "outputs": [],
   "source": [
    "def purpose_condition(purpose):\n",
    "        \n",
    "    \"\"\" Функция категоризирует заемщиков по цели кредита \"\"\"\n",
    "    \n",
    "    if 'ремонт' in purpose:\n",
    "        return 'ремонт'\n",
    "    if  ('недвижимость' in purpose) or ('жилье' in purpose):\n",
    "        return 'недвижимость'\n",
    "    if 'автомобиль' in purpose:\n",
    "        return 'автомобиль'\n",
    "    if 'образование' in purpose:\n",
    "        return 'образование'\n",
    "    if 'свадьба' in purpose:\n",
    "        return 'свадьба'"
   ]
  },
  {
   "cell_type": "code",
   "execution_count": 34,
   "metadata": {},
   "outputs": [
    {
     "data": {
      "text/plain": [
       "недвижимость    0.475698\n",
       "автомобиль      0.200683\n",
       "образование     0.187023\n",
       "свадьба         0.108294\n",
       "ремонт          0.028301\n",
       "Name: purpose_category, dtype: float64"
      ]
     },
     "execution_count": 34,
     "metadata": {},
     "output_type": "execute_result"
    }
   ],
   "source": [
    "df['purpose_category'] = df['purpose'].apply(purpose_condition)\n",
    "df['purpose_category'].value_counts(normalize = True)"
   ]
  },
  {
   "cell_type": "markdown",
   "metadata": {},
   "source": [
    "#### Категоризация данных по наличию детей"
   ]
  },
  {
   "cell_type": "markdown",
   "metadata": {},
   "source": [
    "Разделим заемщиков на две категории по наличию и отсутствию детей и выведем численность заемщиков по этому признаку:"
   ]
  },
  {
   "cell_type": "code",
   "execution_count": 35,
   "metadata": {},
   "outputs": [
    {
     "data": {
      "text/plain": [
       "нет детей     0.65912\n",
       "есть дети     0.34088\n",
       "Name: children_category, dtype: float64"
      ]
     },
     "execution_count": 35,
     "metadata": {},
     "output_type": "execute_result"
    }
   ],
   "source": [
    "def children_condition(number):\n",
    "    \n",
    "    \"\"\" Функция категоризирует заемщиков по наличию детей \"\"\"\n",
    "     \n",
    "    if number > 0:\n",
    "        return 'есть дети '\n",
    "    return 'нет детей'\n",
    "\n",
    "df['children_category'] = df['children'].apply(children_condition)\n",
    "\n",
    "df['children_category'].value_counts(normalize = True)"
   ]
  },
  {
   "cell_type": "markdown",
   "metadata": {},
   "source": [
    "Дополнительно категоризируем заемщиков на три группы по численности детей. Первая группа не имеет детей, у второй группы - 1-ребенок, у третьей группы есть более одного ребенка: "
   ]
  },
  {
   "cell_type": "code",
   "execution_count": 36,
   "metadata": {},
   "outputs": [],
   "source": [
    "def children_condition2(number):\n",
    "\n",
    "    \"\"\" Функция категоризирует заемщиков по числу детей \"\"\"\n",
    "    \n",
    "    if number == 0:\n",
    "        return 'нет детей'\n",
    "    if number == 1:\n",
    "        return '1 ребенок'\n",
    "    if number > 1:\n",
    "        return '> 1-го ребенка'"
   ]
  },
  {
   "cell_type": "code",
   "execution_count": 37,
   "metadata": {},
   "outputs": [
    {
     "data": {
      "text/plain": [
       "нет детей         0.659120\n",
       "1 ребенок         0.227113\n",
       "> 1-го ребенка    0.113767\n",
       "Name: children_category2, dtype: float64"
      ]
     },
     "execution_count": 37,
     "metadata": {},
     "output_type": "execute_result"
    }
   ],
   "source": [
    "df['children_category2'] = df['children'].apply(children_condition2)\n",
    "df['children_category2'].value_counts(normalize = True)"
   ]
  },
  {
   "cell_type": "markdown",
   "metadata": {},
   "source": [
    "#### Категоризация данных по ежемесячному доходу"
   ]
  },
  {
   "cell_type": "markdown",
   "metadata": {},
   "source": [
    "Определим разброс значений по ежемесячному доходу заеемщиков:"
   ]
  },
  {
   "cell_type": "code",
   "execution_count": 38,
   "metadata": {},
   "outputs": [
    {
     "data": {
      "text/plain": [
       "count    2.137700e+04\n",
       "mean     1.652216e+05\n",
       "std      9.809310e+04\n",
       "min      2.066700e+04\n",
       "25%      1.075230e+05\n",
       "50%      1.450200e+05\n",
       "75%      1.957830e+05\n",
       "max      2.265604e+06\n",
       "Name: total_income, dtype: float64"
      ]
     },
     "execution_count": 38,
     "metadata": {},
     "output_type": "execute_result"
    }
   ],
   "source": [
    "df['total_income'].describe()"
   ]
  },
  {
   "cell_type": "markdown",
   "metadata": {},
   "source": [
    "Определим оптимальное количество интервалов (карманов) по формуле Стерджесса:"
   ]
  },
  {
   "cell_type": "code",
   "execution_count": 39,
   "metadata": {},
   "outputs": [
    {
     "data": {
      "text/plain": [
       "15"
      ]
     },
     "execution_count": 39,
     "metadata": {},
     "output_type": "execute_result"
    }
   ],
   "source": [
    "n = 1 + (3.322 * (math.log10(number_rows_new)))\n",
    "int(n)"
   ]
  },
  {
   "cell_type": "code",
   "execution_count": 40,
   "metadata": {},
   "outputs": [
    {
     "data": {
      "image/png": "[encoded data removed]",
      "text/plain": [
       "<Figure size 432x288 with 1 Axes>"
      ]
     },
     "metadata": {
      "needs_background": "light"
     },
     "output_type": "display_data"
    }
   ],
   "source": [
    "histogram = df['total_income'].hist(bins = 15, log = True, edgecolor='black')\n",
    "\n",
    "title = histogram.set_title('Гистограмма частот распределения ежемесячного дохода заемщиков', pad=20, size=16, weight='bold')\n",
    "x_lable = histogram.set_xlabel('Ежемесячный доход (усл.ед.)', labelpad=20, weight='bold', size=12)\n",
    "y_lable = histogram.set_ylabel('Количество (человек)', labelpad=20, weight='bold', size=12)"
   ]
  },
  {
   "cell_type": "markdown",
   "metadata": {},
   "source": [
    "Ось Y представлена логарифмической шкалой, которая позволяет отразить на гистограмме количество заемщиков, если оно небольшое."
   ]
  },
  {
   "cell_type": "markdown",
   "metadata": {},
   "source": [
    "В связи с тем, что имеется значительный разброс по ежемесячному доходу с увеличением которого уменьшается выборка, для дальнейшего анализа выделим 5 условных категорий дохода."
   ]
  },
  {
   "cell_type": "code",
   "execution_count": 41,
   "metadata": {},
   "outputs": [
    {
     "data": {
      "text/plain": [
       "(214561.2, 2265604.0]    4276\n",
       "(20666.999, 98522.8]     4276\n",
       "(156436.4, 214561.2]     4275\n",
       "(135423.2, 156436.4]     4275\n",
       "(98522.8, 135423.2]      4275\n",
       "Name: total_income_category, dtype: int64"
      ]
     },
     "execution_count": 41,
     "metadata": {},
     "output_type": "execute_result"
    }
   ],
   "source": [
    "df['total_income_category'] = pd.qcut(df['total_income'], 5)\n",
    "df['total_income_category'].value_counts()"
   ]
  },
  {
   "cell_type": "markdown",
   "metadata": {},
   "source": [
    "В дальнейшем, для удобства будем использовать следующие обозначения категорий ежемесячного дохода (усл.ед.):<br>\n",
    "низкий:         20666.999 - 98661.6 <br>\n",
    "ниже среднего:  98661.6 - 135668.0 <br>\n",
    "средний:        135668.0 - 156177.8 <br>\n",
    "выше среднего:  156177.8 - 214253.4 <br>\n",
    "высокий:        214253.4 - 2265604.0 <br>"
   ]
  },
  {
   "cell_type": "markdown",
   "metadata": {},
   "source": [
    "## Анализ данных"
   ]
  },
  {
   "cell_type": "markdown",
   "metadata": {},
   "source": [
    "### Зависимость между наличием детей и возвратом кредита в срок"
   ]
  },
  {
   "cell_type": "code",
   "execution_count": 42,
   "metadata": {},
   "outputs": [
    {
     "data": {
      "text/html": [
       "<div>\n",
       "<style scoped>\n",
       "    .dataframe tbody tr th:only-of-type {\n",
       "        vertical-align: middle;\n",
       "    }\n",
       "\n",
       "    .dataframe tbody tr th {\n",
       "        vertical-align: top;\n",
       "    }\n",
       "\n",
       "    .dataframe thead th {\n",
       "        text-align: right;\n",
       "    }\n",
       "</style>\n",
       "<table border=\"1\" class=\"dataframe\">\n",
       "  <thead>\n",
       "    <tr style=\"text-align: right;\">\n",
       "      <th></th>\n",
       "      <th>count</th>\n",
       "      <th>sum</th>\n",
       "      <th>debt_fraction</th>\n",
       "    </tr>\n",
       "    <tr>\n",
       "      <th>children_category</th>\n",
       "      <th></th>\n",
       "      <th></th>\n",
       "      <th></th>\n",
       "    </tr>\n",
       "  </thead>\n",
       "  <tbody>\n",
       "    <tr>\n",
       "      <td>есть дети</td>\n",
       "      <td>7287</td>\n",
       "      <td>670</td>\n",
       "      <td>0.092</td>\n",
       "    </tr>\n",
       "    <tr>\n",
       "      <td>нет детей</td>\n",
       "      <td>14090</td>\n",
       "      <td>1063</td>\n",
       "      <td>0.075</td>\n",
       "    </tr>\n",
       "  </tbody>\n",
       "</table>\n",
       "</div>"
      ],
      "text/plain": [
       "                   count   sum  debt_fraction\n",
       "children_category                            \n",
       "есть дети           7287   670          0.092\n",
       "нет детей          14090  1063          0.075"
      ]
     },
     "execution_count": 42,
     "metadata": {},
     "output_type": "execute_result"
    }
   ],
   "source": [
    "pd.set_option('display.float_format', lambda x: '%.3f' % x)\n",
    "df.groupby('children_category')['debt']  \\\n",
    "    .agg(['count','sum', 'mean'])  \\\n",
    "    .sort_values(by = 'mean', ascending = False)  \\\n",
    "    .rename(columns = {'mean': 'debt_fraction'})  \\"
   ]
  },
  {
   "cell_type": "markdown",
   "metadata": {},
   "source": [
    "Из результатов анализа следует, что процент задолженности у заемщиков с детьми составляет около 9,2%. Процент задолженности у заемщиков без детей равен 7,5%. \n",
    "\n",
    "С учетом доверительного интервала в 95% процент задолженности у заемщиков с детьми составляет 9,2 ± 0,6%, \n",
    "без детей - 7,5 ± 0,6%. Вывод о том, что заемщики без детей имеют меньшую задолженность перед банком - верен.  "
   ]
  },
  {
   "cell_type": "code",
   "execution_count": 43,
   "metadata": {},
   "outputs": [
    {
     "data": {
      "text/html": [
       "<div>\n",
       "<style scoped>\n",
       "    .dataframe tbody tr th:only-of-type {\n",
       "        vertical-align: middle;\n",
       "    }\n",
       "\n",
       "    .dataframe tbody tr th {\n",
       "        vertical-align: top;\n",
       "    }\n",
       "\n",
       "    .dataframe thead th {\n",
       "        text-align: right;\n",
       "    }\n",
       "</style>\n",
       "<table border=\"1\" class=\"dataframe\">\n",
       "  <thead>\n",
       "    <tr style=\"text-align: right;\">\n",
       "      <th></th>\n",
       "      <th>count</th>\n",
       "      <th>sum</th>\n",
       "      <th>debt_fraction</th>\n",
       "    </tr>\n",
       "    <tr>\n",
       "      <th>children</th>\n",
       "      <th></th>\n",
       "      <th></th>\n",
       "      <th></th>\n",
       "    </tr>\n",
       "  </thead>\n",
       "  <tbody>\n",
       "    <tr>\n",
       "      <td>4</td>\n",
       "      <td>41</td>\n",
       "      <td>4</td>\n",
       "      <td>0.098</td>\n",
       "    </tr>\n",
       "    <tr>\n",
       "      <td>2</td>\n",
       "      <td>2052</td>\n",
       "      <td>194</td>\n",
       "      <td>0.095</td>\n",
       "    </tr>\n",
       "    <tr>\n",
       "      <td>1</td>\n",
       "      <td>4855</td>\n",
       "      <td>445</td>\n",
       "      <td>0.092</td>\n",
       "    </tr>\n",
       "    <tr>\n",
       "      <td>3</td>\n",
       "      <td>330</td>\n",
       "      <td>27</td>\n",
       "      <td>0.082</td>\n",
       "    </tr>\n",
       "    <tr>\n",
       "      <td>0</td>\n",
       "      <td>14090</td>\n",
       "      <td>1063</td>\n",
       "      <td>0.075</td>\n",
       "    </tr>\n",
       "    <tr>\n",
       "      <td>5</td>\n",
       "      <td>9</td>\n",
       "      <td>0</td>\n",
       "      <td>0.000</td>\n",
       "    </tr>\n",
       "  </tbody>\n",
       "</table>\n",
       "</div>"
      ],
      "text/plain": [
       "          count   sum  debt_fraction\n",
       "children                            \n",
       "4            41     4          0.098\n",
       "2          2052   194          0.095\n",
       "1          4855   445          0.092\n",
       "3           330    27          0.082\n",
       "0         14090  1063          0.075\n",
       "5             9     0          0.000"
      ]
     },
     "execution_count": 43,
     "metadata": {},
     "output_type": "execute_result"
    }
   ],
   "source": [
    "df.groupby('children')['debt']  \\\n",
    "    .agg(['count','sum', 'mean'])  \\\n",
    "    .sort_values(by = 'mean', ascending = False)  \\\n",
    "    .rename(columns = {'mean': 'debt_fraction'})"
   ]
  },
  {
   "cell_type": "markdown",
   "metadata": {},
   "source": [
    "С учетом доверительного интервала в 95%, процент задолженности у заемщиков с: \n",
    "* 1-м ребенком: 9,2 ± 0,6%\n",
    "* 2-я детьми: 9,5 ± 1,2%\n",
    "* 3-я детьми: 8,6 ± 3,0%\n",
    "* 4-я детьми: 13,2 ± 9,3%\n",
    "\n",
    "Полученный результат показывает, что заемщики с 1-2 детьми имеют схожие результаты по задолженности. У заемщиков с 3-4 детьми из-за меньшей выборки увеличивается стандартное отклонение, что не позволяет сделать достоверный вывод о их влиянии на задолженность по сравнению с другими группами. Проведенный тест на критерий хи-квадрат указывает на одинаковое влияние численности детей (>= 1) на задолженность перед банком.\n",
    "\n"
   ]
  },
  {
   "cell_type": "code",
   "execution_count": 44,
   "metadata": {},
   "outputs": [
    {
     "data": {
      "text/html": [
       "<div>\n",
       "<style scoped>\n",
       "    .dataframe tbody tr th:only-of-type {\n",
       "        vertical-align: middle;\n",
       "    }\n",
       "\n",
       "    .dataframe tbody tr th {\n",
       "        vertical-align: top;\n",
       "    }\n",
       "\n",
       "    .dataframe thead th {\n",
       "        text-align: right;\n",
       "    }\n",
       "</style>\n",
       "<table border=\"1\" class=\"dataframe\">\n",
       "  <thead>\n",
       "    <tr style=\"text-align: right;\">\n",
       "      <th></th>\n",
       "      <th>count</th>\n",
       "      <th>sum</th>\n",
       "      <th>debt_fraction</th>\n",
       "    </tr>\n",
       "    <tr>\n",
       "      <th>children_category2</th>\n",
       "      <th></th>\n",
       "      <th></th>\n",
       "      <th></th>\n",
       "    </tr>\n",
       "  </thead>\n",
       "  <tbody>\n",
       "    <tr>\n",
       "      <td>&gt; 1-го ребенка</td>\n",
       "      <td>2432</td>\n",
       "      <td>225</td>\n",
       "      <td>0.093</td>\n",
       "    </tr>\n",
       "    <tr>\n",
       "      <td>1 ребенок</td>\n",
       "      <td>4855</td>\n",
       "      <td>445</td>\n",
       "      <td>0.092</td>\n",
       "    </tr>\n",
       "    <tr>\n",
       "      <td>нет детей</td>\n",
       "      <td>14090</td>\n",
       "      <td>1063</td>\n",
       "      <td>0.075</td>\n",
       "    </tr>\n",
       "  </tbody>\n",
       "</table>\n",
       "</div>"
      ],
      "text/plain": [
       "                    count   sum  debt_fraction\n",
       "children_category2                            \n",
       "> 1-го ребенка       2432   225          0.093\n",
       "1 ребенок            4855   445          0.092\n",
       "нет детей           14090  1063          0.075"
      ]
     },
     "execution_count": 44,
     "metadata": {},
     "output_type": "execute_result"
    }
   ],
   "source": [
    "df.groupby('children_category2')['debt']  \\\n",
    "    .agg(['count','sum', 'mean'])  \\\n",
    "    .sort_values(by = 'mean', ascending = False)  \\\n",
    "    .rename(columns = {'mean': 'debt_fraction'})"
   ]
  },
  {
   "cell_type": "markdown",
   "metadata": {},
   "source": [
    "Данные по численности детей, разделенные на 3 категории указыват на то, что увеличение численности детей в семье (2-ой ребенок и более) незначительно влияет на задолженность по кредиту. Следует отметить, что для окончательного заключения требуется большая выборка по клиентам, имеющим 2-х и более детей. Эта выборка должна быть по объему сопоставима с выборкой для бездетных заемщиков. "
   ]
  },
  {
   "cell_type": "markdown",
   "metadata": {},
   "source": [
    "### Зависимость между семейным положением и возвратом кредита в срок"
   ]
  },
  {
   "cell_type": "code",
   "execution_count": 45,
   "metadata": {},
   "outputs": [
    {
     "data": {
      "text/html": [
       "<div>\n",
       "<style scoped>\n",
       "    .dataframe tbody tr th:only-of-type {\n",
       "        vertical-align: middle;\n",
       "    }\n",
       "\n",
       "    .dataframe tbody tr th {\n",
       "        vertical-align: top;\n",
       "    }\n",
       "\n",
       "    .dataframe thead th {\n",
       "        text-align: right;\n",
       "    }\n",
       "</style>\n",
       "<table border=\"1\" class=\"dataframe\">\n",
       "  <thead>\n",
       "    <tr style=\"text-align: right;\">\n",
       "      <th></th>\n",
       "      <th>count</th>\n",
       "      <th>sum</th>\n",
       "      <th>debt_fraction</th>\n",
       "    </tr>\n",
       "    <tr>\n",
       "      <th>family_status</th>\n",
       "      <th></th>\n",
       "      <th></th>\n",
       "      <th></th>\n",
       "    </tr>\n",
       "  </thead>\n",
       "  <tbody>\n",
       "    <tr>\n",
       "      <td>не женат / не замужем</td>\n",
       "      <td>2801</td>\n",
       "      <td>273</td>\n",
       "      <td>0.097</td>\n",
       "    </tr>\n",
       "    <tr>\n",
       "      <td>гражданский брак</td>\n",
       "      <td>4138</td>\n",
       "      <td>385</td>\n",
       "      <td>0.093</td>\n",
       "    </tr>\n",
       "    <tr>\n",
       "      <td>женат / замужем</td>\n",
       "      <td>12290</td>\n",
       "      <td>928</td>\n",
       "      <td>0.076</td>\n",
       "    </tr>\n",
       "    <tr>\n",
       "      <td>в разводе</td>\n",
       "      <td>1193</td>\n",
       "      <td>84</td>\n",
       "      <td>0.070</td>\n",
       "    </tr>\n",
       "    <tr>\n",
       "      <td>вдовец / вдова</td>\n",
       "      <td>955</td>\n",
       "      <td>63</td>\n",
       "      <td>0.066</td>\n",
       "    </tr>\n",
       "  </tbody>\n",
       "</table>\n",
       "</div>"
      ],
      "text/plain": [
       "                       count  sum  debt_fraction\n",
       "family_status                                   \n",
       "не женат / не замужем   2801  273          0.097\n",
       "гражданский брак        4138  385          0.093\n",
       "женат / замужем        12290  928          0.076\n",
       "в разводе               1193   84          0.070\n",
       "вдовец / вдова           955   63          0.066"
      ]
     },
     "execution_count": 45,
     "metadata": {},
     "output_type": "execute_result"
    }
   ],
   "source": [
    "df.groupby('family_status')['debt']  \\\n",
    "    .agg(['count','sum', 'mean'])  \\\n",
    "    .sort_values(by = 'mean', ascending = False)  \\\n",
    "    .rename(columns = {'mean': 'debt_fraction'})"
   ]
  },
  {
   "cell_type": "markdown",
   "metadata": {},
   "source": [
    "Предварительный анализ показывает, что максимальная задолженность по кредитам наблюдается у неженатых (незамужних) людей - 9,7%, а также у людей, находящихся в гражданском браке - 9,3%."
   ]
  },
  {
   "cell_type": "markdown",
   "metadata": {},
   "source": [
    "### Зависимость между уровнем дохода и возвратом кредита в срок"
   ]
  },
  {
   "cell_type": "code",
   "execution_count": 46,
   "metadata": {},
   "outputs": [
    {
     "data": {
      "text/html": [
       "<div>\n",
       "<style scoped>\n",
       "    .dataframe tbody tr th:only-of-type {\n",
       "        vertical-align: middle;\n",
       "    }\n",
       "\n",
       "    .dataframe tbody tr th {\n",
       "        vertical-align: top;\n",
       "    }\n",
       "\n",
       "    .dataframe thead th {\n",
       "        text-align: right;\n",
       "    }\n",
       "</style>\n",
       "<table border=\"1\" class=\"dataframe\">\n",
       "  <thead>\n",
       "    <tr style=\"text-align: right;\">\n",
       "      <th></th>\n",
       "      <th>count</th>\n",
       "      <th>sum</th>\n",
       "      <th>debt_fraction</th>\n",
       "    </tr>\n",
       "    <tr>\n",
       "      <th>total_income_category</th>\n",
       "      <th></th>\n",
       "      <th></th>\n",
       "      <th></th>\n",
       "    </tr>\n",
       "  </thead>\n",
       "  <tbody>\n",
       "    <tr>\n",
       "      <td>(135423.2, 156436.4]</td>\n",
       "      <td>4275</td>\n",
       "      <td>371</td>\n",
       "      <td>0.087</td>\n",
       "    </tr>\n",
       "    <tr>\n",
       "      <td>(156436.4, 214561.2]</td>\n",
       "      <td>4275</td>\n",
       "      <td>367</td>\n",
       "      <td>0.086</td>\n",
       "    </tr>\n",
       "    <tr>\n",
       "      <td>(98522.8, 135423.2]</td>\n",
       "      <td>4275</td>\n",
       "      <td>352</td>\n",
       "      <td>0.082</td>\n",
       "    </tr>\n",
       "    <tr>\n",
       "      <td>(20666.999, 98522.8]</td>\n",
       "      <td>4276</td>\n",
       "      <td>344</td>\n",
       "      <td>0.080</td>\n",
       "    </tr>\n",
       "    <tr>\n",
       "      <td>(214561.2, 2265604.0]</td>\n",
       "      <td>4276</td>\n",
       "      <td>299</td>\n",
       "      <td>0.070</td>\n",
       "    </tr>\n",
       "  </tbody>\n",
       "</table>\n",
       "</div>"
      ],
      "text/plain": [
       "                       count  sum  debt_fraction\n",
       "total_income_category                           \n",
       "(135423.2, 156436.4]    4275  371          0.087\n",
       "(156436.4, 214561.2]    4275  367          0.086\n",
       "(98522.8, 135423.2]     4275  352          0.082\n",
       "(20666.999, 98522.8]    4276  344          0.080\n",
       "(214561.2, 2265604.0]   4276  299          0.070"
      ]
     },
     "execution_count": 46,
     "metadata": {},
     "output_type": "execute_result"
    }
   ],
   "source": [
    "df.groupby('total_income_category')['debt']  \\\n",
    "    .agg(['count','sum', 'mean'])  \\\n",
    "    .sort_values(by = 'mean', ascending = False)  \\\n",
    "    .rename(columns = {'mean': 'debt_fraction'})"
   ]
  },
  {
   "cell_type": "markdown",
   "metadata": {},
   "source": [
    "Предварительный анализ показывает, что максимальная задолженность по кредитам наблюдается у категорий заемщиков со средним доходом (от 135 до 156 тыс.) и доходом выше среднего (от 156 до 215 тыс.). "
   ]
  },
  {
   "cell_type": "markdown",
   "metadata": {},
   "source": [
    "### Зависимость между целями и возвратом кредита в срок"
   ]
  },
  {
   "cell_type": "code",
   "execution_count": 47,
   "metadata": {
    "scrolled": true
   },
   "outputs": [
    {
     "data": {
      "text/html": [
       "<div>\n",
       "<style scoped>\n",
       "    .dataframe tbody tr th:only-of-type {\n",
       "        vertical-align: middle;\n",
       "    }\n",
       "\n",
       "    .dataframe tbody tr th {\n",
       "        vertical-align: top;\n",
       "    }\n",
       "\n",
       "    .dataframe thead th {\n",
       "        text-align: right;\n",
       "    }\n",
       "</style>\n",
       "<table border=\"1\" class=\"dataframe\">\n",
       "  <thead>\n",
       "    <tr style=\"text-align: right;\">\n",
       "      <th></th>\n",
       "      <th>count</th>\n",
       "      <th>sum</th>\n",
       "      <th>debt_fraction</th>\n",
       "    </tr>\n",
       "    <tr>\n",
       "      <th>purpose_category</th>\n",
       "      <th></th>\n",
       "      <th></th>\n",
       "      <th></th>\n",
       "    </tr>\n",
       "  </thead>\n",
       "  <tbody>\n",
       "    <tr>\n",
       "      <td>автомобиль</td>\n",
       "      <td>4290</td>\n",
       "      <td>401</td>\n",
       "      <td>0.093</td>\n",
       "    </tr>\n",
       "    <tr>\n",
       "      <td>образование</td>\n",
       "      <td>3998</td>\n",
       "      <td>369</td>\n",
       "      <td>0.092</td>\n",
       "    </tr>\n",
       "    <tr>\n",
       "      <td>свадьба</td>\n",
       "      <td>2315</td>\n",
       "      <td>183</td>\n",
       "      <td>0.079</td>\n",
       "    </tr>\n",
       "    <tr>\n",
       "      <td>недвижимость</td>\n",
       "      <td>10169</td>\n",
       "      <td>745</td>\n",
       "      <td>0.073</td>\n",
       "    </tr>\n",
       "    <tr>\n",
       "      <td>ремонт</td>\n",
       "      <td>605</td>\n",
       "      <td>35</td>\n",
       "      <td>0.058</td>\n",
       "    </tr>\n",
       "  </tbody>\n",
       "</table>\n",
       "</div>"
      ],
      "text/plain": [
       "                  count  sum  debt_fraction\n",
       "purpose_category                           \n",
       "автомобиль         4290  401          0.093\n",
       "образование        3998  369          0.092\n",
       "свадьба            2315  183          0.079\n",
       "недвижимость      10169  745          0.073\n",
       "ремонт              605   35          0.058"
      ]
     },
     "execution_count": 47,
     "metadata": {},
     "output_type": "execute_result"
    }
   ],
   "source": [
    "df.groupby('purpose_category')['debt']  \\\n",
    "    .agg(['count','sum', 'mean'])  \\\n",
    "    .sort_values(by = 'mean', ascending = False)  \\\n",
    "    .rename(columns = {'mean': 'debt_fraction'})"
   ]
  },
  {
   "cell_type": "markdown",
   "metadata": {},
   "source": [
    "Предварительный анализ показывает, что максимальная задолженность по кредитам наблюдается у заемщиков, ставящих целью приобрести автомобиль (9,3%) или оплатить образование (9,2%)."
   ]
  },
  {
   "cell_type": "markdown",
   "metadata": {},
   "source": [
    "### Зависимость между полом клиента и возвратом кредита в срок"
   ]
  },
  {
   "cell_type": "markdown",
   "metadata": {},
   "source": [
    "Определим как влияет пол клиента на задолженность перед банком. В качестве примера для сравнения возьмем следующую категорию заемщика: неженатый мужчина (незамужняя женщина) с разным уровнем ежемесячного дохода."
   ]
  },
  {
   "cell_type": "code",
   "execution_count": 48,
   "metadata": {},
   "outputs": [
    {
     "data": {
      "text/html": [
       "<div>\n",
       "<style scoped>\n",
       "    .dataframe tbody tr th:only-of-type {\n",
       "        vertical-align: middle;\n",
       "    }\n",
       "\n",
       "    .dataframe tbody tr th {\n",
       "        vertical-align: top;\n",
       "    }\n",
       "\n",
       "    .dataframe thead th {\n",
       "        text-align: right;\n",
       "    }\n",
       "</style>\n",
       "<table border=\"1\" class=\"dataframe\">\n",
       "  <thead>\n",
       "    <tr style=\"text-align: right;\">\n",
       "      <th>gender</th>\n",
       "      <th>F</th>\n",
       "      <th>M</th>\n",
       "    </tr>\n",
       "    <tr>\n",
       "      <th>total_income_category</th>\n",
       "      <th></th>\n",
       "      <th></th>\n",
       "    </tr>\n",
       "  </thead>\n",
       "  <tbody>\n",
       "    <tr>\n",
       "      <td>(20666.999, 98522.8]</td>\n",
       "      <td>0.052</td>\n",
       "      <td>0.161</td>\n",
       "    </tr>\n",
       "    <tr>\n",
       "      <td>(98522.8, 135423.2]</td>\n",
       "      <td>0.062</td>\n",
       "      <td>0.145</td>\n",
       "    </tr>\n",
       "    <tr>\n",
       "      <td>(135423.2, 156436.4]</td>\n",
       "      <td>0.087</td>\n",
       "      <td>0.102</td>\n",
       "    </tr>\n",
       "    <tr>\n",
       "      <td>(156436.4, 214561.2]</td>\n",
       "      <td>0.089</td>\n",
       "      <td>0.181</td>\n",
       "    </tr>\n",
       "    <tr>\n",
       "      <td>(214561.2, 2265604.0]</td>\n",
       "      <td>0.054</td>\n",
       "      <td>0.134</td>\n",
       "    </tr>\n",
       "  </tbody>\n",
       "</table>\n",
       "</div>"
      ],
      "text/plain": [
       "gender                    F     M\n",
       "total_income_category            \n",
       "(20666.999, 98522.8]  0.052 0.161\n",
       "(98522.8, 135423.2]   0.062 0.145\n",
       "(135423.2, 156436.4]  0.087 0.102\n",
       "(156436.4, 214561.2]  0.089 0.181\n",
       "(214561.2, 2265604.0] 0.054 0.134"
      ]
     },
     "execution_count": 48,
     "metadata": {},
     "output_type": "execute_result"
    }
   ],
   "source": [
    "data_pivot = df.query('family_status_id == 4') \\\n",
    "    .pivot_table(index=['total_income_category'], columns='gender', values='debt', aggfunc='mean')\n",
    "data_pivot"
   ]
  },
  {
   "cell_type": "markdown",
   "metadata": {},
   "source": [
    "Результаты показывают, что незамужние женщины имеют меньшую задолженность перед банком, чем неженатые мужчины. Это характерно для всех уровней дохода."
   ]
  },
  {
   "cell_type": "markdown",
   "metadata": {},
   "source": [
    "Определим также как влияет образование для выбранной группы клиентов на задолженность по кредиту:"
   ]
  },
  {
   "cell_type": "code",
   "execution_count": 49,
   "metadata": {},
   "outputs": [
    {
     "data": {
      "text/html": [
       "<div>\n",
       "<style scoped>\n",
       "    .dataframe tbody tr th:only-of-type {\n",
       "        vertical-align: middle;\n",
       "    }\n",
       "\n",
       "    .dataframe tbody tr th {\n",
       "        vertical-align: top;\n",
       "    }\n",
       "\n",
       "    .dataframe thead th {\n",
       "        text-align: right;\n",
       "    }\n",
       "</style>\n",
       "<table border=\"1\" class=\"dataframe\">\n",
       "  <thead>\n",
       "    <tr style=\"text-align: right;\">\n",
       "      <th>gender</th>\n",
       "      <th>F</th>\n",
       "      <th>M</th>\n",
       "    </tr>\n",
       "    <tr>\n",
       "      <th>education</th>\n",
       "      <th></th>\n",
       "      <th></th>\n",
       "    </tr>\n",
       "  </thead>\n",
       "  <tbody>\n",
       "    <tr>\n",
       "      <td>высшее</td>\n",
       "      <td>0.036</td>\n",
       "      <td>0.096</td>\n",
       "    </tr>\n",
       "    <tr>\n",
       "      <td>начальное</td>\n",
       "      <td>0.077</td>\n",
       "      <td>0.095</td>\n",
       "    </tr>\n",
       "    <tr>\n",
       "      <td>неоконченное высшее</td>\n",
       "      <td>0.078</td>\n",
       "      <td>0.111</td>\n",
       "    </tr>\n",
       "    <tr>\n",
       "      <td>среднее</td>\n",
       "      <td>0.083</td>\n",
       "      <td>0.170</td>\n",
       "    </tr>\n",
       "    <tr>\n",
       "      <td>ученая степень</td>\n",
       "      <td>nan</td>\n",
       "      <td>0.000</td>\n",
       "    </tr>\n",
       "  </tbody>\n",
       "</table>\n",
       "</div>"
      ],
      "text/plain": [
       "gender                  F     M\n",
       "education                      \n",
       "высшее              0.036 0.096\n",
       "начальное           0.077 0.095\n",
       "неоконченное высшее 0.078 0.111\n",
       "среднее             0.083 0.170\n",
       "ученая степень        nan 0.000"
      ]
     },
     "execution_count": 49,
     "metadata": {},
     "output_type": "execute_result"
    }
   ],
   "source": [
    "data_pivot = df.query('family_status_id == 4') \\\n",
    "    .pivot_table(index=['education'], columns='gender', values='debt', aggfunc='mean')\n",
    "data_pivot"
   ]
  },
  {
   "cell_type": "markdown",
   "metadata": {},
   "source": [
    "Из таблицы видно, что вне зависимости от образования в выбранной категории заемщиков, незамужние женщины имеют меньшую задолженность по кредиту, чем холостые мужчины. В этой категории наименьшую задолженность имеют люди с высшим образованием."
   ]
  },
  {
   "cell_type": "markdown",
   "metadata": {},
   "source": [
    "## Общие выводы"
   ]
  },
  {
   "cell_type": "markdown",
   "metadata": {},
   "source": [
    "Проанализировав полученные данные можно сделать следующие выводы:\n",
    "\n",
    "* **Исходные данные** имеют ряд существенных недостатков, устранение которых на этапе сбора информации может значительно повысить точность дальнейшего анализа. Среди них: пропущенные данные о стаже работы и ежемесячном доходе составляют 10.1% от общей выборки. Кроме того, количество ошибочных данных о стаже работы клиентов составляет 16.4% от первоначальной выборки. В исходной информации присутствуют дубликаты. Несмотря на то, что они были удалены на этапе предварительной обработки данных, рекомендуется предусмотреть в форме ввода данных (а) использование единого нижнего регистра при вводе информации и (б) выпадающего меню для выбора цели кредита.\n",
    "\n",
    "\n",
    "* **Категоризация данных** позволила выделить пять основных целей для использования кредита: недвижимость (46,7%), приобретение автомобиля (20,1%), образование (18,7%), свадьба (10,8%) и ремонт (2,8%). Данные показывают, что у 66% заемщиков нет детей. Были выделены пять категорий заемщиков в зависимости от ежемесячного дохода (в усл.ед.): низкий (20667 - 98662), ниже среднего (98662 - 135669), средний (135668 - 156178), выше среднего (156178 - 214253) и высокий (214253 - 2265604).\n",
    "\n",
    "\n",
    "* **Анализ данных** позволил выявить следующие закономерности:\n",
    "- к наименьшей задолженности в 7,5 % склонны заемщики без детей, в то время как задолженность у клиентов с детьми равна 9,2%. Из полученных данных следует, что количество детей играет незначительную роль в формировании задолженности, но рекомендуется уделить этому вопросу дополнительное внимание после накопления более репрезентативной выборки.\n",
    "- к меньшим долгам по кредитам склонны замужние/женатые заемщики (или находящиеся в разводе, вдовы/вдовцы) - 6,6 - 7,6%. У замужних (женатых) клиентов задолженность составляет 9,7%, а у людей, находящихся в гражданском браке - 9,3%.\n",
    "- заемщики с высоким доходом также имеют меньшую тенденцию к невозврату кредита (7,0%), в то время как люди со средним достатком имеют задолженность равную 8,7%.\n",
    "- к рисковым категориям относятся заемщики, берущие кредиты на автомобиль (процент задолженности - 9,3%) и образование (9,2%). Минимальная задолженность наблюдается у клиентов, берущих кредит на ремонт (5,8%) и недвижимость (7,3%). \n",
    "- предварительный анализ показывает, что незамужние женщины при одинаковом доходе и уровне образования имеют меньшую задолженность перед кредитной организацией, чем неженатые мужчины."
   ]
  }
 ],
 "metadata": {
  "celltoolbar": "Raw Cell Format",
  "kernelspec": {
   "display_name": "Python 3",
   "language": "python",
   "name": "python3"
  },
  "language_info": {
   "codemirror_mode": {
    "name": "ipython",
    "version": 3
   },
   "file_extension": ".py",
   "mimetype": "text/x-python",
   "name": "python",
   "nbconvert_exporter": "python",
   "pygments_lexer": "ipython3",
   "version": "3.8.5"
  },
  "toc": {
   "base_numbering": 1,
   "nav_menu": {
    "height": "550px",
    "width": "628px"
   },
   "number_sections": true,
   "sideBar": true,
   "skip_h1_title": true,
   "title_cell": "Содержание проекта",
   "title_sidebar": "Содержание проекта",
   "toc_cell": true,
   "toc_position": {},
   "toc_section_display": true,
   "toc_window_display": true
  }
 },
 "nbformat": 4,
 "nbformat_minor": 2
}
