{
 "cells": [
  {
   "cell_type": "markdown",
   "metadata": {},
   "source": [
    "# Исследование в области компьютерных игр\n",
    "\n",
    "\n",
    "**Цели и задачи проекта:** проанализировать данные глобального интернет-магазина и выявить закономерности, определяющие успешность компьютерной игры как потенциально популярного продукта.\n",
    "\n",
    "**Входные данные:** выборка данных глобального интернет-магазина (более 16 тыс. уникальных значений) с информацией об игровой платформе; о названии игры, её годе выпуска и жанре; объемам продаж игр по регионам; оценкам критиков/пользователей и возрастном рейтинге.\n",
    "\n",
    "**Обозначения категорий исходных данных:**\n",
    "Исходные данные для проекта содержатся в файле формата csv, обозначения переменных датасета приведены ниже:\n",
    "\n",
    "* *Name* — название игры\n",
    "* *Platform* — платформа\n",
    "* *Year_of_Release* — год выпуска\n",
    "* *Genre* — жанр игры\n",
    "* *NA_sales* — продажи в Северной Америке (миллионы проданных копий)\n",
    "* *EU_sales* — продажи в Европе (миллионы проданных копий)\n",
    "* *JP_sales* — продажи в Японии (миллионы проданных копий)\n",
    "* *Other_sales* — продажи в других странах (миллионы проданных копий)\n",
    "* *Critic_Score* — оценка критиков (максимум 100)\n",
    "* *User_Score* — оценка пользователей (максимум 10)\n",
    "* *Rating* — рейтинг от организации ESRB (англ. Entertainment Software Rating Board). Эта ассоциация определяет рейтинг компьютерных игр и присваивает им подходящую возрастную категорию.\n",
    "\n",
    "**План работы** над проектом включает в себя выполнение следующих шагов:\n",
    "* *Импорт данных и изучение общей информации.* На этом этапе получаем общую информацию об имеющихся у нас в распоряжении данных, их типах, полноте и правильности представления. Оцениваем исходный объем датасета, минимальные и максимальные значения для числовых параметров, выявляем пропуски и дубликаты. \n",
    "* *Подготовка данных.* В этой части работы обращаем пристальное внимание на недостатки исходных данных и их релевантность: анализируем пропуски, оцениваем необходимость обработки пропусков в данных, преобразуем данные в верный тип, проверяем их на присутствие ошибочных значений и обрабатываем дубликаты (если присутствуют) с целью исключения искажений в результатах. Вычисляем суммарные продажи для каждой компьютерной игры по всем регионам.    \n",
    "* *Анализ данных.* Данный этап позволяет определить суммарное количество выпускаемых игр по годам, рассчитать общий объем продаж для каждой игровой платформы, выявить средний срок \"жизни\" платформы и предложить актуальный период для анализа влияния параметров на потенциальную успешность игровой платформы в будущем. В данной части подробно рассматривается влияние отзывов критиков и пользователей на количество продаж, распределение игр по жанрам, \"рисуется портрет\" пользователя в зависимости от популярности платформы и жанра в каждом регионе. В анализе также учитывается влияние возрастного рейтинга на количество продаж. Указанные зависимости отражаются в сводных таблицах и графиках по результатам группировки, подсчету и агрегирования различных данных. Статистический анализ позволяет критически оценить полученные результаты и их достоверность.\n",
    "* *Проверка гипотез.* В этой части работы формулируются гипотезы, позволяющие подтвердить/опровергнуть сходство или различие пользовательских рейтингов для выборочных платформ и жанров. Проводится трактовка вычисленной значимости, проверка равенств дисперсий методами статистики с использованием принципов центральной предельной теоремы.\n",
    "* *Формулирование общего вывода*. На заключительном этапе приводится сумма выводов и рекомендаций по каждой части выполненного проекта. В общем выводе на основе имеющейся выборки мы сделаем прогноз о критериях успешности игрового продукта."
   ]
  },
  {
   "cell_type": "markdown",
   "metadata": {
    "toc": true
   },
   "source": [
    "<h1>Содержание<span class=\"tocSkip\"></span></h1>\n",
    "<div class=\"toc\"><ul class=\"toc-item\"><li><span><a href=\"#Импорт-данных-и-информация-о-датасете\" data-toc-modified-id=\"Импорт-данных-и-информация-о-датасете-1\"><span class=\"toc-item-num\">1&nbsp;&nbsp;</span>Импорт данных и информация о датасете</a></span></li><li><span><a href=\"#Подготовка-данных\" data-toc-modified-id=\"Подготовка-данных-2\"><span class=\"toc-item-num\">2&nbsp;&nbsp;</span>Подготовка данных</a></span></li><li><span><a href=\"#Анализ-данных\" data-toc-modified-id=\"Анализ-данных-3\"><span class=\"toc-item-num\">3&nbsp;&nbsp;</span>Анализ данных</a></span><ul class=\"toc-item\"><li><span><a href=\"#Релизы-игр-в-разные-годы\" data-toc-modified-id=\"Релизы-игр-в-разные-годы-3.1\"><span class=\"toc-item-num\">3.1&nbsp;&nbsp;</span>Релизы игр в разные годы</a></span></li><li><span><a href=\"#Продажи-по-платформам\" data-toc-modified-id=\"Продажи-по-платформам-3.2\"><span class=\"toc-item-num\">3.2&nbsp;&nbsp;</span>Продажи по платформам</a></span></li><li><span><a href=\"#Актуальный-период\" data-toc-modified-id=\"Актуальный-период-3.3\"><span class=\"toc-item-num\">3.3&nbsp;&nbsp;</span>Актуальный период</a></span></li><li><span><a href=\"#Количество-продаж-игр-для-разных-платформ\" data-toc-modified-id=\"Количество-продаж-игр-для-разных-платформ-3.4\"><span class=\"toc-item-num\">3.4&nbsp;&nbsp;</span>Количество продаж игр для разных платформ</a></span><ul class=\"toc-item\"><li><span><a href=\"#Общее-количество-продаж-по-платформам\" data-toc-modified-id=\"Общее-количество-продаж-по-платформам-3.4.1\"><span class=\"toc-item-num\">3.4.1&nbsp;&nbsp;</span>Общее количество продаж по платформам</a></span></li><li><span><a href=\"#Общее-количество-продаж-с-течением-времени\" data-toc-modified-id=\"Общее-количество-продаж-с-течением-времени-3.4.2\"><span class=\"toc-item-num\">3.4.2&nbsp;&nbsp;</span>Общее количество продаж с течением времени</a></span></li><li><span><a href=\"#Размах-продаж-для-различных-платформ\" data-toc-modified-id=\"Размах-продаж-для-различных-платформ-3.4.3\"><span class=\"toc-item-num\">3.4.3&nbsp;&nbsp;</span>Размах продаж для различных платформ</a></span></li><li><span><a href=\"#Влияние-отзывов-на-количество-продаж\" data-toc-modified-id=\"Влияние-отзывов-на-количество-продаж-3.4.4\"><span class=\"toc-item-num\">3.4.4&nbsp;&nbsp;</span>Влияние отзывов на количество продаж</a></span></li><li><span><a href=\"#Влияние-редких-и-выбивающихся-значений-объемов-продаж\" data-toc-modified-id=\"Влияние-редких-и-выбивающихся-значений-объемов-продаж-3.4.5\"><span class=\"toc-item-num\">3.4.5&nbsp;&nbsp;</span>Влияние редких и выбивающихся значений объемов продаж</a></span></li></ul></li><li><span><a href=\"#Распределение-игр-по-жанрам\" data-toc-modified-id=\"Распределение-игр-по-жанрам-3.5\"><span class=\"toc-item-num\">3.5&nbsp;&nbsp;</span>Распределение игр по жанрам</a></span></li></ul></li><li><span><a href=\"#Портрет-пользователя-каждого-региона\" data-toc-modified-id=\"Портрет-пользователя-каждого-региона-4\"><span class=\"toc-item-num\">4&nbsp;&nbsp;</span>Портрет пользователя каждого региона</a></span><ul class=\"toc-item\"><li><span><a href=\"#Популярные-платформы\" data-toc-modified-id=\"Популярные-платформы-4.1\"><span class=\"toc-item-num\">4.1&nbsp;&nbsp;</span>Популярные платформы</a></span></li><li><span><a href=\"#Популярные-жанры\" data-toc-modified-id=\"Популярные-жанры-4.2\"><span class=\"toc-item-num\">4.2&nbsp;&nbsp;</span>Популярные жанры</a></span></li><li><span><a href=\"#Влияние-возрастного-рейтинга\" data-toc-modified-id=\"Влияние-возрастного-рейтинга-4.3\"><span class=\"toc-item-num\">4.3&nbsp;&nbsp;</span>Влияние возрастного рейтинга</a></span></li></ul></li><li><span><a href=\"#Проверка-гипотез-о-равенстве-средних\" data-toc-modified-id=\"Проверка-гипотез-о-равенстве-средних-5\"><span class=\"toc-item-num\">5&nbsp;&nbsp;</span>Проверка гипотез о равенстве средних</a></span><ul class=\"toc-item\"><li><span><a href=\"#Средние-пользовательские-рейтинги-платформ-Xbox-One-и-PC\" data-toc-modified-id=\"Средние-пользовательские-рейтинги-платформ-Xbox-One-и-PC-5.1\"><span class=\"toc-item-num\">5.1&nbsp;&nbsp;</span>Средние пользовательские рейтинги платформ Xbox One и PC</a></span></li><li><span><a href=\"#Средние-пользовательские-рейтинги-жанров-Action-и-Sports\" data-toc-modified-id=\"Средние-пользовательские-рейтинги-жанров-Action-и-Sports-5.2\"><span class=\"toc-item-num\">5.2&nbsp;&nbsp;</span>Средние пользовательские рейтинги жанров Action и Sports</a></span></li></ul></li><li><span><a href=\"#Общие-выводы\" data-toc-modified-id=\"Общие-выводы-6\"><span class=\"toc-item-num\">6&nbsp;&nbsp;</span>Общие выводы</a></span></li></ul></div>"
   ]
  },
  {
   "cell_type": "markdown",
   "metadata": {},
   "source": [
    "## Импорт данных и информация о датасете"
   ]
  },
  {
   "cell_type": "code",
   "execution_count": 1,
   "metadata": {},
   "outputs": [],
   "source": [
    "import pandas as pd\n",
    "import numpy as np\n",
    "import math\n",
    "import matplotlib.pyplot as plt\n",
    "import seaborn as sns\n",
    "from functools import reduce\n",
    "from scipy import stats as st\n",
    "from statsmodels.graphics.gofplots import qqplot"
   ]
  },
  {
   "cell_type": "code",
   "execution_count": 2,
   "metadata": {},
   "outputs": [],
   "source": [
    "df = pd.read_csv('/datasets/games.csv')"
   ]
  },
  {
   "cell_type": "markdown",
   "metadata": {},
   "source": [
    "Предварительно ознакомимся с имеющимся датасетом:"
   ]
  },
  {
   "cell_type": "code",
   "execution_count": 3,
   "metadata": {},
   "outputs": [
    {
     "data": {
      "text/html": [
       "<div>\n",
       "<style scoped>\n",
       "    .dataframe tbody tr th:only-of-type {\n",
       "        vertical-align: middle;\n",
       "    }\n",
       "\n",
       "    .dataframe tbody tr th {\n",
       "        vertical-align: top;\n",
       "    }\n",
       "\n",
       "    .dataframe thead th {\n",
       "        text-align: right;\n",
       "    }\n",
       "</style>\n",
       "<table border=\"1\" class=\"dataframe\">\n",
       "  <thead>\n",
       "    <tr style=\"text-align: right;\">\n",
       "      <th></th>\n",
       "      <th>Name</th>\n",
       "      <th>Platform</th>\n",
       "      <th>Year_of_Release</th>\n",
       "      <th>Genre</th>\n",
       "      <th>NA_sales</th>\n",
       "      <th>EU_sales</th>\n",
       "      <th>JP_sales</th>\n",
       "      <th>Other_sales</th>\n",
       "      <th>Critic_Score</th>\n",
       "      <th>User_Score</th>\n",
       "      <th>Rating</th>\n",
       "    </tr>\n",
       "    <tr>\n",
       "      <th>id</th>\n",
       "      <th></th>\n",
       "      <th></th>\n",
       "      <th></th>\n",
       "      <th></th>\n",
       "      <th></th>\n",
       "      <th></th>\n",
       "      <th></th>\n",
       "      <th></th>\n",
       "      <th></th>\n",
       "      <th></th>\n",
       "      <th></th>\n",
       "    </tr>\n",
       "  </thead>\n",
       "  <tbody>\n",
       "    <tr>\n",
       "      <td>14230</td>\n",
       "      <td>Rakushou! Pachi-Slot Sengen 5: Rio Paradise</td>\n",
       "      <td>PS2</td>\n",
       "      <td>2007.0</td>\n",
       "      <td>Misc</td>\n",
       "      <td>0.00</td>\n",
       "      <td>0.00</td>\n",
       "      <td>0.03</td>\n",
       "      <td>0.00</td>\n",
       "      <td>NaN</td>\n",
       "      <td>NaN</td>\n",
       "      <td>NaN</td>\n",
       "    </tr>\n",
       "    <tr>\n",
       "      <td>14043</td>\n",
       "      <td>Nobunaga's Ambition II</td>\n",
       "      <td>3DS</td>\n",
       "      <td>2015.0</td>\n",
       "      <td>Strategy</td>\n",
       "      <td>0.00</td>\n",
       "      <td>0.00</td>\n",
       "      <td>0.04</td>\n",
       "      <td>0.00</td>\n",
       "      <td>NaN</td>\n",
       "      <td>NaN</td>\n",
       "      <td>NaN</td>\n",
       "    </tr>\n",
       "    <tr>\n",
       "      <td>3158</td>\n",
       "      <td>Up</td>\n",
       "      <td>DS</td>\n",
       "      <td>2009.0</td>\n",
       "      <td>Action</td>\n",
       "      <td>0.30</td>\n",
       "      <td>0.27</td>\n",
       "      <td>0.00</td>\n",
       "      <td>0.07</td>\n",
       "      <td>NaN</td>\n",
       "      <td>tbd</td>\n",
       "      <td>E</td>\n",
       "    </tr>\n",
       "    <tr>\n",
       "      <td>22</td>\n",
       "      <td>Super Mario Bros. 3</td>\n",
       "      <td>NES</td>\n",
       "      <td>1988.0</td>\n",
       "      <td>Platform</td>\n",
       "      <td>9.54</td>\n",
       "      <td>3.44</td>\n",
       "      <td>3.84</td>\n",
       "      <td>0.46</td>\n",
       "      <td>NaN</td>\n",
       "      <td>NaN</td>\n",
       "      <td>NaN</td>\n",
       "    </tr>\n",
       "    <tr>\n",
       "      <td>110</td>\n",
       "      <td>Mario Kart 8</td>\n",
       "      <td>WiiU</td>\n",
       "      <td>2014.0</td>\n",
       "      <td>Racing</td>\n",
       "      <td>3.15</td>\n",
       "      <td>2.15</td>\n",
       "      <td>1.28</td>\n",
       "      <td>0.51</td>\n",
       "      <td>88.0</td>\n",
       "      <td>9.1</td>\n",
       "      <td>E</td>\n",
       "    </tr>\n",
       "    <tr>\n",
       "      <td>1988</td>\n",
       "      <td>ATV: Quad Power Racing</td>\n",
       "      <td>PS</td>\n",
       "      <td>2000.0</td>\n",
       "      <td>Racing</td>\n",
       "      <td>0.58</td>\n",
       "      <td>0.39</td>\n",
       "      <td>0.00</td>\n",
       "      <td>0.07</td>\n",
       "      <td>42.0</td>\n",
       "      <td>tbd</td>\n",
       "      <td>E</td>\n",
       "    </tr>\n",
       "    <tr>\n",
       "      <td>7130</td>\n",
       "      <td>64 de Hakken! Tamagotchi Minna de Tamagotchi W...</td>\n",
       "      <td>N64</td>\n",
       "      <td>1997.0</td>\n",
       "      <td>Misc</td>\n",
       "      <td>0.00</td>\n",
       "      <td>0.00</td>\n",
       "      <td>0.22</td>\n",
       "      <td>0.00</td>\n",
       "      <td>NaN</td>\n",
       "      <td>NaN</td>\n",
       "      <td>NaN</td>\n",
       "    </tr>\n",
       "    <tr>\n",
       "      <td>8849</td>\n",
       "      <td>Derby Stallion 64</td>\n",
       "      <td>N64</td>\n",
       "      <td>2001.0</td>\n",
       "      <td>Sports</td>\n",
       "      <td>0.00</td>\n",
       "      <td>0.00</td>\n",
       "      <td>0.15</td>\n",
       "      <td>0.00</td>\n",
       "      <td>NaN</td>\n",
       "      <td>NaN</td>\n",
       "      <td>NaN</td>\n",
       "    </tr>\n",
       "    <tr>\n",
       "      <td>14602</td>\n",
       "      <td>Star Wars: The Force Unleashed II</td>\n",
       "      <td>PC</td>\n",
       "      <td>2010.0</td>\n",
       "      <td>Action</td>\n",
       "      <td>0.03</td>\n",
       "      <td>0.00</td>\n",
       "      <td>0.00</td>\n",
       "      <td>0.00</td>\n",
       "      <td>59.0</td>\n",
       "      <td>5.8</td>\n",
       "      <td>T</td>\n",
       "    </tr>\n",
       "    <tr>\n",
       "      <td>106</td>\n",
       "      <td>Tekken 3</td>\n",
       "      <td>PS</td>\n",
       "      <td>1998.0</td>\n",
       "      <td>Fighting</td>\n",
       "      <td>3.27</td>\n",
       "      <td>2.22</td>\n",
       "      <td>1.40</td>\n",
       "      <td>0.29</td>\n",
       "      <td>96.0</td>\n",
       "      <td>9.1</td>\n",
       "      <td>T</td>\n",
       "    </tr>\n",
       "  </tbody>\n",
       "</table>\n",
       "</div>"
      ],
      "text/plain": [
       "                                                    Name Platform  \\\n",
       "id                                                                  \n",
       "14230        Rakushou! Pachi-Slot Sengen 5: Rio Paradise      PS2   \n",
       "14043                             Nobunaga's Ambition II      3DS   \n",
       "3158                                                  Up       DS   \n",
       "22                                   Super Mario Bros. 3      NES   \n",
       "110                                         Mario Kart 8     WiiU   \n",
       "1988                              ATV: Quad Power Racing       PS   \n",
       "7130   64 de Hakken! Tamagotchi Minna de Tamagotchi W...      N64   \n",
       "8849                                   Derby Stallion 64      N64   \n",
       "14602                  Star Wars: The Force Unleashed II       PC   \n",
       "106                                             Tekken 3       PS   \n",
       "\n",
       "       Year_of_Release     Genre  NA_sales  EU_sales  JP_sales  Other_sales  \\\n",
       "id                                                                            \n",
       "14230           2007.0      Misc      0.00      0.00      0.03         0.00   \n",
       "14043           2015.0  Strategy      0.00      0.00      0.04         0.00   \n",
       "3158            2009.0    Action      0.30      0.27      0.00         0.07   \n",
       "22              1988.0  Platform      9.54      3.44      3.84         0.46   \n",
       "110             2014.0    Racing      3.15      2.15      1.28         0.51   \n",
       "1988            2000.0    Racing      0.58      0.39      0.00         0.07   \n",
       "7130            1997.0      Misc      0.00      0.00      0.22         0.00   \n",
       "8849            2001.0    Sports      0.00      0.00      0.15         0.00   \n",
       "14602           2010.0    Action      0.03      0.00      0.00         0.00   \n",
       "106             1998.0  Fighting      3.27      2.22      1.40         0.29   \n",
       "\n",
       "       Critic_Score User_Score Rating  \n",
       "id                                     \n",
       "14230           NaN        NaN    NaN  \n",
       "14043           NaN        NaN    NaN  \n",
       "3158            NaN        tbd      E  \n",
       "22              NaN        NaN    NaN  \n",
       "110            88.0        9.1      E  \n",
       "1988           42.0        tbd      E  \n",
       "7130            NaN        NaN    NaN  \n",
       "8849            NaN        NaN    NaN  \n",
       "14602          59.0        5.8      T  \n",
       "106            96.0        9.1      T  "
      ]
     },
     "execution_count": 3,
     "metadata": {},
     "output_type": "execute_result"
    }
   ],
   "source": [
    "# Вывод всех колонок датафрейма и его 10 рандомных строк\n",
    "df.index.name = 'id'\n",
    "pd.set_option('display.max_columns', None)\n",
    "df.sample(10, random_state=1)"
   ]
  },
  {
   "cell_type": "markdown",
   "metadata": {},
   "source": [
    "Получим информацию о размере датасета, типе данных и пропущенных значениях:"
   ]
  },
  {
   "cell_type": "code",
   "execution_count": 4,
   "metadata": {},
   "outputs": [
    {
     "name": "stdout",
     "output_type": "stream",
     "text": [
      "<class 'pandas.core.frame.DataFrame'>\n",
      "RangeIndex: 16715 entries, 0 to 16714\n",
      "Data columns (total 11 columns):\n",
      "Name               16713 non-null object\n",
      "Platform           16715 non-null object\n",
      "Year_of_Release    16446 non-null float64\n",
      "Genre              16713 non-null object\n",
      "NA_sales           16715 non-null float64\n",
      "EU_sales           16715 non-null float64\n",
      "JP_sales           16715 non-null float64\n",
      "Other_sales        16715 non-null float64\n",
      "Critic_Score       8137 non-null float64\n",
      "User_Score         10014 non-null object\n",
      "Rating             9949 non-null object\n",
      "dtypes: float64(6), object(5)\n",
      "memory usage: 1.4+ MB\n"
     ]
    }
   ],
   "source": [
    "df.info()"
   ]
  },
  {
   "cell_type": "markdown",
   "metadata": {},
   "source": [
    "Ознакомимся с минимальными и максимальными значениями численных параметров датасета:"
   ]
  },
  {
   "cell_type": "code",
   "execution_count": 5,
   "metadata": {},
   "outputs": [
    {
     "data": {
      "text/html": [
       "<div>\n",
       "<style scoped>\n",
       "    .dataframe tbody tr th:only-of-type {\n",
       "        vertical-align: middle;\n",
       "    }\n",
       "\n",
       "    .dataframe tbody tr th {\n",
       "        vertical-align: top;\n",
       "    }\n",
       "\n",
       "    .dataframe thead th {\n",
       "        text-align: right;\n",
       "    }\n",
       "</style>\n",
       "<table border=\"1\" class=\"dataframe\">\n",
       "  <thead>\n",
       "    <tr style=\"text-align: right;\">\n",
       "      <th></th>\n",
       "      <th>Year_of_Release</th>\n",
       "      <th>NA_sales</th>\n",
       "      <th>EU_sales</th>\n",
       "      <th>JP_sales</th>\n",
       "      <th>Other_sales</th>\n",
       "      <th>Critic_Score</th>\n",
       "    </tr>\n",
       "  </thead>\n",
       "  <tbody>\n",
       "    <tr>\n",
       "      <td>min</td>\n",
       "      <td>1980.0</td>\n",
       "      <td>0.00</td>\n",
       "      <td>0.00</td>\n",
       "      <td>0.00</td>\n",
       "      <td>0.00</td>\n",
       "      <td>13.0</td>\n",
       "    </tr>\n",
       "    <tr>\n",
       "      <td>max</td>\n",
       "      <td>2016.0</td>\n",
       "      <td>41.36</td>\n",
       "      <td>28.96</td>\n",
       "      <td>10.22</td>\n",
       "      <td>10.57</td>\n",
       "      <td>98.0</td>\n",
       "    </tr>\n",
       "  </tbody>\n",
       "</table>\n",
       "</div>"
      ],
      "text/plain": [
       "     Year_of_Release  NA_sales  EU_sales  JP_sales  Other_sales  Critic_Score\n",
       "min           1980.0      0.00      0.00      0.00         0.00          13.0\n",
       "max           2016.0     41.36     28.96     10.22        10.57          98.0"
      ]
     },
     "metadata": {},
     "output_type": "display_data"
    }
   ],
   "source": [
    "display(df.describe().loc[['min','max']])"
   ]
  },
  {
   "cell_type": "markdown",
   "metadata": {},
   "source": [
    "**Промежуточные выводы:**\n",
    "* Данные файла формата csv представлены в требуемой кодировке и не имеют нечитаемых символов\n",
    "* Исходный датасет содержит 16715 записей с информацией касающейся игр, разделенной по 11-ти параметрам-характеристикам.\n",
    "* Названия колонок требуют приведения к нижнему регистру и в ряде случаев могут быть переименованы.\n",
    "* Датасет содержит колонки с неверным типом данных, требующих преобразования:<br>\n",
    "Year_of_Release: из float64 ---> int64 <br>\n",
    "User_Score: из object ---> float64\n",
    "* Датасет содержит пропуски. Колонки без пропусков: <i>Platform, NA_sales, EU_sales, JP_sales, Other_sales</i>. Оставшиеся параметры имеют различное количество пропусков, которые требуется проанализировать более детально.\n",
    "* Количественные параметры датасета находятся в логически верном интервале минимальных и максимальных значений."
   ]
  },
  {
   "cell_type": "markdown",
   "metadata": {},
   "source": [
    "## Подготовка данных"
   ]
  },
  {
   "cell_type": "markdown",
   "metadata": {},
   "source": [
    "Переименуем названия колонок для большей ясности:"
   ]
  },
  {
   "cell_type": "code",
   "execution_count": 6,
   "metadata": {},
   "outputs": [],
   "source": [
    "df = df.rename(columns={\n",
    "    'Name': 'game_name',\n",
    "    'Genre': 'game_genre',\n",
    "    'Rating': 'esrb_rating'\n",
    "})"
   ]
  },
  {
   "cell_type": "markdown",
   "metadata": {},
   "source": [
    "Приведем названия всех колонок к нижнему регистру:"
   ]
  },
  {
   "cell_type": "code",
   "execution_count": 7,
   "metadata": {},
   "outputs": [],
   "source": [
    "df.columns = [col.lower() for col in df]"
   ]
  },
  {
   "cell_type": "markdown",
   "metadata": {},
   "source": [
    "Приведем год выпуска игры к целочисленному типу данных. Преобразуем также тип данных параметра оценки пользователя из текстового в численный с плавающей точкой. Примем во внимание, что данное поле содержит нечисловое значение 'tbd' для игр пока не имеющих рейтинга. Заменим 'tbd' на 0, и приведем значения к правильному типу данных: "
   ]
  },
  {
   "cell_type": "code",
   "execution_count": 8,
   "metadata": {},
   "outputs": [],
   "source": [
    "df['year_of_release'] = df['year_of_release'].astype('Int64')\n",
    "df['user_score'] = df['user_score'].replace('tbd', 0).astype('float64')"
   ]
  },
  {
   "cell_type": "markdown",
   "metadata": {},
   "source": [
    "Приведем текстовые данные к нижнему регистру для последующей дополнительной проверки на наличие дубликатов в датасете:"
   ]
  },
  {
   "cell_type": "code",
   "execution_count": 9,
   "metadata": {},
   "outputs": [],
   "source": [
    "df = df.apply(lambda x: x.str.lower() if(x.dtype == 'object') else x)"
   ]
  },
  {
   "cell_type": "markdown",
   "metadata": {},
   "source": [
    "Определим процент пропусков в имеющихся исходных данных и выведем по убыванию только те названия столбцов, которые их содержат:"
   ]
  },
  {
   "cell_type": "code",
   "execution_count": 10,
   "metadata": {},
   "outputs": [
    {
     "data": {
      "text/html": [
       "<div>\n",
       "<style scoped>\n",
       "    .dataframe tbody tr th:only-of-type {\n",
       "        vertical-align: middle;\n",
       "    }\n",
       "\n",
       "    .dataframe tbody tr th {\n",
       "        vertical-align: top;\n",
       "    }\n",
       "\n",
       "    .dataframe thead th {\n",
       "        text-align: right;\n",
       "    }\n",
       "</style>\n",
       "<table border=\"1\" class=\"dataframe\">\n",
       "  <thead>\n",
       "    <tr style=\"text-align: right;\">\n",
       "      <th></th>\n",
       "      <th>nans_pct</th>\n",
       "    </tr>\n",
       "  </thead>\n",
       "  <tbody>\n",
       "    <tr>\n",
       "      <td>critic_score</td>\n",
       "      <td>51.32</td>\n",
       "    </tr>\n",
       "    <tr>\n",
       "      <td>esrb_rating</td>\n",
       "      <td>40.48</td>\n",
       "    </tr>\n",
       "    <tr>\n",
       "      <td>user_score</td>\n",
       "      <td>40.09</td>\n",
       "    </tr>\n",
       "    <tr>\n",
       "      <td>year_of_release</td>\n",
       "      <td>1.61</td>\n",
       "    </tr>\n",
       "    <tr>\n",
       "      <td>game_name</td>\n",
       "      <td>0.01</td>\n",
       "    </tr>\n",
       "    <tr>\n",
       "      <td>game_genre</td>\n",
       "      <td>0.01</td>\n",
       "    </tr>\n",
       "  </tbody>\n",
       "</table>\n",
       "</div>"
      ],
      "text/plain": [
       "                 nans_pct\n",
       "critic_score        51.32\n",
       "esrb_rating         40.48\n",
       "user_score          40.09\n",
       "year_of_release      1.61\n",
       "game_name            0.01\n",
       "game_genre           0.01"
      ]
     },
     "execution_count": 10,
     "metadata": {},
     "output_type": "execute_result"
    }
   ],
   "source": [
    "df.isna().mean() \\\n",
    "    .to_frame(name='nans_pct').query('nans_pct > 0') \\\n",
    "    .sort_values(by = 'nans_pct', ascending = False) \\\n",
    "    .round(4) * 100"
   ]
  },
  {
   "cell_type": "markdown",
   "metadata": {},
   "source": [
    "Из представленной выше таблицы видно, что в датасете присутствует большое количество пропусков, связанных с отсутствием оценок игр со стороны критиков и пользователей. Это может быть связано с рядом причин, среди которых отсутствие минимально необходимого числа отзывов, по которым можно сформировать среднее значение рейтинга игры. Отсутствие данных может быть вызвано и тем, что игра была выпущена в то время, когда система рейтинга еще не была внедрена. Причиной может также служить ее низкая популярность среди игроков или критиков. Дополнительно можно проверить корректность выгрузки данных.\n",
    "\n",
    "Так как доля пропусков в оценке игр высока и данные параметры участвуют в анализе, отсутствующие значения будут заменены на 0. При такой замене однако следует учитывать, что 0 должен так же интерпретироваться как отсутствие данных об игре, а не как объективная оценка игры по мнению критиков или пользователей. "
   ]
  },
  {
   "cell_type": "code",
   "execution_count": 11,
   "metadata": {},
   "outputs": [],
   "source": [
    "df[['critic_score', 'user_score']] = df[['critic_score', 'user_score']].fillna(0)"
   ]
  },
  {
   "cell_type": "markdown",
   "metadata": {},
   "source": [
    "Рейтинг ESRB (https://en.wikipedia.org/wiki/Entertainment_Software_Rating_Board) не является количественной характеристикой, но содержит большое количество пропусков. На данном этапе пропуски будут заменены на 'none', так как нет возможности автоматически установить корректный рейтинг для каждой игры. Причина, по которой отсутствует рейтинг, может быть связана с тем, что он вводился начиная с 1994 года (в категории E10+ дети старше 10 лет c 2005 г), а часть игр в выборке была выпущена раньше. В процессе предобработки данных категория K-A не объединялись в категорию E, после ее переименования в 1998 г. Ознакомимся с уникальными значениями рейтинга:"
   ]
  },
  {
   "cell_type": "code",
   "execution_count": 12,
   "metadata": {},
   "outputs": [
    {
     "data": {
      "text/plain": [
       "array(['e', 'none', 'm', 't', 'e10+', 'k-a', 'ao', 'ec', 'rp'],\n",
       "      dtype=object)"
      ]
     },
     "execution_count": 12,
     "metadata": {},
     "output_type": "execute_result"
    }
   ],
   "source": [
    "df['esrb_rating'] = df['esrb_rating'].fillna('none')\n",
    "df['esrb_rating'].unique()"
   ]
  },
  {
   "cell_type": "markdown",
   "metadata": {},
   "source": [
    "Количество пропусков в названиях игр, их жанре и годе выпуска крайне незначительно, и, одновременно с этим, их нельзя заполнить на основе каких-либо предположений. Эти строки будут удалены из датасета."
   ]
  },
  {
   "cell_type": "code",
   "execution_count": 13,
   "metadata": {},
   "outputs": [],
   "source": [
    "df.dropna(subset=['year_of_release', 'game_name', 'game_genre'], inplace=True)"
   ]
  },
  {
   "cell_type": "markdown",
   "metadata": {},
   "source": [
    "Получим обновленную информацию о датасете и проверим данные на наличие дубликатов:"
   ]
  },
  {
   "cell_type": "code",
   "execution_count": 14,
   "metadata": {},
   "outputs": [
    {
     "name": "stdout",
     "output_type": "stream",
     "text": [
      "<class 'pandas.core.frame.DataFrame'>\n",
      "Int64Index: 16444 entries, 0 to 16714\n",
      "Data columns (total 11 columns):\n",
      "game_name          16444 non-null object\n",
      "platform           16444 non-null object\n",
      "year_of_release    16444 non-null Int64\n",
      "game_genre         16444 non-null object\n",
      "na_sales           16444 non-null float64\n",
      "eu_sales           16444 non-null float64\n",
      "jp_sales           16444 non-null float64\n",
      "other_sales        16444 non-null float64\n",
      "critic_score       16444 non-null float64\n",
      "user_score         16444 non-null float64\n",
      "esrb_rating        16444 non-null object\n",
      "dtypes: Int64(1), float64(6), object(4)\n",
      "memory usage: 1.5+ MB\n"
     ]
    }
   ],
   "source": [
    "df.info()"
   ]
  },
  {
   "cell_type": "code",
   "execution_count": 15,
   "metadata": {},
   "outputs": [
    {
     "name": "stdout",
     "output_type": "stream",
     "text": [
      "Количество дубликатов: 0\n"
     ]
    }
   ],
   "source": [
    "print('Количество дубликатов:', df.duplicated().sum())"
   ]
  },
  {
   "cell_type": "markdown",
   "metadata": {},
   "source": [
    "Вычислим суммарные продажи для каждой игры по всем регионам и выведем первые 5 строк датасета:"
   ]
  },
  {
   "cell_type": "code",
   "execution_count": 16,
   "metadata": {
    "scrolled": true
   },
   "outputs": [
    {
     "data": {
      "text/html": [
       "<div>\n",
       "<style scoped>\n",
       "    .dataframe tbody tr th:only-of-type {\n",
       "        vertical-align: middle;\n",
       "    }\n",
       "\n",
       "    .dataframe tbody tr th {\n",
       "        vertical-align: top;\n",
       "    }\n",
       "\n",
       "    .dataframe thead th {\n",
       "        text-align: right;\n",
       "    }\n",
       "</style>\n",
       "<table border=\"1\" class=\"dataframe\">\n",
       "  <thead>\n",
       "    <tr style=\"text-align: right;\">\n",
       "      <th></th>\n",
       "      <th>game_name</th>\n",
       "      <th>platform</th>\n",
       "      <th>year_of_release</th>\n",
       "      <th>game_genre</th>\n",
       "      <th>na_sales</th>\n",
       "      <th>eu_sales</th>\n",
       "      <th>jp_sales</th>\n",
       "      <th>other_sales</th>\n",
       "      <th>critic_score</th>\n",
       "      <th>user_score</th>\n",
       "      <th>esrb_rating</th>\n",
       "      <th>total_sales</th>\n",
       "    </tr>\n",
       "    <tr>\n",
       "      <th>id</th>\n",
       "      <th></th>\n",
       "      <th></th>\n",
       "      <th></th>\n",
       "      <th></th>\n",
       "      <th></th>\n",
       "      <th></th>\n",
       "      <th></th>\n",
       "      <th></th>\n",
       "      <th></th>\n",
       "      <th></th>\n",
       "      <th></th>\n",
       "      <th></th>\n",
       "    </tr>\n",
       "  </thead>\n",
       "  <tbody>\n",
       "    <tr>\n",
       "      <td>0</td>\n",
       "      <td>wii sports</td>\n",
       "      <td>wii</td>\n",
       "      <td>2006</td>\n",
       "      <td>sports</td>\n",
       "      <td>41.36</td>\n",
       "      <td>28.96</td>\n",
       "      <td>3.77</td>\n",
       "      <td>8.45</td>\n",
       "      <td>76.0</td>\n",
       "      <td>8.0</td>\n",
       "      <td>e</td>\n",
       "      <td>82.54</td>\n",
       "    </tr>\n",
       "    <tr>\n",
       "      <td>1</td>\n",
       "      <td>super mario bros.</td>\n",
       "      <td>nes</td>\n",
       "      <td>1985</td>\n",
       "      <td>platform</td>\n",
       "      <td>29.08</td>\n",
       "      <td>3.58</td>\n",
       "      <td>6.81</td>\n",
       "      <td>0.77</td>\n",
       "      <td>0.0</td>\n",
       "      <td>0.0</td>\n",
       "      <td>none</td>\n",
       "      <td>40.24</td>\n",
       "    </tr>\n",
       "    <tr>\n",
       "      <td>2</td>\n",
       "      <td>mario kart wii</td>\n",
       "      <td>wii</td>\n",
       "      <td>2008</td>\n",
       "      <td>racing</td>\n",
       "      <td>15.68</td>\n",
       "      <td>12.76</td>\n",
       "      <td>3.79</td>\n",
       "      <td>3.29</td>\n",
       "      <td>82.0</td>\n",
       "      <td>8.3</td>\n",
       "      <td>e</td>\n",
       "      <td>35.52</td>\n",
       "    </tr>\n",
       "    <tr>\n",
       "      <td>3</td>\n",
       "      <td>wii sports resort</td>\n",
       "      <td>wii</td>\n",
       "      <td>2009</td>\n",
       "      <td>sports</td>\n",
       "      <td>15.61</td>\n",
       "      <td>10.93</td>\n",
       "      <td>3.28</td>\n",
       "      <td>2.95</td>\n",
       "      <td>80.0</td>\n",
       "      <td>8.0</td>\n",
       "      <td>e</td>\n",
       "      <td>32.77</td>\n",
       "    </tr>\n",
       "    <tr>\n",
       "      <td>4</td>\n",
       "      <td>pokemon red/pokemon blue</td>\n",
       "      <td>gb</td>\n",
       "      <td>1996</td>\n",
       "      <td>role-playing</td>\n",
       "      <td>11.27</td>\n",
       "      <td>8.89</td>\n",
       "      <td>10.22</td>\n",
       "      <td>1.00</td>\n",
       "      <td>0.0</td>\n",
       "      <td>0.0</td>\n",
       "      <td>none</td>\n",
       "      <td>31.38</td>\n",
       "    </tr>\n",
       "  </tbody>\n",
       "</table>\n",
       "</div>"
      ],
      "text/plain": [
       "                   game_name platform  year_of_release    game_genre  \\\n",
       "id                                                                     \n",
       "0                 wii sports      wii             2006        sports   \n",
       "1          super mario bros.      nes             1985      platform   \n",
       "2             mario kart wii      wii             2008        racing   \n",
       "3          wii sports resort      wii             2009        sports   \n",
       "4   pokemon red/pokemon blue       gb             1996  role-playing   \n",
       "\n",
       "    na_sales  eu_sales  jp_sales  other_sales  critic_score  user_score  \\\n",
       "id                                                                        \n",
       "0      41.36     28.96      3.77         8.45          76.0         8.0   \n",
       "1      29.08      3.58      6.81         0.77           0.0         0.0   \n",
       "2      15.68     12.76      3.79         3.29          82.0         8.3   \n",
       "3      15.61     10.93      3.28         2.95          80.0         8.0   \n",
       "4      11.27      8.89     10.22         1.00           0.0         0.0   \n",
       "\n",
       "   esrb_rating  total_sales  \n",
       "id                           \n",
       "0            e        82.54  \n",
       "1         none        40.24  \n",
       "2            e        35.52  \n",
       "3            e        32.77  \n",
       "4         none        31.38  "
      ]
     },
     "execution_count": 16,
     "metadata": {},
     "output_type": "execute_result"
    }
   ],
   "source": [
    "df['total_sales'] = df['na_sales'] + df['eu_sales'] + df['jp_sales'] + df['other_sales']\n",
    "df.head()"
   ]
  },
  {
   "cell_type": "markdown",
   "metadata": {},
   "source": [
    "**Промежуточные выводы:**\n",
    "* После предобработки датасета число уникальных строк для анализа снизилось на 1.6%, в основном за счет удаления недостающей информации о годе выпуска игры.\n",
    "* В датасете отсутствуют дубликаты, названия параметров и текстовые данные приведены к нижнему регистру.\n",
    "* Были вычислены глобальные продажи для каждой игры."
   ]
  },
  {
   "cell_type": "markdown",
   "metadata": {},
   "source": [
    "## Анализ данных"
   ]
  },
  {
   "cell_type": "markdown",
   "metadata": {},
   "source": [
    "### Релизы игр в разные годы"
   ]
  },
  {
   "cell_type": "markdown",
   "metadata": {},
   "source": [
    "Определим количество выпущенных игр в зависимости от года:"
   ]
  },
  {
   "cell_type": "code",
   "execution_count": 17,
   "metadata": {},
   "outputs": [],
   "source": [
    "number_game_releases_per_year = df.groupby('year_of_release') \\\n",
    "                                  .agg({'game_name':'count'}) \\\n",
    "                                  .rename(columns = {'game_name': 'number_game_releases'})"
   ]
  },
  {
   "cell_type": "code",
   "execution_count": 18,
   "metadata": {},
   "outputs": [
    {
     "data": {
      "image/png": "[encoded data removed]",
      "text/plain": [
       "<Figure size 720x432 with 1 Axes>"
      ]
     },
     "metadata": {
      "needs_background": "light"
     },
     "output_type": "display_data"
    }
   ],
   "source": [
    "plt.figure(figsize=(10, 6))\n",
    "g = sns.barplot(x=number_game_releases_per_year.index, y=number_game_releases_per_year['number_game_releases'], color = 'c')\n",
    "g.set_xticklabels(g.get_xticklabels(), rotation=90)\n",
    "g.set_title('Число релизов игр по годам')\n",
    "g.set_ylabel('Количество игр (ед.)')\n",
    "g.set_xlabel('Год')\n",
    "plt.show()"
   ]
  },
  {
   "cell_type": "markdown",
   "metadata": {},
   "source": [
    "Из диаграммы видно, что интенсивный рост выпуска игр для игровых платформ начинается в 90-х годах прошлого века и достигает максимума в первой декаде 2000-х, после чего идет на спад. "
   ]
  },
  {
   "cell_type": "markdown",
   "metadata": {},
   "source": [
    "### Продажи по платформам"
   ]
  },
  {
   "cell_type": "markdown",
   "metadata": {},
   "source": [
    "Определим игровые платформы с максимальным уровнем продаж за весь период (1980-2016 гг.:"
   ]
  },
  {
   "cell_type": "code",
   "execution_count": 19,
   "metadata": {},
   "outputs": [],
   "source": [
    "platforms_sales = df.groupby('platform') \\\n",
    "                        .agg({'total_sales':'sum'}) \\\n",
    "                        .sort_values(by = 'total_sales', ascending = False)"
   ]
  },
  {
   "cell_type": "code",
   "execution_count": 20,
   "metadata": {},
   "outputs": [
    {
     "data": {
      "image/png": "[encoded data removed]",
      "text/plain": [
       "<Figure size 720x432 with 1 Axes>"
      ]
     },
     "metadata": {
      "needs_background": "light"
     },
     "output_type": "display_data"
    }
   ],
   "source": [
    "plt.figure(figsize=(10, 6))\n",
    "g = sns.barplot(x=platforms_sales.index, y=platforms_sales['total_sales'], color = 'orange')\n",
    "g.set_xticklabels(g.get_xticklabels(), rotation=90)\n",
    "g.set_title('Продажи игр по платформам')\n",
    "g.set_ylabel('Количество продаж (млн.копий)')\n",
    "g.set_xlabel('Платформа')\n",
    "plt.show()"
   ]
  },
  {
   "cell_type": "markdown",
   "metadata": {},
   "source": [
    "Из имеющегося датасета, выберем 10 платформ с максимальным количеством продаж:"
   ]
  },
  {
   "cell_type": "code",
   "execution_count": 21,
   "metadata": {},
   "outputs": [
    {
     "data": {
      "text/html": [
       "<div>\n",
       "<style scoped>\n",
       "    .dataframe tbody tr th:only-of-type {\n",
       "        vertical-align: middle;\n",
       "    }\n",
       "\n",
       "    .dataframe tbody tr th {\n",
       "        vertical-align: top;\n",
       "    }\n",
       "\n",
       "    .dataframe thead th {\n",
       "        text-align: right;\n",
       "    }\n",
       "</style>\n",
       "<table border=\"1\" class=\"dataframe\">\n",
       "  <thead>\n",
       "    <tr style=\"text-align: right;\">\n",
       "      <th></th>\n",
       "      <th>total_sales</th>\n",
       "    </tr>\n",
       "    <tr>\n",
       "      <th>platform</th>\n",
       "      <th></th>\n",
       "    </tr>\n",
       "  </thead>\n",
       "  <tbody>\n",
       "    <tr>\n",
       "      <td>ps2</td>\n",
       "      <td>1233.56</td>\n",
       "    </tr>\n",
       "    <tr>\n",
       "      <td>x360</td>\n",
       "      <td>961.24</td>\n",
       "    </tr>\n",
       "    <tr>\n",
       "      <td>ps3</td>\n",
       "      <td>931.34</td>\n",
       "    </tr>\n",
       "    <tr>\n",
       "      <td>wii</td>\n",
       "      <td>891.18</td>\n",
       "    </tr>\n",
       "    <tr>\n",
       "      <td>ds</td>\n",
       "      <td>802.78</td>\n",
       "    </tr>\n",
       "    <tr>\n",
       "      <td>ps</td>\n",
       "      <td>727.58</td>\n",
       "    </tr>\n",
       "    <tr>\n",
       "      <td>ps4</td>\n",
       "      <td>314.14</td>\n",
       "    </tr>\n",
       "    <tr>\n",
       "      <td>gba</td>\n",
       "      <td>312.88</td>\n",
       "    </tr>\n",
       "    <tr>\n",
       "      <td>psp</td>\n",
       "      <td>289.53</td>\n",
       "    </tr>\n",
       "    <tr>\n",
       "      <td>3ds</td>\n",
       "      <td>257.81</td>\n",
       "    </tr>\n",
       "  </tbody>\n",
       "</table>\n",
       "</div>"
      ],
      "text/plain": [
       "          total_sales\n",
       "platform             \n",
       "ps2           1233.56\n",
       "x360           961.24\n",
       "ps3            931.34\n",
       "wii            891.18\n",
       "ds             802.78\n",
       "ps             727.58\n",
       "ps4            314.14\n",
       "gba            312.88\n",
       "psp            289.53\n",
       "3ds            257.81"
      ]
     },
     "execution_count": 21,
     "metadata": {},
     "output_type": "execute_result"
    }
   ],
   "source": [
    "platforms_sales_top10 = platforms_sales.head(10)\n",
    "platforms_sales_top10"
   ]
  },
  {
   "cell_type": "markdown",
   "metadata": {},
   "source": [
    "Сформируем список топ-10 платформ с максимальным количеством продаж:"
   ]
  },
  {
   "cell_type": "code",
   "execution_count": 22,
   "metadata": {},
   "outputs": [],
   "source": [
    "top_platforms_list = platforms_sales_top10.index"
   ]
  },
  {
   "cell_type": "markdown",
   "metadata": {},
   "source": [
    "Сформируем сводную таблицу, отражающую изменения количества продаж в зависимости от года выпуска для топ-10 платформ и проиллюстрируем ее на графике:"
   ]
  },
  {
   "cell_type": "code",
   "execution_count": 23,
   "metadata": {},
   "outputs": [
    {
     "data": {
      "text/html": [
       "<div>\n",
       "<style scoped>\n",
       "    .dataframe tbody tr th:only-of-type {\n",
       "        vertical-align: middle;\n",
       "    }\n",
       "\n",
       "    .dataframe tbody tr th {\n",
       "        vertical-align: top;\n",
       "    }\n",
       "\n",
       "    .dataframe thead th {\n",
       "        text-align: right;\n",
       "    }\n",
       "</style>\n",
       "<table border=\"1\" class=\"dataframe\">\n",
       "  <thead>\n",
       "    <tr style=\"text-align: right;\">\n",
       "      <th>platform</th>\n",
       "      <th>3ds</th>\n",
       "      <th>ds</th>\n",
       "      <th>gba</th>\n",
       "      <th>ps</th>\n",
       "      <th>ps2</th>\n",
       "      <th>ps3</th>\n",
       "      <th>ps4</th>\n",
       "      <th>psp</th>\n",
       "      <th>wii</th>\n",
       "      <th>x360</th>\n",
       "    </tr>\n",
       "    <tr>\n",
       "      <th>year_of_release</th>\n",
       "      <th></th>\n",
       "      <th></th>\n",
       "      <th></th>\n",
       "      <th></th>\n",
       "      <th></th>\n",
       "      <th></th>\n",
       "      <th></th>\n",
       "      <th></th>\n",
       "      <th></th>\n",
       "      <th></th>\n",
       "    </tr>\n",
       "  </thead>\n",
       "  <tbody>\n",
       "    <tr>\n",
       "      <td>2007</td>\n",
       "      <td>NaN</td>\n",
       "      <td>146.94</td>\n",
       "      <td>3.4</td>\n",
       "      <td>NaN</td>\n",
       "      <td>75.99</td>\n",
       "      <td>73.19</td>\n",
       "      <td>NaN</td>\n",
       "      <td>46.93</td>\n",
       "      <td>152.77</td>\n",
       "      <td>95.41</td>\n",
       "    </tr>\n",
       "    <tr>\n",
       "      <td>2008</td>\n",
       "      <td>NaN</td>\n",
       "      <td>145.31</td>\n",
       "      <td>NaN</td>\n",
       "      <td>NaN</td>\n",
       "      <td>53.90</td>\n",
       "      <td>118.52</td>\n",
       "      <td>NaN</td>\n",
       "      <td>34.55</td>\n",
       "      <td>171.32</td>\n",
       "      <td>135.26</td>\n",
       "    </tr>\n",
       "    <tr>\n",
       "      <td>2009</td>\n",
       "      <td>NaN</td>\n",
       "      <td>119.54</td>\n",
       "      <td>NaN</td>\n",
       "      <td>NaN</td>\n",
       "      <td>26.40</td>\n",
       "      <td>130.93</td>\n",
       "      <td>NaN</td>\n",
       "      <td>37.78</td>\n",
       "      <td>206.97</td>\n",
       "      <td>120.29</td>\n",
       "    </tr>\n",
       "    <tr>\n",
       "      <td>2010</td>\n",
       "      <td>NaN</td>\n",
       "      <td>85.02</td>\n",
       "      <td>NaN</td>\n",
       "      <td>NaN</td>\n",
       "      <td>5.64</td>\n",
       "      <td>142.17</td>\n",
       "      <td>NaN</td>\n",
       "      <td>35.04</td>\n",
       "      <td>127.95</td>\n",
       "      <td>170.03</td>\n",
       "    </tr>\n",
       "    <tr>\n",
       "      <td>2011</td>\n",
       "      <td>63.20</td>\n",
       "      <td>26.18</td>\n",
       "      <td>NaN</td>\n",
       "      <td>NaN</td>\n",
       "      <td>0.45</td>\n",
       "      <td>156.78</td>\n",
       "      <td>NaN</td>\n",
       "      <td>17.82</td>\n",
       "      <td>59.65</td>\n",
       "      <td>143.84</td>\n",
       "    </tr>\n",
       "    <tr>\n",
       "      <td>2012</td>\n",
       "      <td>51.36</td>\n",
       "      <td>11.01</td>\n",
       "      <td>NaN</td>\n",
       "      <td>NaN</td>\n",
       "      <td>NaN</td>\n",
       "      <td>107.36</td>\n",
       "      <td>NaN</td>\n",
       "      <td>7.69</td>\n",
       "      <td>21.71</td>\n",
       "      <td>99.74</td>\n",
       "    </tr>\n",
       "    <tr>\n",
       "      <td>2013</td>\n",
       "      <td>56.57</td>\n",
       "      <td>1.54</td>\n",
       "      <td>NaN</td>\n",
       "      <td>NaN</td>\n",
       "      <td>NaN</td>\n",
       "      <td>113.25</td>\n",
       "      <td>25.99</td>\n",
       "      <td>3.14</td>\n",
       "      <td>8.59</td>\n",
       "      <td>88.58</td>\n",
       "    </tr>\n",
       "    <tr>\n",
       "      <td>2014</td>\n",
       "      <td>43.76</td>\n",
       "      <td>NaN</td>\n",
       "      <td>NaN</td>\n",
       "      <td>NaN</td>\n",
       "      <td>NaN</td>\n",
       "      <td>47.76</td>\n",
       "      <td>100.00</td>\n",
       "      <td>0.24</td>\n",
       "      <td>3.75</td>\n",
       "      <td>34.74</td>\n",
       "    </tr>\n",
       "    <tr>\n",
       "      <td>2015</td>\n",
       "      <td>27.78</td>\n",
       "      <td>NaN</td>\n",
       "      <td>NaN</td>\n",
       "      <td>NaN</td>\n",
       "      <td>NaN</td>\n",
       "      <td>16.82</td>\n",
       "      <td>118.90</td>\n",
       "      <td>0.12</td>\n",
       "      <td>1.14</td>\n",
       "      <td>11.96</td>\n",
       "    </tr>\n",
       "    <tr>\n",
       "      <td>2016</td>\n",
       "      <td>15.14</td>\n",
       "      <td>NaN</td>\n",
       "      <td>NaN</td>\n",
       "      <td>NaN</td>\n",
       "      <td>NaN</td>\n",
       "      <td>3.60</td>\n",
       "      <td>69.25</td>\n",
       "      <td>NaN</td>\n",
       "      <td>0.18</td>\n",
       "      <td>1.52</td>\n",
       "    </tr>\n",
       "  </tbody>\n",
       "</table>\n",
       "</div>"
      ],
      "text/plain": [
       "platform           3ds      ds  gba  ps    ps2     ps3     ps4    psp     wii  \\\n",
       "year_of_release                                                                 \n",
       "2007               NaN  146.94  3.4 NaN  75.99   73.19     NaN  46.93  152.77   \n",
       "2008               NaN  145.31  NaN NaN  53.90  118.52     NaN  34.55  171.32   \n",
       "2009               NaN  119.54  NaN NaN  26.40  130.93     NaN  37.78  206.97   \n",
       "2010               NaN   85.02  NaN NaN   5.64  142.17     NaN  35.04  127.95   \n",
       "2011             63.20   26.18  NaN NaN   0.45  156.78     NaN  17.82   59.65   \n",
       "2012             51.36   11.01  NaN NaN    NaN  107.36     NaN   7.69   21.71   \n",
       "2013             56.57    1.54  NaN NaN    NaN  113.25   25.99   3.14    8.59   \n",
       "2014             43.76     NaN  NaN NaN    NaN   47.76  100.00   0.24    3.75   \n",
       "2015             27.78     NaN  NaN NaN    NaN   16.82  118.90   0.12    1.14   \n",
       "2016             15.14     NaN  NaN NaN    NaN    3.60   69.25    NaN    0.18   \n",
       "\n",
       "platform           x360  \n",
       "year_of_release          \n",
       "2007              95.41  \n",
       "2008             135.26  \n",
       "2009             120.29  \n",
       "2010             170.03  \n",
       "2011             143.84  \n",
       "2012              99.74  \n",
       "2013              88.58  \n",
       "2014              34.74  \n",
       "2015              11.96  \n",
       "2016               1.52  "
      ]
     },
     "execution_count": 23,
     "metadata": {},
     "output_type": "execute_result"
    }
   ],
   "source": [
    "top_platform_sales_year = df.query('platform in @top_platforms_list') \\\n",
    "                            .pivot_table(index='year_of_release', columns='platform', values='total_sales', aggfunc='sum')\n",
    "top_platform_sales_year.tail(10)"
   ]
  },
  {
   "cell_type": "code",
   "execution_count": 24,
   "metadata": {},
   "outputs": [
    {
     "data": {
      "image/png": "[encoded data removed]",
      "text/plain": [
       "<Figure size 720x432 with 1 Axes>"
      ]
     },
     "metadata": {
      "needs_background": "light"
     },
     "output_type": "display_data"
    }
   ],
   "source": [
    "g = top_platform_sales_year.plot(\n",
    "    kind ='line',\n",
    "    figsize = (10, 6),\n",
    "    title = 'Продажи игр на платформах топ-10 с течением времени'\n",
    ")\n",
    "g.set_ylabel('Количество продаж (млн.копий)')\n",
    "g.set_xlabel('Год выпуска')\n",
    "plt.show()"
   ]
  },
  {
   "cell_type": "markdown",
   "metadata": {},
   "source": [
    "В первом приближении, из графика видно, что актуальный период, за который появляются и исчезают новые платформы варьируется от 5 до 10 лет и обладает симметрий, близкой к зеркальной."
   ]
  },
  {
   "cell_type": "markdown",
   "metadata": {},
   "source": [
    "### Актуальный период"
   ]
  },
  {
   "cell_type": "markdown",
   "metadata": {},
   "source": [
    "Оценим более точно средний период \"жизни\" платформы, исходя из полных данных о продолжительности продаж игр на каждой из них:"
   ]
  },
  {
   "cell_type": "code",
   "execution_count": 25,
   "metadata": {},
   "outputs": [
    {
     "name": "stdout",
     "output_type": "stream",
     "text": [
      "Средний жизненный цикл платформы: 7.6 лет\n"
     ]
    }
   ],
   "source": [
    "platforms_start_life = df.groupby('platform')['year_of_release'].min()\n",
    "platforms_end_life = df.groupby('platform')['year_of_release'].max()\n",
    "platforms_life = platforms_end_life - platforms_start_life\n",
    "print('Средний жизненный цикл платформы:', platforms_life.mean().round(1), 'лет')"
   ]
  },
  {
   "cell_type": "markdown",
   "metadata": {},
   "source": [
    "Определим платформы, которые еще активны в 2016 г. и получим их список:"
   ]
  },
  {
   "cell_type": "code",
   "execution_count": 26,
   "metadata": {},
   "outputs": [
    {
     "data": {
      "text/plain": [
       "['3ds', 'pc', 'ps3', 'ps4', 'psv', 'wii', 'wiiu', 'x360', 'xone']"
      ]
     },
     "execution_count": 26,
     "metadata": {},
     "output_type": "execute_result"
    }
   ],
   "source": [
    "platforms_2016 = df.query('year_of_release == 2016') \\\n",
    "                            .pivot_table(index='year_of_release', columns='platform', values='total_sales', aggfunc='sum')\n",
    "list_of_platforms_2016 = list(platforms_2016)\n",
    "list_of_platforms_2016"
   ]
  },
  {
   "cell_type": "markdown",
   "metadata": {},
   "source": [
    "Сформируем сводную таблицу из следующих условий: \n",
    "* актуальный период: 2012-2016 гг., предполагая, что данные за 2016 г. могут делить актуальный период примерно пополам.\n",
    "* платформа должна использоваться в 2016 г."
   ]
  },
  {
   "cell_type": "code",
   "execution_count": 27,
   "metadata": {
    "scrolled": true
   },
   "outputs": [
    {
     "data": {
      "text/html": [
       "<div>\n",
       "<style scoped>\n",
       "    .dataframe tbody tr th:only-of-type {\n",
       "        vertical-align: middle;\n",
       "    }\n",
       "\n",
       "    .dataframe tbody tr th {\n",
       "        vertical-align: top;\n",
       "    }\n",
       "\n",
       "    .dataframe thead th {\n",
       "        text-align: right;\n",
       "    }\n",
       "</style>\n",
       "<table border=\"1\" class=\"dataframe\">\n",
       "  <thead>\n",
       "    <tr style=\"text-align: right;\">\n",
       "      <th>platform</th>\n",
       "      <th>3ds</th>\n",
       "      <th>pc</th>\n",
       "      <th>ps3</th>\n",
       "      <th>ps4</th>\n",
       "      <th>psv</th>\n",
       "      <th>wii</th>\n",
       "      <th>wiiu</th>\n",
       "      <th>x360</th>\n",
       "      <th>xone</th>\n",
       "    </tr>\n",
       "    <tr>\n",
       "      <th>year_of_release</th>\n",
       "      <th></th>\n",
       "      <th></th>\n",
       "      <th></th>\n",
       "      <th></th>\n",
       "      <th></th>\n",
       "      <th></th>\n",
       "      <th></th>\n",
       "      <th></th>\n",
       "      <th></th>\n",
       "    </tr>\n",
       "  </thead>\n",
       "  <tbody>\n",
       "    <tr>\n",
       "      <td>2012</td>\n",
       "      <td>51.36</td>\n",
       "      <td>23.22</td>\n",
       "      <td>107.36</td>\n",
       "      <td>NaN</td>\n",
       "      <td>16.19</td>\n",
       "      <td>21.71</td>\n",
       "      <td>17.56</td>\n",
       "      <td>99.74</td>\n",
       "      <td>NaN</td>\n",
       "    </tr>\n",
       "    <tr>\n",
       "      <td>2013</td>\n",
       "      <td>56.57</td>\n",
       "      <td>12.38</td>\n",
       "      <td>113.25</td>\n",
       "      <td>25.99</td>\n",
       "      <td>10.59</td>\n",
       "      <td>8.59</td>\n",
       "      <td>21.65</td>\n",
       "      <td>88.58</td>\n",
       "      <td>18.96</td>\n",
       "    </tr>\n",
       "    <tr>\n",
       "      <td>2014</td>\n",
       "      <td>43.76</td>\n",
       "      <td>13.28</td>\n",
       "      <td>47.76</td>\n",
       "      <td>100.00</td>\n",
       "      <td>11.90</td>\n",
       "      <td>3.75</td>\n",
       "      <td>22.03</td>\n",
       "      <td>34.74</td>\n",
       "      <td>54.07</td>\n",
       "    </tr>\n",
       "    <tr>\n",
       "      <td>2015</td>\n",
       "      <td>27.78</td>\n",
       "      <td>8.52</td>\n",
       "      <td>16.82</td>\n",
       "      <td>118.90</td>\n",
       "      <td>6.25</td>\n",
       "      <td>1.14</td>\n",
       "      <td>16.35</td>\n",
       "      <td>11.96</td>\n",
       "      <td>60.14</td>\n",
       "    </tr>\n",
       "    <tr>\n",
       "      <td>2016</td>\n",
       "      <td>15.14</td>\n",
       "      <td>5.25</td>\n",
       "      <td>3.60</td>\n",
       "      <td>69.25</td>\n",
       "      <td>4.25</td>\n",
       "      <td>0.18</td>\n",
       "      <td>4.60</td>\n",
       "      <td>1.52</td>\n",
       "      <td>26.15</td>\n",
       "    </tr>\n",
       "  </tbody>\n",
       "</table>\n",
       "</div>"
      ],
      "text/plain": [
       "platform           3ds     pc     ps3     ps4    psv    wii   wiiu   x360  \\\n",
       "year_of_release                                                             \n",
       "2012             51.36  23.22  107.36     NaN  16.19  21.71  17.56  99.74   \n",
       "2013             56.57  12.38  113.25   25.99  10.59   8.59  21.65  88.58   \n",
       "2014             43.76  13.28   47.76  100.00  11.90   3.75  22.03  34.74   \n",
       "2015             27.78   8.52   16.82  118.90   6.25   1.14  16.35  11.96   \n",
       "2016             15.14   5.25    3.60   69.25   4.25   0.18   4.60   1.52   \n",
       "\n",
       "platform          xone  \n",
       "year_of_release         \n",
       "2012               NaN  \n",
       "2013             18.96  \n",
       "2014             54.07  \n",
       "2015             60.14  \n",
       "2016             26.15  "
      ]
     },
     "execution_count": 27,
     "metadata": {},
     "output_type": "execute_result"
    }
   ],
   "source": [
    "actual_period = df.query('(year_of_release >= 2012) and (platform in @list_of_platforms_2016)') \\\n",
    "                  .pivot_table(index='year_of_release', columns='platform', values='total_sales', aggfunc='sum')\n",
    "actual_period"
   ]
  },
  {
   "cell_type": "markdown",
   "metadata": {},
   "source": [
    "Предложенному условию удовлетворяют 9 игровых платформ."
   ]
  },
  {
   "cell_type": "markdown",
   "metadata": {},
   "source": [
    "### Количество продаж игр для разных платформ"
   ]
  },
  {
   "cell_type": "markdown",
   "metadata": {},
   "source": [
    "#### Общее количество продаж по платформам"
   ]
  },
  {
   "cell_type": "markdown",
   "metadata": {},
   "source": [
    "Оценим количественно, какие из платформ лидируют по продажам игр в актуальный период (2012 - 2016 гг.):"
   ]
  },
  {
   "cell_type": "code",
   "execution_count": 28,
   "metadata": {},
   "outputs": [
    {
     "data": {
      "image/png": "[encoded data removed]",
      "text/plain": [
       "<Figure size 720x432 with 1 Axes>"
      ]
     },
     "metadata": {
      "needs_background": "light"
     },
     "output_type": "display_data"
    },
    {
     "data": {
      "text/plain": [
       "platform\n",
       "ps4     314.14\n",
       "ps3     288.79\n",
       "x360    236.54\n",
       "3ds     194.61\n",
       "xone    159.32\n",
       "wiiu     82.19\n",
       "pc       62.65\n",
       "psv      49.18\n",
       "wii      35.37\n",
       "dtype: float64"
      ]
     },
     "execution_count": 28,
     "metadata": {},
     "output_type": "execute_result"
    }
   ],
   "source": [
    "top_active_sales = actual_period.sum(axis = 0).sort_values(ascending = False)\n",
    "plt.figure(figsize=(10, 6))\n",
    "g = sns.barplot(top_active_sales.index, top_active_sales.values, color = 'orange')\n",
    "g.set_title('Количество продаж игр для разных платформ в актуальный период')\n",
    "g.set_xlabel('Игровая платформа')\n",
    "g.set_ylabel('Количество продаж (млн.копий)')\n",
    "plt.show()\n",
    "top_active_sales"
   ]
  },
  {
   "cell_type": "markdown",
   "metadata": {},
   "source": [
    "Из диаграммы видно, что суммарный объем продаж некогда популярной *ps3* в актуальный период становится меньше в сравнении с объемами продаж пришедшей ей на смену платформы *ps4*."
   ]
  },
  {
   "cell_type": "markdown",
   "metadata": {},
   "source": [
    "#### Общее количество продаж с течением времени"
   ]
  },
  {
   "cell_type": "markdown",
   "metadata": {},
   "source": [
    "Темпы снижения хорошо видны на приведенном ниже линейном графике продаж игр на действующих платформах за актуальный период:"
   ]
  },
  {
   "cell_type": "code",
   "execution_count": 29,
   "metadata": {},
   "outputs": [
    {
     "data": {
      "image/png": "[encoded data removed]",
      "text/plain": [
       "<Figure size 720x432 with 1 Axes>"
      ]
     },
     "metadata": {
      "needs_background": "light"
     },
     "output_type": "display_data"
    }
   ],
   "source": [
    "g = actual_period.plot(\n",
    "    kind ='line',\n",
    "    figsize = (10, 6),\n",
    "    title = 'Продажи игр на различных платформах за актуальный период'\n",
    ")\n",
    "plt.xticks(np.arange(2012, 2017, 1))\n",
    "g.set_ylabel('Количество продаж (млн.копий)')\n",
    "g.set_xlabel('Год выпуска')\n",
    "plt.show()"
   ]
  },
  {
   "cell_type": "markdown",
   "metadata": {},
   "source": [
    "Принимая во внимание, что данные за 2016 г. могут быть не полными (по условию задания), из графика и результатов сводной таблицы можно предположить, что платформы *ps4* и *xone* могут иметь тенденцию как росту так и спаду продаж игр. Данные о среднем периоде \"жизни\" платформ свидетельствуют о том, что без полных данных за 2016 год также нельзя определенно сказать, каким будет тренд на ближайшие годы для *ps4* и *xone*, т.к. пиковые значения продаж обычно наблюдаются на 3-5 год. Остальные платформы за актуальный период демонстрируют нисходящий тренд. Можно также отметить, что количество продаж игр через платформы, начиная с 2011-2012 гг., снижается в сравнении с предыдущими периодами. Вероятнее всего, это связано с тем, что большую популярность среди пользователей начинают приобретать онлайн-игры."
   ]
  },
  {
   "cell_type": "markdown",
   "metadata": {},
   "source": [
    "#### Размах продаж для различных платформ"
   ]
  },
  {
   "cell_type": "markdown",
   "metadata": {},
   "source": [
    "Для дальнейшего анализа сформируем датасет для интересующих нас платформ с продажами, начиная с 2012 года:"
   ]
  },
  {
   "cell_type": "code",
   "execution_count": 30,
   "metadata": {},
   "outputs": [
    {
     "data": {
      "text/html": [
       "<div>\n",
       "<style scoped>\n",
       "    .dataframe tbody tr th:only-of-type {\n",
       "        vertical-align: middle;\n",
       "    }\n",
       "\n",
       "    .dataframe tbody tr th {\n",
       "        vertical-align: top;\n",
       "    }\n",
       "\n",
       "    .dataframe thead th {\n",
       "        text-align: right;\n",
       "    }\n",
       "</style>\n",
       "<table border=\"1\" class=\"dataframe\">\n",
       "  <thead>\n",
       "    <tr style=\"text-align: right;\">\n",
       "      <th></th>\n",
       "      <th>game_name</th>\n",
       "      <th>platform</th>\n",
       "      <th>year_of_release</th>\n",
       "      <th>game_genre</th>\n",
       "      <th>na_sales</th>\n",
       "      <th>eu_sales</th>\n",
       "      <th>jp_sales</th>\n",
       "      <th>other_sales</th>\n",
       "      <th>critic_score</th>\n",
       "      <th>user_score</th>\n",
       "      <th>esrb_rating</th>\n",
       "      <th>total_sales</th>\n",
       "    </tr>\n",
       "    <tr>\n",
       "      <th>id</th>\n",
       "      <th></th>\n",
       "      <th></th>\n",
       "      <th></th>\n",
       "      <th></th>\n",
       "      <th></th>\n",
       "      <th></th>\n",
       "      <th></th>\n",
       "      <th></th>\n",
       "      <th></th>\n",
       "      <th></th>\n",
       "      <th></th>\n",
       "      <th></th>\n",
       "    </tr>\n",
       "  </thead>\n",
       "  <tbody>\n",
       "    <tr>\n",
       "      <td>16</td>\n",
       "      <td>grand theft auto v</td>\n",
       "      <td>ps3</td>\n",
       "      <td>2013</td>\n",
       "      <td>action</td>\n",
       "      <td>7.02</td>\n",
       "      <td>9.09</td>\n",
       "      <td>0.98</td>\n",
       "      <td>3.96</td>\n",
       "      <td>97.0</td>\n",
       "      <td>8.2</td>\n",
       "      <td>m</td>\n",
       "      <td>21.05</td>\n",
       "    </tr>\n",
       "    <tr>\n",
       "      <td>23</td>\n",
       "      <td>grand theft auto v</td>\n",
       "      <td>x360</td>\n",
       "      <td>2013</td>\n",
       "      <td>action</td>\n",
       "      <td>9.66</td>\n",
       "      <td>5.14</td>\n",
       "      <td>0.06</td>\n",
       "      <td>1.41</td>\n",
       "      <td>97.0</td>\n",
       "      <td>8.1</td>\n",
       "      <td>m</td>\n",
       "      <td>16.27</td>\n",
       "    </tr>\n",
       "    <tr>\n",
       "      <td>31</td>\n",
       "      <td>call of duty: black ops 3</td>\n",
       "      <td>ps4</td>\n",
       "      <td>2015</td>\n",
       "      <td>shooter</td>\n",
       "      <td>6.03</td>\n",
       "      <td>5.86</td>\n",
       "      <td>0.36</td>\n",
       "      <td>2.38</td>\n",
       "      <td>0.0</td>\n",
       "      <td>0.0</td>\n",
       "      <td>none</td>\n",
       "      <td>14.63</td>\n",
       "    </tr>\n",
       "    <tr>\n",
       "      <td>33</td>\n",
       "      <td>pokemon x/pokemon y</td>\n",
       "      <td>3ds</td>\n",
       "      <td>2013</td>\n",
       "      <td>role-playing</td>\n",
       "      <td>5.28</td>\n",
       "      <td>4.19</td>\n",
       "      <td>4.35</td>\n",
       "      <td>0.78</td>\n",
       "      <td>0.0</td>\n",
       "      <td>0.0</td>\n",
       "      <td>none</td>\n",
       "      <td>14.60</td>\n",
       "    </tr>\n",
       "    <tr>\n",
       "      <td>34</td>\n",
       "      <td>call of duty: black ops ii</td>\n",
       "      <td>ps3</td>\n",
       "      <td>2012</td>\n",
       "      <td>shooter</td>\n",
       "      <td>4.99</td>\n",
       "      <td>5.73</td>\n",
       "      <td>0.65</td>\n",
       "      <td>2.42</td>\n",
       "      <td>83.0</td>\n",
       "      <td>5.3</td>\n",
       "      <td>m</td>\n",
       "      <td>13.79</td>\n",
       "    </tr>\n",
       "  </tbody>\n",
       "</table>\n",
       "</div>"
      ],
      "text/plain": [
       "                     game_name platform  year_of_release    game_genre  \\\n",
       "id                                                                       \n",
       "16          grand theft auto v      ps3             2013        action   \n",
       "23          grand theft auto v     x360             2013        action   \n",
       "31   call of duty: black ops 3      ps4             2015       shooter   \n",
       "33         pokemon x/pokemon y      3ds             2013  role-playing   \n",
       "34  call of duty: black ops ii      ps3             2012       shooter   \n",
       "\n",
       "    na_sales  eu_sales  jp_sales  other_sales  critic_score  user_score  \\\n",
       "id                                                                        \n",
       "16      7.02      9.09      0.98         3.96          97.0         8.2   \n",
       "23      9.66      5.14      0.06         1.41          97.0         8.1   \n",
       "31      6.03      5.86      0.36         2.38           0.0         0.0   \n",
       "33      5.28      4.19      4.35         0.78           0.0         0.0   \n",
       "34      4.99      5.73      0.65         2.42          83.0         5.3   \n",
       "\n",
       "   esrb_rating  total_sales  \n",
       "id                           \n",
       "16           m        21.05  \n",
       "23           m        16.27  \n",
       "31        none        14.63  \n",
       "33        none        14.60  \n",
       "34           m        13.79  "
      ]
     },
     "execution_count": 30,
     "metadata": {},
     "output_type": "execute_result"
    }
   ],
   "source": [
    "df_actual = df.query('(year_of_release >= 2012) and (platform in @list_of_platforms_2016)')\n",
    "df_actual.head()"
   ]
  },
  {
   "cell_type": "markdown",
   "metadata": {},
   "source": [
    "Построим диаграмму размаха для актуального периода продаж игр и приведем статистические показатели, упорядоченные по убыванию среднего числа продаж (в млн. копий):"
   ]
  },
  {
   "cell_type": "code",
   "execution_count": 31,
   "metadata": {},
   "outputs": [
    {
     "data": {
      "image/png": "[encoded data removed]",
      "text/plain": [
       "<Figure size 720x576 with 1 Axes>"
      ]
     },
     "metadata": {
      "needs_background": "light"
     },
     "output_type": "display_data"
    },
    {
     "data": {
      "text/html": [
       "<div>\n",
       "<style scoped>\n",
       "    .dataframe tbody tr th:only-of-type {\n",
       "        vertical-align: middle;\n",
       "    }\n",
       "\n",
       "    .dataframe tbody tr th {\n",
       "        vertical-align: top;\n",
       "    }\n",
       "\n",
       "    .dataframe thead th {\n",
       "        text-align: right;\n",
       "    }\n",
       "</style>\n",
       "<table border=\"1\" class=\"dataframe\">\n",
       "  <thead>\n",
       "    <tr style=\"text-align: right;\">\n",
       "      <th></th>\n",
       "      <th>count</th>\n",
       "      <th>mean</th>\n",
       "      <th>std</th>\n",
       "      <th>min</th>\n",
       "      <th>25%</th>\n",
       "      <th>50%</th>\n",
       "      <th>75%</th>\n",
       "      <th>max</th>\n",
       "    </tr>\n",
       "    <tr>\n",
       "      <th>platform</th>\n",
       "      <th></th>\n",
       "      <th></th>\n",
       "      <th></th>\n",
       "      <th></th>\n",
       "      <th></th>\n",
       "      <th></th>\n",
       "      <th></th>\n",
       "      <th></th>\n",
       "    </tr>\n",
       "  </thead>\n",
       "  <tbody>\n",
       "    <tr>\n",
       "      <td>x360</td>\n",
       "      <td>292.0</td>\n",
       "      <td>0.81</td>\n",
       "      <td>1.71</td>\n",
       "      <td>0.01</td>\n",
       "      <td>0.10</td>\n",
       "      <td>0.31</td>\n",
       "      <td>0.87</td>\n",
       "      <td>16.27</td>\n",
       "    </tr>\n",
       "    <tr>\n",
       "      <td>ps4</td>\n",
       "      <td>392.0</td>\n",
       "      <td>0.80</td>\n",
       "      <td>1.61</td>\n",
       "      <td>0.01</td>\n",
       "      <td>0.06</td>\n",
       "      <td>0.20</td>\n",
       "      <td>0.73</td>\n",
       "      <td>14.63</td>\n",
       "    </tr>\n",
       "    <tr>\n",
       "      <td>wii</td>\n",
       "      <td>54.0</td>\n",
       "      <td>0.65</td>\n",
       "      <td>1.17</td>\n",
       "      <td>0.01</td>\n",
       "      <td>0.06</td>\n",
       "      <td>0.18</td>\n",
       "      <td>0.69</td>\n",
       "      <td>6.76</td>\n",
       "    </tr>\n",
       "    <tr>\n",
       "      <td>xone</td>\n",
       "      <td>247.0</td>\n",
       "      <td>0.65</td>\n",
       "      <td>1.04</td>\n",
       "      <td>0.01</td>\n",
       "      <td>0.06</td>\n",
       "      <td>0.22</td>\n",
       "      <td>0.68</td>\n",
       "      <td>7.39</td>\n",
       "    </tr>\n",
       "    <tr>\n",
       "      <td>ps3</td>\n",
       "      <td>493.0</td>\n",
       "      <td>0.59</td>\n",
       "      <td>1.46</td>\n",
       "      <td>0.01</td>\n",
       "      <td>0.05</td>\n",
       "      <td>0.20</td>\n",
       "      <td>0.61</td>\n",
       "      <td>21.05</td>\n",
       "    </tr>\n",
       "    <tr>\n",
       "      <td>wiiu</td>\n",
       "      <td>147.0</td>\n",
       "      <td>0.56</td>\n",
       "      <td>1.06</td>\n",
       "      <td>0.01</td>\n",
       "      <td>0.08</td>\n",
       "      <td>0.22</td>\n",
       "      <td>0.52</td>\n",
       "      <td>7.09</td>\n",
       "    </tr>\n",
       "    <tr>\n",
       "      <td>3ds</td>\n",
       "      <td>396.0</td>\n",
       "      <td>0.49</td>\n",
       "      <td>1.39</td>\n",
       "      <td>0.01</td>\n",
       "      <td>0.04</td>\n",
       "      <td>0.11</td>\n",
       "      <td>0.31</td>\n",
       "      <td>14.60</td>\n",
       "    </tr>\n",
       "    <tr>\n",
       "      <td>pc</td>\n",
       "      <td>250.0</td>\n",
       "      <td>0.25</td>\n",
       "      <td>0.49</td>\n",
       "      <td>0.01</td>\n",
       "      <td>0.03</td>\n",
       "      <td>0.08</td>\n",
       "      <td>0.24</td>\n",
       "      <td>5.14</td>\n",
       "    </tr>\n",
       "    <tr>\n",
       "      <td>psv</td>\n",
       "      <td>411.0</td>\n",
       "      <td>0.12</td>\n",
       "      <td>0.20</td>\n",
       "      <td>0.01</td>\n",
       "      <td>0.02</td>\n",
       "      <td>0.05</td>\n",
       "      <td>0.12</td>\n",
       "      <td>1.96</td>\n",
       "    </tr>\n",
       "  </tbody>\n",
       "</table>\n",
       "</div>"
      ],
      "text/plain": [
       "          count  mean   std   min   25%   50%   75%    max\n",
       "platform                                                  \n",
       "x360      292.0  0.81  1.71  0.01  0.10  0.31  0.87  16.27\n",
       "ps4       392.0  0.80  1.61  0.01  0.06  0.20  0.73  14.63\n",
       "wii        54.0  0.65  1.17  0.01  0.06  0.18  0.69   6.76\n",
       "xone      247.0  0.65  1.04  0.01  0.06  0.22  0.68   7.39\n",
       "ps3       493.0  0.59  1.46  0.01  0.05  0.20  0.61  21.05\n",
       "wiiu      147.0  0.56  1.06  0.01  0.08  0.22  0.52   7.09\n",
       "3ds       396.0  0.49  1.39  0.01  0.04  0.11  0.31  14.60\n",
       "pc        250.0  0.25  0.49  0.01  0.03  0.08  0.24   5.14\n",
       "psv       411.0  0.12  0.20  0.01  0.02  0.05  0.12   1.96"
      ]
     },
     "execution_count": 31,
     "metadata": {},
     "output_type": "execute_result"
    }
   ],
   "source": [
    "plt.figure(figsize=(10, 8))\n",
    "g = sns.boxplot(x='total_sales', y='platform',\n",
    "            data = df_actual,\n",
    "            width = 0.5,\n",
    "            showmeans=True,\n",
    "            palette='Set2'\n",
    ")\n",
    "g.set_xscale('log')\n",
    "g.set_ylabel('Игровая платформа')\n",
    "g.set_xlabel('Количество продаж (млн.копий) - логарифмическая шкала')\n",
    "g.set_title('Диаграмма размаха за актуальный период для различных платформ')\n",
    "plt.show()\n",
    "df_actual.groupby('platform')['total_sales'].describe().sort_values('mean', ascending = False).round(2)"
   ]
  },
  {
   "cell_type": "markdown",
   "metadata": {},
   "source": [
    "Из диаграммы размаха видно, что среднее значение количеств продаж отличается от медианного в большую сторону, что указывает на положительную асимметрию данных. Это связано с тем, что большие количества продаж, характерные для популярных игр, смещают среднее значение вправо."
   ]
  },
  {
   "cell_type": "markdown",
   "metadata": {},
   "source": [
    "#### Влияние отзывов на количество продаж"
   ]
  },
  {
   "cell_type": "markdown",
   "metadata": {},
   "source": [
    "Рассмотрим на примере платформы *ps4* как влияют на продажи отзывы пользователей и критиков:"
   ]
  },
  {
   "cell_type": "code",
   "execution_count": 32,
   "metadata": {},
   "outputs": [
    {
     "data": {
      "image/png": "[encoded data removed]",
      "text/plain": [
       "<Figure size 936x936 with 6 Axes>"
      ]
     },
     "metadata": {
      "needs_background": "light"
     },
     "output_type": "display_data"
    }
   ],
   "source": [
    "# Включим в датасет отзывы с рейтингом выше 0, чтобы исключить влияние пропусков \n",
    "df_critics_ranking_ps4 = df_actual.query('critic_score > 0 and platform == \"ps4\"')\n",
    "df_users_ranking_ps4 = df_actual.query('user_score > 0 and platform == \"ps4\"')\n",
    "\n",
    "# Вычислим коэффициенты корреляции между продажами и рейтингом критиков / пользователей \n",
    "corr_total_sales_critics_rank_ps4 = df_critics_ranking_ps4[['critic_score', 'total_sales']].corr()\n",
    "corr_total_sales_users_rank_ps4 = df_users_ranking_ps4[['user_score', 'total_sales']].corr()\n",
    "\n",
    "fig, axes = plt.subplots(nrows = 2, ncols = 2, figsize=(13, 13), gridspec_kw={'hspace': 0.25})\n",
    "g = df_critics_ranking_ps4.plot(ax=axes[0,0], x='critic_score', y='total_sales', kind='scatter', alpha = 0.5, grid=True)\n",
    "plt.ylim([0.001,100])\n",
    "g.set_yscale('log')\n",
    "g.set_title('Зависимость объема продаж от рейтинга критиков')\n",
    "g.set_ylabel('Количество продаж (млн.копий)')\n",
    "g.set_xlabel('Оценка критиков')\n",
    "\n",
    "g = df_users_ranking_ps4.plot(ax=axes[0,1], x='user_score', y='total_sales', kind='scatter', alpha = 0.5, grid=True)\n",
    "g.set_yscale('log')\n",
    "g.set_title('Зависимость объема продаж от рейтинга пользователей')\n",
    "g.set_ylabel('Количество продаж (млн.копий)')\n",
    "g.set_xlabel('Оценка пользователей')\n",
    "\n",
    "g = sns.heatmap(corr_total_sales_critics_rank_ps4, \n",
    "                annot=True, \n",
    "                fmt='.2f', vmin=-1, vmax=1, linewidths=.1, \n",
    "                cmap='vlag', ax=axes[1,0])\n",
    "g.set_title('Коэффициенты корреляции \\n между рейтингом критиков и продажами')\n",
    "g = sns.heatmap(corr_total_sales_users_rank_ps4,\n",
    "                annot=True, fmt='.2f', vmin=-1, vmax=1, linewidths=.1,\n",
    "                cmap='vlag', ax=axes[1,1])\n",
    "g.set_title('Коэффициенты корреляции \\n между рейтингом пользователей и продажами')\n",
    "plt.show()"
   ]
  },
  {
   "cell_type": "markdown",
   "metadata": {},
   "source": [
    "Получим коэффициенты корреляции между рейтингом критиков/пользователей и объемом продаж для остальных платформ и сравним их: "
   ]
  },
  {
   "cell_type": "code",
   "execution_count": 33,
   "metadata": {},
   "outputs": [],
   "source": [
    "df_critics_ranking_all_platforms = df_actual.query('(critic_score > 0) and (platform in @list_of_platforms_2016)')\n",
    "df_users_ranking_all_platforms = df_actual.query('(user_score > 0) and (platform in @list_of_platforms_2016)')"
   ]
  },
  {
   "cell_type": "code",
   "execution_count": 34,
   "metadata": {},
   "outputs": [],
   "source": [
    "corr_total_sales_critics_rank_all_platforms = df_critics_ranking_all_platforms[['critic_score', 'platform']] \\\n",
    "                                                    .groupby('platform') \\\n",
    "                                                    .corrwith(df_critics_ranking_all_platforms.total_sales) \\\n",
    "                                                    .rename(columns={'critic_score' : 'Corr_Coef_Critics'})\n",
    "\n",
    "corr_total_sales_users_rank_all_platforms = df_users_ranking_all_platforms[['user_score', 'platform']] \\\n",
    "                                                    .groupby('platform') \\\n",
    "                                                    .corrwith(df_users_ranking_all_platforms.total_sales) \\\n",
    "                                                    .rename(columns={'user_score' : 'Corr_Coef_Users'})"
   ]
  },
  {
   "cell_type": "code",
   "execution_count": 35,
   "metadata": {},
   "outputs": [
    {
     "data": {
      "image/png": "[encoded data removed]",
      "text/plain": [
       "<Figure size 864x432 with 4 Axes>"
      ]
     },
     "metadata": {
      "needs_background": "light"
     },
     "output_type": "display_data"
    }
   ],
   "source": [
    "fig, axes = plt.subplots(nrows = 1, ncols = 2, figsize=(12, 6))\n",
    "fig.suptitle('Коэффициенты корреляции между продажами и рейтингом критиков/пользователей для различных платформ')\n",
    "g = sns.heatmap(corr_total_sales_critics_rank_all_platforms,\n",
    "                annot=True, fmt='.2f', vmin=-1, vmax=1, linewidths=.1,\n",
    "                cmap='vlag', ax=axes[0])\n",
    "g.set_title('критики')\n",
    "g.set_ylabel('Игровая платформа')\n",
    "\n",
    "g = sns.heatmap(corr_total_sales_users_rank_all_platforms, annot=True, fmt='.2f', vmin=-1, vmax=1, linewidths=.1,\n",
    "                cmap='vlag', ax=axes[1])\n",
    "g.set_title('пользователи')\n",
    "g.set_ylabel('Игровая платформа')\n",
    "plt.show()"
   ]
  },
  {
   "cell_type": "markdown",
   "metadata": {},
   "source": [
    "Из полученных коэффициентов корреляции видно, что в целом, роль оценки критиков коррелирует с продажами для большинства игровых платформ. Оценки пользователей оказывают серьезное влияние только на продажи игр для платформ *wii* и *wiuu*, что является интересным моментом и, вероятнее всего, это связано с особенностью регионов, где приобретение игр на этих платформах наиболее распространено. Возможно также, что это является случайностью."
   ]
  },
  {
   "cell_type": "markdown",
   "metadata": {},
   "source": [
    "#### Влияние редких и выбивающихся значений объемов продаж"
   ]
  },
  {
   "cell_type": "markdown",
   "metadata": {},
   "source": [
    "В дополнение, оценим влияние редких (выбивающихся) значений объемов продаж, которые связаны с наиболее популярными играми на платформах. Их исключение само по себе нежелательно, т.к. они представляют ценную информацию о лидерах рынка игр. Тем не менее, если требуется оценить показатели продаж для \"типичной\" игры на платформе, то следует предпринять дополнительную обработку. "
   ]
  },
  {
   "cell_type": "code",
   "execution_count": 36,
   "metadata": {},
   "outputs": [
    {
     "data": {
      "image/png": "[encoded data removed]",
      "text/plain": [
       "<Figure size 720x576 with 1 Axes>"
      ]
     },
     "metadata": {
      "needs_background": "light"
     },
     "output_type": "display_data"
    },
    {
     "data": {
      "text/html": [
       "<div>\n",
       "<style scoped>\n",
       "    .dataframe tbody tr th:only-of-type {\n",
       "        vertical-align: middle;\n",
       "    }\n",
       "\n",
       "    .dataframe tbody tr th {\n",
       "        vertical-align: top;\n",
       "    }\n",
       "\n",
       "    .dataframe thead th {\n",
       "        text-align: right;\n",
       "    }\n",
       "</style>\n",
       "<table border=\"1\" class=\"dataframe\">\n",
       "  <thead>\n",
       "    <tr style=\"text-align: right;\">\n",
       "      <th></th>\n",
       "      <th>count</th>\n",
       "      <th>mean</th>\n",
       "      <th>std</th>\n",
       "      <th>min</th>\n",
       "      <th>25%</th>\n",
       "      <th>50%</th>\n",
       "      <th>75%</th>\n",
       "      <th>max</th>\n",
       "    </tr>\n",
       "    <tr>\n",
       "      <th>platform</th>\n",
       "      <th></th>\n",
       "      <th></th>\n",
       "      <th></th>\n",
       "      <th></th>\n",
       "      <th></th>\n",
       "      <th></th>\n",
       "      <th></th>\n",
       "      <th></th>\n",
       "    </tr>\n",
       "  </thead>\n",
       "  <tbody>\n",
       "    <tr>\n",
       "      <td>x360</td>\n",
       "      <td>241.0</td>\n",
       "      <td>0.32</td>\n",
       "      <td>0.30</td>\n",
       "      <td>0.01</td>\n",
       "      <td>0.08</td>\n",
       "      <td>0.22</td>\n",
       "      <td>0.48</td>\n",
       "      <td>1.11</td>\n",
       "    </tr>\n",
       "    <tr>\n",
       "      <td>ps3</td>\n",
       "      <td>436.0</td>\n",
       "      <td>0.27</td>\n",
       "      <td>0.29</td>\n",
       "      <td>0.01</td>\n",
       "      <td>0.04</td>\n",
       "      <td>0.14</td>\n",
       "      <td>0.41</td>\n",
       "      <td>1.08</td>\n",
       "    </tr>\n",
       "    <tr>\n",
       "      <td>wiiu</td>\n",
       "      <td>131.0</td>\n",
       "      <td>0.27</td>\n",
       "      <td>0.26</td>\n",
       "      <td>0.01</td>\n",
       "      <td>0.06</td>\n",
       "      <td>0.18</td>\n",
       "      <td>0.40</td>\n",
       "      <td>1.10</td>\n",
       "    </tr>\n",
       "    <tr>\n",
       "      <td>wii</td>\n",
       "      <td>46.0</td>\n",
       "      <td>0.27</td>\n",
       "      <td>0.30</td>\n",
       "      <td>0.01</td>\n",
       "      <td>0.04</td>\n",
       "      <td>0.15</td>\n",
       "      <td>0.39</td>\n",
       "      <td>0.96</td>\n",
       "    </tr>\n",
       "    <tr>\n",
       "      <td>xone</td>\n",
       "      <td>200.0</td>\n",
       "      <td>0.24</td>\n",
       "      <td>0.26</td>\n",
       "      <td>0.01</td>\n",
       "      <td>0.04</td>\n",
       "      <td>0.15</td>\n",
       "      <td>0.36</td>\n",
       "      <td>1.08</td>\n",
       "    </tr>\n",
       "    <tr>\n",
       "      <td>ps4</td>\n",
       "      <td>318.0</td>\n",
       "      <td>0.24</td>\n",
       "      <td>0.26</td>\n",
       "      <td>0.01</td>\n",
       "      <td>0.05</td>\n",
       "      <td>0.12</td>\n",
       "      <td>0.34</td>\n",
       "      <td>1.10</td>\n",
       "    </tr>\n",
       "    <tr>\n",
       "      <td>3ds</td>\n",
       "      <td>359.0</td>\n",
       "      <td>0.18</td>\n",
       "      <td>0.22</td>\n",
       "      <td>0.01</td>\n",
       "      <td>0.04</td>\n",
       "      <td>0.09</td>\n",
       "      <td>0.24</td>\n",
       "      <td>1.11</td>\n",
       "    </tr>\n",
       "    <tr>\n",
       "      <td>pc</td>\n",
       "      <td>238.0</td>\n",
       "      <td>0.17</td>\n",
       "      <td>0.22</td>\n",
       "      <td>0.01</td>\n",
       "      <td>0.02</td>\n",
       "      <td>0.07</td>\n",
       "      <td>0.22</td>\n",
       "      <td>0.96</td>\n",
       "    </tr>\n",
       "    <tr>\n",
       "      <td>psv</td>\n",
       "      <td>406.0</td>\n",
       "      <td>0.10</td>\n",
       "      <td>0.14</td>\n",
       "      <td>0.01</td>\n",
       "      <td>0.02</td>\n",
       "      <td>0.05</td>\n",
       "      <td>0.12</td>\n",
       "      <td>1.01</td>\n",
       "    </tr>\n",
       "  </tbody>\n",
       "</table>\n",
       "</div>"
      ],
      "text/plain": [
       "          count  mean   std   min   25%   50%   75%   max\n",
       "platform                                                 \n",
       "x360      241.0  0.32  0.30  0.01  0.08  0.22  0.48  1.11\n",
       "ps3       436.0  0.27  0.29  0.01  0.04  0.14  0.41  1.08\n",
       "wiiu      131.0  0.27  0.26  0.01  0.06  0.18  0.40  1.10\n",
       "wii        46.0  0.27  0.30  0.01  0.04  0.15  0.39  0.96\n",
       "xone      200.0  0.24  0.26  0.01  0.04  0.15  0.36  1.08\n",
       "ps4       318.0  0.24  0.26  0.01  0.05  0.12  0.34  1.10\n",
       "3ds       359.0  0.18  0.22  0.01  0.04  0.09  0.24  1.11\n",
       "pc        238.0  0.17  0.22  0.01  0.02  0.07  0.22  0.96\n",
       "psv       406.0  0.10  0.14  0.01  0.02  0.05  0.12  1.01"
      ]
     },
     "execution_count": 36,
     "metadata": {},
     "output_type": "execute_result"
    }
   ],
   "source": [
    "# Исключаем редкие значения из условия, что они не входят в полуторный межквартильный (Q1-Q3) размах.\n",
    "Q1 = df_actual['total_sales'].quantile(0.25)\n",
    "Q3 = df_actual['total_sales'].quantile(0.75)\n",
    "IQR = Q3 - Q1\n",
    "df_actual_without_outliers = df_actual[(df_actual['total_sales'] > (Q1-1.5*IQR)) & (df_actual['total_sales'] < (Q3+1.5*IQR))]\n",
    "\n",
    "plt.figure(figsize=(10, 8))\n",
    "g = sns.boxplot(x='total_sales', y='platform',\n",
    "            data = df_actual_without_outliers,\n",
    "            width = 0.5,\n",
    "            showmeans=True,\n",
    "            palette='Set2'\n",
    ")\n",
    "g.set_ylabel('Игровая платформа')\n",
    "g.set_xlabel('Количество продаж (млн.копий)')\n",
    "g.set_title('Диаграмма размаха за актуальный период для различных платформ без выбивающихся значений')\n",
    "\n",
    "plt.show()\n",
    "df_actual_without_outliers.groupby('platform')['total_sales'].describe().sort_values('mean', ascending = False).round(2)"
   ]
  },
  {
   "cell_type": "markdown",
   "metadata": {},
   "source": [
    "Получим коэффициенты корреляции между рейтингом критиков/пользователей и объемом продаж без выбивающихся значений для интересующих платформ:"
   ]
  },
  {
   "cell_type": "code",
   "execution_count": 37,
   "metadata": {},
   "outputs": [],
   "source": [
    "df_critics_ranking_all_platforms_without_outliers = df_actual_without_outliers \\\n",
    "                                                        .query('(critic_score > 0) and (platform in @list_of_platforms_2016)')\n",
    "df_users_ranking_all_platforms_without_outliers = df_actual_without_outliers \\\n",
    "                                                        .query('(user_score > 0) and (platform in @list_of_platforms_2016)')"
   ]
  },
  {
   "cell_type": "code",
   "execution_count": 38,
   "metadata": {},
   "outputs": [],
   "source": [
    "corr_total_sales_critics_rank_all_platform_without_outliers = \\\n",
    "                                    df_critics_ranking_all_platforms_without_outliers[['critic_score', 'platform']] \\\n",
    "                                        .groupby('platform') \\\n",
    "                                        .corrwith(df_critics_ranking_all_platforms_without_outliers.total_sales) \\\n",
    "                                        .rename(columns={'critic_score' : 'Corr_Coef_Critics'})\n",
    "\n",
    "corr_total_sales_users_rank_all_platforms_without_outliers = \\\n",
    "                                    df_users_ranking_all_platforms_without_outliers[['user_score', 'platform']] \\\n",
    "                                        .groupby('platform') \\\n",
    "                                        .corrwith(df_users_ranking_all_platforms_without_outliers.total_sales) \\\n",
    "                                        .rename(columns={'user_score' : 'Corr_Coef_Users'})"
   ]
  },
  {
   "cell_type": "code",
   "execution_count": 39,
   "metadata": {},
   "outputs": [
    {
     "data": {
      "image/png": "[encoded data removed]",
      "text/plain": [
       "<Figure size 864x432 with 4 Axes>"
      ]
     },
     "metadata": {
      "needs_background": "light"
     },
     "output_type": "display_data"
    }
   ],
   "source": [
    "fig, axes = plt.subplots(nrows = 1, ncols = 2, figsize=(12, 6))\n",
    "fig.suptitle('Коэффициенты корреляции между продажами и рейтингом критиков/пользователей \\\n",
    "для различных платформ \\n без учета выбивающихся значений')\n",
    "g = sns.heatmap(corr_total_sales_critics_rank_all_platform_without_outliers, \\\n",
    "                                annot=True, fmt='.2f', vmin=-1, vmax=1, linewidths=.1, cmap='vlag', ax=axes[0])\n",
    "g.set_title('критики')\n",
    "g.set_ylabel('Игровая платформа')\n",
    "\n",
    "g = sns.heatmap(corr_total_sales_users_rank_all_platforms_without_outliers,\\\n",
    "                                annot=True, fmt='.2f', vmin=-1, vmax=1, linewidths=.1, cmap='vlag', ax=axes[1])\n",
    "g.set_title('пользователи')\n",
    "g.set_ylabel('Игровая платформа')\n",
    "plt.show()"
   ]
  },
  {
   "cell_type": "markdown",
   "metadata": {},
   "source": [
    "Полученные корреляционные коэффициенты между продажами и рейтингом критиков для данных без выбивающихся значений по продажам демонстрируют более убедительную корреляцию, чем для полного массива данных. Следует учитывать, что для платформы *wii* в рейтинге критиков и продажах присутствуют только две точки, в связи с чем коэффициент корреляции равен 1 и не может учитываться как достоверное значение. Рейтинг пользователей как и в предыдущем случае не коррелирует с объемом продаж для большинства платформ."
   ]
  },
  {
   "cell_type": "markdown",
   "metadata": {},
   "source": [
    "### Распределение игр по жанрам"
   ]
  },
  {
   "cell_type": "markdown",
   "metadata": {},
   "source": [
    "Рассмотрим общее распределение игр по жанрам за актуальный период:"
   ]
  },
  {
   "cell_type": "code",
   "execution_count": 40,
   "metadata": {},
   "outputs": [
    {
     "data": {
      "image/png": "[encoded data removed]",
      "text/plain": [
       "<Figure size 720x432 with 1 Axes>"
      ]
     },
     "metadata": {
      "needs_background": "light"
     },
     "output_type": "display_data"
    },
    {
     "data": {
      "text/plain": [
       "action          953\n",
       "role-playing    339\n",
       "sports          256\n",
       "adventure       247\n",
       "shooter         235\n",
       "misc            180\n",
       "racing          115\n",
       "fighting        105\n",
       "platform         83\n",
       "simulation       78\n",
       "strategy         67\n",
       "puzzle           24\n",
       "Name: game_genre, dtype: int64"
      ]
     },
     "execution_count": 40,
     "metadata": {},
     "output_type": "execute_result"
    }
   ],
   "source": [
    "plt.figure(figsize=(10, 6))\n",
    "g = sns.countplot(x='game_genre', data = df_actual, order = df_actual['game_genre'].value_counts().index, color = 'c')\n",
    "g.set_xticklabels(g.get_xticklabels(), rotation=90)\n",
    "g.set_title('Распределение игр по жанрам за актуальный период')\n",
    "g.set_xlabel('Игровой жанр')\n",
    "g.set_ylabel('Количество игр')\n",
    "plt.show()\n",
    "df_actual['game_genre'].value_counts()"
   ]
  },
  {
   "cell_type": "markdown",
   "metadata": {},
   "source": [
    "Наиболее популярными жанрами выпускаемых игр являются: игры в жанре экшн, ролевые игры, спортивные игры, приключенческие и шутеры."
   ]
  },
  {
   "cell_type": "markdown",
   "metadata": {},
   "source": [
    "Определим жанры самых продаваемых игр за актуальный период:"
   ]
  },
  {
   "cell_type": "code",
   "execution_count": 41,
   "metadata": {},
   "outputs": [
    {
     "data": {
      "text/plain": [
       "game_genre\n",
       "action          435.54\n",
       "shooter         304.73\n",
       "role-playing    180.91\n",
       "sports          179.55\n",
       "misc             84.15\n",
       "platform         60.31\n",
       "racing           53.50\n",
       "fighting         44.13\n",
       "simulation       34.85\n",
       "adventure        27.70\n",
       "strategy         12.63\n",
       "puzzle            4.79\n",
       "Name: total_sales, dtype: float64"
      ]
     },
     "execution_count": 41,
     "metadata": {},
     "output_type": "execute_result"
    }
   ],
   "source": [
    "best_sales_genre = df_actual.groupby('game_genre')['total_sales'].agg('sum').sort_values(ascending = False)\n",
    "best_sales_genre"
   ]
  },
  {
   "cell_type": "code",
   "execution_count": 42,
   "metadata": {},
   "outputs": [
    {
     "data": {
      "image/png": "[encoded data removed]",
      "text/plain": [
       "<Figure size 720x432 with 1 Axes>"
      ]
     },
     "metadata": {
      "needs_background": "light"
     },
     "output_type": "display_data"
    }
   ],
   "source": [
    "plt.figure(figsize=(10, 6))\n",
    "g = sns.barplot(best_sales_genre.index, best_sales_genre.values, color = 'orange')\n",
    "g.set_xticklabels(g.get_xticklabels(), rotation=90)\n",
    "g.set_title('Распределение игр по объемам продаж для каждого жанра')\n",
    "g.set_xlabel('Жанр')\n",
    "g.set_ylabel('Количество продаж (млн.копий)')\n",
    "plt.show()"
   ]
  },
  {
   "cell_type": "markdown",
   "metadata": {},
   "source": [
    "Из диаграммы видно, что наиболее продаваемыми жанрами в актуальный период являются: игры в жанре экшн, шутеры, ролевые и спортивные игры. Наименьший объем продаж обеспечивают: головоломки, стратегии, приключенческие игры и игры-симуляторы. "
   ]
  },
  {
   "cell_type": "markdown",
   "metadata": {},
   "source": [
    "**Промежуточные выводы:**\n",
    "* Интенсивный рост продаж игр для игровых платформ начинается в 90-х годах и достигает максимума в первой декаде 2000-х, после чего идет на спад.\n",
    "* Количество продаж игр через платформы, начиная с 2012 гг., резко снижается в сравнении с предыдущими периодами. Вероятнее всего, это связано с тем, что большую популярность среди пользователей в это время начинают приобретать онлайн-игры.\n",
    "* Тор-5 игровых платформ с максимальным количеством продаж за весь временной период из текущей выборки представлены (млн.копий): ps2(1233.56), x360(961.24), ps3(931.34), wii(891.18) и ds(802.78).\n",
    "* Актуальный период, за который появляются и исчезают новые платформы варьируется от 5 до 10 лет и обладает симметрий, близкой к зеркальной.\n",
    "* Средний жизненный цикл игровой платформы составляет около 8 лет.\n",
    "* Топ-5 платформ, которые лидируют в актуальный период (2012-2016 гг.) по количеству продаж (млн.копий): ps4(314.14), ps3(288.79), x360(236.54), 3ds(194.61), xone(159.32).\n",
    "* В 2017 г. платформы *ps4* и *xone* могут иметь тенденцию как росту так и спаду продаж игр (в зависимости от полноты данных за 2016 год). Остальные платформы характеризуются нисходящим трендом по количеству продаж и находятся в завершающей стадии жизненного цикла.\n",
    "* Среднее арифметическое значение количеств продаж отличается от медианного в большую сторону. Это указывает на положительную асимметрию данных и связано с тем, что большие объемы продаж, характерные для популярных игр, смещают среднее арифметическое значение вправо.\n",
    "* Оценка критиков коррелирует с продажами для большинства игровых платформ. Оценки пользователей оказывают значимое влияние только на продажи игр для платформ *wii* и *wiiu*, что является интересным моментом. Возможно, влияние рейтинга пользователей связано с особенностью тех регионов, где приобретение игр на этих платформах наиболее распространено. Возможно также, что это является случайностью.\n",
    "* Наиболее популярными жанрами выпускаемых игр являются: игры в жанре экшн, ролевые игры, спортивные и приключенческие игры, а также шутеры.\n",
    "* Наиболее продаваемыми жанрами в актуальный период являются: игры в жанре экшн, шутеры, ролевые и спортивные игры. Наименьший объем продаж обеспечивают: головоломки, стратегии, приключенческие игры и игры-симуляторы."
   ]
  },
  {
   "cell_type": "markdown",
   "metadata": {},
   "source": [
    "## Портрет пользователя каждого региона"
   ]
  },
  {
   "cell_type": "markdown",
   "metadata": {},
   "source": [
    "### Популярные платформы"
   ]
  },
  {
   "cell_type": "markdown",
   "metadata": {},
   "source": [
    "Определим самые популярные платформы для каждого региона:"
   ]
  },
  {
   "cell_type": "code",
   "execution_count": 43,
   "metadata": {},
   "outputs": [],
   "source": [
    "best_sales_platforms_regions = df_actual.groupby('platform')[['na_sales', 'eu_sales', 'jp_sales']] \\\n",
    "                             .agg('sum').reset_index() \\\n",
    "                             .rename(columns={'na_sales': 'NA', 'eu_sales': 'EU', 'jp_sales': 'JP'})"
   ]
  },
  {
   "cell_type": "code",
   "execution_count": 44,
   "metadata": {},
   "outputs": [
    {
     "data": {
      "image/png": "[encoded data removed]",
      "text/plain": [
       "<Figure size 720x432 with 1 Axes>"
      ]
     },
     "metadata": {
      "needs_background": "light"
     },
     "output_type": "display_data"
    }
   ],
   "source": [
    "plt.figure(figsize=(10, 6))\n",
    "best_sales_platforms_regions_melt = best_sales_platforms_regions.melt \\\n",
    "                                        ('platform', var_name='region_name', value_name='region_total_sales')\n",
    "g = sns.barplot(x='platform', y='region_total_sales', hue='region_name', data=best_sales_platforms_regions_melt)\n",
    "g.set_xticklabels(g.get_xticklabels(), rotation=90)\n",
    "g.set_title('Зависимость объема продаж от региона и платформы игры')\n",
    "g.set_xlabel('Платформа')\n",
    "g.set_ylabel('Количество продаж (млн.копий)')\n",
    "plt.show()"
   ]
  },
  {
   "cell_type": "code",
   "execution_count": 45,
   "metadata": {},
   "outputs": [
    {
     "data": {
      "text/html": [
       "<style  type=\"text/css\" >\n",
       "</style><table id=\"T_71e8df4a_ba47_11eb_8b0d_02420a390f27\" ><thead>    <tr>        <th class=\"col_heading level0 col0\" >platform</th>        <th class=\"col_heading level0 col1\" >NA</th>        <th class=\"col_heading level0 col2\" >EU</th>        <th class=\"col_heading level0 col3\" >JP</th>        <th class=\"col_heading level0 col4\" >NA_rank</th>        <th class=\"col_heading level0 col5\" >EU_rank</th>        <th class=\"col_heading level0 col6\" >JP_rank</th>    </tr></thead><tbody>\n",
       "                <tr>\n",
       "                                <td id=\"T_71e8df4a_ba47_11eb_8b0d_02420a390f27row0_col0\" class=\"data row0 col0\" >3ds</td>\n",
       "                        <td id=\"T_71e8df4a_ba47_11eb_8b0d_02420a390f27row0_col1\" class=\"data row0 col1\" >55.31</td>\n",
       "                        <td id=\"T_71e8df4a_ba47_11eb_8b0d_02420a390f27row0_col2\" class=\"data row0 col2\" >42.64</td>\n",
       "                        <td id=\"T_71e8df4a_ba47_11eb_8b0d_02420a390f27row0_col3\" class=\"data row0 col3\" >87.79</td>\n",
       "                        <td id=\"T_71e8df4a_ba47_11eb_8b0d_02420a390f27row0_col4\" class=\"data row0 col4\" >5</td>\n",
       "                        <td id=\"T_71e8df4a_ba47_11eb_8b0d_02420a390f27row0_col5\" class=\"data row0 col5\" >5</td>\n",
       "                        <td id=\"T_71e8df4a_ba47_11eb_8b0d_02420a390f27row0_col6\" class=\"data row0 col6\" >1</td>\n",
       "            </tr>\n",
       "            <tr>\n",
       "                                <td id=\"T_71e8df4a_ba47_11eb_8b0d_02420a390f27row1_col0\" class=\"data row1 col0\" >pc</td>\n",
       "                        <td id=\"T_71e8df4a_ba47_11eb_8b0d_02420a390f27row1_col1\" class=\"data row1 col1\" >19.12</td>\n",
       "                        <td id=\"T_71e8df4a_ba47_11eb_8b0d_02420a390f27row1_col2\" class=\"data row1 col2\" >37.76</td>\n",
       "                        <td id=\"T_71e8df4a_ba47_11eb_8b0d_02420a390f27row1_col3\" class=\"data row1 col3\" >0</td>\n",
       "                        <td id=\"T_71e8df4a_ba47_11eb_8b0d_02420a390f27row1_col4\" class=\"data row1 col4\" >7</td>\n",
       "                        <td id=\"T_71e8df4a_ba47_11eb_8b0d_02420a390f27row1_col5\" class=\"data row1 col5\" >6</td>\n",
       "                        <td id=\"T_71e8df4a_ba47_11eb_8b0d_02420a390f27row1_col6\" class=\"data row1 col6\" >9</td>\n",
       "            </tr>\n",
       "            <tr>\n",
       "                                <td id=\"T_71e8df4a_ba47_11eb_8b0d_02420a390f27row2_col0\" class=\"data row2 col0\" >ps3</td>\n",
       "                        <td id=\"T_71e8df4a_ba47_11eb_8b0d_02420a390f27row2_col1\" class=\"data row2 col1\" >103.38</td>\n",
       "                        <td id=\"T_71e8df4a_ba47_11eb_8b0d_02420a390f27row2_col2\" class=\"data row2 col2\" >106.86</td>\n",
       "                        <td id=\"T_71e8df4a_ba47_11eb_8b0d_02420a390f27row2_col3\" class=\"data row2 col3\" >35.29</td>\n",
       "                        <td id=\"T_71e8df4a_ba47_11eb_8b0d_02420a390f27row2_col4\" class=\"data row2 col4\" >3</td>\n",
       "                        <td id=\"T_71e8df4a_ba47_11eb_8b0d_02420a390f27row2_col5\" class=\"data row2 col5\" >2</td>\n",
       "                        <td id=\"T_71e8df4a_ba47_11eb_8b0d_02420a390f27row2_col6\" class=\"data row2 col6\" >2</td>\n",
       "            </tr>\n",
       "            <tr>\n",
       "                                <td id=\"T_71e8df4a_ba47_11eb_8b0d_02420a390f27row3_col0\" class=\"data row3 col0\" >ps4</td>\n",
       "                        <td id=\"T_71e8df4a_ba47_11eb_8b0d_02420a390f27row3_col1\" class=\"data row3 col1\" >108.74</td>\n",
       "                        <td id=\"T_71e8df4a_ba47_11eb_8b0d_02420a390f27row3_col2\" class=\"data row3 col2\" >141.09</td>\n",
       "                        <td id=\"T_71e8df4a_ba47_11eb_8b0d_02420a390f27row3_col3\" class=\"data row3 col3\" >15.96</td>\n",
       "                        <td id=\"T_71e8df4a_ba47_11eb_8b0d_02420a390f27row3_col4\" class=\"data row3 col4\" >2</td>\n",
       "                        <td id=\"T_71e8df4a_ba47_11eb_8b0d_02420a390f27row3_col5\" class=\"data row3 col5\" >1</td>\n",
       "                        <td id=\"T_71e8df4a_ba47_11eb_8b0d_02420a390f27row3_col6\" class=\"data row3 col6\" >4</td>\n",
       "            </tr>\n",
       "            <tr>\n",
       "                                <td id=\"T_71e8df4a_ba47_11eb_8b0d_02420a390f27row4_col0\" class=\"data row4 col0\" >psv</td>\n",
       "                        <td id=\"T_71e8df4a_ba47_11eb_8b0d_02420a390f27row4_col1\" class=\"data row4 col1\" >10.98</td>\n",
       "                        <td id=\"T_71e8df4a_ba47_11eb_8b0d_02420a390f27row4_col2\" class=\"data row4 col2\" >11.36</td>\n",
       "                        <td id=\"T_71e8df4a_ba47_11eb_8b0d_02420a390f27row4_col3\" class=\"data row4 col3\" >21.04</td>\n",
       "                        <td id=\"T_71e8df4a_ba47_11eb_8b0d_02420a390f27row4_col4\" class=\"data row4 col4\" >9</td>\n",
       "                        <td id=\"T_71e8df4a_ba47_11eb_8b0d_02420a390f27row4_col5\" class=\"data row4 col5\" >9</td>\n",
       "                        <td id=\"T_71e8df4a_ba47_11eb_8b0d_02420a390f27row4_col6\" class=\"data row4 col6\" >3</td>\n",
       "            </tr>\n",
       "            <tr>\n",
       "                                <td id=\"T_71e8df4a_ba47_11eb_8b0d_02420a390f27row5_col0\" class=\"data row5 col0\" >wii</td>\n",
       "                        <td id=\"T_71e8df4a_ba47_11eb_8b0d_02420a390f27row5_col1\" class=\"data row5 col1\" >17.45</td>\n",
       "                        <td id=\"T_71e8df4a_ba47_11eb_8b0d_02420a390f27row5_col2\" class=\"data row5 col2\" >11.92</td>\n",
       "                        <td id=\"T_71e8df4a_ba47_11eb_8b0d_02420a390f27row5_col3\" class=\"data row5 col3\" >3.39</td>\n",
       "                        <td id=\"T_71e8df4a_ba47_11eb_8b0d_02420a390f27row5_col4\" class=\"data row5 col4\" >8</td>\n",
       "                        <td id=\"T_71e8df4a_ba47_11eb_8b0d_02420a390f27row5_col5\" class=\"data row5 col5\" >8</td>\n",
       "                        <td id=\"T_71e8df4a_ba47_11eb_8b0d_02420a390f27row5_col6\" class=\"data row5 col6\" >6</td>\n",
       "            </tr>\n",
       "            <tr>\n",
       "                                <td id=\"T_71e8df4a_ba47_11eb_8b0d_02420a390f27row6_col0\" class=\"data row6 col0\" >wiiu</td>\n",
       "                        <td id=\"T_71e8df4a_ba47_11eb_8b0d_02420a390f27row6_col1\" class=\"data row6 col1\" >38.1</td>\n",
       "                        <td id=\"T_71e8df4a_ba47_11eb_8b0d_02420a390f27row6_col2\" class=\"data row6 col2\" >25.13</td>\n",
       "                        <td id=\"T_71e8df4a_ba47_11eb_8b0d_02420a390f27row6_col3\" class=\"data row6 col3\" >13.01</td>\n",
       "                        <td id=\"T_71e8df4a_ba47_11eb_8b0d_02420a390f27row6_col4\" class=\"data row6 col4\" >6</td>\n",
       "                        <td id=\"T_71e8df4a_ba47_11eb_8b0d_02420a390f27row6_col5\" class=\"data row6 col5\" >7</td>\n",
       "                        <td id=\"T_71e8df4a_ba47_11eb_8b0d_02420a390f27row6_col6\" class=\"data row6 col6\" >5</td>\n",
       "            </tr>\n",
       "            <tr>\n",
       "                                <td id=\"T_71e8df4a_ba47_11eb_8b0d_02420a390f27row7_col0\" class=\"data row7 col0\" >x360</td>\n",
       "                        <td id=\"T_71e8df4a_ba47_11eb_8b0d_02420a390f27row7_col1\" class=\"data row7 col1\" >140.05</td>\n",
       "                        <td id=\"T_71e8df4a_ba47_11eb_8b0d_02420a390f27row7_col2\" class=\"data row7 col2\" >74.52</td>\n",
       "                        <td id=\"T_71e8df4a_ba47_11eb_8b0d_02420a390f27row7_col3\" class=\"data row7 col3\" >1.57</td>\n",
       "                        <td id=\"T_71e8df4a_ba47_11eb_8b0d_02420a390f27row7_col4\" class=\"data row7 col4\" >1</td>\n",
       "                        <td id=\"T_71e8df4a_ba47_11eb_8b0d_02420a390f27row7_col5\" class=\"data row7 col5\" >3</td>\n",
       "                        <td id=\"T_71e8df4a_ba47_11eb_8b0d_02420a390f27row7_col6\" class=\"data row7 col6\" >7</td>\n",
       "            </tr>\n",
       "            <tr>\n",
       "                                <td id=\"T_71e8df4a_ba47_11eb_8b0d_02420a390f27row8_col0\" class=\"data row8 col0\" >xone</td>\n",
       "                        <td id=\"T_71e8df4a_ba47_11eb_8b0d_02420a390f27row8_col1\" class=\"data row8 col1\" >93.12</td>\n",
       "                        <td id=\"T_71e8df4a_ba47_11eb_8b0d_02420a390f27row8_col2\" class=\"data row8 col2\" >51.59</td>\n",
       "                        <td id=\"T_71e8df4a_ba47_11eb_8b0d_02420a390f27row8_col3\" class=\"data row8 col3\" >0.34</td>\n",
       "                        <td id=\"T_71e8df4a_ba47_11eb_8b0d_02420a390f27row8_col4\" class=\"data row8 col4\" >4</td>\n",
       "                        <td id=\"T_71e8df4a_ba47_11eb_8b0d_02420a390f27row8_col5\" class=\"data row8 col5\" >4</td>\n",
       "                        <td id=\"T_71e8df4a_ba47_11eb_8b0d_02420a390f27row8_col6\" class=\"data row8 col6\" >8</td>\n",
       "            </tr>\n",
       "    </tbody></table>"
      ],
      "text/plain": [
       "<pandas.io.formats.style.Styler at 0x7f82caa07150>"
      ]
     },
     "execution_count": 45,
     "metadata": {},
     "output_type": "execute_result"
    }
   ],
   "source": [
    "best_sales_platforms_regions_ranking = best_sales_platforms_regions.copy()\n",
    "best_sales_platforms_regions_ranking['NA_rank'] = best_sales_platforms_regions['NA'].rank(ascending=False).astype('int64')\n",
    "best_sales_platforms_regions_ranking['EU_rank'] = best_sales_platforms_regions['EU'].rank(ascending=False).astype('int64')\n",
    "best_sales_platforms_regions_ranking['JP_rank'] = best_sales_platforms_regions['JP'].rank(ascending=False).astype('int64')\n",
    "best_sales_platforms_regions_ranking.style.hide_index()"
   ]
  },
  {
   "cell_type": "markdown",
   "metadata": {},
   "source": [
    "Популярность платформ довольно близка для рынков Северной Америки и Европы, где лидируют x360 (NA), ps4 (EU), ps3, xone и 3ds. Для рынка Японии лидеры расположены в иной последовательности и представлены рядом других платформ: 3ds, ps3, psv, ps4 и wiiu."
   ]
  },
  {
   "cell_type": "markdown",
   "metadata": {},
   "source": [
    "### Популярные жанры"
   ]
  },
  {
   "cell_type": "markdown",
   "metadata": {},
   "source": [
    "Определим самые популярные жанры игр для каждого региона:"
   ]
  },
  {
   "cell_type": "code",
   "execution_count": 46,
   "metadata": {},
   "outputs": [],
   "source": [
    "best_sales_genres_regions = df_actual.groupby('game_genre')[['na_sales', 'eu_sales', 'jp_sales']] \\\n",
    "                             .agg('sum').reset_index() \\\n",
    "                             .rename(columns={'na_sales': 'NA', 'eu_sales': 'EU', 'jp_sales': 'JP'})"
   ]
  },
  {
   "cell_type": "code",
   "execution_count": 47,
   "metadata": {},
   "outputs": [
    {
     "data": {
      "image/png": "[encoded data removed]",
      "text/plain": [
       "<Figure size 720x432 with 1 Axes>"
      ]
     },
     "metadata": {
      "needs_background": "light"
     },
     "output_type": "display_data"
    }
   ],
   "source": [
    "plt.figure(figsize=(10, 6))\n",
    "best_sales_genres_regions_melt = best_sales_genres_regions.melt \\\n",
    "                                        ('game_genre', var_name='region_name', value_name='region_total_sales')\n",
    "g = sns.barplot(x='game_genre', y='region_total_sales', hue='region_name', data=best_sales_genres_regions_melt)\n",
    "g.set_xticklabels(g.get_xticklabels(), rotation=90)\n",
    "g.set_title('Зависимость объема продаж от региона и жанра игры')\n",
    "g.set_xlabel('Жанр')\n",
    "g.set_ylabel('Количество продаж (млн.копий)')\n",
    "plt.show()"
   ]
  },
  {
   "cell_type": "code",
   "execution_count": 48,
   "metadata": {},
   "outputs": [
    {
     "data": {
      "text/html": [
       "<style  type=\"text/css\" >\n",
       "</style><table id=\"T_724fb2c4_ba47_11eb_8b0d_02420a390f27\" ><thead>    <tr>        <th class=\"col_heading level0 col0\" >game_genre</th>        <th class=\"col_heading level0 col1\" >NA</th>        <th class=\"col_heading level0 col2\" >EU</th>        <th class=\"col_heading level0 col3\" >JP</th>        <th class=\"col_heading level0 col4\" >NA_rank</th>        <th class=\"col_heading level0 col5\" >EU_rank</th>        <th class=\"col_heading level0 col6\" >JP_rank</th>    </tr></thead><tbody>\n",
       "                <tr>\n",
       "                                <td id=\"T_724fb2c4_ba47_11eb_8b0d_02420a390f27row0_col0\" class=\"data row0 col0\" >action</td>\n",
       "                        <td id=\"T_724fb2c4_ba47_11eb_8b0d_02420a390f27row0_col1\" class=\"data row0 col1\" >177</td>\n",
       "                        <td id=\"T_724fb2c4_ba47_11eb_8b0d_02420a390f27row0_col2\" class=\"data row0 col2\" >158.43</td>\n",
       "                        <td id=\"T_724fb2c4_ba47_11eb_8b0d_02420a390f27row0_col3\" class=\"data row0 col3\" >49.18</td>\n",
       "                        <td id=\"T_724fb2c4_ba47_11eb_8b0d_02420a390f27row0_col4\" class=\"data row0 col4\" >1</td>\n",
       "                        <td id=\"T_724fb2c4_ba47_11eb_8b0d_02420a390f27row0_col5\" class=\"data row0 col5\" >1</td>\n",
       "                        <td id=\"T_724fb2c4_ba47_11eb_8b0d_02420a390f27row0_col6\" class=\"data row0 col6\" >2</td>\n",
       "            </tr>\n",
       "            <tr>\n",
       "                                <td id=\"T_724fb2c4_ba47_11eb_8b0d_02420a390f27row1_col0\" class=\"data row1 col0\" >adventure</td>\n",
       "                        <td id=\"T_724fb2c4_ba47_11eb_8b0d_02420a390f27row1_col1\" class=\"data row1 col1\" >8.92</td>\n",
       "                        <td id=\"T_724fb2c4_ba47_11eb_8b0d_02420a390f27row1_col2\" class=\"data row1 col2\" >9.41</td>\n",
       "                        <td id=\"T_724fb2c4_ba47_11eb_8b0d_02420a390f27row1_col3\" class=\"data row1 col3\" >6.56</td>\n",
       "                        <td id=\"T_724fb2c4_ba47_11eb_8b0d_02420a390f27row1_col4\" class=\"data row1 col4\" >9</td>\n",
       "                        <td id=\"T_724fb2c4_ba47_11eb_8b0d_02420a390f27row1_col5\" class=\"data row1 col5\" >10</td>\n",
       "                        <td id=\"T_724fb2c4_ba47_11eb_8b0d_02420a390f27row1_col6\" class=\"data row1 col6\" >9</td>\n",
       "            </tr>\n",
       "            <tr>\n",
       "                                <td id=\"T_724fb2c4_ba47_11eb_8b0d_02420a390f27row2_col0\" class=\"data row2 col0\" >fighting</td>\n",
       "                        <td id=\"T_724fb2c4_ba47_11eb_8b0d_02420a390f27row2_col1\" class=\"data row2 col1\" >19.79</td>\n",
       "                        <td id=\"T_724fb2c4_ba47_11eb_8b0d_02420a390f27row2_col2\" class=\"data row2 col2\" >10.79</td>\n",
       "                        <td id=\"T_724fb2c4_ba47_11eb_8b0d_02420a390f27row2_col3\" class=\"data row2 col3\" >9.08</td>\n",
       "                        <td id=\"T_724fb2c4_ba47_11eb_8b0d_02420a390f27row2_col4\" class=\"data row2 col4\" >7</td>\n",
       "                        <td id=\"T_724fb2c4_ba47_11eb_8b0d_02420a390f27row2_col5\" class=\"data row2 col5\" >9</td>\n",
       "                        <td id=\"T_724fb2c4_ba47_11eb_8b0d_02420a390f27row2_col6\" class=\"data row2 col6\" >6</td>\n",
       "            </tr>\n",
       "            <tr>\n",
       "                                <td id=\"T_724fb2c4_ba47_11eb_8b0d_02420a390f27row3_col0\" class=\"data row3 col0\" >misc</td>\n",
       "                        <td id=\"T_724fb2c4_ba47_11eb_8b0d_02420a390f27row3_col1\" class=\"data row3 col1\" >38.13</td>\n",
       "                        <td id=\"T_724fb2c4_ba47_11eb_8b0d_02420a390f27row3_col2\" class=\"data row3 col2\" >25.95</td>\n",
       "                        <td id=\"T_724fb2c4_ba47_11eb_8b0d_02420a390f27row3_col3\" class=\"data row3 col3\" >12.45</td>\n",
       "                        <td id=\"T_724fb2c4_ba47_11eb_8b0d_02420a390f27row3_col4\" class=\"data row3 col4\" >5</td>\n",
       "                        <td id=\"T_724fb2c4_ba47_11eb_8b0d_02420a390f27row3_col5\" class=\"data row3 col5\" >6</td>\n",
       "                        <td id=\"T_724fb2c4_ba47_11eb_8b0d_02420a390f27row3_col6\" class=\"data row3 col6\" >3</td>\n",
       "            </tr>\n",
       "            <tr>\n",
       "                                <td id=\"T_724fb2c4_ba47_11eb_8b0d_02420a390f27row4_col0\" class=\"data row4 col0\" >platform</td>\n",
       "                        <td id=\"T_724fb2c4_ba47_11eb_8b0d_02420a390f27row4_col1\" class=\"data row4 col1\" >25.17</td>\n",
       "                        <td id=\"T_724fb2c4_ba47_11eb_8b0d_02420a390f27row4_col2\" class=\"data row4 col2\" >20.98</td>\n",
       "                        <td id=\"T_724fb2c4_ba47_11eb_8b0d_02420a390f27row4_col3\" class=\"data row4 col3\" >8.63</td>\n",
       "                        <td id=\"T_724fb2c4_ba47_11eb_8b0d_02420a390f27row4_col4\" class=\"data row4 col4\" >6</td>\n",
       "                        <td id=\"T_724fb2c4_ba47_11eb_8b0d_02420a390f27row4_col5\" class=\"data row4 col5\" >7</td>\n",
       "                        <td id=\"T_724fb2c4_ba47_11eb_8b0d_02420a390f27row4_col6\" class=\"data row4 col6\" >7</td>\n",
       "            </tr>\n",
       "            <tr>\n",
       "                                <td id=\"T_724fb2c4_ba47_11eb_8b0d_02420a390f27row5_col0\" class=\"data row5 col0\" >puzzle</td>\n",
       "                        <td id=\"T_724fb2c4_ba47_11eb_8b0d_02420a390f27row5_col1\" class=\"data row5 col1\" >1.13</td>\n",
       "                        <td id=\"T_724fb2c4_ba47_11eb_8b0d_02420a390f27row5_col2\" class=\"data row5 col2\" >1.31</td>\n",
       "                        <td id=\"T_724fb2c4_ba47_11eb_8b0d_02420a390f27row5_col3\" class=\"data row5 col3\" >2.14</td>\n",
       "                        <td id=\"T_724fb2c4_ba47_11eb_8b0d_02420a390f27row5_col4\" class=\"data row5 col4\" >12</td>\n",
       "                        <td id=\"T_724fb2c4_ba47_11eb_8b0d_02420a390f27row5_col5\" class=\"data row5 col5\" >12</td>\n",
       "                        <td id=\"T_724fb2c4_ba47_11eb_8b0d_02420a390f27row5_col6\" class=\"data row5 col6\" >12</td>\n",
       "            </tr>\n",
       "            <tr>\n",
       "                                <td id=\"T_724fb2c4_ba47_11eb_8b0d_02420a390f27row6_col0\" class=\"data row6 col0\" >racing</td>\n",
       "                        <td id=\"T_724fb2c4_ba47_11eb_8b0d_02420a390f27row6_col1\" class=\"data row6 col1\" >17.22</td>\n",
       "                        <td id=\"T_724fb2c4_ba47_11eb_8b0d_02420a390f27row6_col2\" class=\"data row6 col2\" >27.29</td>\n",
       "                        <td id=\"T_724fb2c4_ba47_11eb_8b0d_02420a390f27row6_col3\" class=\"data row6 col3\" >2.5</td>\n",
       "                        <td id=\"T_724fb2c4_ba47_11eb_8b0d_02420a390f27row6_col4\" class=\"data row6 col4\" >8</td>\n",
       "                        <td id=\"T_724fb2c4_ba47_11eb_8b0d_02420a390f27row6_col5\" class=\"data row6 col5\" >5</td>\n",
       "                        <td id=\"T_724fb2c4_ba47_11eb_8b0d_02420a390f27row6_col6\" class=\"data row6 col6\" >10</td>\n",
       "            </tr>\n",
       "            <tr>\n",
       "                                <td id=\"T_724fb2c4_ba47_11eb_8b0d_02420a390f27row7_col0\" class=\"data row7 col0\" >role-playing</td>\n",
       "                        <td id=\"T_724fb2c4_ba47_11eb_8b0d_02420a390f27row7_col1\" class=\"data row7 col1\" >60.65</td>\n",
       "                        <td id=\"T_724fb2c4_ba47_11eb_8b0d_02420a390f27row7_col2\" class=\"data row7 col2\" >46.76</td>\n",
       "                        <td id=\"T_724fb2c4_ba47_11eb_8b0d_02420a390f27row7_col3\" class=\"data row7 col3\" >59.12</td>\n",
       "                        <td id=\"T_724fb2c4_ba47_11eb_8b0d_02420a390f27row7_col4\" class=\"data row7 col4\" >4</td>\n",
       "                        <td id=\"T_724fb2c4_ba47_11eb_8b0d_02420a390f27row7_col5\" class=\"data row7 col5\" >4</td>\n",
       "                        <td id=\"T_724fb2c4_ba47_11eb_8b0d_02420a390f27row7_col6\" class=\"data row7 col6\" >1</td>\n",
       "            </tr>\n",
       "            <tr>\n",
       "                                <td id=\"T_724fb2c4_ba47_11eb_8b0d_02420a390f27row8_col0\" class=\"data row8 col0\" >shooter</td>\n",
       "                        <td id=\"T_724fb2c4_ba47_11eb_8b0d_02420a390f27row8_col1\" class=\"data row8 col1\" >144.77</td>\n",
       "                        <td id=\"T_724fb2c4_ba47_11eb_8b0d_02420a390f27row8_col2\" class=\"data row8 col2\" >113.47</td>\n",
       "                        <td id=\"T_724fb2c4_ba47_11eb_8b0d_02420a390f27row8_col3\" class=\"data row8 col3\" >9.23</td>\n",
       "                        <td id=\"T_724fb2c4_ba47_11eb_8b0d_02420a390f27row8_col4\" class=\"data row8 col4\" >2</td>\n",
       "                        <td id=\"T_724fb2c4_ba47_11eb_8b0d_02420a390f27row8_col5\" class=\"data row8 col5\" >2</td>\n",
       "                        <td id=\"T_724fb2c4_ba47_11eb_8b0d_02420a390f27row8_col6\" class=\"data row8 col6\" >5</td>\n",
       "            </tr>\n",
       "            <tr>\n",
       "                                <td id=\"T_724fb2c4_ba47_11eb_8b0d_02420a390f27row9_col0\" class=\"data row9 col0\" >simulation</td>\n",
       "                        <td id=\"T_724fb2c4_ba47_11eb_8b0d_02420a390f27row9_col1\" class=\"data row9 col1\" >7.86</td>\n",
       "                        <td id=\"T_724fb2c4_ba47_11eb_8b0d_02420a390f27row9_col2\" class=\"data row9 col2\" >14.47</td>\n",
       "                        <td id=\"T_724fb2c4_ba47_11eb_8b0d_02420a390f27row9_col3\" class=\"data row9 col3\" >10.35</td>\n",
       "                        <td id=\"T_724fb2c4_ba47_11eb_8b0d_02420a390f27row9_col4\" class=\"data row9 col4\" >10</td>\n",
       "                        <td id=\"T_724fb2c4_ba47_11eb_8b0d_02420a390f27row9_col5\" class=\"data row9 col5\" >8</td>\n",
       "                        <td id=\"T_724fb2c4_ba47_11eb_8b0d_02420a390f27row9_col6\" class=\"data row9 col6\" >4</td>\n",
       "            </tr>\n",
       "            <tr>\n",
       "                                <td id=\"T_724fb2c4_ba47_11eb_8b0d_02420a390f27row10_col0\" class=\"data row10 col0\" >sports</td>\n",
       "                        <td id=\"T_724fb2c4_ba47_11eb_8b0d_02420a390f27row10_col1\" class=\"data row10 col1\" >81.38</td>\n",
       "                        <td id=\"T_724fb2c4_ba47_11eb_8b0d_02420a390f27row10_col2\" class=\"data row10 col2\" >68.84</td>\n",
       "                        <td id=\"T_724fb2c4_ba47_11eb_8b0d_02420a390f27row10_col3\" class=\"data row10 col3\" >6.98</td>\n",
       "                        <td id=\"T_724fb2c4_ba47_11eb_8b0d_02420a390f27row10_col4\" class=\"data row10 col4\" >3</td>\n",
       "                        <td id=\"T_724fb2c4_ba47_11eb_8b0d_02420a390f27row10_col5\" class=\"data row10 col5\" >3</td>\n",
       "                        <td id=\"T_724fb2c4_ba47_11eb_8b0d_02420a390f27row10_col6\" class=\"data row10 col6\" >8</td>\n",
       "            </tr>\n",
       "            <tr>\n",
       "                                <td id=\"T_724fb2c4_ba47_11eb_8b0d_02420a390f27row11_col0\" class=\"data row11 col0\" >strategy</td>\n",
       "                        <td id=\"T_724fb2c4_ba47_11eb_8b0d_02420a390f27row11_col1\" class=\"data row11 col1\" >4.23</td>\n",
       "                        <td id=\"T_724fb2c4_ba47_11eb_8b0d_02420a390f27row11_col2\" class=\"data row11 col2\" >5.17</td>\n",
       "                        <td id=\"T_724fb2c4_ba47_11eb_8b0d_02420a390f27row11_col3\" class=\"data row11 col3\" >2.17</td>\n",
       "                        <td id=\"T_724fb2c4_ba47_11eb_8b0d_02420a390f27row11_col4\" class=\"data row11 col4\" >11</td>\n",
       "                        <td id=\"T_724fb2c4_ba47_11eb_8b0d_02420a390f27row11_col5\" class=\"data row11 col5\" >11</td>\n",
       "                        <td id=\"T_724fb2c4_ba47_11eb_8b0d_02420a390f27row11_col6\" class=\"data row11 col6\" >11</td>\n",
       "            </tr>\n",
       "    </tbody></table>"
      ],
      "text/plain": [
       "<pandas.io.formats.style.Styler at 0x7f82ca8c2d50>"
      ]
     },
     "execution_count": 48,
     "metadata": {},
     "output_type": "execute_result"
    }
   ],
   "source": [
    "best_sales_genres_regions_ranking = best_sales_genres_regions.copy()\n",
    "best_sales_genres_regions_ranking['NA_rank'] = best_sales_genres_regions['NA'].rank(ascending=False).astype('int64')\n",
    "best_sales_genres_regions_ranking['EU_rank'] = best_sales_genres_regions['EU'].rank(ascending=False).astype('int64')\n",
    "best_sales_genres_regions_ranking['JP_rank'] = best_sales_genres_regions['JP'].rank(ascending=False).astype('int64')\n",
    "best_sales_genres_regions_ranking.style.hide_index()"
   ]
  },
  {
   "cell_type": "markdown",
   "metadata": {},
   "source": [
    "Рейтинг популярных жанров в Северной Америке и Европе одинаков. Там лидируют экшн-игры, шутеры и игры спортивной тематики. В Японии популярны ролевые игры, экшн-игры и игры смешанных жанров. Наименее популярны следующие жанры, где регионы одинаковы в своих предпочтениях: пазлы и стратегии. "
   ]
  },
  {
   "cell_type": "markdown",
   "metadata": {},
   "source": [
    "### Влияние возрастного рейтинга"
   ]
  },
  {
   "cell_type": "markdown",
   "metadata": {},
   "source": [
    "Оценим влияние рейтинга ESRB (https://en.wikipedia.org/wiki/Entertainment_Software_Rating_Board) на продажи в каждом регионе:"
   ]
  },
  {
   "cell_type": "code",
   "execution_count": 49,
   "metadata": {},
   "outputs": [],
   "source": [
    "best_sales_esrb_regions = df_actual.groupby('esrb_rating')[['na_sales', 'eu_sales', 'jp_sales']] \\\n",
    "                             .agg('sum').reset_index() \\\n",
    "                             .rename(columns={'na_sales': 'NA', 'eu_sales': 'EU', 'jp_sales': 'JP'})"
   ]
  },
  {
   "cell_type": "code",
   "execution_count": 50,
   "metadata": {},
   "outputs": [
    {
     "data": {
      "image/png": "[encoded data removed]",
      "text/plain": [
       "<Figure size 720x432 with 1 Axes>"
      ]
     },
     "metadata": {
      "needs_background": "light"
     },
     "output_type": "display_data"
    }
   ],
   "source": [
    "plt.figure(figsize=(10, 6))\n",
    "best_sales_esrb_regions_melt = best_sales_esrb_regions.melt \\\n",
    "                                    ('esrb_rating', var_name='region_name', value_name='region_total_sales')\n",
    "g = sns.barplot(x='esrb_rating', y='region_total_sales', hue='region_name', data=best_sales_esrb_regions_melt)\n",
    "g.set_title('Зависимость объема продаж от региона и ESRB рейтинга')\n",
    "g.set_xlabel('ESRB рейтинг')\n",
    "g.set_ylabel('Количество продаж (млн.копий)')\n",
    "plt.show()"
   ]
  },
  {
   "cell_type": "code",
   "execution_count": 51,
   "metadata": {},
   "outputs": [
    {
     "data": {
      "text/html": [
       "<style  type=\"text/css\" >\n",
       "</style><table id=\"T_7295df06_ba47_11eb_8b0d_02420a390f27\" ><thead>    <tr>        <th class=\"col_heading level0 col0\" >esrb_rating</th>        <th class=\"col_heading level0 col1\" >NA</th>        <th class=\"col_heading level0 col2\" >EU</th>        <th class=\"col_heading level0 col3\" >JP</th>        <th class=\"col_heading level0 col4\" >NA_rank</th>        <th class=\"col_heading level0 col5\" >EU_rank</th>        <th class=\"col_heading level0 col6\" >JP_rank</th>    </tr></thead><tbody>\n",
       "                <tr>\n",
       "                                <td id=\"T_7295df06_ba47_11eb_8b0d_02420a390f27row0_col0\" class=\"data row0 col0\" >e</td>\n",
       "                        <td id=\"T_7295df06_ba47_11eb_8b0d_02420a390f27row0_col1\" class=\"data row0 col1\" >113.44</td>\n",
       "                        <td id=\"T_7295df06_ba47_11eb_8b0d_02420a390f27row0_col2\" class=\"data row0 col2\" >111.79</td>\n",
       "                        <td id=\"T_7295df06_ba47_11eb_8b0d_02420a390f27row0_col3\" class=\"data row0 col3\" >27.62</td>\n",
       "                        <td id=\"T_7295df06_ba47_11eb_8b0d_02420a390f27row0_col4\" class=\"data row0 col4\" >2</td>\n",
       "                        <td id=\"T_7295df06_ba47_11eb_8b0d_02420a390f27row0_col5\" class=\"data row0 col5\" >2</td>\n",
       "                        <td id=\"T_7295df06_ba47_11eb_8b0d_02420a390f27row0_col6\" class=\"data row0 col6\" >2</td>\n",
       "            </tr>\n",
       "            <tr>\n",
       "                                <td id=\"T_7295df06_ba47_11eb_8b0d_02420a390f27row1_col0\" class=\"data row1 col0\" >e10+</td>\n",
       "                        <td id=\"T_7295df06_ba47_11eb_8b0d_02420a390f27row1_col1\" class=\"data row1 col1\" >75.09</td>\n",
       "                        <td id=\"T_7295df06_ba47_11eb_8b0d_02420a390f27row1_col2\" class=\"data row1 col2\" >54.84</td>\n",
       "                        <td id=\"T_7295df06_ba47_11eb_8b0d_02420a390f27row1_col3\" class=\"data row1 col3\" >8.19</td>\n",
       "                        <td id=\"T_7295df06_ba47_11eb_8b0d_02420a390f27row1_col4\" class=\"data row1 col4\" >4</td>\n",
       "                        <td id=\"T_7295df06_ba47_11eb_8b0d_02420a390f27row1_col5\" class=\"data row1 col5\" >4</td>\n",
       "                        <td id=\"T_7295df06_ba47_11eb_8b0d_02420a390f27row1_col6\" class=\"data row1 col6\" >5</td>\n",
       "            </tr>\n",
       "            <tr>\n",
       "                                <td id=\"T_7295df06_ba47_11eb_8b0d_02420a390f27row2_col0\" class=\"data row2 col0\" >m</td>\n",
       "                        <td id=\"T_7295df06_ba47_11eb_8b0d_02420a390f27row2_col1\" class=\"data row2 col1\" >231.57</td>\n",
       "                        <td id=\"T_7295df06_ba47_11eb_8b0d_02420a390f27row2_col2\" class=\"data row2 col2\" >193.96</td>\n",
       "                        <td id=\"T_7295df06_ba47_11eb_8b0d_02420a390f27row2_col3\" class=\"data row2 col3\" >21.2</td>\n",
       "                        <td id=\"T_7295df06_ba47_11eb_8b0d_02420a390f27row2_col4\" class=\"data row2 col4\" >1</td>\n",
       "                        <td id=\"T_7295df06_ba47_11eb_8b0d_02420a390f27row2_col5\" class=\"data row2 col5\" >1</td>\n",
       "                        <td id=\"T_7295df06_ba47_11eb_8b0d_02420a390f27row2_col6\" class=\"data row2 col6\" >4</td>\n",
       "            </tr>\n",
       "            <tr>\n",
       "                                <td id=\"T_7295df06_ba47_11eb_8b0d_02420a390f27row3_col0\" class=\"data row3 col0\" >none</td>\n",
       "                        <td id=\"T_7295df06_ba47_11eb_8b0d_02420a390f27row3_col1\" class=\"data row3 col1\" >100.13</td>\n",
       "                        <td id=\"T_7295df06_ba47_11eb_8b0d_02420a390f27row3_col2\" class=\"data row3 col2\" >89.32</td>\n",
       "                        <td id=\"T_7295df06_ba47_11eb_8b0d_02420a390f27row3_col3\" class=\"data row3 col3\" >95.62</td>\n",
       "                        <td id=\"T_7295df06_ba47_11eb_8b0d_02420a390f27row3_col4\" class=\"data row3 col4\" >3</td>\n",
       "                        <td id=\"T_7295df06_ba47_11eb_8b0d_02420a390f27row3_col5\" class=\"data row3 col5\" >3</td>\n",
       "                        <td id=\"T_7295df06_ba47_11eb_8b0d_02420a390f27row3_col6\" class=\"data row3 col6\" >1</td>\n",
       "            </tr>\n",
       "            <tr>\n",
       "                                <td id=\"T_7295df06_ba47_11eb_8b0d_02420a390f27row4_col0\" class=\"data row4 col0\" >t</td>\n",
       "                        <td id=\"T_7295df06_ba47_11eb_8b0d_02420a390f27row4_col1\" class=\"data row4 col1\" >66.02</td>\n",
       "                        <td id=\"T_7295df06_ba47_11eb_8b0d_02420a390f27row4_col2\" class=\"data row4 col2\" >52.96</td>\n",
       "                        <td id=\"T_7295df06_ba47_11eb_8b0d_02420a390f27row4_col3\" class=\"data row4 col3\" >25.76</td>\n",
       "                        <td id=\"T_7295df06_ba47_11eb_8b0d_02420a390f27row4_col4\" class=\"data row4 col4\" >5</td>\n",
       "                        <td id=\"T_7295df06_ba47_11eb_8b0d_02420a390f27row4_col5\" class=\"data row4 col5\" >5</td>\n",
       "                        <td id=\"T_7295df06_ba47_11eb_8b0d_02420a390f27row4_col6\" class=\"data row4 col6\" >3</td>\n",
       "            </tr>\n",
       "    </tbody></table>"
      ],
      "text/plain": [
       "<pandas.io.formats.style.Styler at 0x7f82caf91550>"
      ]
     },
     "execution_count": 51,
     "metadata": {},
     "output_type": "execute_result"
    }
   ],
   "source": [
    "best_sales_esrb_regions_ranking = best_sales_esrb_regions.copy()\n",
    "best_sales_esrb_regions_ranking['NA_rank'] = best_sales_esrb_regions['NA'].rank(ascending=False).astype('int64')\n",
    "best_sales_esrb_regions_ranking['EU_rank'] = best_sales_esrb_regions['EU'].rank(ascending=False).astype('int64')\n",
    "best_sales_esrb_regions_ranking['JP_rank'] = best_sales_esrb_regions['JP'].rank(ascending=False).astype('int64')\n",
    "best_sales_esrb_regions_ranking.style.hide_index()"
   ]
  },
  {
   "cell_type": "markdown",
   "metadata": {},
   "source": [
    "На рынках Северной Америки и Европы максимальный объем продаж обеспечивают игры, предназначенные для аудитории старше 17 лет (M). В Японии - игры, с маркировкой E, предназначенные для широкой аудитории. "
   ]
  },
  {
   "cell_type": "markdown",
   "metadata": {},
   "source": [
    "**Промежуточные выводы:**\n",
    "* Популярность платформ довольно близка для рынков Северной Америки и Европы, где лидируют x360 (NA), ps4 (EU), ps3, xone и 3ds. Для рынка Японии платформы-лидеры расположены в иной последовательности и имеют новых представителей: 3ds, ps3, psv, ps4 и wiiu.\n",
    "* Рейтинг популярных жанров в Северной Америке и Европе одинаков. Там лидируют экшн-игры, шутеры и игры спортивной тематики. В Японии популярны ролевые игры, экшн-игры и игры смешанных жанров. Разные регионы схожи в своих предпочтениях по наименее популярным жанрам - это паззлы и стратегии.\n",
    "* На рынках Северной Америки и Европы максимальный объем продаж обеспечивают игры, предназначенные для аудитории старше 17 лет (M) по классификации ESRB. В Японии - игры, предназначенные для широкой аудитории (E)."
   ]
  },
  {
   "cell_type": "markdown",
   "metadata": {},
   "source": [
    "## Проверка гипотез о равенстве средних"
   ]
  },
  {
   "cell_type": "markdown",
   "metadata": {},
   "source": [
    "Для оценки различных гипотез, связанных с пользованием тарифами, в работе используются принципы центральной предельной теоремы, описывающие выборочное распределение. Теорема позволяет по имеющейся выборке с выбранной степенью вероятности сделать выводы применимые для генеральной совокупности. Кроме того, формируя выборки по какому-либо критерию (например, пользовательские рейтинги платформ или жанров) мы можем определить принадлежат ли данные, попадающие в выборку разным генеральным совокупностям или одной популяции. Для этого будет использоваться уровень значимости для этой статистики — p-value, который будет сравниваться с выбранным уровнем значимости alpha, и в зависимости от его значения нулевая гипотеза (гипотеза о равенстве) будет либо отвергаться (p-value < alpha), либо нет (p-value > alpha).  "
   ]
  },
  {
   "cell_type": "markdown",
   "metadata": {},
   "source": [
    "### Средние пользовательские рейтинги платформ Xbox One и PC"
   ]
  },
  {
   "cell_type": "markdown",
   "metadata": {},
   "source": [
    "Рассчитаем средние пользовательские рейтинги платформ Xbox One и PC, исключив нулевые значения:"
   ]
  },
  {
   "cell_type": "code",
   "execution_count": 52,
   "metadata": {},
   "outputs": [
    {
     "name": "stdout",
     "output_type": "stream",
     "text": [
      "Выборочное среднее пользовательского рейтинга для платформы Xbox One: 6.5\n"
     ]
    }
   ],
   "source": [
    "mean_user_score_xbox = df_actual.query('user_score > 0').loc[df_actual['platform'] == 'xone', 'user_score'].mean()\n",
    "print('Выборочное среднее пользовательского рейтинга для платформы Xbox One: {:.1f}'.format(mean_user_score_xbox))"
   ]
  },
  {
   "cell_type": "code",
   "execution_count": 53,
   "metadata": {},
   "outputs": [
    {
     "name": "stdout",
     "output_type": "stream",
     "text": [
      "Выборочное среднее пользовательского рейтинга для платформы PC: 6.4\n"
     ]
    }
   ],
   "source": [
    "mean_user_score_pc = df_actual.query('user_score > 0').loc[df_actual['platform'] == 'pc', 'user_score'].mean()\n",
    "print('Выборочное среднее пользовательского рейтинга для платформы PC: {:.1f}'.format(mean_user_score_pc))"
   ]
  },
  {
   "cell_type": "markdown",
   "metadata": {},
   "source": [
    "Сравним дисперсии выборок для обоих игровых платформ, принимая во внимание, что датасет — не вся совокупность, а выборка из неё:"
   ]
  },
  {
   "cell_type": "code",
   "execution_count": 54,
   "metadata": {},
   "outputs": [
    {
     "name": "stdout",
     "output_type": "stream",
     "text": [
      "Дисперсия выборки для платформы Xbox One: 1.9\n"
     ]
    }
   ],
   "source": [
    "xone = df_actual.query('user_score > 0').loc[df_actual['platform'] == 'xone', 'user_score']\n",
    "variance_estimate_xone = np.var(xone, ddof=1)\n",
    "print('Дисперсия выборки для платформы Xbox One: {:.1f}'.format(variance_estimate_xone))"
   ]
  },
  {
   "cell_type": "code",
   "execution_count": 55,
   "metadata": {},
   "outputs": [
    {
     "name": "stdout",
     "output_type": "stream",
     "text": [
      "Дисперсия выборки для платформы PC: 2.8\n"
     ]
    }
   ],
   "source": [
    "pc = df_actual.query('user_score > 0').loc[df_actual['platform'] == 'pc', 'user_score']\n",
    "variance_estimate_pc = np.var(pc, ddof=1)\n",
    "print('Дисперсия выборки для платформы PC: {:.1f}'.format(variance_estimate_pc))"
   ]
  },
  {
   "cell_type": "markdown",
   "metadata": {},
   "source": [
    "Графически оценим выборки платформ Xbox One и PC по рейтингу пользователей на нормальность распределения данных:"
   ]
  },
  {
   "cell_type": "code",
   "execution_count": 56,
   "metadata": {},
   "outputs": [
    {
     "name": "stdout",
     "output_type": "stream",
     "text": [
      "\n",
      " Близость рейтинга пользователей для платформ Xbox One (слева) и PC (справа) к нормальному распределению (красная линия)\n"
     ]
    },
    {
     "data": {
      "image/png": "[encoded data removed]",
      "text/plain": [
       "<Figure size 1152x432 with 2 Axes>"
      ]
     },
     "metadata": {
      "needs_background": "light"
     },
     "output_type": "display_data"
    }
   ],
   "source": [
    "fig, axes = plt.subplots(nrows = 1, ncols = 2, figsize=(16,6))\n",
    "print('\\n Близость рейтинга пользователей для платформ Xbox One (слева) и PC (справа) \\\n",
    "к нормальному распределению (красная линия)')\n",
    "qqplot(xone, line='s', ax=axes[0])\n",
    "qqplot(pc, line='s', ax=axes[1])\n",
    "plt.show()"
   ]
  },
  {
   "cell_type": "markdown",
   "metadata": {},
   "source": [
    "Данные имеют распределение близкое к нормальному. Используя критерий Бартлетта, проверим равенство дисперсий выборок *xone* и *pc*. В качестве нулевой гипотезы H0 предположим, что дисперсии выборок равны, т.е. выборки получены из генеральных совокупностей, обладающих одинаковыми дисперсиями. Альтернативной будет служить гипотеза H1, что дисперсии выборок не равны."
   ]
  },
  {
   "cell_type": "code",
   "execution_count": 57,
   "metadata": {},
   "outputs": [
    {
     "name": "stdout",
     "output_type": "stream",
     "text": [
      "p-значение: 0.01021139458323661\n",
      "Отвергаем нулевую гипотезу\n"
     ]
    }
   ],
   "source": [
    "alpha = 0.05\n",
    "results_var_platform = st.bartlett(xone, pc)\n",
    "print('p-значение:', results_var_platform.pvalue)\n",
    "if (results_var_platform.pvalue < alpha):\n",
    "    print(\"Отвергаем нулевую гипотезу\")\n",
    "else:\n",
    "    print(\"Не получилось отвергнуть нулевую гипотезу\")"
   ]
  },
  {
   "cell_type": "markdown",
   "metadata": {},
   "source": [
    "По результатам использования критерия Бартлетта обнаружены статистически достоверные различия в равенстве дисперсий выборок."
   ]
  },
  {
   "cell_type": "markdown",
   "metadata": {},
   "source": [
    "Теперь ответим на вопрос: одинаковы ли средние пользовательские рейтинги платформ Xbox One и PC?\n",
    "* В качестве нулевой гипотезы H0 рассмотрим вариант, что средний пользовательский рейтинг платформы Xbox One равен среднему пользовательскому рейтингу платформы PC. \n",
    "* Альтернативной гипотезой H1 будет вариант, что средний пользовательский рейтинг платформы Xbox One не равен среднему пользовательскому рейтингу платформы PC. \n",
    "\n",
    "Критический уровень значимости примем равным 0.05. Выборки для различных платформ независимы относительно друг друга, что позволяет использовать метод scipy.stats.ttest_ind() для оценки нулевой и альтернативной гипотез. Аргумент equal_var принимается как False, т.к. из сравнения дисперсий выборок следует, что дисперсии отличаются (хотя и незначительно) и есть основания полагать, что выборки взяты из различных по параметрам совокупностей."
   ]
  },
  {
   "cell_type": "code",
   "execution_count": 58,
   "metadata": {},
   "outputs": [
    {
     "name": "stdout",
     "output_type": "stream",
     "text": [
      "p-значение: 0.5489537965134912\n",
      "Не получилось отвергнуть нулевую гипотезу\n"
     ]
    }
   ],
   "source": [
    "alpha = 0.05\n",
    "results_platform = st.ttest_ind(xone, pc, equal_var = False)\n",
    "print('p-значение:', results_platform.pvalue)\n",
    "\n",
    "if results_platform.pvalue < alpha:\n",
    "    print(\"Отвергаем нулевую гипотезу\")\n",
    "else:\n",
    "    print(\"Не получилось отвергнуть нулевую гипотезу\")"
   ]
  },
  {
   "cell_type": "markdown",
   "metadata": {},
   "source": [
    "Вывод: в средних пользовательских рейтингах платформ Xbox One и PC статистически достоверные различия не обнаружены."
   ]
  },
  {
   "cell_type": "markdown",
   "metadata": {},
   "source": [
    "### Средние пользовательские рейтинги жанров Action и Sports "
   ]
  },
  {
   "cell_type": "markdown",
   "metadata": {},
   "source": [
    "Рассчитаем средние пользовательские рейтинги жанров Action и Sports, исключив нулевые значения:"
   ]
  },
  {
   "cell_type": "code",
   "execution_count": 59,
   "metadata": {},
   "outputs": [
    {
     "name": "stdout",
     "output_type": "stream",
     "text": [
      "Выборочное среднее пользовательского рейтинга жанра Action: 6.8\n"
     ]
    }
   ],
   "source": [
    "mean_user_score_action = df_actual.query('user_score > 0').loc[df_actual['game_genre'] == 'action', 'user_score'].mean()\n",
    "print('Выборочное среднее пользовательского рейтинга жанра Action: {:.1f}'.format(mean_user_score_action))"
   ]
  },
  {
   "cell_type": "code",
   "execution_count": 60,
   "metadata": {},
   "outputs": [
    {
     "name": "stdout",
     "output_type": "stream",
     "text": [
      "Выборочное среднее пользовательского рейтинга жанра Sports: 5.5\n"
     ]
    }
   ],
   "source": [
    "mean_user_score_sports = df_actual.query('user_score > 0').loc[df_actual['game_genre'] == 'sports', 'user_score'].mean()\n",
    "print('Выборочное среднее пользовательского рейтинга жанра Sports: {:.1f}'.format(mean_user_score_sports))"
   ]
  },
  {
   "cell_type": "markdown",
   "metadata": {},
   "source": [
    "Сравним дисперсии выборок для обоих игровых жанров:"
   ]
  },
  {
   "cell_type": "code",
   "execution_count": 61,
   "metadata": {},
   "outputs": [
    {
     "name": "stdout",
     "output_type": "stream",
     "text": [
      "Дисперсия выборки для жанра Action: 1.9\n"
     ]
    }
   ],
   "source": [
    "action = df_actual.query('user_score > 0').loc[df_actual['game_genre'] == 'action', 'user_score']\n",
    "variance_estimate_action = np.var(action, ddof=1)\n",
    "print('Дисперсия выборки для жанра Action: {:.1f}'.format(variance_estimate_action))"
   ]
  },
  {
   "cell_type": "code",
   "execution_count": 62,
   "metadata": {},
   "outputs": [
    {
     "name": "stdout",
     "output_type": "stream",
     "text": [
      "Дисперсия выборки для жанра Sports: 3.0\n"
     ]
    }
   ],
   "source": [
    "sports = df_actual.query('user_score > 0').loc[df_actual['game_genre'] == 'sports', 'user_score']\n",
    "variance_estimate_sports = np.var(sports, ddof=1)\n",
    "print('Дисперсия выборки для жанра Sports: {:.1f}'.format(variance_estimate_sports))"
   ]
  },
  {
   "cell_type": "markdown",
   "metadata": {},
   "source": [
    "Графически оценим выборки action и sports на нормальность распределения данных:"
   ]
  },
  {
   "cell_type": "code",
   "execution_count": 63,
   "metadata": {},
   "outputs": [
    {
     "name": "stdout",
     "output_type": "stream",
     "text": [
      "\n",
      " Близость рейтинга пользователей для жанров Action (слева) и Sports (справа) к нормальному распределению (красная линия)\n"
     ]
    },
    {
     "data": {
      "image/png": "[encoded data removed]",
      "text/plain": [
       "<Figure size 1152x432 with 2 Axes>"
      ]
     },
     "metadata": {
      "needs_background": "light"
     },
     "output_type": "display_data"
    }
   ],
   "source": [
    "fig, axes = plt.subplots(nrows = 1, ncols = 2, figsize=(16,6))\n",
    "print('\\n Близость рейтинга пользователей для жанров Action (слева) и Sports (справа) \\\n",
    "к нормальному распределению (красная линия)')\n",
    "qqplot(action, line='s', ax=axes[0])\n",
    "qqplot(sports, line='s', ax=axes[1])\n",
    "plt.show()"
   ]
  },
  {
   "cell_type": "markdown",
   "metadata": {},
   "source": [
    "Данные выборки Sports имеют распределение близкое к нормальному, в то время как в выборке Action данные имеют большее отклонение от нормального распределения. Используя критерий Левена, проверим равенство дисперсий выборок action и sports, и сгладим эффект распределения отличного от нормального. В качестве нулевой гипотезы H0 предположим, что дисперсии выборок равны, т.е. выборки получены из генеральных совокупностей, обладающих одинаковыми дисперсиями. Альтернативной будет служить гипотеза H1, что дисперсии выборок не равны."
   ]
  },
  {
   "cell_type": "code",
   "execution_count": 64,
   "metadata": {},
   "outputs": [
    {
     "name": "stdout",
     "output_type": "stream",
     "text": [
      "p-значение: 1.4160191671287659e-05\n",
      "Отвергаем нулевую гипотезу\n"
     ]
    }
   ],
   "source": [
    "alpha = 0.05\n",
    "results_var_genre = st.levene(action, sports)\n",
    "print('p-значение:', results_var_genre.pvalue)\n",
    "if (results_var_genre.pvalue < alpha):\n",
    "    print(\"Отвергаем нулевую гипотезу\")\n",
    "else:\n",
    "    print(\"Не получилось отвергнуть нулевую гипотезу\")"
   ]
  },
  {
   "cell_type": "markdown",
   "metadata": {},
   "source": [
    "По результатам использования критерия Левена обнаружены различия в равенстве дисперсий выборок на высоком уровне статистической значимости."
   ]
  },
  {
   "cell_type": "markdown",
   "metadata": {},
   "source": [
    "Ответим на вопрос: отличаются ли средние пользовательские рейтинги жанров Action и Sports?\n",
    "\n",
    "* В качестве нулевой гипотезы H0 рассмотрим вариант, что средний пользовательский рейтинг жанра Action равен среднему пользовательскому рейтингу жанра Sports. \n",
    "* Альтернативной гипотезой H1 будет вариант, что средний пользовательский рейтинг жанра Action не равен среднему пользовательскому рейтингу жанра Sports.\n",
    "Критический уровень значимости примем равным 0.05. Выборки для различных жанров независимы относительно друг друга, что позволяет использовать метод scipy.stats.ttest_ind() для оценки нулевой и альтернативной гипотез. Аргумент equal_var принимается как False, т.к. из сравнения дисперсий выборок следует, что дисперсии отличаются."
   ]
  },
  {
   "cell_type": "code",
   "execution_count": 65,
   "metadata": {},
   "outputs": [
    {
     "name": "stdout",
     "output_type": "stream",
     "text": [
      "p-значение: 5.1613574354387965e-20\n",
      "Отвергаем нулевую гипотезу\n"
     ]
    }
   ],
   "source": [
    "alpha = 0.05\n",
    "results_genre = st.ttest_ind(action, sports, equal_var = False)\n",
    "print('p-значение:', results_genre.pvalue)\n",
    "\n",
    "if results_genre.pvalue < alpha:\n",
    "    print(\"Отвергаем нулевую гипотезу\")\n",
    "else:\n",
    "    print(\"Не получилось отвергнуть нулевую гипотезу\")"
   ]
  },
  {
   "cell_type": "markdown",
   "metadata": {},
   "source": [
    "Вывод: в средних пользовательских рейтингах жанров Action и Sports обнаружены различия на высоком уровне статистической значимости."
   ]
  },
  {
   "cell_type": "markdown",
   "metadata": {},
   "source": [
    "**Промежуточные выводы:**\n",
    "* В данной части проекта были рассмотрены две нулевые гипотезы (1) о равенстве средних пользовательских рейтингов для платформ Xbox One и PC и (2) о равенстве средних пользовательских рейтингов жанров Action и Sports.\n",
    "* Выборочное среднее пользовательского рейтинга для платформы Xbox One составляет 6.5, а для платформы PC – 6.4.\n",
    "* Оценки пользователей для платформ Xbox One и PC из данных за актуальный период имеют форму распределения близкую к нормальной. По результатам использования критерия Бартлетта обнаружены статистически достоверные различия в равенстве дисперсий выборок для двух платформ. \n",
    "* По итогам t-теста, в средних пользовательских рейтингах платформ Xbox One и PC статистически достоверные различия не обнаружены. Другими словами, нулевая гипотеза не была отвергнута.\n",
    "* Выборочное среднее пользовательского рейтинга жанра Action равно 6.8, а жанра Sports – 5.5.\n",
    "* Оценки пользователей для жанра Sports из данных за актуальный период имеют форму распределения близкую к нормальной, в то время как в выборке Action данные имеют большее отклонение от нормального распределения. По результатам использования критерия Левена обнаружены различия в равенстве дисперсий выборок на высоком уровне статистической значимости.\n",
    "* По итогам t-теста, в средних пользовательских рейтингах жанров Action и Sports обнаружены различия на высоком уровне статистической значимости. Нулевая гипотеза была отвергнута."
   ]
  },
  {
   "cell_type": "markdown",
   "metadata": {},
   "source": [
    "## Общие выводы"
   ]
  },
  {
   "cell_type": "markdown",
   "metadata": {},
   "source": [
    "* Объектом исследования является датасет, содержащий 16715 записей с информацией, касающейся игр, разделенной по 11-ти параметрам-характеристикам. После предобработки датасета число уникальных строк для анализа снизилось на 1.6%, в основном за счет удаления недостающей информации о годе выпуска игр.\n",
    "* Интенсивный рост продаж игр для игровых платформ начинается в 90-х годах и достигает максимума в первой декаде 2000-х, после чего идет на спад. Начиная с 2011-2012 гг., количество продаж игр через платформы резко снижается в сравнении с предыдущими периодами. Вероятнее всего, это связано с тем, что большую популярность среди пользователей в это время начинают приобретать онлайн-игры.\n",
    "* Тор-5 игровых платформ с максимальным количеством продаж за весь временной период из текущей выборки представлены (млн.копий): PlayStation 2 (1233.56), Xbox 360 (961.24), PlayStation 3 (931.34), Wii (891.18) и Nintendo DS (802.78).\n",
    "* Было установлено, что актуальный период, за который появляются и исчезают новые платформы варьируется от 5 до 10 лет и обладает симметрий, близкой к зеркальной. Средний жизненный цикл игровой платформы составляет около 8 лет.\n",
    "* Топ-5 платформ, которые лидируют в актуальный период (2012-2016 гг.) по количеству продаж (млн.копий): PlayStation 4 (314.14), PlayStation 3 (288.79), Xbox 360 (236.54), Nintendo 3DS (194.61) и Xbox One (159.32).\n",
    "* В 2017 г. платформы PlayStation 4 и Xbox One могут иметь тенденцию как росту так и спаду продаж игр (в зависимости от уточненных данных за 2016 год). Остальные платформы характеризуются нисходящим трендом по количеству продаж, часть из которых находятся в завершающей стадии жизненного цикла.\n",
    "* Обращает на себя внимание, что среднее арифметическое значение количеств продаж игр отличается от медианного в большую сторону. Это указывает на положительную асимметрию данных и связано с тем, что большие объемы продаж, характерные для популярных игр, смещают среднее значение вправо.\n",
    "* Интересна роль критиков и пользователей в продвижении продаж. Оценка критиков коррелирует с продажами для большинства популярных игровых платформ. Оценки пользователей оказывают значимое влияние только на продажи игр для консолей Wii и Wii U. Возможно, повышенное влияние оценок пользователей связано с особенностью тех регионов, где приобретение игр на этих платформах наиболее распространено. Не следует также исключать и случайность.\n",
    "* Наиболее популярными жанрами выпускаемых игр являются: игры в жанре экшн, ролевые игры, спортивные и приключенческие игры, а также шутеры. Наиболее продаваемыми жанрами в актуальный период являются: игры в жанре экшн, шутеры, ролевые и спортивные игры. Наименьший объем продаж обеспечивают: головоломки, стратегии, приключенческие игры и игры-симуляторы.      \n",
    "* Популярность платформ довольно близка для рынков Северной Америки и Европы, где лидируют Xbox 360, PlayStation 4, PlayStation 3, Xbox One и Nintendo 3DS. Для рынка Японии платформы-лидеры расположены в иной последовательности и имеют новых представителей: Nintendo 3DS, PlayStation 3, PlayStation Vita, PlayStation 4 и Wii U.\n",
    "* Рейтинг популярных жанров в Северной Америке и Европе одинаков. Там лидируют экшн-игры, шутеры и игры спортивной тематики. В Японии популярны ролевые игры, экшн-игры и игры смешанных жанров. Разные регионы схожи в своих предпочтениях по наименее популярным жанрам - это паззлы и стратегии.\n",
    "* Говоря о возрастных ограничениях, на рынках Северной Америки и Европы максимальный объем продаж обеспечивают игры, предназначенные для аудитории старше 17 лет (M) по классификации ESRB. В Японии - игры, предназначенные для широкой аудитории (E).\n",
    "* Выборочное среднее пользовательского рейтинга для платформы Xbox One составляет 6.5, а для платформы PC – 6.4.\n",
    "* По итогам t-теста, в средних пользовательских рейтингах платформ Xbox One и PC статистически достоверные различия не обнаружены. Другими словами, нулевая гипотеза о равенстве средних пользовательских рейтингов для платформ Xbox One и PC не была отвергнута.\n",
    "* Выборочное среднее пользовательского рейтинга жанра Action равно 6.8, а жанра Sports – 5.5.\n",
    "* По итогам t-теста, в средних пользовательских рейтингах жанров Action и Sports обнаружены различия на высоком уровне статистической значимости. Нулевая гипотеза о равенстве средних пользовательских рейтингов жанров Action и Sports была отвергнута.\n",
    "\n",
    "Общие рекомендации по закономерностям, которые определяют успешность продукта:\n",
    "* Игровая платформа находится в начале жизненного цикла (2-3 год).\n",
    "* Компьютерная игра в жанре экшн, ролевая или спортивная, а также шутер.\n",
    "* Высокий рейтинг критиков.\n",
    "* Отсутствие или минимальные возрастные ограничения."
   ]
  }
 ],
 "metadata": {
  "kernelspec": {
   "display_name": "Python 3",
   "language": "python",
   "name": "python3"
  },
  "language_info": {
   "codemirror_mode": {
    "name": "ipython",
    "version": 3
   },
   "file_extension": ".py",
   "mimetype": "text/x-python",
   "name": "python",
   "nbconvert_exporter": "python",
   "pygments_lexer": "ipython3",
   "version": "3.8.5"
  },
  "toc": {
   "base_numbering": 1,
   "nav_menu": {},
   "number_sections": true,
   "sideBar": true,
   "skip_h1_title": true,
   "title_cell": "Содержание",
   "title_sidebar": "Содержание",
   "toc_cell": true,
   "toc_position": {},
   "toc_section_display": true,
   "toc_window_display": true
  }
 },
 "nbformat": 4,
 "nbformat_minor": 2
}
