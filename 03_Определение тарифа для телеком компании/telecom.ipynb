{
 "cells": [
  {
   "cell_type": "markdown",
   "metadata": {},
   "source": [
    "# Определение перспективного тарифа для телеком компании\n",
    "\n",
    "\n",
    "**Цели и задачи проекта:** проанализировать на небольшой выборке данных поведение клиентов оператора сотовой связи компании «Мегалайн», использующих тарифы \"Смарт\" и \"Ультра\", с целью определения, какой тариф обеспечивает бо́льшую выручку и от чего она зависит. \n",
    "\n",
    "**Входные данные:** выборка данных 500-т пользователей «Мегалайна» с информацией о пользователе (имя, возраст, местожительство, подключенный тариф и др.), звонках/сообщениях/интернет-сессии (дата, длительность звонка, объем трафика) и данных о тарифах (абонентская плата, пакеты услуг, условия сверх тарифного пакета).   \n",
    "\n",
    "**Обозначения категорий исходных данных:**\n",
    "Исходные данные для проекта содержатся в пяти файлах формата csv. Обозначения переменных для каждого датасета приведены ниже:\n",
    "\n",
    "1) Информация о пользователях (users.csv)\n",
    "* *user_id* — уникальный идентификатор пользователя\n",
    "* *first_name* — имя пользователя\n",
    "* *last_name* — фамилия пользователя\n",
    "* *age* — возраст пользователя (годы)\n",
    "* *reg_date* — дата подключения тарифа (день, месяц, год)\n",
    "* *churn_date* — дата прекращения пользования тарифом (если значение пропущено, то тариф ещё действовал на момент выгрузки данных)\n",
    "* *city* — город проживания пользователя\n",
    "* *tariff* — название тарифного плана\n",
    "\n",
    "2) Информация о звонках (calls.csv)\n",
    "* *id* — уникальный номер звонка\n",
    "* *call_date* — дата звонка\n",
    "* *duration* — длительность звонка в минутах\n",
    "* *user_id* — идентификатор пользователя, сделавшего звонок\n",
    "\n",
    "3) Информация о сообщениях (messages.csv)\n",
    "* *id* — уникальный номер сообщения\n",
    "* *message_date* — дата сообщения\n",
    "* *user_id* — идентификатор пользователя, отправившего сообщение\n",
    "\n",
    "4) Информация об интернет-сессиях (internet.csv)\n",
    "* *id* — уникальный номер сессии\n",
    "* *mb_used* — объём потраченного за сессию интернет-трафика (в мегабайтах)\n",
    "* *session_date* — дата интернет-сессии\n",
    "* *user_id* — идентификатор пользователя\n",
    "\n",
    "5) Информация о тарифах (tariffs.csv)\n",
    "* *tariff_name* — название тарифа\n",
    "* *rub_monthly_fee* — ежемесячная абонентская плата в рублях\n",
    "* *minutes_included* — количество минут разговора в месяц, включённых в абонентскую плату\n",
    "* *messages_included* — количество сообщений в месяц, включённых в абонентскую плату\n",
    "* *mb_per_month_included* — объём интернет-трафика, включённого в абонентскую плату (в мегабайтах)\n",
    "* *rub_per_minute* — стоимость минуты разговора сверх тарифного пакета (например, если в тарифе 100 минут разговора в месяц, то со 101 минуты будет взиматься плата)\n",
    "* *rub_per_message* — стоимость отправки сообщения сверх тарифного пакета\n",
    "* *rub_per_gb* — стоимость дополнительного гигабайта интернет-трафика сверх тарифного пакета (1 гигабайт = 1024 мегабайта)\n",
    "\n",
    "\n",
    "**План работы** над проектом включает в себя выполнение следующих шагов:\n",
    "* *Импорт данных и изучение общей информации.* На этом этапе получаем общую информацию об имеющихся у нас в распоряжении данных, их типах, полноте и правильности представления. Предварительно оцениваем объем данных в каждом датасете, их минимальные и максимальные значения, присутствие пропусков и дубликатов. \n",
    "* *Подготовка данных.* В этой части работы обращаем пристальное внимание на недостатки исходных данных и их релевантность: анализируем пропуски, оцениваем необходимость обработки пропусков в данных, преобразуем данные в верный тип, проверяем их на присутствие ошибочных значений и обрабатываем дубликаты (если присутствуют) с целью исключения искажений в результатах. Удаляем неинформативные данные, объединяем датасеты и производим вычисления ежемесячной выручки.    \n",
    "* *Анализ данных.* Данный этап позволяет охарактеризовать поведение пользователей (продолжительность телефонных разговоров, количество смс и израсходованного интернет-трафика) для обоих тарифов, а также ответить на вопросы, каким образом и в какой степени та или иная характеристика оказывает влияние на ежемесячную выручку компании. Указанные зависимости отражаются в сводных таблицах и графиках по результатам группировки, подсчету и агрегирования различных данных. Статистический анализ позволяет критически оценить полученные результаты и их достоверность.\n",
    "* *Проверка гипотез.* В этой части работы формулируются гипотезы о степени влияния различных параметров (используемого тарифного плана или местожительства) на среднюю выручку компании и проводится ее оценка методами статистики с использованием принципов центральной предельной теоремы.\n",
    "* *Формулирование общего вывода*. На заключительном этапе приводится сумма выводов и рекомендаций по каждой части выполненного проекта. В общем выводе мы отразим на основе имеющейся выборки ключевые рекомендации о вкладе рассматриваемых тарифных планов в общую выручку компании."
   ]
  },
  {
   "cell_type": "markdown",
   "metadata": {
    "toc": true
   },
   "source": [
    "<h1>Содержание<span class=\"tocSkip\"></span></h1>\n",
    "<div class=\"toc\"><ul class=\"toc-item\"><li><span><a href=\"#Импорт-данных-и-изучение-общей-информации\" data-toc-modified-id=\"Импорт-данных-и-изучение-общей-информации-1\"><span class=\"toc-item-num\">1&nbsp;&nbsp;</span>Импорт данных и изучение общей информации</a></span><ul class=\"toc-item\"><li><span><a href=\"#Информация-о-пользователях\" data-toc-modified-id=\"Информация-о-пользователях-1.1\"><span class=\"toc-item-num\">1.1&nbsp;&nbsp;</span>Информация о пользователях</a></span></li><li><span><a href=\"#Информация-о-звонках\" data-toc-modified-id=\"Информация-о-звонках-1.2\"><span class=\"toc-item-num\">1.2&nbsp;&nbsp;</span>Информация о звонках</a></span></li><li><span><a href=\"#Информация-о-cообщениях\" data-toc-modified-id=\"Информация-о-cообщениях-1.3\"><span class=\"toc-item-num\">1.3&nbsp;&nbsp;</span>Информация о cообщениях</a></span></li><li><span><a href=\"#Информация-об-интернет-сессиях\" data-toc-modified-id=\"Информация-об-интернет-сессиях-1.4\"><span class=\"toc-item-num\">1.4&nbsp;&nbsp;</span>Информация об интернет-сессиях</a></span></li><li><span><a href=\"#Информация-о-тарифах\" data-toc-modified-id=\"Информация-о-тарифах-1.5\"><span class=\"toc-item-num\">1.5&nbsp;&nbsp;</span>Информация о тарифах</a></span></li></ul></li><li><span><a href=\"#Подготовка-данных\" data-toc-modified-id=\"Подготовка-данных-2\"><span class=\"toc-item-num\">2&nbsp;&nbsp;</span>Подготовка данных</a></span><ul class=\"toc-item\"><li><span><a href=\"#Обработка-формата-данных-и-представление-датафреймов\" data-toc-modified-id=\"Обработка-формата-данных-и-представление-датафреймов-2.1\"><span class=\"toc-item-num\">2.1&nbsp;&nbsp;</span>Обработка формата данных и представление датафреймов</a></span></li><li><span><a href=\"#Категоризация-данных\" data-toc-modified-id=\"Категоризация-данных-2.2\"><span class=\"toc-item-num\">2.2&nbsp;&nbsp;</span>Категоризация данных</a></span></li></ul></li><li><span><a href=\"#Анализ-данных\" data-toc-modified-id=\"Анализ-данных-3\"><span class=\"toc-item-num\">3&nbsp;&nbsp;</span>Анализ данных</a></span><ul class=\"toc-item\"><li><span><a href=\"#Ежемесячная-выручка\" data-toc-modified-id=\"Ежемесячная-выручка-3.1\"><span class=\"toc-item-num\">3.1&nbsp;&nbsp;</span>Ежемесячная выручка</a></span></li><li><span><a href=\"#Анализ-звонков,-сообщений-и-интернет-трафика\" data-toc-modified-id=\"Анализ-звонков,-сообщений-и-интернет-трафика-3.2\"><span class=\"toc-item-num\">3.2&nbsp;&nbsp;</span>Анализ звонков, сообщений и интернет-трафика</a></span><ul class=\"toc-item\"><li><span><a href=\"#Длительность-звонков\" data-toc-modified-id=\"Длительность-звонков-3.2.1\"><span class=\"toc-item-num\">3.2.1&nbsp;&nbsp;</span>Длительность звонков</a></span></li><li><span><a href=\"#Количество-сообщений\" data-toc-modified-id=\"Количество-сообщений-3.2.2\"><span class=\"toc-item-num\">3.2.2&nbsp;&nbsp;</span>Количество сообщений</a></span></li><li><span><a href=\"#Объем-интернет-трафика\" data-toc-modified-id=\"Объем-интернет-трафика-3.2.3\"><span class=\"toc-item-num\">3.2.3&nbsp;&nbsp;</span>Объем интернет-трафика</a></span></li></ul></li><li><span><a href=\"#Оценка-влияния-выбросов\" data-toc-modified-id=\"Оценка-влияния-выбросов-3.3\"><span class=\"toc-item-num\">3.3&nbsp;&nbsp;</span>Оценка влияния выбросов</a></span></li></ul></li><li><span><a href=\"#Проверка-гипотез-о-равенстве-средних\" data-toc-modified-id=\"Проверка-гипотез-о-равенстве-средних-4\"><span class=\"toc-item-num\">4&nbsp;&nbsp;</span>Проверка гипотез о равенстве средних</a></span><ul class=\"toc-item\"><li><span><a href=\"#Cредняя-выручка-пользователей-тарифов-«Ультра»-и-«Смарт»\" data-toc-modified-id=\"Cредняя-выручка-пользователей-тарифов-«Ультра»-и-«Смарт»-4.1\"><span class=\"toc-item-num\">4.1&nbsp;&nbsp;</span>Cредняя выручка пользователей тарифов «Ультра» и «Смарт»</a></span></li><li><span><a href=\"#Cредняя-выручка-пользователей-из-Москвы-и-других-регионов\" data-toc-modified-id=\"Cредняя-выручка-пользователей-из-Москвы-и-других-регионов-4.2\"><span class=\"toc-item-num\">4.2&nbsp;&nbsp;</span>Cредняя выручка пользователей из Москвы и других регионов</a></span></li></ul></li><li><span><a href=\"#Общие-выводы\" data-toc-modified-id=\"Общие-выводы-5\"><span class=\"toc-item-num\">5&nbsp;&nbsp;</span>Общие выводы</a></span></li></ul></div>"
   ]
  },
  {
   "cell_type": "markdown",
   "metadata": {},
   "source": [
    "## Импорт данных и изучение общей информации"
   ]
  },
  {
   "cell_type": "code",
   "execution_count": 1,
   "metadata": {},
   "outputs": [],
   "source": [
    "import pandas as pd\n",
    "import numpy as np\n",
    "import matplotlib.pyplot as plt\n",
    "import math\n",
    "import seaborn as sns\n",
    "from functools import reduce\n",
    "from scipy import stats as st"
   ]
  },
  {
   "cell_type": "code",
   "execution_count": 2,
   "metadata": {},
   "outputs": [],
   "source": [
    "df_users = pd.read_csv('/datasets/users.csv')\n",
    "df_calls = pd.read_csv('/datasets/calls.csv')\n",
    "df_messages = pd.read_csv('/datasets/messages.csv')\n",
    "df_internet = pd.read_csv('/datasets/internet.csv')\n",
    "df_tariffs = pd.read_csv('/datasets/tariffs.csv')"
   ]
  },
  {
   "cell_type": "markdown",
   "metadata": {},
   "source": [
    "Получим предварительную информацию о имеющихся датасетах:"
   ]
  },
  {
   "cell_type": "code",
   "execution_count": 56,
   "metadata": {},
   "outputs": [],
   "source": [
    "def general_info(dataframe):\n",
    "    \"\"\"\n",
    "    Функция дает краткую информацию о датафрейме, максимальных и минимальных значениях численных переменных\n",
    "    и присутствии дубликатов в данных\n",
    "    \"\"\"\n",
    "    # Вывод всех колонок датафрейма и его 10 рандомных строк\n",
    "    print('')\n",
    "    print('\\033[1m' + 'Информация, включающая 10 произвольных записей датафрейма:' + '\\033[0m')\n",
    "    pd.set_option('display.max_columns', None)\n",
    "    display(dataframe.sample(10, random_state=1), )\n",
    "    \n",
    "    # Вывод информации о размере датафрейма, типе данных и пропущенных/минимальных/максимальных значениях \n",
    "    print('\\033[1m' + 'Информация о размере датафрейма, типе данных и пропущенных значениях:' + '\\033[0m')\n",
    "    dataframe.info()\n",
    "    print('')\n",
    "    print('\\033[1m' + 'Информация о минимальных/максимальных значениях для численных параметров:' + '\\033[0m')\n",
    "    display(dataframe.describe().loc[['min','max']])\n",
    "      \n",
    "    # Вывод информации о количестве дубликатов\n",
    "    duplicates_amount = dataframe.duplicated().sum()\n",
    "    print('\\033[1m' + 'Количество дубликатов в данных:'+ '\\033[0m', duplicates_amount)"
   ]
  },
  {
   "cell_type": "markdown",
   "metadata": {},
   "source": [
    "### Информация о пользователях"
   ]
  },
  {
   "cell_type": "code",
   "execution_count": 4,
   "metadata": {},
   "outputs": [
    {
     "name": "stdout",
     "output_type": "stream",
     "text": [
      "\n",
      "\u001b[1mИнформация, включающая 10 произвольных записей датафрейма:\u001b[0m\n"
     ]
    },
    {
     "data": {
      "text/html": [
       "<div>\n",
       "<style scoped>\n",
       "    .dataframe tbody tr th:only-of-type {\n",
       "        vertical-align: middle;\n",
       "    }\n",
       "\n",
       "    .dataframe tbody tr th {\n",
       "        vertical-align: top;\n",
       "    }\n",
       "\n",
       "    .dataframe thead th {\n",
       "        text-align: right;\n",
       "    }\n",
       "</style>\n",
       "<table border=\"1\" class=\"dataframe\">\n",
       "  <thead>\n",
       "    <tr style=\"text-align: right;\">\n",
       "      <th></th>\n",
       "      <th>user_id</th>\n",
       "      <th>age</th>\n",
       "      <th>churn_date</th>\n",
       "      <th>city</th>\n",
       "      <th>first_name</th>\n",
       "      <th>last_name</th>\n",
       "      <th>reg_date</th>\n",
       "      <th>tariff</th>\n",
       "    </tr>\n",
       "  </thead>\n",
       "  <tbody>\n",
       "    <tr>\n",
       "      <td>304</td>\n",
       "      <td>1304</td>\n",
       "      <td>68</td>\n",
       "      <td>NaN</td>\n",
       "      <td>Владимир</td>\n",
       "      <td>Илья</td>\n",
       "      <td>Соловьёв</td>\n",
       "      <td>2018-11-05</td>\n",
       "      <td>ultra</td>\n",
       "    </tr>\n",
       "    <tr>\n",
       "      <td>340</td>\n",
       "      <td>1340</td>\n",
       "      <td>50</td>\n",
       "      <td>NaN</td>\n",
       "      <td>Пенза</td>\n",
       "      <td>Тимофей</td>\n",
       "      <td>Алютин</td>\n",
       "      <td>2018-01-30</td>\n",
       "      <td>smart</td>\n",
       "    </tr>\n",
       "    <tr>\n",
       "      <td>47</td>\n",
       "      <td>1047</td>\n",
       "      <td>67</td>\n",
       "      <td>NaN</td>\n",
       "      <td>Саратов</td>\n",
       "      <td>Милица</td>\n",
       "      <td>Меркулова</td>\n",
       "      <td>2018-10-29</td>\n",
       "      <td>smart</td>\n",
       "    </tr>\n",
       "    <tr>\n",
       "      <td>67</td>\n",
       "      <td>1067</td>\n",
       "      <td>45</td>\n",
       "      <td>NaN</td>\n",
       "      <td>Москва</td>\n",
       "      <td>Юзефа</td>\n",
       "      <td>Абашкина</td>\n",
       "      <td>2018-04-09</td>\n",
       "      <td>smart</td>\n",
       "    </tr>\n",
       "    <tr>\n",
       "      <td>479</td>\n",
       "      <td>1479</td>\n",
       "      <td>40</td>\n",
       "      <td>NaN</td>\n",
       "      <td>Хабаровск</td>\n",
       "      <td>Игорь</td>\n",
       "      <td>Богданов</td>\n",
       "      <td>2018-07-03</td>\n",
       "      <td>smart</td>\n",
       "    </tr>\n",
       "    <tr>\n",
       "      <td>485</td>\n",
       "      <td>1485</td>\n",
       "      <td>34</td>\n",
       "      <td>NaN</td>\n",
       "      <td>Киров</td>\n",
       "      <td>Таисия</td>\n",
       "      <td>Сухова</td>\n",
       "      <td>2018-12-29</td>\n",
       "      <td>ultra</td>\n",
       "    </tr>\n",
       "    <tr>\n",
       "      <td>310</td>\n",
       "      <td>1310</td>\n",
       "      <td>28</td>\n",
       "      <td>NaN</td>\n",
       "      <td>Уфа</td>\n",
       "      <td>Рудольф</td>\n",
       "      <td>Нестеров</td>\n",
       "      <td>2018-03-22</td>\n",
       "      <td>ultra</td>\n",
       "    </tr>\n",
       "    <tr>\n",
       "      <td>31</td>\n",
       "      <td>1031</td>\n",
       "      <td>66</td>\n",
       "      <td>NaN</td>\n",
       "      <td>Москва</td>\n",
       "      <td>Лаврентий</td>\n",
       "      <td>Тимофеев</td>\n",
       "      <td>2018-11-02</td>\n",
       "      <td>smart</td>\n",
       "    </tr>\n",
       "    <tr>\n",
       "      <td>249</td>\n",
       "      <td>1249</td>\n",
       "      <td>25</td>\n",
       "      <td>NaN</td>\n",
       "      <td>Курск</td>\n",
       "      <td>Изольда</td>\n",
       "      <td>Авдушева</td>\n",
       "      <td>2018-08-14</td>\n",
       "      <td>smart</td>\n",
       "    </tr>\n",
       "    <tr>\n",
       "      <td>90</td>\n",
       "      <td>1090</td>\n",
       "      <td>54</td>\n",
       "      <td>2018-12-03</td>\n",
       "      <td>Череповец</td>\n",
       "      <td>Екатерина</td>\n",
       "      <td>Астафьева</td>\n",
       "      <td>2018-10-11</td>\n",
       "      <td>ultra</td>\n",
       "    </tr>\n",
       "  </tbody>\n",
       "</table>\n",
       "</div>"
      ],
      "text/plain": [
       "     user_id  age  churn_date       city first_name  last_name    reg_date  \\\n",
       "304     1304   68         NaN   Владимир       Илья   Соловьёв  2018-11-05   \n",
       "340     1340   50         NaN      Пенза    Тимофей     Алютин  2018-01-30   \n",
       "47      1047   67         NaN    Саратов     Милица  Меркулова  2018-10-29   \n",
       "67      1067   45         NaN     Москва      Юзефа   Абашкина  2018-04-09   \n",
       "479     1479   40         NaN  Хабаровск      Игорь   Богданов  2018-07-03   \n",
       "485     1485   34         NaN      Киров     Таисия     Сухова  2018-12-29   \n",
       "310     1310   28         NaN        Уфа    Рудольф   Нестеров  2018-03-22   \n",
       "31      1031   66         NaN     Москва  Лаврентий   Тимофеев  2018-11-02   \n",
       "249     1249   25         NaN      Курск    Изольда   Авдушева  2018-08-14   \n",
       "90      1090   54  2018-12-03  Череповец  Екатерина  Астафьева  2018-10-11   \n",
       "\n",
       "    tariff  \n",
       "304  ultra  \n",
       "340  smart  \n",
       "47   smart  \n",
       "67   smart  \n",
       "479  smart  \n",
       "485  ultra  \n",
       "310  ultra  \n",
       "31   smart  \n",
       "249  smart  \n",
       "90   ultra  "
      ]
     },
     "metadata": {},
     "output_type": "display_data"
    },
    {
     "name": "stdout",
     "output_type": "stream",
     "text": [
      "\u001b[1mИнформация о размере датафрейма, типе данных и пропущенных значениях:\u001b[0m\n",
      "<class 'pandas.core.frame.DataFrame'>\n",
      "RangeIndex: 500 entries, 0 to 499\n",
      "Data columns (total 8 columns):\n",
      "user_id       500 non-null int64\n",
      "age           500 non-null int64\n",
      "churn_date    38 non-null object\n",
      "city          500 non-null object\n",
      "first_name    500 non-null object\n",
      "last_name     500 non-null object\n",
      "reg_date      500 non-null object\n",
      "tariff        500 non-null object\n",
      "dtypes: int64(2), object(6)\n",
      "memory usage: 31.4+ KB\n",
      "\n",
      "\u001b[1mИнформация о минимальных/максимальных значениях для численных параметров:\u001b[0m\n"
     ]
    },
    {
     "data": {
      "text/html": [
       "<div>\n",
       "<style scoped>\n",
       "    .dataframe tbody tr th:only-of-type {\n",
       "        vertical-align: middle;\n",
       "    }\n",
       "\n",
       "    .dataframe tbody tr th {\n",
       "        vertical-align: top;\n",
       "    }\n",
       "\n",
       "    .dataframe thead th {\n",
       "        text-align: right;\n",
       "    }\n",
       "</style>\n",
       "<table border=\"1\" class=\"dataframe\">\n",
       "  <thead>\n",
       "    <tr style=\"text-align: right;\">\n",
       "      <th></th>\n",
       "      <th>user_id</th>\n",
       "      <th>age</th>\n",
       "    </tr>\n",
       "  </thead>\n",
       "  <tbody>\n",
       "    <tr>\n",
       "      <td>min</td>\n",
       "      <td>1000.0</td>\n",
       "      <td>18.0</td>\n",
       "    </tr>\n",
       "    <tr>\n",
       "      <td>max</td>\n",
       "      <td>1499.0</td>\n",
       "      <td>75.0</td>\n",
       "    </tr>\n",
       "  </tbody>\n",
       "</table>\n",
       "</div>"
      ],
      "text/plain": [
       "     user_id   age\n",
       "min   1000.0  18.0\n",
       "max   1499.0  75.0"
      ]
     },
     "metadata": {},
     "output_type": "display_data"
    },
    {
     "name": "stdout",
     "output_type": "stream",
     "text": [
      "\u001b[1mКоличество дубликатов в данных:\u001b[0m 0\n"
     ]
    }
   ],
   "source": [
    "general_info(df_users)"
   ]
  },
  {
   "cell_type": "markdown",
   "metadata": {},
   "source": [
    "Количество уникальных населенных пунктов в выборке:"
   ]
  },
  {
   "cell_type": "code",
   "execution_count": 5,
   "metadata": {},
   "outputs": [
    {
     "data": {
      "text/plain": [
       "76"
      ]
     },
     "execution_count": 5,
     "metadata": {},
     "output_type": "execute_result"
    }
   ],
   "source": [
    "len(df_users['city'].unique())"
   ]
  },
  {
   "cell_type": "markdown",
   "metadata": {},
   "source": [
    "* Исходный датафрейм содержит 500 записей с информацией о пользователях, разделенной по 8-ми параметрам-характеристикам.\n",
    "* Дата прекращения пользования тарифом указана для 38 пользователей. В остальных случаях тариф ещё действовал на момент выгрузки данных и эти пропуски предобрабатываться не будут.\n",
    "* Колонки churn_date и reg_date требуют преобразования типов данных из object в datetime64.\n",
    "* Возраст клиентов, представленных в выборке, от 18 до 75 лет.\n",
    "* Количество уникальных населенных пунктов в выборке - 76."
   ]
  },
  {
   "cell_type": "markdown",
   "metadata": {},
   "source": [
    "### Информация о звонках"
   ]
  },
  {
   "cell_type": "code",
   "execution_count": 6,
   "metadata": {},
   "outputs": [
    {
     "name": "stdout",
     "output_type": "stream",
     "text": [
      "\n",
      "\u001b[1mИнформация, включающая 10 произвольных записей датафрейма:\u001b[0m\n"
     ]
    },
    {
     "data": {
      "text/html": [
       "<div>\n",
       "<style scoped>\n",
       "    .dataframe tbody tr th:only-of-type {\n",
       "        vertical-align: middle;\n",
       "    }\n",
       "\n",
       "    .dataframe tbody tr th {\n",
       "        vertical-align: top;\n",
       "    }\n",
       "\n",
       "    .dataframe thead th {\n",
       "        text-align: right;\n",
       "    }\n",
       "</style>\n",
       "<table border=\"1\" class=\"dataframe\">\n",
       "  <thead>\n",
       "    <tr style=\"text-align: right;\">\n",
       "      <th></th>\n",
       "      <th>id</th>\n",
       "      <th>call_date</th>\n",
       "      <th>duration</th>\n",
       "      <th>user_id</th>\n",
       "    </tr>\n",
       "  </thead>\n",
       "  <tbody>\n",
       "    <tr>\n",
       "      <td>26953</td>\n",
       "      <td>1066_374</td>\n",
       "      <td>2018-08-26</td>\n",
       "      <td>0.00</td>\n",
       "      <td>1066</td>\n",
       "    </tr>\n",
       "    <tr>\n",
       "      <td>66122</td>\n",
       "      <td>1168_1273</td>\n",
       "      <td>2018-03-28</td>\n",
       "      <td>16.05</td>\n",
       "      <td>1168</td>\n",
       "    </tr>\n",
       "    <tr>\n",
       "      <td>67325</td>\n",
       "      <td>1171_350</td>\n",
       "      <td>2018-09-14</td>\n",
       "      <td>6.23</td>\n",
       "      <td>1171</td>\n",
       "    </tr>\n",
       "    <tr>\n",
       "      <td>74643</td>\n",
       "      <td>1186_465</td>\n",
       "      <td>2018-09-02</td>\n",
       "      <td>0.79</td>\n",
       "      <td>1186</td>\n",
       "    </tr>\n",
       "    <tr>\n",
       "      <td>192311</td>\n",
       "      <td>1472_124</td>\n",
       "      <td>2018-05-04</td>\n",
       "      <td>5.94</td>\n",
       "      <td>1472</td>\n",
       "    </tr>\n",
       "    <tr>\n",
       "      <td>47375</td>\n",
       "      <td>1118_664</td>\n",
       "      <td>2018-10-24</td>\n",
       "      <td>13.41</td>\n",
       "      <td>1118</td>\n",
       "    </tr>\n",
       "    <tr>\n",
       "      <td>91143</td>\n",
       "      <td>1227_563</td>\n",
       "      <td>2018-08-03</td>\n",
       "      <td>15.15</td>\n",
       "      <td>1227</td>\n",
       "    </tr>\n",
       "    <tr>\n",
       "      <td>3818</td>\n",
       "      <td>1010_67</td>\n",
       "      <td>2018-08-16</td>\n",
       "      <td>14.29</td>\n",
       "      <td>1010</td>\n",
       "    </tr>\n",
       "    <tr>\n",
       "      <td>182822</td>\n",
       "      <td>1454_574</td>\n",
       "      <td>2018-09-23</td>\n",
       "      <td>9.98</td>\n",
       "      <td>1454</td>\n",
       "    </tr>\n",
       "    <tr>\n",
       "      <td>187346</td>\n",
       "      <td>1463_0</td>\n",
       "      <td>2018-12-05</td>\n",
       "      <td>10.63</td>\n",
       "      <td>1463</td>\n",
       "    </tr>\n",
       "  </tbody>\n",
       "</table>\n",
       "</div>"
      ],
      "text/plain": [
       "               id   call_date  duration  user_id\n",
       "26953    1066_374  2018-08-26      0.00     1066\n",
       "66122   1168_1273  2018-03-28     16.05     1168\n",
       "67325    1171_350  2018-09-14      6.23     1171\n",
       "74643    1186_465  2018-09-02      0.79     1186\n",
       "192311   1472_124  2018-05-04      5.94     1472\n",
       "47375    1118_664  2018-10-24     13.41     1118\n",
       "91143    1227_563  2018-08-03     15.15     1227\n",
       "3818      1010_67  2018-08-16     14.29     1010\n",
       "182822   1454_574  2018-09-23      9.98     1454\n",
       "187346     1463_0  2018-12-05     10.63     1463"
      ]
     },
     "metadata": {},
     "output_type": "display_data"
    },
    {
     "name": "stdout",
     "output_type": "stream",
     "text": [
      "\u001b[1mИнформация о размере датафрейма, типе данных и пропущенных значениях:\u001b[0m\n",
      "<class 'pandas.core.frame.DataFrame'>\n",
      "RangeIndex: 202607 entries, 0 to 202606\n",
      "Data columns (total 4 columns):\n",
      "id           202607 non-null object\n",
      "call_date    202607 non-null object\n",
      "duration     202607 non-null float64\n",
      "user_id      202607 non-null int64\n",
      "dtypes: float64(1), int64(1), object(2)\n",
      "memory usage: 6.2+ MB\n",
      "\n",
      "\u001b[1mИнформация о минимальных/максимальных значениях для численных параметров:\u001b[0m\n"
     ]
    },
    {
     "data": {
      "text/html": [
       "<div>\n",
       "<style scoped>\n",
       "    .dataframe tbody tr th:only-of-type {\n",
       "        vertical-align: middle;\n",
       "    }\n",
       "\n",
       "    .dataframe tbody tr th {\n",
       "        vertical-align: top;\n",
       "    }\n",
       "\n",
       "    .dataframe thead th {\n",
       "        text-align: right;\n",
       "    }\n",
       "</style>\n",
       "<table border=\"1\" class=\"dataframe\">\n",
       "  <thead>\n",
       "    <tr style=\"text-align: right;\">\n",
       "      <th></th>\n",
       "      <th>duration</th>\n",
       "      <th>user_id</th>\n",
       "    </tr>\n",
       "  </thead>\n",
       "  <tbody>\n",
       "    <tr>\n",
       "      <td>min</td>\n",
       "      <td>0.0</td>\n",
       "      <td>1000.0</td>\n",
       "    </tr>\n",
       "    <tr>\n",
       "      <td>max</td>\n",
       "      <td>38.0</td>\n",
       "      <td>1499.0</td>\n",
       "    </tr>\n",
       "  </tbody>\n",
       "</table>\n",
       "</div>"
      ],
      "text/plain": [
       "     duration  user_id\n",
       "min       0.0   1000.0\n",
       "max      38.0   1499.0"
      ]
     },
     "metadata": {},
     "output_type": "display_data"
    },
    {
     "name": "stdout",
     "output_type": "stream",
     "text": [
      "\u001b[1mКоличество дубликатов в данных:\u001b[0m 0\n"
     ]
    }
   ],
   "source": [
    "general_info(df_calls)"
   ]
  },
  {
   "cell_type": "markdown",
   "metadata": {},
   "source": [
    "Из данных о продолжительности телефонных разговоров следует, что присутствуют звонки длительностью 0 мин. Оценим процент таких звонков:"
   ]
  },
  {
   "cell_type": "code",
   "execution_count": 7,
   "metadata": {},
   "outputs": [
    {
     "name": "stdout",
     "output_type": "stream",
     "text": [
      "Количество пропущенных звонков: 19.6%\n"
     ]
    }
   ],
   "source": [
    "missed_calls = (len(df_calls[df_calls['duration'] == 0]))/ len(df_calls)\n",
    "print('Количество пропущенных звонков: {:.1%}'.format(missed_calls))"
   ]
  },
  {
   "cell_type": "markdown",
   "metadata": {},
   "source": [
    "Оценим также среднюю продолжительность состоявшегося телефонного разговора:"
   ]
  },
  {
   "cell_type": "code",
   "execution_count": 8,
   "metadata": {},
   "outputs": [
    {
     "name": "stdout",
     "output_type": "stream",
     "text": [
      "Средняя продолжительность состоявшегося разговора (мин): 8.4\n"
     ]
    }
   ],
   "source": [
    "calls_mean_duration = df_calls.loc[df_calls['duration'] > 0, 'duration'].mean()\n",
    "print('Средняя продолжительность состоявшегося разговора (мин): {:.1f}'.format(calls_mean_duration))"
   ]
  },
  {
   "cell_type": "markdown",
   "metadata": {},
   "source": [
    "* Исходный датафрейм содержит 202607 записей с информацией о звонках, разделенной по 4-м параметрам-характеристикам.\n",
    "* Исходный датафрейм не имеет пропусков и дубликатов.\n",
    "* Название колонки id требует переименования в id_calls, чтобы избежать совпадений с названиями колонок в других датафреймах проекта. Тип данных колонки id требует дополнительного изучения. \n",
    "* Колонка call_date требует преобразования в тип данных datetime64.\n",
    "* Значения колонки duration можно округлить до следующего целого числа, т.к. по условиям проекта, «Мегалайн» всегда округляет вверх значения минут и мегабайтов. Тип данных изменить на int64.\n",
    "* Минимальная продолжительность звонка составляла 0 мин (звонок мог быть пропущен или сброшен), максимальная продолжительность разговора - 38 минут.\n",
    "* Доля пропущенных (несостоявшихся) звонков в имеющейся выборке - 19,6%. Средняя продолжительность состоявшегося разговора около 9 минут."
   ]
  },
  {
   "cell_type": "markdown",
   "metadata": {},
   "source": [
    "### Информация о cообщениях"
   ]
  },
  {
   "cell_type": "code",
   "execution_count": 9,
   "metadata": {},
   "outputs": [
    {
     "name": "stdout",
     "output_type": "stream",
     "text": [
      "\n",
      "\u001b[1mИнформация, включающая 10 произвольных записей датафрейма:\u001b[0m\n"
     ]
    },
    {
     "data": {
      "text/html": [
       "<div>\n",
       "<style scoped>\n",
       "    .dataframe tbody tr th:only-of-type {\n",
       "        vertical-align: middle;\n",
       "    }\n",
       "\n",
       "    .dataframe tbody tr th {\n",
       "        vertical-align: top;\n",
       "    }\n",
       "\n",
       "    .dataframe thead th {\n",
       "        text-align: right;\n",
       "    }\n",
       "</style>\n",
       "<table border=\"1\" class=\"dataframe\">\n",
       "  <thead>\n",
       "    <tr style=\"text-align: right;\">\n",
       "      <th></th>\n",
       "      <th>id</th>\n",
       "      <th>message_date</th>\n",
       "      <th>user_id</th>\n",
       "    </tr>\n",
       "  </thead>\n",
       "  <tbody>\n",
       "    <tr>\n",
       "      <td>45696</td>\n",
       "      <td>1197_26</td>\n",
       "      <td>2018-12-31</td>\n",
       "      <td>1197</td>\n",
       "    </tr>\n",
       "    <tr>\n",
       "      <td>66091</td>\n",
       "      <td>1282_523</td>\n",
       "      <td>2018-11-30</td>\n",
       "      <td>1282</td>\n",
       "    </tr>\n",
       "    <tr>\n",
       "      <td>18743</td>\n",
       "      <td>1082_184</td>\n",
       "      <td>2018-10-18</td>\n",
       "      <td>1082</td>\n",
       "    </tr>\n",
       "    <tr>\n",
       "      <td>33759</td>\n",
       "      <td>1146_557</td>\n",
       "      <td>2018-12-22</td>\n",
       "      <td>1146</td>\n",
       "    </tr>\n",
       "    <tr>\n",
       "      <td>11403</td>\n",
       "      <td>1048_49</td>\n",
       "      <td>2018-09-27</td>\n",
       "      <td>1048</td>\n",
       "    </tr>\n",
       "    <tr>\n",
       "      <td>97793</td>\n",
       "      <td>1401_125</td>\n",
       "      <td>2018-08-10</td>\n",
       "      <td>1401</td>\n",
       "    </tr>\n",
       "    <tr>\n",
       "      <td>406</td>\n",
       "      <td>1000_406</td>\n",
       "      <td>2018-12-29</td>\n",
       "      <td>1000</td>\n",
       "    </tr>\n",
       "    <tr>\n",
       "      <td>71393</td>\n",
       "      <td>1302_221</td>\n",
       "      <td>2018-10-23</td>\n",
       "      <td>1302</td>\n",
       "    </tr>\n",
       "    <tr>\n",
       "      <td>103004</td>\n",
       "      <td>1420_11</td>\n",
       "      <td>2018-12-12</td>\n",
       "      <td>1420</td>\n",
       "    </tr>\n",
       "    <tr>\n",
       "      <td>53795</td>\n",
       "      <td>1238_208</td>\n",
       "      <td>2018-10-08</td>\n",
       "      <td>1238</td>\n",
       "    </tr>\n",
       "  </tbody>\n",
       "</table>\n",
       "</div>"
      ],
      "text/plain": [
       "              id message_date  user_id\n",
       "45696    1197_26   2018-12-31     1197\n",
       "66091   1282_523   2018-11-30     1282\n",
       "18743   1082_184   2018-10-18     1082\n",
       "33759   1146_557   2018-12-22     1146\n",
       "11403    1048_49   2018-09-27     1048\n",
       "97793   1401_125   2018-08-10     1401\n",
       "406     1000_406   2018-12-29     1000\n",
       "71393   1302_221   2018-10-23     1302\n",
       "103004   1420_11   2018-12-12     1420\n",
       "53795   1238_208   2018-10-08     1238"
      ]
     },
     "metadata": {},
     "output_type": "display_data"
    },
    {
     "name": "stdout",
     "output_type": "stream",
     "text": [
      "\u001b[1mИнформация о размере датафрейма, типе данных и пропущенных значениях:\u001b[0m\n",
      "<class 'pandas.core.frame.DataFrame'>\n",
      "RangeIndex: 123036 entries, 0 to 123035\n",
      "Data columns (total 3 columns):\n",
      "id              123036 non-null object\n",
      "message_date    123036 non-null object\n",
      "user_id         123036 non-null int64\n",
      "dtypes: int64(1), object(2)\n",
      "memory usage: 2.8+ MB\n",
      "\n",
      "\u001b[1mИнформация о минимальных/максимальных значениях для численных параметров:\u001b[0m\n"
     ]
    },
    {
     "data": {
      "text/html": [
       "<div>\n",
       "<style scoped>\n",
       "    .dataframe tbody tr th:only-of-type {\n",
       "        vertical-align: middle;\n",
       "    }\n",
       "\n",
       "    .dataframe tbody tr th {\n",
       "        vertical-align: top;\n",
       "    }\n",
       "\n",
       "    .dataframe thead th {\n",
       "        text-align: right;\n",
       "    }\n",
       "</style>\n",
       "<table border=\"1\" class=\"dataframe\">\n",
       "  <thead>\n",
       "    <tr style=\"text-align: right;\">\n",
       "      <th></th>\n",
       "      <th>user_id</th>\n",
       "    </tr>\n",
       "  </thead>\n",
       "  <tbody>\n",
       "    <tr>\n",
       "      <td>min</td>\n",
       "      <td>1000.0</td>\n",
       "    </tr>\n",
       "    <tr>\n",
       "      <td>max</td>\n",
       "      <td>1499.0</td>\n",
       "    </tr>\n",
       "  </tbody>\n",
       "</table>\n",
       "</div>"
      ],
      "text/plain": [
       "     user_id\n",
       "min   1000.0\n",
       "max   1499.0"
      ]
     },
     "metadata": {},
     "output_type": "display_data"
    },
    {
     "name": "stdout",
     "output_type": "stream",
     "text": [
      "\u001b[1mКоличество дубликатов в данных:\u001b[0m 0\n"
     ]
    }
   ],
   "source": [
    "general_info(df_messages)"
   ]
  },
  {
   "cell_type": "markdown",
   "metadata": {},
   "source": [
    "* Исходный датафрейм содержит 123036 записей с информацией о сообщениях, разделенной по 3-м параметрам-характеристикам.\n",
    "* Исходный датафрейм не имеет пропусков и дубликатов.\n",
    "* Название колонки id требует переименования в id_messages, чтобы измежать совпадений с названиями колонок в других датафреймах проекта. Тип данных колонки id требует дополнительного изучения.\n",
    "* Колонка message_date требует преобразования в тип данных datetime64."
   ]
  },
  {
   "cell_type": "markdown",
   "metadata": {},
   "source": [
    "### Информация об интернет-сессиях"
   ]
  },
  {
   "cell_type": "code",
   "execution_count": 10,
   "metadata": {},
   "outputs": [
    {
     "name": "stdout",
     "output_type": "stream",
     "text": [
      "\n",
      "\u001b[1mИнформация, включающая 10 произвольных записей датафрейма:\u001b[0m\n"
     ]
    },
    {
     "data": {
      "text/html": [
       "<div>\n",
       "<style scoped>\n",
       "    .dataframe tbody tr th:only-of-type {\n",
       "        vertical-align: middle;\n",
       "    }\n",
       "\n",
       "    .dataframe tbody tr th {\n",
       "        vertical-align: top;\n",
       "    }\n",
       "\n",
       "    .dataframe thead th {\n",
       "        text-align: right;\n",
       "    }\n",
       "</style>\n",
       "<table border=\"1\" class=\"dataframe\">\n",
       "  <thead>\n",
       "    <tr style=\"text-align: right;\">\n",
       "      <th></th>\n",
       "      <th>Unnamed: 0</th>\n",
       "      <th>id</th>\n",
       "      <th>mb_used</th>\n",
       "      <th>session_date</th>\n",
       "      <th>user_id</th>\n",
       "    </tr>\n",
       "  </thead>\n",
       "  <tbody>\n",
       "    <tr>\n",
       "      <td>35745</td>\n",
       "      <td>35745</td>\n",
       "      <td>1124_125</td>\n",
       "      <td>122.45</td>\n",
       "      <td>2018-12-03</td>\n",
       "      <td>1124</td>\n",
       "    </tr>\n",
       "    <tr>\n",
       "      <td>18383</td>\n",
       "      <td>18383</td>\n",
       "      <td>1064_102</td>\n",
       "      <td>320.60</td>\n",
       "      <td>2018-12-19</td>\n",
       "      <td>1064</td>\n",
       "    </tr>\n",
       "    <tr>\n",
       "      <td>59774</td>\n",
       "      <td>59774</td>\n",
       "      <td>1203_22</td>\n",
       "      <td>605.96</td>\n",
       "      <td>2018-06-17</td>\n",
       "      <td>1203</td>\n",
       "    </tr>\n",
       "    <tr>\n",
       "      <td>56317</td>\n",
       "      <td>56317</td>\n",
       "      <td>1188_123</td>\n",
       "      <td>781.73</td>\n",
       "      <td>2018-05-08</td>\n",
       "      <td>1188</td>\n",
       "    </tr>\n",
       "    <tr>\n",
       "      <td>52231</td>\n",
       "      <td>52231</td>\n",
       "      <td>1176_386</td>\n",
       "      <td>150.98</td>\n",
       "      <td>2018-08-20</td>\n",
       "      <td>1176</td>\n",
       "    </tr>\n",
       "    <tr>\n",
       "      <td>20276</td>\n",
       "      <td>20276</td>\n",
       "      <td>1068_26</td>\n",
       "      <td>389.65</td>\n",
       "      <td>2018-12-04</td>\n",
       "      <td>1068</td>\n",
       "    </tr>\n",
       "    <tr>\n",
       "      <td>82748</td>\n",
       "      <td>82748</td>\n",
       "      <td>1281_64</td>\n",
       "      <td>841.89</td>\n",
       "      <td>2018-11-07</td>\n",
       "      <td>1281</td>\n",
       "    </tr>\n",
       "    <tr>\n",
       "      <td>129266</td>\n",
       "      <td>129266</td>\n",
       "      <td>1431_300</td>\n",
       "      <td>461.23</td>\n",
       "      <td>2018-11-26</td>\n",
       "      <td>1431</td>\n",
       "    </tr>\n",
       "    <tr>\n",
       "      <td>46783</td>\n",
       "      <td>46783</td>\n",
       "      <td>1160_75</td>\n",
       "      <td>0.00</td>\n",
       "      <td>2018-08-15</td>\n",
       "      <td>1160</td>\n",
       "    </tr>\n",
       "    <tr>\n",
       "      <td>48492</td>\n",
       "      <td>48492</td>\n",
       "      <td>1168_260</td>\n",
       "      <td>336.06</td>\n",
       "      <td>2018-07-28</td>\n",
       "      <td>1168</td>\n",
       "    </tr>\n",
       "  </tbody>\n",
       "</table>\n",
       "</div>"
      ],
      "text/plain": [
       "        Unnamed: 0        id  mb_used session_date  user_id\n",
       "35745        35745  1124_125   122.45   2018-12-03     1124\n",
       "18383        18383  1064_102   320.60   2018-12-19     1064\n",
       "59774        59774   1203_22   605.96   2018-06-17     1203\n",
       "56317        56317  1188_123   781.73   2018-05-08     1188\n",
       "52231        52231  1176_386   150.98   2018-08-20     1176\n",
       "20276        20276   1068_26   389.65   2018-12-04     1068\n",
       "82748        82748   1281_64   841.89   2018-11-07     1281\n",
       "129266      129266  1431_300   461.23   2018-11-26     1431\n",
       "46783        46783   1160_75     0.00   2018-08-15     1160\n",
       "48492        48492  1168_260   336.06   2018-07-28     1168"
      ]
     },
     "metadata": {},
     "output_type": "display_data"
    },
    {
     "name": "stdout",
     "output_type": "stream",
     "text": [
      "\u001b[1mИнформация о размере датафрейма, типе данных и пропущенных значениях:\u001b[0m\n",
      "<class 'pandas.core.frame.DataFrame'>\n",
      "RangeIndex: 149396 entries, 0 to 149395\n",
      "Data columns (total 5 columns):\n",
      "Unnamed: 0      149396 non-null int64\n",
      "id              149396 non-null object\n",
      "mb_used         149396 non-null float64\n",
      "session_date    149396 non-null object\n",
      "user_id         149396 non-null int64\n",
      "dtypes: float64(1), int64(2), object(2)\n",
      "memory usage: 5.7+ MB\n",
      "\n",
      "\u001b[1mИнформация о минимальных/максимальных значениях для численных параметров:\u001b[0m\n"
     ]
    },
    {
     "data": {
      "text/html": [
       "<div>\n",
       "<style scoped>\n",
       "    .dataframe tbody tr th:only-of-type {\n",
       "        vertical-align: middle;\n",
       "    }\n",
       "\n",
       "    .dataframe tbody tr th {\n",
       "        vertical-align: top;\n",
       "    }\n",
       "\n",
       "    .dataframe thead th {\n",
       "        text-align: right;\n",
       "    }\n",
       "</style>\n",
       "<table border=\"1\" class=\"dataframe\">\n",
       "  <thead>\n",
       "    <tr style=\"text-align: right;\">\n",
       "      <th></th>\n",
       "      <th>Unnamed: 0</th>\n",
       "      <th>mb_used</th>\n",
       "      <th>user_id</th>\n",
       "    </tr>\n",
       "  </thead>\n",
       "  <tbody>\n",
       "    <tr>\n",
       "      <td>min</td>\n",
       "      <td>0.0</td>\n",
       "      <td>0.00</td>\n",
       "      <td>1000.0</td>\n",
       "    </tr>\n",
       "    <tr>\n",
       "      <td>max</td>\n",
       "      <td>149395.0</td>\n",
       "      <td>1724.83</td>\n",
       "      <td>1499.0</td>\n",
       "    </tr>\n",
       "  </tbody>\n",
       "</table>\n",
       "</div>"
      ],
      "text/plain": [
       "     Unnamed: 0  mb_used  user_id\n",
       "min         0.0     0.00   1000.0\n",
       "max    149395.0  1724.83   1499.0"
      ]
     },
     "metadata": {},
     "output_type": "display_data"
    },
    {
     "name": "stdout",
     "output_type": "stream",
     "text": [
      "\u001b[1mКоличество дубликатов в данных:\u001b[0m 0\n"
     ]
    }
   ],
   "source": [
    "general_info(df_internet)"
   ]
  },
  {
   "cell_type": "markdown",
   "metadata": {},
   "source": [
    "* Исходный датафрейм содержит 149396 записей с информацией об интернет-сессиях, разделенной по 5-ти параметрам-характеристикам.\n",
    "* Исходный датафрейм не имеет пропусков и дубликатов.\n",
    "* Колонку 'Unnamed: 0' требуется удалить, т.к. она дублирует колонку с уникальными индексами записей.  \n",
    "* Название колонки id требует переименования в id_web, чтобы избежать совпадений с названиями колонок в других датафреймах проекта. Тип данных колонки id требует дополнительного изучения.\n",
    "* Колонка session_date требует преобразования в тип данных datetime64.\n",
    "* Значения колонки mb_used требуется округлить до следующего целого числа, т.к. по условиям проекта, «Мегалайн» всегда округляет вверх значения минут и мегабайтов. Тип данных преобразовать в int64."
   ]
  },
  {
   "cell_type": "markdown",
   "metadata": {},
   "source": [
    "### Информация о тарифах"
   ]
  },
  {
   "cell_type": "code",
   "execution_count": 11,
   "metadata": {},
   "outputs": [
    {
     "data": {
      "text/html": [
       "<div>\n",
       "<style scoped>\n",
       "    .dataframe tbody tr th:only-of-type {\n",
       "        vertical-align: middle;\n",
       "    }\n",
       "\n",
       "    .dataframe tbody tr th {\n",
       "        vertical-align: top;\n",
       "    }\n",
       "\n",
       "    .dataframe thead th {\n",
       "        text-align: right;\n",
       "    }\n",
       "</style>\n",
       "<table border=\"1\" class=\"dataframe\">\n",
       "  <thead>\n",
       "    <tr style=\"text-align: right;\">\n",
       "      <th></th>\n",
       "      <th>messages_included</th>\n",
       "      <th>mb_per_month_included</th>\n",
       "      <th>minutes_included</th>\n",
       "      <th>rub_monthly_fee</th>\n",
       "      <th>rub_per_gb</th>\n",
       "      <th>rub_per_message</th>\n",
       "      <th>rub_per_minute</th>\n",
       "      <th>tariff_name</th>\n",
       "    </tr>\n",
       "  </thead>\n",
       "  <tbody>\n",
       "    <tr>\n",
       "      <td>0</td>\n",
       "      <td>50</td>\n",
       "      <td>15360</td>\n",
       "      <td>500</td>\n",
       "      <td>550</td>\n",
       "      <td>200</td>\n",
       "      <td>3</td>\n",
       "      <td>3</td>\n",
       "      <td>smart</td>\n",
       "    </tr>\n",
       "    <tr>\n",
       "      <td>1</td>\n",
       "      <td>1000</td>\n",
       "      <td>30720</td>\n",
       "      <td>3000</td>\n",
       "      <td>1950</td>\n",
       "      <td>150</td>\n",
       "      <td>1</td>\n",
       "      <td>1</td>\n",
       "      <td>ultra</td>\n",
       "    </tr>\n",
       "  </tbody>\n",
       "</table>\n",
       "</div>"
      ],
      "text/plain": [
       "   messages_included  mb_per_month_included  minutes_included  \\\n",
       "0                 50                  15360               500   \n",
       "1               1000                  30720              3000   \n",
       "\n",
       "   rub_monthly_fee  rub_per_gb  rub_per_message  rub_per_minute tariff_name  \n",
       "0              550         200                3               3       smart  \n",
       "1             1950         150                1               1       ultra  "
      ]
     },
     "metadata": {},
     "output_type": "display_data"
    },
    {
     "name": "stdout",
     "output_type": "stream",
     "text": [
      "\u001b[1mИнформации о размере датафрейма, типе данных и пропущенных значениях:\u001b[0m\n",
      "<class 'pandas.core.frame.DataFrame'>\n",
      "RangeIndex: 2 entries, 0 to 1\n",
      "Data columns (total 8 columns):\n",
      "messages_included        2 non-null int64\n",
      "mb_per_month_included    2 non-null int64\n",
      "minutes_included         2 non-null int64\n",
      "rub_monthly_fee          2 non-null int64\n",
      "rub_per_gb               2 non-null int64\n",
      "rub_per_message          2 non-null int64\n",
      "rub_per_minute           2 non-null int64\n",
      "tariff_name              2 non-null object\n",
      "dtypes: int64(7), object(1)\n",
      "memory usage: 256.0+ bytes\n"
     ]
    }
   ],
   "source": [
    "display(df_tariffs)\n",
    "print('\\033[1m' + 'Информации о размере датафрейма, типе данных и пропущенных значениях:' + '\\033[0m')\n",
    "df_tariffs.info()"
   ]
  },
  {
   "cell_type": "code",
   "execution_count": 12,
   "metadata": {},
   "outputs": [],
   "source": [
    "df_tariffs.rename(columns = {'tariff_name':'tariff'}, inplace = True)"
   ]
  },
  {
   "cell_type": "markdown",
   "metadata": {},
   "source": [
    "Исходный датафрейм содержит две записи, характеризующие тарифные планы \"Мегалайна\". Информация разделена на 8-м параметров-характеристик. Пропуски отсутствуют, изменений в типах данных не требуется."
   ]
  },
  {
   "cell_type": "markdown",
   "metadata": {},
   "source": [
    "**Промежуточные выводы:**\n",
    "* Представлены все необходимые данные для дальнейшей обработки и анализа.\n",
    "* Колонки, представляющие информацию о датах, требуют преобразования в тип данных datetime64 для последующих операций с ними.\n",
    "* Дубликаты в колонках отсутствуют, но ряд названий требуют переименований, чтобы избежать дублирований в сводном датафрейме.\n",
    "* Число пользователей в представленной выборке - 500 человек.\n",
    "* Возраст клиентов, представленных в выборке, от 18 до 75 лет.\n",
    "* Количество уникальных населенных пунктов в выборке - 76.\n",
    "* Минимальная продолжительность звонка составляла 0 мин (звонок мог быть пропущен или сброшен), максимальная продолжительность разговора - 38 минут.\n",
    "* Доля пропущенных (несостоявшихся) звонков в имеющейся выборке - 19,6%. Средняя продолжительность состоявшегося разговора около 9 минут."
   ]
  },
  {
   "cell_type": "markdown",
   "metadata": {},
   "source": [
    "## Подготовка данных"
   ]
  },
  {
   "cell_type": "markdown",
   "metadata": {},
   "source": [
    "### Обработка формата данных и представление датафреймов"
   ]
  },
  {
   "cell_type": "markdown",
   "metadata": {},
   "source": [
    "Изменим тип данных представления даты в датафремах:"
   ]
  },
  {
   "cell_type": "code",
   "execution_count": 13,
   "metadata": {},
   "outputs": [],
   "source": [
    "def datetime_change(dataframe, column):\n",
    "    \"\"\"\n",
    "    Функция для изменения формата типа данных в datetime64.\n",
    "    \"\"\"\n",
    "    dataframe[column] = pd.to_datetime(dataframe[column], format='%Y-%m-%dT%H')"
   ]
  },
  {
   "cell_type": "code",
   "execution_count": 14,
   "metadata": {},
   "outputs": [],
   "source": [
    "datetime_change(df_users, 'churn_date')\n",
    "datetime_change(df_users, 'reg_date')\n",
    "datetime_change(df_calls, 'call_date')\n",
    "datetime_change(df_messages, 'message_date')\n",
    "datetime_change(df_internet, 'session_date')"
   ]
  },
  {
   "cell_type": "markdown",
   "metadata": {},
   "source": [
    "Округлим продолжительность разговора и объем интернет-трафика до следующего целого числа. Изменим тип данных на int64:"
   ]
  },
  {
   "cell_type": "code",
   "execution_count": 15,
   "metadata": {},
   "outputs": [],
   "source": [
    "df_calls['duration'] = df_calls['duration'].apply(np.ceil).astype('int64')\n",
    "df_internet['mb_used'] = df_internet['mb_used'].apply(np.ceil).astype('int64')"
   ]
  },
  {
   "cell_type": "markdown",
   "metadata": {},
   "source": [
    "В исходных датафреймах переименуем колонки с одинаковыми названиями, обозначающие различные параметры:"
   ]
  },
  {
   "cell_type": "code",
   "execution_count": 16,
   "metadata": {},
   "outputs": [],
   "source": [
    "df_calls.rename(columns = {'id':'id_calls'}, inplace = True)\n",
    "df_messages.rename(columns = {'id':'id_messages'}, inplace = True)\n",
    "df_internet.rename(columns = {'id':'id_web'}, inplace = True)"
   ]
  },
  {
   "cell_type": "markdown",
   "metadata": {},
   "source": [
    "Удалим неинформативную колонку Unnamed: 0 в датафрейме df_internet:"
   ]
  },
  {
   "cell_type": "code",
   "execution_count": 17,
   "metadata": {},
   "outputs": [
    {
     "data": {
      "text/html": [
       "<div>\n",
       "<style scoped>\n",
       "    .dataframe tbody tr th:only-of-type {\n",
       "        vertical-align: middle;\n",
       "    }\n",
       "\n",
       "    .dataframe tbody tr th {\n",
       "        vertical-align: top;\n",
       "    }\n",
       "\n",
       "    .dataframe thead th {\n",
       "        text-align: right;\n",
       "    }\n",
       "</style>\n",
       "<table border=\"1\" class=\"dataframe\">\n",
       "  <thead>\n",
       "    <tr style=\"text-align: right;\">\n",
       "      <th></th>\n",
       "      <th>id_web</th>\n",
       "      <th>mb_used</th>\n",
       "      <th>session_date</th>\n",
       "      <th>user_id</th>\n",
       "    </tr>\n",
       "  </thead>\n",
       "  <tbody>\n",
       "    <tr>\n",
       "      <td>0</td>\n",
       "      <td>1000_0</td>\n",
       "      <td>113</td>\n",
       "      <td>2018-11-25</td>\n",
       "      <td>1000</td>\n",
       "    </tr>\n",
       "    <tr>\n",
       "      <td>1</td>\n",
       "      <td>1000_1</td>\n",
       "      <td>1053</td>\n",
       "      <td>2018-09-07</td>\n",
       "      <td>1000</td>\n",
       "    </tr>\n",
       "    <tr>\n",
       "      <td>2</td>\n",
       "      <td>1000_2</td>\n",
       "      <td>1198</td>\n",
       "      <td>2018-06-25</td>\n",
       "      <td>1000</td>\n",
       "    </tr>\n",
       "    <tr>\n",
       "      <td>3</td>\n",
       "      <td>1000_3</td>\n",
       "      <td>551</td>\n",
       "      <td>2018-08-22</td>\n",
       "      <td>1000</td>\n",
       "    </tr>\n",
       "    <tr>\n",
       "      <td>4</td>\n",
       "      <td>1000_4</td>\n",
       "      <td>303</td>\n",
       "      <td>2018-09-24</td>\n",
       "      <td>1000</td>\n",
       "    </tr>\n",
       "    <tr>\n",
       "      <td>...</td>\n",
       "      <td>...</td>\n",
       "      <td>...</td>\n",
       "      <td>...</td>\n",
       "      <td>...</td>\n",
       "    </tr>\n",
       "    <tr>\n",
       "      <td>149391</td>\n",
       "      <td>1499_152</td>\n",
       "      <td>319</td>\n",
       "      <td>2018-10-03</td>\n",
       "      <td>1499</td>\n",
       "    </tr>\n",
       "    <tr>\n",
       "      <td>149392</td>\n",
       "      <td>1499_153</td>\n",
       "      <td>491</td>\n",
       "      <td>2018-12-14</td>\n",
       "      <td>1499</td>\n",
       "    </tr>\n",
       "    <tr>\n",
       "      <td>149393</td>\n",
       "      <td>1499_154</td>\n",
       "      <td>0</td>\n",
       "      <td>2018-10-27</td>\n",
       "      <td>1499</td>\n",
       "    </tr>\n",
       "    <tr>\n",
       "      <td>149394</td>\n",
       "      <td>1499_155</td>\n",
       "      <td>1247</td>\n",
       "      <td>2018-11-26</td>\n",
       "      <td>1499</td>\n",
       "    </tr>\n",
       "    <tr>\n",
       "      <td>149395</td>\n",
       "      <td>1499_156</td>\n",
       "      <td>545</td>\n",
       "      <td>2018-10-26</td>\n",
       "      <td>1499</td>\n",
       "    </tr>\n",
       "  </tbody>\n",
       "</table>\n",
       "<p>149396 rows × 4 columns</p>\n",
       "</div>"
      ],
      "text/plain": [
       "          id_web  mb_used session_date  user_id\n",
       "0         1000_0      113   2018-11-25     1000\n",
       "1         1000_1     1053   2018-09-07     1000\n",
       "2         1000_2     1198   2018-06-25     1000\n",
       "3         1000_3      551   2018-08-22     1000\n",
       "4         1000_4      303   2018-09-24     1000\n",
       "...          ...      ...          ...      ...\n",
       "149391  1499_152      319   2018-10-03     1499\n",
       "149392  1499_153      491   2018-12-14     1499\n",
       "149393  1499_154        0   2018-10-27     1499\n",
       "149394  1499_155     1247   2018-11-26     1499\n",
       "149395  1499_156      545   2018-10-26     1499\n",
       "\n",
       "[149396 rows x 4 columns]"
      ]
     },
     "execution_count": 17,
     "metadata": {},
     "output_type": "execute_result"
    }
   ],
   "source": [
    "df_internet.drop(['Unnamed: 0'], axis=1)"
   ]
  },
  {
   "cell_type": "markdown",
   "metadata": {},
   "source": [
    "Проверим интервал дат на соответствие заданию (2018 г.):"
   ]
  },
  {
   "cell_type": "code",
   "execution_count": 18,
   "metadata": {},
   "outputs": [
    {
     "data": {
      "text/plain": [
       "Timestamp('2018-01-01 00:00:00')"
      ]
     },
     "execution_count": 18,
     "metadata": {},
     "output_type": "execute_result"
    }
   ],
   "source": [
    "min(df_internet['session_date'])"
   ]
  },
  {
   "cell_type": "code",
   "execution_count": 19,
   "metadata": {},
   "outputs": [
    {
     "data": {
      "text/plain": [
       "Timestamp('2018-12-31 00:00:00')"
      ]
     },
     "execution_count": 19,
     "metadata": {},
     "output_type": "execute_result"
    }
   ],
   "source": [
    "max(df_internet['session_date'])"
   ]
  },
  {
   "cell_type": "markdown",
   "metadata": {},
   "source": [
    "### Категоризация данных"
   ]
  },
  {
   "cell_type": "markdown",
   "metadata": {},
   "source": [
    "Категоризируем даты совершенных звонков/интернет-сессий/отправленных смс по месяцам:"
   ]
  },
  {
   "cell_type": "code",
   "execution_count": 20,
   "metadata": {},
   "outputs": [],
   "source": [
    "df_calls['month'] = df_calls['call_date'].dt.month_name().str.slice(stop=3)\n",
    "df_messages['month'] = df_messages['message_date'].dt.month_name().str.slice(stop=3)\n",
    "df_internet['month'] = df_internet['session_date'].dt.month_name().str.slice(stop=3)"
   ]
  },
  {
   "cell_type": "markdown",
   "metadata": {},
   "source": [
    "Посчитаем для каждого пользователя в выборке общее количество сделанных звонков и израсходованных минут разговора по месяцам:"
   ]
  },
  {
   "cell_type": "code",
   "execution_count": 21,
   "metadata": {},
   "outputs": [
    {
     "data": {
      "text/html": [
       "<div>\n",
       "<style scoped>\n",
       "    .dataframe tbody tr th:only-of-type {\n",
       "        vertical-align: middle;\n",
       "    }\n",
       "\n",
       "    .dataframe tbody tr th {\n",
       "        vertical-align: top;\n",
       "    }\n",
       "\n",
       "    .dataframe thead th {\n",
       "        text-align: right;\n",
       "    }\n",
       "</style>\n",
       "<table border=\"1\" class=\"dataframe\">\n",
       "  <thead>\n",
       "    <tr style=\"text-align: right;\">\n",
       "      <th></th>\n",
       "      <th>user_id</th>\n",
       "      <th>month</th>\n",
       "      <th>number_calls_per_month</th>\n",
       "      <th>total_minutes_spent_per_month</th>\n",
       "    </tr>\n",
       "  </thead>\n",
       "  <tbody>\n",
       "    <tr>\n",
       "      <td>0</td>\n",
       "      <td>1000</td>\n",
       "      <td>Aug</td>\n",
       "      <td>52</td>\n",
       "      <td>408</td>\n",
       "    </tr>\n",
       "    <tr>\n",
       "      <td>1</td>\n",
       "      <td>1000</td>\n",
       "      <td>Dec</td>\n",
       "      <td>46</td>\n",
       "      <td>333</td>\n",
       "    </tr>\n",
       "    <tr>\n",
       "      <td>2</td>\n",
       "      <td>1000</td>\n",
       "      <td>Jul</td>\n",
       "      <td>47</td>\n",
       "      <td>340</td>\n",
       "    </tr>\n",
       "    <tr>\n",
       "      <td>3</td>\n",
       "      <td>1000</td>\n",
       "      <td>Jun</td>\n",
       "      <td>43</td>\n",
       "      <td>172</td>\n",
       "    </tr>\n",
       "    <tr>\n",
       "      <td>4</td>\n",
       "      <td>1000</td>\n",
       "      <td>May</td>\n",
       "      <td>22</td>\n",
       "      <td>159</td>\n",
       "    </tr>\n",
       "    <tr>\n",
       "      <td>...</td>\n",
       "      <td>...</td>\n",
       "      <td>...</td>\n",
       "      <td>...</td>\n",
       "      <td>...</td>\n",
       "    </tr>\n",
       "    <tr>\n",
       "      <td>3169</td>\n",
       "      <td>1498</td>\n",
       "      <td>Sep</td>\n",
       "      <td>59</td>\n",
       "      <td>471</td>\n",
       "    </tr>\n",
       "    <tr>\n",
       "      <td>3170</td>\n",
       "      <td>1499</td>\n",
       "      <td>Dec</td>\n",
       "      <td>69</td>\n",
       "      <td>492</td>\n",
       "    </tr>\n",
       "    <tr>\n",
       "      <td>3171</td>\n",
       "      <td>1499</td>\n",
       "      <td>Nov</td>\n",
       "      <td>74</td>\n",
       "      <td>612</td>\n",
       "    </tr>\n",
       "    <tr>\n",
       "      <td>3172</td>\n",
       "      <td>1499</td>\n",
       "      <td>Oct</td>\n",
       "      <td>68</td>\n",
       "      <td>449</td>\n",
       "    </tr>\n",
       "    <tr>\n",
       "      <td>3173</td>\n",
       "      <td>1499</td>\n",
       "      <td>Sep</td>\n",
       "      <td>9</td>\n",
       "      <td>70</td>\n",
       "    </tr>\n",
       "  </tbody>\n",
       "</table>\n",
       "<p>3174 rows × 4 columns</p>\n",
       "</div>"
      ],
      "text/plain": [
       "      user_id month  number_calls_per_month  total_minutes_spent_per_month\n",
       "0        1000   Aug                      52                            408\n",
       "1        1000   Dec                      46                            333\n",
       "2        1000   Jul                      47                            340\n",
       "3        1000   Jun                      43                            172\n",
       "4        1000   May                      22                            159\n",
       "...       ...   ...                     ...                            ...\n",
       "3169     1498   Sep                      59                            471\n",
       "3170     1499   Dec                      69                            492\n",
       "3171     1499   Nov                      74                            612\n",
       "3172     1499   Oct                      68                            449\n",
       "3173     1499   Sep                       9                             70\n",
       "\n",
       "[3174 rows x 4 columns]"
      ]
     },
     "execution_count": 21,
     "metadata": {},
     "output_type": "execute_result"
    }
   ],
   "source": [
    "agg_calls = df_calls.groupby(['user_id', 'month']) \\\n",
    "                        .agg({'id_calls':'count', 'duration':'sum'}) \\\n",
    "                        .astype('Int64') \\\n",
    "                        .rename(columns = {'id_calls': 'number_calls_per_month', 'duration': 'total_minutes_spent_per_month'}) \\\n",
    "                        .reset_index()\n",
    "agg_calls"
   ]
  },
  {
   "cell_type": "markdown",
   "metadata": {},
   "source": [
    "Определим общее количество отправленных сообщений по месяцам каждым пользователем:"
   ]
  },
  {
   "cell_type": "code",
   "execution_count": 22,
   "metadata": {},
   "outputs": [
    {
     "data": {
      "text/html": [
       "<div>\n",
       "<style scoped>\n",
       "    .dataframe tbody tr th:only-of-type {\n",
       "        vertical-align: middle;\n",
       "    }\n",
       "\n",
       "    .dataframe tbody tr th {\n",
       "        vertical-align: top;\n",
       "    }\n",
       "\n",
       "    .dataframe thead th {\n",
       "        text-align: right;\n",
       "    }\n",
       "</style>\n",
       "<table border=\"1\" class=\"dataframe\">\n",
       "  <thead>\n",
       "    <tr style=\"text-align: right;\">\n",
       "      <th></th>\n",
       "      <th>user_id</th>\n",
       "      <th>month</th>\n",
       "      <th>number_sms_spent_per_month</th>\n",
       "    </tr>\n",
       "  </thead>\n",
       "  <tbody>\n",
       "    <tr>\n",
       "      <td>0</td>\n",
       "      <td>1000</td>\n",
       "      <td>Aug</td>\n",
       "      <td>81</td>\n",
       "    </tr>\n",
       "    <tr>\n",
       "      <td>1</td>\n",
       "      <td>1000</td>\n",
       "      <td>Dec</td>\n",
       "      <td>70</td>\n",
       "    </tr>\n",
       "    <tr>\n",
       "      <td>2</td>\n",
       "      <td>1000</td>\n",
       "      <td>Jul</td>\n",
       "      <td>75</td>\n",
       "    </tr>\n",
       "    <tr>\n",
       "      <td>3</td>\n",
       "      <td>1000</td>\n",
       "      <td>Jun</td>\n",
       "      <td>60</td>\n",
       "    </tr>\n",
       "    <tr>\n",
       "      <td>4</td>\n",
       "      <td>1000</td>\n",
       "      <td>May</td>\n",
       "      <td>22</td>\n",
       "    </tr>\n",
       "    <tr>\n",
       "      <td>...</td>\n",
       "      <td>...</td>\n",
       "      <td>...</td>\n",
       "      <td>...</td>\n",
       "    </tr>\n",
       "    <tr>\n",
       "      <td>2712</td>\n",
       "      <td>1498</td>\n",
       "      <td>Sep</td>\n",
       "      <td>44</td>\n",
       "    </tr>\n",
       "    <tr>\n",
       "      <td>2713</td>\n",
       "      <td>1499</td>\n",
       "      <td>Dec</td>\n",
       "      <td>66</td>\n",
       "    </tr>\n",
       "    <tr>\n",
       "      <td>2714</td>\n",
       "      <td>1499</td>\n",
       "      <td>Nov</td>\n",
       "      <td>59</td>\n",
       "    </tr>\n",
       "    <tr>\n",
       "      <td>2715</td>\n",
       "      <td>1499</td>\n",
       "      <td>Oct</td>\n",
       "      <td>48</td>\n",
       "    </tr>\n",
       "    <tr>\n",
       "      <td>2716</td>\n",
       "      <td>1499</td>\n",
       "      <td>Sep</td>\n",
       "      <td>11</td>\n",
       "    </tr>\n",
       "  </tbody>\n",
       "</table>\n",
       "<p>2717 rows × 3 columns</p>\n",
       "</div>"
      ],
      "text/plain": [
       "      user_id month  number_sms_spent_per_month\n",
       "0        1000   Aug                          81\n",
       "1        1000   Dec                          70\n",
       "2        1000   Jul                          75\n",
       "3        1000   Jun                          60\n",
       "4        1000   May                          22\n",
       "...       ...   ...                         ...\n",
       "2712     1498   Sep                          44\n",
       "2713     1499   Dec                          66\n",
       "2714     1499   Nov                          59\n",
       "2715     1499   Oct                          48\n",
       "2716     1499   Sep                          11\n",
       "\n",
       "[2717 rows x 3 columns]"
      ]
     },
     "execution_count": 22,
     "metadata": {},
     "output_type": "execute_result"
    }
   ],
   "source": [
    "agg_messages = df_messages.groupby(['user_id', 'month']) \\\n",
    "                        .agg({'id_messages':'count'}) \\\n",
    "                        .astype('Int64') \\\n",
    "                        .rename(columns = {'id_messages': 'number_sms_spent_per_month'}) \\\n",
    "                        .reset_index()\n",
    "agg_messages"
   ]
  },
  {
   "cell_type": "markdown",
   "metadata": {},
   "source": [
    "Определим объем израсходованного интернет-трафика по месяцам для каждого пользователя:"
   ]
  },
  {
   "cell_type": "code",
   "execution_count": 23,
   "metadata": {},
   "outputs": [
    {
     "data": {
      "text/html": [
       "<div>\n",
       "<style scoped>\n",
       "    .dataframe tbody tr th:only-of-type {\n",
       "        vertical-align: middle;\n",
       "    }\n",
       "\n",
       "    .dataframe tbody tr th {\n",
       "        vertical-align: top;\n",
       "    }\n",
       "\n",
       "    .dataframe thead th {\n",
       "        text-align: right;\n",
       "    }\n",
       "</style>\n",
       "<table border=\"1\" class=\"dataframe\">\n",
       "  <thead>\n",
       "    <tr style=\"text-align: right;\">\n",
       "      <th></th>\n",
       "      <th>user_id</th>\n",
       "      <th>month</th>\n",
       "      <th>total_mb_spent_per_month</th>\n",
       "    </tr>\n",
       "  </thead>\n",
       "  <tbody>\n",
       "    <tr>\n",
       "      <td>0</td>\n",
       "      <td>1000</td>\n",
       "      <td>Aug</td>\n",
       "      <td>14070</td>\n",
       "    </tr>\n",
       "    <tr>\n",
       "      <td>1</td>\n",
       "      <td>1000</td>\n",
       "      <td>Dec</td>\n",
       "      <td>9827</td>\n",
       "    </tr>\n",
       "    <tr>\n",
       "      <td>2</td>\n",
       "      <td>1000</td>\n",
       "      <td>Jul</td>\n",
       "      <td>14016</td>\n",
       "    </tr>\n",
       "    <tr>\n",
       "      <td>3</td>\n",
       "      <td>1000</td>\n",
       "      <td>Jun</td>\n",
       "      <td>23257</td>\n",
       "    </tr>\n",
       "    <tr>\n",
       "      <td>4</td>\n",
       "      <td>1000</td>\n",
       "      <td>May</td>\n",
       "      <td>2256</td>\n",
       "    </tr>\n",
       "    <tr>\n",
       "      <td>...</td>\n",
       "      <td>...</td>\n",
       "      <td>...</td>\n",
       "      <td>...</td>\n",
       "    </tr>\n",
       "    <tr>\n",
       "      <td>3198</td>\n",
       "      <td>1498</td>\n",
       "      <td>Sep</td>\n",
       "      <td>22166</td>\n",
       "    </tr>\n",
       "    <tr>\n",
       "      <td>3199</td>\n",
       "      <td>1499</td>\n",
       "      <td>Dec</td>\n",
       "      <td>13077</td>\n",
       "    </tr>\n",
       "    <tr>\n",
       "      <td>3200</td>\n",
       "      <td>1499</td>\n",
       "      <td>Nov</td>\n",
       "      <td>17984</td>\n",
       "    </tr>\n",
       "    <tr>\n",
       "      <td>3201</td>\n",
       "      <td>1499</td>\n",
       "      <td>Oct</td>\n",
       "      <td>17809</td>\n",
       "    </tr>\n",
       "    <tr>\n",
       "      <td>3202</td>\n",
       "      <td>1499</td>\n",
       "      <td>Sep</td>\n",
       "      <td>1848</td>\n",
       "    </tr>\n",
       "  </tbody>\n",
       "</table>\n",
       "<p>3203 rows × 3 columns</p>\n",
       "</div>"
      ],
      "text/plain": [
       "      user_id month  total_mb_spent_per_month\n",
       "0        1000   Aug                     14070\n",
       "1        1000   Dec                      9827\n",
       "2        1000   Jul                     14016\n",
       "3        1000   Jun                     23257\n",
       "4        1000   May                      2256\n",
       "...       ...   ...                       ...\n",
       "3198     1498   Sep                     22166\n",
       "3199     1499   Dec                     13077\n",
       "3200     1499   Nov                     17984\n",
       "3201     1499   Oct                     17809\n",
       "3202     1499   Sep                      1848\n",
       "\n",
       "[3203 rows x 3 columns]"
      ]
     },
     "execution_count": 23,
     "metadata": {},
     "output_type": "execute_result"
    }
   ],
   "source": [
    "agg_web = df_internet.groupby(['user_id', 'month']) \\\n",
    "                        .agg({'mb_used':'sum'}) \\\n",
    "                        .astype('Int64') \\\n",
    "                        .rename(columns = {'mb_used': 'total_mb_spent_per_month'}) \\\n",
    "                        .reset_index()\n",
    "agg_web"
   ]
  },
  {
   "cell_type": "markdown",
   "metadata": {},
   "source": [
    "Объединим сводные данные с информацией о звонках, сообщениях и интернет-трафике и добавим к ним датафреймы с информацией о пользователях и тарифах:"
   ]
  },
  {
   "cell_type": "code",
   "execution_count": 24,
   "metadata": {},
   "outputs": [
    {
     "data": {
      "text/html": [
       "<div>\n",
       "<style scoped>\n",
       "    .dataframe tbody tr th:only-of-type {\n",
       "        vertical-align: middle;\n",
       "    }\n",
       "\n",
       "    .dataframe tbody tr th {\n",
       "        vertical-align: top;\n",
       "    }\n",
       "\n",
       "    .dataframe thead th {\n",
       "        text-align: right;\n",
       "    }\n",
       "</style>\n",
       "<table border=\"1\" class=\"dataframe\">\n",
       "  <thead>\n",
       "    <tr style=\"text-align: right;\">\n",
       "      <th></th>\n",
       "      <th>user_id</th>\n",
       "      <th>age</th>\n",
       "      <th>churn_date</th>\n",
       "      <th>city</th>\n",
       "      <th>first_name</th>\n",
       "      <th>last_name</th>\n",
       "      <th>reg_date</th>\n",
       "      <th>tariff</th>\n",
       "      <th>month</th>\n",
       "      <th>total_mb_spent_per_month</th>\n",
       "      <th>number_calls_per_month</th>\n",
       "      <th>total_minutes_spent_per_month</th>\n",
       "      <th>number_sms_spent_per_month</th>\n",
       "      <th>messages_included</th>\n",
       "      <th>mb_per_month_included</th>\n",
       "      <th>minutes_included</th>\n",
       "      <th>rub_monthly_fee</th>\n",
       "      <th>rub_per_gb</th>\n",
       "      <th>rub_per_message</th>\n",
       "      <th>rub_per_minute</th>\n",
       "    </tr>\n",
       "  </thead>\n",
       "  <tbody>\n",
       "    <tr>\n",
       "      <td>0</td>\n",
       "      <td>1000</td>\n",
       "      <td>52</td>\n",
       "      <td>NaT</td>\n",
       "      <td>Краснодар</td>\n",
       "      <td>Рафаил</td>\n",
       "      <td>Верещагин</td>\n",
       "      <td>2018-05-25</td>\n",
       "      <td>ultra</td>\n",
       "      <td>Aug</td>\n",
       "      <td>14070</td>\n",
       "      <td>52</td>\n",
       "      <td>408</td>\n",
       "      <td>81</td>\n",
       "      <td>1000</td>\n",
       "      <td>30720</td>\n",
       "      <td>3000</td>\n",
       "      <td>1950</td>\n",
       "      <td>150</td>\n",
       "      <td>1</td>\n",
       "      <td>1</td>\n",
       "    </tr>\n",
       "    <tr>\n",
       "      <td>1</td>\n",
       "      <td>1000</td>\n",
       "      <td>52</td>\n",
       "      <td>NaT</td>\n",
       "      <td>Краснодар</td>\n",
       "      <td>Рафаил</td>\n",
       "      <td>Верещагин</td>\n",
       "      <td>2018-05-25</td>\n",
       "      <td>ultra</td>\n",
       "      <td>Dec</td>\n",
       "      <td>9827</td>\n",
       "      <td>46</td>\n",
       "      <td>333</td>\n",
       "      <td>70</td>\n",
       "      <td>1000</td>\n",
       "      <td>30720</td>\n",
       "      <td>3000</td>\n",
       "      <td>1950</td>\n",
       "      <td>150</td>\n",
       "      <td>1</td>\n",
       "      <td>1</td>\n",
       "    </tr>\n",
       "    <tr>\n",
       "      <td>2</td>\n",
       "      <td>1000</td>\n",
       "      <td>52</td>\n",
       "      <td>NaT</td>\n",
       "      <td>Краснодар</td>\n",
       "      <td>Рафаил</td>\n",
       "      <td>Верещагин</td>\n",
       "      <td>2018-05-25</td>\n",
       "      <td>ultra</td>\n",
       "      <td>Jul</td>\n",
       "      <td>14016</td>\n",
       "      <td>47</td>\n",
       "      <td>340</td>\n",
       "      <td>75</td>\n",
       "      <td>1000</td>\n",
       "      <td>30720</td>\n",
       "      <td>3000</td>\n",
       "      <td>1950</td>\n",
       "      <td>150</td>\n",
       "      <td>1</td>\n",
       "      <td>1</td>\n",
       "    </tr>\n",
       "    <tr>\n",
       "      <td>3</td>\n",
       "      <td>1000</td>\n",
       "      <td>52</td>\n",
       "      <td>NaT</td>\n",
       "      <td>Краснодар</td>\n",
       "      <td>Рафаил</td>\n",
       "      <td>Верещагин</td>\n",
       "      <td>2018-05-25</td>\n",
       "      <td>ultra</td>\n",
       "      <td>Jun</td>\n",
       "      <td>23257</td>\n",
       "      <td>43</td>\n",
       "      <td>172</td>\n",
       "      <td>60</td>\n",
       "      <td>1000</td>\n",
       "      <td>30720</td>\n",
       "      <td>3000</td>\n",
       "      <td>1950</td>\n",
       "      <td>150</td>\n",
       "      <td>1</td>\n",
       "      <td>1</td>\n",
       "    </tr>\n",
       "    <tr>\n",
       "      <td>4</td>\n",
       "      <td>1000</td>\n",
       "      <td>52</td>\n",
       "      <td>NaT</td>\n",
       "      <td>Краснодар</td>\n",
       "      <td>Рафаил</td>\n",
       "      <td>Верещагин</td>\n",
       "      <td>2018-05-25</td>\n",
       "      <td>ultra</td>\n",
       "      <td>May</td>\n",
       "      <td>2256</td>\n",
       "      <td>22</td>\n",
       "      <td>159</td>\n",
       "      <td>22</td>\n",
       "      <td>1000</td>\n",
       "      <td>30720</td>\n",
       "      <td>3000</td>\n",
       "      <td>1950</td>\n",
       "      <td>150</td>\n",
       "      <td>1</td>\n",
       "      <td>1</td>\n",
       "    </tr>\n",
       "    <tr>\n",
       "      <td>...</td>\n",
       "      <td>...</td>\n",
       "      <td>...</td>\n",
       "      <td>...</td>\n",
       "      <td>...</td>\n",
       "      <td>...</td>\n",
       "      <td>...</td>\n",
       "      <td>...</td>\n",
       "      <td>...</td>\n",
       "      <td>...</td>\n",
       "      <td>...</td>\n",
       "      <td>...</td>\n",
       "      <td>...</td>\n",
       "      <td>...</td>\n",
       "      <td>...</td>\n",
       "      <td>...</td>\n",
       "      <td>...</td>\n",
       "      <td>...</td>\n",
       "      <td>...</td>\n",
       "      <td>...</td>\n",
       "      <td>...</td>\n",
       "    </tr>\n",
       "    <tr>\n",
       "      <td>3211</td>\n",
       "      <td>1498</td>\n",
       "      <td>68</td>\n",
       "      <td>2018-10-25</td>\n",
       "      <td>Владикавказ</td>\n",
       "      <td>Всеволод</td>\n",
       "      <td>Акимчин</td>\n",
       "      <td>2018-07-19</td>\n",
       "      <td>smart</td>\n",
       "      <td>Sep</td>\n",
       "      <td>22166</td>\n",
       "      <td>59</td>\n",
       "      <td>471</td>\n",
       "      <td>44</td>\n",
       "      <td>50</td>\n",
       "      <td>15360</td>\n",
       "      <td>500</td>\n",
       "      <td>550</td>\n",
       "      <td>200</td>\n",
       "      <td>3</td>\n",
       "      <td>3</td>\n",
       "    </tr>\n",
       "    <tr>\n",
       "      <td>3212</td>\n",
       "      <td>1499</td>\n",
       "      <td>35</td>\n",
       "      <td>NaT</td>\n",
       "      <td>Пермь</td>\n",
       "      <td>Гектор</td>\n",
       "      <td>Корнилов</td>\n",
       "      <td>2018-09-27</td>\n",
       "      <td>smart</td>\n",
       "      <td>Dec</td>\n",
       "      <td>13077</td>\n",
       "      <td>69</td>\n",
       "      <td>492</td>\n",
       "      <td>66</td>\n",
       "      <td>50</td>\n",
       "      <td>15360</td>\n",
       "      <td>500</td>\n",
       "      <td>550</td>\n",
       "      <td>200</td>\n",
       "      <td>3</td>\n",
       "      <td>3</td>\n",
       "    </tr>\n",
       "    <tr>\n",
       "      <td>3213</td>\n",
       "      <td>1499</td>\n",
       "      <td>35</td>\n",
       "      <td>NaT</td>\n",
       "      <td>Пермь</td>\n",
       "      <td>Гектор</td>\n",
       "      <td>Корнилов</td>\n",
       "      <td>2018-09-27</td>\n",
       "      <td>smart</td>\n",
       "      <td>Nov</td>\n",
       "      <td>17984</td>\n",
       "      <td>74</td>\n",
       "      <td>612</td>\n",
       "      <td>59</td>\n",
       "      <td>50</td>\n",
       "      <td>15360</td>\n",
       "      <td>500</td>\n",
       "      <td>550</td>\n",
       "      <td>200</td>\n",
       "      <td>3</td>\n",
       "      <td>3</td>\n",
       "    </tr>\n",
       "    <tr>\n",
       "      <td>3214</td>\n",
       "      <td>1499</td>\n",
       "      <td>35</td>\n",
       "      <td>NaT</td>\n",
       "      <td>Пермь</td>\n",
       "      <td>Гектор</td>\n",
       "      <td>Корнилов</td>\n",
       "      <td>2018-09-27</td>\n",
       "      <td>smart</td>\n",
       "      <td>Oct</td>\n",
       "      <td>17809</td>\n",
       "      <td>68</td>\n",
       "      <td>449</td>\n",
       "      <td>48</td>\n",
       "      <td>50</td>\n",
       "      <td>15360</td>\n",
       "      <td>500</td>\n",
       "      <td>550</td>\n",
       "      <td>200</td>\n",
       "      <td>3</td>\n",
       "      <td>3</td>\n",
       "    </tr>\n",
       "    <tr>\n",
       "      <td>3215</td>\n",
       "      <td>1499</td>\n",
       "      <td>35</td>\n",
       "      <td>NaT</td>\n",
       "      <td>Пермь</td>\n",
       "      <td>Гектор</td>\n",
       "      <td>Корнилов</td>\n",
       "      <td>2018-09-27</td>\n",
       "      <td>smart</td>\n",
       "      <td>Sep</td>\n",
       "      <td>1848</td>\n",
       "      <td>9</td>\n",
       "      <td>70</td>\n",
       "      <td>11</td>\n",
       "      <td>50</td>\n",
       "      <td>15360</td>\n",
       "      <td>500</td>\n",
       "      <td>550</td>\n",
       "      <td>200</td>\n",
       "      <td>3</td>\n",
       "      <td>3</td>\n",
       "    </tr>\n",
       "  </tbody>\n",
       "</table>\n",
       "<p>3216 rows × 20 columns</p>\n",
       "</div>"
      ],
      "text/plain": [
       "      user_id  age churn_date         city first_name  last_name   reg_date  \\\n",
       "0        1000   52        NaT    Краснодар     Рафаил  Верещагин 2018-05-25   \n",
       "1        1000   52        NaT    Краснодар     Рафаил  Верещагин 2018-05-25   \n",
       "2        1000   52        NaT    Краснодар     Рафаил  Верещагин 2018-05-25   \n",
       "3        1000   52        NaT    Краснодар     Рафаил  Верещагин 2018-05-25   \n",
       "4        1000   52        NaT    Краснодар     Рафаил  Верещагин 2018-05-25   \n",
       "...       ...  ...        ...          ...        ...        ...        ...   \n",
       "3211     1498   68 2018-10-25  Владикавказ   Всеволод    Акимчин 2018-07-19   \n",
       "3212     1499   35        NaT        Пермь     Гектор   Корнилов 2018-09-27   \n",
       "3213     1499   35        NaT        Пермь     Гектор   Корнилов 2018-09-27   \n",
       "3214     1499   35        NaT        Пермь     Гектор   Корнилов 2018-09-27   \n",
       "3215     1499   35        NaT        Пермь     Гектор   Корнилов 2018-09-27   \n",
       "\n",
       "     tariff month  total_mb_spent_per_month  number_calls_per_month  \\\n",
       "0     ultra   Aug                     14070                      52   \n",
       "1     ultra   Dec                      9827                      46   \n",
       "2     ultra   Jul                     14016                      47   \n",
       "3     ultra   Jun                     23257                      43   \n",
       "4     ultra   May                      2256                      22   \n",
       "...     ...   ...                       ...                     ...   \n",
       "3211  smart   Sep                     22166                      59   \n",
       "3212  smart   Dec                     13077                      69   \n",
       "3213  smart   Nov                     17984                      74   \n",
       "3214  smart   Oct                     17809                      68   \n",
       "3215  smart   Sep                      1848                       9   \n",
       "\n",
       "      total_minutes_spent_per_month  number_sms_spent_per_month  \\\n",
       "0                               408                          81   \n",
       "1                               333                          70   \n",
       "2                               340                          75   \n",
       "3                               172                          60   \n",
       "4                               159                          22   \n",
       "...                             ...                         ...   \n",
       "3211                            471                          44   \n",
       "3212                            492                          66   \n",
       "3213                            612                          59   \n",
       "3214                            449                          48   \n",
       "3215                             70                          11   \n",
       "\n",
       "      messages_included  mb_per_month_included  minutes_included  \\\n",
       "0                  1000                  30720              3000   \n",
       "1                  1000                  30720              3000   \n",
       "2                  1000                  30720              3000   \n",
       "3                  1000                  30720              3000   \n",
       "4                  1000                  30720              3000   \n",
       "...                 ...                    ...               ...   \n",
       "3211                 50                  15360               500   \n",
       "3212                 50                  15360               500   \n",
       "3213                 50                  15360               500   \n",
       "3214                 50                  15360               500   \n",
       "3215                 50                  15360               500   \n",
       "\n",
       "      rub_monthly_fee  rub_per_gb  rub_per_message  rub_per_minute  \n",
       "0                1950         150                1               1  \n",
       "1                1950         150                1               1  \n",
       "2                1950         150                1               1  \n",
       "3                1950         150                1               1  \n",
       "4                1950         150                1               1  \n",
       "...               ...         ...              ...             ...  \n",
       "3211              550         200                3               3  \n",
       "3212              550         200                3               3  \n",
       "3213              550         200                3               3  \n",
       "3214              550         200                3               3  \n",
       "3215              550         200                3               3  \n",
       "\n",
       "[3216 rows x 20 columns]"
      ]
     },
     "execution_count": 24,
     "metadata": {},
     "output_type": "execute_result"
    }
   ],
   "source": [
    "dfs_list = [agg_web, agg_calls, agg_messages]\n",
    "dfs_merged = reduce(lambda  left,right: pd.merge(left,right,on=['user_id', 'month'],\n",
    "                                            how='outer'), dfs_list).fillna(0)\n",
    "users_dfs_merged = pd.merge(df_users, dfs_merged, how='outer', on='user_id')\n",
    "df = pd.merge(users_dfs_merged, df_tariffs, how='outer', on='tariff')\n",
    "df"
   ]
  },
  {
   "cell_type": "markdown",
   "metadata": {},
   "source": [
    "**Промежуточные выводы:**\n",
    "* Подготовлен объединенный датафрейм с информацией о совершенных звонках, отправленных смс и проведенных интернет-сессиях.\n",
    "* Данный сгруппированы на основе ежемесячной активности каждого пользователя с учетом выбранного тарифа и условий округления."
   ]
  },
  {
   "cell_type": "markdown",
   "metadata": {},
   "source": [
    "## Анализ данных"
   ]
  },
  {
   "cell_type": "markdown",
   "metadata": {},
   "source": [
    "### Ежемесячная выручка"
   ]
  },
  {
   "cell_type": "markdown",
   "metadata": {},
   "source": [
    "Оценим долю пользователей, пользующихся тарифами \"Смарт\" и \"Ультра\":"
   ]
  },
  {
   "cell_type": "code",
   "execution_count": 25,
   "metadata": {},
   "outputs": [
    {
     "name": "stdout",
     "output_type": "stream",
     "text": [
      "Доля пользователей в разрезе тарифов:\n"
     ]
    },
    {
     "data": {
      "text/plain": [
       "smart    0.69\n",
       "ultra    0.31\n",
       "Name: tariff, dtype: float64"
      ]
     },
     "execution_count": 25,
     "metadata": {},
     "output_type": "execute_result"
    }
   ],
   "source": [
    "print('Доля пользователей в разрезе тарифов:')\n",
    "df['tariff'].value_counts(normalize = True).round(2)"
   ]
  },
  {
   "cell_type": "markdown",
   "metadata": {},
   "source": [
    "Оценим минимальные и максимальные значения параметров-характеристик, с целью проверки их на логическое соответствие:"
   ]
  },
  {
   "cell_type": "code",
   "execution_count": 26,
   "metadata": {},
   "outputs": [
    {
     "data": {
      "text/html": [
       "<div>\n",
       "<style scoped>\n",
       "    .dataframe tbody tr th:only-of-type {\n",
       "        vertical-align: middle;\n",
       "    }\n",
       "\n",
       "    .dataframe tbody tr th {\n",
       "        vertical-align: top;\n",
       "    }\n",
       "\n",
       "    .dataframe thead th {\n",
       "        text-align: right;\n",
       "    }\n",
       "</style>\n",
       "<table border=\"1\" class=\"dataframe\">\n",
       "  <thead>\n",
       "    <tr style=\"text-align: right;\">\n",
       "      <th></th>\n",
       "      <th>user_id</th>\n",
       "      <th>age</th>\n",
       "      <th>total_mb_spent_per_month</th>\n",
       "      <th>number_calls_per_month</th>\n",
       "      <th>total_minutes_spent_per_month</th>\n",
       "      <th>number_sms_spent_per_month</th>\n",
       "      <th>messages_included</th>\n",
       "      <th>mb_per_month_included</th>\n",
       "      <th>minutes_included</th>\n",
       "      <th>rub_monthly_fee</th>\n",
       "      <th>rub_per_gb</th>\n",
       "      <th>rub_per_message</th>\n",
       "      <th>rub_per_minute</th>\n",
       "    </tr>\n",
       "  </thead>\n",
       "  <tbody>\n",
       "    <tr>\n",
       "      <td>min</td>\n",
       "      <td>1000.0</td>\n",
       "      <td>18.0</td>\n",
       "      <td>0.0</td>\n",
       "      <td>0.0</td>\n",
       "      <td>0.0</td>\n",
       "      <td>0.0</td>\n",
       "      <td>50.0</td>\n",
       "      <td>15360.0</td>\n",
       "      <td>500.0</td>\n",
       "      <td>550.0</td>\n",
       "      <td>150.0</td>\n",
       "      <td>1.0</td>\n",
       "      <td>1.0</td>\n",
       "    </tr>\n",
       "    <tr>\n",
       "      <td>max</td>\n",
       "      <td>1499.0</td>\n",
       "      <td>75.0</td>\n",
       "      <td>49789.0</td>\n",
       "      <td>244.0</td>\n",
       "      <td>1673.0</td>\n",
       "      <td>224.0</td>\n",
       "      <td>1000.0</td>\n",
       "      <td>30720.0</td>\n",
       "      <td>3000.0</td>\n",
       "      <td>1950.0</td>\n",
       "      <td>200.0</td>\n",
       "      <td>3.0</td>\n",
       "      <td>3.0</td>\n",
       "    </tr>\n",
       "  </tbody>\n",
       "</table>\n",
       "</div>"
      ],
      "text/plain": [
       "     user_id   age  total_mb_spent_per_month  number_calls_per_month  \\\n",
       "min   1000.0  18.0                       0.0                     0.0   \n",
       "max   1499.0  75.0                   49789.0                   244.0   \n",
       "\n",
       "     total_minutes_spent_per_month  number_sms_spent_per_month  \\\n",
       "min                            0.0                         0.0   \n",
       "max                         1673.0                       224.0   \n",
       "\n",
       "     messages_included  mb_per_month_included  minutes_included  \\\n",
       "min               50.0                15360.0             500.0   \n",
       "max             1000.0                30720.0            3000.0   \n",
       "\n",
       "     rub_monthly_fee  rub_per_gb  rub_per_message  rub_per_minute  \n",
       "min            550.0       150.0              1.0             1.0  \n",
       "max           1950.0       200.0              3.0             3.0  "
      ]
     },
     "execution_count": 26,
     "metadata": {},
     "output_type": "execute_result"
    }
   ],
   "source": [
    "df.describe().loc[['min','max']]"
   ]
  },
  {
   "cell_type": "markdown",
   "metadata": {},
   "source": [
    "Вычислим для каждого пользователя объем услуг оказываемых им сверх указанных в тарифах:"
   ]
  },
  {
   "cell_type": "code",
   "execution_count": 27,
   "metadata": {},
   "outputs": [],
   "source": [
    "df['extra_minutes'] = (df['total_minutes_spent_per_month'] - df['minutes_included']).apply(lambda x: x if x>0 else 0)\n",
    "df['extra_sms'] = (df['number_sms_spent_per_month'] - df['messages_included']).apply(lambda x: x if x>0 else 0)\n",
    "df['extra_gb'] = (df['total_mb_spent_per_month'] - df['mb_per_month_included']).apply(lambda x: math.ceil(x/1024) if x>0 else 0)"
   ]
  },
  {
   "cell_type": "markdown",
   "metadata": {},
   "source": [
    "Посчитаем общую ежемесячную выручку компании с каждого пользователя, складывающуюся из абонентской платы для соответствующего тарифа и переплат за счет оказания услуг сверх тарифного плана:"
   ]
  },
  {
   "cell_type": "code",
   "execution_count": 28,
   "metadata": {},
   "outputs": [],
   "source": [
    "df['monthly_revenue'] = (df['extra_minutes']*df['rub_per_minute']) + (df['extra_sms']*df['rub_per_message']) + \\\n",
    "            (df['extra_gb']*df['rub_per_gb']) + df['rub_monthly_fee']"
   ]
  },
  {
   "cell_type": "code",
   "execution_count": 29,
   "metadata": {},
   "outputs": [
    {
     "data": {
      "text/html": [
       "<div>\n",
       "<style scoped>\n",
       "    .dataframe tbody tr th:only-of-type {\n",
       "        vertical-align: middle;\n",
       "    }\n",
       "\n",
       "    .dataframe tbody tr th {\n",
       "        vertical-align: top;\n",
       "    }\n",
       "\n",
       "    .dataframe thead th {\n",
       "        text-align: right;\n",
       "    }\n",
       "</style>\n",
       "<table border=\"1\" class=\"dataframe\">\n",
       "  <thead>\n",
       "    <tr style=\"text-align: right;\">\n",
       "      <th></th>\n",
       "      <th>user_id</th>\n",
       "      <th>age</th>\n",
       "      <th>churn_date</th>\n",
       "      <th>city</th>\n",
       "      <th>first_name</th>\n",
       "      <th>last_name</th>\n",
       "      <th>reg_date</th>\n",
       "      <th>tariff</th>\n",
       "      <th>month</th>\n",
       "      <th>total_mb_spent_per_month</th>\n",
       "      <th>number_calls_per_month</th>\n",
       "      <th>total_minutes_spent_per_month</th>\n",
       "      <th>number_sms_spent_per_month</th>\n",
       "      <th>messages_included</th>\n",
       "      <th>mb_per_month_included</th>\n",
       "      <th>minutes_included</th>\n",
       "      <th>rub_monthly_fee</th>\n",
       "      <th>rub_per_gb</th>\n",
       "      <th>rub_per_message</th>\n",
       "      <th>rub_per_minute</th>\n",
       "      <th>extra_minutes</th>\n",
       "      <th>extra_sms</th>\n",
       "      <th>extra_gb</th>\n",
       "      <th>monthly_revenue</th>\n",
       "    </tr>\n",
       "  </thead>\n",
       "  <tbody>\n",
       "    <tr>\n",
       "      <td>0</td>\n",
       "      <td>1000</td>\n",
       "      <td>52</td>\n",
       "      <td>NaT</td>\n",
       "      <td>Краснодар</td>\n",
       "      <td>Рафаил</td>\n",
       "      <td>Верещагин</td>\n",
       "      <td>2018-05-25</td>\n",
       "      <td>ultra</td>\n",
       "      <td>Aug</td>\n",
       "      <td>14070</td>\n",
       "      <td>52</td>\n",
       "      <td>408</td>\n",
       "      <td>81</td>\n",
       "      <td>1000</td>\n",
       "      <td>30720</td>\n",
       "      <td>3000</td>\n",
       "      <td>1950</td>\n",
       "      <td>150</td>\n",
       "      <td>1</td>\n",
       "      <td>1</td>\n",
       "      <td>0</td>\n",
       "      <td>0</td>\n",
       "      <td>0</td>\n",
       "      <td>1950</td>\n",
       "    </tr>\n",
       "    <tr>\n",
       "      <td>1</td>\n",
       "      <td>1000</td>\n",
       "      <td>52</td>\n",
       "      <td>NaT</td>\n",
       "      <td>Краснодар</td>\n",
       "      <td>Рафаил</td>\n",
       "      <td>Верещагин</td>\n",
       "      <td>2018-05-25</td>\n",
       "      <td>ultra</td>\n",
       "      <td>Dec</td>\n",
       "      <td>9827</td>\n",
       "      <td>46</td>\n",
       "      <td>333</td>\n",
       "      <td>70</td>\n",
       "      <td>1000</td>\n",
       "      <td>30720</td>\n",
       "      <td>3000</td>\n",
       "      <td>1950</td>\n",
       "      <td>150</td>\n",
       "      <td>1</td>\n",
       "      <td>1</td>\n",
       "      <td>0</td>\n",
       "      <td>0</td>\n",
       "      <td>0</td>\n",
       "      <td>1950</td>\n",
       "    </tr>\n",
       "    <tr>\n",
       "      <td>2</td>\n",
       "      <td>1000</td>\n",
       "      <td>52</td>\n",
       "      <td>NaT</td>\n",
       "      <td>Краснодар</td>\n",
       "      <td>Рафаил</td>\n",
       "      <td>Верещагин</td>\n",
       "      <td>2018-05-25</td>\n",
       "      <td>ultra</td>\n",
       "      <td>Jul</td>\n",
       "      <td>14016</td>\n",
       "      <td>47</td>\n",
       "      <td>340</td>\n",
       "      <td>75</td>\n",
       "      <td>1000</td>\n",
       "      <td>30720</td>\n",
       "      <td>3000</td>\n",
       "      <td>1950</td>\n",
       "      <td>150</td>\n",
       "      <td>1</td>\n",
       "      <td>1</td>\n",
       "      <td>0</td>\n",
       "      <td>0</td>\n",
       "      <td>0</td>\n",
       "      <td>1950</td>\n",
       "    </tr>\n",
       "    <tr>\n",
       "      <td>3</td>\n",
       "      <td>1000</td>\n",
       "      <td>52</td>\n",
       "      <td>NaT</td>\n",
       "      <td>Краснодар</td>\n",
       "      <td>Рафаил</td>\n",
       "      <td>Верещагин</td>\n",
       "      <td>2018-05-25</td>\n",
       "      <td>ultra</td>\n",
       "      <td>Jun</td>\n",
       "      <td>23257</td>\n",
       "      <td>43</td>\n",
       "      <td>172</td>\n",
       "      <td>60</td>\n",
       "      <td>1000</td>\n",
       "      <td>30720</td>\n",
       "      <td>3000</td>\n",
       "      <td>1950</td>\n",
       "      <td>150</td>\n",
       "      <td>1</td>\n",
       "      <td>1</td>\n",
       "      <td>0</td>\n",
       "      <td>0</td>\n",
       "      <td>0</td>\n",
       "      <td>1950</td>\n",
       "    </tr>\n",
       "    <tr>\n",
       "      <td>4</td>\n",
       "      <td>1000</td>\n",
       "      <td>52</td>\n",
       "      <td>NaT</td>\n",
       "      <td>Краснодар</td>\n",
       "      <td>Рафаил</td>\n",
       "      <td>Верещагин</td>\n",
       "      <td>2018-05-25</td>\n",
       "      <td>ultra</td>\n",
       "      <td>May</td>\n",
       "      <td>2256</td>\n",
       "      <td>22</td>\n",
       "      <td>159</td>\n",
       "      <td>22</td>\n",
       "      <td>1000</td>\n",
       "      <td>30720</td>\n",
       "      <td>3000</td>\n",
       "      <td>1950</td>\n",
       "      <td>150</td>\n",
       "      <td>1</td>\n",
       "      <td>1</td>\n",
       "      <td>0</td>\n",
       "      <td>0</td>\n",
       "      <td>0</td>\n",
       "      <td>1950</td>\n",
       "    </tr>\n",
       "  </tbody>\n",
       "</table>\n",
       "</div>"
      ],
      "text/plain": [
       "   user_id  age churn_date       city first_name  last_name   reg_date tariff  \\\n",
       "0     1000   52        NaT  Краснодар     Рафаил  Верещагин 2018-05-25  ultra   \n",
       "1     1000   52        NaT  Краснодар     Рафаил  Верещагин 2018-05-25  ultra   \n",
       "2     1000   52        NaT  Краснодар     Рафаил  Верещагин 2018-05-25  ultra   \n",
       "3     1000   52        NaT  Краснодар     Рафаил  Верещагин 2018-05-25  ultra   \n",
       "4     1000   52        NaT  Краснодар     Рафаил  Верещагин 2018-05-25  ultra   \n",
       "\n",
       "  month  total_mb_spent_per_month  number_calls_per_month  \\\n",
       "0   Aug                     14070                      52   \n",
       "1   Dec                      9827                      46   \n",
       "2   Jul                     14016                      47   \n",
       "3   Jun                     23257                      43   \n",
       "4   May                      2256                      22   \n",
       "\n",
       "   total_minutes_spent_per_month  number_sms_spent_per_month  \\\n",
       "0                            408                          81   \n",
       "1                            333                          70   \n",
       "2                            340                          75   \n",
       "3                            172                          60   \n",
       "4                            159                          22   \n",
       "\n",
       "   messages_included  mb_per_month_included  minutes_included  \\\n",
       "0               1000                  30720              3000   \n",
       "1               1000                  30720              3000   \n",
       "2               1000                  30720              3000   \n",
       "3               1000                  30720              3000   \n",
       "4               1000                  30720              3000   \n",
       "\n",
       "   rub_monthly_fee  rub_per_gb  rub_per_message  rub_per_minute  \\\n",
       "0             1950         150                1               1   \n",
       "1             1950         150                1               1   \n",
       "2             1950         150                1               1   \n",
       "3             1950         150                1               1   \n",
       "4             1950         150                1               1   \n",
       "\n",
       "   extra_minutes  extra_sms  extra_gb  monthly_revenue  \n",
       "0              0          0         0             1950  \n",
       "1              0          0         0             1950  \n",
       "2              0          0         0             1950  \n",
       "3              0          0         0             1950  \n",
       "4              0          0         0             1950  "
      ]
     },
     "execution_count": 29,
     "metadata": {},
     "output_type": "execute_result"
    }
   ],
   "source": [
    "df.head()"
   ]
  },
  {
   "cell_type": "markdown",
   "metadata": {},
   "source": [
    "Оценим общую выручку компании от пользователей, входящих в выборку, а также доход компании сверх абонентской платы в разрезе тарифных планов:"
   ]
  },
  {
   "cell_type": "code",
   "execution_count": 30,
   "metadata": {},
   "outputs": [
    {
     "name": "stdout",
     "output_type": "stream",
     "text": [
      "Общая ежемесячная выручка для имеющейся выборки составляет: 4928251 руб\n"
     ]
    }
   ],
   "source": [
    "print('Общая ежемесячная выручка для имеющейся выборки составляет:', df['monthly_revenue'].sum(), 'руб')"
   ]
  },
  {
   "cell_type": "code",
   "execution_count": 31,
   "metadata": {},
   "outputs": [
    {
     "name": "stdout",
     "output_type": "stream",
     "text": [
      "Выручка компании от абонентской платы: 3149200 руб.\n",
      "Переплаты пользователей сверх тарифов составляют: 1779051 руб. или 36.1 % от общей выручки\n"
     ]
    }
   ],
   "source": [
    "monthly_revenue_total = df['monthly_revenue'].sum()\n",
    "monthly_fee_total = df['rub_monthly_fee'].sum()\n",
    "ratio_pct = (100 - (monthly_fee_total *100 / monthly_revenue_total)).round(1)\n",
    "extra_revenue = monthly_revenue_total - monthly_fee_total\n",
    "print(f'Выручка компании от абонентской платы: {monthly_fee_total} руб.')\n",
    "print(f'Переплаты пользователей сверх тарифов составляют: {extra_revenue} руб. или {ratio_pct} % от общей выручки')"
   ]
  },
  {
   "cell_type": "code",
   "execution_count": 32,
   "metadata": {},
   "outputs": [
    {
     "name": "stdout",
     "output_type": "stream",
     "text": [
      "Общая выручка компании от тарифа \"Смарт\": 2886301 руб.\n",
      "Общая выручка компании от тарифа \"Ультра\": 2041950 руб.\n",
      "Переплаты пользователей сверх тарифа \"Смарт\" составляют: 1659801 руб. или 93.3 % от всего объема переплат, по тарифу \"Ультра\": 119250 руб. или 6.7 %.\n"
     ]
    }
   ],
   "source": [
    "monthly_revenue_total_smart = df.loc[df['tariff'] == 'smart', 'monthly_revenue'].sum()\n",
    "monthly_revenue_total_ultra = df.loc[df['tariff'] == 'ultra', 'monthly_revenue'].sum()\n",
    "print(f'Общая выручка компании от тарифа \"Смарт\": {monthly_revenue_total_smart} руб.')\n",
    "print(f'Общая выручка компании от тарифа \"Ультра\": {monthly_revenue_total_ultra} руб.')\n",
    "\n",
    "monthly_fee_total_smart = df.loc[df['tariff'] == 'smart', 'rub_monthly_fee'].sum()\n",
    "monthly_fee_total_ultra = df.loc[df['tariff'] == 'ultra', 'rub_monthly_fee'].sum()\n",
    "\n",
    "extra_revenue_smart = monthly_revenue_total_smart - monthly_fee_total_smart\n",
    "extra_revenue_ultra = monthly_revenue_total_ultra - monthly_fee_total_ultra\n",
    "\n",
    "ratio_smart_pct = (extra_revenue_smart *100 / extra_revenue).round(1)\n",
    "ratio_ultra_pct = (extra_revenue_ultra *100 / extra_revenue).round(1)\n",
    "\n",
    "print(f'Переплаты пользователей сверх тарифа \"Смарт\" составляют: {extra_revenue_smart} руб. или {ratio_smart_pct} % \\\n",
    "от всего объема переплат, по тарифу \"Ультра\": {extra_revenue_ultra} руб. или {ratio_ultra_pct} %.')"
   ]
  },
  {
   "cell_type": "markdown",
   "metadata": {},
   "source": [
    "Средняя ежемесячная выручка компании с пользователя для каждого из тарифов составляет:"
   ]
  },
  {
   "cell_type": "code",
   "execution_count": 33,
   "metadata": {},
   "outputs": [
    {
     "name": "stdout",
     "output_type": "stream",
     "text": [
      "Средняя ежемесячная выручка компании с пользователя на тарифе \"Смарт\" составляет (руб.): 1294.0\n"
     ]
    }
   ],
   "source": [
    "revenue_per_client_smart = monthly_revenue_total_smart / df.loc[df['tariff'] == 'smart', 'monthly_revenue'].count()\n",
    "print('Средняя ежемесячная выручка компании с пользователя на тарифе \"Смарт\" составляет (руб.):', \\\n",
    "          revenue_per_client_smart.round(0))"
   ]
  },
  {
   "cell_type": "code",
   "execution_count": 34,
   "metadata": {},
   "outputs": [
    {
     "name": "stdout",
     "output_type": "stream",
     "text": [
      "Средняя ежемесячная выручка компании с пользователя на тарифе \"Ультра\" составляет (руб.): 2071.0\n"
     ]
    }
   ],
   "source": [
    "revenue_per_client_ultra = monthly_revenue_total_ultra / df.loc[df['tariff'] == 'ultra', 'monthly_revenue'].count()\n",
    "print('Средняя ежемесячная выручка компании с пользователя на тарифе \"Ультра\" составляет (руб.):', \\\n",
    "          revenue_per_client_ultra.round(0))"
   ]
  },
  {
   "cell_type": "markdown",
   "metadata": {},
   "source": [
    "Ежемесячная общая выручка в разрезе тарифов \"Ультра\" и \"Смарт\" из имеющейся выборки представлена на графиках:"
   ]
  },
  {
   "cell_type": "code",
   "execution_count": 35,
   "metadata": {},
   "outputs": [
    {
     "data": {
      "image/png": "[encoded data removed]",
      "text/plain": [
       "<Figure size 1080x360 with 2 Axes>"
      ]
     },
     "metadata": {
      "needs_background": "light"
     },
     "output_type": "display_data"
    }
   ],
   "source": [
    "fig, axes = plt.subplots(nrows = 1, ncols = 2, figsize=(15, 5))\n",
    "\n",
    "fig.suptitle('Ежемесячная выручка, руб')\n",
    "g = sns.barplot(ax=axes[0], x='tariff', y='monthly_revenue', data=df, estimator=sum, palette = 'Paired')\n",
    "g.set_xticklabels(g.get_xticklabels())\n",
    "g.set_title('Общая выручка')\n",
    "g.set_ylabel('Общая выручка (руб.)')\n",
    "g.set_xlabel('Тариф')\n",
    "\n",
    "g = sns.barplot(ax=axes[1], x='tariff', y='monthly_revenue', data=df, palette = 'Paired')\n",
    "g.set_xticklabels(g.get_xticklabels())\n",
    "g.set_title('Средняя выручка')\n",
    "g.set_ylabel('Средняя выручка (руб.)')\n",
    "g.set_xlabel('Тариф')\n",
    "\n",
    "plt.show()"
   ]
  },
  {
   "cell_type": "markdown",
   "metadata": {},
   "source": [
    "Из графиков видно, что основная выручка компании связана с поступлением от пользователей, заключивших договор на тариф \"Смарт\", и являющийся более привлекательным для большего числа людей, чем тариф \"Ультра\". Следует однако отметить, что пользователи тарифа \"Смарт\" обеспечивают бо́льшую выручку за счет значительных переплат за услуги сверх тарифного плана \"Смарт\" (93.3 % от всего объема переплат пользователей в выборке).  "
   ]
  },
  {
   "cell_type": "markdown",
   "metadata": {},
   "source": [
    "Рассмотрим также распределение ежемесячной выручки для двух тарифов:"
   ]
  },
  {
   "cell_type": "code",
   "execution_count": 36,
   "metadata": {
    "scrolled": true
   },
   "outputs": [
    {
     "data": {
      "image/png": "[encoded data removed]",
      "text/plain": [
       "<Figure size 432x288 with 1 Axes>"
      ]
     },
     "metadata": {
      "needs_background": "light"
     },
     "output_type": "display_data"
    }
   ],
   "source": [
    "df_monthly_revenue_smart = df.query('tariff == \"smart\"')\n",
    "df_monthly_revenue_ultra = df.query('tariff == \"ultra\"')\n",
    "\n",
    "ax = df_monthly_revenue_smart.plot(\n",
    "    kind='hist',\n",
    "    y='monthly_revenue',\n",
    "    histtype='barstacked',\n",
    "    bins=15,\n",
    "    linewidth=5,\n",
    "    alpha=0.7,\n",
    "    label='Smart'\n",
    ")\n",
    "    \n",
    "df_monthly_revenue_ultra.plot(\n",
    "    kind='hist',\n",
    "    y='monthly_revenue',\n",
    "    histtype='barstacked',\n",
    "    bins=15,\n",
    "    linewidth=5,\n",
    "    alpha=0.7,\n",
    "    label='Ultra',\n",
    "    ax=ax,\n",
    "    grid=True,\n",
    "    legend=True\n",
    ")\n",
    "\n",
    "plt.xlabel('Выручка (руб.)')\n",
    "plt.ylabel('Частота')\n",
    "\n",
    "plt.show()\n",
    "\n",
    "# Альтернативой matplotlib для такой диаграммы может служить метод \n",
    "# с использованием seaborn (модуль histplot не установлен в тренажере):\n",
    "# sns.histplot(x='monthly_revenue', data = df, hue='tariff')"
   ]
  },
  {
   "cell_type": "markdown",
   "metadata": {},
   "source": [
    "График наглядно показывает пики, характеризующие гарантированную ежемесячную выручку компании, близкую к соответствующим размерам абонентской платы для каждого тарифа. На гистограмме также видно ярко выраженное смещение распределение по выручке вправо для тарифа \"Смарт\", связанное с дополнительными расходами пользователей (зачастую значительными) сверх этого тарифного плана. Для тарифного плана \"Ультра\" дополнительные расходы пользователей сверх абонентской платы минимальны."
   ]
  },
  {
   "cell_type": "markdown",
   "metadata": {},
   "source": [
    "### Анализ звонков, сообщений и интернет-трафика"
   ]
  },
  {
   "cell_type": "markdown",
   "metadata": {},
   "source": [
    "Проанализируем статистические показатели по длительности звонков, числу смс, интернет-трафику и ежемесячной выручке и сведем данные в таблицу:"
   ]
  },
  {
   "cell_type": "code",
   "execution_count": 37,
   "metadata": {},
   "outputs": [
    {
     "data": {
      "text/html": [
       "<style  type=\"text/css\" >\n",
       "    #T_ab422926_b197_11eb_9f35_02420a3914f2row0_col0 {\n",
       "            text-align:  right;\n",
       "        }    #T_ab422926_b197_11eb_9f35_02420a3914f2row0_col1 {\n",
       "            text-align:  right;\n",
       "        }    #T_ab422926_b197_11eb_9f35_02420a3914f2row0_col2 {\n",
       "            text-align:  right;\n",
       "        }    #T_ab422926_b197_11eb_9f35_02420a3914f2row0_col3 {\n",
       "            text-align:  right;\n",
       "        }    #T_ab422926_b197_11eb_9f35_02420a3914f2row0_col4 {\n",
       "            text-align:  right;\n",
       "        }    #T_ab422926_b197_11eb_9f35_02420a3914f2row0_col5 {\n",
       "            text-align:  right;\n",
       "        }    #T_ab422926_b197_11eb_9f35_02420a3914f2row0_col6 {\n",
       "            text-align:  right;\n",
       "        }    #T_ab422926_b197_11eb_9f35_02420a3914f2row0_col7 {\n",
       "            text-align:  right;\n",
       "        }    #T_ab422926_b197_11eb_9f35_02420a3914f2row0_col8 {\n",
       "            text-align:  right;\n",
       "        }    #T_ab422926_b197_11eb_9f35_02420a3914f2row0_col9 {\n",
       "            text-align:  right;\n",
       "        }    #T_ab422926_b197_11eb_9f35_02420a3914f2row0_col10 {\n",
       "            text-align:  right;\n",
       "        }    #T_ab422926_b197_11eb_9f35_02420a3914f2row0_col11 {\n",
       "            text-align:  right;\n",
       "        }    #T_ab422926_b197_11eb_9f35_02420a3914f2row0_col12 {\n",
       "            text-align:  right;\n",
       "        }    #T_ab422926_b197_11eb_9f35_02420a3914f2row0_col13 {\n",
       "            text-align:  right;\n",
       "        }    #T_ab422926_b197_11eb_9f35_02420a3914f2row0_col14 {\n",
       "            text-align:  right;\n",
       "        }    #T_ab422926_b197_11eb_9f35_02420a3914f2row0_col15 {\n",
       "            text-align:  right;\n",
       "        }    #T_ab422926_b197_11eb_9f35_02420a3914f2row1_col0 {\n",
       "            text-align:  right;\n",
       "        }    #T_ab422926_b197_11eb_9f35_02420a3914f2row1_col1 {\n",
       "            text-align:  right;\n",
       "        }    #T_ab422926_b197_11eb_9f35_02420a3914f2row1_col2 {\n",
       "            text-align:  right;\n",
       "        }    #T_ab422926_b197_11eb_9f35_02420a3914f2row1_col3 {\n",
       "            text-align:  right;\n",
       "        }    #T_ab422926_b197_11eb_9f35_02420a3914f2row1_col4 {\n",
       "            text-align:  right;\n",
       "        }    #T_ab422926_b197_11eb_9f35_02420a3914f2row1_col5 {\n",
       "            text-align:  right;\n",
       "        }    #T_ab422926_b197_11eb_9f35_02420a3914f2row1_col6 {\n",
       "            text-align:  right;\n",
       "        }    #T_ab422926_b197_11eb_9f35_02420a3914f2row1_col7 {\n",
       "            text-align:  right;\n",
       "        }    #T_ab422926_b197_11eb_9f35_02420a3914f2row1_col8 {\n",
       "            text-align:  right;\n",
       "        }    #T_ab422926_b197_11eb_9f35_02420a3914f2row1_col9 {\n",
       "            text-align:  right;\n",
       "        }    #T_ab422926_b197_11eb_9f35_02420a3914f2row1_col10 {\n",
       "            text-align:  right;\n",
       "        }    #T_ab422926_b197_11eb_9f35_02420a3914f2row1_col11 {\n",
       "            text-align:  right;\n",
       "        }    #T_ab422926_b197_11eb_9f35_02420a3914f2row1_col12 {\n",
       "            text-align:  right;\n",
       "        }    #T_ab422926_b197_11eb_9f35_02420a3914f2row1_col13 {\n",
       "            text-align:  right;\n",
       "        }    #T_ab422926_b197_11eb_9f35_02420a3914f2row1_col14 {\n",
       "            text-align:  right;\n",
       "        }    #T_ab422926_b197_11eb_9f35_02420a3914f2row1_col15 {\n",
       "            text-align:  right;\n",
       "        }</style><table id=\"T_ab422926_b197_11eb_9f35_02420a3914f2\" ><thead>    <tr>        <th class=\"blank level0\" ></th>        <th class=\"col_heading level0 col0\" colspan=4>total_minutes_spent_per_month</th>        <th class=\"col_heading level0 col4\" colspan=4>number_sms_spent_per_month</th>        <th class=\"col_heading level0 col8\" colspan=4>total_mb_spent_per_month</th>        <th class=\"col_heading level0 col12\" colspan=4>monthly_revenue</th>    </tr>    <tr>        <th class=\"blank level1\" ></th>        <th class=\"col_heading level1 col0\" >mean</th>        <th class=\"col_heading level1 col1\" >median</th>        <th class=\"col_heading level1 col2\" >std</th>        <th class=\"col_heading level1 col3\" >var</th>        <th class=\"col_heading level1 col4\" >mean</th>        <th class=\"col_heading level1 col5\" >median</th>        <th class=\"col_heading level1 col6\" >std</th>        <th class=\"col_heading level1 col7\" >var</th>        <th class=\"col_heading level1 col8\" >mean</th>        <th class=\"col_heading level1 col9\" >median</th>        <th class=\"col_heading level1 col10\" >std</th>        <th class=\"col_heading level1 col11\" >var</th>        <th class=\"col_heading level1 col12\" >mean</th>        <th class=\"col_heading level1 col13\" >median</th>        <th class=\"col_heading level1 col14\" >std</th>        <th class=\"col_heading level1 col15\" >var</th>    </tr>    <tr>        <th class=\"index_name level0\" >tariff</th>        <th class=\"blank\" ></th>        <th class=\"blank\" ></th>        <th class=\"blank\" ></th>        <th class=\"blank\" ></th>        <th class=\"blank\" ></th>        <th class=\"blank\" ></th>        <th class=\"blank\" ></th>        <th class=\"blank\" ></th>        <th class=\"blank\" ></th>        <th class=\"blank\" ></th>        <th class=\"blank\" ></th>        <th class=\"blank\" ></th>        <th class=\"blank\" ></th>        <th class=\"blank\" ></th>        <th class=\"blank\" ></th>        <th class=\"blank\" ></th>    </tr></thead><tbody>\n",
       "                <tr>\n",
       "                        <th id=\"T_ab422926_b197_11eb_9f35_02420a3914f2level0_row0\" class=\"row_heading level0 row0\" >smart</th>\n",
       "                        <td id=\"T_ab422926_b197_11eb_9f35_02420a3914f2row0_col0\" class=\"data row0 col0\" >417</td>\n",
       "                        <td id=\"T_ab422926_b197_11eb_9f35_02420a3914f2row0_col1\" class=\"data row0 col1\" >422</td>\n",
       "                        <td id=\"T_ab422926_b197_11eb_9f35_02420a3914f2row0_col2\" class=\"data row0 col2\" >190</td>\n",
       "                        <td id=\"T_ab422926_b197_11eb_9f35_02420a3914f2row0_col3\" class=\"data row0 col3\" >36219</td>\n",
       "                        <td id=\"T_ab422926_b197_11eb_9f35_02420a3914f2row0_col4\" class=\"data row0 col4\" >33</td>\n",
       "                        <td id=\"T_ab422926_b197_11eb_9f35_02420a3914f2row0_col5\" class=\"data row0 col5\" >28</td>\n",
       "                        <td id=\"T_ab422926_b197_11eb_9f35_02420a3914f2row0_col6\" class=\"data row0 col6\" >28</td>\n",
       "                        <td id=\"T_ab422926_b197_11eb_9f35_02420a3914f2row0_col7\" class=\"data row0 col7\" >796</td>\n",
       "                        <td id=\"T_ab422926_b197_11eb_9f35_02420a3914f2row0_col8\" class=\"data row0 col8\" >16229</td>\n",
       "                        <td id=\"T_ab422926_b197_11eb_9f35_02420a3914f2row0_col9\" class=\"data row0 col9\" >16531</td>\n",
       "                        <td id=\"T_ab422926_b197_11eb_9f35_02420a3914f2row0_col10\" class=\"data row0 col10\" >5877</td>\n",
       "                        <td id=\"T_ab422926_b197_11eb_9f35_02420a3914f2row0_col11\" class=\"data row0 col11\" >34545911</td>\n",
       "                        <td id=\"T_ab422926_b197_11eb_9f35_02420a3914f2row0_col12\" class=\"data row0 col12\" >1294</td>\n",
       "                        <td id=\"T_ab422926_b197_11eb_9f35_02420a3914f2row0_col13\" class=\"data row0 col13\" >1037</td>\n",
       "                        <td id=\"T_ab422926_b197_11eb_9f35_02420a3914f2row0_col14\" class=\"data row0 col14\" >820</td>\n",
       "                        <td id=\"T_ab422926_b197_11eb_9f35_02420a3914f2row0_col15\" class=\"data row0 col15\" >673877</td>\n",
       "            </tr>\n",
       "            <tr>\n",
       "                        <th id=\"T_ab422926_b197_11eb_9f35_02420a3914f2level0_row1\" class=\"row_heading level0 row1\" >ultra</th>\n",
       "                        <td id=\"T_ab422926_b197_11eb_9f35_02420a3914f2row1_col0\" class=\"data row1 col0\" >526</td>\n",
       "                        <td id=\"T_ab422926_b197_11eb_9f35_02420a3914f2row1_col1\" class=\"data row1 col1\" >518</td>\n",
       "                        <td id=\"T_ab422926_b197_11eb_9f35_02420a3914f2row1_col2\" class=\"data row1 col2\" >317</td>\n",
       "                        <td id=\"T_ab422926_b197_11eb_9f35_02420a3914f2row1_col3\" class=\"data row1 col3\" >100873</td>\n",
       "                        <td id=\"T_ab422926_b197_11eb_9f35_02420a3914f2row1_col4\" class=\"data row1 col4\" >49</td>\n",
       "                        <td id=\"T_ab422926_b197_11eb_9f35_02420a3914f2row1_col5\" class=\"data row1 col5\" >38</td>\n",
       "                        <td id=\"T_ab422926_b197_11eb_9f35_02420a3914f2row1_col6\" class=\"data row1 col6\" >47</td>\n",
       "                        <td id=\"T_ab422926_b197_11eb_9f35_02420a3914f2row1_col7\" class=\"data row1 col7\" >2285</td>\n",
       "                        <td id=\"T_ab422926_b197_11eb_9f35_02420a3914f2row1_col8\" class=\"data row1 col8\" >19486</td>\n",
       "                        <td id=\"T_ab422926_b197_11eb_9f35_02420a3914f2row1_col9\" class=\"data row1 col9\" >19324</td>\n",
       "                        <td id=\"T_ab422926_b197_11eb_9f35_02420a3914f2row1_col10\" class=\"data row1 col10\" >10096</td>\n",
       "                        <td id=\"T_ab422926_b197_11eb_9f35_02420a3914f2row1_col11\" class=\"data row1 col11\" >101935621</td>\n",
       "                        <td id=\"T_ab422926_b197_11eb_9f35_02420a3914f2row1_col12\" class=\"data row1 col12\" >2070</td>\n",
       "                        <td id=\"T_ab422926_b197_11eb_9f35_02420a3914f2row1_col13\" class=\"data row1 col13\" >1950</td>\n",
       "                        <td id=\"T_ab422926_b197_11eb_9f35_02420a3914f2row1_col14\" class=\"data row1 col14\" >378</td>\n",
       "                        <td id=\"T_ab422926_b197_11eb_9f35_02420a3914f2row1_col15\" class=\"data row1 col15\" >143360</td>\n",
       "            </tr>\n",
       "    </tbody></table>"
      ],
      "text/plain": [
       "<pandas.io.formats.style.Styler at 0x7fb723bb13d0>"
      ]
     },
     "execution_count": 37,
     "metadata": {},
     "output_type": "execute_result"
    }
   ],
   "source": [
    "df_stat = df.groupby('tariff')[['total_minutes_spent_per_month', 'number_sms_spent_per_month', \\\n",
    "                                'total_mb_spent_per_month', 'monthly_revenue']] \\\n",
    "                                    .agg(['mean', 'median', 'std', 'var']) \\\n",
    "                                    .astype('int64')\n",
    "df_stat.style.set_properties(**{'text-align': 'right'})"
   ]
  },
  {
   "cell_type": "markdown",
   "metadata": {},
   "source": [
    "Используя функцию, в последующих разделах постром диаграммы размаха и гистограммы распределения."
   ]
  },
  {
   "cell_type": "code",
   "execution_count": 38,
   "metadata": {},
   "outputs": [],
   "source": [
    "def plots_initial(parameter):\n",
    "    \"\"\"\n",
    "    Функция строит диаграммы размаха и гистограммы распределения.\n",
    "    \"\"\"\n",
    "    # Построение диаграммы размаха\n",
    "    g = sns.FacetGrid(df, col='tariff', height=5)\n",
    "    g.map(sns.boxplot, parameter, order=['ultra', 'smart'], color='#fec44f', showmeans=True)\n",
    "    g.fig.suptitle(f'Диаграммы размаха {parameter} для тарифного плана:')\n",
    "    g.fig.subplots_adjust(top=0.85)\n",
    "    g.set_titles(col_template='{col_name}')\n",
    "    \n",
    "    # Построение гистограммы распределения\n",
    "    g = sns.FacetGrid(df, col='tariff', height=5)\n",
    "    g.map(plt.hist, parameter, bins = 12, color='#41ab5d')  \n",
    "    g.fig.suptitle(f'Гистограммы распределения {parameter} для тарифного плана:')\n",
    "    g.fig.subplots_adjust(top=0.85)\n",
    "    g.set_titles(col_template='{col_name}')\n",
    "    g.set_ylabels('Count')"
   ]
  },
  {
   "cell_type": "markdown",
   "metadata": {},
   "source": [
    "#### Длительность звонков"
   ]
  },
  {
   "cell_type": "markdown",
   "metadata": {},
   "source": [
    "Построим диаграммы размаха и гистограммы распределения по длительности телефонных звонков в месяц:"
   ]
  },
  {
   "cell_type": "code",
   "execution_count": 39,
   "metadata": {},
   "outputs": [
    {
     "data": {
      "image/png": "[encoded data removed]",
      "text/plain": [
       "<Figure size 720x360 with 2 Axes>"
      ]
     },
     "metadata": {
      "needs_background": "light"
     },
     "output_type": "display_data"
    },
    {
     "data": {
      "image/png": "[encoded data removed]",
      "text/plain": [
       "<Figure size 720x360 with 2 Axes>"
      ]
     },
     "metadata": {
      "needs_background": "light"
     },
     "output_type": "display_data"
    }
   ],
   "source": [
    "plots_initial('total_minutes_spent_per_month')"
   ]
  },
  {
   "cell_type": "markdown",
   "metadata": {},
   "source": [
    "Длительность телефонных разговоров для двух тарифов ожидаемо различается. Распределение ежемесячной длительности телефонных разговоров близко к нормальному. Следует отметить две характерные особенности:\n",
    "* в тарифе \"Смарт\" присутствует бо́льшее количество пользователей, которые превышают отведенное тарифом время на телефонные разговоры, чем в тарифе \"Ультра\". Наглядно это показано на диаграмме размаха.\n",
    "* средние и медианные значения длительности звонков достаточно близки для обоих тарифов, при этом среднеквадратическое отклонение достаточно высокое, что характеризует как различное поведение клиентов при пользовании тарифом, так и определяется имеющейся выборкой."
   ]
  },
  {
   "cell_type": "markdown",
   "metadata": {},
   "source": [
    "#### Количество сообщений"
   ]
  },
  {
   "cell_type": "code",
   "execution_count": 40,
   "metadata": {},
   "outputs": [
    {
     "data": {
      "image/png": "[encoded data removed]",
      "text/plain": [
       "<Figure size 720x360 with 2 Axes>"
      ]
     },
     "metadata": {
      "needs_background": "light"
     },
     "output_type": "display_data"
    },
    {
     "data": {
      "image/png": "[encoded data removed]",
      "text/plain": [
       "<Figure size 720x360 with 2 Axes>"
      ]
     },
     "metadata": {
      "needs_background": "light"
     },
     "output_type": "display_data"
    }
   ],
   "source": [
    "plots_initial('number_sms_spent_per_month')"
   ]
  },
  {
   "cell_type": "markdown",
   "metadata": {},
   "source": [
    "Количество отправляемых ежемесячно смс в представленной выборке характеризуется снижением с увеличением их числа. Зависимость близка к линейной. Отмечается высокая доля пользователей, которая либо не отправляет смс, либо обходится их минимальным количеством. Тем не менее, в обоих тарифных планах имеется небольшое число клиентов, для которых ежемесячная активность по отправке смс достаточно высока в сравнении со средними / медианными значениями.   "
   ]
  },
  {
   "cell_type": "markdown",
   "metadata": {},
   "source": [
    "#### Объем интернет-трафика"
   ]
  },
  {
   "cell_type": "code",
   "execution_count": 41,
   "metadata": {},
   "outputs": [
    {
     "data": {
      "image/png": "[encoded data removed]",
      "text/plain": [
       "<Figure size 720x360 with 2 Axes>"
      ]
     },
     "metadata": {
      "needs_background": "light"
     },
     "output_type": "display_data"
    },
    {
     "data": {
      "image/png": "[encoded data removed]",
      "text/plain": [
       "<Figure size 720x360 with 2 Axes>"
      ]
     },
     "metadata": {
      "needs_background": "light"
     },
     "output_type": "display_data"
    }
   ],
   "source": [
    "plots_initial('total_mb_spent_per_month')"
   ]
  },
  {
   "cell_type": "markdown",
   "metadata": {},
   "source": [
    "Средний объем интернет-трафика (16±6 Гб - для \"Смарт\" и 19±10 Гб - для \"Ультра\"), расходуемого пользователями обоих тарифов ежемесячно, достаточно близок, несмотря на имеющиеся ограничения тарифного плана \"Смарт\". Распределения близки к нормальным, но диаграмма размаха указывает на то, что для небольшого числа пользователей тарифом \"Смарт\" характерно минимальное пользование интернетом (экономный вариант). Особенностью является наличие значительного числа пользователей, для которых характерно превышение доступных лимитов в 15 Гб. Доля таких пользователей для тарифа \"Ультра\" (лимит - 30 Гб) значительно ниже."
   ]
  },
  {
   "cell_type": "markdown",
   "metadata": {},
   "source": [
    "Графики распределения позволяют предложить две стратегии для дальнейшего анализа данных:\n",
    "\n",
    "1) Не использовать обработку выбросов, что позволяют судить о поведенческих характеристиках клиентов при пользовании различными тарифами. Преимуществом данного подхода является то, что мы не отбрасываем редкие значения, которые в данном случае являются лишь маленькими или большими значениями, а не ошибками данных. Например, максимальная продолжительность звонка составляет 38 минут, что не может являться чем-то необычным, в особенности для тарифа с большим числом доступных минут. \n",
    "\n",
    "2) Обработывать выбросы лишь с целью получить поведение \"среднего клиента\" для разработки новых условий или совершенствования существующих тарифов.\n",
    "\n",
    "Первая стратегия не требует дополнительной обработки объединенного датафрейма и будет использоваться в качестве базовой. Второй подход будет кратко представлен в разделе 3.4 путем сокращения выборки за счет более редких данных."
   ]
  },
  {
   "cell_type": "markdown",
   "metadata": {},
   "source": [
    "### Оценка влияния выбросов"
   ]
  },
  {
   "cell_type": "code",
   "execution_count": 42,
   "metadata": {
    "scrolled": false
   },
   "outputs": [
    {
     "data": {
      "image/png": "[encoded data removed]",
      "text/plain": [
       "<Figure size 720x360 with 2 Axes>"
      ]
     },
     "metadata": {
      "needs_background": "light"
     },
     "output_type": "display_data"
    },
    {
     "data": {
      "image/png": "[encoded data removed]",
      "text/plain": [
       "<Figure size 720x360 with 2 Axes>"
      ]
     },
     "metadata": {
      "needs_background": "light"
     },
     "output_type": "display_data"
    },
    {
     "data": {
      "image/png": "[encoded data removed]",
      "text/plain": [
       "<Figure size 720x360 with 2 Axes>"
      ]
     },
     "metadata": {
      "needs_background": "light"
     },
     "output_type": "display_data"
    },
    {
     "data": {
      "image/png": "[encoded data removed]",
      "text/plain": [
       "<Figure size 720x360 with 2 Axes>"
      ]
     },
     "metadata": {
      "needs_background": "light"
     },
     "output_type": "display_data"
    },
    {
     "data": {
      "image/png": "[encoded data removed]",
      "text/plain": [
       "<Figure size 720x360 with 2 Axes>"
      ]
     },
     "metadata": {
      "needs_background": "light"
     },
     "output_type": "display_data"
    },
    {
     "data": {
      "image/png": "[encoded data removed]",
      "text/plain": [
       "<Figure size 720x360 with 2 Axes>"
      ]
     },
     "metadata": {
      "needs_background": "light"
     },
     "output_type": "display_data"
    }
   ],
   "source": [
    "dict_of_dfs = dict()\n",
    "\n",
    "def plots_without_outliers(parameter):\n",
    "    \"\"\"\n",
    "    Функция исключает редкие значения из условия, что они не входят в полуторный межквартильный (Q1-Q3) размах. \n",
    "    Функция также стороит диаграмы размаха и гистограммы распределения для интересующих параметров, перечисленных в словаре.\n",
    "    Полученные данные возвращаются в виде датафреймов с уникальными именами.\n",
    "    \"\"\"\n",
    "    Q1 = df[parameter].quantile(0.25)\n",
    "    Q3 = df[parameter].quantile(0.75)\n",
    "    IQR = Q3 - Q1\n",
    "    df_without_outliers = df[(df[parameter] > (Q1-1.5*IQR)) & (df[parameter] < (Q3+1.5*IQR))]\n",
    "\n",
    "    g = sns.FacetGrid(df_without_outliers, col='tariff', height=5)\n",
    "    g.map(sns.boxplot, parameter, order=['ultra', 'smart'], color='#fec44f', showmeans=True)\n",
    "    g.fig.suptitle(f'Диаграммы размаха {parameter} для тарифного плана:')\n",
    "    g.fig.subplots_adjust(top=0.85)\n",
    "    g.set_titles(col_template='{col_name}')\n",
    "      \n",
    "    g = sns.FacetGrid(df_without_outliers, col='tariff', height=5)\n",
    "    g.map(plt.hist, parameter, bins = 12, color='#41ab5d')  \n",
    "    g.fig.suptitle(f'Гистограммы распределения {parameter} без выбросов для тарифного плана:')\n",
    "    g.fig.subplots_adjust(top=0.85)\n",
    "    g.set_titles(col_template='{col_name}')\n",
    "    g.set_ylabels('Count')\n",
    "    \n",
    "    return df_without_outliers\n",
    "\n",
    "for column in ['total_minutes_spent_per_month', 'number_sms_spent_per_month', 'total_mb_spent_per_month']:\n",
    "    dict_of_dfs['df_without_outliers_' + column] = (\n",
    "        plots_without_outliers(column)\n",
    "    )"
   ]
  },
  {
   "cell_type": "markdown",
   "metadata": {},
   "source": [
    "После обработки редких и выпадающих значений, гистограммы распределения по длительности звонков и интернет-сессий для \"среднего клиента\" каждого тарифа в целом сохранили свой вид, близкий к нормальному. Количественные оценки изменений средних/медианных значений приведены в сводных таблицах ниже:"
   ]
  },
  {
   "cell_type": "markdown",
   "metadata": {},
   "source": [
    "Удалим строки с выбросами из объединенного датафрейма из условия, что хотя бы в одной переменной-характеристике имеется выброс:"
   ]
  },
  {
   "cell_type": "code",
   "execution_count": 43,
   "metadata": {},
   "outputs": [],
   "source": [
    "Q1_calls = df['total_minutes_spent_per_month'].quantile(0.25)\n",
    "Q3_calls = df['total_minutes_spent_per_month'].quantile(0.75)\n",
    "IQR_calls = Q3_calls - Q1_calls\n",
    "\n",
    "Q1_web = df['total_mb_spent_per_month'].quantile(0.25)\n",
    "Q3_web = df['total_mb_spent_per_month'].quantile(0.75)\n",
    "IQR_web = Q3_web - Q1_web\n",
    "\n",
    "Q1_sms = df['number_sms_spent_per_month'].quantile(0.25)\n",
    "Q3_sms = df['number_sms_spent_per_month'].quantile(0.75)\n",
    "IQR_sms = Q3_sms - Q1_sms"
   ]
  },
  {
   "cell_type": "code",
   "execution_count": 44,
   "metadata": {},
   "outputs": [],
   "source": [
    "df_without_outliers = df.copy()"
   ]
  },
  {
   "cell_type": "code",
   "execution_count": 45,
   "metadata": {},
   "outputs": [],
   "source": [
    "df_without_outliers.drop(df_without_outliers \\\n",
    "                         [df_without_outliers['total_minutes_spent_per_month'] > (Q3_calls + 1.5*IQR_calls)] \\\n",
    "                         .index, inplace = True)\n",
    "df_without_outliers.drop(df_without_outliers \\\n",
    "                         [df_without_outliers['total_minutes_spent_per_month'] < (Q1_calls - 1.5*IQR_calls)] \\\n",
    "                         .index, inplace = True)"
   ]
  },
  {
   "cell_type": "code",
   "execution_count": 46,
   "metadata": {},
   "outputs": [],
   "source": [
    "df_without_outliers.drop(df_without_outliers \\\n",
    "                         [df_without_outliers['total_mb_spent_per_month'] > (Q3_web + 1.5*IQR_web)] \\\n",
    "                         .index, inplace = True)\n",
    "df_without_outliers.drop(df_without_outliers \\\n",
    "                         [df_without_outliers['total_mb_spent_per_month'] < (Q1_web - 1.5*IQR_web)] \\\n",
    "                         .index, inplace = True)"
   ]
  },
  {
   "cell_type": "code",
   "execution_count": 47,
   "metadata": {},
   "outputs": [],
   "source": [
    "df_without_outliers.drop(df_without_outliers \\\n",
    "                         [df_without_outliers['number_sms_spent_per_month'] > (Q3_sms + 1.5*IQR_sms)] \\\n",
    "                         .index, inplace = True)\n",
    "df_without_outliers.drop(df_without_outliers \\\n",
    "                         [df_without_outliers['number_sms_spent_per_month'] < (Q1_sms - 1.5*IQR_sms)] \\\n",
    "                         .index, inplace = True)"
   ]
  },
  {
   "cell_type": "code",
   "execution_count": 48,
   "metadata": {},
   "outputs": [
    {
     "name": "stdout",
     "output_type": "stream",
     "text": [
      "Статистические показатели до обработки выбросов (поведенческий паттерн пользователей):\n"
     ]
    },
    {
     "data": {
      "text/html": [
       "<div>\n",
       "<style scoped>\n",
       "    .dataframe tbody tr th:only-of-type {\n",
       "        vertical-align: middle;\n",
       "    }\n",
       "\n",
       "    .dataframe tbody tr th {\n",
       "        vertical-align: top;\n",
       "    }\n",
       "\n",
       "    .dataframe thead tr th {\n",
       "        text-align: left;\n",
       "    }\n",
       "\n",
       "    .dataframe thead tr:last-of-type th {\n",
       "        text-align: right;\n",
       "    }\n",
       "</style>\n",
       "<table border=\"1\" class=\"dataframe\">\n",
       "  <thead>\n",
       "    <tr>\n",
       "      <th></th>\n",
       "      <th colspan=\"4\" halign=\"left\">total_minutes_spent_per_month</th>\n",
       "      <th colspan=\"4\" halign=\"left\">number_sms_spent_per_month</th>\n",
       "      <th colspan=\"4\" halign=\"left\">total_mb_spent_per_month</th>\n",
       "      <th colspan=\"4\" halign=\"left\">monthly_revenue</th>\n",
       "    </tr>\n",
       "    <tr>\n",
       "      <th></th>\n",
       "      <th>mean</th>\n",
       "      <th>median</th>\n",
       "      <th>std</th>\n",
       "      <th>var</th>\n",
       "      <th>mean</th>\n",
       "      <th>median</th>\n",
       "      <th>std</th>\n",
       "      <th>var</th>\n",
       "      <th>mean</th>\n",
       "      <th>median</th>\n",
       "      <th>std</th>\n",
       "      <th>var</th>\n",
       "      <th>mean</th>\n",
       "      <th>median</th>\n",
       "      <th>std</th>\n",
       "      <th>var</th>\n",
       "    </tr>\n",
       "    <tr>\n",
       "      <th>tariff</th>\n",
       "      <th></th>\n",
       "      <th></th>\n",
       "      <th></th>\n",
       "      <th></th>\n",
       "      <th></th>\n",
       "      <th></th>\n",
       "      <th></th>\n",
       "      <th></th>\n",
       "      <th></th>\n",
       "      <th></th>\n",
       "      <th></th>\n",
       "      <th></th>\n",
       "      <th></th>\n",
       "      <th></th>\n",
       "      <th></th>\n",
       "      <th></th>\n",
       "    </tr>\n",
       "  </thead>\n",
       "  <tbody>\n",
       "    <tr>\n",
       "      <td>smart</td>\n",
       "      <td>417</td>\n",
       "      <td>422</td>\n",
       "      <td>190</td>\n",
       "      <td>36219</td>\n",
       "      <td>33</td>\n",
       "      <td>28</td>\n",
       "      <td>28</td>\n",
       "      <td>796</td>\n",
       "      <td>16229</td>\n",
       "      <td>16531</td>\n",
       "      <td>5877</td>\n",
       "      <td>34545911</td>\n",
       "      <td>1294</td>\n",
       "      <td>1037</td>\n",
       "      <td>820</td>\n",
       "      <td>673877</td>\n",
       "    </tr>\n",
       "    <tr>\n",
       "      <td>ultra</td>\n",
       "      <td>526</td>\n",
       "      <td>518</td>\n",
       "      <td>317</td>\n",
       "      <td>100873</td>\n",
       "      <td>49</td>\n",
       "      <td>38</td>\n",
       "      <td>47</td>\n",
       "      <td>2285</td>\n",
       "      <td>19486</td>\n",
       "      <td>19324</td>\n",
       "      <td>10096</td>\n",
       "      <td>101935621</td>\n",
       "      <td>2070</td>\n",
       "      <td>1950</td>\n",
       "      <td>378</td>\n",
       "      <td>143360</td>\n",
       "    </tr>\n",
       "  </tbody>\n",
       "</table>\n",
       "</div>"
      ],
      "text/plain": [
       "       total_minutes_spent_per_month                      \\\n",
       "                                mean median  std     var   \n",
       "tariff                                                     \n",
       "smart                            417    422  190   36219   \n",
       "ultra                            526    518  317  100873   \n",
       "\n",
       "       number_sms_spent_per_month                  total_mb_spent_per_month  \\\n",
       "                             mean median std   var                     mean   \n",
       "tariff                                                                        \n",
       "smart                          33     28  28   796                    16229   \n",
       "ultra                          49     38  47  2285                    19486   \n",
       "\n",
       "                                monthly_revenue                      \n",
       "       median    std        var            mean median  std     var  \n",
       "tariff                                                               \n",
       "smart   16531   5877   34545911            1294   1037  820  673877  \n",
       "ultra   19324  10096  101935621            2070   1950  378  143360  "
      ]
     },
     "metadata": {},
     "output_type": "display_data"
    },
    {
     "name": "stdout",
     "output_type": "stream",
     "text": [
      "Статистические показатели после обработки выбросов (\"средний пользователь\"):\n"
     ]
    },
    {
     "data": {
      "text/html": [
       "<style  type=\"text/css\" >\n",
       "    #T_b17d483e_b197_11eb_9f35_02420a3914f2row0_col0 {\n",
       "            text-align:  right;\n",
       "        }    #T_b17d483e_b197_11eb_9f35_02420a3914f2row0_col1 {\n",
       "            text-align:  right;\n",
       "        }    #T_b17d483e_b197_11eb_9f35_02420a3914f2row0_col2 {\n",
       "            text-align:  right;\n",
       "        }    #T_b17d483e_b197_11eb_9f35_02420a3914f2row0_col3 {\n",
       "            text-align:  right;\n",
       "        }    #T_b17d483e_b197_11eb_9f35_02420a3914f2row0_col4 {\n",
       "            text-align:  right;\n",
       "        }    #T_b17d483e_b197_11eb_9f35_02420a3914f2row0_col5 {\n",
       "            text-align:  right;\n",
       "        }    #T_b17d483e_b197_11eb_9f35_02420a3914f2row0_col6 {\n",
       "            text-align:  right;\n",
       "        }    #T_b17d483e_b197_11eb_9f35_02420a3914f2row0_col7 {\n",
       "            text-align:  right;\n",
       "        }    #T_b17d483e_b197_11eb_9f35_02420a3914f2row0_col8 {\n",
       "            text-align:  right;\n",
       "        }    #T_b17d483e_b197_11eb_9f35_02420a3914f2row0_col9 {\n",
       "            text-align:  right;\n",
       "        }    #T_b17d483e_b197_11eb_9f35_02420a3914f2row0_col10 {\n",
       "            text-align:  right;\n",
       "        }    #T_b17d483e_b197_11eb_9f35_02420a3914f2row0_col11 {\n",
       "            text-align:  right;\n",
       "        }    #T_b17d483e_b197_11eb_9f35_02420a3914f2row0_col12 {\n",
       "            text-align:  right;\n",
       "        }    #T_b17d483e_b197_11eb_9f35_02420a3914f2row0_col13 {\n",
       "            text-align:  right;\n",
       "        }    #T_b17d483e_b197_11eb_9f35_02420a3914f2row0_col14 {\n",
       "            text-align:  right;\n",
       "        }    #T_b17d483e_b197_11eb_9f35_02420a3914f2row0_col15 {\n",
       "            text-align:  right;\n",
       "        }    #T_b17d483e_b197_11eb_9f35_02420a3914f2row1_col0 {\n",
       "            text-align:  right;\n",
       "        }    #T_b17d483e_b197_11eb_9f35_02420a3914f2row1_col1 {\n",
       "            text-align:  right;\n",
       "        }    #T_b17d483e_b197_11eb_9f35_02420a3914f2row1_col2 {\n",
       "            text-align:  right;\n",
       "        }    #T_b17d483e_b197_11eb_9f35_02420a3914f2row1_col3 {\n",
       "            text-align:  right;\n",
       "        }    #T_b17d483e_b197_11eb_9f35_02420a3914f2row1_col4 {\n",
       "            text-align:  right;\n",
       "        }    #T_b17d483e_b197_11eb_9f35_02420a3914f2row1_col5 {\n",
       "            text-align:  right;\n",
       "        }    #T_b17d483e_b197_11eb_9f35_02420a3914f2row1_col6 {\n",
       "            text-align:  right;\n",
       "        }    #T_b17d483e_b197_11eb_9f35_02420a3914f2row1_col7 {\n",
       "            text-align:  right;\n",
       "        }    #T_b17d483e_b197_11eb_9f35_02420a3914f2row1_col8 {\n",
       "            text-align:  right;\n",
       "        }    #T_b17d483e_b197_11eb_9f35_02420a3914f2row1_col9 {\n",
       "            text-align:  right;\n",
       "        }    #T_b17d483e_b197_11eb_9f35_02420a3914f2row1_col10 {\n",
       "            text-align:  right;\n",
       "        }    #T_b17d483e_b197_11eb_9f35_02420a3914f2row1_col11 {\n",
       "            text-align:  right;\n",
       "        }    #T_b17d483e_b197_11eb_9f35_02420a3914f2row1_col12 {\n",
       "            text-align:  right;\n",
       "        }    #T_b17d483e_b197_11eb_9f35_02420a3914f2row1_col13 {\n",
       "            text-align:  right;\n",
       "        }    #T_b17d483e_b197_11eb_9f35_02420a3914f2row1_col14 {\n",
       "            text-align:  right;\n",
       "        }    #T_b17d483e_b197_11eb_9f35_02420a3914f2row1_col15 {\n",
       "            text-align:  right;\n",
       "        }</style><table id=\"T_b17d483e_b197_11eb_9f35_02420a3914f2\" ><thead>    <tr>        <th class=\"blank level0\" ></th>        <th class=\"col_heading level0 col0\" colspan=4>total_minutes_spent_per_month</th>        <th class=\"col_heading level0 col4\" colspan=4>number_sms_spent_per_month</th>        <th class=\"col_heading level0 col8\" colspan=4>total_mb_spent_per_month</th>        <th class=\"col_heading level0 col12\" colspan=4>monthly_revenue</th>    </tr>    <tr>        <th class=\"blank level1\" ></th>        <th class=\"col_heading level1 col0\" >mean</th>        <th class=\"col_heading level1 col1\" >median</th>        <th class=\"col_heading level1 col2\" >std</th>        <th class=\"col_heading level1 col3\" >var</th>        <th class=\"col_heading level1 col4\" >mean</th>        <th class=\"col_heading level1 col5\" >median</th>        <th class=\"col_heading level1 col6\" >std</th>        <th class=\"col_heading level1 col7\" >var</th>        <th class=\"col_heading level1 col8\" >mean</th>        <th class=\"col_heading level1 col9\" >median</th>        <th class=\"col_heading level1 col10\" >std</th>        <th class=\"col_heading level1 col11\" >var</th>        <th class=\"col_heading level1 col12\" >mean</th>        <th class=\"col_heading level1 col13\" >median</th>        <th class=\"col_heading level1 col14\" >std</th>        <th class=\"col_heading level1 col15\" >var</th>    </tr>    <tr>        <th class=\"index_name level0\" >tariff</th>        <th class=\"blank\" ></th>        <th class=\"blank\" ></th>        <th class=\"blank\" ></th>        <th class=\"blank\" ></th>        <th class=\"blank\" ></th>        <th class=\"blank\" ></th>        <th class=\"blank\" ></th>        <th class=\"blank\" ></th>        <th class=\"blank\" ></th>        <th class=\"blank\" ></th>        <th class=\"blank\" ></th>        <th class=\"blank\" ></th>        <th class=\"blank\" ></th>        <th class=\"blank\" ></th>        <th class=\"blank\" ></th>        <th class=\"blank\" ></th>    </tr></thead><tbody>\n",
       "                <tr>\n",
       "                        <th id=\"T_b17d483e_b197_11eb_9f35_02420a3914f2level0_row0\" class=\"row_heading level0 row0\" >smart</th>\n",
       "                        <td id=\"T_b17d483e_b197_11eb_9f35_02420a3914f2row0_col0\" class=\"data row0 col0\" >415</td>\n",
       "                        <td id=\"T_b17d483e_b197_11eb_9f35_02420a3914f2row0_col1\" class=\"data row0 col1\" >420</td>\n",
       "                        <td id=\"T_b17d483e_b197_11eb_9f35_02420a3914f2row0_col2\" class=\"data row0 col2\" >186</td>\n",
       "                        <td id=\"T_b17d483e_b197_11eb_9f35_02420a3914f2row0_col3\" class=\"data row0 col3\" >34931</td>\n",
       "                        <td id=\"T_b17d483e_b197_11eb_9f35_02420a3914f2row0_col4\" class=\"data row0 col4\" >33</td>\n",
       "                        <td id=\"T_b17d483e_b197_11eb_9f35_02420a3914f2row0_col5\" class=\"data row0 col5\" >28</td>\n",
       "                        <td id=\"T_b17d483e_b197_11eb_9f35_02420a3914f2row0_col6\" class=\"data row0 col6\" >27</td>\n",
       "                        <td id=\"T_b17d483e_b197_11eb_9f35_02420a3914f2row0_col7\" class=\"data row0 col7\" >767</td>\n",
       "                        <td id=\"T_b17d483e_b197_11eb_9f35_02420a3914f2row0_col8\" class=\"data row0 col8\" >16136</td>\n",
       "                        <td id=\"T_b17d483e_b197_11eb_9f35_02420a3914f2row0_col9\" class=\"data row0 col9\" >16480</td>\n",
       "                        <td id=\"T_b17d483e_b197_11eb_9f35_02420a3914f2row0_col10\" class=\"data row0 col10\" >5763</td>\n",
       "                        <td id=\"T_b17d483e_b197_11eb_9f35_02420a3914f2row0_col11\" class=\"data row0 col11\" >33215556</td>\n",
       "                        <td id=\"T_b17d483e_b197_11eb_9f35_02420a3914f2row0_col12\" class=\"data row0 col12\" >1271</td>\n",
       "                        <td id=\"T_b17d483e_b197_11eb_9f35_02420a3914f2row0_col13\" class=\"data row0 col13\" >1016</td>\n",
       "                        <td id=\"T_b17d483e_b197_11eb_9f35_02420a3914f2row0_col14\" class=\"data row0 col14\" >771</td>\n",
       "                        <td id=\"T_b17d483e_b197_11eb_9f35_02420a3914f2row0_col15\" class=\"data row0 col15\" >595955</td>\n",
       "            </tr>\n",
       "            <tr>\n",
       "                        <th id=\"T_b17d483e_b197_11eb_9f35_02420a3914f2level0_row1\" class=\"row_heading level0 row1\" >ultra</th>\n",
       "                        <td id=\"T_b17d483e_b197_11eb_9f35_02420a3914f2row1_col0\" class=\"data row1 col0\" >484</td>\n",
       "                        <td id=\"T_b17d483e_b197_11eb_9f35_02420a3914f2row1_col1\" class=\"data row1 col1\" >500</td>\n",
       "                        <td id=\"T_b17d483e_b197_11eb_9f35_02420a3914f2row1_col2\" class=\"data row1 col2\" >267</td>\n",
       "                        <td id=\"T_b17d483e_b197_11eb_9f35_02420a3914f2row1_col3\" class=\"data row1 col3\" >71358</td>\n",
       "                        <td id=\"T_b17d483e_b197_11eb_9f35_02420a3914f2row1_col4\" class=\"data row1 col4\" >39</td>\n",
       "                        <td id=\"T_b17d483e_b197_11eb_9f35_02420a3914f2row1_col5\" class=\"data row1 col5\" >31</td>\n",
       "                        <td id=\"T_b17d483e_b197_11eb_9f35_02420a3914f2row1_col6\" class=\"data row1 col6\" >35</td>\n",
       "                        <td id=\"T_b17d483e_b197_11eb_9f35_02420a3914f2row1_col7\" class=\"data row1 col7\" >1283</td>\n",
       "                        <td id=\"T_b17d483e_b197_11eb_9f35_02420a3914f2row1_col8\" class=\"data row1 col8\" >17491</td>\n",
       "                        <td id=\"T_b17d483e_b197_11eb_9f35_02420a3914f2row1_col9\" class=\"data row1 col9\" >17435</td>\n",
       "                        <td id=\"T_b17d483e_b197_11eb_9f35_02420a3914f2row1_col10\" class=\"data row1 col10\" >8715</td>\n",
       "                        <td id=\"T_b17d483e_b197_11eb_9f35_02420a3914f2row1_col11\" class=\"data row1 col11\" >75956970</td>\n",
       "                        <td id=\"T_b17d483e_b197_11eb_9f35_02420a3914f2row1_col12\" class=\"data row1 col12\" >1973</td>\n",
       "                        <td id=\"T_b17d483e_b197_11eb_9f35_02420a3914f2row1_col13\" class=\"data row1 col13\" >1950</td>\n",
       "                        <td id=\"T_b17d483e_b197_11eb_9f35_02420a3914f2row1_col14\" class=\"data row1 col14\" >99</td>\n",
       "                        <td id=\"T_b17d483e_b197_11eb_9f35_02420a3914f2row1_col15\" class=\"data row1 col15\" >9916</td>\n",
       "            </tr>\n",
       "    </tbody></table>"
      ],
      "text/plain": [
       "<pandas.io.formats.style.Styler at 0x7fb723d4e7d0>"
      ]
     },
     "metadata": {},
     "output_type": "display_data"
    }
   ],
   "source": [
    "print('Статистические показатели до обработки выбросов (поведенческий паттерн пользователей):')\n",
    "display(df_stat)\n",
    "\n",
    "print('Статистические показатели после обработки выбросов (\"средний пользователь\"):')\n",
    "df_stat_without_outliers = df_without_outliers \\\n",
    "               .groupby('tariff')[['total_minutes_spent_per_month', 'number_sms_spent_per_month', \\\n",
    "                                   'total_mb_spent_per_month', 'monthly_revenue']] \\\n",
    "               .agg(['mean', 'median', 'std', 'var']) \\\n",
    "               .astype('int64')\n",
    "display(df_stat_without_outliers.style.set_properties(**{'text-align': 'right'}))"
   ]
  },
  {
   "cell_type": "markdown",
   "metadata": {},
   "source": [
    "Из полученных данных видно, что для тарифа \"Смарт\" обработка редких значений не привела к каким-либо значимым изменениям в средних/медианных показателях. В то же время для тарифа \"Ультра\" средние/медианные значения существенно снизились. С одной стороны это позволяет выявить \"среднего\" пользователя тарифом \"Ультра\". С другой стороны, получить искаженные данные, т.к. тариф изначально представляет расширенные условия пользования услугами и его обработка отсекает важный поведенческий паттерн. Учитывая это, в дальнейшей работе при формулировании гипотез, мы будем использовать полные данные. "
   ]
  },
  {
   "cell_type": "markdown",
   "metadata": {},
   "source": [
    "**Промежуточные выводы:**\n",
    "* Средняя продолжительность разговоров в месяц составляет 417 мин для тарифа \"Смарт\" и 526 минут для тарифа \"Ультра\". Стандартное отклонение равно 190 и 317 минут соответственно.\n",
    "* Среднее число отправленных смс в месяц составляет 33 шт для тарифа \"Смарт\" и 49 минут для тарифа \"Ультра\". Стандартное отклонение равно 28 и 47 шт соответственно.\n",
    "* Среднее количество интернет-трафика, использованного пользователями по тарифу \"Смарт\" равно 16229 Мб, по тарифу \"Ультра\" - 19486 Мб. Стандартные отклонения равны 5877 и 10096 Мб соответственно. \n",
    "* Доля пользователей, пользующихся тарифами \"Смарт\" в имеющейся выборке составляет 69%, тарифоми \"Ультра\" - 31%.\n",
    "* Общая ежемесячная выручка компании от имеющейся выборки пользователей составляет: 4928251 руб.\n",
    "* Общая выручка компании от абонентской платы составляет 3149200 руб.\n",
    "* Общие переплаты пользователей сверх установленной абонентской платы составляют: 1779051 руб (или 36.1% от общей выручки)\n",
    "* Переплаты пользователей сверх тарифа \"Смарт\" составляют: 1659801 руб. или 93.3 % от всего объема переплат, по тарифу \"Ультра\": 119250 руб. или 6.7 %. Пользователи тарифа \"Смарт\", несут значительные дополнительные расходы сверх тарифного плана. Для тарифного плана \"Ультра\" дополнительные расходы пользователей сверх абонентской платы минимальны.\n",
    "* Общая выручка компании от тарифа \"Смарт\" из имеющейся выборки пользователей составляет 2886301 руб.\n",
    "* Общая выручка компании от тарифа \"Ультра\" составляет 2041950 руб.\n",
    "* Средняя ежемесячная выручка компании с пользователя на тарифе \"Смарт\" составляет 1294 руб.\n",
    "* Средняя ежемесячная выручка компании с пользователя на тарифе \"Ультра\" составляет 2071 руб."
   ]
  },
  {
   "cell_type": "markdown",
   "metadata": {},
   "source": [
    "## Проверка гипотез о равенстве средних"
   ]
  },
  {
   "cell_type": "markdown",
   "metadata": {},
   "source": [
    "Для оценки различных гипотез, связанных с пользованием тарифами, в работе используются принципы центральной предельной теоремы, описывающие выборочное распределение. Теорема позволяет по имеющейся выборке с выбранной степенью вероятности сделать выводы применимые для генеральной совокупности. Кроме того, формируя выборки по какому-то критерию (тарифный план, местожительство или другому отличительному признаку) мы можем определить принадлежат ли данные, попадающие в выборку разным генеральным совокупностям или одной популяции. Для этого будет использоваться уровень значимости для этой статистики — p-value, который будет сравниваться с выбранным уровнем значимости alpha, и в зависимости от его значения нулевая гипотеза (гипотеза о равенстве) будет либо отвергаться (p-value < alpha), либо нет (p-value > alpha).  "
   ]
  },
  {
   "cell_type": "markdown",
   "metadata": {},
   "source": [
    "### Cредняя выручка пользователей тарифов «Ультра» и «Смарт»"
   ]
  },
  {
   "cell_type": "markdown",
   "metadata": {},
   "source": [
    "Рассчитаем среднюю ежемесячную выручку для обоих тарифов:"
   ]
  },
  {
   "cell_type": "code",
   "execution_count": 49,
   "metadata": {},
   "outputs": [
    {
     "name": "stdout",
     "output_type": "stream",
     "text": [
      "Выборочное среднее ежемесячной выручки для тарифа \"Смарт\" (руб.): 1294\n"
     ]
    }
   ],
   "source": [
    "mean_monthly_revenue_smart = df.loc[df['tariff'] == 'smart', 'monthly_revenue'].mean()\n",
    "print('Выборочное среднее ежемесячной выручки для тарифа \"Смарт\" (руб.): {:.0f}'.format(mean_monthly_revenue_smart))"
   ]
  },
  {
   "cell_type": "code",
   "execution_count": 50,
   "metadata": {},
   "outputs": [
    {
     "name": "stdout",
     "output_type": "stream",
     "text": [
      "Выборочное среднее ежемесячной выручки для тарифа \"Ультра\" (руб.) из выборки: 2071\n"
     ]
    }
   ],
   "source": [
    "mean_monthly_revenue_ultra = df.loc[df['tariff'] == 'ultra', 'monthly_revenue'].mean()\n",
    "print('Выборочное среднее ежемесячной выручки для тарифа \"Ультра\" (руб.) из выборки: {:.0f}'.format(mean_monthly_revenue_ultra))"
   ]
  },
  {
   "cell_type": "markdown",
   "metadata": {},
   "source": [
    "Несмотря на большое различие в средних значениях, которое может быть вызвано случайностью, проверим статистическими методами различается ли средняя выручка пользователей тарифов «Ультра» и «Смарт». Для этого в качестве нулевой гипотезы H0 рассмотрим вариант, что средние ежемесячные выручки пользователей тарифов «Ультра» и «Смарт» равны. Альтернативной гипотезой H1 будет вариант, что средние ежемесячные выручки пользователей тарифов «Ультра» и «Смарт» не равны друг другу. Критический уровень значимости (суммарная вероятность того, что измеренное эмпирически значение окажется далеко от среднего) примем равным 0.05."
   ]
  },
  {
   "cell_type": "markdown",
   "metadata": {},
   "source": [
    "Выборки по тарифам \"Смарт\" и \"Ультра\" независимы относительно друг друга, что позволяет использовать метод scipy.stats.ttest_ind() для оценки нулевой и альтернативной гипотез:"
   ]
  },
  {
   "cell_type": "code",
   "execution_count": 51,
   "metadata": {},
   "outputs": [
    {
     "name": "stdout",
     "output_type": "stream",
     "text": [
      "p-значение: 1.7023268870439853e-158\n",
      "Отвергаем нулевую гипотезу\n"
     ]
    }
   ],
   "source": [
    "alpha = 0.05\n",
    "results = st.ttest_ind((df.loc[df['tariff'] == 'smart', 'monthly_revenue']), (df.loc[df['tariff'] == 'ultra', 'monthly_revenue']))\n",
    "print('p-значение:', results.pvalue)\n",
    "\n",
    "if results.pvalue < alpha:\n",
    "    print(\"Отвергаем нулевую гипотезу\")\n",
    "else:\n",
    "    print(\"Не получилось отвергнуть нулевую гипотезу\")"
   ]
  },
  {
   "cell_type": "markdown",
   "metadata": {},
   "source": [
    "Из полученных данных следует, что мы уверенно отвергаем нулевую гипотезу (p-value крайне низко), что средние ежемесячные выручки пользователей тарифов «Ультра» и «Смарт» равны."
   ]
  },
  {
   "cell_type": "markdown",
   "metadata": {},
   "source": [
    "### Cредняя выручка пользователей из Москвы и других регионов"
   ]
  },
  {
   "cell_type": "markdown",
   "metadata": {},
   "source": [
    "Изучем вопрос как влияет местожительство клиентов на среднюю выручку: "
   ]
  },
  {
   "cell_type": "code",
   "execution_count": 52,
   "metadata": {},
   "outputs": [
    {
     "name": "stdout",
     "output_type": "stream",
     "text": [
      "Доля пользователей в разрезе регионов, %:\n"
     ]
    },
    {
     "data": {
      "text/plain": [
       "Москва             19.0\n",
       "Санкт-Петербург     8.4\n",
       "Новосибирск         3.0\n",
       "Уфа                 3.0\n",
       "Краснодар           2.7\n",
       "Ульяновск           2.6\n",
       "Казань              2.4\n",
       "Омск                2.3\n",
       "Пермь               2.1\n",
       "Самара              2.1\n",
       "Name: city, dtype: float64"
      ]
     },
     "execution_count": 52,
     "metadata": {},
     "output_type": "execute_result"
    }
   ],
   "source": [
    "print('Доля пользователей в разрезе регионов, %:')\n",
    "df['city'].value_counts(normalize = True).round(3).head(10)*100"
   ]
  },
  {
   "cell_type": "markdown",
   "metadata": {},
   "source": [
    "Данные показывают, что почти пятая часть пользователей из выборки - клиенты из Москвы. Посчитаем выборочное среднее для Москвы и других регионов:"
   ]
  },
  {
   "cell_type": "code",
   "execution_count": 53,
   "metadata": {},
   "outputs": [
    {
     "name": "stdout",
     "output_type": "stream",
     "text": [
      "Выборочное среднее ежемесячной выручки для Москвы (руб.): 1551\n"
     ]
    }
   ],
   "source": [
    "mean_monthly_revenue_moscow = df.loc[df['city'] == 'Москва', 'monthly_revenue'].mean()\n",
    "print('Выборочное среднее ежемесячной выручки для Москвы (руб.): {:.0f}'.format(mean_monthly_revenue_moscow))"
   ]
  },
  {
   "cell_type": "code",
   "execution_count": 54,
   "metadata": {},
   "outputs": [
    {
     "name": "stdout",
     "output_type": "stream",
     "text": [
      "Выборочное среднее ежемесячной выручки для других городов (руб.): 1528\n"
     ]
    }
   ],
   "source": [
    "mean_monthly_revenue_other_cities = df.loc[df['city'] != 'Москва', 'monthly_revenue'].mean()\n",
    "print('Выборочное среднее ежемесячной выручки для других городов (руб.): {:.0f}'.format(mean_monthly_revenue_other_cities))"
   ]
  },
  {
   "cell_type": "markdown",
   "metadata": {},
   "source": [
    "В качестве нулевой гипотезы H0 рассмотрим вариант, что средняя ежемесячная выручка от клиентов из Москвы равна выручке от клиентов из других городов. Альтернативной гипотезой H1 будет вариант, что средняя ежемесячная выручка от от клиентов из Москвы не равна выручке от клиентов из других городов. Критический уровень значимости примем равным 0.05."
   ]
  },
  {
   "cell_type": "markdown",
   "metadata": {},
   "source": [
    "Выборки для различных городов независимы относительно друг друга, что позволяет использовать метод scipy.stats.ttest_ind() для оценки нулевой и альтернативной гипотез:"
   ]
  },
  {
   "cell_type": "code",
   "execution_count": 55,
   "metadata": {},
   "outputs": [
    {
     "name": "stdout",
     "output_type": "stream",
     "text": [
      "p-значение: 0.528\n",
      "Не получилось отвергнуть нулевую гипотезу\n"
     ]
    }
   ],
   "source": [
    "alpha = 0.05\n",
    "results = st.ttest_ind((df.loc[df['city'] == 'Москва', 'monthly_revenue']), (df.loc[df['city'] != 'Москва', 'monthly_revenue']))\n",
    "print('p-значение:', results.pvalue.round(3))\n",
    "\n",
    "if results.pvalue < alpha:\n",
    "    print(\"Отвергаем нулевую гипотезу\")\n",
    "else:\n",
    "    print(\"Не получилось отвергнуть нулевую гипотезу\")"
   ]
  },
  {
   "cell_type": "markdown",
   "metadata": {},
   "source": [
    "Из полученных данных следует, что мы не можем отвергнуть гипотезу, что средняя ежемесячная выручка от клиентов из Москвы равна выручке от клиентов из других городов. Уровень значимости p-value очень высокий и показывает, что с вероятностью в почти 53% такое или большее различие в выборочном среднем ежемесячной выручки можно получить случайно."
   ]
  },
  {
   "cell_type": "markdown",
   "metadata": {},
   "source": [
    "**Промежуточные выводы:**\n",
    "* Результаты статистического анализа средней выручки компании от пользователей тарифов «Ультра» и «Смарт» позволяют с уверенностью отвергнуть нулевую гипотезу, о том, что они равны.\n",
    "* Результаты статистического анализа средней выручки компании от пользователей из Москвы и других регионов свидетельствуют, что с высокой степенью вероятности (53%) мы не можем отвергнуть гипотезу, что средняя ежемесячная выручка от клиентов из Москвы равна выручке от клиентов из других городов."
   ]
  },
  {
   "cell_type": "markdown",
   "metadata": {},
   "source": [
    "## Общие выводы"
   ]
  },
  {
   "cell_type": "markdown",
   "metadata": {},
   "source": [
    "Сформулируем основные выводы по результатам проекта:\n",
    "\n",
    "* Объектом исследования является выборка из 500-т клиентов компании \"Мегалайн\", использующих тарифы \"Смарт\" и \"Ультра\". Возраст клиентов варьируется от 18 до 75 лет. Количество уникальных населенных пунктов в выборке - 76.\n",
    "* Минимальная продолжительность звонка составляла 0 мин (звонок мог быть пропущен или сброшен), максимальная продолжительность разговора - 38 минут. Доля пропущенных (несостоявшихся) звонков в имеющейся выборке - 19,6%. Средняя продолжительность состоявшегося разговора около 9 минут.\n",
    "* Доля пользователей, пользующихся тарифами \"Смарт\" в имеющейся выборке, составляет 69%, тарифом \"Ультра\" - 31%.\n",
    "* Средняя продолжительность разговоров в месяц составляет 417 мин для тарифа \"Смарт\" и 526 минут для тарифа \"Ультра\". Стандартное отклонение равно 190 и 317 минут соответственно.\n",
    "* Среднее число отправленных смс в месяц составляет 33 шт для тарифа \"Смарт\" и 49 минут для тарифа \"Ультра\". Стандартное отклонение равно 28 и 47 шт соответственно.\n",
    "* Среднее количество интернет-трафика, использованного пользователями по тарифу \"Смарт\" равно 16229 Мб, по тарифу \"Ультра\" - 19486 Мб. Стандартные отклонения равны 5877 и 10096 Мб соответственно. \n",
    "* Общая ежемесячная выручка компании от имеющейся выборки пользователей составляет: 4928251 руб.\n",
    "* Общая выручка компании от абонентской платы составляет 3149200 руб.\n",
    "* Общие переплаты пользователей сверх установленной абонентской платы составляют: 1779051 руб (или 36.1% от общей выручки)\n",
    "* Переплаты пользователей сверх тарифа \"Смарт\" составляют: 1659801 руб. или 93.3 % от всего объема переплат, по тарифу \"Ультра\": 119250 руб. или 6.7 %. Пользователи тарифа \"Смарт\", несут значительные дополнительные расходы сверх тарифного плана. Для тарифного плана \"Ультра\" дополнительные расходы пользователей сверх абонентской платы минимальны.\n",
    "* Общая выручка компании от тарифа \"Смарт\" из имеющейся выборки пользователей составляет 2886301 руб. Общая выручка компании от тарифа \"Ультра\" составляет 2041950 руб.\n",
    "* Средняя ежемесячная выручка компании с пользователя на тарифе \"Смарт\" составляет 1294 руб.Средняя ежемесячная выручка компании с пользователя на тарифе \"Ультра\" составляет 2071 руб.\n",
    "* Результаты статистического анализа средней выручки компании от пользователей тарифов «Ультра» и «Смарт» позволяют с уверенностью отвергнуть нулевую гипотезу, о том, что они равны.\n",
    "* Результаты статистического анализа средней выручки компании от пользователей из Москвы и других регионов свидетельствуют, что с высокой степенью вероятности (53%) мы не можем отвергнуть гипотезу, что средняя ежемесячная выручка от клиентов из Москвы равна выручке от клиентов из других городов.\n",
    "\n",
    "Общая рекомендация коммерческому департаменту, который запрашивал информацию о том, какой тариф приносит больше выручки:\n",
    "* Наибольшую выручку компании обеспечивает тариф \"Смарт\"\n",
    "* Наиболее привлекательным тарифом для увеличения клиентской базы является тариф \"Ультра\"\n",
    "* Следует обратить внимание на значительные расходы клиентов тарифа \"Смарт\" сверх заложенных в условиях тарифа. С одной стороны - это выгодно компании и обеспечивает высокую выручку. С другой стороны, для таких клиентов целесообразно оценить выгоду компании при их переходе на тариф \"Ультра\" или при введении нового тарифа."
   ]
  }
 ],
 "metadata": {
  "kernelspec": {
   "display_name": "Python 3",
   "language": "python",
   "name": "python3"
  },
  "language_info": {
   "codemirror_mode": {
    "name": "ipython",
    "version": 3
   },
   "file_extension": ".py",
   "mimetype": "text/x-python",
   "name": "python",
   "nbconvert_exporter": "python",
   "pygments_lexer": "ipython3",
   "version": "3.8.5"
  },
  "toc": {
   "base_numbering": 1,
   "nav_menu": {},
   "number_sections": true,
   "sideBar": true,
   "skip_h1_title": true,
   "title_cell": "Содержание",
   "title_sidebar": "Содержание",
   "toc_cell": true,
   "toc_position": {
    "height": "calc(100% - 180px)",
    "left": "10px",
    "top": "150px",
    "width": "443px"
   },
   "toc_section_display": true,
   "toc_window_display": true
  }
 },
 "nbformat": 4,
 "nbformat_minor": 2
}
