{
 "cells": [
  {
   "cell_type": "markdown",
   "metadata": {},
   "source": [
    "# Анализ данных продуктового мобильного приложения\n",
    "\n",
    "\n",
    "**Цели и задачи проекта:** проанализировать поведение пользователей, приобретающих продукты питания через мобильное приложение, и исследовать результаты A/A/B-эксперимента по влиянию изменения шрифта в приложении на действия пользователей.\n",
    "\n",
    "**Входные данные:** записи в логе о действиях пользователей (событиях) 3-х экспериментальных групп во времени.\n",
    "\n",
    "**Обозначения категорий исходных данных:** Исходные данные для проекта содержатся в файле формата csv. Обозначения переменных для исходного датасета logs_exp.csv приведены ниже:\n",
    "\n",
    "* *EventName* — название события,\n",
    "* *DeviceIDHash* — уникальный идентификатор пользователя,\n",
    "* *EventTimestamp* — время события,\n",
    "* *ExpId* — номер эксперимента: 246 (А, А1) и 247 (А, А2) — контрольные группы, а 248 (В) — экспериментальная группа.\n",
    "\n",
    "**План работы** над проектом включает в себя выполнение следующих шагов:\n",
    "\n",
    "* *Импорт данных и изучение общей информации.* На первом этапе исследуем общую информацию об имеющихся у нас в распоряжении данных, их типах, полноте и правильности представления. Предварительно оценим объем данных в исходном датасете, а также присутствие пропусков и дубликатов. Импортируем дополнительные библиотеки, необходимые для анализа и визуализации данных.\n",
    "\n",
    "* *Подготовка данных.* В этой части работы обращаем пристальное внимание на недостатки исходных данных и их релевантность: анализируем пропуски, приводим названия колонок датасета к нижнему регистру и, при необходимости, переименовываем. Преобразуем данные о времени события в удобный формат, проверяем записи на присутствие ошибочных значений и обрабатываем дубликаты с целью исключения искажений в результатах.\n",
    "\n",
    "* *Изучение и проверка данных.* Важный этап работы, связанный с изучением зафиксированных уникальных событий - их названий и временного интервала, в котором они происходили. Проверяется среднее число всех событий, связанных с пользователями, и полнота данных лога. Изучается процентное распределение пользователей по 3-м экспериментальным группам.\n",
    "\n",
    "* *Изучение воронки событий.* В разделе уделяется внимание событиям, отраженным в логах, и частоте, с которой их совершали пользователи. Выделяются последовательные события. Рассматривается воронка событий, иллюстрирующая последовательное изменение числа совершенных действий пользователями.\n",
    "\n",
    "* *Анализ результатов A/A/B-эксперимента.* Проводится анализ соответствия А/А/В-эксперимента условиям организации теста (проверяется соотношение числа пользователей в каждой экспериментальной группе и их уникальность). Оценивается разница в статистических критериях контрольных групп A1/A2 для проверки точности проведенного тестирования. Исследуется статистическая разница по доле пользовательских событий в контрольных и целевых группах.\n",
    "\n",
    "* *Формулирование общего вывода*. На заключительном этапе приводится сумма выводов и рекомендаций по каждой части выполненного проекта. В общем выводе, на основе имеющихся данных и анализа, мы отразим степень влияния нового шрифта на поведенческие характеристики пользователей."
   ]
  },
  {
   "cell_type": "markdown",
   "metadata": {
    "toc": true
   },
   "source": [
    "<h1>Содержание<span class=\"tocSkip\"></span></h1>\n",
    "<div class=\"toc\"><ul class=\"toc-item\"><li><span><a href=\"#Импорт-данных-и-изучение-общей-информации\" data-toc-modified-id=\"Импорт-данных-и-изучение-общей-информации-1\"><span class=\"toc-item-num\">1&nbsp;&nbsp;</span>Импорт данных и изучение общей информации</a></span></li><li><span><a href=\"#Подготовка-данных\" data-toc-modified-id=\"Подготовка-данных-2\"><span class=\"toc-item-num\">2&nbsp;&nbsp;</span>Подготовка данных</a></span></li><li><span><a href=\"#Изучение-и-проверка-данных\" data-toc-modified-id=\"Изучение-и-проверка-данных-3\"><span class=\"toc-item-num\">3&nbsp;&nbsp;</span>Изучение и проверка данных</a></span></li><li><span><a href=\"#Изучение-воронки-событий\" data-toc-modified-id=\"Изучение-воронки-событий-4\"><span class=\"toc-item-num\">4&nbsp;&nbsp;</span>Изучение воронки событий</a></span></li><li><span><a href=\"#Анализ-результатов-A/A/B-эксперимента\" data-toc-modified-id=\"Анализ-результатов-A/A/B-эксперимента-5\"><span class=\"toc-item-num\">5&nbsp;&nbsp;</span>Анализ результатов A/A/B-эксперимента</a></span><ul class=\"toc-item\"><li><span><a href=\"#Число-и-уникальность-пользователей-в-экспериментальных-группах\" data-toc-modified-id=\"Число-и-уникальность-пользователей-в-экспериментальных-группах-5.1\"><span class=\"toc-item-num\">5.1&nbsp;&nbsp;</span>Число и уникальность пользователей в экспериментальных группах</a></span></li><li><span><a href=\"#Оценка-разницы-в-статистических-критериях-для-контрольных-групп-A/A\" data-toc-modified-id=\"Оценка-разницы-в-статистических-критериях-для-контрольных-групп-A/A-5.2\"><span class=\"toc-item-num\">5.2&nbsp;&nbsp;</span>Оценка разницы в статистических критериях для контрольных групп A/A</a></span><ul class=\"toc-item\"><li><span><a href=\"#Оценка-статистической-разницы-в-конверсии-для-контрольных-групп\" data-toc-modified-id=\"Оценка-статистической-разницы-в-конверсии-для-контрольных-групп-5.2.1\"><span class=\"toc-item-num\">5.2.1&nbsp;&nbsp;</span>Оценка статистической разницы в конверсии для контрольных групп</a></span></li><li><span><a href=\"#Оценка-статистической-разницы-в-конверсии-для-контрольной-группы-А1-и-целевой-группы-В\" data-toc-modified-id=\"Оценка-статистической-разницы-в-конверсии-для-контрольной-группы-А1-и-целевой-группы-В-5.2.2\"><span class=\"toc-item-num\">5.2.2&nbsp;&nbsp;</span>Оценка статистической разницы в конверсии для контрольной группы А1 и целевой группы В</a></span></li><li><span><a href=\"#Оценка-статистической-разницы-по-доле-пользовательских-событий-в-контрольных-группах\" data-toc-modified-id=\"Оценка-статистической-разницы-по-доле-пользовательских-событий-в-контрольных-группах-5.2.3\"><span class=\"toc-item-num\">5.2.3&nbsp;&nbsp;</span>Оценка статистической разницы по доле пользовательских событий в контрольных группах</a></span></li></ul></li><li><span><a href=\"#Оценка-разницы-в-статистических-критериях-для-контрольных-и-целевой-групп\" data-toc-modified-id=\"Оценка-разницы-в-статистических-критериях-для-контрольных-и-целевой-групп-5.3\"><span class=\"toc-item-num\">5.3&nbsp;&nbsp;</span>Оценка разницы в статистических критериях для контрольных и целевой групп</a></span><ul class=\"toc-item\"><li><span><a href=\"#Оценка-статистической-разницы-по-доле-пользовательских-событий-между-A1/B-группами\" data-toc-modified-id=\"Оценка-статистической-разницы-по-доле-пользовательских-событий-между-A1/B-группами-5.3.1\"><span class=\"toc-item-num\">5.3.1&nbsp;&nbsp;</span>Оценка статистической разницы по доле пользовательских событий между A1/B группами</a></span></li><li><span><a href=\"#Оценка-статистической-разницы-по-доле-пользовательских-событий-между-A2/B-группами\" data-toc-modified-id=\"Оценка-статистической-разницы-по-доле-пользовательских-событий-между-A2/B-группами-5.3.2\"><span class=\"toc-item-num\">5.3.2&nbsp;&nbsp;</span>Оценка статистической разницы по доле пользовательских событий между A2/B группами</a></span></li><li><span><a href=\"#Оценка-статистической-разницы-по-доле-пользовательских-событий-между-(А1+A2)/B-группами\" data-toc-modified-id=\"Оценка-статистической-разницы-по-доле-пользовательских-событий-между-(А1+A2)/B-группами-5.3.3\"><span class=\"toc-item-num\">5.3.3&nbsp;&nbsp;</span>Оценка статистической разницы по доле пользовательских событий между (А1+A2)/B группами</a></span></li></ul></li><li><span><a href=\"#Влияние-уровня-значимости-при-проверке-статистических-гипотез\" data-toc-modified-id=\"Влияние-уровня-значимости-при-проверке-статистических-гипотез-5.4\"><span class=\"toc-item-num\">5.4&nbsp;&nbsp;</span>Влияние уровня значимости при проверке статистических гипотез</a></span></li></ul></li><li><span><a href=\"#Общие-выводы\" data-toc-modified-id=\"Общие-выводы-6\"><span class=\"toc-item-num\">6&nbsp;&nbsp;</span>Общие выводы</a></span></li></ul></div>"
   ]
  },
  {
   "cell_type": "markdown",
   "metadata": {},
   "source": [
    "## Импорт данных и изучение общей информации"
   ]
  },
  {
   "cell_type": "code",
   "execution_count": 1,
   "metadata": {},
   "outputs": [],
   "source": [
    "# установка обновлений пакетов Seaborn и Plotly для визуализации данных\n",
    "!pip install seaborn==0.11.2 -q\n",
    "!pip install plotly==5.1.0 -q"
   ]
  },
  {
   "cell_type": "code",
   "execution_count": 2,
   "metadata": {},
   "outputs": [],
   "source": [
    "import pandas as pd\n",
    "import numpy as np\n",
    "import math as mth\n",
    "from scipy import stats as st\n",
    "\n",
    "# графические библиотеки\n",
    "import matplotlib.pyplot as plt\n",
    "pd.plotting.register_matplotlib_converters()\n",
    "import seaborn as sns\n",
    "import plotly.express as px\n",
    "import plotly.graph_objects as go"
   ]
  },
  {
   "cell_type": "code",
   "execution_count": 3,
   "metadata": {},
   "outputs": [],
   "source": [
    "# получение статичных изображений графиков plotly для отображения на GitHub\n",
    "import plotly.io as pio\n",
    "pio.renderers.default = \"svg\""
   ]
  },
  {
   "cell_type": "code",
   "execution_count": 4,
   "metadata": {},
   "outputs": [],
   "source": [
    "df = pd.read_csv('logs_exp.csv', sep='\\t')"
   ]
  },
  {
   "cell_type": "markdown",
   "metadata": {},
   "source": [
    "Получим предварительную информацию о имеющемся датасете:"
   ]
  },
  {
   "cell_type": "code",
   "execution_count": 5,
   "metadata": {},
   "outputs": [],
   "source": [
    "def general_info(dataset):\n",
    "    \"\"\"\n",
    "    Функция дает краткую информацию о размере датасета и типах данных, а также проверяет на присутствие полных дубликатов\n",
    "    \"\"\"\n",
    "    # оформление комментариев при выводе данных\n",
    "    class color:\n",
    "       RED = '\\033[91m'\n",
    "       BOLD = '\\033[1m'\n",
    "       END = '\\033[0m'\n",
    "    \n",
    "    # Вывод всех колонок датасета из запроса\n",
    "    print('')\n",
    "    print(color.RED + color.BOLD + 'Информация, включающая записи датасета:' + color.END)\n",
    "    pd.set_option('display.max_columns', None)\n",
    "    pd.set_option('display.max_colwidth', 130)\n",
    "    display(dataset.head())\n",
    "    \n",
    "    # Вывод информации о размере датасета, типе данных и пропущенных значениях \n",
    "      \n",
    "    print(color.RED + color.BOLD + 'Информация о размере датасета, типе данных и пропущенных значениях:' + color.END)\n",
    "    print('')\n",
    "    dataset.info()\n",
    "          \n",
    "    # Вывод информации о количестве дубликатов\n",
    "    print('')\n",
    "    duplicates_amount = dataset.duplicated().sum()\n",
    "    duplicates_pct = duplicates_amount / len(dataset) * 100\n",
    "    print(color.RED + color.BOLD + 'Количество полных дубликатов в данных:'+ color.END, duplicates_amount)\n",
    "    print(color.RED + color.BOLD + '% полных дубликатов в данных:'+ color.END, duplicates_pct.round(2))"
   ]
  },
  {
   "cell_type": "code",
   "execution_count": 6,
   "metadata": {},
   "outputs": [
    {
     "name": "stdout",
     "output_type": "stream",
     "text": [
      "\n",
      "\u001b[91m\u001b[1mИнформация, включающая записи датасета:\u001b[0m\n"
     ]
    },
    {
     "data": {
      "text/html": [
       "<div>\n",
       "<style scoped>\n",
       "    .dataframe tbody tr th:only-of-type {\n",
       "        vertical-align: middle;\n",
       "    }\n",
       "\n",
       "    .dataframe tbody tr th {\n",
       "        vertical-align: top;\n",
       "    }\n",
       "\n",
       "    .dataframe thead th {\n",
       "        text-align: right;\n",
       "    }\n",
       "</style>\n",
       "<table border=\"1\" class=\"dataframe\">\n",
       "  <thead>\n",
       "    <tr style=\"text-align: right;\">\n",
       "      <th></th>\n",
       "      <th>EventName</th>\n",
       "      <th>DeviceIDHash</th>\n",
       "      <th>EventTimestamp</th>\n",
       "      <th>ExpId</th>\n",
       "    </tr>\n",
       "  </thead>\n",
       "  <tbody>\n",
       "    <tr>\n",
       "      <th>0</th>\n",
       "      <td>MainScreenAppear</td>\n",
       "      <td>4575588528974610257</td>\n",
       "      <td>1564029816</td>\n",
       "      <td>246</td>\n",
       "    </tr>\n",
       "    <tr>\n",
       "      <th>1</th>\n",
       "      <td>MainScreenAppear</td>\n",
       "      <td>7416695313311560658</td>\n",
       "      <td>1564053102</td>\n",
       "      <td>246</td>\n",
       "    </tr>\n",
       "    <tr>\n",
       "      <th>2</th>\n",
       "      <td>PaymentScreenSuccessful</td>\n",
       "      <td>3518123091307005509</td>\n",
       "      <td>1564054127</td>\n",
       "      <td>248</td>\n",
       "    </tr>\n",
       "    <tr>\n",
       "      <th>3</th>\n",
       "      <td>CartScreenAppear</td>\n",
       "      <td>3518123091307005509</td>\n",
       "      <td>1564054127</td>\n",
       "      <td>248</td>\n",
       "    </tr>\n",
       "    <tr>\n",
       "      <th>4</th>\n",
       "      <td>PaymentScreenSuccessful</td>\n",
       "      <td>6217807653094995999</td>\n",
       "      <td>1564055322</td>\n",
       "      <td>248</td>\n",
       "    </tr>\n",
       "  </tbody>\n",
       "</table>\n",
       "</div>"
      ],
      "text/plain": [
       "                 EventName         DeviceIDHash  EventTimestamp  ExpId\n",
       "0         MainScreenAppear  4575588528974610257      1564029816    246\n",
       "1         MainScreenAppear  7416695313311560658      1564053102    246\n",
       "2  PaymentScreenSuccessful  3518123091307005509      1564054127    248\n",
       "3         CartScreenAppear  3518123091307005509      1564054127    248\n",
       "4  PaymentScreenSuccessful  6217807653094995999      1564055322    248"
      ]
     },
     "metadata": {},
     "output_type": "display_data"
    },
    {
     "name": "stdout",
     "output_type": "stream",
     "text": [
      "\u001b[91m\u001b[1mИнформация о размере датасета, типе данных и пропущенных значениях:\u001b[0m\n",
      "\n",
      "<class 'pandas.core.frame.DataFrame'>\n",
      "RangeIndex: 244126 entries, 0 to 244125\n",
      "Data columns (total 4 columns):\n",
      " #   Column          Non-Null Count   Dtype \n",
      "---  ------          --------------   ----- \n",
      " 0   EventName       244126 non-null  object\n",
      " 1   DeviceIDHash    244126 non-null  int64 \n",
      " 2   EventTimestamp  244126 non-null  int64 \n",
      " 3   ExpId           244126 non-null  int64 \n",
      "dtypes: int64(3), object(1)\n",
      "memory usage: 7.5+ MB\n",
      "\n",
      "\u001b[91m\u001b[1mКоличество полных дубликатов в данных:\u001b[0m 413\n",
      "\u001b[91m\u001b[1m% полных дубликатов в данных:\u001b[0m 0.17\n"
     ]
    }
   ],
   "source": [
    "general_info(df)"
   ]
  },
  {
   "cell_type": "markdown",
   "metadata": {},
   "source": [
    "**Промежуточные выводы**\n",
    "* Данные файла-лога формата csv представлены в требуемой кодировке и не имеют нечитаемых символов;\n",
    "* Исходный датасет содержит 244126 записей с информацией о поведении пользователей и их принадлежности к группам А/А/В теста;\n",
    "* Большинство параметров датасета представлены верным типом данных. Исключением является формат времени зафиксированного события. Эта переменная приводится в виде целого числа, обозначающего Unix-время, и для детального анализа требует перевода в формат *datetime64*;\n",
    "* Названия колонок датасета требуется привести к нижнему регистру и переименовать в более удобные для восприятия названия;\n",
    "* Датасет не содержит пропуски, но включает 413 дубликатов."
   ]
  },
  {
   "cell_type": "markdown",
   "metadata": {},
   "source": [
    "## Подготовка данных"
   ]
  },
  {
   "cell_type": "markdown",
   "metadata": {},
   "source": [
    "Удалим из датасета строки-дубликаты и переименуем названия колонок датасета:"
   ]
  },
  {
   "cell_type": "code",
   "execution_count": 7,
   "metadata": {},
   "outputs": [],
   "source": [
    "df = df.drop_duplicates()"
   ]
  },
  {
   "cell_type": "code",
   "execution_count": 8,
   "metadata": {},
   "outputs": [],
   "source": [
    "df = df.rename(columns={\n",
    "    'EventName': 'event_name',\n",
    "    'DeviceIDHash': 'user_id',\n",
    "    'EventTimestamp': 'event_timestamp',\n",
    "    'ExpId':'group'\n",
    "})"
   ]
  },
  {
   "cell_type": "markdown",
   "metadata": {},
   "source": [
    "Изменим исходную форму представления (unix timestamp) и тип данных столбца *event_timestamp* - времени, когда зафиксировано событие - и выделим отдельно столбец с датой:"
   ]
  },
  {
   "cell_type": "code",
   "execution_count": 9,
   "metadata": {},
   "outputs": [],
   "source": [
    "df['event_timestamp'] = pd.to_datetime(df['event_timestamp'], unit='s')"
   ]
  },
  {
   "cell_type": "code",
   "execution_count": 10,
   "metadata": {},
   "outputs": [],
   "source": [
    "df['month'] = df['event_timestamp'].dt.date\n",
    "df['month'] = pd.to_datetime(df['month'], format='%Y-%m-%d')"
   ]
  },
  {
   "cell_type": "markdown",
   "metadata": {},
   "source": [
    "Присвоим группам 246 и 247 флаг А, а группе 248 - флаг В, для удобства последующего объединения контрольных групп:"
   ]
  },
  {
   "cell_type": "code",
   "execution_count": 11,
   "metadata": {},
   "outputs": [],
   "source": [
    "df.loc[df['group'] == 246, 'group_name'] = 'A'\n",
    "df.loc[df['group'] == 247, 'group_name'] = 'A'\n",
    "df.loc[df['group'] == 248, 'group_name'] = 'B'"
   ]
  },
  {
   "cell_type": "code",
   "execution_count": 12,
   "metadata": {},
   "outputs": [
    {
     "data": {
      "text/html": [
       "<div>\n",
       "<style scoped>\n",
       "    .dataframe tbody tr th:only-of-type {\n",
       "        vertical-align: middle;\n",
       "    }\n",
       "\n",
       "    .dataframe tbody tr th {\n",
       "        vertical-align: top;\n",
       "    }\n",
       "\n",
       "    .dataframe thead th {\n",
       "        text-align: right;\n",
       "    }\n",
       "</style>\n",
       "<table border=\"1\" class=\"dataframe\">\n",
       "  <thead>\n",
       "    <tr style=\"text-align: right;\">\n",
       "      <th></th>\n",
       "      <th>event_name</th>\n",
       "      <th>user_id</th>\n",
       "      <th>event_timestamp</th>\n",
       "      <th>group</th>\n",
       "      <th>month</th>\n",
       "      <th>group_name</th>\n",
       "    </tr>\n",
       "  </thead>\n",
       "  <tbody>\n",
       "    <tr>\n",
       "      <th>0</th>\n",
       "      <td>MainScreenAppear</td>\n",
       "      <td>4575588528974610257</td>\n",
       "      <td>2019-07-25 04:43:36</td>\n",
       "      <td>246</td>\n",
       "      <td>2019-07-25</td>\n",
       "      <td>A</td>\n",
       "    </tr>\n",
       "    <tr>\n",
       "      <th>1</th>\n",
       "      <td>MainScreenAppear</td>\n",
       "      <td>7416695313311560658</td>\n",
       "      <td>2019-07-25 11:11:42</td>\n",
       "      <td>246</td>\n",
       "      <td>2019-07-25</td>\n",
       "      <td>A</td>\n",
       "    </tr>\n",
       "    <tr>\n",
       "      <th>2</th>\n",
       "      <td>PaymentScreenSuccessful</td>\n",
       "      <td>3518123091307005509</td>\n",
       "      <td>2019-07-25 11:28:47</td>\n",
       "      <td>248</td>\n",
       "      <td>2019-07-25</td>\n",
       "      <td>B</td>\n",
       "    </tr>\n",
       "    <tr>\n",
       "      <th>3</th>\n",
       "      <td>CartScreenAppear</td>\n",
       "      <td>3518123091307005509</td>\n",
       "      <td>2019-07-25 11:28:47</td>\n",
       "      <td>248</td>\n",
       "      <td>2019-07-25</td>\n",
       "      <td>B</td>\n",
       "    </tr>\n",
       "    <tr>\n",
       "      <th>4</th>\n",
       "      <td>PaymentScreenSuccessful</td>\n",
       "      <td>6217807653094995999</td>\n",
       "      <td>2019-07-25 11:48:42</td>\n",
       "      <td>248</td>\n",
       "      <td>2019-07-25</td>\n",
       "      <td>B</td>\n",
       "    </tr>\n",
       "  </tbody>\n",
       "</table>\n",
       "</div>"
      ],
      "text/plain": [
       "                event_name              user_id     event_timestamp  group  \\\n",
       "0         MainScreenAppear  4575588528974610257 2019-07-25 04:43:36    246   \n",
       "1         MainScreenAppear  7416695313311560658 2019-07-25 11:11:42    246   \n",
       "2  PaymentScreenSuccessful  3518123091307005509 2019-07-25 11:28:47    248   \n",
       "3         CartScreenAppear  3518123091307005509 2019-07-25 11:28:47    248   \n",
       "4  PaymentScreenSuccessful  6217807653094995999 2019-07-25 11:48:42    248   \n",
       "\n",
       "       month group_name  \n",
       "0 2019-07-25          A  \n",
       "1 2019-07-25          A  \n",
       "2 2019-07-25          B  \n",
       "3 2019-07-25          B  \n",
       "4 2019-07-25          B  "
      ]
     },
     "execution_count": 12,
     "metadata": {},
     "output_type": "execute_result"
    }
   ],
   "source": [
    "df.head()"
   ]
  },
  {
   "cell_type": "markdown",
   "metadata": {},
   "source": [
    "**Промежуточные выводы**\n",
    "* Строки-дубликаты были исключены из датасета;\n",
    "* Названия колонок датасета приведены к дружественной для анализа форме;\n",
    "* Формат Unix-времени преобразован в формат *datetime64*."
   ]
  },
  {
   "cell_type": "markdown",
   "metadata": {},
   "source": [
    "## Изучение и проверка данных"
   ]
  },
  {
   "cell_type": "markdown",
   "metadata": {},
   "source": [
    "(1) Определим из данных лога число уникальных событий и выведем их названия:"
   ]
  },
  {
   "cell_type": "code",
   "execution_count": 13,
   "metadata": {},
   "outputs": [
    {
     "name": "stdout",
     "output_type": "stream",
     "text": [
      "Число уникальных событий: 5\n",
      "['MainScreenAppear', 'PaymentScreenSuccessful', 'CartScreenAppear', 'OffersScreenAppear', 'Tutorial']\n"
     ]
    }
   ],
   "source": [
    "print('Число уникальных событий:', df['event_name'].nunique())\n",
    "events = df['event_name'].unique().tolist()\n",
    "print(events)"
   ]
  },
  {
   "cell_type": "markdown",
   "metadata": {},
   "source": [
    "(2) Выведем число уникальных пользователей, представленных в логе:"
   ]
  },
  {
   "cell_type": "code",
   "execution_count": 14,
   "metadata": {},
   "outputs": [
    {
     "data": {
      "text/plain": [
       "7551"
      ]
     },
     "execution_count": 14,
     "metadata": {},
     "output_type": "execute_result"
    }
   ],
   "source": [
    "n_unique_users = df['user_id'].nunique()\n",
    "n_unique_users"
   ]
  },
  {
   "cell_type": "markdown",
   "metadata": {},
   "source": [
    "(3) Определим среднее число всех событий, связанных с пользователями, а также среднее число уникальных событий (события округлены до ближайшего целого числа):"
   ]
  },
  {
   "cell_type": "code",
   "execution_count": 15,
   "metadata": {},
   "outputs": [
    {
     "name": "stdout",
     "output_type": "stream",
     "text": [
      "Среднее число событий, которое приходится на пользователя: 33.0\n",
      "Среднее число уникальных событий, которое приходится на пользователя: 3.0\n"
     ]
    }
   ],
   "source": [
    "n_events = (\n",
    "    df.groupby('user_id')\n",
    "      .agg({'event_name': ['count', 'nunique']})\n",
    "      .droplevel(0, axis=1)\n",
    "      .reset_index()\n",
    "      .rename(columns={'count':'all_events', 'nunique':'unique_events'})\n",
    ")\n",
    "\n",
    "print('Среднее число событий, которое приходится на пользователя:', np.ceil(n_events['all_events'].mean()))\n",
    "print('Среднее число уникальных событий, которое приходится на пользователя:', np.ceil(n_events['unique_events'].mean()))"
   ]
  },
  {
   "cell_type": "markdown",
   "metadata": {},
   "source": [
    "(4) Определим интервал дат, который доступен для проведения анализа данных и проанализируем полноту данных:"
   ]
  },
  {
   "cell_type": "code",
   "execution_count": 16,
   "metadata": {},
   "outputs": [
    {
     "name": "stdout",
     "output_type": "stream",
     "text": [
      "Начальная дата: 2019-07-25 00:00:00\n",
      "Конечная дата: 2019-08-07 00:00:00\n"
     ]
    }
   ],
   "source": [
    "print('Начальная дата:', df['month'].min())\n",
    "print('Конечная дата:', df['month'].max())"
   ]
  },
  {
   "cell_type": "markdown",
   "metadata": {},
   "source": [
    "Построим гистограмму распределения событий по дате и времени:"
   ]
  },
  {
   "cell_type": "code",
   "execution_count": 17,
   "metadata": {},
   "outputs": [
    {
     "data": {
      "image/png": "[encoded data removed]",
      "text/plain": [
       "<Figure size 1152x576 with 1 Axes>"
      ]
     },
     "metadata": {
      "needs_background": "light"
     },
     "output_type": "display_data"
    }
   ],
   "source": [
    "plt.figure(figsize=(16, 8))\n",
    "g = sns.histplot(data = df, x='event_timestamp')\n",
    "g.set_title('Гистограмма распределения исходных данных по дате и времени')\n",
    "g.set_ylabel('Количество записей')\n",
    "g.set_xlabel('Дата')\n",
    "sns.despine(left=True, bottom=False, right=True)\n",
    "plt.show()"
   ]
  },
  {
   "cell_type": "markdown",
   "metadata": {},
   "source": [
    "Из гистограммы видно, что имеющиеся данные за весь период с 25 июля по 7 августа 2019 г. нельзя считать одинаково полными. \"Перекос\", наблюдаемый в логах, требуется устранить путём исключения неполных старых данных. Началом периода, где данные представлены в полном объеме, примем 1 августа 2019 г, его окончанием - 7 августа 2019 г."
   ]
  },
  {
   "cell_type": "markdown",
   "metadata": {},
   "source": [
    "Сформируем обновлённый датасет в интересующем нас интервале дат:"
   ]
  },
  {
   "cell_type": "code",
   "execution_count": 18,
   "metadata": {},
   "outputs": [],
   "source": [
    "full_records = df.loc[(df['month'] >= '2019-08-01')] "
   ]
  },
  {
   "cell_type": "code",
   "execution_count": 19,
   "metadata": {},
   "outputs": [
    {
     "data": {
      "image/png": "[encoded data removed]",
      "text/plain": [
       "<Figure size 1152x576 with 1 Axes>"
      ]
     },
     "metadata": {
      "needs_background": "light"
     },
     "output_type": "display_data"
    }
   ],
   "source": [
    "plt.figure(figsize=(16, 8))\n",
    "g = sns.histplot(data = full_records, x='event_timestamp')\n",
    "g.set_title('Гистограмма распределения \"очищенных\" данных по дате и времени')\n",
    "g.set_ylabel('Количество записей')\n",
    "g.set_xlabel('Дата')\n",
    "sns.despine(left=True, bottom=False, right=True)\n",
    "plt.show()"
   ]
  },
  {
   "cell_type": "markdown",
   "metadata": {},
   "source": [
    "(5) Определим, какое количество событий и пользователей были выведены из данных для анализа, после исключения старых данных:"
   ]
  },
  {
   "cell_type": "code",
   "execution_count": 20,
   "metadata": {},
   "outputs": [
    {
     "name": "stdout",
     "output_type": "stream",
     "text": [
      "Число и % исключённых из анализа:\n",
      "- пользователей: 17 (0.2%)\n",
      "- событий: 2826 (1.2%)\n"
     ]
    }
   ],
   "source": [
    "n_excluded_users = df['user_id'].nunique() - full_records['user_id'].nunique()\n",
    "pct_excluded_users = n_excluded_users / df['user_id'].nunique()\n",
    "print('Число и % исключённых из анализа:')\n",
    "print('- пользователей:', n_excluded_users, '({:.1%})'.format(pct_excluded_users))\n",
    "\n",
    "n_excluded_events = df['event_name'].count() - full_records['event_name'].count()\n",
    "pct_excluded_events = n_excluded_events / df['event_name'].count()\n",
    "print('- событий:', n_excluded_events, '({:.1%})'.format(pct_excluded_events))"
   ]
  },
  {
   "cell_type": "markdown",
   "metadata": {},
   "source": [
    "Незначительная доля исключённых из датасета числа пользователей и совершенных ими событий позволяет продолжить дальнейший анализ данных."
   ]
  },
  {
   "cell_type": "markdown",
   "metadata": {},
   "source": [
    "(6) Проверим в каком соотношении представлены пользователи 3-х исследуемых экспериментальных групп:"
   ]
  },
  {
   "cell_type": "code",
   "execution_count": 21,
   "metadata": {},
   "outputs": [
    {
     "data": {
      "text/html": [
       "<div>\n",
       "<style scoped>\n",
       "    .dataframe tbody tr th:only-of-type {\n",
       "        vertical-align: middle;\n",
       "    }\n",
       "\n",
       "    .dataframe tbody tr th {\n",
       "        vertical-align: top;\n",
       "    }\n",
       "\n",
       "    .dataframe thead th {\n",
       "        text-align: right;\n",
       "    }\n",
       "</style>\n",
       "<table border=\"1\" class=\"dataframe\">\n",
       "  <thead>\n",
       "    <tr style=\"text-align: right;\">\n",
       "      <th></th>\n",
       "      <th>group</th>\n",
       "      <th>n_users</th>\n",
       "      <th>pct</th>\n",
       "    </tr>\n",
       "  </thead>\n",
       "  <tbody>\n",
       "    <tr>\n",
       "      <th>0</th>\n",
       "      <td>246</td>\n",
       "      <td>2484</td>\n",
       "      <td>32.97</td>\n",
       "    </tr>\n",
       "    <tr>\n",
       "      <th>1</th>\n",
       "      <td>247</td>\n",
       "      <td>2513</td>\n",
       "      <td>33.36</td>\n",
       "    </tr>\n",
       "    <tr>\n",
       "      <th>2</th>\n",
       "      <td>248</td>\n",
       "      <td>2537</td>\n",
       "      <td>33.67</td>\n",
       "    </tr>\n",
       "  </tbody>\n",
       "</table>\n",
       "</div>"
      ],
      "text/plain": [
       "   group  n_users    pct\n",
       "0    246     2484  32.97\n",
       "1    247     2513  33.36\n",
       "2    248     2537  33.67"
      ]
     },
     "execution_count": 21,
     "metadata": {},
     "output_type": "execute_result"
    }
   ],
   "source": [
    "groups_representation = full_records.groupby('group').agg({'user_id':'nunique'}).reset_index()\n",
    "groups_representation['pct'] = ((groups_representation['user_id'] / groups_representation['user_id'].sum()).round(4))*100\n",
    "groups_representation = groups_representation.rename(columns={'user_id':'n_users'})\n",
    "groups_representation"
   ]
  },
  {
   "cell_type": "markdown",
   "metadata": {},
   "source": [
    "Три экспериментальные группы представлены практически в равных пропорциях."
   ]
  },
  {
   "cell_type": "markdown",
   "metadata": {},
   "source": [
    "**Промежуточные выводы**\n",
    "* Число уникальных событий по данным лога равно 5;\n",
    "* Определен интервал дат для анализа данных с учётом их полноты: 1-7 августа 2019 г.;\n",
    "* Среднее число событий, которое приходится на пользователя в анализируемом временном интервале: 33. Среднее число уникальных событий, которое приходится на пользователя: 3;\n",
    "* Пользователи 3-х экспериментальных групп представлены в практически равных пропорциях (гр.246 - 2484 пользователя (32.97%), гр.247 - 2513 (33.36%), гр.248 - 2537 (33.67%)."
   ]
  },
  {
   "cell_type": "markdown",
   "metadata": {},
   "source": [
    "## Изучение воронки событий"
   ]
  },
  {
   "cell_type": "markdown",
   "metadata": {},
   "source": [
    "Посмотрим, какие события есть в логах, и как часто они встречаются. Отсортируем события по частоте."
   ]
  },
  {
   "cell_type": "code",
   "execution_count": 22,
   "metadata": {
    "scrolled": true
   },
   "outputs": [
    {
     "data": {
      "text/html": [
       "<div>\n",
       "<style scoped>\n",
       "    .dataframe tbody tr th:only-of-type {\n",
       "        vertical-align: middle;\n",
       "    }\n",
       "\n",
       "    .dataframe tbody tr th {\n",
       "        vertical-align: top;\n",
       "    }\n",
       "\n",
       "    .dataframe thead th {\n",
       "        text-align: right;\n",
       "    }\n",
       "</style>\n",
       "<table border=\"1\" class=\"dataframe\">\n",
       "  <thead>\n",
       "    <tr style=\"text-align: right;\">\n",
       "      <th></th>\n",
       "      <th>event_name</th>\n",
       "      <th>total_events</th>\n",
       "      <th>pct</th>\n",
       "    </tr>\n",
       "  </thead>\n",
       "  <tbody>\n",
       "    <tr>\n",
       "      <th>0</th>\n",
       "      <td>MainScreenAppear</td>\n",
       "      <td>117328</td>\n",
       "      <td>48.71</td>\n",
       "    </tr>\n",
       "    <tr>\n",
       "      <th>1</th>\n",
       "      <td>OffersScreenAppear</td>\n",
       "      <td>46333</td>\n",
       "      <td>19.23</td>\n",
       "    </tr>\n",
       "    <tr>\n",
       "      <th>2</th>\n",
       "      <td>CartScreenAppear</td>\n",
       "      <td>42303</td>\n",
       "      <td>17.56</td>\n",
       "    </tr>\n",
       "    <tr>\n",
       "      <th>3</th>\n",
       "      <td>PaymentScreenSuccessful</td>\n",
       "      <td>33918</td>\n",
       "      <td>14.08</td>\n",
       "    </tr>\n",
       "    <tr>\n",
       "      <th>4</th>\n",
       "      <td>Tutorial</td>\n",
       "      <td>1005</td>\n",
       "      <td>0.42</td>\n",
       "    </tr>\n",
       "  </tbody>\n",
       "</table>\n",
       "</div>"
      ],
      "text/plain": [
       "                event_name  total_events    pct\n",
       "0         MainScreenAppear        117328  48.71\n",
       "1       OffersScreenAppear         46333  19.23\n",
       "2         CartScreenAppear         42303  17.56\n",
       "3  PaymentScreenSuccessful         33918  14.08\n",
       "4                 Tutorial          1005   0.42"
      ]
     },
     "execution_count": 22,
     "metadata": {},
     "output_type": "execute_result"
    }
   ],
   "source": [
    "events = (\n",
    "    full_records.groupby('event_name')\n",
    "                .agg({'event_timestamp':'count'})\n",
    "                .rename(columns={'event_timestamp':'total_events'})\n",
    "                .sort_values(by='total_events', ascending=False)\n",
    "                .reset_index()\n",
    ")\n",
    "\n",
    "events['pct'] = ((events['total_events'] / events['total_events'].sum()).round(4))*100\n",
    "\n",
    "events"
   ]
  },
  {
   "cell_type": "markdown",
   "metadata": {},
   "source": [
    "Посчитаем, сколько пользователей совершали каждое из этих событий:"
   ]
  },
  {
   "cell_type": "code",
   "execution_count": 23,
   "metadata": {},
   "outputs": [
    {
     "data": {
      "text/html": [
       "<div>\n",
       "<style scoped>\n",
       "    .dataframe tbody tr th:only-of-type {\n",
       "        vertical-align: middle;\n",
       "    }\n",
       "\n",
       "    .dataframe tbody tr th {\n",
       "        vertical-align: top;\n",
       "    }\n",
       "\n",
       "    .dataframe thead th {\n",
       "        text-align: right;\n",
       "    }\n",
       "</style>\n",
       "<table border=\"1\" class=\"dataframe\">\n",
       "  <thead>\n",
       "    <tr style=\"text-align: right;\">\n",
       "      <th></th>\n",
       "      <th>event_name</th>\n",
       "      <th>total_users</th>\n",
       "      <th>pct_users</th>\n",
       "    </tr>\n",
       "  </thead>\n",
       "  <tbody>\n",
       "    <tr>\n",
       "      <th>0</th>\n",
       "      <td>MainScreenAppear</td>\n",
       "      <td>7419</td>\n",
       "      <td>98.47</td>\n",
       "    </tr>\n",
       "    <tr>\n",
       "      <th>1</th>\n",
       "      <td>OffersScreenAppear</td>\n",
       "      <td>4593</td>\n",
       "      <td>60.96</td>\n",
       "    </tr>\n",
       "    <tr>\n",
       "      <th>2</th>\n",
       "      <td>CartScreenAppear</td>\n",
       "      <td>3734</td>\n",
       "      <td>49.56</td>\n",
       "    </tr>\n",
       "    <tr>\n",
       "      <th>3</th>\n",
       "      <td>PaymentScreenSuccessful</td>\n",
       "      <td>3539</td>\n",
       "      <td>46.97</td>\n",
       "    </tr>\n",
       "    <tr>\n",
       "      <th>4</th>\n",
       "      <td>Tutorial</td>\n",
       "      <td>840</td>\n",
       "      <td>11.15</td>\n",
       "    </tr>\n",
       "  </tbody>\n",
       "</table>\n",
       "</div>"
      ],
      "text/plain": [
       "                event_name  total_users  pct_users\n",
       "0         MainScreenAppear         7419      98.47\n",
       "1       OffersScreenAppear         4593      60.96\n",
       "2         CartScreenAppear         3734      49.56\n",
       "3  PaymentScreenSuccessful         3539      46.97\n",
       "4                 Tutorial          840      11.15"
      ]
     },
     "execution_count": 23,
     "metadata": {},
     "output_type": "execute_result"
    }
   ],
   "source": [
    "events_and_users = (\n",
    "    full_records.groupby('event_name')\n",
    "                .agg({'user_id':'nunique'})\n",
    "                .rename(columns={'user_id':'total_users'})\n",
    "                .sort_values(by='total_users', ascending=False)\n",
    "                .reset_index()\n",
    ")\n",
    "\n",
    "n_total_users = n_unique_users - n_excluded_users\n",
    "events_and_users['pct_users'] = ((events_and_users['total_users'] / n_total_users)*100).round(2)\n",
    "\n",
    "events_and_users"
   ]
  },
  {
   "cell_type": "markdown",
   "metadata": {},
   "source": [
    "Из полученных данных видно, что часть событий выстраиваются в последовательную цепочку, а часть из них независимы. Появление главного экрана приложения *MainScreenAppear* - событие, которое в большинстве случаев (98.47%) открывает последовательную цепочку событий. В менее 2% случаев, этого не происходит, вероятно из-за возможности использования сторонних сервисов для перехода на экран с предложениями товаров, либо из-за неполноты данных в логах. Вторым последовательным событием является открытие экрана с предложениями товаров *OffersScreenAppear*. Этой стадии достигает более 60% от первоначального числа пользователей. Следующей стадией является возможность оплатить выбранные товары *CartScreenAppear*, до этого этапа доходят около 50% пользователей. Заключительным этапам в последовательности событий является появление уведомления, подтверждающего успешно проведенную оплату *PaymentScreenSuccessful*. Из данных видно, что практически 47% процентов пользователей от первоначального их числа совершили и оплатили покупку. При этом 195 человек, которые уже добавили товар в \"корзину\" и увидели экран с деталями оплаты, так и не завершили (или завершили неудачно) стадию оплаты. В приложении, имеется независимое от других событие (за исключением, видимо, появления главной страницы), связанное с использованием руководства по использованию приложения. Этой опцией за исследуемый период воспользовались около 11% пользователей."
   ]
  },
  {
   "cell_type": "markdown",
   "metadata": {},
   "source": [
    "Для расчета воронки событий будем использовать следующую последовательность: \n",
    "\n",
    "**событие A:** открытие приложения --> **событие B:** выбор товара --> **событие C:** оплата заказа --> **событие D:** подтверждение успешной оплаты."
   ]
  },
  {
   "cell_type": "markdown",
   "metadata": {},
   "source": [
    "Посчитаем по воронке событий, какая доля пользователей (от числа пользователей на предыдущем шаге) переходит на следующее последовательное событие:"
   ]
  },
  {
   "cell_type": "code",
   "execution_count": 24,
   "metadata": {},
   "outputs": [],
   "source": [
    "events_funnel = events_and_users.loc[events_and_users['event_name'] !=\"Tutorial\"].copy(deep=True)"
   ]
  },
  {
   "cell_type": "code",
   "execution_count": 25,
   "metadata": {},
   "outputs": [
    {
     "data": {
      "text/html": [
       "<div>\n",
       "<style scoped>\n",
       "    .dataframe tbody tr th:only-of-type {\n",
       "        vertical-align: middle;\n",
       "    }\n",
       "\n",
       "    .dataframe tbody tr th {\n",
       "        vertical-align: top;\n",
       "    }\n",
       "\n",
       "    .dataframe thead th {\n",
       "        text-align: right;\n",
       "    }\n",
       "</style>\n",
       "<table border=\"1\" class=\"dataframe\">\n",
       "  <thead>\n",
       "    <tr style=\"text-align: right;\">\n",
       "      <th></th>\n",
       "      <th>event_name</th>\n",
       "      <th>total_users</th>\n",
       "      <th>pct_users</th>\n",
       "      <th>ratio_from_previous_event</th>\n",
       "    </tr>\n",
       "  </thead>\n",
       "  <tbody>\n",
       "    <tr>\n",
       "      <th>0</th>\n",
       "      <td>MainScreenAppear</td>\n",
       "      <td>7419</td>\n",
       "      <td>98.47</td>\n",
       "      <td>1.000</td>\n",
       "    </tr>\n",
       "    <tr>\n",
       "      <th>1</th>\n",
       "      <td>OffersScreenAppear</td>\n",
       "      <td>4593</td>\n",
       "      <td>60.96</td>\n",
       "      <td>0.619</td>\n",
       "    </tr>\n",
       "    <tr>\n",
       "      <th>2</th>\n",
       "      <td>CartScreenAppear</td>\n",
       "      <td>3734</td>\n",
       "      <td>49.56</td>\n",
       "      <td>0.813</td>\n",
       "    </tr>\n",
       "    <tr>\n",
       "      <th>3</th>\n",
       "      <td>PaymentScreenSuccessful</td>\n",
       "      <td>3539</td>\n",
       "      <td>46.97</td>\n",
       "      <td>0.948</td>\n",
       "    </tr>\n",
       "  </tbody>\n",
       "</table>\n",
       "</div>"
      ],
      "text/plain": [
       "                event_name  total_users  pct_users  ratio_from_previous_event\n",
       "0         MainScreenAppear         7419      98.47                      1.000\n",
       "1       OffersScreenAppear         4593      60.96                      0.619\n",
       "2         CartScreenAppear         3734      49.56                      0.813\n",
       "3  PaymentScreenSuccessful         3539      46.97                      0.948"
      ]
     },
     "execution_count": 25,
     "metadata": {},
     "output_type": "execute_result"
    }
   ],
   "source": [
    "events_funnel['ratio_from_previous_event'] = events_funnel['total_users'].div(events_funnel['total_users']\n",
    "                                                                              .shift(1)).fillna(1).round(3)\n",
    "\n",
    "events_funnel"
   ]
  },
  {
   "cell_type": "markdown",
   "metadata": {},
   "source": [
    "Построим диаграмму, которая отобразит результаты вычислений (в % указана доля пользователей от предыдущего события):"
   ]
  },
  {
   "cell_type": "code",
   "execution_count": 26,
   "metadata": {},
   "outputs": [
    {
     "data": {
      "image/svg+xml": [
       "<svg class=\"main-svg\" xmlns=\"http://www.w3.org/2000/svg\" xmlns:xlink=\"http://www.w3.org/1999/xlink\" width=\"700\" height=\"500\" style=\"\" viewBox=\"0 0 700 500\"><rect x=\"0\" y=\"0\" width=\"700\" height=\"500\" style=\"fill: rgb(255, 255, 255); fill-opacity: 1;\"/><defs id=\"defs-5a5ddd\"><g class=\"clips\"><clipPath id=\"clip5a5dddxyplot\" class=\"plotclip\"><rect width=\"534\" height=\"310\"/></clipPath><clipPath class=\"axesclip\" id=\"clip5a5dddx\"><rect x=\"80\" y=\"0\" width=\"534\" height=\"500\"/></clipPath><clipPath class=\"axesclip\" id=\"clip5a5dddy\"><rect x=\"0\" y=\"60\" width=\"700\" height=\"310\"/></clipPath><clipPath class=\"axesclip\" id=\"clip5a5dddxy\"><rect x=\"80\" y=\"60\" width=\"534\" height=\"310\"/></clipPath></g><g class=\"gradients\"/><g class=\"patterns\"/></defs><g class=\"bglayer\"><rect class=\"bg\" x=\"80\" y=\"60\" width=\"534\" height=\"310\" style=\"fill: rgb(255, 255, 255); fill-opacity: 1; stroke-width: 0;\"/></g><g class=\"layer-below\"><g class=\"imagelayer\"/><g class=\"shapelayer\"/></g><g class=\"cartesianlayer\"><g class=\"subplot xy\"><g class=\"layer-subplot\"><g class=\"shapelayer\"/><g class=\"imagelayer\"/></g><g class=\"gridlayer\"><g class=\"x\"/><g class=\"y\"><path class=\"ygrid crisp\" transform=\"translate(0,330.3)\" d=\"M80,0h534\" style=\"stroke: rgb(255, 255, 255); stroke-opacity: 1; stroke-width: 1px;\"/><path class=\"ygrid crisp\" transform=\"translate(0,290.61)\" d=\"M80,0h534\" style=\"stroke: rgb(255, 255, 255); stroke-opacity: 1; stroke-width: 1px;\"/><path class=\"ygrid crisp\" transform=\"translate(0,250.91)\" d=\"M80,0h534\" style=\"stroke: rgb(255, 255, 255); stroke-opacity: 1; stroke-width: 1px;\"/><path class=\"ygrid crisp\" transform=\"translate(0,211.22)\" d=\"M80,0h534\" style=\"stroke: rgb(255, 255, 255); stroke-opacity: 1; stroke-width: 1px;\"/><path class=\"ygrid crisp\" transform=\"translate(0,171.51999999999998)\" d=\"M80,0h534\" style=\"stroke: rgb(255, 255, 255); stroke-opacity: 1; stroke-width: 1px;\"/><path class=\"ygrid crisp\" transform=\"translate(0,131.82999999999998)\" d=\"M80,0h534\" style=\"stroke: rgb(255, 255, 255); stroke-opacity: 1; stroke-width: 1px;\"/><path class=\"ygrid crisp\" transform=\"translate(0,92.13)\" d=\"M80,0h534\" style=\"stroke: rgb(255, 255, 255); stroke-opacity: 1; stroke-width: 1px;\"/></g></g><g class=\"zerolinelayer\"><path class=\"yzl zl crisp\" transform=\"translate(0,370)\" d=\"M80,0h534\" style=\"stroke: rgb(255, 255, 255); stroke-opacity: 1; stroke-width: 2px;\"/></g><path class=\"xlines-below\"/><path class=\"ylines-below\"/><g class=\"overlines-below\"/><g class=\"xaxislayer-below\"/><g class=\"yaxislayer-below\"/><g class=\"overaxes-below\"/><g class=\"plot\" transform=\"translate(80,60)\" clip-path=\"url(#clip5a5dddxyplot)\"><g class=\"barlayer mlayer\"><g class=\"trace bars\" style=\"opacity: 1;\"><g class=\"points\"><g class=\"point\"><path d=\"M46.71,310V15.5H145.83V310Z\" style=\"vector-effect: non-scaling-stroke; opacity: 1; stroke-width: 0.5px; fill: rgb(100, 149, 237); fill-opacity: 1; stroke: rgb(229, 236, 246); stroke-opacity: 1;\"/><text class=\"bartext bartext-outside\" text-anchor=\"middle\" data-notex=\"1\" x=\"0\" y=\"0\" style=\"font-family: 'Open Sans', verdana, arial, sans-serif; font-size: 12px; fill: rgb(42, 63, 95); fill-opacity: 1; white-space: pre;\" transform=\"translate(96.23093750000001,9.5)\">100.0%</text></g><g class=\"point\"><path d=\"M170.61,310V127.68H269.73V310Z\" style=\"vector-effect: non-scaling-stroke; opacity: 1; stroke-width: 0.5px; fill: rgb(220, 20, 60); fill-opacity: 1; stroke: rgb(229, 236, 246); stroke-opacity: 1;\"/><text class=\"bartext bartext-outside\" text-anchor=\"middle\" data-notex=\"1\" x=\"0\" y=\"0\" style=\"font-family: 'Open Sans', verdana, arial, sans-serif; font-size: 12px; fill: rgb(42, 63, 95); fill-opacity: 1; white-space: pre;\" transform=\"translate(220.13093750000002,121.68)\">61.9%</text></g><g class=\"point\"><path d=\"M294.51,310V161.78H393.63V310Z\" style=\"vector-effect: non-scaling-stroke; opacity: 1; stroke-width: 0.5px; fill: rgb(100, 149, 237); fill-opacity: 1; stroke: rgb(229, 236, 246); stroke-opacity: 1;\"/><text class=\"bartext bartext-outside\" text-anchor=\"middle\" data-notex=\"1\" x=\"0\" y=\"0\" style=\"font-family: 'Open Sans', verdana, arial, sans-serif; font-size: 12px; fill: rgb(42, 63, 95); fill-opacity: 1; white-space: pre;\" transform=\"translate(344.0309375,155.78)\">81.3%</text></g><g class=\"point\"><path d=\"M418.41,310V169.52H517.54V310Z\" style=\"vector-effect: non-scaling-stroke; opacity: 1; stroke-width: 0.5px; fill: rgb(100, 149, 237); fill-opacity: 1; stroke: rgb(229, 236, 246); stroke-opacity: 1;\"/><text class=\"bartext bartext-outside\" text-anchor=\"middle\" data-notex=\"1\" x=\"0\" y=\"0\" style=\"font-family: 'Open Sans', verdana, arial, sans-serif; font-size: 12px; fill: rgb(42, 63, 95); fill-opacity: 1; white-space: pre;\" transform=\"translate(467.9359375,163.52)\">94.8%</text></g></g></g></g></g><g class=\"overplot\"/><path class=\"xlines-above crisp\" style=\"fill: none;\" d=\"M0,0\"/><path class=\"ylines-above crisp\" style=\"fill: none;\" d=\"M0,0\"/><g class=\"overlines-above\"/><g class=\"xaxislayer-above\"><g class=\"xtick\"><text text-anchor=\"start\" x=\"0\" y=\"383\" transform=\"translate(176.26999999999998,0) rotate(30,0,377)\" style=\"font-family: 'Open Sans', verdana, arial, sans-serif; font-size: 12px; fill: rgb(42, 63, 95); fill-opacity: 1; white-space: pre; opacity: 1;\">MainScreenAppear</text></g><g class=\"xtick\"><text text-anchor=\"start\" x=\"0\" y=\"383\" transform=\"translate(300.16999999999996,0) rotate(30,0,377)\" style=\"font-family: 'Open Sans', verdana, arial, sans-serif; font-size: 12px; fill: rgb(42, 63, 95); fill-opacity: 1; white-space: pre; opacity: 1;\">OffersScreenAppear</text></g><g class=\"xtick\"><text text-anchor=\"start\" x=\"0\" y=\"383\" transform=\"translate(424.07,0) rotate(30,0,377)\" style=\"font-family: 'Open Sans', verdana, arial, sans-serif; font-size: 12px; fill: rgb(42, 63, 95); fill-opacity: 1; white-space: pre; opacity: 1;\">CartScreenAppear</text></g><g class=\"xtick\"><text text-anchor=\"start\" x=\"0\" y=\"383\" transform=\"translate(547.98,0) rotate(30,0,377)\" style=\"font-family: 'Open Sans', verdana, arial, sans-serif; font-size: 12px; fill: rgb(42, 63, 95); fill-opacity: 1; white-space: pre; opacity: 1;\">PaymentScreenSuccessful</text></g></g><g class=\"yaxislayer-above\"><g class=\"ytick\"><text text-anchor=\"end\" x=\"79\" y=\"4.199999999999999\" transform=\"translate(0,370)\" style=\"font-family: 'Open Sans', verdana, arial, sans-serif; font-size: 12px; fill: rgb(42, 63, 95); fill-opacity: 1; white-space: pre; opacity: 1;\">0</text></g><g class=\"ytick\"><text text-anchor=\"end\" x=\"79\" y=\"4.199999999999999\" style=\"font-family: 'Open Sans', verdana, arial, sans-serif; font-size: 12px; fill: rgb(42, 63, 95); fill-opacity: 1; white-space: pre; opacity: 1;\" transform=\"translate(0,330.3)\">1000</text></g><g class=\"ytick\"><text text-anchor=\"end\" x=\"79\" y=\"4.199999999999999\" style=\"font-family: 'Open Sans', verdana, arial, sans-serif; font-size: 12px; fill: rgb(42, 63, 95); fill-opacity: 1; white-space: pre; opacity: 1;\" transform=\"translate(0,290.61)\">2000</text></g><g class=\"ytick\"><text text-anchor=\"end\" x=\"79\" y=\"4.199999999999999\" style=\"font-family: 'Open Sans', verdana, arial, sans-serif; font-size: 12px; fill: rgb(42, 63, 95); fill-opacity: 1; white-space: pre; opacity: 1;\" transform=\"translate(0,250.91)\">3000</text></g><g class=\"ytick\"><text text-anchor=\"end\" x=\"79\" y=\"4.199999999999999\" style=\"font-family: 'Open Sans', verdana, arial, sans-serif; font-size: 12px; fill: rgb(42, 63, 95); fill-opacity: 1; white-space: pre; opacity: 1;\" transform=\"translate(0,211.22)\">4000</text></g><g class=\"ytick\"><text text-anchor=\"end\" x=\"79\" y=\"4.199999999999999\" style=\"font-family: 'Open Sans', verdana, arial, sans-serif; font-size: 12px; fill: rgb(42, 63, 95); fill-opacity: 1; white-space: pre; opacity: 1;\" transform=\"translate(0,171.51999999999998)\">5000</text></g><g class=\"ytick\"><text text-anchor=\"end\" x=\"79\" y=\"4.199999999999999\" style=\"font-family: 'Open Sans', verdana, arial, sans-serif; font-size: 12px; fill: rgb(42, 63, 95); fill-opacity: 1; white-space: pre; opacity: 1;\" transform=\"translate(0,131.82999999999998)\">6000</text></g><g class=\"ytick\"><text text-anchor=\"end\" x=\"79\" y=\"4.199999999999999\" style=\"font-family: 'Open Sans', verdana, arial, sans-serif; font-size: 12px; fill: rgb(42, 63, 95); fill-opacity: 1; white-space: pre; opacity: 1;\" transform=\"translate(0,92.13)\">7000</text></g></g><g class=\"overaxes-above\"/></g></g><g class=\"polarlayer\"/><g class=\"ternarylayer\"/><g class=\"geolayer\"/><g class=\"funnelarealayer\"/><g class=\"pielayer\"/><g class=\"iciclelayer\"/><g class=\"treemaplayer\"/><g class=\"sunburstlayer\"/><g class=\"glimages\"/><defs id=\"topdefs-5a5ddd\"><g class=\"clips\"/><clipPath id=\"legend5a5ddd\"><rect width=\"601\" height=\"29\" x=\"0\" y=\"0\"/></clipPath></defs><g class=\"layer-above\"><g class=\"imagelayer\"/><g class=\"shapelayer\"/></g><g class=\"infolayer\"><g class=\"legend\" pointer-events=\"all\" transform=\"translate(13,62)\"><rect class=\"bg\" shape-rendering=\"crispEdges\" style=\"stroke: rgb(68, 68, 68); stroke-opacity: 1; fill: rgb(255, 255, 255); fill-opacity: 1; stroke-width: 0px;\" width=\"601\" height=\"29\" x=\"0\" y=\"0\"/><g class=\"scrollbox\" transform=\"\" clip-path=\"url(#legend5a5ddd)\"><g class=\"groups\"><g class=\"traces\" style=\"opacity: 1;\" transform=\"translate(0,14.5)\"><text class=\"legendtext\" text-anchor=\"start\" x=\"40\" y=\"4.680000000000001\" style=\"font-family: 'Open Sans', verdana, arial, sans-serif; font-size: 12px; fill: rgb(42, 63, 95); fill-opacity: 1; white-space: pre;\">Число пользователей. Красным выделен шаг, где теряется больше всего пользователей</text><g class=\"layers\" style=\"opacity: 1;\"><g class=\"legendfill\"/><g class=\"legendlines\"/><g class=\"legendsymbols\"><g class=\"legendpoints\"><path class=\"legendundefined\" d=\"M6,6H-6V-6H6Z\" transform=\"translate(20,0)\" style=\"stroke-width: 0.5px; fill: rgb(100, 149, 237); fill-opacity: 1; stroke: rgb(229, 236, 246); stroke-opacity: 1;\"/></g></g></g><rect class=\"legendtoggle\" x=\"0\" y=\"-9.5\" width=\"598.4375\" height=\"19\" style=\"fill: rgb(0, 0, 0); fill-opacity: 0;\"/></g></g></g><rect class=\"scrollbar\" rx=\"20\" ry=\"3\" width=\"0\" height=\"0\" style=\"fill: rgb(128, 139, 164); fill-opacity: 1;\" x=\"0\" y=\"0\"/></g><g class=\"g-gtitle\"><text class=\"gtitle\" x=\"350\" y=\"30\" text-anchor=\"middle\" dy=\"0em\" style=\"font-family: 'Open Sans', verdana, arial, sans-serif; font-size: 17px; fill: rgb(42, 63, 95); opacity: 1; font-weight: normal; white-space: pre;\">Диаграмма воронки событий (в % указана доля пользователей от предыдущего события)</text></g><g class=\"g-xtitle\"><text class=\"xtitle\" x=\"347\" y=\"488.0080078125\" text-anchor=\"middle\" style=\"font-family: 'Open Sans', verdana, arial, sans-serif; font-size: 14px; fill: rgb(42, 63, 95); opacity: 1; font-weight: normal; white-space: pre;\">Название события</text></g><g class=\"g-ytitle\"><text class=\"ytitle\" transform=\"rotate(-90,23.684375000000003,215)\" x=\"23.684375000000003\" y=\"215\" text-anchor=\"middle\" style=\"font-family: 'Open Sans', verdana, arial, sans-serif; font-size: 14px; fill: rgb(42, 63, 95); opacity: 1; font-weight: normal; white-space: pre;\">Число пользователей для каждого события</text></g><g class=\"annotation\" data-index=\"0\" style=\"opacity: 1;\"><g class=\"annotation-text-g\" transform=\"rotate(0,123,290.61)\"><g class=\"cursor-pointer\" transform=\"translate(80,280)\"><rect class=\"bg\" x=\"0.5\" y=\"0.5\" width=\"85\" height=\"20\" style=\"stroke-width: 1px; stroke: rgb(0, 0, 0); stroke-opacity: 0; fill: rgb(0, 0, 0); fill-opacity: 0;\"/><text class=\"annotation-text\" text-anchor=\"middle\" x=\"42.828125\" y=\"16\" style=\"font-family: 'Open Sans', verdana, arial, sans-serif; font-size: 14px; fill: rgb(255, 255, 255); fill-opacity: 1; white-space: pre;\">Событие А </text></g></g><g class=\"annotation-arrow-g\" style=\"opacity: 1;\"><path d=\"M165.5,290.61L263,290.61\" style=\"stroke-width: 2px; stroke: rgb(112, 128, 144); stroke-opacity: 1; stroke-dasharray: 0px, 0px, 96.3px, 97.5px;\"/><path d=\"M-2.4,-3V3L0.6,0Z\" transform=\"translate(261.79998779296875,290.6099853515625)scale(2)\" style=\"fill: rgb(112, 128, 144); stroke-width: 0;\"/></g></g><g class=\"annotation\" data-index=\"1\" style=\"opacity: 1;\"><g class=\"annotation-text-g\" transform=\"rotate(0,246.89999999999998,290.61)\"><g class=\"cursor-pointer\" transform=\"translate(204,280)\"><rect class=\"bg\" x=\"0.5\" y=\"0.5\" width=\"85\" height=\"20\" style=\"stroke-width: 1px; stroke: rgb(0, 0, 0); stroke-opacity: 0; fill: rgb(0, 0, 0); fill-opacity: 0;\"/><text class=\"annotation-text\" text-anchor=\"middle\" x=\"42.84375\" y=\"16\" style=\"font-family: 'Open Sans', verdana, arial, sans-serif; font-size: 14px; fill: rgb(255, 255, 255); fill-opacity: 1; white-space: pre;\">Событие B </text></g></g><g class=\"annotation-arrow-g\" style=\"opacity: 1;\"><path d=\"M289.4,290.61L386.9,290.61\" style=\"stroke-width: 2px; stroke: rgb(112, 128, 144); stroke-opacity: 1; stroke-dasharray: 0px, 0px, 96.3px, 97.5px;\"/><path d=\"M-2.4,-3V3L0.6,0Z\" transform=\"translate(385.70001220703125,290.6099853515625)scale(2)\" style=\"fill: rgb(112, 128, 144); stroke-width: 0;\"/></g></g><g class=\"annotation\" data-index=\"2\" style=\"opacity: 1;\"><g class=\"annotation-text-g\" transform=\"rotate(0,370.8,290.61)\"><g class=\"cursor-pointer\" transform=\"translate(328,280)\"><rect class=\"bg\" x=\"0.5\" y=\"0.5\" width=\"85\" height=\"20\" style=\"stroke-width: 1px; stroke: rgb(0, 0, 0); stroke-opacity: 0; fill: rgb(0, 0, 0); fill-opacity: 0;\"/><text class=\"annotation-text\" text-anchor=\"middle\" x=\"42.9375\" y=\"16\" style=\"font-family: 'Open Sans', verdana, arial, sans-serif; font-size: 14px; fill: rgb(255, 255, 255); fill-opacity: 1; white-space: pre;\">Событие C </text></g></g><g class=\"annotation-arrow-g\" style=\"opacity: 1;\"><path d=\"M413.3,290.61L510.8,290.61\" style=\"stroke-width: 2px; stroke: rgb(112, 128, 144); stroke-opacity: 1; stroke-dasharray: 0px, 0px, 96.3px, 97.5px;\"/><path d=\"M-2.4,-3V3L0.6,0Z\" transform=\"translate(509.5999755859375,290.6099853515625)scale(2)\" style=\"fill: rgb(112, 128, 144); stroke-width: 0;\"/></g></g><g class=\"annotation\" data-index=\"3\" style=\"opacity: 1;\"><g class=\"annotation-text-g\" transform=\"rotate(0,570.5,290.61)\"><g class=\"cursor-pointer\" transform=\"translate(527,280)\"><rect class=\"bg\" x=\"0.5\" y=\"0.5\" width=\"86\" height=\"20\" style=\"stroke-width: 1px; stroke: rgb(0, 0, 0); stroke-opacity: 0; fill: rgb(0, 0, 0); fill-opacity: 0;\"/><text class=\"annotation-text\" text-anchor=\"middle\" x=\"43.4375\" y=\"16\" style=\"font-family: 'Open Sans', verdana, arial, sans-serif; font-size: 14px; fill: rgb(255, 255, 255); fill-opacity: 1; white-space: pre;\">Событие D </text></g></g></g></g></svg>"
      ]
     },
     "metadata": {},
     "output_type": "display_data"
    }
   ],
   "source": [
    "colors = ['cornflowerblue'] * 4\n",
    "colors[1] = 'crimson'\n",
    "\n",
    "fig = px.bar(events_funnel, y='total_users', x='event_name',\n",
    "             text='ratio_from_previous_event',\n",
    "             hover_data={'event_name':False},\n",
    "             labels={'total_users': 'Число пользователей',\n",
    "                     'ratio_from_previous_event':'доля пользователей от предшествующего события'})\n",
    "\n",
    "fig.update_traces(texttemplate='%{text:.1%}', \n",
    "                  textposition='outside', \n",
    "                  marker_color=colors, \n",
    "                  showlegend=True, \n",
    "                  name='Число пользователей. Красным выделен шаг, где теряется больше всего пользователей')\n",
    "\n",
    "\n",
    "fig.update_layout(title='Диаграмма воронки событий (в % указана доля пользователей от предыдущего события)',\n",
    "                  xaxis_title='Название события',\n",
    "                  yaxis_title='Число пользователей для каждого события',\n",
    "                  uniformtext_minsize=8,\n",
    "                  uniformtext_mode='hide',\n",
    "                  plot_bgcolor='#ffffff',\n",
    "                  legend=dict(\n",
    "                      orientation='h',\n",
    "                      yanchor='bottom',\n",
    "                      y=0.9,\n",
    "                      xanchor='right',\n",
    "                      x=1),\n",
    "                  annotations=[dict(\n",
    "                      x='0.7',\n",
    "                      y='2000',\n",
    "                      text='Событие А ',\n",
    "                      textangle=0,\n",
    "                      ax=-140,\n",
    "                      ay=0,\n",
    "                      font=dict(\n",
    "                          color='white',\n",
    "                          size=14),\n",
    "                      arrowcolor='slategray',\n",
    "                      arrowsize=1,\n",
    "                      arrowwidth=2,\n",
    "                      arrowhead=1),\n",
    "                  dict(\n",
    "                      x='1.7',\n",
    "                      y='2000',\n",
    "                      text='Событие B ',\n",
    "                      textangle=0,\n",
    "                      ax=-140,\n",
    "                      ay=0,\n",
    "                      font=dict(\n",
    "                          color='white',\n",
    "                          size=14),\n",
    "                      arrowcolor='slategray',\n",
    "                      arrowsize=1,\n",
    "                      arrowwidth=2,\n",
    "                      arrowhead=1),\n",
    "                  dict(\n",
    "                      x='2.7',\n",
    "                      y='2000',\n",
    "                      text='Событие C ',\n",
    "                      textangle=0,\n",
    "                      ax=-140,\n",
    "                      ay=0,\n",
    "                      font=dict(\n",
    "                          color='white',\n",
    "                          size=14),\n",
    "                      arrowcolor='slategray',\n",
    "                      arrowsize=1,\n",
    "                      arrowwidth=2,\n",
    "                      arrowhead=1),\n",
    "                  dict(\n",
    "                      showarrow=False,\n",
    "                      x='2.75',\n",
    "                      y='2000',\n",
    "                      text='Событие D ',\n",
    "                      xanchor='left',\n",
    "                      xshift=10,\n",
    "                      font=dict(\n",
    "                          color='white',\n",
    "                          size=14))\n",
    "                      ]\n",
    "                  \n",
    "                 )\n",
    "\n",
    "fig.update(layout=dict(title=dict(x=0.5)))\n",
    "\n",
    "fig.show()"
   ]
  },
  {
   "cell_type": "markdown",
   "metadata": {},
   "source": [
    "В дополнение к столбчатой диаграмме представим данные в форме воронки, где укажем как численно и в % изменялось количество пользователей на каждом событии:"
   ]
  },
  {
   "cell_type": "code",
   "execution_count": 27,
   "metadata": {},
   "outputs": [
    {
     "data": {
      "image/svg+xml": [
       "<svg class=\"main-svg\" xmlns=\"http://www.w3.org/2000/svg\" xmlns:xlink=\"http://www.w3.org/1999/xlink\" width=\"700\" height=\"500\" style=\"\" viewBox=\"0 0 700 500\"><rect x=\"0\" y=\"0\" width=\"700\" height=\"500\" style=\"fill: rgb(255, 255, 255); fill-opacity: 1;\"/><defs id=\"defs-b30cd5\"><g class=\"clips\"><clipPath id=\"clipb30cd5xyplot\" class=\"plotclip\"><rect width=\"450\" height=\"320\"/></clipPath><clipPath class=\"axesclip\" id=\"clipb30cd5x\"><rect x=\"170\" y=\"0\" width=\"450\" height=\"500\"/></clipPath><clipPath class=\"axesclip\" id=\"clipb30cd5y\"><rect x=\"0\" y=\"100\" width=\"700\" height=\"320\"/></clipPath><clipPath class=\"axesclip\" id=\"clipb30cd5xy\"><rect x=\"170\" y=\"100\" width=\"450\" height=\"320\"/></clipPath></g><g class=\"gradients\"/><g class=\"patterns\"/></defs><g class=\"bglayer\"><rect class=\"bg\" x=\"170\" y=\"100\" width=\"450\" height=\"320\" style=\"fill: rgb(255, 255, 255); fill-opacity: 1; stroke-width: 0;\"/></g><g class=\"layer-below\"><g class=\"imagelayer\"/><g class=\"shapelayer\"/></g><g class=\"cartesianlayer\"><g class=\"subplot xy\"><g class=\"layer-subplot\"><g class=\"shapelayer\"/><g class=\"imagelayer\"/></g><g class=\"gridlayer\"><g class=\"x\"/><g class=\"y\"/></g><g class=\"zerolinelayer\"/><path class=\"xlines-below\"/><path class=\"ylines-below\"/><g class=\"overlines-below\"/><g class=\"xaxislayer-below\"/><g class=\"yaxislayer-below\"/><g class=\"overaxes-below\"/><g class=\"plot\" transform=\"translate(170,100)\" clip-path=\"url(#clipb30cd5xyplot)\"><g class=\"funnellayer mlayer\"><g class=\"trace bars\" style=\"opacity: 1;\"><g class=\"regions\"><g class=\"region\"><path d=\"M22.5,72L99.64,88H350.36L427.5,72Z\" style=\"stroke-width: 0; fill: rgb(100, 149, 237); fill-opacity: 0.5;\"/></g><g class=\"region\"><path d=\"M99.64,152L123.08,168H326.92L350.36,152Z\" style=\"stroke-width: 0; fill: rgb(100, 149, 237); fill-opacity: 0.5;\"/></g><g class=\"region\"><path d=\"M123.08,232L128.4,248H321.6L326.92,232Z\" style=\"stroke-width: 0; fill: rgb(100, 149, 237); fill-opacity: 0.5;\"/></g><g class=\"region\"><path d=\"M0,0Z\" style=\"stroke-width: 0; fill: rgb(100, 149, 237); fill-opacity: 0.5;\"/></g></g><g class=\"points\"><g class=\"point\"><path d=\"M22.5,8V72H427.5V8Z\" style=\"vector-effect: non-scaling-stroke; fill: rgb(100, 149, 237); fill-opacity: 1; stroke: rgb(68, 68, 68); stroke-opacity: 1; stroke-width: 0px; opacity: 1;\"/><text class=\"bartext bartext-inside\" text-anchor=\"middle\" data-notex=\"1\" x=\"0\" y=\"0\" style=\"font-family: 'Open Sans', verdana, arial, sans-serif; font-size: 12px; fill: rgb(68, 68, 68); fill-opacity: 1; white-space: pre;\" transform=\"translate(224.953125,36.6953125)\"><tspan class=\"line\" dy=\"0em\" x=\"0\" y=\"0\">7419</tspan><tspan class=\"line\" dy=\"1.3em\" x=\"0\" y=\"0\">100%</tspan></text></g><g class=\"point\"><path d=\"M99.64,88V152H350.36V88Z\" style=\"vector-effect: non-scaling-stroke; fill: rgb(100, 149, 237); fill-opacity: 1; stroke: rgb(68, 68, 68); stroke-opacity: 1; stroke-width: 0px; opacity: 1;\"/><text class=\"bartext bartext-inside\" text-anchor=\"middle\" data-notex=\"1\" x=\"0\" y=\"0\" style=\"font-family: 'Open Sans', verdana, arial, sans-serif; font-size: 12px; fill: rgb(68, 68, 68); fill-opacity: 1; white-space: pre;\" transform=\"translate(225,116.6953125)\"><tspan class=\"line\" dy=\"0em\" x=\"0\" y=\"0\">4593</tspan><tspan class=\"line\" dy=\"1.3em\" x=\"0\" y=\"0\">62%</tspan></text></g><g class=\"point\"><path d=\"M123.08,168V232H326.92V168Z\" style=\"vector-effect: non-scaling-stroke; fill: rgb(100, 149, 237); fill-opacity: 1; stroke: rgb(68, 68, 68); stroke-opacity: 1; stroke-width: 0px; opacity: 1;\"/><text class=\"bartext bartext-inside\" text-anchor=\"middle\" data-notex=\"1\" x=\"0\" y=\"0\" style=\"font-family: 'Open Sans', verdana, arial, sans-serif; font-size: 12px; fill: rgb(68, 68, 68); fill-opacity: 1; white-space: pre;\" transform=\"translate(224.8125,196.6953125)\"><tspan class=\"line\" dy=\"0em\" x=\"0\" y=\"0\">3734</tspan><tspan class=\"line\" dy=\"1.3em\" x=\"0\" y=\"0\">50%</tspan></text></g><g class=\"point\"><path d=\"M128.4,248V312H321.6V248Z\" style=\"vector-effect: non-scaling-stroke; fill: rgb(100, 149, 237); fill-opacity: 1; stroke: rgb(68, 68, 68); stroke-opacity: 1; stroke-width: 0px; opacity: 1;\"/><text class=\"bartext bartext-inside\" text-anchor=\"middle\" data-notex=\"1\" x=\"0\" y=\"0\" style=\"font-family: 'Open Sans', verdana, arial, sans-serif; font-size: 12px; fill: rgb(68, 68, 68); fill-opacity: 1; white-space: pre;\" transform=\"translate(224.8125,276.6953125)\"><tspan class=\"line\" dy=\"0em\" x=\"0\" y=\"0\">3539</tspan><tspan class=\"line\" dy=\"1.3em\" x=\"0\" y=\"0\">48%</tspan></text></g></g></g></g></g><g class=\"overplot\"/><path class=\"xlines-above crisp\" d=\"M0,0\" style=\"fill: none;\"/><path class=\"ylines-above crisp\" d=\"M0,0\" style=\"fill: none;\"/><g class=\"overlines-above\"/><g class=\"xaxislayer-above\"/><g class=\"yaxislayer-above\"><g class=\"ytick\"><text text-anchor=\"end\" x=\"169\" y=\"4.199999999999999\" transform=\"translate(0,380)\" style=\"font-family: 'Open Sans', verdana, arial, sans-serif; font-size: 12px; fill: rgb(42, 63, 95); fill-opacity: 1; white-space: pre; opacity: 1;\">PaymentScreenSuccessful</text></g><g class=\"ytick\"><text text-anchor=\"end\" x=\"169\" y=\"4.199999999999999\" transform=\"translate(0,300)\" style=\"font-family: 'Open Sans', verdana, arial, sans-serif; font-size: 12px; fill: rgb(42, 63, 95); fill-opacity: 1; white-space: pre; opacity: 1;\">CartScreenAppear</text></g><g class=\"ytick\"><text text-anchor=\"end\" x=\"169\" y=\"4.199999999999999\" transform=\"translate(0,220)\" style=\"font-family: 'Open Sans', verdana, arial, sans-serif; font-size: 12px; fill: rgb(42, 63, 95); fill-opacity: 1; white-space: pre; opacity: 1;\">OffersScreenAppear</text></g><g class=\"ytick\"><text text-anchor=\"end\" x=\"169\" y=\"4.199999999999999\" transform=\"translate(0,140)\" style=\"font-family: 'Open Sans', verdana, arial, sans-serif; font-size: 12px; fill: rgb(42, 63, 95); fill-opacity: 1; white-space: pre; opacity: 1;\">MainScreenAppear</text></g></g><g class=\"overaxes-above\"/></g></g><g class=\"polarlayer\"/><g class=\"ternarylayer\"/><g class=\"geolayer\"/><g class=\"funnelarealayer\"/><g class=\"pielayer\"/><g class=\"iciclelayer\"/><g class=\"treemaplayer\"/><g class=\"sunburstlayer\"/><g class=\"glimages\"/><defs id=\"topdefs-b30cd5\"><g class=\"clips\"/></defs><g class=\"layer-above\"><g class=\"imagelayer\"/><g class=\"shapelayer\"/></g><g class=\"infolayer\"><g class=\"g-gtitle\"><text class=\"gtitle\" x=\"35\" y=\"50\" text-anchor=\"start\" dy=\"0em\" style=\"font-family: 'Open Sans', verdana, arial, sans-serif; font-size: 17px; fill: rgb(42, 63, 95); opacity: 1; font-weight: normal; white-space: pre;\">Воронка событий в приложении (в % указана доля пользователей от первого события)</text></g><g class=\"g-ytitle\"/></g></svg>"
      ]
     },
     "metadata": {},
     "output_type": "display_data"
    }
   ],
   "source": [
    "fig = go.Figure(go.Funnel(\n",
    "    y = events_funnel['event_name'],\n",
    "    x = events_funnel['total_users'],\n",
    "    textinfo = 'value+percent initial',\n",
    "    hoverinfo='percent previous+percent initial',\n",
    "    marker = {'color': 'cornflowerblue'}\n",
    "    ))\n",
    "\n",
    "fig.update_layout(title='Воронка событий в приложении (в % указана доля пользователей от первого события)',\n",
    "                  plot_bgcolor='#ffffff')\n",
    "fig.show()"
   ]
  },
  {
   "cell_type": "markdown",
   "metadata": {},
   "source": [
    "Из таблицы и диаграмм видно, что наибольшая потеря пользователей происходит в самом начале использования приложения - в момент перехода на страницу с предложениями товара. Это событие совершают лишь около 62% пользователей, от тех, кто открыл главную страницу приложения. В дальнейшем, около пятой части пользователей не добавляют товар для совершения оплаты, и у почти 5% из них оплата не признаётся успешной."
   ]
  },
  {
   "cell_type": "markdown",
   "metadata": {},
   "source": [
    "Доля пользователей, которая успешно проводит оплату составляет около 48% от числа тех, кто совершил первое действие и около 47% от общего числа пользователей приложения:"
   ]
  },
  {
   "cell_type": "code",
   "execution_count": 28,
   "metadata": {},
   "outputs": [
    {
     "name": "stdout",
     "output_type": "stream",
     "text": [
      "Доля пользователей, которая доходит от первого события до успешной оплаты составляет, %: 47.7\n"
     ]
    }
   ],
   "source": [
    "print('Доля пользователей, которая доходит от первого события до успешной оплаты составляет, %:',\n",
    "      round(events_funnel['total_users'].loc[3] / events_funnel['total_users'].loc[0]*100, 1))"
   ]
  },
  {
   "cell_type": "markdown",
   "metadata": {},
   "source": [
    "**Промежуточные выводы**\n",
    "* Из 5 уникальных событий приложения 4 события выстраиваются в последовательную цепочку, формируя воронку: событие A: открытие приложения --> событие B: выбор товара --> событие C: оплата заказа --> событие D: подтверждение успешной оплаты.\n",
    "* Наибольшая потеря пользователей происходит на этапе перехода на страницу с предложениями товара. Это событие совершают около 62% пользователей, которые открыли главную страницу приложения. В дальнейшем, пятая часть из них не добавляют товар для совершения оплаты, а у почти 5% тех, кто оформил товар, оплата не совершается.\n",
    "* Пятое событие является независимым от других событий (за исключением появления главной страницы) и связано с использованием руководства пользователя.\n",
    "* Доля пользователей, которая получила подтверждение об оплате, составляет около 48% от числа тех, кто совершил первое действие, открыв приложение на главной странице."
   ]
  },
  {
   "cell_type": "markdown",
   "metadata": {},
   "source": [
    "## Анализ результатов A/A/B-эксперимента"
   ]
  },
  {
   "cell_type": "markdown",
   "metadata": {},
   "source": [
    "A/B тестирование является одним из самых мощных инструментов проверки действенности предложенных идей на практике с относительно небольшими затратами и потерями в случае неудавшегося эксперимента. Последующие пункты дают представление о том, как можно анализировать получаемые данные в ходе проведения A/A/B теста, с учётом первоначальной проверки контрольных групп на соответствие условиям организации эксперимента."
   ]
  },
  {
   "cell_type": "markdown",
   "metadata": {},
   "source": [
    "### Число и уникальность пользователей в экспериментальных группах"
   ]
  },
  {
   "cell_type": "markdown",
   "metadata": {},
   "source": [
    "Выведем число пользователей в каждой экспериментальной группе:"
   ]
  },
  {
   "cell_type": "code",
   "execution_count": 29,
   "metadata": {},
   "outputs": [
    {
     "data": {
      "text/html": [
       "<div>\n",
       "<style scoped>\n",
       "    .dataframe tbody tr th:only-of-type {\n",
       "        vertical-align: middle;\n",
       "    }\n",
       "\n",
       "    .dataframe tbody tr th {\n",
       "        vertical-align: top;\n",
       "    }\n",
       "\n",
       "    .dataframe thead th {\n",
       "        text-align: right;\n",
       "    }\n",
       "</style>\n",
       "<table border=\"1\" class=\"dataframe\">\n",
       "  <thead>\n",
       "    <tr style=\"text-align: right;\">\n",
       "      <th></th>\n",
       "      <th>group</th>\n",
       "      <th>n_users</th>\n",
       "      <th>pct</th>\n",
       "      <th>group_name</th>\n",
       "    </tr>\n",
       "  </thead>\n",
       "  <tbody>\n",
       "    <tr>\n",
       "      <th>0</th>\n",
       "      <td>246</td>\n",
       "      <td>2484</td>\n",
       "      <td>32.97</td>\n",
       "      <td>A1</td>\n",
       "    </tr>\n",
       "    <tr>\n",
       "      <th>1</th>\n",
       "      <td>247</td>\n",
       "      <td>2513</td>\n",
       "      <td>33.36</td>\n",
       "      <td>A2</td>\n",
       "    </tr>\n",
       "    <tr>\n",
       "      <th>2</th>\n",
       "      <td>248</td>\n",
       "      <td>2537</td>\n",
       "      <td>33.67</td>\n",
       "      <td>B</td>\n",
       "    </tr>\n",
       "  </tbody>\n",
       "</table>\n",
       "</div>"
      ],
      "text/plain": [
       "   group  n_users    pct group_name\n",
       "0    246     2484  32.97         A1\n",
       "1    247     2513  33.36         A2\n",
       "2    248     2537  33.67          B"
      ]
     },
     "execution_count": 29,
     "metadata": {},
     "output_type": "execute_result"
    }
   ],
   "source": [
    "groups_representation = groups_representation.assign(group_name=pd.Series(['A1', 'A2', 'B']).values)\n",
    "groups_representation"
   ]
  },
  {
   "cell_type": "markdown",
   "metadata": {},
   "source": [
    "Различие числа пользователей для двух контрольных групп составляет в пределах 1%, разница между контрольными группами и целевой группой также равна около 1%."
   ]
  },
  {
   "cell_type": "code",
   "execution_count": 30,
   "metadata": {},
   "outputs": [
    {
     "data": {
      "text/plain": [
       "0         NaN\n",
       "1    0.011675\n",
       "2    0.009550\n",
       "Name: n_users, dtype: float64"
      ]
     },
     "execution_count": 30,
     "metadata": {},
     "output_type": "execute_result"
    }
   ],
   "source": [
    "groups_representation['n_users'].pct_change()"
   ]
  },
  {
   "cell_type": "markdown",
   "metadata": {},
   "source": [
    "Проверим пользователей приложения на их принадлежность только к одной экспериментальной группе (246-A1, 247-A2 или B):"
   ]
  },
  {
   "cell_type": "code",
   "execution_count": 31,
   "metadata": {},
   "outputs": [
    {
     "name": "stdout",
     "output_type": "stream",
     "text": [
      "Пользователи в каждой экспериментальной группе уникальны\n"
     ]
    }
   ],
   "source": [
    "users_check = full_records.groupby('user_id').agg({'group':'nunique'}).query('group > 1').reset_index()\n",
    "if len(users_check) == 0:\n",
    "    print('Пользователи в каждой экспериментальной группе уникальны')\n",
    "else:\n",
    "    print('Есть уникальные пользователи, которые принадлежат нескольким группам')"
   ]
  },
  {
   "cell_type": "markdown",
   "metadata": {},
   "source": [
    "### Оценка разницы в статистических критериях для контрольных групп A/A"
   ]
  },
  {
   "cell_type": "markdown",
   "metadata": {},
   "source": [
    "#### Оценка статистической разницы в конверсии для контрольных групп"
   ]
  },
  {
   "cell_type": "markdown",
   "metadata": {},
   "source": [
    "В качестве критерия для сравнения поведения контрольных групп используем конверсию для каждой из них:"
   ]
  },
  {
   "cell_type": "code",
   "execution_count": 32,
   "metadata": {},
   "outputs": [
    {
     "data": {
      "text/html": [
       "<div>\n",
       "<style scoped>\n",
       "    .dataframe tbody tr th:only-of-type {\n",
       "        vertical-align: middle;\n",
       "    }\n",
       "\n",
       "    .dataframe tbody tr th {\n",
       "        vertical-align: top;\n",
       "    }\n",
       "\n",
       "    .dataframe thead th {\n",
       "        text-align: right;\n",
       "    }\n",
       "</style>\n",
       "<table border=\"1\" class=\"dataframe\">\n",
       "  <thead>\n",
       "    <tr style=\"text-align: right;\">\n",
       "      <th></th>\n",
       "      <th>event_name</th>\n",
       "      <th>n_users_246</th>\n",
       "    </tr>\n",
       "  </thead>\n",
       "  <tbody>\n",
       "    <tr>\n",
       "      <th>0</th>\n",
       "      <td>MainScreenAppear</td>\n",
       "      <td>2450</td>\n",
       "    </tr>\n",
       "    <tr>\n",
       "      <th>1</th>\n",
       "      <td>OffersScreenAppear</td>\n",
       "      <td>1542</td>\n",
       "    </tr>\n",
       "    <tr>\n",
       "      <th>2</th>\n",
       "      <td>CartScreenAppear</td>\n",
       "      <td>1266</td>\n",
       "    </tr>\n",
       "    <tr>\n",
       "      <th>3</th>\n",
       "      <td>PaymentScreenSuccessful</td>\n",
       "      <td>1200</td>\n",
       "    </tr>\n",
       "  </tbody>\n",
       "</table>\n",
       "</div>"
      ],
      "text/plain": [
       "                event_name  n_users_246\n",
       "0         MainScreenAppear         2450\n",
       "1       OffersScreenAppear         1542\n",
       "2         CartScreenAppear         1266\n",
       "3  PaymentScreenSuccessful         1200"
      ]
     },
     "execution_count": 32,
     "metadata": {},
     "output_type": "execute_result"
    }
   ],
   "source": [
    "events_and_users_group246 = (\n",
    "    full_records.query('(event_name !=\"Tutorial\") & (group == 246)')\n",
    "                .groupby('event_name')\n",
    "                .agg({'user_id':'nunique'})\n",
    "                .rename(columns={'user_id':'n_users_246'})\n",
    "                .sort_values(by='n_users_246', ascending=False)\n",
    "                .reset_index()\n",
    ")\n",
    "\n",
    "events_and_users_group246"
   ]
  },
  {
   "cell_type": "markdown",
   "metadata": {},
   "source": [
    "Определим конверсию пользователей приложения в покупателей для контрольной группы 246, с учетом того, что число пользователей приложения для каждой группы представлено в таблице *groups_representation*:"
   ]
  },
  {
   "cell_type": "code",
   "execution_count": 33,
   "metadata": {},
   "outputs": [
    {
     "name": "stdout",
     "output_type": "stream",
     "text": [
      "0.4831\n"
     ]
    }
   ],
   "source": [
    "p1 = events_and_users_group246['n_users_246'].loc[3] / groups_representation['n_users'].loc[0]\n",
    "print(p1.round(4))"
   ]
  },
  {
   "cell_type": "markdown",
   "metadata": {},
   "source": [
    "Аналогичные вычисления проведём для второй контрольной группы пользователей:"
   ]
  },
  {
   "cell_type": "code",
   "execution_count": 34,
   "metadata": {},
   "outputs": [
    {
     "data": {
      "text/html": [
       "<div>\n",
       "<style scoped>\n",
       "    .dataframe tbody tr th:only-of-type {\n",
       "        vertical-align: middle;\n",
       "    }\n",
       "\n",
       "    .dataframe tbody tr th {\n",
       "        vertical-align: top;\n",
       "    }\n",
       "\n",
       "    .dataframe thead th {\n",
       "        text-align: right;\n",
       "    }\n",
       "</style>\n",
       "<table border=\"1\" class=\"dataframe\">\n",
       "  <thead>\n",
       "    <tr style=\"text-align: right;\">\n",
       "      <th></th>\n",
       "      <th>event_name</th>\n",
       "      <th>n_users_247</th>\n",
       "    </tr>\n",
       "  </thead>\n",
       "  <tbody>\n",
       "    <tr>\n",
       "      <th>0</th>\n",
       "      <td>MainScreenAppear</td>\n",
       "      <td>2476</td>\n",
       "    </tr>\n",
       "    <tr>\n",
       "      <th>1</th>\n",
       "      <td>OffersScreenAppear</td>\n",
       "      <td>1520</td>\n",
       "    </tr>\n",
       "    <tr>\n",
       "      <th>2</th>\n",
       "      <td>CartScreenAppear</td>\n",
       "      <td>1238</td>\n",
       "    </tr>\n",
       "    <tr>\n",
       "      <th>3</th>\n",
       "      <td>PaymentScreenSuccessful</td>\n",
       "      <td>1158</td>\n",
       "    </tr>\n",
       "  </tbody>\n",
       "</table>\n",
       "</div>"
      ],
      "text/plain": [
       "                event_name  n_users_247\n",
       "0         MainScreenAppear         2476\n",
       "1       OffersScreenAppear         1520\n",
       "2         CartScreenAppear         1238\n",
       "3  PaymentScreenSuccessful         1158"
      ]
     },
     "execution_count": 34,
     "metadata": {},
     "output_type": "execute_result"
    }
   ],
   "source": [
    "events_and_users_group247 = (\n",
    "    full_records.query('(event_name !=\"Tutorial\") & (group == 247)')\n",
    "                .groupby('event_name')\n",
    "                .agg({'user_id':'nunique'})\n",
    "                .rename(columns={'user_id':'n_users_247'})\n",
    "                .sort_values(by='n_users_247', ascending=False)\n",
    "                .reset_index()\n",
    ")\n",
    "\n",
    "events_and_users_group247"
   ]
  },
  {
   "cell_type": "markdown",
   "metadata": {},
   "source": [
    "Определим конверсию пользователей приложения в покупателей для контрольной группы 247:"
   ]
  },
  {
   "cell_type": "code",
   "execution_count": 35,
   "metadata": {},
   "outputs": [
    {
     "name": "stdout",
     "output_type": "stream",
     "text": [
      "0.4608\n"
     ]
    }
   ],
   "source": [
    "p2 = events_and_users_group247['n_users_247'].loc[3] / groups_representation['n_users'].loc[1]\n",
    "print(p2.round(4))"
   ]
  },
  {
   "cell_type": "markdown",
   "metadata": {},
   "source": [
    "Оценим конверсию в комбинированном датасете для двух контрольных групп:"
   ]
  },
  {
   "cell_type": "code",
   "execution_count": 36,
   "metadata": {},
   "outputs": [
    {
     "data": {
      "text/plain": [
       "0.4719"
      ]
     },
     "execution_count": 36,
     "metadata": {},
     "output_type": "execute_result"
    }
   ],
   "source": [
    "p_combined = ((events_and_users_group246['n_users_246'].loc[3] + events_and_users_group247['n_users_247'].loc[3]) / \n",
    "               (groups_representation['n_users'].loc[0] + groups_representation['n_users'].loc[1])\n",
    "              )\n",
    "p_combined.round(4)"
   ]
  },
  {
   "cell_type": "markdown",
   "metadata": {},
   "source": [
    "Определим разницу в значениях конверсий в датасетах контрольных групп:"
   ]
  },
  {
   "cell_type": "code",
   "execution_count": 37,
   "metadata": {},
   "outputs": [
    {
     "data": {
      "text/plain": [
       "0.0223"
      ]
     },
     "execution_count": 37,
     "metadata": {},
     "output_type": "execute_result"
    }
   ],
   "source": [
    "difference = p1 - p2\n",
    "difference.round(4)"
   ]
  },
  {
   "cell_type": "markdown",
   "metadata": {},
   "source": [
    "Проверим гипотезу о равенстве долей (конверсий). \n",
    "\n",
    "В качестве **нулевой гипотезы H0** примем, что конверсия контрольной группы 246 равна конверсии контрольной группы 247. \n",
    "\n",
    "**Альтернативной гипотезой H1** будет следующая: конверсия контрольной группы 246 не равна конверсии контрольной группы 247. \n",
    "\n",
    "Посчитаем статистику в стандартных отклонениях стандартного нормального распределения:"
   ]
  },
  {
   "cell_type": "code",
   "execution_count": 38,
   "metadata": {},
   "outputs": [
    {
     "data": {
      "text/plain": [
       "1.578"
      ]
     },
     "execution_count": 38,
     "metadata": {},
     "output_type": "execute_result"
    }
   ],
   "source": [
    "z_value = (\n",
    "    difference / mth.sqrt(p_combined * (1 - p_combined) * \n",
    "                    (1/groups_representation['n_users'].loc[0] + 1/groups_representation['n_users'].loc[1]))\n",
    "                         )\n",
    "z_value.round(4)"
   ]
  },
  {
   "cell_type": "markdown",
   "metadata": {},
   "source": [
    "Зададим стандартное нормальное распределение (среднее 0, стандартное отклонение 1)"
   ]
  },
  {
   "cell_type": "code",
   "execution_count": 39,
   "metadata": {},
   "outputs": [],
   "source": [
    "distr = st.norm(0, 1)"
   ]
  },
  {
   "cell_type": "markdown",
   "metadata": {},
   "source": [
    "Определим уровень значимости для этой статистики — p-value, который будет сравниваться с выбранным уровнем значимости alpha, и в зависимости от его значения нулевая гипотеза (гипотеза о равенстве) будет либо отвергаться (p-value < alpha), либо нет (p-value > alpha). Зададим критический уровень статистической значимости alpha = 0.05. Тест в данном случае - двусторонний, что исключает направленность."
   ]
  },
  {
   "cell_type": "code",
   "execution_count": 40,
   "metadata": {},
   "outputs": [
    {
     "name": "stdout",
     "output_type": "stream",
     "text": [
      "p-value= 0.1146\n",
      "Не получилось отвергнуть нулевую гипотезу, нет оснований считать доли разными\n"
     ]
    }
   ],
   "source": [
    "alpha = 0.05\n",
    "p_value = (1 - distr.cdf(abs(z_value))) * 2\n",
    "print('p-value=', p_value.round(4))\n",
    "\n",
    "if p_value < alpha:\n",
    "    print('Отвергаем нулевую гипотезу: между долями есть значимая разница')\n",
    "else:\n",
    "    print(\n",
    "        'Не получилось отвергнуть нулевую гипотезу, нет оснований считать доли разными'\n",
    "    ) "
   ]
  },
  {
   "cell_type": "markdown",
   "metadata": {},
   "source": [
    "Результаты проверки показали, что конверсия контрольной группы 246 равна конверсии контрольной группы 247 при уровне статистической значимости alpha = 0.05. Соответственно, контрольные группы сформированы верно."
   ]
  },
  {
   "cell_type": "markdown",
   "metadata": {},
   "source": [
    "#### Оценка статистической разницы в конверсии для контрольной группы А1 и целевой группы В"
   ]
  },
  {
   "cell_type": "markdown",
   "metadata": {},
   "source": [
    "На примере первой контрольной группы (246) и целевой группы (248) оценим статистическую разницу в конверсиях в результате внедрения нового шрифта. Сформируем сводную таблицу с числом событий, совершенных пользователями целевой группы:"
   ]
  },
  {
   "cell_type": "code",
   "execution_count": 41,
   "metadata": {},
   "outputs": [
    {
     "data": {
      "text/html": [
       "<div>\n",
       "<style scoped>\n",
       "    .dataframe tbody tr th:only-of-type {\n",
       "        vertical-align: middle;\n",
       "    }\n",
       "\n",
       "    .dataframe tbody tr th {\n",
       "        vertical-align: top;\n",
       "    }\n",
       "\n",
       "    .dataframe thead th {\n",
       "        text-align: right;\n",
       "    }\n",
       "</style>\n",
       "<table border=\"1\" class=\"dataframe\">\n",
       "  <thead>\n",
       "    <tr style=\"text-align: right;\">\n",
       "      <th></th>\n",
       "      <th>event_name</th>\n",
       "      <th>n_users_248</th>\n",
       "    </tr>\n",
       "  </thead>\n",
       "  <tbody>\n",
       "    <tr>\n",
       "      <th>0</th>\n",
       "      <td>MainScreenAppear</td>\n",
       "      <td>2493</td>\n",
       "    </tr>\n",
       "    <tr>\n",
       "      <th>1</th>\n",
       "      <td>OffersScreenAppear</td>\n",
       "      <td>1531</td>\n",
       "    </tr>\n",
       "    <tr>\n",
       "      <th>2</th>\n",
       "      <td>CartScreenAppear</td>\n",
       "      <td>1230</td>\n",
       "    </tr>\n",
       "    <tr>\n",
       "      <th>3</th>\n",
       "      <td>PaymentScreenSuccessful</td>\n",
       "      <td>1181</td>\n",
       "    </tr>\n",
       "  </tbody>\n",
       "</table>\n",
       "</div>"
      ],
      "text/plain": [
       "                event_name  n_users_248\n",
       "0         MainScreenAppear         2493\n",
       "1       OffersScreenAppear         1531\n",
       "2         CartScreenAppear         1230\n",
       "3  PaymentScreenSuccessful         1181"
      ]
     },
     "execution_count": 41,
     "metadata": {},
     "output_type": "execute_result"
    }
   ],
   "source": [
    "events_and_users_group248 = (\n",
    "    full_records.query('(event_name !=\"Tutorial\") & (group == 248)')\n",
    "                .groupby('event_name')\n",
    "                .agg({'user_id':'nunique'})\n",
    "                .rename(columns={'user_id':'n_users_248'})\n",
    "                .sort_values(by='n_users_248', ascending=False)\n",
    "                .reset_index()\n",
    ")\n",
    "\n",
    "events_and_users_group248"
   ]
  },
  {
   "cell_type": "markdown",
   "metadata": {},
   "source": [
    "Определим конверсию пользователей приложения в покупателей для контрольной группы 246:"
   ]
  },
  {
   "cell_type": "code",
   "execution_count": 42,
   "metadata": {},
   "outputs": [
    {
     "name": "stdout",
     "output_type": "stream",
     "text": [
      "0.4831\n"
     ]
    }
   ],
   "source": [
    "p1 = events_and_users_group246['n_users_246'].loc[3] / groups_representation['n_users'].loc[0]\n",
    "print(p1.round(4))"
   ]
  },
  {
   "cell_type": "markdown",
   "metadata": {},
   "source": [
    "Определим конверсию пользователей приложения в покупателей для целевой группы 248:"
   ]
  },
  {
   "cell_type": "code",
   "execution_count": 43,
   "metadata": {},
   "outputs": [
    {
     "name": "stdout",
     "output_type": "stream",
     "text": [
      "0.4655\n"
     ]
    }
   ],
   "source": [
    "p2 = events_and_users_group248['n_users_248'].loc[3] / groups_representation['n_users'].loc[2]\n",
    "print(p2.round(4))"
   ]
  },
  {
   "cell_type": "markdown",
   "metadata": {},
   "source": [
    "Оценим конверсию в комбинированном датасете для двух групп:"
   ]
  },
  {
   "cell_type": "code",
   "execution_count": 44,
   "metadata": {},
   "outputs": [
    {
     "data": {
      "text/plain": [
       "0.4742"
      ]
     },
     "execution_count": 44,
     "metadata": {},
     "output_type": "execute_result"
    }
   ],
   "source": [
    "p_combined = ((events_and_users_group246['n_users_246'].loc[3] + events_and_users_group248['n_users_248'].loc[3]) / \n",
    "               (groups_representation['n_users'].loc[0] + groups_representation['n_users'].loc[2])\n",
    "              )\n",
    "p_combined.round(4)"
   ]
  },
  {
   "cell_type": "code",
   "execution_count": 45,
   "metadata": {},
   "outputs": [],
   "source": [
    "difference = p1 - p2"
   ]
  },
  {
   "cell_type": "markdown",
   "metadata": {},
   "source": [
    "Посчитаем статистику в стандартных отклонениях стандартного нормального распределения:"
   ]
  },
  {
   "cell_type": "code",
   "execution_count": 46,
   "metadata": {},
   "outputs": [
    {
     "data": {
      "text/plain": [
       "1.2474"
      ]
     },
     "execution_count": 46,
     "metadata": {},
     "output_type": "execute_result"
    }
   ],
   "source": [
    "z_value = (\n",
    "    difference / mth.sqrt(p_combined * (1 - p_combined) * \n",
    "                    (1/groups_representation['n_users'].loc[0] + 1/groups_representation['n_users'].loc[2]))\n",
    "                         )\n",
    "z_value.round(4)"
   ]
  },
  {
   "cell_type": "markdown",
   "metadata": {},
   "source": [
    "Определим уровень значимости для этой статистики — p-value. \n",
    "\n",
    "Сформулируем **нулевую гипотезу H0**: конверсия контрольной группы 246 равна конверсии целевой группы 248. \n",
    "\n",
    "**Альтернативной гипотезой H1** будет следующая: конверсия контрольной группы 246 не равна конверсии целевой группы 248. "
   ]
  },
  {
   "cell_type": "code",
   "execution_count": 47,
   "metadata": {},
   "outputs": [
    {
     "name": "stdout",
     "output_type": "stream",
     "text": [
      "p-value= 0.2123\n",
      "Не получилось отвергнуть нулевую гипотезу, нет оснований считать доли разными\n"
     ]
    }
   ],
   "source": [
    "alpha = 0.05\n",
    "p_value = (1 - distr.cdf(abs(z_value))) * 2\n",
    "print('p-value=', p_value.round(4))\n",
    "\n",
    "if p_value < alpha:\n",
    "    print('Отвергаем нулевую гипотезу: между долями есть значимая разница')\n",
    "else:\n",
    "    print(\n",
    "        'Не получилось отвергнуть нулевую гипотезу, нет оснований считать доли разными'\n",
    "    ) "
   ]
  },
  {
   "cell_type": "markdown",
   "metadata": {},
   "source": [
    "Вывод к которому мы пришли: конверсия контрольной группы 246 равна конверсии целевой группы 248 при уровне статистической значимости alpha = 0.05."
   ]
  },
  {
   "cell_type": "markdown",
   "metadata": {},
   "source": [
    "#### Оценка статистической разницы по доле пользовательских событий в контрольных группах"
   ]
  },
  {
   "cell_type": "markdown",
   "metadata": {},
   "source": [
    "Определим число и долю пользователей из контрольных групп, совершивших определённое событие в приложении:"
   ]
  },
  {
   "cell_type": "code",
   "execution_count": 48,
   "metadata": {},
   "outputs": [
    {
     "data": {
      "text/html": [
       "<div>\n",
       "<style scoped>\n",
       "    .dataframe tbody tr th:only-of-type {\n",
       "        vertical-align: middle;\n",
       "    }\n",
       "\n",
       "    .dataframe tbody tr th {\n",
       "        vertical-align: top;\n",
       "    }\n",
       "\n",
       "    .dataframe thead th {\n",
       "        text-align: right;\n",
       "    }\n",
       "</style>\n",
       "<table border=\"1\" class=\"dataframe\">\n",
       "  <thead>\n",
       "    <tr style=\"text-align: right;\">\n",
       "      <th></th>\n",
       "      <th>event_name</th>\n",
       "      <th>n_users_246</th>\n",
       "      <th>pct_users_246</th>\n",
       "    </tr>\n",
       "  </thead>\n",
       "  <tbody>\n",
       "    <tr>\n",
       "      <th>0</th>\n",
       "      <td>MainScreenAppear</td>\n",
       "      <td>2450</td>\n",
       "      <td>0.986312</td>\n",
       "    </tr>\n",
       "    <tr>\n",
       "      <th>1</th>\n",
       "      <td>OffersScreenAppear</td>\n",
       "      <td>1542</td>\n",
       "      <td>0.620773</td>\n",
       "    </tr>\n",
       "    <tr>\n",
       "      <th>2</th>\n",
       "      <td>CartScreenAppear</td>\n",
       "      <td>1266</td>\n",
       "      <td>0.509662</td>\n",
       "    </tr>\n",
       "    <tr>\n",
       "      <th>3</th>\n",
       "      <td>PaymentScreenSuccessful</td>\n",
       "      <td>1200</td>\n",
       "      <td>0.483092</td>\n",
       "    </tr>\n",
       "  </tbody>\n",
       "</table>\n",
       "</div>"
      ],
      "text/plain": [
       "                event_name  n_users_246  pct_users_246\n",
       "0         MainScreenAppear         2450       0.986312\n",
       "1       OffersScreenAppear         1542       0.620773\n",
       "2         CartScreenAppear         1266       0.509662\n",
       "3  PaymentScreenSuccessful         1200       0.483092"
      ]
     },
     "execution_count": 48,
     "metadata": {},
     "output_type": "execute_result"
    }
   ],
   "source": [
    "events_and_users_group246['pct_users_246'] = events_and_users_group246['n_users_246'] / groups_representation['n_users'].loc[0]\n",
    "events_and_users_group246"
   ]
  },
  {
   "cell_type": "code",
   "execution_count": 49,
   "metadata": {},
   "outputs": [
    {
     "data": {
      "text/html": [
       "<div>\n",
       "<style scoped>\n",
       "    .dataframe tbody tr th:only-of-type {\n",
       "        vertical-align: middle;\n",
       "    }\n",
       "\n",
       "    .dataframe tbody tr th {\n",
       "        vertical-align: top;\n",
       "    }\n",
       "\n",
       "    .dataframe thead th {\n",
       "        text-align: right;\n",
       "    }\n",
       "</style>\n",
       "<table border=\"1\" class=\"dataframe\">\n",
       "  <thead>\n",
       "    <tr style=\"text-align: right;\">\n",
       "      <th></th>\n",
       "      <th>event_name</th>\n",
       "      <th>n_users_247</th>\n",
       "      <th>pct_users_247</th>\n",
       "    </tr>\n",
       "  </thead>\n",
       "  <tbody>\n",
       "    <tr>\n",
       "      <th>0</th>\n",
       "      <td>MainScreenAppear</td>\n",
       "      <td>2476</td>\n",
       "      <td>0.985277</td>\n",
       "    </tr>\n",
       "    <tr>\n",
       "      <th>1</th>\n",
       "      <td>OffersScreenAppear</td>\n",
       "      <td>1520</td>\n",
       "      <td>0.604855</td>\n",
       "    </tr>\n",
       "    <tr>\n",
       "      <th>2</th>\n",
       "      <td>CartScreenAppear</td>\n",
       "      <td>1238</td>\n",
       "      <td>0.492638</td>\n",
       "    </tr>\n",
       "    <tr>\n",
       "      <th>3</th>\n",
       "      <td>PaymentScreenSuccessful</td>\n",
       "      <td>1158</td>\n",
       "      <td>0.460804</td>\n",
       "    </tr>\n",
       "  </tbody>\n",
       "</table>\n",
       "</div>"
      ],
      "text/plain": [
       "                event_name  n_users_247  pct_users_247\n",
       "0         MainScreenAppear         2476       0.985277\n",
       "1       OffersScreenAppear         1520       0.604855\n",
       "2         CartScreenAppear         1238       0.492638\n",
       "3  PaymentScreenSuccessful         1158       0.460804"
      ]
     },
     "execution_count": 49,
     "metadata": {},
     "output_type": "execute_result"
    }
   ],
   "source": [
    "events_and_users_group247['pct_users_247'] = events_and_users_group247['n_users_247'] / groups_representation['n_users'].loc[1]\n",
    "events_and_users_group247"
   ]
  },
  {
   "cell_type": "markdown",
   "metadata": {},
   "source": [
    "Проверим с использованием универсальной функции, будет ли отличие между контрольными группами статистически достоверным по числу пользователей, совершивших определенное событие:"
   ]
  },
  {
   "cell_type": "code",
   "execution_count": 50,
   "metadata": {},
   "outputs": [
    {
     "data": {
      "text/plain": [
       "['MainScreenAppear',\n",
       " 'OffersScreenAppear',\n",
       " 'CartScreenAppear',\n",
       " 'PaymentScreenSuccessful']"
      ]
     },
     "execution_count": 50,
     "metadata": {},
     "output_type": "execute_result"
    }
   ],
   "source": [
    "# исключение события, связанного с использованием руководства пользователя Tutorial\n",
    "filtered_events = events_and_users['event_name'].unique().tolist()\n",
    "filtered_events.remove(\"Tutorial\")\n",
    "filtered_events"
   ]
  },
  {
   "cell_type": "code",
   "execution_count": 51,
   "metadata": {},
   "outputs": [
    {
     "data": {
      "text/html": [
       "<div>\n",
       "<style scoped>\n",
       "    .dataframe tbody tr th:only-of-type {\n",
       "        vertical-align: middle;\n",
       "    }\n",
       "\n",
       "    .dataframe tbody tr th {\n",
       "        vertical-align: top;\n",
       "    }\n",
       "\n",
       "    .dataframe thead th {\n",
       "        text-align: right;\n",
       "    }\n",
       "</style>\n",
       "<table border=\"1\" class=\"dataframe\">\n",
       "  <thead>\n",
       "    <tr style=\"text-align: right;\">\n",
       "      <th></th>\n",
       "      <th>event_name</th>\n",
       "      <th>user_id</th>\n",
       "      <th>event_timestamp</th>\n",
       "      <th>group</th>\n",
       "      <th>month</th>\n",
       "      <th>group_name</th>\n",
       "    </tr>\n",
       "  </thead>\n",
       "  <tbody>\n",
       "    <tr>\n",
       "      <th>2829</th>\n",
       "      <td>MainScreenAppear</td>\n",
       "      <td>3737462046622621720</td>\n",
       "      <td>2019-08-01 00:08:00</td>\n",
       "      <td>246</td>\n",
       "      <td>2019-08-01</td>\n",
       "      <td>A</td>\n",
       "    </tr>\n",
       "    <tr>\n",
       "      <th>2830</th>\n",
       "      <td>MainScreenAppear</td>\n",
       "      <td>3737462046622621720</td>\n",
       "      <td>2019-08-01 00:08:55</td>\n",
       "      <td>246</td>\n",
       "      <td>2019-08-01</td>\n",
       "      <td>A</td>\n",
       "    </tr>\n",
       "    <tr>\n",
       "      <th>2831</th>\n",
       "      <td>OffersScreenAppear</td>\n",
       "      <td>3737462046622621720</td>\n",
       "      <td>2019-08-01 00:08:58</td>\n",
       "      <td>246</td>\n",
       "      <td>2019-08-01</td>\n",
       "      <td>A</td>\n",
       "    </tr>\n",
       "    <tr>\n",
       "      <th>2832</th>\n",
       "      <td>MainScreenAppear</td>\n",
       "      <td>1433840883824088890</td>\n",
       "      <td>2019-08-01 00:08:59</td>\n",
       "      <td>247</td>\n",
       "      <td>2019-08-01</td>\n",
       "      <td>A</td>\n",
       "    </tr>\n",
       "    <tr>\n",
       "      <th>2833</th>\n",
       "      <td>MainScreenAppear</td>\n",
       "      <td>4899590676214355127</td>\n",
       "      <td>2019-08-01 00:10:15</td>\n",
       "      <td>247</td>\n",
       "      <td>2019-08-01</td>\n",
       "      <td>A</td>\n",
       "    </tr>\n",
       "  </tbody>\n",
       "</table>\n",
       "</div>"
      ],
      "text/plain": [
       "              event_name              user_id     event_timestamp  group  \\\n",
       "2829    MainScreenAppear  3737462046622621720 2019-08-01 00:08:00    246   \n",
       "2830    MainScreenAppear  3737462046622621720 2019-08-01 00:08:55    246   \n",
       "2831  OffersScreenAppear  3737462046622621720 2019-08-01 00:08:58    246   \n",
       "2832    MainScreenAppear  1433840883824088890 2019-08-01 00:08:59    247   \n",
       "2833    MainScreenAppear  4899590676214355127 2019-08-01 00:10:15    247   \n",
       "\n",
       "          month group_name  \n",
       "2829 2019-08-01          A  \n",
       "2830 2019-08-01          A  \n",
       "2831 2019-08-01          A  \n",
       "2832 2019-08-01          A  \n",
       "2833 2019-08-01          A  "
      ]
     },
     "execution_count": 51,
     "metadata": {},
     "output_type": "execute_result"
    }
   ],
   "source": [
    "# формирование датасета событий без события Tutorial\n",
    "full_records_without_tutorial = full_records.query('event_name !=\"Tutorial\"')\n",
    "full_records_without_tutorial.head()"
   ]
  },
  {
   "cell_type": "markdown",
   "metadata": {},
   "source": [
    "Чтобы снизить вероятность ложнопозитивного результата при множественном тестировании гипотез, используем метод Шидака для корректировки уровня значимости. Для этого зададим начальный критический уровень статистической значимости alpha = 0.05 и скорректируем его для общего числа сравнений, планируемых в данной работе (16): 4 гипотезы, проверяемые на 4-х экспериментальных взаимодействиях (А1/А2, A1/B, A2/B, A1+A2/B)."
   ]
  },
  {
   "cell_type": "code",
   "execution_count": 52,
   "metadata": {},
   "outputs": [],
   "source": [
    "def stat_confidence(x, y, data):\n",
    "\n",
    "    print(data.loc[[x, y]])\n",
    "    successes = data\n",
    "    trials = groups_representation['n_users']\n",
    "    \n",
    "    # доля успешных действий для первой сравниваемой группы\n",
    "    p1 = successes[x] / trials[x]\n",
    "\n",
    "    # доля успешных действий для второй сравниваемой группы\n",
    "    p2 = successes[y] / trials[y]\n",
    "    \n",
    "    # доля успехов в комбинированном датасете:\n",
    "    p_combined = (successes[x] + successes[y]) / (trials[x] + trials[y])\n",
    "\n",
    "    # разница пропорций в датасетах\n",
    "    difference = p1 - p2\n",
    "    \n",
    "    # считаем статистику в стандартных отклонениях стандартного нормального распределения\n",
    "    z_value = difference / mth.sqrt(p_combined * (1 - p_combined) * (1/trials[x] + 1/trials[y]))\n",
    "    \n",
    "    # задаём стандартное нормальное распределение (среднее 0, ст.отклонение 1)\n",
    "    distr = st.norm(0, 1)\n",
    "    \n",
    "    # задаём критический уровень статистической значимости\n",
    "    alpha = 0.05\n",
    "    \n",
    "    # вносим поправку в критический уровень статистической значимости, используя метод Шидака\n",
    "    alpha_shidaka = 1 - (1 - alpha)**(1/16)\n",
    "    \n",
    "    print('Скорректированный уровень значимости: ', round(alpha_shidaka, 3))\n",
    "    \n",
    "    p_value = ((1 - distr.cdf(abs(z_value))) * 2).round(3)\n",
    "\n",
    "    print('p-значение: ', p_value)\n",
    "\n",
    "    if p_value < alpha_shidaka:\n",
    "        print('Отвергаем нулевую гипотезу: между долями есть значимая разница')\n",
    "    else:\n",
    "        print('Не получилось отвергнуть нулевую гипотезу, нет оснований считать доли разными') "
   ]
  },
  {
   "cell_type": "code",
   "execution_count": 53,
   "metadata": {},
   "outputs": [
    {
     "name": "stdout",
     "output_type": "stream",
     "text": [
      "Нулевая гипотеза H0: доля событий в контрольной группе 246 равна доле событий в контрольной группе 247\n",
      "\n",
      "Событие: MainScreenAppear\n",
      "0    2450\n",
      "1    2476\n",
      "Name: user_id, dtype: int64\n",
      "Скорректированный уровень значимости:  0.003\n",
      "p-значение:  0.757\n",
      "Не получилось отвергнуть нулевую гипотезу, нет оснований считать доли разными\n",
      "\n",
      "Событие: OffersScreenAppear\n",
      "0    1542\n",
      "1    1520\n",
      "Name: user_id, dtype: int64\n",
      "Скорректированный уровень значимости:  0.003\n",
      "p-значение:  0.248\n",
      "Не получилось отвергнуть нулевую гипотезу, нет оснований считать доли разными\n",
      "\n",
      "Событие: CartScreenAppear\n",
      "0    1266\n",
      "1    1238\n",
      "Name: user_id, dtype: int64\n",
      "Скорректированный уровень значимости:  0.003\n",
      "p-значение:  0.229\n",
      "Не получилось отвергнуть нулевую гипотезу, нет оснований считать доли разными\n",
      "\n",
      "Событие: PaymentScreenSuccessful\n",
      "0    1200\n",
      "1    1158\n",
      "Name: user_id, dtype: int64\n",
      "Скорректированный уровень значимости:  0.003\n",
      "p-значение:  0.115\n",
      "Не получилось отвергнуть нулевую гипотезу, нет оснований считать доли разными\n",
      "\n"
     ]
    }
   ],
   "source": [
    "print('Нулевая гипотеза H0: доля событий в контрольной группе 246 равна доле событий в контрольной группе 247')\n",
    "print()\n",
    "for name in filtered_events:\n",
    "    data = (full_records_without_tutorial\n",
    "        .query('event_name == @name')\n",
    "        .groupby('group')\n",
    "        .agg({'user_id':'nunique'})\n",
    "        .reset_index())['user_id']\n",
    "        \n",
    "    print('Событие:', name)\n",
    "    stat_confidence(0, 1, data)\n",
    "    print()"
   ]
  },
  {
   "cell_type": "markdown",
   "metadata": {},
   "source": [
    "Нулевая гипотеза о равенстве долей событий не была опровергнута для всех событий в контрольных группах при скорректированном уровне статистической значимости alpha = 0.003."
   ]
  },
  {
   "cell_type": "markdown",
   "metadata": {},
   "source": [
    "### Оценка разницы в статистических критериях для контрольных и целевой групп"
   ]
  },
  {
   "cell_type": "markdown",
   "metadata": {},
   "source": [
    "Определим число и долю пользователей из целевой группы, совершивших определённое событие в приложении:"
   ]
  },
  {
   "cell_type": "code",
   "execution_count": 54,
   "metadata": {},
   "outputs": [
    {
     "data": {
      "text/html": [
       "<div>\n",
       "<style scoped>\n",
       "    .dataframe tbody tr th:only-of-type {\n",
       "        vertical-align: middle;\n",
       "    }\n",
       "\n",
       "    .dataframe tbody tr th {\n",
       "        vertical-align: top;\n",
       "    }\n",
       "\n",
       "    .dataframe thead th {\n",
       "        text-align: right;\n",
       "    }\n",
       "</style>\n",
       "<table border=\"1\" class=\"dataframe\">\n",
       "  <thead>\n",
       "    <tr style=\"text-align: right;\">\n",
       "      <th></th>\n",
       "      <th>event_name</th>\n",
       "      <th>n_users_248</th>\n",
       "      <th>pct_users_248</th>\n",
       "    </tr>\n",
       "  </thead>\n",
       "  <tbody>\n",
       "    <tr>\n",
       "      <th>0</th>\n",
       "      <td>MainScreenAppear</td>\n",
       "      <td>2493</td>\n",
       "      <td>0.982657</td>\n",
       "    </tr>\n",
       "    <tr>\n",
       "      <th>1</th>\n",
       "      <td>OffersScreenAppear</td>\n",
       "      <td>1531</td>\n",
       "      <td>0.603469</td>\n",
       "    </tr>\n",
       "    <tr>\n",
       "      <th>2</th>\n",
       "      <td>CartScreenAppear</td>\n",
       "      <td>1230</td>\n",
       "      <td>0.484825</td>\n",
       "    </tr>\n",
       "    <tr>\n",
       "      <th>3</th>\n",
       "      <td>PaymentScreenSuccessful</td>\n",
       "      <td>1181</td>\n",
       "      <td>0.465510</td>\n",
       "    </tr>\n",
       "  </tbody>\n",
       "</table>\n",
       "</div>"
      ],
      "text/plain": [
       "                event_name  n_users_248  pct_users_248\n",
       "0         MainScreenAppear         2493       0.982657\n",
       "1       OffersScreenAppear         1531       0.603469\n",
       "2         CartScreenAppear         1230       0.484825\n",
       "3  PaymentScreenSuccessful         1181       0.465510"
      ]
     },
     "execution_count": 54,
     "metadata": {},
     "output_type": "execute_result"
    }
   ],
   "source": [
    "events_and_users_group248 = (\n",
    "    full_records.query('(event_name !=\"Tutorial\") & (group == 248)')\n",
    "                .groupby('event_name')\n",
    "                .agg({'user_id':'nunique'})\n",
    "                .rename(columns={'user_id':'n_users_248'})\n",
    "                .sort_values(by='n_users_248', ascending=False)\n",
    "                .reset_index()\n",
    ")\n",
    "\n",
    "events_and_users_group248['pct_users_248'] = events_and_users_group248['n_users_248'] / groups_representation['n_users'].loc[2]\n",
    "events_and_users_group248"
   ]
  },
  {
   "cell_type": "markdown",
   "metadata": {},
   "source": [
    "#### Оценка статистической разницы по доле пользовательских событий между A1/B группами"
   ]
  },
  {
   "cell_type": "code",
   "execution_count": 55,
   "metadata": {},
   "outputs": [
    {
     "name": "stdout",
     "output_type": "stream",
     "text": [
      "Нулевая гипотеза H0: доля событий в контрольной группе 246 равна доле событий в целевой группе 248\n",
      "\n",
      "Событие: MainScreenAppear\n",
      "0    2450\n",
      "2    2493\n",
      "Name: user_id, dtype: int64\n",
      "Скорректированный уровень значимости:  0.003\n",
      "p-значение:  0.295\n",
      "Не получилось отвергнуть нулевую гипотезу, нет оснований считать доли разными\n",
      "\n",
      "Событие: OffersScreenAppear\n",
      "0    1542\n",
      "2    1531\n",
      "Name: user_id, dtype: int64\n",
      "Скорректированный уровень значимости:  0.003\n",
      "p-значение:  0.208\n",
      "Не получилось отвергнуть нулевую гипотезу, нет оснований считать доли разными\n",
      "\n",
      "Событие: CartScreenAppear\n",
      "0    1266\n",
      "2    1230\n",
      "Name: user_id, dtype: int64\n",
      "Скорректированный уровень значимости:  0.003\n",
      "p-значение:  0.078\n",
      "Не получилось отвергнуть нулевую гипотезу, нет оснований считать доли разными\n",
      "\n",
      "Событие: PaymentScreenSuccessful\n",
      "0    1200\n",
      "2    1181\n",
      "Name: user_id, dtype: int64\n",
      "Скорректированный уровень значимости:  0.003\n",
      "p-значение:  0.212\n",
      "Не получилось отвергнуть нулевую гипотезу, нет оснований считать доли разными\n",
      "\n"
     ]
    }
   ],
   "source": [
    "print('Нулевая гипотеза H0: доля событий в контрольной группе 246 равна доле событий в целевой группе 248')\n",
    "print()\n",
    "for name in filtered_events:\n",
    "    data = (full_records_without_tutorial\n",
    "        .query('event_name == @name')\n",
    "        .groupby('group')\n",
    "        .agg({'user_id':'nunique'})\n",
    "        .reset_index())['user_id']\n",
    "        \n",
    "    print('Событие:', name)\n",
    "    stat_confidence(0, 2, data)\n",
    "    print()"
   ]
  },
  {
   "cell_type": "markdown",
   "metadata": {},
   "source": [
    "Нулевая гипотеза о равенстве долей событий между первой контрольной и целевой группой не была опровергнута для всех событий в первой контрольной и целевой группах при скорректированном уровне статистической значимости alpha = 0.003."
   ]
  },
  {
   "cell_type": "markdown",
   "metadata": {},
   "source": [
    "#### Оценка статистической разницы по доле пользовательских событий между A2/B группами"
   ]
  },
  {
   "cell_type": "code",
   "execution_count": 56,
   "metadata": {},
   "outputs": [
    {
     "name": "stdout",
     "output_type": "stream",
     "text": [
      "Нулевая гипотеза H0: доля событий в контрольной группе 247 равна доле событий в целевой группе 248\n",
      "\n",
      "Событие: MainScreenAppear\n",
      "1    2476\n",
      "2    2493\n",
      "Name: user_id, dtype: int64\n",
      "Скорректированный уровень значимости:  0.003\n",
      "p-значение:  0.459\n",
      "Не получилось отвергнуть нулевую гипотезу, нет оснований считать доли разными\n",
      "\n",
      "Событие: OffersScreenAppear\n",
      "1    1520\n",
      "2    1531\n",
      "Name: user_id, dtype: int64\n",
      "Скорректированный уровень значимости:  0.003\n",
      "p-значение:  0.92\n",
      "Не получилось отвергнуть нулевую гипотезу, нет оснований считать доли разными\n",
      "\n",
      "Событие: CartScreenAppear\n",
      "1    1238\n",
      "2    1230\n",
      "Name: user_id, dtype: int64\n",
      "Скорректированный уровень значимости:  0.003\n",
      "p-значение:  0.579\n",
      "Не получилось отвергнуть нулевую гипотезу, нет оснований считать доли разными\n",
      "\n",
      "Событие: PaymentScreenSuccessful\n",
      "1    1158\n",
      "2    1181\n",
      "Name: user_id, dtype: int64\n",
      "Скорректированный уровень значимости:  0.003\n",
      "p-значение:  0.737\n",
      "Не получилось отвергнуть нулевую гипотезу, нет оснований считать доли разными\n",
      "\n"
     ]
    }
   ],
   "source": [
    "print('Нулевая гипотеза H0: доля событий в контрольной группе 247 равна доле событий в целевой группе 248')\n",
    "print()\n",
    "for name in filtered_events:\n",
    "    data = (full_records_without_tutorial\n",
    "        .query('event_name == @name')\n",
    "        .groupby('group')\n",
    "        .agg({'user_id':'nunique'})\n",
    "        .reset_index())['user_id']\n",
    "    \n",
    "    print('Событие:', name)\n",
    "    stat_confidence(1, 2, data)\n",
    "    print()"
   ]
  },
  {
   "cell_type": "markdown",
   "metadata": {},
   "source": [
    "Нулевая гипотеза о равенстве долей событий между второй контрольной и целевой группой не была опровергнута при скорректированном уровне статистической значимости alpha = 0.003."
   ]
  },
  {
   "cell_type": "markdown",
   "metadata": {},
   "source": [
    "#### Оценка статистической разницы по доле пользовательских событий между (А1+A2)/B группами"
   ]
  },
  {
   "cell_type": "markdown",
   "metadata": {},
   "source": [
    "Используем объединённую контрольную группу и определим число пользователей:"
   ]
  },
  {
   "cell_type": "code",
   "execution_count": 57,
   "metadata": {},
   "outputs": [
    {
     "data": {
      "text/html": [
       "<div>\n",
       "<style scoped>\n",
       "    .dataframe tbody tr th:only-of-type {\n",
       "        vertical-align: middle;\n",
       "    }\n",
       "\n",
       "    .dataframe tbody tr th {\n",
       "        vertical-align: top;\n",
       "    }\n",
       "\n",
       "    .dataframe thead th {\n",
       "        text-align: right;\n",
       "    }\n",
       "</style>\n",
       "<table border=\"1\" class=\"dataframe\">\n",
       "  <thead>\n",
       "    <tr style=\"text-align: right;\">\n",
       "      <th></th>\n",
       "      <th>group_name</th>\n",
       "      <th>n_users</th>\n",
       "    </tr>\n",
       "  </thead>\n",
       "  <tbody>\n",
       "    <tr>\n",
       "      <th>0</th>\n",
       "      <td>A</td>\n",
       "      <td>4995</td>\n",
       "    </tr>\n",
       "    <tr>\n",
       "      <th>1</th>\n",
       "      <td>B</td>\n",
       "      <td>2535</td>\n",
       "    </tr>\n",
       "  </tbody>\n",
       "</table>\n",
       "</div>"
      ],
      "text/plain": [
       "  group_name  n_users\n",
       "0          A     4995\n",
       "1          B     2535"
      ]
     },
     "execution_count": 57,
     "metadata": {},
     "output_type": "execute_result"
    }
   ],
   "source": [
    "groups_representation = (\n",
    "    full_records_without_tutorial.groupby('group_name')\n",
    "                                                     .agg({'user_id':'nunique'})\n",
    "                                                     .rename(columns={'user_id':'n_users'})\n",
    "                                                     .reset_index()\n",
    ")\n",
    "\n",
    "groups_representation"
   ]
  },
  {
   "cell_type": "markdown",
   "metadata": {},
   "source": [
    "Проведём оценку статистической разницы по доле пользовательских событий между объединённой контрольной группой и целевой группой:"
   ]
  },
  {
   "cell_type": "code",
   "execution_count": 58,
   "metadata": {},
   "outputs": [
    {
     "name": "stdout",
     "output_type": "stream",
     "text": [
      "Нулевая гипотеза H0: доля событий в объединённой контрольной группе равна доле событий в целевой группе\n",
      "\n",
      "Событие: MainScreenAppear\n",
      "0    4926\n",
      "1    2493\n",
      "Name: user_id, dtype: int64\n",
      "Скорректированный уровень значимости:  0.003\n",
      "p-значение:  0.349\n",
      "Не получилось отвергнуть нулевую гипотезу, нет оснований считать доли разными\n",
      "\n",
      "Событие: OffersScreenAppear\n",
      "0    3062\n",
      "1    1531\n",
      "Name: user_id, dtype: int64\n",
      "Скорректированный уровень значимости:  0.003\n",
      "p-значение:  0.446\n",
      "Не получилось отвергнуть нулевую гипотезу, нет оснований считать доли разными\n",
      "\n",
      "Событие: CartScreenAppear\n",
      "0    2504\n",
      "1    1230\n",
      "Name: user_id, dtype: int64\n",
      "Скорректированный уровень значимости:  0.003\n",
      "p-значение:  0.187\n",
      "Не получилось отвергнуть нулевую гипотезу, нет оснований считать доли разными\n",
      "\n",
      "Событие: PaymentScreenSuccessful\n",
      "0    2358\n",
      "1    1181\n",
      "Name: user_id, dtype: int64\n",
      "Скорректированный уровень значимости:  0.003\n",
      "p-значение:  0.611\n",
      "Не получилось отвергнуть нулевую гипотезу, нет оснований считать доли разными\n",
      "\n"
     ]
    }
   ],
   "source": [
    "print('Нулевая гипотеза H0: доля событий в объединённой контрольной группе равна доле событий в целевой группе')\n",
    "print()\n",
    "for name in filtered_events:\n",
    "    data = (full_records_without_tutorial\n",
    "        .query('event_name == @name')\n",
    "        .groupby('group_name')\n",
    "        .agg({'user_id':'nunique'})\n",
    "        .reset_index())['user_id']\n",
    "        \n",
    "    print('Событие:', name)\n",
    "    stat_confidence(0, 1, data)\n",
    "    print()"
   ]
  },
  {
   "cell_type": "markdown",
   "metadata": {},
   "source": [
    "Нулевая гипотеза о равенстве долей событий между объединённой контрольной группой и целевой группой не была опровергнута при скорректированном уровне статистической значимости alpha = 0.003."
   ]
  },
  {
   "cell_type": "markdown",
   "metadata": {},
   "source": [
    "### Влияние уровня значимости при проверке статистических гипотез"
   ]
  },
  {
   "cell_type": "markdown",
   "metadata": {},
   "source": [
    "Выбранный уровень значимости определяет результат проверки гипотез и правильность сделанных выводов. Выбор уровня значимости - это компромисс между заданным уровнем значимости и мощностью критерия. Снижая уровень значимости alpha, мы уменьшаем вероятность совершения ошибки первого рода (отвергаем верную Н0), но при этом увеличиваем вероятность совершения ошибки второго рода (принимаем неверную H0). \n",
    "\n",
    "В этой работе первоначальный статистический уровень значимости был выбран равным 0.05, определяя вероятность в 95%, что отличия в значениях конверсий или долях совершенных событий для экспериментальных групп является следствием изменений шрифта. Проверка нулевой гипотезы H0 о равенстве долей (конверсий) показала, что p-value для всех проверок превышал (в большинстве случаев существенно) этот уровень значимости. Тем самым, указывая на отсутствия эффекта от нововведения при выбранном уровне значимости.\n",
    "\n",
    "Чтобы снизить вероятность ложнопозитивного результата при множественном тестировании гипотез, был использован метод Шидака для корректировки уровня статистической значимости. Для этого начальный критический уровень статистической значимости alpha = 0.05 был скорректирован для общего числа сравнений, выполненных в данной работе (16): 4 гипотезы, проверяемые на 4-х экспериментальных взаимодействиях (А1/А2, A1/B, A2/B, A1+A2/B). Скорректированный уровень значимости, равный 0.003, предполагает использование более правильного подхода к решению задач о множественном тестировании гипотез, исключающего возможность изменить первоначально выбранный уровень значимости после проведения теста."
   ]
  },
  {
   "cell_type": "markdown",
   "metadata": {},
   "source": [
    "**Промежуточные выводы**\n",
    "* Различие числа пользователей для двух контрольных групп и целевой группой составляет около 1%;\n",
    "* Пользователи в каждой экспериментальной группе уникальны;\n",
    "* Оценка разницы в статистических критериях (конверсиях) для контрольных групп A/A показала, что при уровне статистической значимости alpha = 0.05 (вероятность 95%) нет оснований считать конверсии разными. Соответственно, контрольные группы сформированы верно, а условия проведения теста корректны;\n",
    "* Скорректированный методом Шидака уровень статистической значимости alpha_shidaka = 0.003;\n",
    "* Оценка статистической разницы по доле пользовательских событий в контрольных группах показала, что не получилось отвергнуть нулевую гипотезу о равенстве долей событий и нет оснований считать доли разными для двух контрольных групп при уровне статистической значимости alpha = 0.003;\n",
    "* Оценка статистической разницы по доле пользовательских событий между A1/B, A2/B и (А1+А2)/В группами также показала, что нельзя отвергнуть нулевую гипотезу при уровне статистической значимости alpha = 0.003. Как результат, нововведение с изменением шрифта не оказало статистически значимого влияния на пользовательское поведение и конверсию."
   ]
  },
  {
   "cell_type": "markdown",
   "metadata": {},
   "source": [
    "## Общие выводы"
   ]
  },
  {
   "cell_type": "markdown",
   "metadata": {},
   "source": [
    "* Данные файла-лога потребовали исключения из датасета дубликатов и преобразования формата Unix-времени;\n",
    "* Для анализа данных был выбран временной интервал с 1 по 7 августа 2019 г. с учётом полноты данных о событиях;\n",
    "* По данным лога число уникальных событий, совершенных пользователями, равно 5;\n",
    "* Среднее число событий, которое приходится на пользователя в анализируемом временном интервале равно 33-м, а среднее число уникальных событий, которое приходится на пользователя равно 3-м;\n",
    "* Из 5 уникальных событий приложения, 4 события выстраиваются в последовательную цепочку, формируя воронку: открытие приложения --> выбор товара --> оплата заказа --> подтверждение успешной оплаты.\n",
    "* Наибольшая потеря пользователей происходит на этапе перехода на страницу с предложениями товара. Это событие совершают около 62% пользователей, которые открыли главную страницу приложения. В дальнейшем, пятая часть из них не добавляют товар для совершения оплаты, а у почти 5% тех, кто оформил товар, оплата не совершается.\n",
    "* Пятое событие является независимым от других событий (за исключением, вероятно, появления главной страницы) и связано с использованием руководства пользователя.\n",
    "* Доля пользователей, которая получила подтверждение об оплате, составляет около 48% от числа тех, кто совершил первое действие, открыв приложение на главной странице.\n",
    "* Пользователи 3-х экспериментальных групп представлены в практически равных пропорциях: гр.246-А1 - 32.97%, гр.247-А2 - 33.36%, гр.248-В - 33.67%. Различие числа пользователей для двух контрольных групп и целевой группой составляет около 1%, а пользователи в каждой экспериментальной группе уникальны;\n",
    "* Оценка разницы в статистических критериях (конверсиях) для контрольных групп A/A показала, что при уровне статистической значимости alpha = 0.05 (вероятность 95%) нет оснований считать конверсии разными. Соответственно, контрольные группы сформированы верно, а условия проведения теста корректны;\n",
    "* Оценка статистической разницы по доле пользовательских событий в контрольных группах показала, что не получилось отвергнуть нулевую гипотезу о равенстве долей событий и нет оснований считать доли разными для двух контрольных групп при скорректированном уровне статистической значимости alpha = 0.003;\n",
    "* Оценка статистической разницы по доле пользовательских событий между A1/B, A2/B и (А1+А2)/В группами также показала, что нельзя отвергнуть нулевую гипотезу при скорректированном уровне статистической значимости alpha = 0.003. Как результат, нововведение с изменением шрифта не оказало статистически значимого влияния на пользовательское поведение и конверсию."
   ]
  }
 ],
 "metadata": {
  "ExecuteTimeLog": [
   {
    "duration": 24965,
    "start_time": "2021-07-22T16:04:51.847Z"
   },
   {
    "duration": 1608,
    "start_time": "2021-07-22T16:05:18.187Z"
   },
   {
    "duration": 347,
    "start_time": "2021-07-22T16:06:01.958Z"
   },
   {
    "duration": 9,
    "start_time": "2021-07-22T16:10:04.708Z"
   },
   {
    "duration": 878,
    "start_time": "2021-07-22T16:10:24.307Z"
   },
   {
    "duration": 279,
    "start_time": "2021-07-22T16:12:54.707Z"
   },
   {
    "duration": 126,
    "start_time": "2021-07-22T16:13:25.655Z"
   },
   {
    "duration": 140,
    "start_time": "2021-07-22T16:15:16.418Z"
   },
   {
    "duration": 166,
    "start_time": "2021-07-22T16:16:32.927Z"
   },
   {
    "duration": 8,
    "start_time": "2021-07-22T16:16:34.387Z"
   },
   {
    "duration": 811,
    "start_time": "2021-07-22T16:16:35.686Z"
   },
   {
    "duration": 7,
    "start_time": "2021-07-22T16:17:27.046Z"
   },
   {
    "duration": 100,
    "start_time": "2021-07-22T16:17:27.947Z"
   },
   {
    "duration": 407,
    "start_time": "2021-07-22T17:12:38.107Z"
   },
   {
    "duration": 106,
    "start_time": "2021-07-22T17:12:59.415Z"
   },
   {
    "duration": 4856,
    "start_time": "2021-07-22T17:13:11.648Z"
   },
   {
    "duration": 7308,
    "start_time": "2021-07-22T17:13:35.078Z"
   },
   {
    "duration": 1701,
    "start_time": "2021-07-22T17:13:42.390Z"
   },
   {
    "duration": 163,
    "start_time": "2021-07-22T17:13:44.094Z"
   },
   {
    "duration": 8,
    "start_time": "2021-07-22T17:13:44.259Z"
   },
   {
    "duration": 128,
    "start_time": "2021-07-22T17:13:44.269Z"
   },
   {
    "duration": 131,
    "start_time": "2021-07-22T17:13:44.400Z"
   },
   {
    "duration": 80,
    "start_time": "2021-07-22T17:14:29.658Z"
   },
   {
    "duration": 99,
    "start_time": "2021-07-22T17:15:09.777Z"
   },
   {
    "duration": 22,
    "start_time": "2021-07-22T17:15:17.797Z"
   },
   {
    "duration": 26218,
    "start_time": "2021-07-23T14:49:56.604Z"
   },
   {
    "duration": 1575,
    "start_time": "2021-07-23T14:50:22.825Z"
   },
   {
    "duration": 151,
    "start_time": "2021-07-23T14:50:24.403Z"
   },
   {
    "duration": 9,
    "start_time": "2021-07-23T14:50:24.557Z"
   },
   {
    "duration": 116,
    "start_time": "2021-07-23T14:50:24.569Z"
   },
   {
    "duration": 94,
    "start_time": "2021-07-23T14:50:24.688Z"
   },
   {
    "duration": 27,
    "start_time": "2021-07-23T14:50:24.784Z"
   },
   {
    "duration": 10,
    "start_time": "2021-07-23T14:50:24.815Z"
   },
   {
    "duration": 10,
    "start_time": "2021-07-23T14:50:24.828Z"
   },
   {
    "duration": 11,
    "start_time": "2021-07-23T14:50:24.841Z"
   },
   {
    "duration": 150,
    "start_time": "2021-07-23T14:50:24.855Z"
   },
   {
    "duration": 13,
    "start_time": "2021-07-23T14:50:25.008Z"
   },
   {
    "duration": 23,
    "start_time": "2021-07-23T14:50:25.023Z"
   },
   {
    "duration": 20,
    "start_time": "2021-07-23T14:50:25.048Z"
   },
   {
    "duration": 9,
    "start_time": "2021-07-23T14:50:25.101Z"
   },
   {
    "duration": 292,
    "start_time": "2021-07-23T14:50:25.113Z"
   },
   {
    "duration": 24,
    "start_time": "2021-07-23T14:50:25.407Z"
   },
   {
    "duration": 24,
    "start_time": "2021-07-23T14:50:25.434Z"
   },
   {
    "duration": 31,
    "start_time": "2021-07-23T14:53:05.950Z"
   },
   {
    "duration": 20,
    "start_time": "2021-07-23T14:53:13.632Z"
   },
   {
    "duration": 31,
    "start_time": "2021-07-23T15:07:18.220Z"
   },
   {
    "duration": 111,
    "start_time": "2021-07-23T15:16:55.381Z"
   },
   {
    "duration": 13,
    "start_time": "2021-07-23T15:23:38.708Z"
   },
   {
    "duration": 7,
    "start_time": "2021-07-23T15:24:27.300Z"
   },
   {
    "duration": 120,
    "start_time": "2021-07-23T15:24:27.981Z"
   },
   {
    "duration": 12,
    "start_time": "2021-07-23T15:24:28.811Z"
   },
   {
    "duration": 501,
    "start_time": "2021-07-23T15:44:16.820Z"
   },
   {
    "duration": 20,
    "start_time": "2021-07-23T15:44:34.140Z"
   },
   {
    "duration": 30,
    "start_time": "2021-07-23T15:46:28.069Z"
   },
   {
    "duration": 3,
    "start_time": "2021-07-23T15:48:11.213Z"
   },
   {
    "duration": 42,
    "start_time": "2021-07-23T15:58:53.838Z"
   },
   {
    "duration": 426,
    "start_time": "2021-07-23T15:59:59.132Z"
   },
   {
    "duration": 41,
    "start_time": "2021-07-23T16:00:11.322Z"
   },
   {
    "duration": 1509,
    "start_time": "2021-07-23T16:06:45.441Z"
   },
   {
    "duration": 707,
    "start_time": "2021-07-23T16:08:14.081Z"
   },
   {
    "duration": 7007,
    "start_time": "2021-07-23T16:08:21.725Z"
   },
   {
    "duration": 1572,
    "start_time": "2021-07-23T16:08:28.735Z"
   },
   {
    "duration": 161,
    "start_time": "2021-07-23T16:08:30.310Z"
   },
   {
    "duration": 6,
    "start_time": "2021-07-23T16:08:30.474Z"
   },
   {
    "duration": 124,
    "start_time": "2021-07-23T16:08:30.483Z"
   },
   {
    "duration": 99,
    "start_time": "2021-07-23T16:08:30.609Z"
   },
   {
    "duration": 15,
    "start_time": "2021-07-23T16:08:30.710Z"
   },
   {
    "duration": 9,
    "start_time": "2021-07-23T16:08:30.727Z"
   },
   {
    "duration": 129,
    "start_time": "2021-07-23T16:08:30.739Z"
   },
   {
    "duration": 15,
    "start_time": "2021-07-23T16:08:30.870Z"
   },
   {
    "duration": 32,
    "start_time": "2021-07-23T16:08:30.887Z"
   },
   {
    "duration": 19,
    "start_time": "2021-07-23T16:08:30.921Z"
   },
   {
    "duration": 8,
    "start_time": "2021-07-23T16:08:30.942Z"
   },
   {
    "duration": 300,
    "start_time": "2021-07-23T16:08:30.952Z"
   },
   {
    "duration": 55,
    "start_time": "2021-07-23T16:08:31.255Z"
   },
   {
    "duration": 748,
    "start_time": "2021-07-23T16:08:31.313Z"
   },
   {
    "duration": 7235,
    "start_time": "2021-07-23T16:11:23.536Z"
   },
   {
    "duration": 1760,
    "start_time": "2021-07-23T16:11:30.774Z"
   },
   {
    "duration": 164,
    "start_time": "2021-07-23T16:11:32.537Z"
   },
   {
    "duration": 7,
    "start_time": "2021-07-23T16:11:32.704Z"
   },
   {
    "duration": 128,
    "start_time": "2021-07-23T16:11:32.714Z"
   },
   {
    "duration": 105,
    "start_time": "2021-07-23T16:11:32.845Z"
   },
   {
    "duration": 16,
    "start_time": "2021-07-23T16:11:32.952Z"
   },
   {
    "duration": 28,
    "start_time": "2021-07-23T16:11:32.972Z"
   },
   {
    "duration": 111,
    "start_time": "2021-07-23T16:11:33.003Z"
   },
   {
    "duration": 13,
    "start_time": "2021-07-23T16:11:33.116Z"
   },
   {
    "duration": 30,
    "start_time": "2021-07-23T16:11:33.132Z"
   },
   {
    "duration": 44,
    "start_time": "2021-07-23T16:11:33.165Z"
   },
   {
    "duration": 8,
    "start_time": "2021-07-23T16:11:33.211Z"
   },
   {
    "duration": 292,
    "start_time": "2021-07-23T16:11:33.221Z"
   },
   {
    "duration": 44,
    "start_time": "2021-07-23T16:11:33.515Z"
   },
   {
    "duration": 744,
    "start_time": "2021-07-23T16:11:33.561Z"
   },
   {
    "duration": 844,
    "start_time": "2021-07-23T16:16:32.904Z"
   },
   {
    "duration": 844,
    "start_time": "2021-07-23T16:16:46.520Z"
   },
   {
    "duration": 800,
    "start_time": "2021-07-23T16:17:02.544Z"
   },
   {
    "duration": 1541,
    "start_time": "2021-07-23T16:39:20.583Z"
   },
   {
    "duration": 115,
    "start_time": "2021-07-23T16:39:57.303Z"
   },
   {
    "duration": 1390,
    "start_time": "2021-07-23T16:43:09.073Z"
   },
   {
    "duration": 6662,
    "start_time": "2021-07-23T16:44:22.324Z"
   },
   {
    "duration": 1391,
    "start_time": "2021-07-23T16:44:37.943Z"
   },
   {
    "duration": 358,
    "start_time": "2021-07-23T16:45:10.755Z"
   },
   {
    "duration": 1408,
    "start_time": "2021-07-23T16:46:03.424Z"
   },
   {
    "duration": 1448,
    "start_time": "2021-07-23T16:46:17.863Z"
   },
   {
    "duration": 116,
    "start_time": "2021-07-23T16:46:54.775Z"
   },
   {
    "duration": 1709,
    "start_time": "2021-07-23T16:47:14.624Z"
   },
   {
    "duration": 32,
    "start_time": "2021-07-23T16:47:44.012Z"
   },
   {
    "duration": 163,
    "start_time": "2021-07-23T16:48:59.896Z"
   },
   {
    "duration": 13,
    "start_time": "2021-07-23T16:49:04.184Z"
   },
   {
    "duration": 22,
    "start_time": "2021-07-23T16:49:08.903Z"
   },
   {
    "duration": 20,
    "start_time": "2021-07-23T16:49:09.535Z"
   },
   {
    "duration": 9,
    "start_time": "2021-07-23T16:49:12.503Z"
   },
   {
    "duration": 224,
    "start_time": "2021-07-23T16:49:13.904Z"
   },
   {
    "duration": 8,
    "start_time": "2021-07-23T16:49:17.803Z"
   },
   {
    "duration": 817,
    "start_time": "2021-07-23T16:49:21.824Z"
   },
   {
    "duration": 6690,
    "start_time": "2021-07-23T16:49:37.595Z"
   },
   {
    "duration": 1597,
    "start_time": "2021-07-23T16:49:44.288Z"
   },
   {
    "duration": 161,
    "start_time": "2021-07-23T16:49:45.889Z"
   },
   {
    "duration": 7,
    "start_time": "2021-07-23T16:49:46.053Z"
   },
   {
    "duration": 124,
    "start_time": "2021-07-23T16:49:46.063Z"
   },
   {
    "duration": 104,
    "start_time": "2021-07-23T16:49:46.201Z"
   },
   {
    "duration": 18,
    "start_time": "2021-07-23T16:49:46.308Z"
   },
   {
    "duration": 11,
    "start_time": "2021-07-23T16:49:46.331Z"
   },
   {
    "duration": 185,
    "start_time": "2021-07-23T16:49:46.345Z"
   },
   {
    "duration": 14,
    "start_time": "2021-07-23T16:49:46.533Z"
   },
   {
    "duration": 24,
    "start_time": "2021-07-23T16:49:46.549Z"
   },
   {
    "duration": 40,
    "start_time": "2021-07-23T16:49:46.575Z"
   },
   {
    "duration": 7,
    "start_time": "2021-07-23T16:49:46.618Z"
   },
   {
    "duration": 373,
    "start_time": "2021-07-23T16:49:46.628Z"
   },
   {
    "duration": 9,
    "start_time": "2021-07-23T16:49:47.004Z"
   },
   {
    "duration": 937,
    "start_time": "2021-07-23T16:49:47.016Z"
   },
   {
    "duration": 22,
    "start_time": "2021-07-23T16:49:47.956Z"
   },
   {
    "duration": 34,
    "start_time": "2021-07-23T16:49:47.981Z"
   },
   {
    "duration": 21,
    "start_time": "2021-07-23T16:50:34.482Z"
   },
   {
    "duration": 828,
    "start_time": "2021-07-23T16:50:40.863Z"
   },
   {
    "duration": 10,
    "start_time": "2021-07-23T17:19:05.122Z"
   },
   {
    "duration": 40,
    "start_time": "2021-07-23T17:29:04.542Z"
   },
   {
    "duration": 31,
    "start_time": "2021-07-23T17:29:28.802Z"
   },
   {
    "duration": 31,
    "start_time": "2021-07-23T17:37:33.030Z"
   },
   {
    "duration": 39,
    "start_time": "2021-07-23T17:41:24.301Z"
   },
   {
    "duration": 40,
    "start_time": "2021-07-23T17:41:39.455Z"
   },
   {
    "duration": 44,
    "start_time": "2021-07-23T17:47:11.242Z"
   },
   {
    "duration": 127,
    "start_time": "2021-07-23T17:47:32.342Z"
   },
   {
    "duration": 45,
    "start_time": "2021-07-23T17:48:01.839Z"
   },
   {
    "duration": 121,
    "start_time": "2021-07-23T17:48:11.302Z"
   },
   {
    "duration": 45,
    "start_time": "2021-07-23T17:48:36.482Z"
   },
   {
    "duration": 45,
    "start_time": "2021-07-23T17:48:43.582Z"
   },
   {
    "duration": 43,
    "start_time": "2021-07-23T17:48:49.602Z"
   },
   {
    "duration": 44,
    "start_time": "2021-07-23T17:49:02.882Z"
   },
   {
    "duration": 649,
    "start_time": "2021-07-23T17:55:34.194Z"
   },
   {
    "duration": 651,
    "start_time": "2021-07-23T17:56:14.894Z"
   },
   {
    "duration": 813,
    "start_time": "2021-07-23T17:56:42.524Z"
   },
   {
    "duration": 851,
    "start_time": "2021-07-23T17:56:52.822Z"
   },
   {
    "duration": 36,
    "start_time": "2021-07-23T18:01:40.250Z"
   },
   {
    "duration": 38,
    "start_time": "2021-07-23T18:01:51.661Z"
   },
   {
    "duration": 14468,
    "start_time": "2021-07-23T18:02:07.934Z"
   },
   {
    "duration": 38,
    "start_time": "2021-07-23T18:02:33.091Z"
   },
   {
    "duration": 195,
    "start_time": "2021-07-23T18:02:45.063Z"
   },
   {
    "duration": 38,
    "start_time": "2021-07-23T18:02:55.341Z"
   },
   {
    "duration": 578,
    "start_time": "2021-07-23T18:03:37.850Z"
   },
   {
    "duration": 31,
    "start_time": "2021-07-23T18:06:00.534Z"
   },
   {
    "duration": 120,
    "start_time": "2021-07-23T18:08:02.903Z"
   },
   {
    "duration": 33,
    "start_time": "2021-07-23T18:08:12.071Z"
   },
   {
    "duration": 34,
    "start_time": "2021-07-23T18:09:03.742Z"
   },
   {
    "duration": 37,
    "start_time": "2021-07-23T18:10:58.054Z"
   },
   {
    "duration": 37,
    "start_time": "2021-07-23T18:12:57.522Z"
   },
   {
    "duration": 70,
    "start_time": "2021-07-23T18:24:29.934Z"
   },
   {
    "duration": 30833,
    "start_time": "2021-07-24T09:43:47.177Z"
   },
   {
    "duration": 1535,
    "start_time": "2021-07-24T09:44:18.013Z"
   },
   {
    "duration": 150,
    "start_time": "2021-07-24T09:44:19.551Z"
   },
   {
    "duration": 6,
    "start_time": "2021-07-24T09:44:19.704Z"
   },
   {
    "duration": 115,
    "start_time": "2021-07-24T09:44:19.713Z"
   },
   {
    "duration": 95,
    "start_time": "2021-07-24T09:44:19.831Z"
   },
   {
    "duration": 14,
    "start_time": "2021-07-24T09:44:19.929Z"
   },
   {
    "duration": 10,
    "start_time": "2021-07-24T09:44:19.956Z"
   },
   {
    "duration": 163,
    "start_time": "2021-07-24T09:44:19.969Z"
   },
   {
    "duration": 22,
    "start_time": "2021-07-24T09:44:20.135Z"
   },
   {
    "duration": 20,
    "start_time": "2021-07-24T09:44:20.159Z"
   },
   {
    "duration": 18,
    "start_time": "2021-07-24T09:44:20.182Z"
   },
   {
    "duration": 7,
    "start_time": "2021-07-24T09:44:20.203Z"
   },
   {
    "duration": 288,
    "start_time": "2021-07-24T09:44:20.212Z"
   },
   {
    "duration": 7,
    "start_time": "2021-07-24T09:44:20.502Z"
   },
   {
    "duration": 931,
    "start_time": "2021-07-24T09:44:20.512Z"
   },
   {
    "duration": 27,
    "start_time": "2021-07-24T09:44:21.446Z"
   },
   {
    "duration": 668,
    "start_time": "2021-07-24T09:44:21.476Z"
   },
   {
    "duration": 41,
    "start_time": "2021-07-24T09:44:22.155Z"
   },
   {
    "duration": 78,
    "start_time": "2021-07-24T09:44:22.200Z"
   },
   {
    "duration": 42,
    "start_time": "2021-07-24T09:44:22.282Z"
   },
   {
    "duration": 603,
    "start_time": "2021-07-24T09:44:22.326Z"
   },
   {
    "duration": 67,
    "start_time": "2021-07-24T09:44:38.127Z"
   },
   {
    "duration": 67,
    "start_time": "2021-07-24T09:44:46.479Z"
   },
   {
    "duration": 71,
    "start_time": "2021-07-24T11:00:37.977Z"
   },
   {
    "duration": 7,
    "start_time": "2021-07-24T11:02:30.269Z"
   },
   {
    "duration": 10,
    "start_time": "2021-07-24T11:02:37.617Z"
   },
   {
    "duration": 7,
    "start_time": "2021-07-24T11:02:58.259Z"
   },
   {
    "duration": 8,
    "start_time": "2021-07-24T11:02:58.970Z"
   },
   {
    "duration": 7,
    "start_time": "2021-07-24T11:03:22.990Z"
   },
   {
    "duration": 10,
    "start_time": "2021-07-24T11:03:23.598Z"
   },
   {
    "duration": 6621,
    "start_time": "2021-07-24T11:04:21.222Z"
   },
   {
    "duration": 1601,
    "start_time": "2021-07-24T11:04:27.846Z"
   },
   {
    "duration": 157,
    "start_time": "2021-07-24T11:04:29.450Z"
   },
   {
    "duration": 7,
    "start_time": "2021-07-24T11:04:29.609Z"
   },
   {
    "duration": 115,
    "start_time": "2021-07-24T11:04:29.619Z"
   },
   {
    "duration": 95,
    "start_time": "2021-07-24T11:04:29.736Z"
   },
   {
    "duration": 28,
    "start_time": "2021-07-24T11:04:29.833Z"
   },
   {
    "duration": 11,
    "start_time": "2021-07-24T11:04:29.864Z"
   },
   {
    "duration": 166,
    "start_time": "2021-07-24T11:04:29.879Z"
   },
   {
    "duration": 17,
    "start_time": "2021-07-24T11:04:30.048Z"
   },
   {
    "duration": 32,
    "start_time": "2021-07-24T11:04:30.068Z"
   },
   {
    "duration": 20,
    "start_time": "2021-07-24T11:04:30.103Z"
   },
   {
    "duration": 33,
    "start_time": "2021-07-24T11:04:30.125Z"
   },
   {
    "duration": 257,
    "start_time": "2021-07-24T11:04:30.160Z"
   },
   {
    "duration": 5,
    "start_time": "2021-07-24T11:04:30.420Z"
   },
   {
    "duration": 869,
    "start_time": "2021-07-24T11:04:30.428Z"
   },
   {
    "duration": 21,
    "start_time": "2021-07-24T11:04:31.299Z"
   },
   {
    "duration": 702,
    "start_time": "2021-07-24T11:04:31.323Z"
   },
   {
    "duration": 58,
    "start_time": "2021-07-24T11:04:32.027Z"
   },
   {
    "duration": 98,
    "start_time": "2021-07-24T11:04:32.088Z"
   },
   {
    "duration": 53,
    "start_time": "2021-07-24T11:04:32.189Z"
   },
   {
    "duration": 161,
    "start_time": "2021-07-24T11:04:32.257Z"
   },
   {
    "duration": 7,
    "start_time": "2021-07-24T11:04:32.420Z"
   },
   {
    "duration": 28,
    "start_time": "2021-07-24T11:04:32.429Z"
   },
   {
    "duration": 6534,
    "start_time": "2021-07-24T11:05:55.066Z"
   },
   {
    "duration": 1615,
    "start_time": "2021-07-24T11:06:01.603Z"
   },
   {
    "duration": 160,
    "start_time": "2021-07-24T11:06:03.221Z"
   },
   {
    "duration": 8,
    "start_time": "2021-07-24T11:06:03.384Z"
   },
   {
    "duration": 121,
    "start_time": "2021-07-24T11:06:03.394Z"
   },
   {
    "duration": 101,
    "start_time": "2021-07-24T11:06:03.517Z"
   },
   {
    "duration": 17,
    "start_time": "2021-07-24T11:06:03.620Z"
   },
   {
    "duration": 22,
    "start_time": "2021-07-24T11:06:03.639Z"
   },
   {
    "duration": 165,
    "start_time": "2021-07-24T11:06:03.665Z"
   },
   {
    "duration": 12,
    "start_time": "2021-07-24T11:06:03.833Z"
   },
   {
    "duration": 21,
    "start_time": "2021-07-24T11:06:03.856Z"
   },
   {
    "duration": 19,
    "start_time": "2021-07-24T11:06:03.879Z"
   },
   {
    "duration": 8,
    "start_time": "2021-07-24T11:06:03.901Z"
   },
   {
    "duration": 293,
    "start_time": "2021-07-24T11:06:03.911Z"
   },
   {
    "duration": 7,
    "start_time": "2021-07-24T11:06:04.207Z"
   },
   {
    "duration": 854,
    "start_time": "2021-07-24T11:06:04.216Z"
   },
   {
    "duration": 20,
    "start_time": "2021-07-24T11:06:05.072Z"
   },
   {
    "duration": 679,
    "start_time": "2021-07-24T11:06:05.095Z"
   },
   {
    "duration": 30,
    "start_time": "2021-07-24T11:06:05.777Z"
   },
   {
    "duration": 63,
    "start_time": "2021-07-24T11:06:05.809Z"
   },
   {
    "duration": 36,
    "start_time": "2021-07-24T11:06:05.875Z"
   },
   {
    "duration": 157,
    "start_time": "2021-07-24T11:06:05.913Z"
   },
   {
    "duration": 7,
    "start_time": "2021-07-24T11:06:06.072Z"
   },
   {
    "duration": 12,
    "start_time": "2021-07-24T11:06:06.082Z"
   },
   {
    "duration": 66,
    "start_time": "2021-07-24T11:06:28.619Z"
   },
   {
    "duration": 6,
    "start_time": "2021-07-24T11:06:34.546Z"
   },
   {
    "duration": 11,
    "start_time": "2021-07-24T11:06:35.069Z"
   },
   {
    "duration": 119,
    "start_time": "2021-07-24T11:33:34.072Z"
   },
   {
    "duration": 7,
    "start_time": "2021-07-24T11:34:48.305Z"
   },
   {
    "duration": 13,
    "start_time": "2021-07-24T11:34:57.657Z"
   },
   {
    "duration": 16,
    "start_time": "2021-07-24T11:36:07.230Z"
   },
   {
    "duration": 8,
    "start_time": "2021-07-24T11:44:17.530Z"
   },
   {
    "duration": 11,
    "start_time": "2021-07-24T11:44:18.345Z"
   },
   {
    "duration": 6974,
    "start_time": "2021-07-24T11:44:36.810Z"
   },
   {
    "duration": 1559,
    "start_time": "2021-07-24T11:44:43.787Z"
   },
   {
    "duration": 163,
    "start_time": "2021-07-24T11:44:45.349Z"
   },
   {
    "duration": 6,
    "start_time": "2021-07-24T11:44:45.515Z"
   },
   {
    "duration": 120,
    "start_time": "2021-07-24T11:44:45.524Z"
   },
   {
    "duration": 92,
    "start_time": "2021-07-24T11:44:45.647Z"
   },
   {
    "duration": 24,
    "start_time": "2021-07-24T11:44:45.741Z"
   },
   {
    "duration": 9,
    "start_time": "2021-07-24T11:44:45.768Z"
   },
   {
    "duration": 188,
    "start_time": "2021-07-24T11:44:45.782Z"
   },
   {
    "duration": 14,
    "start_time": "2021-07-24T11:44:45.973Z"
   },
   {
    "duration": 24,
    "start_time": "2021-07-24T11:44:45.990Z"
   },
   {
    "duration": 48,
    "start_time": "2021-07-24T11:44:46.017Z"
   },
   {
    "duration": 6,
    "start_time": "2021-07-24T11:44:46.068Z"
   },
   {
    "duration": 281,
    "start_time": "2021-07-24T11:44:46.077Z"
   },
   {
    "duration": 5,
    "start_time": "2021-07-24T11:44:46.360Z"
   },
   {
    "duration": 861,
    "start_time": "2021-07-24T11:44:46.368Z"
   },
   {
    "duration": 33,
    "start_time": "2021-07-24T11:44:47.231Z"
   },
   {
    "duration": 707,
    "start_time": "2021-07-24T11:44:47.267Z"
   },
   {
    "duration": 31,
    "start_time": "2021-07-24T11:44:47.976Z"
   },
   {
    "duration": 69,
    "start_time": "2021-07-24T11:44:48.009Z"
   },
   {
    "duration": 36,
    "start_time": "2021-07-24T11:44:48.080Z"
   },
   {
    "duration": 147,
    "start_time": "2021-07-24T11:44:48.118Z"
   },
   {
    "duration": 9,
    "start_time": "2021-07-24T11:44:48.267Z"
   },
   {
    "duration": 14,
    "start_time": "2021-07-24T11:44:48.279Z"
   },
   {
    "duration": 20,
    "start_time": "2021-07-24T11:44:48.296Z"
   },
   {
    "duration": 9,
    "start_time": "2021-07-24T11:45:25.945Z"
   },
   {
    "duration": 10,
    "start_time": "2021-07-24T11:45:26.591Z"
   },
   {
    "duration": 8,
    "start_time": "2021-07-24T11:46:48.504Z"
   },
   {
    "duration": 10,
    "start_time": "2021-07-24T11:46:49.024Z"
   },
   {
    "duration": 8,
    "start_time": "2021-07-24T11:50:07.272Z"
   },
   {
    "duration": 10,
    "start_time": "2021-07-24T11:50:08.132Z"
   },
   {
    "duration": 6,
    "start_time": "2021-07-24T11:50:18.272Z"
   },
   {
    "duration": 9,
    "start_time": "2021-07-24T11:50:19.052Z"
   },
   {
    "duration": 15,
    "start_time": "2021-07-24T11:50:36.492Z"
   },
   {
    "duration": 696,
    "start_time": "2021-07-24T12:19:53.525Z"
   },
   {
    "duration": 83,
    "start_time": "2021-07-24T12:20:33.412Z"
   },
   {
    "duration": 83,
    "start_time": "2021-07-24T12:21:03.120Z"
   },
   {
    "duration": 80,
    "start_time": "2021-07-24T12:21:46.472Z"
   },
   {
    "duration": 81,
    "start_time": "2021-07-24T12:21:58.547Z"
   },
   {
    "duration": 81,
    "start_time": "2021-07-24T12:22:13.351Z"
   },
   {
    "duration": 79,
    "start_time": "2021-07-24T12:22:24.851Z"
   },
   {
    "duration": 657,
    "start_time": "2021-07-24T12:24:52.072Z"
   },
   {
    "duration": 80,
    "start_time": "2021-07-24T12:26:12.963Z"
   },
   {
    "duration": 84,
    "start_time": "2021-07-24T12:26:33.303Z"
   },
   {
    "duration": 362,
    "start_time": "2021-07-24T12:27:19.392Z"
   },
   {
    "duration": 81,
    "start_time": "2021-07-24T12:28:00.952Z"
   },
   {
    "duration": 80,
    "start_time": "2021-07-24T12:30:09.165Z"
   },
   {
    "duration": 7,
    "start_time": "2021-07-24T14:51:46.621Z"
   },
   {
    "duration": 12,
    "start_time": "2021-07-24T14:51:48.393Z"
   },
   {
    "duration": 6,
    "start_time": "2021-07-24T14:52:27.273Z"
   },
   {
    "duration": 11,
    "start_time": "2021-07-24T14:52:28.199Z"
   },
   {
    "duration": 6,
    "start_time": "2021-07-24T14:52:53.632Z"
   },
   {
    "duration": 11,
    "start_time": "2021-07-24T14:52:54.480Z"
   },
   {
    "duration": 6,
    "start_time": "2021-07-24T14:53:06.801Z"
   },
   {
    "duration": 11,
    "start_time": "2021-07-24T14:53:07.344Z"
   },
   {
    "duration": 6,
    "start_time": "2021-07-24T14:53:16.368Z"
   },
   {
    "duration": 11,
    "start_time": "2021-07-24T14:53:17.782Z"
   },
   {
    "duration": 159,
    "start_time": "2021-07-24T14:53:24.807Z"
   },
   {
    "duration": 7,
    "start_time": "2021-07-24T15:06:11.794Z"
   },
   {
    "duration": 7,
    "start_time": "2021-07-24T15:06:12.252Z"
   },
   {
    "duration": 10,
    "start_time": "2021-07-24T15:06:12.956Z"
   },
   {
    "duration": 80,
    "start_time": "2021-07-24T15:06:13.602Z"
   },
   {
    "duration": 84,
    "start_time": "2021-07-24T15:06:28.874Z"
   },
   {
    "duration": 83,
    "start_time": "2021-07-24T15:06:49.594Z"
   },
   {
    "duration": 80,
    "start_time": "2021-07-24T15:06:59.394Z"
   },
   {
    "duration": 419,
    "start_time": "2021-07-24T15:08:07.314Z"
   },
   {
    "duration": 374,
    "start_time": "2021-07-24T15:08:47.155Z"
   },
   {
    "duration": 367,
    "start_time": "2021-07-24T15:08:59.961Z"
   },
   {
    "duration": 490,
    "start_time": "2021-07-24T15:09:30.874Z"
   },
   {
    "duration": 86,
    "start_time": "2021-07-24T15:10:00.273Z"
   },
   {
    "duration": 85,
    "start_time": "2021-07-24T15:12:01.053Z"
   },
   {
    "duration": 498,
    "start_time": "2021-07-24T15:12:08.514Z"
   },
   {
    "duration": 82,
    "start_time": "2021-07-24T15:12:39.329Z"
   },
   {
    "duration": 433,
    "start_time": "2021-07-24T15:12:47.695Z"
   },
   {
    "duration": 82,
    "start_time": "2021-07-24T15:13:06.273Z"
   },
   {
    "duration": 442,
    "start_time": "2021-07-24T15:13:17.185Z"
   },
   {
    "duration": 83,
    "start_time": "2021-07-24T15:13:52.233Z"
   },
   {
    "duration": 455,
    "start_time": "2021-07-24T15:14:00.154Z"
   },
   {
    "duration": 83,
    "start_time": "2021-07-24T15:15:37.129Z"
   },
   {
    "duration": 83,
    "start_time": "2021-07-24T15:16:15.870Z"
   },
   {
    "duration": 86,
    "start_time": "2021-07-24T15:19:51.951Z"
   },
   {
    "duration": 85,
    "start_time": "2021-07-24T15:20:19.778Z"
   },
   {
    "duration": 114,
    "start_time": "2021-07-24T15:24:58.313Z"
   },
   {
    "duration": 375,
    "start_time": "2021-07-24T15:25:29.133Z"
   },
   {
    "duration": 92,
    "start_time": "2021-07-24T15:26:33.632Z"
   },
   {
    "duration": 447,
    "start_time": "2021-07-24T15:34:37.954Z"
   },
   {
    "duration": 90,
    "start_time": "2021-07-24T15:35:17.826Z"
   },
   {
    "duration": 91,
    "start_time": "2021-07-24T15:37:13.833Z"
   },
   {
    "duration": 151,
    "start_time": "2021-07-24T15:37:33.880Z"
   },
   {
    "duration": 87,
    "start_time": "2021-07-24T15:37:43.834Z"
   },
   {
    "duration": 86,
    "start_time": "2021-07-24T15:37:54.232Z"
   },
   {
    "duration": 87,
    "start_time": "2021-07-24T15:38:50.075Z"
   },
   {
    "duration": 94,
    "start_time": "2021-07-24T15:39:14.993Z"
   },
   {
    "duration": 6,
    "start_time": "2021-07-24T15:40:25.132Z"
   },
   {
    "duration": 13,
    "start_time": "2021-07-24T15:40:25.991Z"
   },
   {
    "duration": 89,
    "start_time": "2021-07-24T15:40:29.153Z"
   },
   {
    "duration": 116,
    "start_time": "2021-07-24T15:41:02.029Z"
   },
   {
    "duration": 7,
    "start_time": "2021-07-24T15:44:16.875Z"
   },
   {
    "duration": 8414,
    "start_time": "2021-07-24T15:44:50.500Z"
   },
   {
    "duration": 5,
    "start_time": "2021-07-24T15:45:17.420Z"
   },
   {
    "duration": 127,
    "start_time": "2021-07-24T15:45:55.913Z"
   },
   {
    "duration": 5,
    "start_time": "2021-07-24T15:46:11.744Z"
   },
   {
    "duration": 5,
    "start_time": "2021-07-24T15:46:24.633Z"
   },
   {
    "duration": 5,
    "start_time": "2021-07-24T15:46:41.812Z"
   },
   {
    "duration": 113,
    "start_time": "2021-07-24T15:47:13.232Z"
   },
   {
    "duration": 117,
    "start_time": "2021-07-24T15:47:56.511Z"
   },
   {
    "duration": 113,
    "start_time": "2021-07-24T15:48:02.974Z"
   },
   {
    "duration": 115,
    "start_time": "2021-07-24T15:48:14.964Z"
   },
   {
    "duration": 115,
    "start_time": "2021-07-24T15:48:36.953Z"
   },
   {
    "duration": 5,
    "start_time": "2021-07-24T15:48:47.352Z"
   },
   {
    "duration": 6,
    "start_time": "2021-07-24T15:49:39.792Z"
   },
   {
    "duration": 6783,
    "start_time": "2021-07-24T16:41:01.793Z"
   },
   {
    "duration": 1570,
    "start_time": "2021-07-24T16:41:08.580Z"
   },
   {
    "duration": 158,
    "start_time": "2021-07-24T16:41:10.156Z"
   },
   {
    "duration": 7,
    "start_time": "2021-07-24T16:41:10.317Z"
   },
   {
    "duration": 129,
    "start_time": "2021-07-24T16:41:10.327Z"
   },
   {
    "duration": 97,
    "start_time": "2021-07-24T16:41:10.459Z"
   },
   {
    "duration": 16,
    "start_time": "2021-07-24T16:41:10.559Z"
   },
   {
    "duration": 10,
    "start_time": "2021-07-24T16:41:10.578Z"
   },
   {
    "duration": 192,
    "start_time": "2021-07-24T16:41:10.592Z"
   },
   {
    "duration": 18,
    "start_time": "2021-07-24T16:41:10.788Z"
   },
   {
    "duration": 49,
    "start_time": "2021-07-24T16:41:10.808Z"
   },
   {
    "duration": 19,
    "start_time": "2021-07-24T16:41:10.859Z"
   },
   {
    "duration": 7,
    "start_time": "2021-07-24T16:41:10.880Z"
   },
   {
    "duration": 268,
    "start_time": "2021-07-24T16:41:10.889Z"
   },
   {
    "duration": 6,
    "start_time": "2021-07-24T16:41:11.160Z"
   },
   {
    "duration": 828,
    "start_time": "2021-07-24T16:41:11.169Z"
   },
   {
    "duration": 20,
    "start_time": "2021-07-24T16:41:12.000Z"
   },
   {
    "duration": 659,
    "start_time": "2021-07-24T16:41:12.022Z"
   },
   {
    "duration": 32,
    "start_time": "2021-07-24T16:41:12.683Z"
   },
   {
    "duration": 66,
    "start_time": "2021-07-24T16:41:12.718Z"
   },
   {
    "duration": 37,
    "start_time": "2021-07-24T16:41:12.787Z"
   },
   {
    "duration": 153,
    "start_time": "2021-07-24T16:41:12.826Z"
   },
   {
    "duration": 7,
    "start_time": "2021-07-24T16:41:12.981Z"
   },
   {
    "duration": 9,
    "start_time": "2021-07-24T16:41:12.990Z"
   },
   {
    "duration": 14,
    "start_time": "2021-07-24T16:41:13.001Z"
   },
   {
    "duration": 562,
    "start_time": "2021-07-24T16:41:13.017Z"
   },
   {
    "duration": 6,
    "start_time": "2021-07-24T16:41:13.583Z"
   },
   {
    "duration": 7,
    "start_time": "2021-07-24T16:41:46.132Z"
   },
   {
    "duration": 6,
    "start_time": "2021-07-24T16:42:01.123Z"
   },
   {
    "duration": 4,
    "start_time": "2021-07-24T16:43:14.064Z"
   },
   {
    "duration": 5,
    "start_time": "2021-07-24T16:44:42.951Z"
   },
   {
    "duration": 6,
    "start_time": "2021-07-24T16:44:49.582Z"
   },
   {
    "duration": 5,
    "start_time": "2021-07-24T16:45:52.425Z"
   },
   {
    "duration": 6,
    "start_time": "2021-07-24T16:46:26.075Z"
   },
   {
    "duration": 3,
    "start_time": "2021-07-24T16:47:50.833Z"
   },
   {
    "duration": 109,
    "start_time": "2021-07-24T16:48:28.163Z"
   },
   {
    "duration": 9,
    "start_time": "2021-07-24T16:50:24.598Z"
   },
   {
    "duration": 43,
    "start_time": "2021-07-24T16:51:50.732Z"
   },
   {
    "duration": 9,
    "start_time": "2021-07-24T16:51:56.593Z"
   },
   {
    "duration": 618,
    "start_time": "2021-07-24T16:57:01.275Z"
   },
   {
    "duration": 360,
    "start_time": "2021-07-24T16:57:24.094Z"
   },
   {
    "duration": 6,
    "start_time": "2021-07-24T16:57:34.804Z"
   },
   {
    "duration": 13,
    "start_time": "2021-07-24T16:57:50.164Z"
   },
   {
    "duration": 8,
    "start_time": "2021-07-24T18:38:40.596Z"
   },
   {
    "duration": 11,
    "start_time": "2021-07-24T18:59:54.373Z"
   },
   {
    "duration": 21,
    "start_time": "2021-07-24T19:01:35.325Z"
   },
   {
    "duration": 43,
    "start_time": "2021-07-24T19:04:09.544Z"
   },
   {
    "duration": 41,
    "start_time": "2021-07-24T19:05:21.156Z"
   },
   {
    "duration": 5,
    "start_time": "2021-07-24T19:11:17.016Z"
   },
   {
    "duration": 5,
    "start_time": "2021-07-24T19:12:08.404Z"
   },
   {
    "duration": 25174,
    "start_time": "2021-07-25T09:38:28.315Z"
   },
   {
    "duration": 1723,
    "start_time": "2021-07-25T09:38:53.492Z"
   },
   {
    "duration": 155,
    "start_time": "2021-07-25T09:38:55.219Z"
   },
   {
    "duration": 11,
    "start_time": "2021-07-25T09:38:55.376Z"
   },
   {
    "duration": 115,
    "start_time": "2021-07-25T09:38:55.390Z"
   },
   {
    "duration": 94,
    "start_time": "2021-07-25T09:38:55.508Z"
   },
   {
    "duration": 16,
    "start_time": "2021-07-25T09:38:55.604Z"
   },
   {
    "duration": 9,
    "start_time": "2021-07-25T09:38:55.622Z"
   },
   {
    "duration": 175,
    "start_time": "2021-07-25T09:38:55.636Z"
   },
   {
    "duration": 14,
    "start_time": "2021-07-25T09:38:55.815Z"
   },
   {
    "duration": 22,
    "start_time": "2021-07-25T09:38:55.832Z"
   },
   {
    "duration": 39,
    "start_time": "2021-07-25T09:38:55.856Z"
   },
   {
    "duration": 9,
    "start_time": "2021-07-25T09:38:55.897Z"
   },
   {
    "duration": 266,
    "start_time": "2021-07-25T09:38:55.908Z"
   },
   {
    "duration": 11,
    "start_time": "2021-07-25T09:38:56.177Z"
   },
   {
    "duration": 837,
    "start_time": "2021-07-25T09:38:56.191Z"
   },
   {
    "duration": 18,
    "start_time": "2021-07-25T09:38:57.031Z"
   },
   {
    "duration": 684,
    "start_time": "2021-07-25T09:38:57.052Z"
   },
   {
    "duration": 47,
    "start_time": "2021-07-25T09:38:57.739Z"
   },
   {
    "duration": 46,
    "start_time": "2021-07-25T09:38:57.789Z"
   },
   {
    "duration": 54,
    "start_time": "2021-07-25T09:38:57.838Z"
   },
   {
    "duration": 146,
    "start_time": "2021-07-25T09:38:57.895Z"
   },
   {
    "duration": 7,
    "start_time": "2021-07-25T09:38:58.043Z"
   },
   {
    "duration": 8,
    "start_time": "2021-07-25T09:38:58.052Z"
   },
   {
    "duration": 32,
    "start_time": "2021-07-25T09:38:58.062Z"
   },
   {
    "duration": 577,
    "start_time": "2021-07-25T09:38:58.097Z"
   },
   {
    "duration": 5,
    "start_time": "2021-07-25T09:38:58.678Z"
   },
   {
    "duration": 28,
    "start_time": "2021-07-25T09:38:58.686Z"
   },
   {
    "duration": 16,
    "start_time": "2021-07-25T09:38:58.717Z"
   },
   {
    "duration": 82,
    "start_time": "2021-07-25T09:38:58.736Z"
   },
   {
    "duration": 5,
    "start_time": "2021-07-25T09:38:58.820Z"
   },
   {
    "duration": 96,
    "start_time": "2021-07-25T09:38:58.827Z"
   },
   {
    "duration": 5,
    "start_time": "2021-07-25T09:38:58.926Z"
   },
   {
    "duration": 176,
    "start_time": "2021-07-25T09:38:58.933Z"
   },
   {
    "duration": 5,
    "start_time": "2021-07-25T09:40:19.141Z"
   },
   {
    "duration": 7,
    "start_time": "2021-07-25T09:40:27.702Z"
   },
   {
    "duration": 4,
    "start_time": "2021-07-25T09:42:15.561Z"
   },
   {
    "duration": 5,
    "start_time": "2021-07-25T09:42:32.142Z"
   },
   {
    "duration": 129,
    "start_time": "2021-07-25T09:46:04.081Z"
   },
   {
    "duration": 636,
    "start_time": "2021-07-25T09:49:21.863Z"
   },
   {
    "duration": 6,
    "start_time": "2021-07-25T09:49:58.102Z"
   },
   {
    "duration": 5,
    "start_time": "2021-07-25T09:50:02.753Z"
   },
   {
    "duration": 7,
    "start_time": "2021-07-25T09:50:13.102Z"
   },
   {
    "duration": 397,
    "start_time": "2021-07-25T09:52:22.222Z"
   },
   {
    "duration": 6,
    "start_time": "2021-07-25T09:52:53.002Z"
   },
   {
    "duration": 6,
    "start_time": "2021-07-25T09:53:00.061Z"
   },
   {
    "duration": 4,
    "start_time": "2021-07-25T09:54:28.042Z"
   },
   {
    "duration": 5,
    "start_time": "2021-07-25T09:58:44.522Z"
   },
   {
    "duration": 7,
    "start_time": "2021-07-25T09:58:54.070Z"
   },
   {
    "duration": 4,
    "start_time": "2021-07-25T09:59:30.044Z"
   },
   {
    "duration": 6,
    "start_time": "2021-07-25T10:58:50.941Z"
   },
   {
    "duration": 7,
    "start_time": "2021-07-25T10:59:18.121Z"
   },
   {
    "duration": 6,
    "start_time": "2021-07-25T10:59:34.244Z"
   },
   {
    "duration": 3,
    "start_time": "2021-07-25T11:03:00.381Z"
   },
   {
    "duration": 13,
    "start_time": "2021-07-25T11:15:43.773Z"
   },
   {
    "duration": 20,
    "start_time": "2021-07-25T11:19:43.789Z"
   },
   {
    "duration": 49,
    "start_time": "2021-07-25T11:20:59.869Z"
   },
   {
    "duration": 48,
    "start_time": "2021-07-25T11:21:49.908Z"
   },
   {
    "duration": 49,
    "start_time": "2021-07-25T11:22:24.301Z"
   },
   {
    "duration": 436,
    "start_time": "2021-07-25T11:22:35.293Z"
   },
   {
    "duration": 7821,
    "start_time": "2021-07-25T11:23:31.446Z"
   },
   {
    "duration": 1658,
    "start_time": "2021-07-25T11:23:39.271Z"
   },
   {
    "duration": 157,
    "start_time": "2021-07-25T11:23:40.932Z"
   },
   {
    "duration": 7,
    "start_time": "2021-07-25T11:23:41.092Z"
   },
   {
    "duration": 125,
    "start_time": "2021-07-25T11:23:41.102Z"
   },
   {
    "duration": 101,
    "start_time": "2021-07-25T11:23:41.230Z"
   },
   {
    "duration": 16,
    "start_time": "2021-07-25T11:23:41.336Z"
   },
   {
    "duration": 31,
    "start_time": "2021-07-25T11:23:41.356Z"
   },
   {
    "duration": 157,
    "start_time": "2021-07-25T11:23:41.390Z"
   },
   {
    "duration": 14,
    "start_time": "2021-07-25T11:23:41.549Z"
   },
   {
    "duration": 40,
    "start_time": "2021-07-25T11:23:41.565Z"
   },
   {
    "duration": 18,
    "start_time": "2021-07-25T11:23:41.608Z"
   },
   {
    "duration": 9,
    "start_time": "2021-07-25T11:23:41.628Z"
   },
   {
    "duration": 294,
    "start_time": "2021-07-25T11:23:41.639Z"
   },
   {
    "duration": 7,
    "start_time": "2021-07-25T11:23:41.936Z"
   },
   {
    "duration": 884,
    "start_time": "2021-07-25T11:23:41.946Z"
   },
   {
    "duration": 20,
    "start_time": "2021-07-25T11:23:42.833Z"
   },
   {
    "duration": 719,
    "start_time": "2021-07-25T11:23:42.855Z"
   },
   {
    "duration": 37,
    "start_time": "2021-07-25T11:23:43.576Z"
   },
   {
    "duration": 45,
    "start_time": "2021-07-25T11:23:43.616Z"
   },
   {
    "duration": 38,
    "start_time": "2021-07-25T11:23:43.686Z"
   },
   {
    "duration": 93,
    "start_time": "2021-07-25T11:23:43.730Z"
   },
   {
    "duration": 6,
    "start_time": "2021-07-25T11:23:43.827Z"
   },
   {
    "duration": 8,
    "start_time": "2021-07-25T11:23:43.836Z"
   },
   {
    "duration": 15,
    "start_time": "2021-07-25T11:23:43.847Z"
   },
   {
    "duration": 686,
    "start_time": "2021-07-25T11:23:43.865Z"
   },
   {
    "duration": 6,
    "start_time": "2021-07-25T11:23:44.553Z"
   },
   {
    "duration": 36,
    "start_time": "2021-07-25T11:23:44.561Z"
   },
   {
    "duration": 20,
    "start_time": "2021-07-25T11:23:44.599Z"
   },
   {
    "duration": 779,
    "start_time": "2021-07-25T11:23:44.622Z"
   },
   {
    "duration": -5457,
    "start_time": "2021-07-25T11:23:50.861Z"
   },
   {
    "duration": -5456,
    "start_time": "2021-07-25T11:23:50.862Z"
   },
   {
    "duration": -5457,
    "start_time": "2021-07-25T11:23:50.864Z"
   },
   {
    "duration": -5457,
    "start_time": "2021-07-25T11:23:50.866Z"
   },
   {
    "duration": -5459,
    "start_time": "2021-07-25T11:23:50.869Z"
   },
   {
    "duration": -5458,
    "start_time": "2021-07-25T11:23:50.870Z"
   },
   {
    "duration": -5460,
    "start_time": "2021-07-25T11:23:50.873Z"
   },
   {
    "duration": -5460,
    "start_time": "2021-07-25T11:23:50.875Z"
   },
   {
    "duration": -5461,
    "start_time": "2021-07-25T11:23:50.877Z"
   },
   {
    "duration": -5462,
    "start_time": "2021-07-25T11:23:50.879Z"
   },
   {
    "duration": 48,
    "start_time": "2021-07-25T11:24:34.740Z"
   },
   {
    "duration": 49,
    "start_time": "2021-07-25T11:24:48.941Z"
   },
   {
    "duration": 462,
    "start_time": "2021-07-25T11:24:54.822Z"
   },
   {
    "duration": 46,
    "start_time": "2021-07-25T11:25:27.781Z"
   },
   {
    "duration": 141,
    "start_time": "2021-07-25T11:28:53.732Z"
   },
   {
    "duration": 121,
    "start_time": "2021-07-25T11:29:13.780Z"
   },
   {
    "duration": 128,
    "start_time": "2021-07-25T11:29:22.680Z"
   },
   {
    "duration": 49,
    "start_time": "2021-07-25T11:29:54.832Z"
   },
   {
    "duration": 47,
    "start_time": "2021-07-25T11:30:39.301Z"
   },
   {
    "duration": 151,
    "start_time": "2021-07-25T11:31:06.410Z"
   },
   {
    "duration": 44,
    "start_time": "2021-07-25T11:31:23.679Z"
   },
   {
    "duration": 391,
    "start_time": "2021-07-25T12:38:43.603Z"
   },
   {
    "duration": 6903,
    "start_time": "2021-07-25T12:39:08.000Z"
   },
   {
    "duration": 1589,
    "start_time": "2021-07-25T12:39:14.906Z"
   },
   {
    "duration": 158,
    "start_time": "2021-07-25T12:39:16.498Z"
   },
   {
    "duration": 6,
    "start_time": "2021-07-25T12:39:16.659Z"
   },
   {
    "duration": 133,
    "start_time": "2021-07-25T12:39:16.667Z"
   },
   {
    "duration": 97,
    "start_time": "2021-07-25T12:39:16.803Z"
   },
   {
    "duration": 16,
    "start_time": "2021-07-25T12:39:16.902Z"
   },
   {
    "duration": 9,
    "start_time": "2021-07-25T12:39:16.921Z"
   },
   {
    "duration": 181,
    "start_time": "2021-07-25T12:39:16.935Z"
   },
   {
    "duration": 13,
    "start_time": "2021-07-25T12:39:17.119Z"
   },
   {
    "duration": 28,
    "start_time": "2021-07-25T12:39:17.134Z"
   },
   {
    "duration": 36,
    "start_time": "2021-07-25T12:39:17.164Z"
   },
   {
    "duration": 8,
    "start_time": "2021-07-25T12:39:17.202Z"
   },
   {
    "duration": 268,
    "start_time": "2021-07-25T12:39:17.212Z"
   },
   {
    "duration": 6,
    "start_time": "2021-07-25T12:39:17.486Z"
   },
   {
    "duration": 844,
    "start_time": "2021-07-25T12:39:17.495Z"
   },
   {
    "duration": 18,
    "start_time": "2021-07-25T12:39:18.342Z"
   },
   {
    "duration": 687,
    "start_time": "2021-07-25T12:39:18.362Z"
   },
   {
    "duration": 44,
    "start_time": "2021-07-25T12:39:19.052Z"
   },
   {
    "duration": 46,
    "start_time": "2021-07-25T12:39:19.098Z"
   },
   {
    "duration": 57,
    "start_time": "2021-07-25T12:39:19.146Z"
   },
   {
    "duration": 144,
    "start_time": "2021-07-25T12:39:19.205Z"
   },
   {
    "duration": 7,
    "start_time": "2021-07-25T12:39:19.351Z"
   },
   {
    "duration": 24,
    "start_time": "2021-07-25T12:39:19.361Z"
   },
   {
    "duration": 14,
    "start_time": "2021-07-25T12:39:19.387Z"
   },
   {
    "duration": 599,
    "start_time": "2021-07-25T12:39:19.404Z"
   },
   {
    "duration": 5,
    "start_time": "2021-07-25T12:39:20.009Z"
   },
   {
    "duration": 18,
    "start_time": "2021-07-25T12:39:20.017Z"
   },
   {
    "duration": 54,
    "start_time": "2021-07-25T12:39:20.038Z"
   },
   {
    "duration": 98,
    "start_time": "2021-07-25T12:39:20.095Z"
   },
   {
    "duration": 97,
    "start_time": "2021-07-25T12:39:20.195Z"
   },
   {
    "duration": 18,
    "start_time": "2021-07-25T12:39:20.294Z"
   },
   {
    "duration": 95,
    "start_time": "2021-07-25T12:39:20.314Z"
   },
   {
    "duration": 5,
    "start_time": "2021-07-25T12:39:20.411Z"
   },
   {
    "duration": 10,
    "start_time": "2021-07-25T12:39:20.418Z"
   },
   {
    "duration": 8,
    "start_time": "2021-07-25T12:39:20.431Z"
   },
   {
    "duration": 8,
    "start_time": "2021-07-25T12:39:20.441Z"
   },
   {
    "duration": 35,
    "start_time": "2021-07-25T12:39:20.451Z"
   },
   {
    "duration": 8,
    "start_time": "2021-07-25T12:39:20.488Z"
   },
   {
    "duration": 17,
    "start_time": "2021-07-25T12:39:39.602Z"
   },
   {
    "duration": 18,
    "start_time": "2021-07-25T12:39:49.441Z"
   },
   {
    "duration": 693,
    "start_time": "2021-07-25T12:40:54.882Z"
   },
   {
    "duration": 6,
    "start_time": "2021-07-25T12:43:58.001Z"
   },
   {
    "duration": 5,
    "start_time": "2021-07-25T12:44:25.150Z"
   },
   {
    "duration": 7,
    "start_time": "2021-07-25T12:44:27.763Z"
   },
   {
    "duration": 5,
    "start_time": "2021-07-25T12:44:29.502Z"
   },
   {
    "duration": 6,
    "start_time": "2021-07-25T12:45:18.302Z"
   },
   {
    "duration": 5,
    "start_time": "2021-07-25T12:45:20.682Z"
   },
   {
    "duration": 6,
    "start_time": "2021-07-25T12:45:23.522Z"
   },
   {
    "duration": 5,
    "start_time": "2021-07-25T12:47:23.782Z"
   },
   {
    "duration": 50,
    "start_time": "2021-07-25T12:47:25.122Z"
   },
   {
    "duration": 8,
    "start_time": "2021-07-25T12:48:13.254Z"
   },
   {
    "duration": 7243,
    "start_time": "2021-07-25T12:48:20.825Z"
   },
   {
    "duration": 1634,
    "start_time": "2021-07-25T12:48:28.071Z"
   },
   {
    "duration": 163,
    "start_time": "2021-07-25T12:48:29.708Z"
   },
   {
    "duration": 7,
    "start_time": "2021-07-25T12:48:29.874Z"
   },
   {
    "duration": 122,
    "start_time": "2021-07-25T12:48:29.886Z"
   },
   {
    "duration": 106,
    "start_time": "2021-07-25T12:48:30.011Z"
   },
   {
    "duration": 15,
    "start_time": "2021-07-25T12:48:30.120Z"
   },
   {
    "duration": 10,
    "start_time": "2021-07-25T12:48:30.138Z"
   },
   {
    "duration": 181,
    "start_time": "2021-07-25T12:48:30.152Z"
   },
   {
    "duration": 13,
    "start_time": "2021-07-25T12:48:30.337Z"
   },
   {
    "duration": 47,
    "start_time": "2021-07-25T12:48:30.353Z"
   },
   {
    "duration": 20,
    "start_time": "2021-07-25T12:48:30.403Z"
   },
   {
    "duration": 7,
    "start_time": "2021-07-25T12:48:30.425Z"
   },
   {
    "duration": 286,
    "start_time": "2021-07-25T12:48:30.435Z"
   },
   {
    "duration": 6,
    "start_time": "2021-07-25T12:48:30.724Z"
   },
   {
    "duration": 870,
    "start_time": "2021-07-25T12:48:30.732Z"
   },
   {
    "duration": 19,
    "start_time": "2021-07-25T12:48:31.604Z"
   },
   {
    "duration": 798,
    "start_time": "2021-07-25T12:48:31.625Z"
   },
   {
    "duration": 32,
    "start_time": "2021-07-25T12:48:32.425Z"
   },
   {
    "duration": 64,
    "start_time": "2021-07-25T12:48:32.459Z"
   },
   {
    "duration": 37,
    "start_time": "2021-07-25T12:48:32.525Z"
   },
   {
    "duration": 152,
    "start_time": "2021-07-25T12:48:32.585Z"
   },
   {
    "duration": 6,
    "start_time": "2021-07-25T12:48:32.739Z"
   },
   {
    "duration": 10,
    "start_time": "2021-07-25T12:48:32.748Z"
   },
   {
    "duration": 28,
    "start_time": "2021-07-25T12:48:32.761Z"
   },
   {
    "duration": 625,
    "start_time": "2021-07-25T12:48:32.792Z"
   },
   {
    "duration": 6,
    "start_time": "2021-07-25T12:48:33.423Z"
   },
   {
    "duration": 56,
    "start_time": "2021-07-25T12:48:33.432Z"
   },
   {
    "duration": 15,
    "start_time": "2021-07-25T12:48:33.490Z"
   },
   {
    "duration": 106,
    "start_time": "2021-07-25T12:48:33.508Z"
   },
   {
    "duration": 99,
    "start_time": "2021-07-25T12:48:33.616Z"
   },
   {
    "duration": 5,
    "start_time": "2021-07-25T12:48:33.718Z"
   },
   {
    "duration": 95,
    "start_time": "2021-07-25T12:48:33.725Z"
   },
   {
    "duration": 6,
    "start_time": "2021-07-25T12:48:33.822Z"
   },
   {
    "duration": 11,
    "start_time": "2021-07-25T12:48:33.830Z"
   },
   {
    "duration": 6,
    "start_time": "2021-07-25T12:48:33.843Z"
   },
   {
    "duration": 40,
    "start_time": "2021-07-25T12:48:33.852Z"
   },
   {
    "duration": 6,
    "start_time": "2021-07-25T12:48:33.895Z"
   },
   {
    "duration": 9,
    "start_time": "2021-07-25T12:48:33.903Z"
   },
   {
    "duration": 12,
    "start_time": "2021-07-25T12:58:58.222Z"
   },
   {
    "duration": 12,
    "start_time": "2021-07-25T13:01:13.922Z"
   },
   {
    "duration": 12,
    "start_time": "2021-07-25T13:36:03.583Z"
   },
   {
    "duration": 14,
    "start_time": "2021-07-25T13:36:04.222Z"
   },
   {
    "duration": 19,
    "start_time": "2021-07-25T13:49:55.734Z"
   },
   {
    "duration": 21,
    "start_time": "2021-07-25T13:50:05.682Z"
   },
   {
    "duration": 4,
    "start_time": "2021-07-25T13:56:04.323Z"
   },
   {
    "duration": 589,
    "start_time": "2021-07-25T13:56:19.410Z"
   },
   {
    "duration": 411,
    "start_time": "2021-07-25T13:58:24.722Z"
   },
   {
    "duration": 7382,
    "start_time": "2021-07-25T13:58:32.555Z"
   },
   {
    "duration": 1607,
    "start_time": "2021-07-25T13:58:39.940Z"
   },
   {
    "duration": 170,
    "start_time": "2021-07-25T13:58:41.550Z"
   },
   {
    "duration": 8,
    "start_time": "2021-07-25T13:58:41.722Z"
   },
   {
    "duration": 142,
    "start_time": "2021-07-25T13:58:41.733Z"
   },
   {
    "duration": 109,
    "start_time": "2021-07-25T13:58:41.878Z"
   },
   {
    "duration": 16,
    "start_time": "2021-07-25T13:58:41.989Z"
   },
   {
    "duration": 10,
    "start_time": "2021-07-25T13:58:42.008Z"
   },
   {
    "duration": 182,
    "start_time": "2021-07-25T13:58:42.022Z"
   },
   {
    "duration": 13,
    "start_time": "2021-07-25T13:58:42.207Z"
   },
   {
    "duration": 25,
    "start_time": "2021-07-25T13:58:42.222Z"
   },
   {
    "duration": 41,
    "start_time": "2021-07-25T13:58:42.249Z"
   },
   {
    "duration": 7,
    "start_time": "2021-07-25T13:58:42.292Z"
   },
   {
    "duration": 289,
    "start_time": "2021-07-25T13:58:42.302Z"
   },
   {
    "duration": 6,
    "start_time": "2021-07-25T13:58:42.594Z"
   },
   {
    "duration": 889,
    "start_time": "2021-07-25T13:58:42.602Z"
   },
   {
    "duration": 18,
    "start_time": "2021-07-25T13:58:43.493Z"
   },
   {
    "duration": 709,
    "start_time": "2021-07-25T13:58:43.514Z"
   },
   {
    "duration": 32,
    "start_time": "2021-07-25T13:58:44.227Z"
   },
   {
    "duration": 67,
    "start_time": "2021-07-25T13:58:44.262Z"
   },
   {
    "duration": 54,
    "start_time": "2021-07-25T13:58:44.331Z"
   },
   {
    "duration": 161,
    "start_time": "2021-07-25T13:58:44.388Z"
   },
   {
    "duration": 7,
    "start_time": "2021-07-25T13:58:44.552Z"
   },
   {
    "duration": 24,
    "start_time": "2021-07-25T13:58:44.561Z"
   },
   {
    "duration": 13,
    "start_time": "2021-07-25T13:58:44.588Z"
   },
   {
    "duration": 730,
    "start_time": "2021-07-25T13:58:44.603Z"
   },
   {
    "duration": 5,
    "start_time": "2021-07-25T13:58:45.338Z"
   },
   {
    "duration": 41,
    "start_time": "2021-07-25T13:58:45.346Z"
   },
   {
    "duration": 17,
    "start_time": "2021-07-25T13:58:45.390Z"
   },
   {
    "duration": 104,
    "start_time": "2021-07-25T13:58:45.410Z"
   },
   {
    "duration": 112,
    "start_time": "2021-07-25T13:58:45.516Z"
   },
   {
    "duration": 5,
    "start_time": "2021-07-25T13:58:45.686Z"
   },
   {
    "duration": 50,
    "start_time": "2021-07-25T13:58:45.693Z"
   },
   {
    "duration": 5,
    "start_time": "2021-07-25T13:58:45.745Z"
   },
   {
    "duration": 35,
    "start_time": "2021-07-25T13:58:45.752Z"
   },
   {
    "duration": 7,
    "start_time": "2021-07-25T13:58:45.790Z"
   },
   {
    "duration": 8,
    "start_time": "2021-07-25T13:58:45.800Z"
   },
   {
    "duration": 6,
    "start_time": "2021-07-25T13:58:45.811Z"
   },
   {
    "duration": 13,
    "start_time": "2021-07-25T13:58:45.819Z"
   },
   {
    "duration": 52,
    "start_time": "2021-07-25T13:58:45.835Z"
   },
   {
    "duration": 18,
    "start_time": "2021-07-25T13:58:45.889Z"
   },
   {
    "duration": 672,
    "start_time": "2021-07-25T13:58:45.909Z"
   },
   {
    "duration": -3386,
    "start_time": "2021-07-25T13:58:49.970Z"
   },
   {
    "duration": 419,
    "start_time": "2021-07-25T14:00:55.305Z"
   },
   {
    "duration": 394,
    "start_time": "2021-07-25T14:01:17.514Z"
   },
   {
    "duration": 21,
    "start_time": "2021-07-25T14:01:42.714Z"
   },
   {
    "duration": 426,
    "start_time": "2021-07-25T14:02:20.035Z"
   },
   {
    "duration": 19,
    "start_time": "2021-07-25T14:02:35.306Z"
   },
   {
    "duration": 21,
    "start_time": "2021-07-25T14:02:45.014Z"
   },
   {
    "duration": 6966,
    "start_time": "2021-07-25T14:03:04.867Z"
   },
   {
    "duration": 1583,
    "start_time": "2021-07-25T14:03:11.836Z"
   },
   {
    "duration": 167,
    "start_time": "2021-07-25T14:03:13.422Z"
   },
   {
    "duration": 7,
    "start_time": "2021-07-25T14:03:13.591Z"
   },
   {
    "duration": 135,
    "start_time": "2021-07-25T14:03:13.600Z"
   },
   {
    "duration": 107,
    "start_time": "2021-07-25T14:03:13.737Z"
   },
   {
    "duration": 17,
    "start_time": "2021-07-25T14:03:13.846Z"
   },
   {
    "duration": 21,
    "start_time": "2021-07-25T14:03:13.866Z"
   },
   {
    "duration": 175,
    "start_time": "2021-07-25T14:03:13.892Z"
   },
   {
    "duration": 25,
    "start_time": "2021-07-25T14:03:14.070Z"
   },
   {
    "duration": 26,
    "start_time": "2021-07-25T14:03:14.098Z"
   },
   {
    "duration": 23,
    "start_time": "2021-07-25T14:03:14.127Z"
   },
   {
    "duration": 40,
    "start_time": "2021-07-25T14:03:14.153Z"
   },
   {
    "duration": 277,
    "start_time": "2021-07-25T14:03:14.196Z"
   },
   {
    "duration": 13,
    "start_time": "2021-07-25T14:03:14.476Z"
   },
   {
    "duration": 861,
    "start_time": "2021-07-25T14:03:14.492Z"
   },
   {
    "duration": 30,
    "start_time": "2021-07-25T14:03:15.356Z"
   },
   {
    "duration": 687,
    "start_time": "2021-07-25T14:03:15.388Z"
   },
   {
    "duration": 36,
    "start_time": "2021-07-25T14:03:16.077Z"
   },
   {
    "duration": 47,
    "start_time": "2021-07-25T14:03:16.115Z"
   },
   {
    "duration": 38,
    "start_time": "2021-07-25T14:03:16.185Z"
   },
   {
    "duration": 160,
    "start_time": "2021-07-25T14:03:16.225Z"
   },
   {
    "duration": 7,
    "start_time": "2021-07-25T14:03:16.387Z"
   },
   {
    "duration": 13,
    "start_time": "2021-07-25T14:03:16.397Z"
   },
   {
    "duration": 16,
    "start_time": "2021-07-25T14:03:16.412Z"
   },
   {
    "duration": 611,
    "start_time": "2021-07-25T14:03:16.430Z"
   },
   {
    "duration": 6,
    "start_time": "2021-07-25T14:03:17.046Z"
   },
   {
    "duration": 41,
    "start_time": "2021-07-25T14:03:17.055Z"
   },
   {
    "duration": 11,
    "start_time": "2021-07-25T14:03:17.099Z"
   },
   {
    "duration": 104,
    "start_time": "2021-07-25T14:03:17.113Z"
   },
   {
    "duration": 109,
    "start_time": "2021-07-25T14:03:17.219Z"
   },
   {
    "duration": 6,
    "start_time": "2021-07-25T14:03:17.330Z"
   },
   {
    "duration": 53,
    "start_time": "2021-07-25T14:03:17.387Z"
   },
   {
    "duration": 5,
    "start_time": "2021-07-25T14:03:17.443Z"
   },
   {
    "duration": 37,
    "start_time": "2021-07-25T14:03:17.451Z"
   },
   {
    "duration": 10,
    "start_time": "2021-07-25T14:03:17.491Z"
   },
   {
    "duration": 13,
    "start_time": "2021-07-25T14:03:17.504Z"
   },
   {
    "duration": 8,
    "start_time": "2021-07-25T14:03:17.520Z"
   },
   {
    "duration": 12,
    "start_time": "2021-07-25T14:03:17.531Z"
   },
   {
    "duration": 40,
    "start_time": "2021-07-25T14:03:17.546Z"
   },
   {
    "duration": 19,
    "start_time": "2021-07-25T14:03:17.589Z"
   },
   {
    "duration": 622,
    "start_time": "2021-07-25T14:03:17.610Z"
   },
   {
    "duration": -5175,
    "start_time": "2021-07-25T14:03:23.410Z"
   },
   {
    "duration": 21,
    "start_time": "2021-07-25T14:05:41.186Z"
   },
   {
    "duration": 123,
    "start_time": "2021-07-25T14:16:05.006Z"
   },
   {
    "duration": 27,
    "start_time": "2021-07-25T14:16:12.774Z"
   },
   {
    "duration": 24,
    "start_time": "2021-07-25T14:16:58.166Z"
   },
   {
    "duration": 9,
    "start_time": "2021-07-25T14:20:49.375Z"
   },
   {
    "duration": 124,
    "start_time": "2021-07-25T14:20:50.422Z"
   },
   {
    "duration": 6,
    "start_time": "2021-07-25T14:23:04.287Z"
   },
   {
    "duration": 26,
    "start_time": "2021-07-25T14:23:08.546Z"
   },
   {
    "duration": 23,
    "start_time": "2021-07-25T14:23:09.562Z"
   },
   {
    "duration": 7,
    "start_time": "2021-07-25T14:23:11.016Z"
   },
   {
    "duration": 122,
    "start_time": "2021-07-25T14:23:11.946Z"
   },
   {
    "duration": 120,
    "start_time": "2021-07-25T14:24:57.706Z"
   },
   {
    "duration": 9952,
    "start_time": "2021-07-25T14:31:21.034Z"
   },
   {
    "duration": 6959,
    "start_time": "2021-07-25T14:31:49.404Z"
   },
   {
    "duration": 1708,
    "start_time": "2021-07-25T14:31:56.367Z"
   },
   {
    "duration": 171,
    "start_time": "2021-07-25T14:31:58.080Z"
   },
   {
    "duration": 7,
    "start_time": "2021-07-25T14:31:58.254Z"
   },
   {
    "duration": 134,
    "start_time": "2021-07-25T14:31:58.263Z"
   },
   {
    "duration": 111,
    "start_time": "2021-07-25T14:31:58.400Z"
   },
   {
    "duration": 17,
    "start_time": "2021-07-25T14:31:58.514Z"
   },
   {
    "duration": 11,
    "start_time": "2021-07-25T14:31:58.535Z"
   },
   {
    "duration": 188,
    "start_time": "2021-07-25T14:31:58.550Z"
   },
   {
    "duration": 13,
    "start_time": "2021-07-25T14:31:58.741Z"
   },
   {
    "duration": 43,
    "start_time": "2021-07-25T14:31:58.757Z"
   },
   {
    "duration": 21,
    "start_time": "2021-07-25T14:31:58.802Z"
   },
   {
    "duration": 8,
    "start_time": "2021-07-25T14:31:58.826Z"
   },
   {
    "duration": 289,
    "start_time": "2021-07-25T14:31:58.837Z"
   },
   {
    "duration": 6,
    "start_time": "2021-07-25T14:31:59.129Z"
   },
   {
    "duration": 911,
    "start_time": "2021-07-25T14:31:59.138Z"
   },
   {
    "duration": 34,
    "start_time": "2021-07-25T14:32:00.051Z"
   },
   {
    "duration": 700,
    "start_time": "2021-07-25T14:32:00.088Z"
   },
   {
    "duration": 30,
    "start_time": "2021-07-25T14:32:00.791Z"
   },
   {
    "duration": 71,
    "start_time": "2021-07-25T14:32:00.824Z"
   },
   {
    "duration": 38,
    "start_time": "2021-07-25T14:32:00.898Z"
   },
   {
    "duration": 171,
    "start_time": "2021-07-25T14:32:00.939Z"
   },
   {
    "duration": 7,
    "start_time": "2021-07-25T14:32:01.112Z"
   },
   {
    "duration": 22,
    "start_time": "2021-07-25T14:32:01.121Z"
   },
   {
    "duration": 24,
    "start_time": "2021-07-25T14:32:01.146Z"
   },
   {
    "duration": 730,
    "start_time": "2021-07-25T14:32:01.173Z"
   },
   {
    "duration": 7,
    "start_time": "2021-07-25T14:32:01.911Z"
   },
   {
    "duration": 78,
    "start_time": "2021-07-25T14:32:01.920Z"
   },
   {
    "duration": 34,
    "start_time": "2021-07-25T14:32:02.001Z"
   },
   {
    "duration": 157,
    "start_time": "2021-07-25T14:32:02.038Z"
   },
   {
    "duration": 44,
    "start_time": "2021-07-25T14:32:02.197Z"
   },
   {
    "duration": 5,
    "start_time": "2021-07-25T14:32:02.243Z"
   },
   {
    "duration": 83,
    "start_time": "2021-07-25T14:32:02.250Z"
   },
   {
    "duration": 8,
    "start_time": "2021-07-25T14:32:02.336Z"
   },
   {
    "duration": 52,
    "start_time": "2021-07-25T14:32:02.346Z"
   },
   {
    "duration": 22,
    "start_time": "2021-07-25T14:32:02.400Z"
   },
   {
    "duration": 19,
    "start_time": "2021-07-25T14:32:02.424Z"
   },
   {
    "duration": 43,
    "start_time": "2021-07-25T14:32:02.446Z"
   },
   {
    "duration": 213,
    "start_time": "2021-07-25T14:32:02.491Z"
   },
   {
    "duration": 59,
    "start_time": "2021-07-25T14:32:02.706Z"
   },
   {
    "duration": 49,
    "start_time": "2021-07-25T14:32:02.768Z"
   },
   {
    "duration": 34,
    "start_time": "2021-07-25T14:32:02.819Z"
   },
   {
    "duration": 73,
    "start_time": "2021-07-25T14:32:02.856Z"
   },
   {
    "duration": 24,
    "start_time": "2021-07-25T14:32:02.932Z"
   },
   {
    "duration": 24,
    "start_time": "2021-07-25T14:32:02.958Z"
   },
   {
    "duration": 11232,
    "start_time": "2021-07-25T14:32:02.985Z"
   },
   {
    "duration": -1879,
    "start_time": "2021-07-25T14:32:16.100Z"
   },
   {
    "duration": 130,
    "start_time": "2021-07-25T14:33:01.162Z"
   },
   {
    "duration": 120,
    "start_time": "2021-07-25T14:35:15.282Z"
   },
   {
    "duration": 128,
    "start_time": "2021-07-25T14:36:54.682Z"
   },
   {
    "duration": 9876,
    "start_time": "2021-07-25T14:40:13.722Z"
   },
   {
    "duration": 10433,
    "start_time": "2021-07-25T14:40:34.322Z"
   },
   {
    "duration": 6645,
    "start_time": "2021-07-25T14:41:26.135Z"
   },
   {
    "duration": 7000,
    "start_time": "2021-07-25T14:41:50.210Z"
   },
   {
    "duration": 116,
    "start_time": "2021-07-25T14:42:02.802Z"
   },
   {
    "duration": 9,
    "start_time": "2021-07-25T14:43:38.450Z"
   },
   {
    "duration": 147,
    "start_time": "2021-07-25T14:43:39.242Z"
   },
   {
    "duration": 8,
    "start_time": "2021-07-25T14:44:59.123Z"
   },
   {
    "duration": 119,
    "start_time": "2021-07-25T14:44:59.922Z"
   },
   {
    "duration": 10546,
    "start_time": "2021-07-25T14:46:43.682Z"
   },
   {
    "duration": 138,
    "start_time": "2021-07-25T14:47:10.022Z"
   },
   {
    "duration": 9,
    "start_time": "2021-07-25T14:47:39.443Z"
   },
   {
    "duration": 137,
    "start_time": "2021-07-25T14:47:39.990Z"
   },
   {
    "duration": 8,
    "start_time": "2021-07-25T14:51:37.210Z"
   },
   {
    "duration": 11,
    "start_time": "2021-07-25T14:53:09.402Z"
   },
   {
    "duration": 3,
    "start_time": "2021-07-25T15:01:47.282Z"
   },
   {
    "duration": 3,
    "start_time": "2021-07-25T15:24:24.837Z"
   },
   {
    "duration": 122,
    "start_time": "2021-07-25T15:28:05.298Z"
   },
   {
    "duration": 115,
    "start_time": "2021-07-25T15:28:21.097Z"
   },
   {
    "duration": 117,
    "start_time": "2021-07-25T15:29:21.916Z"
   },
   {
    "duration": 117,
    "start_time": "2021-07-25T15:30:49.218Z"
   },
   {
    "duration": 393,
    "start_time": "2021-07-25T15:36:10.737Z"
   },
   {
    "duration": 49,
    "start_time": "2021-07-25T15:37:21.197Z"
   },
   {
    "duration": 8,
    "start_time": "2021-07-25T15:38:15.567Z"
   },
   {
    "duration": 830,
    "start_time": "2021-07-25T15:38:17.925Z"
   },
   {
    "duration": 10,
    "start_time": "2021-07-25T15:39:00.818Z"
   },
   {
    "duration": 123,
    "start_time": "2021-07-25T15:39:01.733Z"
   },
   {
    "duration": 47,
    "start_time": "2021-07-25T15:39:08.778Z"
   },
   {
    "duration": 121,
    "start_time": "2021-07-25T15:39:10.817Z"
   },
   {
    "duration": 120,
    "start_time": "2021-07-25T15:39:15.218Z"
   },
   {
    "duration": 3,
    "start_time": "2021-07-25T15:40:26.437Z"
   },
   {
    "duration": 3,
    "start_time": "2021-07-25T16:08:56.477Z"
   },
   {
    "duration": 20,
    "start_time": "2021-07-25T16:20:00.177Z"
   },
   {
    "duration": 51,
    "start_time": "2021-07-25T16:29:06.577Z"
   },
   {
    "duration": 398,
    "start_time": "2021-07-25T16:29:52.417Z"
   },
   {
    "duration": 402,
    "start_time": "2021-07-25T16:30:06.397Z"
   },
   {
    "duration": 55,
    "start_time": "2021-07-25T16:30:19.697Z"
   },
   {
    "duration": 46,
    "start_time": "2021-07-25T16:30:46.894Z"
   },
   {
    "duration": 112,
    "start_time": "2021-07-25T16:32:07.529Z"
   },
   {
    "duration": 83,
    "start_time": "2021-07-25T16:32:25.998Z"
   },
   {
    "duration": 64,
    "start_time": "2021-07-25T16:32:45.928Z"
   },
   {
    "duration": 47,
    "start_time": "2021-07-25T16:32:57.429Z"
   },
   {
    "duration": 911,
    "start_time": "2021-07-25T16:33:28.178Z"
   },
   {
    "duration": 411,
    "start_time": "2021-07-25T16:39:38.857Z"
   },
   {
    "duration": 98,
    "start_time": "2021-07-25T16:39:48.836Z"
   },
   {
    "duration": 43,
    "start_time": "2021-07-25T16:39:49.977Z"
   },
   {
    "duration": 10806,
    "start_time": "2021-07-25T16:39:52.637Z"
   },
   {
    "duration": 9,
    "start_time": "2021-07-25T16:40:30.898Z"
   },
   {
    "duration": 686,
    "start_time": "2021-07-25T16:42:12.937Z"
   },
   {
    "duration": 10061,
    "start_time": "2021-07-25T16:42:27.937Z"
   },
   {
    "duration": 9872,
    "start_time": "2021-07-25T16:43:13.998Z"
   },
   {
    "duration": 10289,
    "start_time": "2021-07-25T16:43:51.417Z"
   },
   {
    "duration": 6978,
    "start_time": "2021-07-25T16:44:41.203Z"
   },
   {
    "duration": 1706,
    "start_time": "2021-07-25T16:44:48.185Z"
   },
   {
    "duration": 173,
    "start_time": "2021-07-25T16:44:49.894Z"
   },
   {
    "duration": 7,
    "start_time": "2021-07-25T16:44:50.070Z"
   },
   {
    "duration": 129,
    "start_time": "2021-07-25T16:44:50.085Z"
   },
   {
    "duration": 100,
    "start_time": "2021-07-25T16:44:50.216Z"
   },
   {
    "duration": 16,
    "start_time": "2021-07-25T16:44:50.318Z"
   },
   {
    "duration": 10,
    "start_time": "2021-07-25T16:44:50.337Z"
   },
   {
    "duration": 174,
    "start_time": "2021-07-25T16:44:50.350Z"
   },
   {
    "duration": 14,
    "start_time": "2021-07-25T16:44:50.526Z"
   },
   {
    "duration": 45,
    "start_time": "2021-07-25T16:44:50.542Z"
   },
   {
    "duration": 21,
    "start_time": "2021-07-25T16:44:50.589Z"
   },
   {
    "duration": 10,
    "start_time": "2021-07-25T16:44:50.613Z"
   },
   {
    "duration": 285,
    "start_time": "2021-07-25T16:44:50.625Z"
   },
   {
    "duration": 8,
    "start_time": "2021-07-25T16:44:50.913Z"
   },
   {
    "duration": 878,
    "start_time": "2021-07-25T16:44:50.924Z"
   },
   {
    "duration": 20,
    "start_time": "2021-07-25T16:44:51.806Z"
   },
   {
    "duration": 696,
    "start_time": "2021-07-25T16:44:51.829Z"
   },
   {
    "duration": 34,
    "start_time": "2021-07-25T16:44:52.528Z"
   },
   {
    "duration": 47,
    "start_time": "2021-07-25T16:44:52.585Z"
   },
   {
    "duration": 62,
    "start_time": "2021-07-25T16:44:52.635Z"
   },
   {
    "duration": 154,
    "start_time": "2021-07-25T16:44:52.700Z"
   },
   {
    "duration": 8,
    "start_time": "2021-07-25T16:44:52.857Z"
   },
   {
    "duration": 19,
    "start_time": "2021-07-25T16:44:52.868Z"
   },
   {
    "duration": 19,
    "start_time": "2021-07-25T16:44:52.890Z"
   },
   {
    "duration": 608,
    "start_time": "2021-07-25T16:44:52.915Z"
   },
   {
    "duration": 6,
    "start_time": "2021-07-25T16:44:53.526Z"
   },
   {
    "duration": 52,
    "start_time": "2021-07-25T16:44:53.534Z"
   },
   {
    "duration": 8,
    "start_time": "2021-07-25T16:44:53.589Z"
   },
   {
    "duration": 109,
    "start_time": "2021-07-25T16:44:53.600Z"
   },
   {
    "duration": 102,
    "start_time": "2021-07-25T16:44:53.711Z"
   },
   {
    "duration": 6,
    "start_time": "2021-07-25T16:44:53.817Z"
   },
   {
    "duration": 101,
    "start_time": "2021-07-25T16:44:53.826Z"
   },
   {
    "duration": 5,
    "start_time": "2021-07-25T16:44:53.930Z"
   },
   {
    "duration": 9,
    "start_time": "2021-07-25T16:44:53.938Z"
   },
   {
    "duration": 43,
    "start_time": "2021-07-25T16:44:53.950Z"
   },
   {
    "duration": 7,
    "start_time": "2021-07-25T16:44:53.996Z"
   },
   {
    "duration": 9,
    "start_time": "2021-07-25T16:44:54.006Z"
   },
   {
    "duration": 9,
    "start_time": "2021-07-25T16:44:54.018Z"
   },
   {
    "duration": 14,
    "start_time": "2021-07-25T16:44:54.030Z"
   },
   {
    "duration": 46,
    "start_time": "2021-07-25T16:44:54.047Z"
   },
   {
    "duration": 8,
    "start_time": "2021-07-25T16:44:54.095Z"
   },
   {
    "duration": 31,
    "start_time": "2021-07-25T16:44:54.105Z"
   },
   {
    "duration": 11,
    "start_time": "2021-07-25T16:44:54.138Z"
   },
   {
    "duration": 9,
    "start_time": "2021-07-25T16:44:54.185Z"
   },
   {
    "duration": 135,
    "start_time": "2021-07-25T16:44:54.196Z"
   },
   {
    "duration": 68,
    "start_time": "2021-07-25T16:44:54.334Z"
   },
   {
    "duration": 129,
    "start_time": "2021-07-25T16:44:54.405Z"
   },
   {
    "duration": 130,
    "start_time": "2021-07-25T16:44:54.536Z"
   },
   {
    "duration": 89,
    "start_time": "2021-07-25T16:44:54.669Z"
   },
   {
    "duration": 58,
    "start_time": "2021-07-25T16:44:54.761Z"
   },
   {
    "duration": 9,
    "start_time": "2021-07-25T16:44:54.822Z"
   },
   {
    "duration": 10293,
    "start_time": "2021-07-25T16:44:54.833Z"
   },
   {
    "duration": 10776,
    "start_time": "2021-07-25T16:46:41.624Z"
   },
   {
    "duration": 10860,
    "start_time": "2021-07-25T16:47:09.540Z"
   },
   {
    "duration": 44,
    "start_time": "2021-07-25T16:48:24.143Z"
   },
   {
    "duration": 8,
    "start_time": "2021-07-25T16:48:24.799Z"
   },
   {
    "duration": 44,
    "start_time": "2021-07-25T16:48:37.622Z"
   },
   {
    "duration": 8,
    "start_time": "2021-07-25T16:48:38.395Z"
   },
   {
    "duration": 10494,
    "start_time": "2021-07-25T16:48:42.383Z"
   },
   {
    "duration": 136,
    "start_time": "2021-07-25T16:48:56.735Z"
   },
   {
    "duration": 6976,
    "start_time": "2021-07-25T17:19:03.442Z"
   },
   {
    "duration": 1623,
    "start_time": "2021-07-25T17:19:10.421Z"
   },
   {
    "duration": 168,
    "start_time": "2021-07-25T17:19:12.048Z"
   },
   {
    "duration": 8,
    "start_time": "2021-07-25T17:19:12.219Z"
   },
   {
    "duration": 138,
    "start_time": "2021-07-25T17:19:12.230Z"
   },
   {
    "duration": 104,
    "start_time": "2021-07-25T17:19:12.371Z"
   },
   {
    "duration": 17,
    "start_time": "2021-07-25T17:19:12.486Z"
   },
   {
    "duration": 10,
    "start_time": "2021-07-25T17:19:12.505Z"
   },
   {
    "duration": 192,
    "start_time": "2021-07-25T17:19:12.519Z"
   },
   {
    "duration": 12,
    "start_time": "2021-07-25T17:19:12.714Z"
   },
   {
    "duration": 25,
    "start_time": "2021-07-25T17:19:12.729Z"
   },
   {
    "duration": 41,
    "start_time": "2021-07-25T17:19:12.756Z"
   },
   {
    "duration": 12,
    "start_time": "2021-07-25T17:19:12.800Z"
   },
   {
    "duration": 276,
    "start_time": "2021-07-25T17:19:12.814Z"
   },
   {
    "duration": 6,
    "start_time": "2021-07-25T17:19:13.093Z"
   },
   {
    "duration": 873,
    "start_time": "2021-07-25T17:19:13.101Z"
   },
   {
    "duration": 25,
    "start_time": "2021-07-25T17:19:13.976Z"
   },
   {
    "duration": 707,
    "start_time": "2021-07-25T17:19:14.003Z"
   },
   {
    "duration": 31,
    "start_time": "2021-07-25T17:19:14.713Z"
   },
   {
    "duration": 66,
    "start_time": "2021-07-25T17:19:14.747Z"
   },
   {
    "duration": 37,
    "start_time": "2021-07-25T17:19:14.816Z"
   },
   {
    "duration": 169,
    "start_time": "2021-07-25T17:19:14.856Z"
   },
   {
    "duration": 7,
    "start_time": "2021-07-25T17:19:15.027Z"
   },
   {
    "duration": 11,
    "start_time": "2021-07-25T17:19:15.036Z"
   },
   {
    "duration": 19,
    "start_time": "2021-07-25T17:19:15.049Z"
   },
   {
    "duration": 604,
    "start_time": "2021-07-25T17:19:15.086Z"
   },
   {
    "duration": 6,
    "start_time": "2021-07-25T17:19:15.695Z"
   },
   {
    "duration": 15,
    "start_time": "2021-07-25T17:19:15.704Z"
   },
   {
    "duration": 65,
    "start_time": "2021-07-25T17:19:15.722Z"
   },
   {
    "duration": 107,
    "start_time": "2021-07-25T17:19:15.790Z"
   },
   {
    "duration": 107,
    "start_time": "2021-07-25T17:19:15.899Z"
   },
   {
    "duration": 6,
    "start_time": "2021-07-25T17:19:16.009Z"
   },
   {
    "duration": 86,
    "start_time": "2021-07-25T17:19:16.018Z"
   },
   {
    "duration": 4,
    "start_time": "2021-07-25T17:19:16.106Z"
   },
   {
    "duration": 9,
    "start_time": "2021-07-25T17:19:16.113Z"
   },
   {
    "duration": 7,
    "start_time": "2021-07-25T17:19:16.124Z"
   },
   {
    "duration": 7,
    "start_time": "2021-07-25T17:19:16.134Z"
   },
   {
    "duration": 8,
    "start_time": "2021-07-25T17:19:16.143Z"
   },
   {
    "duration": 7,
    "start_time": "2021-07-25T17:19:16.186Z"
   },
   {
    "duration": 17,
    "start_time": "2021-07-25T17:19:16.195Z"
   },
   {
    "duration": 19,
    "start_time": "2021-07-25T17:19:16.214Z"
   },
   {
    "duration": 11,
    "start_time": "2021-07-25T17:19:16.235Z"
   },
   {
    "duration": 58,
    "start_time": "2021-07-25T17:19:16.248Z"
   },
   {
    "duration": 11,
    "start_time": "2021-07-25T17:19:16.308Z"
   },
   {
    "duration": 8,
    "start_time": "2021-07-25T17:19:16.322Z"
   },
   {
    "duration": 169,
    "start_time": "2021-07-25T17:19:16.333Z"
   },
   {
    "duration": 51,
    "start_time": "2021-07-25T17:19:16.505Z"
   },
   {
    "duration": 147,
    "start_time": "2021-07-25T17:19:16.559Z"
   },
   {
    "duration": 144,
    "start_time": "2021-07-25T17:19:16.708Z"
   },
   {
    "duration": 98,
    "start_time": "2021-07-25T17:19:16.855Z"
   },
   {
    "duration": 56,
    "start_time": "2021-07-25T17:19:16.956Z"
   },
   {
    "duration": 8,
    "start_time": "2021-07-25T17:19:17.014Z"
   },
   {
    "duration": 163,
    "start_time": "2021-07-25T17:19:17.024Z"
   },
   {
    "duration": 8,
    "start_time": "2021-07-25T17:20:18.853Z"
   },
   {
    "duration": 128,
    "start_time": "2021-07-25T17:20:18.994Z"
   },
   {
    "duration": 51,
    "start_time": "2021-07-25T18:10:27.239Z"
   },
   {
    "duration": 6999,
    "start_time": "2021-07-25T18:14:40.469Z"
   },
   {
    "duration": 1759,
    "start_time": "2021-07-25T18:14:47.471Z"
   },
   {
    "duration": 159,
    "start_time": "2021-07-25T18:14:49.233Z"
   },
   {
    "duration": 7,
    "start_time": "2021-07-25T18:14:49.395Z"
   },
   {
    "duration": 128,
    "start_time": "2021-07-25T18:14:49.404Z"
   },
   {
    "duration": 102,
    "start_time": "2021-07-25T18:14:49.535Z"
   },
   {
    "duration": 16,
    "start_time": "2021-07-25T18:14:49.640Z"
   },
   {
    "duration": 27,
    "start_time": "2021-07-25T18:14:49.658Z"
   },
   {
    "duration": 164,
    "start_time": "2021-07-25T18:14:49.690Z"
   },
   {
    "duration": 31,
    "start_time": "2021-07-25T18:14:49.858Z"
   },
   {
    "duration": 22,
    "start_time": "2021-07-25T18:14:49.892Z"
   },
   {
    "duration": 20,
    "start_time": "2021-07-25T18:14:49.917Z"
   },
   {
    "duration": 7,
    "start_time": "2021-07-25T18:14:49.939Z"
   },
   {
    "duration": 298,
    "start_time": "2021-07-25T18:14:49.949Z"
   },
   {
    "duration": 7,
    "start_time": "2021-07-25T18:14:50.250Z"
   },
   {
    "duration": 850,
    "start_time": "2021-07-25T18:14:50.259Z"
   },
   {
    "duration": 18,
    "start_time": "2021-07-25T18:14:51.112Z"
   },
   {
    "duration": 707,
    "start_time": "2021-07-25T18:14:51.132Z"
   },
   {
    "duration": 54,
    "start_time": "2021-07-25T18:14:51.841Z"
   },
   {
    "duration": 48,
    "start_time": "2021-07-25T18:14:51.898Z"
   },
   {
    "duration": 55,
    "start_time": "2021-07-25T18:14:51.949Z"
   },
   {
    "duration": 157,
    "start_time": "2021-07-25T18:14:52.008Z"
   },
   {
    "duration": 6,
    "start_time": "2021-07-25T18:14:52.168Z"
   },
   {
    "duration": 5,
    "start_time": "2021-07-25T18:14:52.186Z"
   },
   {
    "duration": 12,
    "start_time": "2021-07-25T18:14:52.195Z"
   },
   {
    "duration": 598,
    "start_time": "2021-07-25T18:14:52.210Z"
   },
   {
    "duration": 7,
    "start_time": "2021-07-25T18:14:52.813Z"
   },
   {
    "duration": 18,
    "start_time": "2021-07-25T18:14:52.823Z"
   },
   {
    "duration": 8,
    "start_time": "2021-07-25T18:14:52.887Z"
   },
   {
    "duration": 109,
    "start_time": "2021-07-25T18:14:52.897Z"
   },
   {
    "duration": 102,
    "start_time": "2021-07-25T18:14:53.008Z"
   },
   {
    "duration": 5,
    "start_time": "2021-07-25T18:14:53.113Z"
   },
   {
    "duration": 96,
    "start_time": "2021-07-25T18:14:53.121Z"
   },
   {
    "duration": 5,
    "start_time": "2021-07-25T18:14:53.219Z"
   },
   {
    "duration": 10,
    "start_time": "2021-07-25T18:14:53.226Z"
   },
   {
    "duration": 11,
    "start_time": "2021-07-25T18:14:53.239Z"
   },
   {
    "duration": 36,
    "start_time": "2021-07-25T18:14:53.253Z"
   },
   {
    "duration": 7,
    "start_time": "2021-07-25T18:14:53.292Z"
   },
   {
    "duration": 8,
    "start_time": "2021-07-25T18:14:53.302Z"
   },
   {
    "duration": 82,
    "start_time": "2021-07-25T18:14:53.312Z"
   },
   {
    "duration": 5,
    "start_time": "2021-07-25T18:14:53.397Z"
   },
   {
    "duration": 9,
    "start_time": "2021-07-25T18:14:53.405Z"
   },
   {
    "duration": 10,
    "start_time": "2021-07-25T18:14:53.417Z"
   },
   {
    "duration": 4,
    "start_time": "2021-07-25T18:14:53.430Z"
   },
   {
    "duration": 7,
    "start_time": "2021-07-25T18:14:53.437Z"
   },
   {
    "duration": 43,
    "start_time": "2021-07-25T18:14:53.447Z"
   },
   {
    "duration": 17,
    "start_time": "2021-07-25T18:14:53.493Z"
   },
   {
    "duration": 13,
    "start_time": "2021-07-25T18:14:53.513Z"
   },
   {
    "duration": 9,
    "start_time": "2021-07-25T18:14:53.529Z"
   },
   {
    "duration": 74,
    "start_time": "2021-07-25T18:14:53.540Z"
   },
   {
    "duration": 10,
    "start_time": "2021-07-25T18:14:53.617Z"
   },
   {
    "duration": 9,
    "start_time": "2021-07-25T18:14:53.630Z"
   },
   {
    "duration": 153,
    "start_time": "2021-07-25T18:14:53.641Z"
   },
   {
    "duration": 50,
    "start_time": "2021-07-25T18:14:53.796Z"
   },
   {
    "duration": 157,
    "start_time": "2021-07-25T18:14:53.849Z"
   },
   {
    "duration": 135,
    "start_time": "2021-07-25T18:14:54.008Z"
   },
   {
    "duration": 93,
    "start_time": "2021-07-25T18:14:54.145Z"
   },
   {
    "duration": 56,
    "start_time": "2021-07-25T18:14:54.240Z"
   },
   {
    "duration": 9,
    "start_time": "2021-07-25T18:14:54.299Z"
   },
   {
    "duration": 150,
    "start_time": "2021-07-25T18:14:54.310Z"
   },
   {
    "duration": 216,
    "start_time": "2021-07-26T14:02:23.381Z"
   },
   {
    "duration": 22909,
    "start_time": "2021-07-26T14:02:36.651Z"
   },
   {
    "duration": 1252,
    "start_time": "2021-07-26T14:02:59.562Z"
   },
   {
    "duration": 221,
    "start_time": "2021-07-26T14:03:00.816Z"
   },
   {
    "duration": 5,
    "start_time": "2021-07-26T14:03:01.039Z"
   },
   {
    "duration": 92,
    "start_time": "2021-07-26T14:03:01.045Z"
   },
   {
    "duration": 66,
    "start_time": "2021-07-26T14:03:01.139Z"
   },
   {
    "duration": 11,
    "start_time": "2021-07-26T14:03:01.207Z"
   },
   {
    "duration": 7,
    "start_time": "2021-07-26T14:03:01.221Z"
   },
   {
    "duration": 119,
    "start_time": "2021-07-26T14:03:01.230Z"
   },
   {
    "duration": 10,
    "start_time": "2021-07-26T14:03:01.351Z"
   },
   {
    "duration": 41,
    "start_time": "2021-07-26T14:03:01.363Z"
   },
   {
    "duration": 6,
    "start_time": "2021-07-26T14:03:01.406Z"
   },
   {
    "duration": 197,
    "start_time": "2021-07-26T14:03:01.413Z"
   },
   {
    "duration": 5,
    "start_time": "2021-07-26T14:03:01.612Z"
   },
   {
    "duration": 556,
    "start_time": "2021-07-26T14:03:01.618Z"
   },
   {
    "duration": 17,
    "start_time": "2021-07-26T14:03:02.176Z"
   },
   {
    "duration": 441,
    "start_time": "2021-07-26T14:03:02.195Z"
   },
   {
    "duration": 25,
    "start_time": "2021-07-26T14:03:02.637Z"
   },
   {
    "duration": 47,
    "start_time": "2021-07-26T14:03:02.664Z"
   },
   {
    "duration": 25,
    "start_time": "2021-07-26T14:03:02.713Z"
   },
   {
    "duration": 137,
    "start_time": "2021-07-26T14:03:02.740Z"
   },
   {
    "duration": 9,
    "start_time": "2021-07-26T14:03:02.878Z"
   },
   {
    "duration": 13,
    "start_time": "2021-07-26T14:03:02.891Z"
   },
   {
    "duration": 23,
    "start_time": "2021-07-26T14:03:02.906Z"
   },
   {
    "duration": 361,
    "start_time": "2021-07-26T14:03:02.931Z"
   },
   {
    "duration": 4,
    "start_time": "2021-07-26T14:03:03.294Z"
   },
   {
    "duration": 24,
    "start_time": "2021-07-26T14:03:03.300Z"
   },
   {
    "duration": 18,
    "start_time": "2021-07-26T14:03:03.326Z"
   },
   {
    "duration": 42,
    "start_time": "2021-07-26T14:03:03.385Z"
   },
   {
    "duration": 83,
    "start_time": "2021-07-26T14:03:03.429Z"
   },
   {
    "duration": 4,
    "start_time": "2021-07-26T14:03:03.513Z"
   },
   {
    "duration": 68,
    "start_time": "2021-07-26T14:03:03.518Z"
   },
   {
    "duration": 3,
    "start_time": "2021-07-26T14:03:03.588Z"
   },
   {
    "duration": 20,
    "start_time": "2021-07-26T14:03:03.593Z"
   },
   {
    "duration": 10,
    "start_time": "2021-07-26T14:03:03.614Z"
   },
   {
    "duration": 13,
    "start_time": "2021-07-26T14:03:03.626Z"
   },
   {
    "duration": 15,
    "start_time": "2021-07-26T14:03:03.641Z"
   },
   {
    "duration": 12,
    "start_time": "2021-07-26T14:03:03.658Z"
   },
   {
    "duration": 61,
    "start_time": "2021-07-26T14:03:03.672Z"
   },
   {
    "duration": 5,
    "start_time": "2021-07-26T14:03:03.735Z"
   },
   {
    "duration": 14,
    "start_time": "2021-07-26T14:03:03.741Z"
   },
   {
    "duration": 17,
    "start_time": "2021-07-26T14:03:03.757Z"
   },
   {
    "duration": 16,
    "start_time": "2021-07-26T14:03:03.776Z"
   },
   {
    "duration": 19,
    "start_time": "2021-07-26T14:03:03.794Z"
   },
   {
    "duration": 20,
    "start_time": "2021-07-26T14:03:03.815Z"
   },
   {
    "duration": 19,
    "start_time": "2021-07-26T14:03:03.837Z"
   },
   {
    "duration": 20,
    "start_time": "2021-07-26T14:03:03.858Z"
   },
   {
    "duration": 15,
    "start_time": "2021-07-26T14:03:03.880Z"
   },
   {
    "duration": 39,
    "start_time": "2021-07-26T14:03:03.897Z"
   },
   {
    "duration": 7,
    "start_time": "2021-07-26T14:03:03.938Z"
   },
   {
    "duration": 15,
    "start_time": "2021-07-26T14:03:03.946Z"
   },
   {
    "duration": 103,
    "start_time": "2021-07-26T14:03:03.962Z"
   },
   {
    "duration": 48,
    "start_time": "2021-07-26T14:03:04.067Z"
   },
   {
    "duration": 91,
    "start_time": "2021-07-26T14:03:04.117Z"
   },
   {
    "duration": 103,
    "start_time": "2021-07-26T14:03:04.209Z"
   },
   {
    "duration": 55,
    "start_time": "2021-07-26T14:03:04.314Z"
   },
   {
    "duration": 46,
    "start_time": "2021-07-26T14:03:04.371Z"
   },
   {
    "duration": 7,
    "start_time": "2021-07-26T14:03:04.419Z"
   },
   {
    "duration": 120,
    "start_time": "2021-07-26T14:03:04.428Z"
   },
   {
    "duration": 26,
    "start_time": "2021-07-26T14:04:01.131Z"
   },
   {
    "duration": 27,
    "start_time": "2021-07-26T14:04:28.072Z"
   },
   {
    "duration": 24,
    "start_time": "2021-07-26T14:04:36.513Z"
   },
   {
    "duration": 181,
    "start_time": "2021-07-26T14:05:29.075Z"
   },
   {
    "duration": 181,
    "start_time": "2021-07-26T14:11:25.195Z"
   },
   {
    "duration": 186,
    "start_time": "2021-07-26T14:11:45.688Z"
   },
   {
    "duration": 604,
    "start_time": "2021-07-26T14:13:58.392Z"
   },
   {
    "duration": 482,
    "start_time": "2021-07-26T14:14:24.451Z"
   },
   {
    "duration": 15,
    "start_time": "2021-07-26T14:15:23.272Z"
   },
   {
    "duration": 12,
    "start_time": "2021-07-26T14:42:03.871Z"
   },
   {
    "duration": 59,
    "start_time": "2021-07-26T14:43:55.939Z"
   },
   {
    "duration": 4,
    "start_time": "2021-07-26T14:47:46.059Z"
   },
   {
    "duration": 5,
    "start_time": "2021-07-26T14:57:39.590Z"
   },
   {
    "duration": 3,
    "start_time": "2021-07-26T14:58:06.759Z"
   },
   {
    "duration": 3993,
    "start_time": "2021-07-26T14:58:17.250Z"
   },
   {
    "duration": 1283,
    "start_time": "2021-07-26T14:58:21.246Z"
   },
   {
    "duration": 123,
    "start_time": "2021-07-26T14:58:22.531Z"
   },
   {
    "duration": 4,
    "start_time": "2021-07-26T14:58:22.656Z"
   },
   {
    "duration": 85,
    "start_time": "2021-07-26T14:58:22.662Z"
   },
   {
    "duration": 70,
    "start_time": "2021-07-26T14:58:22.749Z"
   },
   {
    "duration": 11,
    "start_time": "2021-07-26T14:58:22.821Z"
   },
   {
    "duration": 7,
    "start_time": "2021-07-26T14:58:22.834Z"
   },
   {
    "duration": 119,
    "start_time": "2021-07-26T14:58:22.844Z"
   },
   {
    "duration": 20,
    "start_time": "2021-07-26T14:58:22.965Z"
   },
   {
    "duration": 24,
    "start_time": "2021-07-26T14:58:22.986Z"
   },
   {
    "duration": 5,
    "start_time": "2021-07-26T14:58:23.012Z"
   },
   {
    "duration": 188,
    "start_time": "2021-07-26T14:58:23.018Z"
   },
   {
    "duration": 6,
    "start_time": "2021-07-26T14:58:23.208Z"
   },
   {
    "duration": 557,
    "start_time": "2021-07-26T14:58:23.216Z"
   },
   {
    "duration": 23,
    "start_time": "2021-07-26T14:58:23.775Z"
   },
   {
    "duration": 429,
    "start_time": "2021-07-26T14:58:23.799Z"
   },
   {
    "duration": 25,
    "start_time": "2021-07-26T14:58:24.229Z"
   },
   {
    "duration": 52,
    "start_time": "2021-07-26T14:58:24.256Z"
   },
   {
    "duration": 27,
    "start_time": "2021-07-26T14:58:24.309Z"
   },
   {
    "duration": 132,
    "start_time": "2021-07-26T14:58:24.338Z"
   },
   {
    "duration": 15,
    "start_time": "2021-07-26T14:58:24.472Z"
   },
   {
    "duration": 342,
    "start_time": "2021-07-26T14:58:24.488Z"
   },
   {
    "duration": 4,
    "start_time": "2021-07-26T14:58:24.832Z"
   },
   {
    "duration": 11,
    "start_time": "2021-07-26T14:58:24.838Z"
   },
   {
    "duration": 39,
    "start_time": "2021-07-26T14:58:24.850Z"
   },
   {
    "duration": 98,
    "start_time": "2021-07-26T14:58:24.895Z"
   },
   {
    "duration": 32,
    "start_time": "2021-07-26T14:58:24.995Z"
   },
   {
    "duration": 57,
    "start_time": "2021-07-26T14:58:25.029Z"
   },
   {
    "duration": 36,
    "start_time": "2021-07-26T14:58:25.088Z"
   },
   {
    "duration": 4,
    "start_time": "2021-07-26T14:58:25.125Z"
   },
   {
    "duration": 6,
    "start_time": "2021-07-26T14:58:25.130Z"
   },
   {
    "duration": 5,
    "start_time": "2021-07-26T14:58:25.138Z"
   },
   {
    "duration": 5,
    "start_time": "2021-07-26T14:58:25.184Z"
   },
   {
    "duration": 5,
    "start_time": "2021-07-26T14:58:25.191Z"
   },
   {
    "duration": 8,
    "start_time": "2021-07-26T14:58:25.197Z"
   },
   {
    "duration": 33,
    "start_time": "2021-07-26T14:58:25.207Z"
   },
   {
    "duration": 3,
    "start_time": "2021-07-26T14:58:25.242Z"
   },
   {
    "duration": 4,
    "start_time": "2021-07-26T14:58:25.247Z"
   },
   {
    "duration": 34,
    "start_time": "2021-07-26T14:58:25.253Z"
   },
   {
    "duration": 4,
    "start_time": "2021-07-26T14:58:25.289Z"
   },
   {
    "duration": 6,
    "start_time": "2021-07-26T14:58:25.294Z"
   },
   {
    "duration": 5,
    "start_time": "2021-07-26T14:58:25.302Z"
   },
   {
    "duration": 11,
    "start_time": "2021-07-26T14:58:25.309Z"
   },
   {
    "duration": 10,
    "start_time": "2021-07-26T14:58:25.321Z"
   },
   {
    "duration": 5,
    "start_time": "2021-07-26T14:58:25.332Z"
   },
   {
    "duration": 48,
    "start_time": "2021-07-26T14:58:25.339Z"
   },
   {
    "duration": 7,
    "start_time": "2021-07-26T14:58:25.388Z"
   },
   {
    "duration": 6,
    "start_time": "2021-07-26T14:58:25.396Z"
   },
   {
    "duration": 115,
    "start_time": "2021-07-26T14:58:25.403Z"
   },
   {
    "duration": 33,
    "start_time": "2021-07-26T14:58:25.519Z"
   },
   {
    "duration": 108,
    "start_time": "2021-07-26T14:58:25.554Z"
   },
   {
    "duration": 101,
    "start_time": "2021-07-26T14:58:25.664Z"
   },
   {
    "duration": 72,
    "start_time": "2021-07-26T14:58:25.767Z"
   },
   {
    "duration": 33,
    "start_time": "2021-07-26T14:58:25.840Z"
   },
   {
    "duration": 6,
    "start_time": "2021-07-26T14:58:25.885Z"
   },
   {
    "duration": 112,
    "start_time": "2021-07-26T14:58:25.892Z"
   },
   {
    "duration": 5,
    "start_time": "2021-07-26T14:59:56.189Z"
   },
   {
    "duration": 5,
    "start_time": "2021-07-26T15:00:21.369Z"
   },
   {
    "duration": 5,
    "start_time": "2021-07-26T15:01:28.057Z"
   },
   {
    "duration": 4,
    "start_time": "2021-07-26T15:09:09.890Z"
   },
   {
    "duration": 85,
    "start_time": "2021-07-26T15:09:40.877Z"
   },
   {
    "duration": 330,
    "start_time": "2021-07-26T15:10:26.869Z"
   },
   {
    "duration": 63,
    "start_time": "2021-07-26T15:36:05.869Z"
   },
   {
    "duration": 3888,
    "start_time": "2021-07-26T16:10:09.164Z"
   },
   {
    "duration": 1141,
    "start_time": "2021-07-26T16:10:13.054Z"
   },
   {
    "duration": 125,
    "start_time": "2021-07-26T16:10:14.196Z"
   },
   {
    "duration": 4,
    "start_time": "2021-07-26T16:10:14.323Z"
   },
   {
    "duration": 95,
    "start_time": "2021-07-26T16:10:14.329Z"
   },
   {
    "duration": 73,
    "start_time": "2021-07-26T16:10:14.426Z"
   },
   {
    "duration": 13,
    "start_time": "2021-07-26T16:10:14.501Z"
   },
   {
    "duration": 9,
    "start_time": "2021-07-26T16:10:14.516Z"
   },
   {
    "duration": 123,
    "start_time": "2021-07-26T16:10:14.529Z"
   },
   {
    "duration": 11,
    "start_time": "2021-07-26T16:10:14.654Z"
   },
   {
    "duration": 26,
    "start_time": "2021-07-26T16:10:14.685Z"
   },
   {
    "duration": 7,
    "start_time": "2021-07-26T16:10:14.713Z"
   },
   {
    "duration": 196,
    "start_time": "2021-07-26T16:10:14.722Z"
   },
   {
    "duration": 4,
    "start_time": "2021-07-26T16:10:14.920Z"
   },
   {
    "duration": 564,
    "start_time": "2021-07-26T16:10:14.926Z"
   },
   {
    "duration": 13,
    "start_time": "2021-07-26T16:10:15.492Z"
   },
   {
    "duration": 433,
    "start_time": "2021-07-26T16:10:15.507Z"
   },
   {
    "duration": 24,
    "start_time": "2021-07-26T16:10:15.941Z"
   },
   {
    "duration": 46,
    "start_time": "2021-07-26T16:10:15.966Z"
   },
   {
    "duration": 26,
    "start_time": "2021-07-26T16:10:16.014Z"
   },
   {
    "duration": 133,
    "start_time": "2021-07-26T16:10:16.042Z"
   },
   {
    "duration": 15,
    "start_time": "2021-07-26T16:10:16.177Z"
   },
   {
    "duration": 352,
    "start_time": "2021-07-26T16:10:16.194Z"
   },
   {
    "duration": 4,
    "start_time": "2021-07-26T16:10:16.548Z"
   },
   {
    "duration": 10,
    "start_time": "2021-07-26T16:10:16.554Z"
   },
   {
    "duration": 5,
    "start_time": "2021-07-26T16:10:16.585Z"
   },
   {
    "duration": 91,
    "start_time": "2021-07-26T16:10:16.594Z"
   },
   {
    "duration": 31,
    "start_time": "2021-07-26T16:10:16.688Z"
   },
   {
    "duration": 4,
    "start_time": "2021-07-26T16:10:16.720Z"
   },
   {
    "duration": 86,
    "start_time": "2021-07-26T16:10:16.725Z"
   },
   {
    "duration": 3,
    "start_time": "2021-07-26T16:10:16.813Z"
   },
   {
    "duration": 8,
    "start_time": "2021-07-26T16:10:16.818Z"
   },
   {
    "duration": 7,
    "start_time": "2021-07-26T16:10:16.827Z"
   },
   {
    "duration": 5,
    "start_time": "2021-07-26T16:10:16.835Z"
   },
   {
    "duration": 5,
    "start_time": "2021-07-26T16:10:16.842Z"
   },
   {
    "duration": 38,
    "start_time": "2021-07-26T16:10:16.849Z"
   },
   {
    "duration": 37,
    "start_time": "2021-07-26T16:10:16.889Z"
   },
   {
    "duration": 3,
    "start_time": "2021-07-26T16:10:16.928Z"
   },
   {
    "duration": 7,
    "start_time": "2021-07-26T16:10:16.933Z"
   },
   {
    "duration": 7,
    "start_time": "2021-07-26T16:10:16.942Z"
   },
   {
    "duration": 3,
    "start_time": "2021-07-26T16:10:16.951Z"
   },
   {
    "duration": 31,
    "start_time": "2021-07-26T16:10:16.955Z"
   },
   {
    "duration": 82,
    "start_time": "2021-07-26T16:10:16.988Z"
   },
   {
    "duration": -5119,
    "start_time": "2021-07-26T16:10:22.191Z"
   },
   {
    "duration": -5120,
    "start_time": "2021-07-26T16:10:22.193Z"
   },
   {
    "duration": -5121,
    "start_time": "2021-07-26T16:10:22.195Z"
   },
   {
    "duration": -5122,
    "start_time": "2021-07-26T16:10:22.197Z"
   },
   {
    "duration": -5123,
    "start_time": "2021-07-26T16:10:22.199Z"
   },
   {
    "duration": -5138,
    "start_time": "2021-07-26T16:10:22.215Z"
   },
   {
    "duration": -5140,
    "start_time": "2021-07-26T16:10:22.218Z"
   },
   {
    "duration": -5142,
    "start_time": "2021-07-26T16:10:22.221Z"
   },
   {
    "duration": -5144,
    "start_time": "2021-07-26T16:10:22.224Z"
   },
   {
    "duration": -5145,
    "start_time": "2021-07-26T16:10:22.226Z"
   },
   {
    "duration": -5146,
    "start_time": "2021-07-26T16:10:22.228Z"
   },
   {
    "duration": -5148,
    "start_time": "2021-07-26T16:10:22.231Z"
   },
   {
    "duration": -5149,
    "start_time": "2021-07-26T16:10:22.233Z"
   },
   {
    "duration": -5150,
    "start_time": "2021-07-26T16:10:22.235Z"
   },
   {
    "duration": 4032,
    "start_time": "2021-07-26T16:12:21.443Z"
   },
   {
    "duration": 1225,
    "start_time": "2021-07-26T16:12:25.478Z"
   },
   {
    "duration": 125,
    "start_time": "2021-07-26T16:12:26.705Z"
   },
   {
    "duration": 4,
    "start_time": "2021-07-26T16:12:26.832Z"
   },
   {
    "duration": 97,
    "start_time": "2021-07-26T16:12:26.838Z"
   },
   {
    "duration": 73,
    "start_time": "2021-07-26T16:12:26.937Z"
   },
   {
    "duration": 12,
    "start_time": "2021-07-26T16:12:27.011Z"
   },
   {
    "duration": 16,
    "start_time": "2021-07-26T16:12:27.024Z"
   },
   {
    "duration": 119,
    "start_time": "2021-07-26T16:12:27.043Z"
   },
   {
    "duration": 9,
    "start_time": "2021-07-26T16:12:27.164Z"
   },
   {
    "duration": 35,
    "start_time": "2021-07-26T16:12:27.184Z"
   },
   {
    "duration": 5,
    "start_time": "2021-07-26T16:12:27.221Z"
   },
   {
    "duration": 182,
    "start_time": "2021-07-26T16:12:27.228Z"
   },
   {
    "duration": 5,
    "start_time": "2021-07-26T16:12:27.412Z"
   },
   {
    "duration": 524,
    "start_time": "2021-07-26T16:12:27.418Z"
   },
   {
    "duration": 14,
    "start_time": "2021-07-26T16:12:27.943Z"
   },
   {
    "duration": 418,
    "start_time": "2021-07-26T16:12:27.958Z"
   },
   {
    "duration": 28,
    "start_time": "2021-07-26T16:12:28.377Z"
   },
   {
    "duration": 34,
    "start_time": "2021-07-26T16:12:28.406Z"
   },
   {
    "duration": 43,
    "start_time": "2021-07-26T16:12:28.442Z"
   },
   {
    "duration": 119,
    "start_time": "2021-07-26T16:12:28.487Z"
   },
   {
    "duration": 11,
    "start_time": "2021-07-26T16:12:28.608Z"
   },
   {
    "duration": 332,
    "start_time": "2021-07-26T16:12:28.620Z"
   },
   {
    "duration": 4,
    "start_time": "2021-07-26T16:12:28.954Z"
   },
   {
    "duration": 31,
    "start_time": "2021-07-26T16:12:28.959Z"
   },
   {
    "duration": 18,
    "start_time": "2021-07-26T16:12:28.992Z"
   },
   {
    "duration": 90,
    "start_time": "2021-07-26T16:12:29.013Z"
   },
   {
    "duration": 36,
    "start_time": "2021-07-26T16:12:29.105Z"
   },
   {
    "duration": 44,
    "start_time": "2021-07-26T16:12:29.142Z"
   },
   {
    "duration": 35,
    "start_time": "2021-07-26T16:12:29.188Z"
   },
   {
    "duration": 3,
    "start_time": "2021-07-26T16:12:29.225Z"
   },
   {
    "duration": 10,
    "start_time": "2021-07-26T16:12:29.229Z"
   },
   {
    "duration": 20,
    "start_time": "2021-07-26T16:12:29.240Z"
   },
   {
    "duration": 15,
    "start_time": "2021-07-26T16:12:29.261Z"
   },
   {
    "duration": 18,
    "start_time": "2021-07-26T16:12:29.277Z"
   },
   {
    "duration": 14,
    "start_time": "2021-07-26T16:12:29.297Z"
   },
   {
    "duration": 43,
    "start_time": "2021-07-26T16:12:29.313Z"
   },
   {
    "duration": 3,
    "start_time": "2021-07-26T16:12:29.358Z"
   },
   {
    "duration": 14,
    "start_time": "2021-07-26T16:12:29.362Z"
   },
   {
    "duration": 13,
    "start_time": "2021-07-26T16:12:29.378Z"
   },
   {
    "duration": 19,
    "start_time": "2021-07-26T16:12:29.392Z"
   },
   {
    "duration": 13,
    "start_time": "2021-07-26T16:12:29.412Z"
   },
   {
    "duration": 16,
    "start_time": "2021-07-26T16:12:29.426Z"
   },
   {
    "duration": 25,
    "start_time": "2021-07-26T16:12:29.444Z"
   },
   {
    "duration": 19,
    "start_time": "2021-07-26T16:12:29.471Z"
   },
   {
    "duration": 15,
    "start_time": "2021-07-26T16:12:29.492Z"
   },
   {
    "duration": 34,
    "start_time": "2021-07-26T16:12:29.510Z"
   },
   {
    "duration": 17,
    "start_time": "2021-07-26T16:12:29.545Z"
   },
   {
    "duration": 18,
    "start_time": "2021-07-26T16:12:29.563Z"
   },
   {
    "duration": 103,
    "start_time": "2021-07-26T16:12:29.583Z"
   },
   {
    "duration": 32,
    "start_time": "2021-07-26T16:12:29.687Z"
   },
   {
    "duration": 96,
    "start_time": "2021-07-26T16:12:29.721Z"
   },
   {
    "duration": 95,
    "start_time": "2021-07-26T16:12:29.819Z"
   },
   {
    "duration": 53,
    "start_time": "2021-07-26T16:12:29.917Z"
   },
   {
    "duration": 43,
    "start_time": "2021-07-26T16:12:29.972Z"
   },
   {
    "duration": 114,
    "start_time": "2021-07-26T16:12:30.017Z"
   },
   {
    "duration": 4025,
    "start_time": "2021-07-26T17:13:34.644Z"
   },
   {
    "duration": 1190,
    "start_time": "2021-07-26T17:13:38.671Z"
   },
   {
    "duration": 126,
    "start_time": "2021-07-26T17:13:39.863Z"
   },
   {
    "duration": 4,
    "start_time": "2021-07-26T17:13:39.991Z"
   },
   {
    "duration": 94,
    "start_time": "2021-07-26T17:13:39.997Z"
   },
   {
    "duration": 62,
    "start_time": "2021-07-26T17:13:40.093Z"
   },
   {
    "duration": 28,
    "start_time": "2021-07-26T17:13:40.157Z"
   },
   {
    "duration": 8,
    "start_time": "2021-07-26T17:13:40.186Z"
   },
   {
    "duration": 111,
    "start_time": "2021-07-26T17:13:40.197Z"
   },
   {
    "duration": 8,
    "start_time": "2021-07-26T17:13:40.310Z"
   },
   {
    "duration": 27,
    "start_time": "2021-07-26T17:13:40.320Z"
   },
   {
    "duration": 6,
    "start_time": "2021-07-26T17:13:40.348Z"
   },
   {
    "duration": 188,
    "start_time": "2021-07-26T17:13:40.355Z"
   },
   {
    "duration": 4,
    "start_time": "2021-07-26T17:13:40.545Z"
   },
   {
    "duration": 523,
    "start_time": "2021-07-26T17:13:40.550Z"
   },
   {
    "duration": 20,
    "start_time": "2021-07-26T17:13:41.075Z"
   },
   {
    "duration": 414,
    "start_time": "2021-07-26T17:13:41.097Z"
   },
   {
    "duration": 23,
    "start_time": "2021-07-26T17:13:41.513Z"
   },
   {
    "duration": 47,
    "start_time": "2021-07-26T17:13:41.538Z"
   },
   {
    "duration": 23,
    "start_time": "2021-07-26T17:13:41.587Z"
   },
   {
    "duration": 123,
    "start_time": "2021-07-26T17:13:41.611Z"
   },
   {
    "duration": 11,
    "start_time": "2021-07-26T17:13:41.736Z"
   },
   {
    "duration": 333,
    "start_time": "2021-07-26T17:13:41.748Z"
   },
   {
    "duration": 4,
    "start_time": "2021-07-26T17:13:42.082Z"
   },
   {
    "duration": 11,
    "start_time": "2021-07-26T17:13:42.088Z"
   },
   {
    "duration": 7,
    "start_time": "2021-07-26T17:13:42.100Z"
   },
   {
    "duration": 89,
    "start_time": "2021-07-26T17:13:42.110Z"
   },
   {
    "duration": 85,
    "start_time": "2021-07-26T17:13:42.201Z"
   },
   {
    "duration": 3,
    "start_time": "2021-07-26T17:13:42.288Z"
   },
   {
    "duration": 33,
    "start_time": "2021-07-26T17:13:42.293Z"
   },
   {
    "duration": 3,
    "start_time": "2021-07-26T17:13:42.328Z"
   },
   {
    "duration": 6,
    "start_time": "2021-07-26T17:13:42.333Z"
   },
   {
    "duration": 5,
    "start_time": "2021-07-26T17:13:42.340Z"
   },
   {
    "duration": 41,
    "start_time": "2021-07-26T17:13:42.346Z"
   },
   {
    "duration": 5,
    "start_time": "2021-07-26T17:13:42.389Z"
   },
   {
    "duration": 7,
    "start_time": "2021-07-26T17:13:42.395Z"
   },
   {
    "duration": 35,
    "start_time": "2021-07-26T17:13:42.403Z"
   },
   {
    "duration": 3,
    "start_time": "2021-07-26T17:13:42.439Z"
   },
   {
    "duration": 5,
    "start_time": "2021-07-26T17:13:42.444Z"
   },
   {
    "duration": 37,
    "start_time": "2021-07-26T17:13:42.450Z"
   },
   {
    "duration": 5,
    "start_time": "2021-07-26T17:13:42.489Z"
   },
   {
    "duration": 7,
    "start_time": "2021-07-26T17:13:42.495Z"
   },
   {
    "duration": 5,
    "start_time": "2021-07-26T17:13:42.504Z"
   },
   {
    "duration": 9,
    "start_time": "2021-07-26T17:13:42.510Z"
   },
   {
    "duration": 9,
    "start_time": "2021-07-26T17:13:42.521Z"
   },
   {
    "duration": 5,
    "start_time": "2021-07-26T17:13:42.532Z"
   },
   {
    "duration": 53,
    "start_time": "2021-07-26T17:13:42.538Z"
   },
   {
    "duration": 7,
    "start_time": "2021-07-26T17:13:42.593Z"
   },
   {
    "duration": 6,
    "start_time": "2021-07-26T17:13:42.601Z"
   },
   {
    "duration": 111,
    "start_time": "2021-07-26T17:13:42.608Z"
   },
   {
    "duration": 35,
    "start_time": "2021-07-26T17:13:42.721Z"
   },
   {
    "duration": 108,
    "start_time": "2021-07-26T17:13:42.758Z"
   },
   {
    "duration": 95,
    "start_time": "2021-07-26T17:13:42.868Z"
   },
   {
    "duration": 71,
    "start_time": "2021-07-26T17:13:42.964Z"
   },
   {
    "duration": 49,
    "start_time": "2021-07-26T17:13:43.037Z"
   },
   {
    "duration": 100,
    "start_time": "2021-07-26T17:13:43.087Z"
   },
   {
    "duration": 4197,
    "start_time": "2021-07-26T17:38:24.803Z"
   },
   {
    "duration": 1154,
    "start_time": "2021-07-26T17:38:29.002Z"
   },
   {
    "duration": 127,
    "start_time": "2021-07-26T17:38:30.158Z"
   },
   {
    "duration": 5,
    "start_time": "2021-07-26T17:38:30.287Z"
   },
   {
    "duration": 96,
    "start_time": "2021-07-26T17:38:30.294Z"
   },
   {
    "duration": 69,
    "start_time": "2021-07-26T17:38:30.393Z"
   },
   {
    "duration": 30,
    "start_time": "2021-07-26T17:38:30.464Z"
   },
   {
    "duration": 10,
    "start_time": "2021-07-26T17:38:30.495Z"
   },
   {
    "duration": 124,
    "start_time": "2021-07-26T17:38:30.508Z"
   },
   {
    "duration": 10,
    "start_time": "2021-07-26T17:38:30.635Z"
   },
   {
    "duration": 41,
    "start_time": "2021-07-26T17:38:30.647Z"
   },
   {
    "duration": 8,
    "start_time": "2021-07-26T17:38:30.690Z"
   },
   {
    "duration": 186,
    "start_time": "2021-07-26T17:38:30.699Z"
   },
   {
    "duration": 6,
    "start_time": "2021-07-26T17:38:30.887Z"
   },
   {
    "duration": 536,
    "start_time": "2021-07-26T17:38:30.895Z"
   },
   {
    "duration": 16,
    "start_time": "2021-07-26T17:38:31.433Z"
   },
   {
    "duration": 434,
    "start_time": "2021-07-26T17:38:31.451Z"
   },
   {
    "duration": 24,
    "start_time": "2021-07-26T17:38:31.887Z"
   },
   {
    "duration": 34,
    "start_time": "2021-07-26T17:38:31.913Z"
   },
   {
    "duration": 49,
    "start_time": "2021-07-26T17:38:31.949Z"
   },
   {
    "duration": 48,
    "start_time": "2021-07-26T17:38:31.999Z"
   },
   {
    "duration": 13,
    "start_time": "2021-07-26T17:38:32.049Z"
   },
   {
    "duration": 401,
    "start_time": "2021-07-26T17:38:32.085Z"
   },
   {
    "duration": 5,
    "start_time": "2021-07-26T17:38:32.488Z"
   },
   {
    "duration": 15,
    "start_time": "2021-07-26T17:38:32.494Z"
   },
   {
    "duration": 7,
    "start_time": "2021-07-26T17:38:32.511Z"
   },
   {
    "duration": 97,
    "start_time": "2021-07-26T17:38:32.522Z"
   },
   {
    "duration": 85,
    "start_time": "2021-07-26T17:38:32.621Z"
   },
   {
    "duration": 4,
    "start_time": "2021-07-26T17:38:32.708Z"
   },
   {
    "duration": 85,
    "start_time": "2021-07-26T17:38:32.714Z"
   },
   {
    "duration": 3,
    "start_time": "2021-07-26T17:38:32.801Z"
   },
   {
    "duration": 7,
    "start_time": "2021-07-26T17:38:32.805Z"
   },
   {
    "duration": 5,
    "start_time": "2021-07-26T17:38:32.813Z"
   },
   {
    "duration": 7,
    "start_time": "2021-07-26T17:38:32.820Z"
   },
   {
    "duration": 5,
    "start_time": "2021-07-26T17:38:32.828Z"
   },
   {
    "duration": 6,
    "start_time": "2021-07-26T17:38:32.834Z"
   },
   {
    "duration": 72,
    "start_time": "2021-07-26T17:38:32.841Z"
   },
   {
    "duration": 3,
    "start_time": "2021-07-26T17:38:32.914Z"
   },
   {
    "duration": 6,
    "start_time": "2021-07-26T17:38:32.918Z"
   },
   {
    "duration": 6,
    "start_time": "2021-07-26T17:38:32.926Z"
   },
   {
    "duration": 4,
    "start_time": "2021-07-26T17:38:32.933Z"
   },
   {
    "duration": 6,
    "start_time": "2021-07-26T17:38:32.939Z"
   },
   {
    "duration": 7,
    "start_time": "2021-07-26T17:38:32.946Z"
   },
   {
    "duration": 35,
    "start_time": "2021-07-26T17:38:32.954Z"
   },
   {
    "duration": 8,
    "start_time": "2021-07-26T17:38:32.991Z"
   },
   {
    "duration": 6,
    "start_time": "2021-07-26T17:38:33.000Z"
   },
   {
    "duration": 22,
    "start_time": "2021-07-26T17:38:33.007Z"
   },
   {
    "duration": 7,
    "start_time": "2021-07-26T17:38:33.030Z"
   },
   {
    "duration": 6,
    "start_time": "2021-07-26T17:38:33.039Z"
   },
   {
    "duration": 120,
    "start_time": "2021-07-26T17:38:33.046Z"
   },
   {
    "duration": 46,
    "start_time": "2021-07-26T17:38:33.168Z"
   },
   {
    "duration": 97,
    "start_time": "2021-07-26T17:38:33.216Z"
   },
   {
    "duration": 92,
    "start_time": "2021-07-26T17:38:33.315Z"
   },
   {
    "duration": 53,
    "start_time": "2021-07-26T17:38:33.408Z"
   },
   {
    "duration": 44,
    "start_time": "2021-07-26T17:38:33.463Z"
   },
   {
    "duration": 101,
    "start_time": "2021-07-26T17:38:33.509Z"
   },
   {
    "duration": 3863,
    "start_time": "2021-07-26T17:41:46.770Z"
   },
   {
    "duration": 1123,
    "start_time": "2021-07-26T17:41:50.635Z"
   },
   {
    "duration": 125,
    "start_time": "2021-07-26T17:41:51.760Z"
   },
   {
    "duration": 5,
    "start_time": "2021-07-26T17:41:51.887Z"
   },
   {
    "duration": 91,
    "start_time": "2021-07-26T17:41:51.894Z"
   },
   {
    "duration": 71,
    "start_time": "2021-07-26T17:41:51.987Z"
   },
   {
    "duration": 29,
    "start_time": "2021-07-26T17:41:52.060Z"
   },
   {
    "duration": 9,
    "start_time": "2021-07-26T17:41:52.092Z"
   },
   {
    "duration": 118,
    "start_time": "2021-07-26T17:41:52.103Z"
   },
   {
    "duration": 10,
    "start_time": "2021-07-26T17:41:52.223Z"
   },
   {
    "duration": 30,
    "start_time": "2021-07-26T17:41:52.235Z"
   },
   {
    "duration": 23,
    "start_time": "2021-07-26T17:41:52.267Z"
   },
   {
    "duration": 181,
    "start_time": "2021-07-26T17:41:52.291Z"
   },
   {
    "duration": 12,
    "start_time": "2021-07-26T17:41:52.474Z"
   },
   {
    "duration": 519,
    "start_time": "2021-07-26T17:41:52.488Z"
   },
   {
    "duration": 15,
    "start_time": "2021-07-26T17:41:53.009Z"
   },
   {
    "duration": 461,
    "start_time": "2021-07-26T17:41:53.026Z"
   },
   {
    "duration": 23,
    "start_time": "2021-07-26T17:41:53.489Z"
   },
   {
    "duration": 34,
    "start_time": "2021-07-26T17:41:53.513Z"
   },
   {
    "duration": 48,
    "start_time": "2021-07-26T17:41:53.548Z"
   },
   {
    "duration": 47,
    "start_time": "2021-07-26T17:41:53.598Z"
   },
   {
    "duration": 12,
    "start_time": "2021-07-26T17:41:53.646Z"
   },
   {
    "duration": 424,
    "start_time": "2021-07-26T17:41:53.662Z"
   },
   {
    "duration": 4,
    "start_time": "2021-07-26T17:41:54.088Z"
   },
   {
    "duration": 11,
    "start_time": "2021-07-26T17:41:54.094Z"
   },
   {
    "duration": 6,
    "start_time": "2021-07-26T17:41:54.107Z"
   },
   {
    "duration": 91,
    "start_time": "2021-07-26T17:41:54.115Z"
   },
   {
    "duration": 88,
    "start_time": "2021-07-26T17:41:54.208Z"
   },
   {
    "duration": 3,
    "start_time": "2021-07-26T17:41:54.298Z"
   },
   {
    "duration": 35,
    "start_time": "2021-07-26T17:41:54.303Z"
   },
   {
    "duration": 49,
    "start_time": "2021-07-26T17:41:54.339Z"
   },
   {
    "duration": 5,
    "start_time": "2021-07-26T17:41:54.390Z"
   },
   {
    "duration": 4,
    "start_time": "2021-07-26T17:41:54.397Z"
   },
   {
    "duration": 6,
    "start_time": "2021-07-26T17:41:54.403Z"
   },
   {
    "duration": 4,
    "start_time": "2021-07-26T17:41:54.410Z"
   },
   {
    "duration": 9,
    "start_time": "2021-07-26T17:41:54.416Z"
   },
   {
    "duration": 63,
    "start_time": "2021-07-26T17:41:54.426Z"
   },
   {
    "duration": 5,
    "start_time": "2021-07-26T17:41:54.491Z"
   },
   {
    "duration": 5,
    "start_time": "2021-07-26T17:41:54.498Z"
   },
   {
    "duration": 7,
    "start_time": "2021-07-26T17:41:54.505Z"
   },
   {
    "duration": 4,
    "start_time": "2021-07-26T17:41:54.513Z"
   },
   {
    "duration": 6,
    "start_time": "2021-07-26T17:41:54.519Z"
   },
   {
    "duration": 5,
    "start_time": "2021-07-26T17:41:54.527Z"
   },
   {
    "duration": 9,
    "start_time": "2021-07-26T17:41:54.534Z"
   },
   {
    "duration": 44,
    "start_time": "2021-07-26T17:41:54.545Z"
   },
   {
    "duration": 5,
    "start_time": "2021-07-26T17:41:54.591Z"
   },
   {
    "duration": 20,
    "start_time": "2021-07-26T17:41:54.597Z"
   },
   {
    "duration": 7,
    "start_time": "2021-07-26T17:41:54.619Z"
   },
   {
    "duration": 6,
    "start_time": "2021-07-26T17:41:54.628Z"
   },
   {
    "duration": 121,
    "start_time": "2021-07-26T17:41:54.635Z"
   },
   {
    "duration": 53,
    "start_time": "2021-07-26T17:41:54.758Z"
   },
   {
    "duration": 98,
    "start_time": "2021-07-26T17:41:54.812Z"
   },
   {
    "duration": 96,
    "start_time": "2021-07-26T17:41:54.912Z"
   },
   {
    "duration": 57,
    "start_time": "2021-07-26T17:41:55.010Z"
   },
   {
    "duration": 47,
    "start_time": "2021-07-26T17:41:55.069Z"
   },
   {
    "duration": 108,
    "start_time": "2021-07-26T17:41:55.117Z"
   },
   {
    "duration": 3914,
    "start_time": "2021-07-26T17:50:12.085Z"
   },
   {
    "duration": 1159,
    "start_time": "2021-07-26T17:50:16.001Z"
   },
   {
    "duration": 127,
    "start_time": "2021-07-26T17:50:17.162Z"
   },
   {
    "duration": 5,
    "start_time": "2021-07-26T17:50:17.291Z"
   },
   {
    "duration": 90,
    "start_time": "2021-07-26T17:50:17.298Z"
   },
   {
    "duration": 58,
    "start_time": "2021-07-26T17:50:17.390Z"
   },
   {
    "duration": 12,
    "start_time": "2021-07-26T17:50:17.450Z"
   },
   {
    "duration": 8,
    "start_time": "2021-07-26T17:50:17.485Z"
   },
   {
    "duration": 111,
    "start_time": "2021-07-26T17:50:17.495Z"
   },
   {
    "duration": 58,
    "start_time": "2021-07-26T17:50:17.608Z"
   },
   {
    "duration": 22,
    "start_time": "2021-07-26T17:50:17.668Z"
   },
   {
    "duration": 24,
    "start_time": "2021-07-26T17:50:17.692Z"
   },
   {
    "duration": 7,
    "start_time": "2021-07-26T17:50:17.718Z"
   },
   {
    "duration": 189,
    "start_time": "2021-07-26T17:50:17.727Z"
   },
   {
    "duration": 6,
    "start_time": "2021-07-26T17:50:17.918Z"
   },
   {
    "duration": 529,
    "start_time": "2021-07-26T17:50:17.925Z"
   },
   {
    "duration": 17,
    "start_time": "2021-07-26T17:50:18.456Z"
   },
   {
    "duration": 429,
    "start_time": "2021-07-26T17:50:18.474Z"
   },
   {
    "duration": 27,
    "start_time": "2021-07-26T17:50:18.906Z"
   },
   {
    "duration": 54,
    "start_time": "2021-07-26T17:50:18.935Z"
   },
   {
    "duration": 27,
    "start_time": "2021-07-26T17:50:18.991Z"
   },
   {
    "duration": 71,
    "start_time": "2021-07-26T17:50:19.020Z"
   },
   {
    "duration": 13,
    "start_time": "2021-07-26T17:50:19.095Z"
   },
   {
    "duration": 416,
    "start_time": "2021-07-26T17:50:19.111Z"
   },
   {
    "duration": 4,
    "start_time": "2021-07-26T17:50:19.529Z"
   },
   {
    "duration": 12,
    "start_time": "2021-07-26T17:50:19.534Z"
   },
   {
    "duration": 38,
    "start_time": "2021-07-26T17:50:19.548Z"
   },
   {
    "duration": 39,
    "start_time": "2021-07-26T17:50:19.587Z"
   },
   {
    "duration": 78,
    "start_time": "2021-07-26T17:50:19.627Z"
   },
   {
    "duration": 4,
    "start_time": "2021-07-26T17:50:19.706Z"
   },
   {
    "duration": 85,
    "start_time": "2021-07-26T17:50:19.712Z"
   },
   {
    "duration": 3,
    "start_time": "2021-07-26T17:50:19.798Z"
   },
   {
    "duration": 6,
    "start_time": "2021-07-26T17:50:19.803Z"
   },
   {
    "duration": 6,
    "start_time": "2021-07-26T17:50:19.811Z"
   },
   {
    "duration": 6,
    "start_time": "2021-07-26T17:50:19.819Z"
   },
   {
    "duration": 6,
    "start_time": "2021-07-26T17:50:19.826Z"
   },
   {
    "duration": 13,
    "start_time": "2021-07-26T17:50:19.833Z"
   },
   {
    "duration": 62,
    "start_time": "2021-07-26T17:50:19.847Z"
   },
   {
    "duration": 3,
    "start_time": "2021-07-26T17:50:19.911Z"
   },
   {
    "duration": 13,
    "start_time": "2021-07-26T17:50:19.916Z"
   },
   {
    "duration": 12,
    "start_time": "2021-07-26T17:50:19.931Z"
   },
   {
    "duration": 7,
    "start_time": "2021-07-26T17:50:19.944Z"
   },
   {
    "duration": 14,
    "start_time": "2021-07-26T17:50:19.952Z"
   },
   {
    "duration": 8,
    "start_time": "2021-07-26T17:50:19.968Z"
   },
   {
    "duration": 11,
    "start_time": "2021-07-26T17:50:19.978Z"
   },
   {
    "duration": 8,
    "start_time": "2021-07-26T17:50:19.990Z"
   },
   {
    "duration": 14,
    "start_time": "2021-07-26T17:50:20.000Z"
   },
   {
    "duration": 26,
    "start_time": "2021-07-26T17:50:20.015Z"
   },
   {
    "duration": 7,
    "start_time": "2021-07-26T17:50:20.043Z"
   },
   {
    "duration": 6,
    "start_time": "2021-07-26T17:50:20.052Z"
   },
   {
    "duration": 107,
    "start_time": "2021-07-26T17:50:20.059Z"
   },
   {
    "duration": 44,
    "start_time": "2021-07-26T17:50:20.167Z"
   },
   {
    "duration": 94,
    "start_time": "2021-07-26T17:50:20.213Z"
   },
   {
    "duration": 102,
    "start_time": "2021-07-26T17:50:20.309Z"
   },
   {
    "duration": 2,
    "start_time": "2021-07-26T17:50:20.413Z"
   },
   {
    "duration": 50,
    "start_time": "2021-07-26T17:50:20.417Z"
   },
   {
    "duration": 91,
    "start_time": "2021-07-26T17:50:20.469Z"
   },
   {
    "duration": 3909,
    "start_time": "2021-07-26T17:59:28.247Z"
   },
   {
    "duration": 1170,
    "start_time": "2021-07-26T17:59:32.158Z"
   },
   {
    "duration": 121,
    "start_time": "2021-07-26T17:59:33.330Z"
   },
   {
    "duration": 5,
    "start_time": "2021-07-26T17:59:33.453Z"
   },
   {
    "duration": 89,
    "start_time": "2021-07-26T17:59:33.459Z"
   },
   {
    "duration": 74,
    "start_time": "2021-07-26T17:59:33.550Z"
   },
   {
    "duration": 11,
    "start_time": "2021-07-26T17:59:33.626Z"
   },
   {
    "duration": 7,
    "start_time": "2021-07-26T17:59:33.639Z"
   },
   {
    "duration": 118,
    "start_time": "2021-07-26T17:59:33.649Z"
   },
   {
    "duration": 68,
    "start_time": "2021-07-26T17:59:33.769Z"
   },
   {
    "duration": 9,
    "start_time": "2021-07-26T17:59:33.839Z"
   },
   {
    "duration": 39,
    "start_time": "2021-07-26T17:59:33.849Z"
   },
   {
    "duration": 6,
    "start_time": "2021-07-26T17:59:33.889Z"
   },
   {
    "duration": 179,
    "start_time": "2021-07-26T17:59:33.896Z"
   },
   {
    "duration": 9,
    "start_time": "2021-07-26T17:59:34.077Z"
   },
   {
    "duration": 549,
    "start_time": "2021-07-26T17:59:34.088Z"
   },
   {
    "duration": 16,
    "start_time": "2021-07-26T17:59:34.639Z"
   },
   {
    "duration": 439,
    "start_time": "2021-07-26T17:59:34.657Z"
   },
   {
    "duration": 22,
    "start_time": "2021-07-26T17:59:35.098Z"
   },
   {
    "duration": 33,
    "start_time": "2021-07-26T17:59:35.122Z"
   },
   {
    "duration": 46,
    "start_time": "2021-07-26T17:59:35.157Z"
   },
   {
    "duration": 52,
    "start_time": "2021-07-26T17:59:35.204Z"
   },
   {
    "duration": 8,
    "start_time": "2021-07-26T17:59:35.258Z"
   },
   {
    "duration": 301,
    "start_time": "2021-07-26T17:59:35.284Z"
   },
   {
    "duration": 112,
    "start_time": "2021-07-26T17:59:35.476Z"
   },
   {
    "duration": 110,
    "start_time": "2021-07-26T17:59:35.479Z"
   },
   {
    "duration": 109,
    "start_time": "2021-07-26T17:59:35.481Z"
   },
   {
    "duration": 105,
    "start_time": "2021-07-26T17:59:35.486Z"
   },
   {
    "duration": 104,
    "start_time": "2021-07-26T17:59:35.488Z"
   },
   {
    "duration": 102,
    "start_time": "2021-07-26T17:59:35.491Z"
   },
   {
    "duration": 101,
    "start_time": "2021-07-26T17:59:35.493Z"
   },
   {
    "duration": 100,
    "start_time": "2021-07-26T17:59:35.495Z"
   },
   {
    "duration": 99,
    "start_time": "2021-07-26T17:59:35.497Z"
   },
   {
    "duration": 95,
    "start_time": "2021-07-26T17:59:35.502Z"
   },
   {
    "duration": 93,
    "start_time": "2021-07-26T17:59:35.505Z"
   },
   {
    "duration": 92,
    "start_time": "2021-07-26T17:59:35.507Z"
   },
   {
    "duration": 90,
    "start_time": "2021-07-26T17:59:35.510Z"
   },
   {
    "duration": 89,
    "start_time": "2021-07-26T17:59:35.512Z"
   },
   {
    "duration": 21,
    "start_time": "2021-07-26T17:59:35.580Z"
   },
   {
    "duration": -81,
    "start_time": "2021-07-26T17:59:35.683Z"
   },
   {
    "duration": -82,
    "start_time": "2021-07-26T17:59:35.685Z"
   },
   {
    "duration": -83,
    "start_time": "2021-07-26T17:59:35.687Z"
   },
   {
    "duration": -84,
    "start_time": "2021-07-26T17:59:35.689Z"
   },
   {
    "duration": -86,
    "start_time": "2021-07-26T17:59:35.692Z"
   },
   {
    "duration": -87,
    "start_time": "2021-07-26T17:59:35.694Z"
   },
   {
    "duration": -88,
    "start_time": "2021-07-26T17:59:35.696Z"
   },
   {
    "duration": -89,
    "start_time": "2021-07-26T17:59:35.698Z"
   },
   {
    "duration": -90,
    "start_time": "2021-07-26T17:59:35.700Z"
   },
   {
    "duration": -92,
    "start_time": "2021-07-26T17:59:35.703Z"
   },
   {
    "duration": -93,
    "start_time": "2021-07-26T17:59:35.705Z"
   },
   {
    "duration": -94,
    "start_time": "2021-07-26T17:59:35.707Z"
   },
   {
    "duration": -95,
    "start_time": "2021-07-26T17:59:35.709Z"
   },
   {
    "duration": -96,
    "start_time": "2021-07-26T17:59:35.711Z"
   },
   {
    "duration": -97,
    "start_time": "2021-07-26T17:59:35.713Z"
   },
   {
    "duration": -99,
    "start_time": "2021-07-26T17:59:35.716Z"
   },
   {
    "duration": -100,
    "start_time": "2021-07-26T17:59:35.718Z"
   },
   {
    "duration": 8,
    "start_time": "2021-07-26T18:02:27.727Z"
   },
   {
    "duration": 3908,
    "start_time": "2021-07-26T18:03:00.465Z"
   },
   {
    "duration": 1131,
    "start_time": "2021-07-26T18:03:04.375Z"
   },
   {
    "duration": 128,
    "start_time": "2021-07-26T18:03:05.508Z"
   },
   {
    "duration": 4,
    "start_time": "2021-07-26T18:03:05.638Z"
   },
   {
    "duration": 93,
    "start_time": "2021-07-26T18:03:05.644Z"
   },
   {
    "duration": 73,
    "start_time": "2021-07-26T18:03:05.739Z"
   },
   {
    "duration": 13,
    "start_time": "2021-07-26T18:03:05.814Z"
   },
   {
    "duration": 9,
    "start_time": "2021-07-26T18:03:05.828Z"
   },
   {
    "duration": 121,
    "start_time": "2021-07-26T18:03:05.840Z"
   },
   {
    "duration": 70,
    "start_time": "2021-07-26T18:03:05.963Z"
   },
   {
    "duration": 9,
    "start_time": "2021-07-26T18:03:06.035Z"
   },
   {
    "duration": 39,
    "start_time": "2021-07-26T18:03:06.046Z"
   },
   {
    "duration": 8,
    "start_time": "2021-07-26T18:03:06.087Z"
   },
   {
    "duration": 189,
    "start_time": "2021-07-26T18:03:06.097Z"
   },
   {
    "duration": 6,
    "start_time": "2021-07-26T18:03:06.288Z"
   },
   {
    "duration": 530,
    "start_time": "2021-07-26T18:03:06.296Z"
   },
   {
    "duration": 17,
    "start_time": "2021-07-26T18:03:06.828Z"
   },
   {
    "duration": 427,
    "start_time": "2021-07-26T18:03:06.847Z"
   },
   {
    "duration": 32,
    "start_time": "2021-07-26T18:03:07.276Z"
   },
   {
    "duration": 35,
    "start_time": "2021-07-26T18:03:07.311Z"
   },
   {
    "duration": 47,
    "start_time": "2021-07-26T18:03:07.348Z"
   },
   {
    "duration": 52,
    "start_time": "2021-07-26T18:03:07.396Z"
   },
   {
    "duration": 13,
    "start_time": "2021-07-26T18:03:07.450Z"
   },
   {
    "duration": 414,
    "start_time": "2021-07-26T18:03:07.486Z"
   },
   {
    "duration": 5,
    "start_time": "2021-07-26T18:03:07.902Z"
   },
   {
    "duration": 13,
    "start_time": "2021-07-26T18:03:07.908Z"
   },
   {
    "duration": 5,
    "start_time": "2021-07-26T18:03:07.927Z"
   },
   {
    "duration": 40,
    "start_time": "2021-07-26T18:03:07.986Z"
   },
   {
    "duration": 81,
    "start_time": "2021-07-26T18:03:08.027Z"
   },
   {
    "duration": 4,
    "start_time": "2021-07-26T18:03:08.109Z"
   },
   {
    "duration": 82,
    "start_time": "2021-07-26T18:03:08.115Z"
   },
   {
    "duration": 4,
    "start_time": "2021-07-26T18:03:08.198Z"
   },
   {
    "duration": 7,
    "start_time": "2021-07-26T18:03:08.203Z"
   },
   {
    "duration": 6,
    "start_time": "2021-07-26T18:03:08.211Z"
   },
   {
    "duration": 5,
    "start_time": "2021-07-26T18:03:08.218Z"
   },
   {
    "duration": 4,
    "start_time": "2021-07-26T18:03:08.225Z"
   },
   {
    "duration": 5,
    "start_time": "2021-07-26T18:03:08.232Z"
   },
   {
    "duration": 75,
    "start_time": "2021-07-26T18:03:08.239Z"
   },
   {
    "duration": 4,
    "start_time": "2021-07-26T18:03:08.317Z"
   },
   {
    "duration": 6,
    "start_time": "2021-07-26T18:03:08.323Z"
   },
   {
    "duration": 6,
    "start_time": "2021-07-26T18:03:08.331Z"
   },
   {
    "duration": 3,
    "start_time": "2021-07-26T18:03:08.339Z"
   },
   {
    "duration": 6,
    "start_time": "2021-07-26T18:03:08.344Z"
   },
   {
    "duration": 5,
    "start_time": "2021-07-26T18:03:08.351Z"
   },
   {
    "duration": 11,
    "start_time": "2021-07-26T18:03:08.384Z"
   },
   {
    "duration": 10,
    "start_time": "2021-07-26T18:03:08.397Z"
   },
   {
    "duration": 5,
    "start_time": "2021-07-26T18:03:08.409Z"
   },
   {
    "duration": 19,
    "start_time": "2021-07-26T18:03:08.416Z"
   },
   {
    "duration": 7,
    "start_time": "2021-07-26T18:03:08.437Z"
   },
   {
    "duration": 6,
    "start_time": "2021-07-26T18:03:08.445Z"
   },
   {
    "duration": 140,
    "start_time": "2021-07-26T18:03:08.452Z"
   },
   {
    "duration": 35,
    "start_time": "2021-07-26T18:03:08.594Z"
   },
   {
    "duration": 107,
    "start_time": "2021-07-26T18:03:08.631Z"
   },
   {
    "duration": 99,
    "start_time": "2021-07-26T18:03:08.740Z"
   },
   {
    "duration": 47,
    "start_time": "2021-07-26T18:03:08.841Z"
   },
   {
    "duration": 105,
    "start_time": "2021-07-26T18:03:08.889Z"
   },
   {
    "duration": 3978,
    "start_time": "2021-07-26T18:08:41.278Z"
   },
   {
    "duration": 1182,
    "start_time": "2021-07-26T18:08:45.258Z"
   },
   {
    "duration": 123,
    "start_time": "2021-07-26T18:08:46.442Z"
   },
   {
    "duration": 6,
    "start_time": "2021-07-26T18:08:46.567Z"
   },
   {
    "duration": 86,
    "start_time": "2021-07-26T18:08:46.575Z"
   },
   {
    "duration": 79,
    "start_time": "2021-07-26T18:08:46.663Z"
   },
   {
    "duration": 14,
    "start_time": "2021-07-26T18:08:46.744Z"
   },
   {
    "duration": 24,
    "start_time": "2021-07-26T18:08:46.761Z"
   },
   {
    "duration": 114,
    "start_time": "2021-07-26T18:08:46.788Z"
   },
   {
    "duration": 61,
    "start_time": "2021-07-26T18:08:46.904Z"
   },
   {
    "duration": 25,
    "start_time": "2021-07-26T18:08:46.967Z"
   },
   {
    "duration": 25,
    "start_time": "2021-07-26T18:08:46.994Z"
   },
   {
    "duration": 7,
    "start_time": "2021-07-26T18:08:47.021Z"
   },
   {
    "duration": 192,
    "start_time": "2021-07-26T18:08:47.030Z"
   },
   {
    "duration": 5,
    "start_time": "2021-07-26T18:08:47.224Z"
   },
   {
    "duration": 537,
    "start_time": "2021-07-26T18:08:47.231Z"
   },
   {
    "duration": 21,
    "start_time": "2021-07-26T18:08:47.770Z"
   },
   {
    "duration": 420,
    "start_time": "2021-07-26T18:08:47.793Z"
   },
   {
    "duration": 24,
    "start_time": "2021-07-26T18:08:48.216Z"
   },
   {
    "duration": 55,
    "start_time": "2021-07-26T18:08:48.242Z"
   },
   {
    "duration": 25,
    "start_time": "2021-07-26T18:08:48.299Z"
   },
   {
    "duration": 64,
    "start_time": "2021-07-26T18:08:48.326Z"
   },
   {
    "duration": 3,
    "start_time": "2021-07-26T18:08:48.395Z"
   },
   {
    "duration": 10,
    "start_time": "2021-07-26T18:08:48.401Z"
   },
   {
    "duration": 418,
    "start_time": "2021-07-26T18:08:48.413Z"
   },
   {
    "duration": 4,
    "start_time": "2021-07-26T18:08:48.833Z"
   },
   {
    "duration": 46,
    "start_time": "2021-07-26T18:08:48.839Z"
   },
   {
    "duration": 5,
    "start_time": "2021-07-26T18:08:48.887Z"
   },
   {
    "duration": 95,
    "start_time": "2021-07-26T18:08:48.894Z"
   },
   {
    "duration": 34,
    "start_time": "2021-07-26T18:08:48.991Z"
   },
   {
    "duration": 4,
    "start_time": "2021-07-26T18:08:49.026Z"
   },
   {
    "duration": 81,
    "start_time": "2021-07-26T18:08:49.031Z"
   },
   {
    "duration": 3,
    "start_time": "2021-07-26T18:08:49.114Z"
   },
   {
    "duration": 6,
    "start_time": "2021-07-26T18:08:49.119Z"
   },
   {
    "duration": 5,
    "start_time": "2021-07-26T18:08:49.126Z"
   },
   {
    "duration": 5,
    "start_time": "2021-07-26T18:08:49.132Z"
   },
   {
    "duration": 4,
    "start_time": "2021-07-26T18:08:49.138Z"
   },
   {
    "duration": 4,
    "start_time": "2021-07-26T18:08:49.144Z"
   },
   {
    "duration": 61,
    "start_time": "2021-07-26T18:08:49.150Z"
   },
   {
    "duration": 3,
    "start_time": "2021-07-26T18:08:49.213Z"
   },
   {
    "duration": 5,
    "start_time": "2021-07-26T18:08:49.218Z"
   },
   {
    "duration": 11,
    "start_time": "2021-07-26T18:08:49.225Z"
   },
   {
    "duration": 6,
    "start_time": "2021-07-26T18:08:49.237Z"
   },
   {
    "duration": 6,
    "start_time": "2021-07-26T18:08:49.245Z"
   },
   {
    "duration": 5,
    "start_time": "2021-07-26T18:08:49.253Z"
   },
   {
    "duration": 33,
    "start_time": "2021-07-26T18:08:49.259Z"
   },
   {
    "duration": 9,
    "start_time": "2021-07-26T18:08:49.294Z"
   },
   {
    "duration": 6,
    "start_time": "2021-07-26T18:08:49.304Z"
   },
   {
    "duration": 20,
    "start_time": "2021-07-26T18:08:49.312Z"
   },
   {
    "duration": 6,
    "start_time": "2021-07-26T18:08:49.334Z"
   },
   {
    "duration": 5,
    "start_time": "2021-07-26T18:08:49.342Z"
   },
   {
    "duration": 118,
    "start_time": "2021-07-26T18:08:49.348Z"
   },
   {
    "duration": 50,
    "start_time": "2021-07-26T18:08:49.468Z"
   },
   {
    "duration": 92,
    "start_time": "2021-07-26T18:08:49.520Z"
   },
   {
    "duration": 99,
    "start_time": "2021-07-26T18:08:49.614Z"
   },
   {
    "duration": 37,
    "start_time": "2021-07-26T18:08:49.715Z"
   },
   {
    "duration": 131,
    "start_time": "2021-07-26T18:08:49.754Z"
   },
   {
    "duration": 5382,
    "start_time": "2021-07-26T18:12:53.334Z"
   },
   {
    "duration": 1124,
    "start_time": "2021-07-26T18:12:58.719Z"
   },
   {
    "duration": 122,
    "start_time": "2021-07-26T18:12:59.846Z"
   },
   {
    "duration": 5,
    "start_time": "2021-07-26T18:12:59.970Z"
   },
   {
    "duration": 80,
    "start_time": "2021-07-26T18:12:59.984Z"
   },
   {
    "duration": 75,
    "start_time": "2021-07-26T18:13:00.066Z"
   },
   {
    "duration": 12,
    "start_time": "2021-07-26T18:13:00.143Z"
   },
   {
    "duration": 9,
    "start_time": "2021-07-26T18:13:00.156Z"
   },
   {
    "duration": 120,
    "start_time": "2021-07-26T18:13:00.167Z"
   },
   {
    "duration": 59,
    "start_time": "2021-07-26T18:13:00.289Z"
   },
   {
    "duration": 9,
    "start_time": "2021-07-26T18:13:00.350Z"
   },
   {
    "duration": 41,
    "start_time": "2021-07-26T18:13:00.360Z"
   },
   {
    "duration": 5,
    "start_time": "2021-07-26T18:13:00.403Z"
   },
   {
    "duration": 176,
    "start_time": "2021-07-26T18:13:00.410Z"
   },
   {
    "duration": 5,
    "start_time": "2021-07-26T18:13:00.588Z"
   },
   {
    "duration": 519,
    "start_time": "2021-07-26T18:13:00.594Z"
   },
   {
    "duration": 16,
    "start_time": "2021-07-26T18:13:01.114Z"
   },
   {
    "duration": 422,
    "start_time": "2021-07-26T18:13:01.132Z"
   },
   {
    "duration": 35,
    "start_time": "2021-07-26T18:13:01.555Z"
   },
   {
    "duration": 34,
    "start_time": "2021-07-26T18:13:01.592Z"
   },
   {
    "duration": 25,
    "start_time": "2021-07-26T18:13:01.628Z"
   },
   {
    "duration": 70,
    "start_time": "2021-07-26T18:13:01.654Z"
   },
   {
    "duration": 3,
    "start_time": "2021-07-26T18:13:01.726Z"
   },
   {
    "duration": 21,
    "start_time": "2021-07-26T18:13:01.731Z"
   },
   {
    "duration": 294,
    "start_time": "2021-07-26T18:13:01.754Z"
   },
   {
    "duration": 150,
    "start_time": "2021-07-26T18:13:01.901Z"
   },
   {
    "duration": 146,
    "start_time": "2021-07-26T18:13:01.906Z"
   },
   {
    "duration": 144,
    "start_time": "2021-07-26T18:13:01.909Z"
   },
   {
    "duration": 143,
    "start_time": "2021-07-26T18:13:01.911Z"
   },
   {
    "duration": 142,
    "start_time": "2021-07-26T18:13:01.913Z"
   },
   {
    "duration": 140,
    "start_time": "2021-07-26T18:13:01.916Z"
   },
   {
    "duration": 139,
    "start_time": "2021-07-26T18:13:01.918Z"
   },
   {
    "duration": 137,
    "start_time": "2021-07-26T18:13:01.921Z"
   },
   {
    "duration": 134,
    "start_time": "2021-07-26T18:13:01.925Z"
   },
   {
    "duration": 133,
    "start_time": "2021-07-26T18:13:01.927Z"
   },
   {
    "duration": 132,
    "start_time": "2021-07-26T18:13:01.929Z"
   },
   {
    "duration": 130,
    "start_time": "2021-07-26T18:13:01.931Z"
   },
   {
    "duration": 124,
    "start_time": "2021-07-26T18:13:01.938Z"
   },
   {
    "duration": 121,
    "start_time": "2021-07-26T18:13:01.942Z"
   },
   {
    "duration": 118,
    "start_time": "2021-07-26T18:13:01.946Z"
   },
   {
    "duration": 116,
    "start_time": "2021-07-26T18:13:01.949Z"
   },
   {
    "duration": 115,
    "start_time": "2021-07-26T18:13:01.951Z"
   },
   {
    "duration": 114,
    "start_time": "2021-07-26T18:13:01.953Z"
   },
   {
    "duration": 113,
    "start_time": "2021-07-26T18:13:01.955Z"
   },
   {
    "duration": 111,
    "start_time": "2021-07-26T18:13:01.958Z"
   },
   {
    "duration": 102,
    "start_time": "2021-07-26T18:13:01.968Z"
   },
   {
    "duration": 86,
    "start_time": "2021-07-26T18:13:01.985Z"
   },
   {
    "duration": 85,
    "start_time": "2021-07-26T18:13:01.987Z"
   },
   {
    "duration": 83,
    "start_time": "2021-07-26T18:13:01.990Z"
   },
   {
    "duration": 48,
    "start_time": "2021-07-26T18:13:02.026Z"
   },
   {
    "duration": 46,
    "start_time": "2021-07-26T18:13:02.029Z"
   },
   {
    "duration": 14,
    "start_time": "2021-07-26T18:13:02.062Z"
   },
   {
    "duration": 13,
    "start_time": "2021-07-26T18:13:02.064Z"
   },
   {
    "duration": 12,
    "start_time": "2021-07-26T18:13:02.066Z"
   },
   {
    "duration": 11,
    "start_time": "2021-07-26T18:13:02.068Z"
   },
   {
    "duration": 10,
    "start_time": "2021-07-26T18:13:02.070Z"
   },
   {
    "duration": 9,
    "start_time": "2021-07-26T18:13:02.072Z"
   },
   {
    "duration": 11,
    "start_time": "2021-07-26T18:13:52.205Z"
   },
   {
    "duration": 3847,
    "start_time": "2021-07-26T18:14:03.376Z"
   },
   {
    "duration": 1140,
    "start_time": "2021-07-26T18:14:07.225Z"
   },
   {
    "duration": 126,
    "start_time": "2021-07-26T18:14:08.367Z"
   },
   {
    "duration": 6,
    "start_time": "2021-07-26T18:14:08.495Z"
   },
   {
    "duration": 91,
    "start_time": "2021-07-26T18:14:08.503Z"
   },
   {
    "duration": 62,
    "start_time": "2021-07-26T18:14:08.596Z"
   },
   {
    "duration": 25,
    "start_time": "2021-07-26T18:14:08.660Z"
   },
   {
    "duration": 8,
    "start_time": "2021-07-26T18:14:08.687Z"
   },
   {
    "duration": 112,
    "start_time": "2021-07-26T18:14:08.698Z"
   },
   {
    "duration": 58,
    "start_time": "2021-07-26T18:14:08.812Z"
   },
   {
    "duration": 17,
    "start_time": "2021-07-26T18:14:08.872Z"
   },
   {
    "duration": 24,
    "start_time": "2021-07-26T18:14:08.890Z"
   },
   {
    "duration": 6,
    "start_time": "2021-07-26T18:14:08.916Z"
   },
   {
    "duration": 188,
    "start_time": "2021-07-26T18:14:08.923Z"
   },
   {
    "duration": 5,
    "start_time": "2021-07-26T18:14:09.112Z"
   },
   {
    "duration": 539,
    "start_time": "2021-07-26T18:14:09.118Z"
   },
   {
    "duration": 16,
    "start_time": "2021-07-26T18:14:09.658Z"
   },
   {
    "duration": 431,
    "start_time": "2021-07-26T18:14:09.675Z"
   },
   {
    "duration": 23,
    "start_time": "2021-07-26T18:14:10.107Z"
   },
   {
    "duration": 33,
    "start_time": "2021-07-26T18:14:10.131Z"
   },
   {
    "duration": 24,
    "start_time": "2021-07-26T18:14:10.185Z"
   },
   {
    "duration": 49,
    "start_time": "2021-07-26T18:14:10.211Z"
   },
   {
    "duration": 23,
    "start_time": "2021-07-26T18:14:10.262Z"
   },
   {
    "duration": 18,
    "start_time": "2021-07-26T18:14:10.287Z"
   },
   {
    "duration": 397,
    "start_time": "2021-07-26T18:14:10.307Z"
   },
   {
    "duration": 4,
    "start_time": "2021-07-26T18:14:10.706Z"
   },
   {
    "duration": 9,
    "start_time": "2021-07-26T18:14:10.714Z"
   },
   {
    "duration": 6,
    "start_time": "2021-07-26T18:14:10.725Z"
   },
   {
    "duration": 86,
    "start_time": "2021-07-26T18:14:10.733Z"
   },
   {
    "duration": 86,
    "start_time": "2021-07-26T18:14:10.820Z"
   },
   {
    "duration": 4,
    "start_time": "2021-07-26T18:14:10.907Z"
   },
   {
    "duration": 76,
    "start_time": "2021-07-26T18:14:10.912Z"
   },
   {
    "duration": 3,
    "start_time": "2021-07-26T18:14:10.990Z"
   },
   {
    "duration": 6,
    "start_time": "2021-07-26T18:14:10.995Z"
   },
   {
    "duration": 6,
    "start_time": "2021-07-26T18:14:11.002Z"
   },
   {
    "duration": 5,
    "start_time": "2021-07-26T18:14:11.010Z"
   },
   {
    "duration": 5,
    "start_time": "2021-07-26T18:14:11.016Z"
   },
   {
    "duration": 6,
    "start_time": "2021-07-26T18:14:11.023Z"
   },
   {
    "duration": 66,
    "start_time": "2021-07-26T18:14:11.030Z"
   },
   {
    "duration": 3,
    "start_time": "2021-07-26T18:14:11.098Z"
   },
   {
    "duration": 6,
    "start_time": "2021-07-26T18:14:11.103Z"
   },
   {
    "duration": 5,
    "start_time": "2021-07-26T18:14:11.110Z"
   },
   {
    "duration": 3,
    "start_time": "2021-07-26T18:14:11.117Z"
   },
   {
    "duration": 6,
    "start_time": "2021-07-26T18:14:11.121Z"
   },
   {
    "duration": 6,
    "start_time": "2021-07-26T18:14:11.129Z"
   },
   {
    "duration": 10,
    "start_time": "2021-07-26T18:14:11.136Z"
   },
   {
    "duration": 41,
    "start_time": "2021-07-26T18:14:11.147Z"
   },
   {
    "duration": 5,
    "start_time": "2021-07-26T18:14:11.190Z"
   },
   {
    "duration": 19,
    "start_time": "2021-07-26T18:14:11.196Z"
   },
   {
    "duration": 7,
    "start_time": "2021-07-26T18:14:11.217Z"
   },
   {
    "duration": 5,
    "start_time": "2021-07-26T18:14:11.226Z"
   },
   {
    "duration": 122,
    "start_time": "2021-07-26T18:14:11.233Z"
   },
   {
    "duration": 49,
    "start_time": "2021-07-26T18:14:11.357Z"
   },
   {
    "duration": 95,
    "start_time": "2021-07-26T18:14:11.408Z"
   },
   {
    "duration": 97,
    "start_time": "2021-07-26T18:14:11.505Z"
   },
   {
    "duration": 35,
    "start_time": "2021-07-26T18:14:11.604Z"
   },
   {
    "duration": 112,
    "start_time": "2021-07-26T18:14:11.640Z"
   },
   {
    "duration": 12,
    "start_time": "2021-07-26T18:14:57.625Z"
   },
   {
    "duration": 11,
    "start_time": "2021-07-26T18:15:33.888Z"
   },
   {
    "duration": 3935,
    "start_time": "2021-07-26T18:15:40.460Z"
   },
   {
    "duration": 1154,
    "start_time": "2021-07-26T18:15:44.397Z"
   },
   {
    "duration": 124,
    "start_time": "2021-07-26T18:15:45.553Z"
   },
   {
    "duration": 6,
    "start_time": "2021-07-26T18:15:45.679Z"
   },
   {
    "duration": 80,
    "start_time": "2021-07-26T18:15:45.687Z"
   },
   {
    "duration": 76,
    "start_time": "2021-07-26T18:15:45.769Z"
   },
   {
    "duration": 12,
    "start_time": "2021-07-26T18:15:45.847Z"
   },
   {
    "duration": 24,
    "start_time": "2021-07-26T18:15:45.861Z"
   },
   {
    "duration": 112,
    "start_time": "2021-07-26T18:15:45.888Z"
   },
   {
    "duration": 65,
    "start_time": "2021-07-26T18:15:46.002Z"
   },
   {
    "duration": 17,
    "start_time": "2021-07-26T18:15:46.069Z"
   },
   {
    "duration": 25,
    "start_time": "2021-07-26T18:15:46.088Z"
   },
   {
    "duration": 5,
    "start_time": "2021-07-26T18:15:46.115Z"
   },
   {
    "duration": 193,
    "start_time": "2021-07-26T18:15:46.122Z"
   },
   {
    "duration": 4,
    "start_time": "2021-07-26T18:15:46.317Z"
   },
   {
    "duration": 524,
    "start_time": "2021-07-26T18:15:46.323Z"
   },
   {
    "duration": 17,
    "start_time": "2021-07-26T18:15:46.848Z"
   },
   {
    "duration": 430,
    "start_time": "2021-07-26T18:15:46.866Z"
   },
   {
    "duration": 23,
    "start_time": "2021-07-26T18:15:47.297Z"
   },
   {
    "duration": 33,
    "start_time": "2021-07-26T18:15:47.322Z"
   },
   {
    "duration": 42,
    "start_time": "2021-07-26T18:15:47.357Z"
   },
   {
    "duration": 51,
    "start_time": "2021-07-26T18:15:47.400Z"
   },
   {
    "duration": 4,
    "start_time": "2021-07-26T18:15:47.453Z"
   },
   {
    "duration": 35,
    "start_time": "2021-07-26T18:15:47.459Z"
   },
   {
    "duration": 414,
    "start_time": "2021-07-26T18:15:47.495Z"
   },
   {
    "duration": 4,
    "start_time": "2021-07-26T18:15:47.911Z"
   },
   {
    "duration": 9,
    "start_time": "2021-07-26T18:15:47.919Z"
   },
   {
    "duration": 5,
    "start_time": "2021-07-26T18:15:47.930Z"
   },
   {
    "duration": 82,
    "start_time": "2021-07-26T18:15:47.937Z"
   },
   {
    "duration": 87,
    "start_time": "2021-07-26T18:15:48.020Z"
   },
   {
    "duration": 4,
    "start_time": "2021-07-26T18:15:48.109Z"
   },
   {
    "duration": 83,
    "start_time": "2021-07-26T18:15:48.114Z"
   },
   {
    "duration": 3,
    "start_time": "2021-07-26T18:15:48.199Z"
   },
   {
    "duration": 6,
    "start_time": "2021-07-26T18:15:48.204Z"
   },
   {
    "duration": 4,
    "start_time": "2021-07-26T18:15:48.212Z"
   },
   {
    "duration": 5,
    "start_time": "2021-07-26T18:15:48.218Z"
   },
   {
    "duration": 4,
    "start_time": "2021-07-26T18:15:48.225Z"
   },
   {
    "duration": 5,
    "start_time": "2021-07-26T18:15:48.231Z"
   },
   {
    "duration": 68,
    "start_time": "2021-07-26T18:15:48.238Z"
   },
   {
    "duration": 3,
    "start_time": "2021-07-26T18:15:48.307Z"
   },
   {
    "duration": 4,
    "start_time": "2021-07-26T18:15:48.312Z"
   },
   {
    "duration": 5,
    "start_time": "2021-07-26T18:15:48.318Z"
   },
   {
    "duration": 3,
    "start_time": "2021-07-26T18:15:48.325Z"
   },
   {
    "duration": 6,
    "start_time": "2021-07-26T18:15:48.329Z"
   },
   {
    "duration": 5,
    "start_time": "2021-07-26T18:15:48.336Z"
   },
   {
    "duration": 8,
    "start_time": "2021-07-26T18:15:48.342Z"
   },
   {
    "duration": 39,
    "start_time": "2021-07-26T18:15:48.352Z"
   },
   {
    "duration": 5,
    "start_time": "2021-07-26T18:15:48.393Z"
   },
   {
    "duration": 18,
    "start_time": "2021-07-26T18:15:48.399Z"
   },
   {
    "duration": 6,
    "start_time": "2021-07-26T18:15:48.419Z"
   },
   {
    "duration": 5,
    "start_time": "2021-07-26T18:15:48.427Z"
   },
   {
    "duration": 120,
    "start_time": "2021-07-26T18:15:48.433Z"
   },
   {
    "duration": 48,
    "start_time": "2021-07-26T18:15:48.555Z"
   },
   {
    "duration": 102,
    "start_time": "2021-07-26T18:15:48.604Z"
   },
   {
    "duration": 96,
    "start_time": "2021-07-26T18:15:48.708Z"
   },
   {
    "duration": 35,
    "start_time": "2021-07-26T18:15:48.806Z"
   },
   {
    "duration": 104,
    "start_time": "2021-07-26T18:15:48.843Z"
   },
   {
    "duration": 3851,
    "start_time": "2021-07-26T18:16:39.705Z"
   },
   {
    "duration": 1188,
    "start_time": "2021-07-26T18:16:43.559Z"
   },
   {
    "duration": 126,
    "start_time": "2021-07-26T18:16:44.749Z"
   },
   {
    "duration": 8,
    "start_time": "2021-07-26T18:16:44.877Z"
   },
   {
    "duration": 87,
    "start_time": "2021-07-26T18:16:44.886Z"
   },
   {
    "duration": 75,
    "start_time": "2021-07-26T18:16:44.975Z"
   },
   {
    "duration": 12,
    "start_time": "2021-07-26T18:16:45.052Z"
   },
   {
    "duration": 20,
    "start_time": "2021-07-26T18:16:45.066Z"
   },
   {
    "duration": 113,
    "start_time": "2021-07-26T18:16:45.089Z"
   },
   {
    "duration": 61,
    "start_time": "2021-07-26T18:16:45.204Z"
   },
   {
    "duration": 18,
    "start_time": "2021-07-26T18:16:45.267Z"
   },
   {
    "duration": 25,
    "start_time": "2021-07-26T18:16:45.287Z"
   },
   {
    "duration": 8,
    "start_time": "2021-07-26T18:16:45.313Z"
   },
   {
    "duration": 190,
    "start_time": "2021-07-26T18:16:45.323Z"
   },
   {
    "duration": 5,
    "start_time": "2021-07-26T18:16:45.514Z"
   },
   {
    "duration": 536,
    "start_time": "2021-07-26T18:16:45.520Z"
   },
   {
    "duration": 27,
    "start_time": "2021-07-26T18:16:46.058Z"
   },
   {
    "duration": 422,
    "start_time": "2021-07-26T18:16:46.086Z"
   },
   {
    "duration": 22,
    "start_time": "2021-07-26T18:16:46.510Z"
   },
   {
    "duration": 51,
    "start_time": "2021-07-26T18:16:46.534Z"
   },
   {
    "duration": 24,
    "start_time": "2021-07-26T18:16:46.587Z"
   },
   {
    "duration": 77,
    "start_time": "2021-07-26T18:16:46.612Z"
   },
   {
    "duration": 4,
    "start_time": "2021-07-26T18:16:46.691Z"
   },
   {
    "duration": 28,
    "start_time": "2021-07-26T18:16:46.697Z"
   },
   {
    "duration": 614,
    "start_time": "2021-07-26T18:16:46.727Z"
   },
   {
    "duration": 4,
    "start_time": "2021-07-26T18:16:47.342Z"
   },
   {
    "duration": 41,
    "start_time": "2021-07-26T18:16:47.349Z"
   },
   {
    "duration": 5,
    "start_time": "2021-07-26T18:16:47.392Z"
   },
   {
    "duration": 90,
    "start_time": "2021-07-26T18:16:47.399Z"
   },
   {
    "duration": 36,
    "start_time": "2021-07-26T18:16:47.491Z"
   },
   {
    "duration": 3,
    "start_time": "2021-07-26T18:16:47.528Z"
   },
   {
    "duration": 33,
    "start_time": "2021-07-26T18:16:47.584Z"
   },
   {
    "duration": 4,
    "start_time": "2021-07-26T18:16:47.618Z"
   },
   {
    "duration": 29,
    "start_time": "2021-07-26T18:16:47.623Z"
   },
   {
    "duration": 8,
    "start_time": "2021-07-26T18:16:47.653Z"
   },
   {
    "duration": 5,
    "start_time": "2021-07-26T18:16:47.662Z"
   },
   {
    "duration": 18,
    "start_time": "2021-07-26T18:16:47.669Z"
   },
   {
    "duration": 6,
    "start_time": "2021-07-26T18:16:47.689Z"
   },
   {
    "duration": 36,
    "start_time": "2021-07-26T18:16:47.696Z"
   },
   {
    "duration": 3,
    "start_time": "2021-07-26T18:16:47.734Z"
   },
   {
    "duration": 5,
    "start_time": "2021-07-26T18:16:47.739Z"
   },
   {
    "duration": 6,
    "start_time": "2021-07-26T18:16:47.745Z"
   },
   {
    "duration": 33,
    "start_time": "2021-07-26T18:16:47.752Z"
   },
   {
    "duration": 6,
    "start_time": "2021-07-26T18:16:47.787Z"
   },
   {
    "duration": 6,
    "start_time": "2021-07-26T18:16:47.795Z"
   },
   {
    "duration": 9,
    "start_time": "2021-07-26T18:16:47.802Z"
   },
   {
    "duration": 17,
    "start_time": "2021-07-26T18:16:47.813Z"
   },
   {
    "duration": 5,
    "start_time": "2021-07-26T18:16:47.832Z"
   },
   {
    "duration": 22,
    "start_time": "2021-07-26T18:16:47.838Z"
   },
   {
    "duration": 27,
    "start_time": "2021-07-26T18:16:47.862Z"
   },
   {
    "duration": 6,
    "start_time": "2021-07-26T18:16:47.891Z"
   },
   {
    "duration": 112,
    "start_time": "2021-07-26T18:16:47.898Z"
   },
   {
    "duration": 33,
    "start_time": "2021-07-26T18:16:48.012Z"
   },
   {
    "duration": 101,
    "start_time": "2021-07-26T18:16:48.047Z"
   },
   {
    "duration": 104,
    "start_time": "2021-07-26T18:16:48.149Z"
   },
   {
    "duration": 51,
    "start_time": "2021-07-26T18:16:48.254Z"
   },
   {
    "duration": 100,
    "start_time": "2021-07-26T18:16:48.306Z"
   },
   {
    "duration": 4149,
    "start_time": "2021-07-26T18:19:30.166Z"
   },
   {
    "duration": 1125,
    "start_time": "2021-07-26T18:19:34.317Z"
   },
   {
    "duration": 124,
    "start_time": "2021-07-26T18:19:35.444Z"
   },
   {
    "duration": 5,
    "start_time": "2021-07-26T18:19:35.569Z"
   },
   {
    "duration": 89,
    "start_time": "2021-07-26T18:19:35.575Z"
   },
   {
    "duration": 63,
    "start_time": "2021-07-26T18:19:35.666Z"
   },
   {
    "duration": 10,
    "start_time": "2021-07-26T18:19:35.731Z"
   },
   {
    "duration": 19,
    "start_time": "2021-07-26T18:19:35.743Z"
   },
   {
    "duration": 121,
    "start_time": "2021-07-26T18:19:35.764Z"
   },
   {
    "duration": 58,
    "start_time": "2021-07-26T18:19:35.887Z"
   },
   {
    "duration": 9,
    "start_time": "2021-07-26T18:19:35.947Z"
   },
   {
    "duration": 43,
    "start_time": "2021-07-26T18:19:35.957Z"
   },
   {
    "duration": 12,
    "start_time": "2021-07-26T18:19:36.001Z"
   },
   {
    "duration": 188,
    "start_time": "2021-07-26T18:19:36.015Z"
   },
   {
    "duration": 5,
    "start_time": "2021-07-26T18:19:36.204Z"
   },
   {
    "duration": 522,
    "start_time": "2021-07-26T18:19:36.210Z"
   },
   {
    "duration": 16,
    "start_time": "2021-07-26T18:19:36.733Z"
   },
   {
    "duration": 419,
    "start_time": "2021-07-26T18:19:36.751Z"
   },
   {
    "duration": 31,
    "start_time": "2021-07-26T18:19:37.172Z"
   },
   {
    "duration": 35,
    "start_time": "2021-07-26T18:19:37.204Z"
   },
   {
    "duration": 26,
    "start_time": "2021-07-26T18:19:37.240Z"
   },
   {
    "duration": 65,
    "start_time": "2021-07-26T18:19:37.267Z"
   },
   {
    "duration": 262,
    "start_time": "2021-07-26T18:19:37.334Z"
   },
   {
    "duration": 152,
    "start_time": "2021-07-26T18:19:37.447Z"
   },
   {
    "duration": 150,
    "start_time": "2021-07-26T18:19:37.450Z"
   },
   {
    "duration": 135,
    "start_time": "2021-07-26T18:19:37.466Z"
   },
   {
    "duration": 133,
    "start_time": "2021-07-26T18:19:37.469Z"
   },
   {
    "duration": 128,
    "start_time": "2021-07-26T18:19:37.475Z"
   },
   {
    "duration": 125,
    "start_time": "2021-07-26T18:19:37.479Z"
   },
   {
    "duration": 124,
    "start_time": "2021-07-26T18:19:37.481Z"
   },
   {
    "duration": 123,
    "start_time": "2021-07-26T18:19:37.483Z"
   },
   {
    "duration": 122,
    "start_time": "2021-07-26T18:19:37.485Z"
   },
   {
    "duration": 118,
    "start_time": "2021-07-26T18:19:37.490Z"
   },
   {
    "duration": 115,
    "start_time": "2021-07-26T18:19:37.494Z"
   },
   {
    "duration": 115,
    "start_time": "2021-07-26T18:19:37.496Z"
   },
   {
    "duration": 111,
    "start_time": "2021-07-26T18:19:37.500Z"
   },
   {
    "duration": 110,
    "start_time": "2021-07-26T18:19:37.502Z"
   },
   {
    "duration": 107,
    "start_time": "2021-07-26T18:19:37.506Z"
   },
   {
    "duration": 105,
    "start_time": "2021-07-26T18:19:37.509Z"
   },
   {
    "duration": 102,
    "start_time": "2021-07-26T18:19:37.513Z"
   },
   {
    "duration": 101,
    "start_time": "2021-07-26T18:19:37.515Z"
   },
   {
    "duration": 100,
    "start_time": "2021-07-26T18:19:37.517Z"
   },
   {
    "duration": 99,
    "start_time": "2021-07-26T18:19:37.519Z"
   },
   {
    "duration": 96,
    "start_time": "2021-07-26T18:19:37.523Z"
   },
   {
    "duration": 52,
    "start_time": "2021-07-26T18:19:37.568Z"
   },
   {
    "duration": 41,
    "start_time": "2021-07-26T18:19:37.580Z"
   },
   {
    "duration": 41,
    "start_time": "2021-07-26T18:19:37.582Z"
   },
   {
    "duration": 38,
    "start_time": "2021-07-26T18:19:37.585Z"
   },
   {
    "duration": 37,
    "start_time": "2021-07-26T18:19:37.587Z"
   },
   {
    "duration": 36,
    "start_time": "2021-07-26T18:19:37.589Z"
   },
   {
    "duration": 35,
    "start_time": "2021-07-26T18:19:37.591Z"
   },
   {
    "duration": 34,
    "start_time": "2021-07-26T18:19:37.593Z"
   },
   {
    "duration": 33,
    "start_time": "2021-07-26T18:19:37.595Z"
   },
   {
    "duration": 32,
    "start_time": "2021-07-26T18:19:37.597Z"
   },
   {
    "duration": 31,
    "start_time": "2021-07-26T18:19:37.599Z"
   },
   {
    "duration": 30,
    "start_time": "2021-07-26T18:19:37.601Z"
   },
   {
    "duration": 29,
    "start_time": "2021-07-26T18:19:37.603Z"
   },
   {
    "duration": 1485,
    "start_time": "2021-07-26T18:20:05.246Z"
   },
   {
    "duration": 1184,
    "start_time": "2021-07-26T18:20:21.342Z"
   },
   {
    "duration": 4,
    "start_time": "2021-07-26T18:20:41.125Z"
   },
   {
    "duration": 185,
    "start_time": "2021-07-26T18:20:53.404Z"
   },
   {
    "duration": 4,
    "start_time": "2021-07-26T18:21:13.884Z"
   },
   {
    "duration": 187,
    "start_time": "2021-07-26T18:21:15.084Z"
   },
   {
    "duration": 1169,
    "start_time": "2021-07-26T18:24:34.385Z"
   },
   {
    "duration": 4,
    "start_time": "2021-07-26T18:25:04.964Z"
   },
   {
    "duration": 192,
    "start_time": "2021-07-26T18:25:38.804Z"
   },
   {
    "duration": 12,
    "start_time": "2021-07-26T18:26:09.764Z"
   },
   {
    "duration": 11,
    "start_time": "2021-07-26T18:26:17.006Z"
   },
   {
    "duration": 3937,
    "start_time": "2021-07-26T18:26:24.119Z"
   },
   {
    "duration": 1098,
    "start_time": "2021-07-26T18:26:28.058Z"
   },
   {
    "duration": 122,
    "start_time": "2021-07-26T18:26:29.158Z"
   },
   {
    "duration": 4,
    "start_time": "2021-07-26T18:26:29.282Z"
   },
   {
    "duration": 80,
    "start_time": "2021-07-26T18:26:29.288Z"
   },
   {
    "duration": 72,
    "start_time": "2021-07-26T18:26:29.370Z"
   },
   {
    "duration": 12,
    "start_time": "2021-07-26T18:26:29.444Z"
   },
   {
    "duration": 27,
    "start_time": "2021-07-26T18:26:29.458Z"
   },
   {
    "duration": 109,
    "start_time": "2021-07-26T18:26:29.487Z"
   },
   {
    "duration": 56,
    "start_time": "2021-07-26T18:26:29.598Z"
   },
   {
    "duration": 9,
    "start_time": "2021-07-26T18:26:29.656Z"
   },
   {
    "duration": 40,
    "start_time": "2021-07-26T18:26:29.666Z"
   },
   {
    "duration": 5,
    "start_time": "2021-07-26T18:26:29.708Z"
   },
   {
    "duration": 179,
    "start_time": "2021-07-26T18:26:29.715Z"
   },
   {
    "duration": 5,
    "start_time": "2021-07-26T18:26:29.896Z"
   },
   {
    "duration": 545,
    "start_time": "2021-07-26T18:26:29.903Z"
   },
   {
    "duration": 17,
    "start_time": "2021-07-26T18:26:30.449Z"
   },
   {
    "duration": 431,
    "start_time": "2021-07-26T18:26:30.467Z"
   },
   {
    "duration": 23,
    "start_time": "2021-07-26T18:26:30.900Z"
   },
   {
    "duration": 34,
    "start_time": "2021-07-26T18:26:30.924Z"
   },
   {
    "duration": 42,
    "start_time": "2021-07-26T18:26:30.959Z"
   },
   {
    "duration": 48,
    "start_time": "2021-07-26T18:26:31.002Z"
   },
   {
    "duration": 4,
    "start_time": "2021-07-26T18:26:31.051Z"
   },
   {
    "duration": 36,
    "start_time": "2021-07-26T18:26:31.056Z"
   },
   {
    "duration": 408,
    "start_time": "2021-07-26T18:26:31.093Z"
   },
   {
    "duration": 4,
    "start_time": "2021-07-26T18:26:31.505Z"
   },
   {
    "duration": 11,
    "start_time": "2021-07-26T18:26:31.511Z"
   },
   {
    "duration": 9,
    "start_time": "2021-07-26T18:26:31.523Z"
   },
   {
    "duration": 84,
    "start_time": "2021-07-26T18:26:31.534Z"
   },
   {
    "duration": 85,
    "start_time": "2021-07-26T18:26:31.620Z"
   },
   {
    "duration": 4,
    "start_time": "2021-07-26T18:26:31.706Z"
   },
   {
    "duration": 38,
    "start_time": "2021-07-26T18:26:31.711Z"
   },
   {
    "duration": 36,
    "start_time": "2021-07-26T18:26:31.751Z"
   },
   {
    "duration": 25,
    "start_time": "2021-07-26T18:26:31.788Z"
   },
   {
    "duration": 19,
    "start_time": "2021-07-26T18:26:31.814Z"
   },
   {
    "duration": 15,
    "start_time": "2021-07-26T18:26:31.835Z"
   },
   {
    "duration": 26,
    "start_time": "2021-07-26T18:26:31.852Z"
   },
   {
    "duration": 12,
    "start_time": "2021-07-26T18:26:31.879Z"
   },
   {
    "duration": 45,
    "start_time": "2021-07-26T18:26:31.893Z"
   },
   {
    "duration": 3,
    "start_time": "2021-07-26T18:26:31.940Z"
   },
   {
    "duration": 17,
    "start_time": "2021-07-26T18:26:31.945Z"
   },
   {
    "duration": 16,
    "start_time": "2021-07-26T18:26:31.964Z"
   },
   {
    "duration": 22,
    "start_time": "2021-07-26T18:26:31.982Z"
   },
   {
    "duration": 17,
    "start_time": "2021-07-26T18:26:32.005Z"
   },
   {
    "duration": 12,
    "start_time": "2021-07-26T18:26:32.024Z"
   },
   {
    "duration": 21,
    "start_time": "2021-07-26T18:26:32.038Z"
   },
   {
    "duration": 19,
    "start_time": "2021-07-26T18:26:32.060Z"
   },
   {
    "duration": 16,
    "start_time": "2021-07-26T18:26:32.081Z"
   },
   {
    "duration": 31,
    "start_time": "2021-07-26T18:26:32.099Z"
   },
   {
    "duration": 9,
    "start_time": "2021-07-26T18:26:32.131Z"
   },
   {
    "duration": 5,
    "start_time": "2021-07-26T18:26:32.142Z"
   },
   {
    "duration": 95,
    "start_time": "2021-07-26T18:26:32.148Z"
   },
   {
    "duration": 44,
    "start_time": "2021-07-26T18:26:32.245Z"
   },
   {
    "duration": 97,
    "start_time": "2021-07-26T18:26:32.290Z"
   },
   {
    "duration": 95,
    "start_time": "2021-07-26T18:26:32.389Z"
   },
   {
    "duration": 35,
    "start_time": "2021-07-26T18:26:32.486Z"
   },
   {
    "duration": 99,
    "start_time": "2021-07-26T18:26:32.522Z"
   },
   {
    "duration": 4126,
    "start_time": "2021-07-26T18:26:56.940Z"
   },
   {
    "duration": 1177,
    "start_time": "2021-07-26T18:27:01.069Z"
   },
   {
    "duration": 121,
    "start_time": "2021-07-26T18:27:02.248Z"
   },
   {
    "duration": 4,
    "start_time": "2021-07-26T18:27:02.371Z"
   },
   {
    "duration": 87,
    "start_time": "2021-07-26T18:27:02.377Z"
   },
   {
    "duration": 66,
    "start_time": "2021-07-26T18:27:02.466Z"
   },
   {
    "duration": 13,
    "start_time": "2021-07-26T18:27:02.534Z"
   },
   {
    "duration": 9,
    "start_time": "2021-07-26T18:27:02.548Z"
   },
   {
    "duration": 121,
    "start_time": "2021-07-26T18:27:02.559Z"
   },
   {
    "duration": 60,
    "start_time": "2021-07-26T18:27:02.685Z"
   },
   {
    "duration": 9,
    "start_time": "2021-07-26T18:27:02.747Z"
   },
   {
    "duration": 40,
    "start_time": "2021-07-26T18:27:02.758Z"
   },
   {
    "duration": 5,
    "start_time": "2021-07-26T18:27:02.800Z"
   },
   {
    "duration": 177,
    "start_time": "2021-07-26T18:27:02.807Z"
   },
   {
    "duration": 6,
    "start_time": "2021-07-26T18:27:02.986Z"
   },
   {
    "duration": 529,
    "start_time": "2021-07-26T18:27:02.994Z"
   },
   {
    "duration": 17,
    "start_time": "2021-07-26T18:27:03.525Z"
   },
   {
    "duration": 427,
    "start_time": "2021-07-26T18:27:03.543Z"
   },
   {
    "duration": 28,
    "start_time": "2021-07-26T18:27:03.972Z"
   },
   {
    "duration": 37,
    "start_time": "2021-07-26T18:27:04.002Z"
   },
   {
    "duration": 54,
    "start_time": "2021-07-26T18:27:04.041Z"
   },
   {
    "duration": 50,
    "start_time": "2021-07-26T18:27:04.097Z"
   },
   {
    "duration": 5,
    "start_time": "2021-07-26T18:27:04.149Z"
   },
   {
    "duration": 32,
    "start_time": "2021-07-26T18:27:04.156Z"
   },
   {
    "duration": 417,
    "start_time": "2021-07-26T18:27:04.190Z"
   },
   {
    "duration": 4,
    "start_time": "2021-07-26T18:27:04.609Z"
   },
   {
    "duration": 14,
    "start_time": "2021-07-26T18:27:04.617Z"
   },
   {
    "duration": 9,
    "start_time": "2021-07-26T18:27:04.633Z"
   },
   {
    "duration": 79,
    "start_time": "2021-07-26T18:27:04.643Z"
   },
   {
    "duration": 81,
    "start_time": "2021-07-26T18:27:04.724Z"
   },
   {
    "duration": 3,
    "start_time": "2021-07-26T18:27:04.807Z"
   },
   {
    "duration": 36,
    "start_time": "2021-07-26T18:27:04.811Z"
   },
   {
    "duration": 38,
    "start_time": "2021-07-26T18:27:04.848Z"
   },
   {
    "duration": 9,
    "start_time": "2021-07-26T18:27:04.888Z"
   },
   {
    "duration": 6,
    "start_time": "2021-07-26T18:27:04.899Z"
   },
   {
    "duration": 5,
    "start_time": "2021-07-26T18:27:04.907Z"
   },
   {
    "duration": 4,
    "start_time": "2021-07-26T18:27:04.914Z"
   },
   {
    "duration": 6,
    "start_time": "2021-07-26T18:27:04.919Z"
   },
   {
    "duration": 34,
    "start_time": "2021-07-26T18:27:04.927Z"
   },
   {
    "duration": 4,
    "start_time": "2021-07-26T18:27:04.986Z"
   },
   {
    "duration": 9,
    "start_time": "2021-07-26T18:27:04.992Z"
   },
   {
    "duration": 7,
    "start_time": "2021-07-26T18:27:05.003Z"
   },
   {
    "duration": 4,
    "start_time": "2021-07-26T18:27:05.012Z"
   },
   {
    "duration": 11,
    "start_time": "2021-07-26T18:27:05.018Z"
   },
   {
    "duration": 11,
    "start_time": "2021-07-26T18:27:05.031Z"
   },
   {
    "duration": 10,
    "start_time": "2021-07-26T18:27:05.044Z"
   },
   {
    "duration": 9,
    "start_time": "2021-07-26T18:27:05.085Z"
   },
   {
    "duration": 6,
    "start_time": "2021-07-26T18:27:05.096Z"
   },
   {
    "duration": 20,
    "start_time": "2021-07-26T18:27:05.104Z"
   },
   {
    "duration": 8,
    "start_time": "2021-07-26T18:27:05.125Z"
   },
   {
    "duration": 7,
    "start_time": "2021-07-26T18:27:05.135Z"
   },
   {
    "duration": 125,
    "start_time": "2021-07-26T18:27:05.143Z"
   },
   {
    "duration": 48,
    "start_time": "2021-07-26T18:27:05.270Z"
   },
   {
    "duration": 96,
    "start_time": "2021-07-26T18:27:05.320Z"
   },
   {
    "duration": 93,
    "start_time": "2021-07-26T18:27:05.417Z"
   },
   {
    "duration": 33,
    "start_time": "2021-07-26T18:27:05.511Z"
   },
   {
    "duration": 99,
    "start_time": "2021-07-26T18:27:05.546Z"
   },
   {
    "duration": 3916,
    "start_time": "2021-07-26T18:27:41.214Z"
   },
   {
    "duration": 1220,
    "start_time": "2021-07-26T18:27:45.133Z"
   },
   {
    "duration": 123,
    "start_time": "2021-07-26T18:27:46.355Z"
   },
   {
    "duration": 5,
    "start_time": "2021-07-26T18:27:46.479Z"
   },
   {
    "duration": 78,
    "start_time": "2021-07-26T18:27:46.485Z"
   },
   {
    "duration": 74,
    "start_time": "2021-07-26T18:27:46.565Z"
   },
   {
    "duration": 11,
    "start_time": "2021-07-26T18:27:46.640Z"
   },
   {
    "duration": 14,
    "start_time": "2021-07-26T18:27:46.653Z"
   },
   {
    "duration": 114,
    "start_time": "2021-07-26T18:27:46.670Z"
   },
   {
    "duration": 58,
    "start_time": "2021-07-26T18:27:46.786Z"
   },
   {
    "duration": 9,
    "start_time": "2021-07-26T18:27:46.845Z"
   },
   {
    "duration": 40,
    "start_time": "2021-07-26T18:27:46.856Z"
   },
   {
    "duration": 5,
    "start_time": "2021-07-26T18:27:46.897Z"
   },
   {
    "duration": 171,
    "start_time": "2021-07-26T18:27:46.904Z"
   },
   {
    "duration": 10,
    "start_time": "2021-07-26T18:27:47.077Z"
   },
   {
    "duration": 536,
    "start_time": "2021-07-26T18:27:47.088Z"
   },
   {
    "duration": 16,
    "start_time": "2021-07-26T18:27:47.626Z"
   },
   {
    "duration": 422,
    "start_time": "2021-07-26T18:27:47.643Z"
   },
   {
    "duration": 32,
    "start_time": "2021-07-26T18:27:48.067Z"
   },
   {
    "duration": 34,
    "start_time": "2021-07-26T18:27:48.101Z"
   },
   {
    "duration": 23,
    "start_time": "2021-07-26T18:27:48.137Z"
   },
   {
    "duration": 69,
    "start_time": "2021-07-26T18:27:48.162Z"
   },
   {
    "duration": 4,
    "start_time": "2021-07-26T18:27:48.233Z"
   },
   {
    "duration": 12,
    "start_time": "2021-07-26T18:27:48.238Z"
   },
   {
    "duration": 411,
    "start_time": "2021-07-26T18:27:48.252Z"
   },
   {
    "duration": 4,
    "start_time": "2021-07-26T18:27:48.664Z"
   },
   {
    "duration": 12,
    "start_time": "2021-07-26T18:27:48.672Z"
   },
   {
    "duration": 10,
    "start_time": "2021-07-26T18:27:48.685Z"
   },
   {
    "duration": 91,
    "start_time": "2021-07-26T18:27:48.697Z"
   },
   {
    "duration": 32,
    "start_time": "2021-07-26T18:27:48.790Z"
   },
   {
    "duration": 4,
    "start_time": "2021-07-26T18:27:48.824Z"
   },
   {
    "duration": 79,
    "start_time": "2021-07-26T18:27:48.830Z"
   },
   {
    "duration": 3,
    "start_time": "2021-07-26T18:27:48.911Z"
   },
   {
    "duration": 11,
    "start_time": "2021-07-26T18:27:48.916Z"
   },
   {
    "duration": 8,
    "start_time": "2021-07-26T18:27:48.929Z"
   },
   {
    "duration": 15,
    "start_time": "2021-07-26T18:27:48.939Z"
   },
   {
    "duration": 7,
    "start_time": "2021-07-26T18:27:48.956Z"
   },
   {
    "duration": 21,
    "start_time": "2021-07-26T18:27:48.964Z"
   },
   {
    "duration": 34,
    "start_time": "2021-07-26T18:27:48.987Z"
   },
   {
    "duration": 4,
    "start_time": "2021-07-26T18:27:49.023Z"
   },
   {
    "duration": 4,
    "start_time": "2021-07-26T18:27:49.029Z"
   },
   {
    "duration": 6,
    "start_time": "2021-07-26T18:27:49.035Z"
   },
   {
    "duration": 3,
    "start_time": "2021-07-26T18:27:49.043Z"
   },
   {
    "duration": 40,
    "start_time": "2021-07-26T18:27:49.047Z"
   },
   {
    "duration": 7,
    "start_time": "2021-07-26T18:27:49.089Z"
   },
   {
    "duration": 14,
    "start_time": "2021-07-26T18:27:49.097Z"
   },
   {
    "duration": 14,
    "start_time": "2021-07-26T18:27:49.113Z"
   },
   {
    "duration": 19,
    "start_time": "2021-07-26T18:27:49.128Z"
   },
   {
    "duration": 27,
    "start_time": "2021-07-26T18:27:49.148Z"
   },
   {
    "duration": 7,
    "start_time": "2021-07-26T18:27:49.176Z"
   },
   {
    "duration": 7,
    "start_time": "2021-07-26T18:27:49.185Z"
   },
   {
    "duration": 100,
    "start_time": "2021-07-26T18:27:49.194Z"
   },
   {
    "duration": 36,
    "start_time": "2021-07-26T18:27:49.296Z"
   },
   {
    "duration": 107,
    "start_time": "2021-07-26T18:27:49.335Z"
   },
   {
    "duration": 102,
    "start_time": "2021-07-26T18:27:49.445Z"
   },
   {
    "duration": 51,
    "start_time": "2021-07-26T18:27:49.549Z"
   },
   {
    "duration": 100,
    "start_time": "2021-07-26T18:27:49.602Z"
   },
   {
    "duration": 30,
    "start_time": "2021-07-26T18:41:32.484Z"
   },
   {
    "duration": 7,
    "start_time": "2021-07-26T18:45:27.044Z"
   },
   {
    "duration": 16,
    "start_time": "2021-07-26T18:46:07.324Z"
   },
   {
    "duration": 23,
    "start_time": "2021-07-26T18:49:37.645Z"
   },
   {
    "duration": 5354,
    "start_time": "2021-07-26T18:50:13.405Z"
   },
   {
    "duration": 1182,
    "start_time": "2021-07-26T18:50:18.762Z"
   },
   {
    "duration": 126,
    "start_time": "2021-07-26T18:50:19.946Z"
   },
   {
    "duration": 5,
    "start_time": "2021-07-26T18:50:20.074Z"
   },
   {
    "duration": 78,
    "start_time": "2021-07-26T18:50:20.085Z"
   },
   {
    "duration": 76,
    "start_time": "2021-07-26T18:50:20.164Z"
   },
   {
    "duration": 11,
    "start_time": "2021-07-26T18:50:20.242Z"
   },
   {
    "duration": 8,
    "start_time": "2021-07-26T18:50:20.255Z"
   },
   {
    "duration": 119,
    "start_time": "2021-07-26T18:50:20.266Z"
   },
   {
    "duration": 57,
    "start_time": "2021-07-26T18:50:20.387Z"
   },
   {
    "duration": 9,
    "start_time": "2021-07-26T18:50:20.445Z"
   },
   {
    "duration": 42,
    "start_time": "2021-07-26T18:50:20.455Z"
   },
   {
    "duration": 5,
    "start_time": "2021-07-26T18:50:20.499Z"
   },
   {
    "duration": 177,
    "start_time": "2021-07-26T18:50:20.505Z"
   },
   {
    "duration": 4,
    "start_time": "2021-07-26T18:50:20.685Z"
   },
   {
    "duration": 541,
    "start_time": "2021-07-26T18:50:20.691Z"
   },
   {
    "duration": 17,
    "start_time": "2021-07-26T18:50:21.233Z"
   },
   {
    "duration": 426,
    "start_time": "2021-07-26T18:50:21.251Z"
   },
   {
    "duration": 27,
    "start_time": "2021-07-26T18:50:21.679Z"
   },
   {
    "duration": 32,
    "start_time": "2021-07-26T18:50:21.708Z"
   },
   {
    "duration": 42,
    "start_time": "2021-07-26T18:50:21.742Z"
   },
   {
    "duration": 50,
    "start_time": "2021-07-26T18:50:21.786Z"
   },
   {
    "duration": 4,
    "start_time": "2021-07-26T18:50:21.837Z"
   },
   {
    "duration": 13,
    "start_time": "2021-07-26T18:50:21.843Z"
   },
   {
    "duration": 423,
    "start_time": "2021-07-26T18:50:21.858Z"
   },
   {
    "duration": 4,
    "start_time": "2021-07-26T18:50:22.283Z"
   },
   {
    "duration": 10,
    "start_time": "2021-07-26T18:50:22.290Z"
   },
   {
    "duration": 7,
    "start_time": "2021-07-26T18:50:22.302Z"
   },
   {
    "duration": 93,
    "start_time": "2021-07-26T18:50:22.310Z"
   },
   {
    "duration": 88,
    "start_time": "2021-07-26T18:50:22.404Z"
   },
   {
    "duration": 4,
    "start_time": "2021-07-26T18:50:22.494Z"
   },
   {
    "duration": 37,
    "start_time": "2021-07-26T18:50:22.499Z"
   },
   {
    "duration": 4,
    "start_time": "2021-07-26T18:50:22.537Z"
   },
   {
    "duration": 43,
    "start_time": "2021-07-26T18:50:22.542Z"
   },
   {
    "duration": 5,
    "start_time": "2021-07-26T18:50:22.587Z"
   },
   {
    "duration": 6,
    "start_time": "2021-07-26T18:50:22.594Z"
   },
   {
    "duration": 4,
    "start_time": "2021-07-26T18:50:22.601Z"
   },
   {
    "duration": 5,
    "start_time": "2021-07-26T18:50:22.607Z"
   },
   {
    "duration": 37,
    "start_time": "2021-07-26T18:50:22.614Z"
   },
   {
    "duration": 33,
    "start_time": "2021-07-26T18:50:22.653Z"
   },
   {
    "duration": 6,
    "start_time": "2021-07-26T18:50:22.689Z"
   },
   {
    "duration": 6,
    "start_time": "2021-07-26T18:50:22.697Z"
   },
   {
    "duration": 3,
    "start_time": "2021-07-26T18:50:22.705Z"
   },
   {
    "duration": 5,
    "start_time": "2021-07-26T18:50:22.710Z"
   },
   {
    "duration": 5,
    "start_time": "2021-07-26T18:50:22.717Z"
   },
   {
    "duration": 9,
    "start_time": "2021-07-26T18:50:22.724Z"
   },
   {
    "duration": 54,
    "start_time": "2021-07-26T18:50:22.735Z"
   },
   {
    "duration": 5,
    "start_time": "2021-07-26T18:50:22.791Z"
   },
   {
    "duration": 30,
    "start_time": "2021-07-26T18:50:22.798Z"
   },
   {
    "duration": 5,
    "start_time": "2021-07-26T18:50:22.830Z"
   },
   {
    "duration": 129,
    "start_time": "2021-07-26T18:50:22.837Z"
   },
   {
    "duration": 42,
    "start_time": "2021-07-26T18:50:22.968Z"
   },
   {
    "duration": 99,
    "start_time": "2021-07-26T18:50:23.012Z"
   },
   {
    "duration": 99,
    "start_time": "2021-07-26T18:50:23.113Z"
   },
   {
    "duration": 43,
    "start_time": "2021-07-26T18:50:23.213Z"
   },
   {
    "duration": 134,
    "start_time": "2021-07-26T18:50:23.258Z"
   },
   {
    "duration": 5345,
    "start_time": "2021-07-26T18:56:59.166Z"
   },
   {
    "duration": 1139,
    "start_time": "2021-07-26T18:57:04.514Z"
   },
   {
    "duration": 126,
    "start_time": "2021-07-26T18:57:05.655Z"
   },
   {
    "duration": 5,
    "start_time": "2021-07-26T18:57:05.784Z"
   },
   {
    "duration": 99,
    "start_time": "2021-07-26T18:57:05.792Z"
   },
   {
    "duration": 71,
    "start_time": "2021-07-26T18:57:05.893Z"
   },
   {
    "duration": 25,
    "start_time": "2021-07-26T18:57:05.966Z"
   },
   {
    "duration": 10,
    "start_time": "2021-07-26T18:57:05.993Z"
   },
   {
    "duration": 121,
    "start_time": "2021-07-26T18:57:06.007Z"
   },
   {
    "duration": 74,
    "start_time": "2021-07-26T18:57:06.130Z"
   },
   {
    "duration": 10,
    "start_time": "2021-07-26T18:57:06.205Z"
   },
   {
    "duration": 36,
    "start_time": "2021-07-26T18:57:06.216Z"
   },
   {
    "duration": 5,
    "start_time": "2021-07-26T18:57:06.253Z"
   },
   {
    "duration": 181,
    "start_time": "2021-07-26T18:57:06.260Z"
   },
   {
    "duration": 5,
    "start_time": "2021-07-26T18:57:06.442Z"
   },
   {
    "duration": 539,
    "start_time": "2021-07-26T18:57:06.448Z"
   },
   {
    "duration": 17,
    "start_time": "2021-07-26T18:57:06.989Z"
   },
   {
    "duration": 430,
    "start_time": "2021-07-26T18:57:07.008Z"
   },
   {
    "duration": 24,
    "start_time": "2021-07-26T18:57:07.440Z"
   },
   {
    "duration": 46,
    "start_time": "2021-07-26T18:57:07.465Z"
   },
   {
    "duration": 25,
    "start_time": "2021-07-26T18:57:07.513Z"
   },
   {
    "duration": 71,
    "start_time": "2021-07-26T18:57:07.540Z"
   },
   {
    "duration": 5,
    "start_time": "2021-07-26T18:57:07.613Z"
   },
   {
    "duration": 17,
    "start_time": "2021-07-26T18:57:07.620Z"
   },
   {
    "duration": 416,
    "start_time": "2021-07-26T18:57:07.639Z"
   },
   {
    "duration": 5,
    "start_time": "2021-07-26T18:57:08.057Z"
   },
   {
    "duration": 23,
    "start_time": "2021-07-26T18:57:08.066Z"
   },
   {
    "duration": 25,
    "start_time": "2021-07-26T18:57:08.091Z"
   },
   {
    "duration": 106,
    "start_time": "2021-07-26T18:57:08.119Z"
   },
   {
    "duration": 94,
    "start_time": "2021-07-26T18:57:08.228Z"
   },
   {
    "duration": 4,
    "start_time": "2021-07-26T18:57:08.324Z"
   },
   {
    "duration": 74,
    "start_time": "2021-07-26T18:57:08.331Z"
   },
   {
    "duration": 4,
    "start_time": "2021-07-26T18:57:08.407Z"
   },
   {
    "duration": 6,
    "start_time": "2021-07-26T18:57:08.413Z"
   },
   {
    "duration": 5,
    "start_time": "2021-07-26T18:57:08.421Z"
   },
   {
    "duration": 6,
    "start_time": "2021-07-26T18:57:08.427Z"
   },
   {
    "duration": 4,
    "start_time": "2021-07-26T18:57:08.435Z"
   },
   {
    "duration": 45,
    "start_time": "2021-07-26T18:57:08.440Z"
   },
   {
    "duration": 32,
    "start_time": "2021-07-26T18:57:08.487Z"
   },
   {
    "duration": 3,
    "start_time": "2021-07-26T18:57:08.521Z"
   },
   {
    "duration": 5,
    "start_time": "2021-07-26T18:57:08.526Z"
   },
   {
    "duration": 6,
    "start_time": "2021-07-26T18:57:08.532Z"
   },
   {
    "duration": 3,
    "start_time": "2021-07-26T18:57:08.539Z"
   },
   {
    "duration": 7,
    "start_time": "2021-07-26T18:57:08.544Z"
   },
   {
    "duration": 41,
    "start_time": "2021-07-26T18:57:08.553Z"
   },
   {
    "duration": 10,
    "start_time": "2021-07-26T18:57:08.596Z"
   },
   {
    "duration": 15,
    "start_time": "2021-07-26T18:57:08.608Z"
   },
   {
    "duration": 9,
    "start_time": "2021-07-26T18:57:08.624Z"
   },
   {
    "duration": 29,
    "start_time": "2021-07-26T18:57:08.635Z"
   },
   {
    "duration": 21,
    "start_time": "2021-07-26T18:57:08.665Z"
   },
   {
    "duration": 109,
    "start_time": "2021-07-26T18:57:08.688Z"
   },
   {
    "duration": 34,
    "start_time": "2021-07-26T18:57:08.799Z"
   },
   {
    "duration": 103,
    "start_time": "2021-07-26T18:57:08.834Z"
   },
   {
    "duration": 101,
    "start_time": "2021-07-26T18:57:08.939Z"
   },
   {
    "duration": 48,
    "start_time": "2021-07-26T18:57:09.042Z"
   },
   {
    "duration": 105,
    "start_time": "2021-07-26T18:57:09.092Z"
   },
   {
    "duration": 400,
    "start_time": "2021-07-27T20:29:30.341Z"
   },
   {
    "duration": 27877,
    "start_time": "2021-07-27T20:29:41.200Z"
   },
   {
    "duration": 1642,
    "start_time": "2021-07-27T20:30:09.080Z"
   },
   {
    "duration": 165,
    "start_time": "2021-07-27T20:30:10.726Z"
   },
   {
    "duration": 6,
    "start_time": "2021-07-27T20:30:10.894Z"
   },
   {
    "duration": 136,
    "start_time": "2021-07-27T20:30:10.903Z"
   },
   {
    "duration": 107,
    "start_time": "2021-07-27T20:30:11.042Z"
   },
   {
    "duration": 16,
    "start_time": "2021-07-27T20:30:11.151Z"
   },
   {
    "duration": 20,
    "start_time": "2021-07-27T20:30:11.171Z"
   },
   {
    "duration": 190,
    "start_time": "2021-07-27T20:30:11.195Z"
   },
   {
    "duration": 85,
    "start_time": "2021-07-27T20:30:11.388Z"
   },
   {
    "duration": 23,
    "start_time": "2021-07-27T20:30:11.476Z"
   },
   {
    "duration": 41,
    "start_time": "2021-07-27T20:30:11.501Z"
   },
   {
    "duration": 8,
    "start_time": "2021-07-27T20:30:11.544Z"
   },
   {
    "duration": 304,
    "start_time": "2021-07-27T20:30:11.554Z"
   },
   {
    "duration": 6,
    "start_time": "2021-07-27T20:30:11.861Z"
   },
   {
    "duration": 964,
    "start_time": "2021-07-27T20:30:11.869Z"
   },
   {
    "duration": 23,
    "start_time": "2021-07-27T20:30:12.836Z"
   },
   {
    "duration": 781,
    "start_time": "2021-07-27T20:30:12.861Z"
   },
   {
    "duration": 54,
    "start_time": "2021-07-27T20:30:13.645Z"
   },
   {
    "duration": 51,
    "start_time": "2021-07-27T20:30:13.702Z"
   },
   {
    "duration": 63,
    "start_time": "2021-07-27T20:30:13.756Z"
   },
   {
    "duration": 103,
    "start_time": "2021-07-27T20:30:13.822Z"
   },
   {
    "duration": 5,
    "start_time": "2021-07-27T20:30:13.931Z"
   },
   {
    "duration": 18,
    "start_time": "2021-07-27T20:30:13.939Z"
   },
   {
    "duration": 802,
    "start_time": "2021-07-27T20:30:13.960Z"
   },
   {
    "duration": 21,
    "start_time": "2021-07-27T20:30:14.764Z"
   },
   {
    "duration": 34,
    "start_time": "2021-07-27T20:30:14.789Z"
   },
   {
    "duration": 65,
    "start_time": "2021-07-27T20:30:14.825Z"
   },
   {
    "duration": 134,
    "start_time": "2021-07-27T20:30:14.893Z"
   },
   {
    "duration": 116,
    "start_time": "2021-07-27T20:30:15.031Z"
   },
   {
    "duration": 7,
    "start_time": "2021-07-27T20:30:15.185Z"
   },
   {
    "duration": 57,
    "start_time": "2021-07-27T20:30:15.195Z"
   },
   {
    "duration": 5,
    "start_time": "2021-07-27T20:30:15.255Z"
   },
   {
    "duration": 26,
    "start_time": "2021-07-27T20:30:15.262Z"
   },
   {
    "duration": 10,
    "start_time": "2021-07-27T20:30:15.292Z"
   },
   {
    "duration": 12,
    "start_time": "2021-07-27T20:30:15.305Z"
   },
   {
    "duration": 9,
    "start_time": "2021-07-27T20:30:15.319Z"
   },
   {
    "duration": 10,
    "start_time": "2021-07-27T20:30:15.330Z"
   },
   {
    "duration": 93,
    "start_time": "2021-07-27T20:30:15.342Z"
   },
   {
    "duration": 5,
    "start_time": "2021-07-27T20:30:15.437Z"
   },
   {
    "duration": 9,
    "start_time": "2021-07-27T20:30:15.444Z"
   },
   {
    "duration": 32,
    "start_time": "2021-07-27T20:30:15.455Z"
   },
   {
    "duration": 9,
    "start_time": "2021-07-27T20:30:15.490Z"
   },
   {
    "duration": 13,
    "start_time": "2021-07-27T20:30:15.502Z"
   },
   {
    "duration": 12,
    "start_time": "2021-07-27T20:30:15.517Z"
   },
   {
    "duration": 16,
    "start_time": "2021-07-27T20:30:15.532Z"
   },
   {
    "duration": 45,
    "start_time": "2021-07-27T20:30:15.551Z"
   },
   {
    "duration": 14,
    "start_time": "2021-07-27T20:30:15.599Z"
   },
   {
    "duration": 44,
    "start_time": "2021-07-27T20:30:15.616Z"
   },
   {
    "duration": 30,
    "start_time": "2021-07-27T20:30:15.663Z"
   },
   {
    "duration": 157,
    "start_time": "2021-07-27T20:30:15.697Z"
   },
   {
    "duration": 68,
    "start_time": "2021-07-27T20:30:15.857Z"
   },
   {
    "duration": 140,
    "start_time": "2021-07-27T20:30:15.928Z"
   },
   {
    "duration": 152,
    "start_time": "2021-07-27T20:30:16.070Z"
   },
   {
    "duration": 72,
    "start_time": "2021-07-27T20:30:16.224Z"
   },
   {
    "duration": 147,
    "start_time": "2021-07-27T20:30:16.299Z"
   },
   {
    "duration": 7,
    "start_time": "2021-07-27T20:30:38.591Z"
   },
   {
    "duration": 328,
    "start_time": "2021-07-28T06:28:52.560Z"
   },
   {
    "duration": 25045,
    "start_time": "2021-07-28T06:29:03.311Z"
   },
   {
    "duration": 1595,
    "start_time": "2021-07-28T06:29:28.360Z"
   },
   {
    "duration": 171,
    "start_time": "2021-07-28T06:29:29.957Z"
   },
   {
    "duration": 97,
    "start_time": "2021-07-28T06:29:30.131Z"
   },
   {
    "duration": -41,
    "start_time": "2021-07-28T06:29:30.274Z"
   },
   {
    "duration": -82,
    "start_time": "2021-07-28T06:29:30.316Z"
   },
   {
    "duration": -101,
    "start_time": "2021-07-28T06:29:30.337Z"
   },
   {
    "duration": -102,
    "start_time": "2021-07-28T06:29:30.339Z"
   },
   {
    "duration": -103,
    "start_time": "2021-07-28T06:29:30.342Z"
   },
   {
    "duration": -106,
    "start_time": "2021-07-28T06:29:30.346Z"
   },
   {
    "duration": -108,
    "start_time": "2021-07-28T06:29:30.350Z"
   },
   {
    "duration": -127,
    "start_time": "2021-07-28T06:29:30.370Z"
   },
   {
    "duration": -164,
    "start_time": "2021-07-28T06:29:30.408Z"
   },
   {
    "duration": -165,
    "start_time": "2021-07-28T06:29:30.411Z"
   },
   {
    "duration": -170,
    "start_time": "2021-07-28T06:29:30.417Z"
   },
   {
    "duration": -172,
    "start_time": "2021-07-28T06:29:30.420Z"
   },
   {
    "duration": -187,
    "start_time": "2021-07-28T06:29:30.437Z"
   },
   {
    "duration": -235,
    "start_time": "2021-07-28T06:29:30.486Z"
   },
   {
    "duration": -279,
    "start_time": "2021-07-28T06:29:30.532Z"
   },
   {
    "duration": -280,
    "start_time": "2021-07-28T06:29:30.535Z"
   },
   {
    "duration": -281,
    "start_time": "2021-07-28T06:29:30.537Z"
   },
   {
    "duration": -332,
    "start_time": "2021-07-28T06:29:30.590Z"
   },
   {
    "duration": -333,
    "start_time": "2021-07-28T06:29:30.592Z"
   },
   {
    "duration": -334,
    "start_time": "2021-07-28T06:29:30.595Z"
   },
   {
    "duration": -336,
    "start_time": "2021-07-28T06:29:30.598Z"
   },
   {
    "duration": -336,
    "start_time": "2021-07-28T06:29:30.600Z"
   },
   {
    "duration": -337,
    "start_time": "2021-07-28T06:29:30.603Z"
   },
   {
    "duration": -337,
    "start_time": "2021-07-28T06:29:30.606Z"
   },
   {
    "duration": -364,
    "start_time": "2021-07-28T06:29:30.634Z"
   },
   {
    "duration": -364,
    "start_time": "2021-07-28T06:29:30.636Z"
   },
   {
    "duration": -365,
    "start_time": "2021-07-28T06:29:30.639Z"
   },
   {
    "duration": -367,
    "start_time": "2021-07-28T06:29:30.642Z"
   },
   {
    "duration": -367,
    "start_time": "2021-07-28T06:29:30.644Z"
   },
   {
    "duration": -383,
    "start_time": "2021-07-28T06:29:30.661Z"
   },
   {
    "duration": -401,
    "start_time": "2021-07-28T06:29:30.680Z"
   },
   {
    "duration": -402,
    "start_time": "2021-07-28T06:29:30.683Z"
   },
   {
    "duration": -404,
    "start_time": "2021-07-28T06:29:30.686Z"
   },
   {
    "duration": -404,
    "start_time": "2021-07-28T06:29:30.688Z"
   },
   {
    "duration": -407,
    "start_time": "2021-07-28T06:29:30.692Z"
   },
   {
    "duration": -408,
    "start_time": "2021-07-28T06:29:30.695Z"
   },
   {
    "duration": -409,
    "start_time": "2021-07-28T06:29:30.697Z"
   },
   {
    "duration": -413,
    "start_time": "2021-07-28T06:29:30.703Z"
   },
   {
    "duration": -415,
    "start_time": "2021-07-28T06:29:30.706Z"
   },
   {
    "duration": -416,
    "start_time": "2021-07-28T06:29:30.709Z"
   },
   {
    "duration": -467,
    "start_time": "2021-07-28T06:29:30.761Z"
   },
   {
    "duration": -431,
    "start_time": "2021-07-28T06:29:30.785Z"
   },
   {
    "duration": -432,
    "start_time": "2021-07-28T06:29:30.788Z"
   },
   {
    "duration": -433,
    "start_time": "2021-07-28T06:29:30.790Z"
   },
   {
    "duration": -434,
    "start_time": "2021-07-28T06:29:30.793Z"
   },
   {
    "duration": -436,
    "start_time": "2021-07-28T06:29:30.796Z"
   },
   {
    "duration": -436,
    "start_time": "2021-07-28T06:29:30.798Z"
   },
   {
    "duration": -447,
    "start_time": "2021-07-28T06:29:30.810Z"
   },
   {
    "duration": -470,
    "start_time": "2021-07-28T06:29:30.834Z"
   },
   {
    "duration": -471,
    "start_time": "2021-07-28T06:29:30.837Z"
   },
   {
    "duration": -472,
    "start_time": "2021-07-28T06:29:30.839Z"
   },
   {
    "duration": -473,
    "start_time": "2021-07-28T06:29:30.841Z"
   },
   {
    "duration": -474,
    "start_time": "2021-07-28T06:29:30.844Z"
   },
   {
    "duration": 430,
    "start_time": "2021-07-28T06:30:21.651Z"
   },
   {
    "duration": 7,
    "start_time": "2021-07-28T06:30:32.262Z"
   },
   {
    "duration": 326,
    "start_time": "2021-07-28T06:30:42.187Z"
   },
   {
    "duration": 6,
    "start_time": "2021-07-28T06:30:53.441Z"
   },
   {
    "duration": 8,
    "start_time": "2021-07-28T06:34:43.924Z"
   },
   {
    "duration": 114,
    "start_time": "2021-07-28T06:34:58.141Z"
   },
   {
    "duration": 7,
    "start_time": "2021-07-28T06:35:37.091Z"
   },
   {
    "duration": 7,
    "start_time": "2021-07-28T06:35:41.260Z"
   },
   {
    "duration": 102,
    "start_time": "2021-07-28T06:35:42.840Z"
   },
   {
    "duration": 131,
    "start_time": "2021-07-28T06:37:04.241Z"
   },
   {
    "duration": 7,
    "start_time": "2021-07-28T06:39:35.713Z"
   },
   {
    "duration": 107,
    "start_time": "2021-07-28T06:39:40.864Z"
   },
   {
    "duration": 7,
    "start_time": "2021-07-28T06:43:22.606Z"
   },
   {
    "duration": 140,
    "start_time": "2021-07-28T06:43:24.425Z"
   },
   {
    "duration": 8,
    "start_time": "2021-07-28T06:43:44.082Z"
   },
   {
    "duration": 114,
    "start_time": "2021-07-28T06:43:45.644Z"
   },
   {
    "duration": 8,
    "start_time": "2021-07-28T06:50:39.026Z"
   },
   {
    "duration": 105,
    "start_time": "2021-07-28T06:50:42.192Z"
   },
   {
    "duration": 89,
    "start_time": "2021-07-28T06:50:54.044Z"
   },
   {
    "duration": 103,
    "start_time": "2021-07-28T06:53:00.264Z"
   },
   {
    "duration": 18,
    "start_time": "2021-07-28T06:54:28.344Z"
   },
   {
    "duration": 13,
    "start_time": "2021-07-28T06:54:29.504Z"
   },
   {
    "duration": 159,
    "start_time": "2021-07-28T06:54:30.256Z"
   },
   {
    "duration": 89,
    "start_time": "2021-07-28T06:54:31.304Z"
   },
   {
    "duration": 14,
    "start_time": "2021-07-28T06:54:31.856Z"
   },
   {
    "duration": 34,
    "start_time": "2021-07-28T06:54:41.584Z"
   },
   {
    "duration": 8,
    "start_time": "2021-07-28T06:54:49.984Z"
   },
   {
    "duration": 251,
    "start_time": "2021-07-28T06:54:51.164Z"
   },
   {
    "duration": 6466,
    "start_time": "2021-07-28T07:04:45.288Z"
   },
   {
    "duration": 1538,
    "start_time": "2021-07-28T07:04:51.757Z"
   },
   {
    "duration": 159,
    "start_time": "2021-07-28T07:04:53.299Z"
   },
   {
    "duration": 8,
    "start_time": "2021-07-28T07:04:53.461Z"
   },
   {
    "duration": 132,
    "start_time": "2021-07-28T07:04:53.471Z"
   },
   {
    "duration": 95,
    "start_time": "2021-07-28T07:04:53.606Z"
   },
   {
    "duration": 16,
    "start_time": "2021-07-28T07:04:53.703Z"
   },
   {
    "duration": 9,
    "start_time": "2021-07-28T07:04:53.722Z"
   },
   {
    "duration": 182,
    "start_time": "2021-07-28T07:04:53.735Z"
   },
   {
    "duration": 96,
    "start_time": "2021-07-28T07:04:53.920Z"
   },
   {
    "duration": 14,
    "start_time": "2021-07-28T07:04:54.019Z"
   },
   {
    "duration": 57,
    "start_time": "2021-07-28T07:04:54.035Z"
   },
   {
    "duration": 9,
    "start_time": "2021-07-28T07:04:54.094Z"
   },
   {
    "duration": 350,
    "start_time": "2021-07-28T07:04:54.105Z"
   },
   {
    "duration": 5,
    "start_time": "2021-07-28T07:04:54.458Z"
   },
   {
    "duration": 863,
    "start_time": "2021-07-28T07:04:54.466Z"
   },
   {
    "duration": 33,
    "start_time": "2021-07-28T07:04:55.331Z"
   },
   {
    "duration": 778,
    "start_time": "2021-07-28T07:04:55.367Z"
   },
   {
    "duration": 32,
    "start_time": "2021-07-28T07:04:56.154Z"
   },
   {
    "duration": 66,
    "start_time": "2021-07-28T07:04:56.189Z"
   },
   {
    "duration": 36,
    "start_time": "2021-07-28T07:04:56.258Z"
   },
   {
    "duration": 91,
    "start_time": "2021-07-28T07:04:56.297Z"
   },
   {
    "duration": 5,
    "start_time": "2021-07-28T07:04:56.391Z"
   },
   {
    "duration": 29,
    "start_time": "2021-07-28T07:04:56.398Z"
   },
   {
    "duration": 664,
    "start_time": "2021-07-28T07:04:56.429Z"
   },
   {
    "duration": 6,
    "start_time": "2021-07-28T07:04:57.096Z"
   },
   {
    "duration": 60,
    "start_time": "2021-07-28T07:04:57.107Z"
   },
   {
    "duration": 22,
    "start_time": "2021-07-28T07:04:57.170Z"
   },
   {
    "duration": 96,
    "start_time": "2021-07-28T07:04:57.194Z"
   },
   {
    "duration": 95,
    "start_time": "2021-07-28T07:04:57.292Z"
   },
   {
    "duration": 6,
    "start_time": "2021-07-28T07:04:57.390Z"
   },
   {
    "duration": 96,
    "start_time": "2021-07-28T07:04:57.399Z"
   },
   {
    "duration": 5,
    "start_time": "2021-07-28T07:04:57.497Z"
   },
   {
    "duration": 11,
    "start_time": "2021-07-28T07:04:57.505Z"
   },
   {
    "duration": 10,
    "start_time": "2021-07-28T07:04:57.518Z"
   },
   {
    "duration": 29,
    "start_time": "2021-07-28T07:04:57.530Z"
   },
   {
    "duration": 13,
    "start_time": "2021-07-28T07:04:57.562Z"
   },
   {
    "duration": 13,
    "start_time": "2021-07-28T07:04:57.578Z"
   },
   {
    "duration": 67,
    "start_time": "2021-07-28T07:04:57.593Z"
   },
   {
    "duration": 5,
    "start_time": "2021-07-28T07:04:57.663Z"
   },
   {
    "duration": 10,
    "start_time": "2021-07-28T07:04:57.670Z"
   },
   {
    "duration": 8,
    "start_time": "2021-07-28T07:04:57.683Z"
   },
   {
    "duration": 13,
    "start_time": "2021-07-28T07:04:57.694Z"
   },
   {
    "duration": 14,
    "start_time": "2021-07-28T07:04:57.709Z"
   },
   {
    "duration": 33,
    "start_time": "2021-07-28T07:04:57.725Z"
   },
   {
    "duration": 18,
    "start_time": "2021-07-28T07:04:57.760Z"
   },
   {
    "duration": 24,
    "start_time": "2021-07-28T07:04:57.780Z"
   },
   {
    "duration": 8,
    "start_time": "2021-07-28T07:04:57.807Z"
   },
   {
    "duration": 65,
    "start_time": "2021-07-28T07:04:57.817Z"
   },
   {
    "duration": 7,
    "start_time": "2021-07-28T07:04:57.885Z"
   },
   {
    "duration": 145,
    "start_time": "2021-07-28T07:04:57.895Z"
   },
   {
    "duration": 56,
    "start_time": "2021-07-28T07:04:58.043Z"
   },
   {
    "duration": 142,
    "start_time": "2021-07-28T07:04:58.102Z"
   },
   {
    "duration": 137,
    "start_time": "2021-07-28T07:04:58.255Z"
   },
   {
    "duration": 61,
    "start_time": "2021-07-28T07:04:58.394Z"
   },
   {
    "duration": 149,
    "start_time": "2021-07-28T07:04:58.458Z"
   },
   {
    "duration": 8,
    "start_time": "2021-07-28T07:09:43.988Z"
   },
   {
    "duration": 131,
    "start_time": "2021-07-28T07:09:45.067Z"
   },
   {
    "duration": 129,
    "start_time": "2021-07-28T07:12:37.068Z"
   },
   {
    "duration": 35,
    "start_time": "2021-07-28T07:12:52.796Z"
   },
   {
    "duration": 36,
    "start_time": "2021-07-28T07:14:11.993Z"
   },
   {
    "duration": 35,
    "start_time": "2021-07-28T07:16:51.568Z"
   },
   {
    "duration": 477,
    "start_time": "2021-07-28T07:18:22.936Z"
   },
   {
    "duration": 40,
    "start_time": "2021-07-28T07:21:00.728Z"
   },
   {
    "duration": 42,
    "start_time": "2021-07-28T07:21:39.028Z"
   },
   {
    "duration": 36,
    "start_time": "2021-07-28T07:22:02.196Z"
   },
   {
    "duration": 36,
    "start_time": "2021-07-28T07:22:21.769Z"
   },
   {
    "duration": 35,
    "start_time": "2021-07-28T07:22:52.508Z"
   },
   {
    "duration": 35,
    "start_time": "2021-07-28T07:23:10.930Z"
   },
   {
    "duration": 104,
    "start_time": "2021-07-28T07:28:38.069Z"
   },
   {
    "duration": 48,
    "start_time": "2021-07-28T07:28:54.868Z"
   },
   {
    "duration": 46,
    "start_time": "2021-07-28T07:29:04.008Z"
   },
   {
    "duration": 45,
    "start_time": "2021-07-28T07:29:12.748Z"
   },
   {
    "duration": 317,
    "start_time": "2021-07-28T07:30:06.608Z"
   },
   {
    "duration": 49,
    "start_time": "2021-07-28T07:30:13.428Z"
   },
   {
    "duration": 100,
    "start_time": "2021-07-28T07:50:00.884Z"
   },
   {
    "duration": 318,
    "start_time": "2021-07-28T08:00:00.729Z"
   },
   {
    "duration": 91,
    "start_time": "2021-07-28T08:00:10.586Z"
   },
   {
    "duration": 87,
    "start_time": "2021-07-28T08:09:07.909Z"
   },
   {
    "duration": 353,
    "start_time": "2021-07-28T08:09:27.677Z"
   },
   {
    "duration": 94,
    "start_time": "2021-07-28T08:10:22.429Z"
   },
   {
    "duration": 343,
    "start_time": "2021-07-28T08:12:59.989Z"
   },
   {
    "duration": 347,
    "start_time": "2021-07-28T08:13:12.471Z"
   },
   {
    "duration": 107,
    "start_time": "2021-07-28T08:15:14.309Z"
   },
   {
    "duration": 95,
    "start_time": "2021-07-28T08:16:30.712Z"
   },
   {
    "duration": 93,
    "start_time": "2021-07-28T08:16:40.310Z"
   },
   {
    "duration": 101,
    "start_time": "2021-07-28T08:21:07.857Z"
   },
   {
    "duration": 91,
    "start_time": "2021-07-28T08:21:37.569Z"
   },
   {
    "duration": 92,
    "start_time": "2021-07-28T08:30:41.968Z"
   },
   {
    "duration": 175,
    "start_time": "2021-07-28T08:30:50.798Z"
   },
   {
    "duration": 130,
    "start_time": "2021-07-28T08:40:16.596Z"
   },
   {
    "duration": 372,
    "start_time": "2021-07-28T08:40:28.636Z"
   },
   {
    "duration": 359,
    "start_time": "2021-07-28T08:42:05.468Z"
   },
   {
    "duration": 343,
    "start_time": "2021-07-28T08:42:23.328Z"
   },
   {
    "duration": 359,
    "start_time": "2021-07-28T08:42:47.318Z"
   },
   {
    "duration": 91,
    "start_time": "2021-07-28T08:43:11.249Z"
   },
   {
    "duration": 102,
    "start_time": "2021-07-28T08:44:15.656Z"
   },
   {
    "duration": 95,
    "start_time": "2021-07-28T08:44:40.888Z"
   },
   {
    "duration": 106,
    "start_time": "2021-07-28T08:45:00.569Z"
   },
   {
    "duration": 347,
    "start_time": "2021-07-28T08:52:14.128Z"
   },
   {
    "duration": 346,
    "start_time": "2021-07-28T08:52:41.808Z"
   },
   {
    "duration": 107,
    "start_time": "2021-07-28T08:52:58.547Z"
   },
   {
    "duration": 100,
    "start_time": "2021-07-28T08:53:40.269Z"
   },
   {
    "duration": 94,
    "start_time": "2021-07-28T08:54:44.068Z"
   },
   {
    "duration": 99,
    "start_time": "2021-07-28T08:56:45.228Z"
   },
   {
    "duration": 95,
    "start_time": "2021-07-28T08:57:22.148Z"
   },
   {
    "duration": 101,
    "start_time": "2021-07-28T08:57:30.628Z"
   },
   {
    "duration": 101,
    "start_time": "2021-07-28T08:57:46.476Z"
   },
   {
    "duration": 97,
    "start_time": "2021-07-28T08:58:03.069Z"
   },
   {
    "duration": 96,
    "start_time": "2021-07-28T08:58:15.816Z"
   },
   {
    "duration": 97,
    "start_time": "2021-07-28T08:58:28.488Z"
   },
   {
    "duration": 95,
    "start_time": "2021-07-28T08:58:37.277Z"
   },
   {
    "duration": 97,
    "start_time": "2021-07-28T08:58:43.776Z"
   },
   {
    "duration": 93,
    "start_time": "2021-07-28T08:58:56.716Z"
   },
   {
    "duration": 97,
    "start_time": "2021-07-28T08:59:02.595Z"
   },
   {
    "duration": 101,
    "start_time": "2021-07-28T08:59:10.757Z"
   },
   {
    "duration": 92,
    "start_time": "2021-07-28T08:59:26.308Z"
   },
   {
    "duration": 100,
    "start_time": "2021-07-28T09:00:11.268Z"
   },
   {
    "duration": 94,
    "start_time": "2021-07-28T09:02:12.508Z"
   },
   {
    "duration": 98,
    "start_time": "2021-07-28T09:10:15.890Z"
   },
   {
    "duration": 92,
    "start_time": "2021-07-28T09:10:54.261Z"
   },
   {
    "duration": 361,
    "start_time": "2021-07-28T09:11:05.649Z"
   },
   {
    "duration": 105,
    "start_time": "2021-07-28T09:11:27.409Z"
   },
   {
    "duration": 111,
    "start_time": "2021-07-28T09:17:11.648Z"
   },
   {
    "duration": 140,
    "start_time": "2021-07-28T09:18:00.876Z"
   },
   {
    "duration": 96,
    "start_time": "2021-07-28T09:21:25.072Z"
   },
   {
    "duration": 98,
    "start_time": "2021-07-28T09:21:36.709Z"
   },
   {
    "duration": 99,
    "start_time": "2021-07-28T09:22:18.609Z"
   },
   {
    "duration": 452,
    "start_time": "2021-07-28T09:23:07.570Z"
   },
   {
    "duration": 100,
    "start_time": "2021-07-28T09:23:34.571Z"
   },
   {
    "duration": 117,
    "start_time": "2021-07-28T09:24:14.450Z"
   },
   {
    "duration": 100,
    "start_time": "2021-07-28T09:25:20.476Z"
   },
   {
    "duration": 100,
    "start_time": "2021-07-28T09:26:01.029Z"
   },
   {
    "duration": 97,
    "start_time": "2021-07-28T09:26:09.230Z"
   },
   {
    "duration": 100,
    "start_time": "2021-07-28T09:26:25.909Z"
   },
   {
    "duration": 111,
    "start_time": "2021-07-28T09:27:32.936Z"
   },
   {
    "duration": 100,
    "start_time": "2021-07-28T09:27:40.230Z"
   },
   {
    "duration": 102,
    "start_time": "2021-07-28T09:27:53.269Z"
   },
   {
    "duration": 200,
    "start_time": "2021-07-28T09:28:01.509Z"
   },
   {
    "duration": 98,
    "start_time": "2021-07-28T09:28:22.068Z"
   },
   {
    "duration": 98,
    "start_time": "2021-07-28T09:28:36.974Z"
   },
   {
    "duration": 98,
    "start_time": "2021-07-28T09:29:13.089Z"
   },
   {
    "duration": 98,
    "start_time": "2021-07-28T09:29:20.630Z"
   },
   {
    "duration": 100,
    "start_time": "2021-07-28T09:29:40.330Z"
   },
   {
    "duration": 98,
    "start_time": "2021-07-28T09:29:51.809Z"
   },
   {
    "duration": 100,
    "start_time": "2021-07-28T09:30:35.217Z"
   },
   {
    "duration": 99,
    "start_time": "2021-07-28T09:30:46.197Z"
   },
   {
    "duration": 111,
    "start_time": "2021-07-28T09:31:12.856Z"
   },
   {
    "duration": 112,
    "start_time": "2021-07-28T09:31:23.157Z"
   },
   {
    "duration": 99,
    "start_time": "2021-07-28T09:31:29.797Z"
   },
   {
    "duration": 103,
    "start_time": "2021-07-28T09:31:38.229Z"
   },
   {
    "duration": 104,
    "start_time": "2021-07-28T09:31:51.110Z"
   },
   {
    "duration": 664,
    "start_time": "2021-07-28T09:35:16.937Z"
   },
   {
    "duration": 114,
    "start_time": "2021-07-28T09:36:08.197Z"
   },
   {
    "duration": 107,
    "start_time": "2021-07-28T09:36:48.356Z"
   },
   {
    "duration": 98,
    "start_time": "2021-07-28T09:37:27.209Z"
   },
   {
    "duration": 100,
    "start_time": "2021-07-28T09:37:46.097Z"
   },
   {
    "duration": 102,
    "start_time": "2021-07-28T09:38:13.518Z"
   },
   {
    "duration": 102,
    "start_time": "2021-07-28T09:38:28.077Z"
   },
   {
    "duration": 111,
    "start_time": "2021-07-28T09:38:43.957Z"
   },
   {
    "duration": 99,
    "start_time": "2021-07-28T09:38:52.037Z"
   },
   {
    "duration": 98,
    "start_time": "2021-07-28T09:38:58.690Z"
   },
   {
    "duration": 99,
    "start_time": "2021-07-28T09:39:08.430Z"
   },
   {
    "duration": 101,
    "start_time": "2021-07-28T09:39:23.438Z"
   },
   {
    "duration": 120,
    "start_time": "2021-07-28T09:39:42.750Z"
   },
   {
    "duration": 109,
    "start_time": "2021-07-28T09:39:48.854Z"
   },
   {
    "duration": 105,
    "start_time": "2021-07-28T09:41:57.989Z"
   },
   {
    "duration": 104,
    "start_time": "2021-07-28T09:42:08.977Z"
   },
   {
    "duration": 168,
    "start_time": "2021-07-28T09:42:14.549Z"
   },
   {
    "duration": 109,
    "start_time": "2021-07-28T09:46:00.830Z"
   },
   {
    "duration": 102,
    "start_time": "2021-07-28T09:46:56.099Z"
   },
   {
    "duration": 131,
    "start_time": "2021-07-28T09:47:05.991Z"
   },
   {
    "duration": 102,
    "start_time": "2021-07-28T09:47:17.378Z"
   },
   {
    "duration": 104,
    "start_time": "2021-07-28T09:47:24.611Z"
   },
   {
    "duration": 213,
    "start_time": "2021-07-28T09:47:31.710Z"
   },
   {
    "duration": 107,
    "start_time": "2021-07-28T09:48:00.678Z"
   },
   {
    "duration": 110,
    "start_time": "2021-07-28T09:48:41.758Z"
   },
   {
    "duration": 105,
    "start_time": "2021-07-28T09:49:12.510Z"
   },
   {
    "duration": 107,
    "start_time": "2021-07-28T09:49:47.897Z"
   },
   {
    "duration": 106,
    "start_time": "2021-07-28T09:50:08.238Z"
   },
   {
    "duration": 104,
    "start_time": "2021-07-28T09:51:27.344Z"
   },
   {
    "duration": 105,
    "start_time": "2021-07-28T09:51:53.797Z"
   },
   {
    "duration": 113,
    "start_time": "2021-07-28T09:52:28.456Z"
   },
   {
    "duration": 116,
    "start_time": "2021-07-28T09:55:28.038Z"
   },
   {
    "duration": 182,
    "start_time": "2021-07-28T09:58:09.879Z"
   },
   {
    "duration": 298,
    "start_time": "2021-07-28T10:03:56.148Z"
   },
   {
    "duration": 15,
    "start_time": "2021-07-28T10:04:36.807Z"
   },
   {
    "duration": 289,
    "start_time": "2021-07-28T10:06:16.308Z"
   },
   {
    "duration": 19,
    "start_time": "2021-07-28T10:07:42.828Z"
   },
   {
    "duration": 19,
    "start_time": "2021-07-28T10:08:33.740Z"
   },
   {
    "duration": 324,
    "start_time": "2021-07-28T10:15:29.068Z"
   },
   {
    "duration": 14,
    "start_time": "2021-07-28T10:15:53.427Z"
   },
   {
    "duration": 19,
    "start_time": "2021-07-28T10:17:44.467Z"
   },
   {
    "duration": 23,
    "start_time": "2021-07-28T10:18:44.107Z"
   },
   {
    "duration": 18,
    "start_time": "2021-07-28T10:18:58.068Z"
   },
   {
    "duration": 18,
    "start_time": "2021-07-28T10:25:23.036Z"
   },
   {
    "duration": 42,
    "start_time": "2021-07-28T10:25:48.949Z"
   },
   {
    "duration": 285,
    "start_time": "2021-07-28T10:25:58.036Z"
   },
   {
    "duration": 296,
    "start_time": "2021-07-28T10:26:22.309Z"
   },
   {
    "duration": 283,
    "start_time": "2021-07-28T10:27:03.755Z"
   },
   {
    "duration": 276,
    "start_time": "2021-07-28T10:27:14.689Z"
   },
   {
    "duration": 92,
    "start_time": "2021-07-28T10:27:24.756Z"
   },
   {
    "duration": 28,
    "start_time": "2021-07-28T10:27:34.867Z"
   },
   {
    "duration": 22,
    "start_time": "2021-07-28T10:28:02.484Z"
   },
   {
    "duration": 29,
    "start_time": "2021-07-28T10:28:16.596Z"
   },
   {
    "duration": 31,
    "start_time": "2021-07-28T10:48:02.589Z"
   },
   {
    "duration": 18,
    "start_time": "2021-07-28T10:49:59.248Z"
   },
   {
    "duration": 18,
    "start_time": "2021-07-28T10:50:41.884Z"
   },
   {
    "duration": 328,
    "start_time": "2021-07-28T10:55:01.684Z"
   },
   {
    "duration": 293,
    "start_time": "2021-07-28T10:55:11.995Z"
   },
   {
    "duration": 669,
    "start_time": "2021-07-28T10:55:24.415Z"
   },
   {
    "duration": 281,
    "start_time": "2021-07-28T10:55:30.715Z"
   },
   {
    "duration": 19,
    "start_time": "2021-07-28T10:55:38.187Z"
   },
   {
    "duration": 19,
    "start_time": "2021-07-28T10:56:19.308Z"
   },
   {
    "duration": 84,
    "start_time": "2021-07-28T10:57:18.648Z"
   },
   {
    "duration": 19,
    "start_time": "2021-07-28T10:57:51.197Z"
   },
   {
    "duration": 19,
    "start_time": "2021-07-28T11:00:13.904Z"
   },
   {
    "duration": 17,
    "start_time": "2021-07-28T11:00:43.927Z"
   },
   {
    "duration": 276,
    "start_time": "2021-07-28T11:01:37.148Z"
   },
   {
    "duration": 337,
    "start_time": "2021-07-28T11:01:58.408Z"
   },
   {
    "duration": 6694,
    "start_time": "2021-07-28T11:02:11.424Z"
   },
   {
    "duration": 1617,
    "start_time": "2021-07-28T11:02:18.121Z"
   },
   {
    "duration": 162,
    "start_time": "2021-07-28T11:02:19.741Z"
   },
   {
    "duration": 8,
    "start_time": "2021-07-28T11:02:19.906Z"
   },
   {
    "duration": 145,
    "start_time": "2021-07-28T11:02:19.916Z"
   },
   {
    "duration": 104,
    "start_time": "2021-07-28T11:02:20.064Z"
   },
   {
    "duration": 16,
    "start_time": "2021-07-28T11:02:20.171Z"
   },
   {
    "duration": 23,
    "start_time": "2021-07-28T11:02:20.190Z"
   },
   {
    "duration": 172,
    "start_time": "2021-07-28T11:02:20.217Z"
   },
   {
    "duration": 101,
    "start_time": "2021-07-28T11:02:20.393Z"
   },
   {
    "duration": 14,
    "start_time": "2021-07-28T11:02:20.497Z"
   },
   {
    "duration": 57,
    "start_time": "2021-07-28T11:02:20.513Z"
   },
   {
    "duration": 10,
    "start_time": "2021-07-28T11:02:20.573Z"
   },
   {
    "duration": 274,
    "start_time": "2021-07-28T11:02:20.585Z"
   },
   {
    "duration": 7,
    "start_time": "2021-07-28T11:02:20.861Z"
   },
   {
    "duration": 878,
    "start_time": "2021-07-28T11:02:20.871Z"
   },
   {
    "duration": 23,
    "start_time": "2021-07-28T11:02:21.754Z"
   },
   {
    "duration": 689,
    "start_time": "2021-07-28T11:02:21.780Z"
   },
   {
    "duration": 47,
    "start_time": "2021-07-28T11:02:22.472Z"
   },
   {
    "duration": 71,
    "start_time": "2021-07-28T11:02:22.521Z"
   },
   {
    "duration": 37,
    "start_time": "2021-07-28T11:02:22.594Z"
   },
   {
    "duration": 88,
    "start_time": "2021-07-28T11:02:22.634Z"
   },
   {
    "duration": 6,
    "start_time": "2021-07-28T11:02:22.725Z"
   },
   {
    "duration": 22,
    "start_time": "2021-07-28T11:02:22.754Z"
   },
   {
    "duration": 696,
    "start_time": "2021-07-28T11:02:22.778Z"
   },
   {
    "duration": 22,
    "start_time": "2021-07-28T11:02:23.477Z"
   },
   {
    "duration": 53,
    "start_time": "2021-07-28T11:02:23.505Z"
   },
   {
    "duration": 23,
    "start_time": "2021-07-28T11:02:23.561Z"
   },
   {
    "duration": 13,
    "start_time": "2021-07-28T11:02:23.586Z"
   },
   {
    "duration": 157,
    "start_time": "2021-07-28T11:02:23.602Z"
   },
   {
    "duration": 56,
    "start_time": "2021-07-28T11:02:23.762Z"
   },
   {
    "duration": 5,
    "start_time": "2021-07-28T11:02:23.856Z"
   },
   {
    "duration": 55,
    "start_time": "2021-07-28T11:02:23.864Z"
   },
   {
    "duration": 5,
    "start_time": "2021-07-28T11:02:23.922Z"
   },
   {
    "duration": 30,
    "start_time": "2021-07-28T11:02:23.929Z"
   },
   {
    "duration": 22,
    "start_time": "2021-07-28T11:02:23.962Z"
   },
   {
    "duration": 12,
    "start_time": "2021-07-28T11:02:23.986Z"
   },
   {
    "duration": 12,
    "start_time": "2021-07-28T11:02:24.001Z"
   },
   {
    "duration": 12,
    "start_time": "2021-07-28T11:02:24.015Z"
   },
   {
    "duration": 100,
    "start_time": "2021-07-28T11:02:24.030Z"
   },
   {
    "duration": 7,
    "start_time": "2021-07-28T11:02:24.134Z"
   },
   {
    "duration": 7,
    "start_time": "2021-07-28T11:02:24.156Z"
   },
   {
    "duration": 9,
    "start_time": "2021-07-28T11:02:24.166Z"
   },
   {
    "duration": 22,
    "start_time": "2021-07-28T11:02:24.178Z"
   },
   {
    "duration": 10,
    "start_time": "2021-07-28T11:02:24.204Z"
   },
   {
    "duration": 45,
    "start_time": "2021-07-28T11:02:24.217Z"
   },
   {
    "duration": 25,
    "start_time": "2021-07-28T11:02:24.265Z"
   },
   {
    "duration": 23,
    "start_time": "2021-07-28T11:02:24.293Z"
   },
   {
    "duration": 20,
    "start_time": "2021-07-28T11:02:24.319Z"
   },
   {
    "duration": 66,
    "start_time": "2021-07-28T11:02:24.341Z"
   },
   {
    "duration": 10,
    "start_time": "2021-07-28T11:02:24.410Z"
   },
   {
    "duration": 157,
    "start_time": "2021-07-28T11:02:24.423Z"
   },
   {
    "duration": 53,
    "start_time": "2021-07-28T11:02:24.582Z"
   },
   {
    "duration": 159,
    "start_time": "2021-07-28T11:02:24.638Z"
   },
   {
    "duration": 200,
    "start_time": "2021-07-28T11:02:24.799Z"
   },
   {
    "duration": 88,
    "start_time": "2021-07-28T11:02:25.002Z"
   },
   {
    "duration": 212,
    "start_time": "2021-07-28T11:02:25.093Z"
   },
   {
    "duration": 88,
    "start_time": "2021-07-28T11:03:53.151Z"
   },
   {
    "duration": 5,
    "start_time": "2021-07-28T11:43:31.544Z"
   },
   {
    "duration": 9,
    "start_time": "2021-07-28T11:44:02.933Z"
   },
   {
    "duration": 6597,
    "start_time": "2021-07-28T11:44:12.750Z"
   },
   {
    "duration": 1583,
    "start_time": "2021-07-28T11:44:19.351Z"
   },
   {
    "duration": 168,
    "start_time": "2021-07-28T11:44:20.937Z"
   },
   {
    "duration": 8,
    "start_time": "2021-07-28T11:44:21.108Z"
   },
   {
    "duration": 135,
    "start_time": "2021-07-28T11:44:21.119Z"
   },
   {
    "duration": 109,
    "start_time": "2021-07-28T11:44:21.257Z"
   },
   {
    "duration": 17,
    "start_time": "2021-07-28T11:44:21.368Z"
   },
   {
    "duration": 10,
    "start_time": "2021-07-28T11:44:21.387Z"
   },
   {
    "duration": 184,
    "start_time": "2021-07-28T11:44:21.403Z"
   },
   {
    "duration": 94,
    "start_time": "2021-07-28T11:44:21.590Z"
   },
   {
    "duration": 14,
    "start_time": "2021-07-28T11:44:21.686Z"
   },
   {
    "duration": 57,
    "start_time": "2021-07-28T11:44:21.702Z"
   },
   {
    "duration": 9,
    "start_time": "2021-07-28T11:44:21.762Z"
   },
   {
    "duration": 265,
    "start_time": "2021-07-28T11:44:21.774Z"
   },
   {
    "duration": 17,
    "start_time": "2021-07-28T11:44:22.041Z"
   },
   {
    "duration": 869,
    "start_time": "2021-07-28T11:44:22.060Z"
   },
   {
    "duration": 31,
    "start_time": "2021-07-28T11:44:22.932Z"
   },
   {
    "duration": 671,
    "start_time": "2021-07-28T11:44:22.965Z"
   },
   {
    "duration": 55,
    "start_time": "2021-07-28T11:44:23.639Z"
   },
   {
    "duration": 63,
    "start_time": "2021-07-28T11:44:23.697Z"
   },
   {
    "duration": 38,
    "start_time": "2021-07-28T11:44:23.763Z"
   },
   {
    "duration": 90,
    "start_time": "2021-07-28T11:44:23.803Z"
   },
   {
    "duration": 6,
    "start_time": "2021-07-28T11:44:23.895Z"
   },
   {
    "duration": 18,
    "start_time": "2021-07-28T11:44:23.904Z"
   },
   {
    "duration": 721,
    "start_time": "2021-07-28T11:44:23.924Z"
   },
   {
    "duration": 20,
    "start_time": "2021-07-28T11:44:24.647Z"
   },
   {
    "duration": 6,
    "start_time": "2021-07-28T11:44:24.673Z"
   },
   {
    "duration": 74,
    "start_time": "2021-07-28T11:44:24.682Z"
   },
   {
    "duration": 20,
    "start_time": "2021-07-28T11:44:24.759Z"
   },
   {
    "duration": 118,
    "start_time": "2021-07-28T11:44:24.782Z"
   },
   {
    "duration": 87,
    "start_time": "2021-07-28T11:44:24.903Z"
   },
   {
    "duration": 5,
    "start_time": "2021-07-28T11:44:24.993Z"
   },
   {
    "duration": 78,
    "start_time": "2021-07-28T11:44:25.001Z"
   },
   {
    "duration": 6,
    "start_time": "2021-07-28T11:44:25.081Z"
   },
   {
    "duration": 30,
    "start_time": "2021-07-28T11:44:25.089Z"
   },
   {
    "duration": 36,
    "start_time": "2021-07-28T11:44:25.122Z"
   },
   {
    "duration": 17,
    "start_time": "2021-07-28T11:44:25.161Z"
   },
   {
    "duration": 15,
    "start_time": "2021-07-28T11:44:25.180Z"
   },
   {
    "duration": 25,
    "start_time": "2021-07-28T11:44:25.198Z"
   },
   {
    "duration": 66,
    "start_time": "2021-07-28T11:44:25.225Z"
   },
   {
    "duration": 6,
    "start_time": "2021-07-28T11:44:25.293Z"
   },
   {
    "duration": 9,
    "start_time": "2021-07-28T11:44:25.301Z"
   },
   {
    "duration": 14,
    "start_time": "2021-07-28T11:44:25.312Z"
   },
   {
    "duration": 28,
    "start_time": "2021-07-28T11:44:25.329Z"
   },
   {
    "duration": 10,
    "start_time": "2021-07-28T11:44:25.360Z"
   },
   {
    "duration": 10,
    "start_time": "2021-07-28T11:44:25.373Z"
   },
   {
    "duration": 20,
    "start_time": "2021-07-28T11:44:25.386Z"
   },
   {
    "duration": 29,
    "start_time": "2021-07-28T11:44:25.409Z"
   },
   {
    "duration": 20,
    "start_time": "2021-07-28T11:44:25.440Z"
   },
   {
    "duration": 45,
    "start_time": "2021-07-28T11:44:25.462Z"
   },
   {
    "duration": 11,
    "start_time": "2021-07-28T11:44:25.510Z"
   },
   {
    "duration": 818,
    "start_time": "2021-07-28T11:44:25.524Z"
   },
   {
    "duration": -2637,
    "start_time": "2021-07-28T11:44:28.982Z"
   },
   {
    "duration": -2639,
    "start_time": "2021-07-28T11:44:28.985Z"
   },
   {
    "duration": -2639,
    "start_time": "2021-07-28T11:44:28.987Z"
   },
   {
    "duration": -2641,
    "start_time": "2021-07-28T11:44:28.990Z"
   },
   {
    "duration": -2642,
    "start_time": "2021-07-28T11:44:28.993Z"
   },
   {
    "duration": 6807,
    "start_time": "2021-07-28T11:45:25.104Z"
   },
   {
    "duration": 1529,
    "start_time": "2021-07-28T11:45:31.914Z"
   },
   {
    "duration": 169,
    "start_time": "2021-07-28T11:45:33.447Z"
   },
   {
    "duration": 8,
    "start_time": "2021-07-28T11:45:33.619Z"
   },
   {
    "duration": 131,
    "start_time": "2021-07-28T11:45:33.630Z"
   },
   {
    "duration": 103,
    "start_time": "2021-07-28T11:45:33.764Z"
   },
   {
    "duration": 16,
    "start_time": "2021-07-28T11:45:33.869Z"
   },
   {
    "duration": 9,
    "start_time": "2021-07-28T11:45:33.888Z"
   },
   {
    "duration": 186,
    "start_time": "2021-07-28T11:45:33.902Z"
   },
   {
    "duration": 98,
    "start_time": "2021-07-28T11:45:34.091Z"
   },
   {
    "duration": 14,
    "start_time": "2021-07-28T11:45:34.191Z"
   },
   {
    "duration": 55,
    "start_time": "2021-07-28T11:45:34.207Z"
   },
   {
    "duration": 9,
    "start_time": "2021-07-28T11:45:34.265Z"
   },
   {
    "duration": 283,
    "start_time": "2021-07-28T11:45:34.277Z"
   },
   {
    "duration": 7,
    "start_time": "2021-07-28T11:45:34.563Z"
   },
   {
    "duration": 905,
    "start_time": "2021-07-28T11:45:34.572Z"
   },
   {
    "duration": 22,
    "start_time": "2021-07-28T11:45:35.480Z"
   },
   {
    "duration": 713,
    "start_time": "2021-07-28T11:45:35.504Z"
   },
   {
    "duration": 64,
    "start_time": "2021-07-28T11:45:36.220Z"
   },
   {
    "duration": 69,
    "start_time": "2021-07-28T11:45:36.287Z"
   },
   {
    "duration": 40,
    "start_time": "2021-07-28T11:45:36.359Z"
   },
   {
    "duration": 90,
    "start_time": "2021-07-28T11:45:36.401Z"
   },
   {
    "duration": 6,
    "start_time": "2021-07-28T11:45:36.493Z"
   },
   {
    "duration": 18,
    "start_time": "2021-07-28T11:45:36.501Z"
   },
   {
    "duration": 703,
    "start_time": "2021-07-28T11:45:36.522Z"
   },
   {
    "duration": 33,
    "start_time": "2021-07-28T11:45:37.228Z"
   },
   {
    "duration": 7,
    "start_time": "2021-07-28T11:45:37.267Z"
   },
   {
    "duration": 84,
    "start_time": "2021-07-28T11:45:37.278Z"
   },
   {
    "duration": 29,
    "start_time": "2021-07-28T11:45:37.365Z"
   },
   {
    "duration": 118,
    "start_time": "2021-07-28T11:45:37.397Z"
   },
   {
    "duration": 48,
    "start_time": "2021-07-28T11:45:37.553Z"
   },
   {
    "duration": 5,
    "start_time": "2021-07-28T11:45:37.603Z"
   },
   {
    "duration": 77,
    "start_time": "2021-07-28T11:45:37.611Z"
   },
   {
    "duration": 5,
    "start_time": "2021-07-28T11:45:37.691Z"
   },
   {
    "duration": 35,
    "start_time": "2021-07-28T11:45:37.698Z"
   },
   {
    "duration": 32,
    "start_time": "2021-07-28T11:45:37.736Z"
   },
   {
    "duration": 27,
    "start_time": "2021-07-28T11:45:37.770Z"
   },
   {
    "duration": 17,
    "start_time": "2021-07-28T11:45:37.799Z"
   },
   {
    "duration": 18,
    "start_time": "2021-07-28T11:45:37.819Z"
   },
   {
    "duration": 63,
    "start_time": "2021-07-28T11:45:37.839Z"
   },
   {
    "duration": 5,
    "start_time": "2021-07-28T11:45:37.904Z"
   },
   {
    "duration": 38,
    "start_time": "2021-07-28T11:45:37.911Z"
   },
   {
    "duration": 15,
    "start_time": "2021-07-28T11:45:37.951Z"
   },
   {
    "duration": 34,
    "start_time": "2021-07-28T11:45:37.968Z"
   },
   {
    "duration": 25,
    "start_time": "2021-07-28T11:45:38.005Z"
   },
   {
    "duration": 43,
    "start_time": "2021-07-28T11:45:38.033Z"
   },
   {
    "duration": 36,
    "start_time": "2021-07-28T11:45:38.079Z"
   },
   {
    "duration": 38,
    "start_time": "2021-07-28T11:45:38.117Z"
   },
   {
    "duration": 20,
    "start_time": "2021-07-28T11:45:38.158Z"
   },
   {
    "duration": 57,
    "start_time": "2021-07-28T11:45:38.182Z"
   },
   {
    "duration": 9,
    "start_time": "2021-07-28T11:45:38.242Z"
   },
   {
    "duration": 935,
    "start_time": "2021-07-28T11:45:38.254Z"
   },
   {
    "duration": -2099,
    "start_time": "2021-07-28T11:45:41.291Z"
   },
   {
    "duration": -2101,
    "start_time": "2021-07-28T11:45:41.295Z"
   },
   {
    "duration": -2101,
    "start_time": "2021-07-28T11:45:41.297Z"
   },
   {
    "duration": -2102,
    "start_time": "2021-07-28T11:45:41.300Z"
   },
   {
    "duration": -2102,
    "start_time": "2021-07-28T11:45:41.302Z"
   },
   {
    "duration": 6595,
    "start_time": "2021-07-28T11:46:05.609Z"
   },
   {
    "duration": 1516,
    "start_time": "2021-07-28T11:46:12.208Z"
   },
   {
    "duration": 169,
    "start_time": "2021-07-28T11:46:13.727Z"
   },
   {
    "duration": 7,
    "start_time": "2021-07-28T11:46:13.899Z"
   },
   {
    "duration": 138,
    "start_time": "2021-07-28T11:46:13.908Z"
   },
   {
    "duration": 105,
    "start_time": "2021-07-28T11:46:14.049Z"
   },
   {
    "duration": 16,
    "start_time": "2021-07-28T11:46:14.157Z"
   },
   {
    "duration": 11,
    "start_time": "2021-07-28T11:46:14.176Z"
   },
   {
    "duration": 189,
    "start_time": "2021-07-28T11:46:14.191Z"
   },
   {
    "duration": 99,
    "start_time": "2021-07-28T11:46:14.383Z"
   },
   {
    "duration": 14,
    "start_time": "2021-07-28T11:46:14.484Z"
   },
   {
    "duration": 55,
    "start_time": "2021-07-28T11:46:14.501Z"
   },
   {
    "duration": 9,
    "start_time": "2021-07-28T11:46:14.559Z"
   },
   {
    "duration": 274,
    "start_time": "2021-07-28T11:46:14.571Z"
   },
   {
    "duration": 5,
    "start_time": "2021-07-28T11:46:14.855Z"
   },
   {
    "duration": 873,
    "start_time": "2021-07-28T11:46:14.863Z"
   },
   {
    "duration": 30,
    "start_time": "2021-07-28T11:46:15.739Z"
   },
   {
    "duration": 694,
    "start_time": "2021-07-28T11:46:15.772Z"
   },
   {
    "duration": 46,
    "start_time": "2021-07-28T11:46:16.468Z"
   },
   {
    "duration": 76,
    "start_time": "2021-07-28T11:46:16.516Z"
   },
   {
    "duration": 38,
    "start_time": "2021-07-28T11:46:16.594Z"
   },
   {
    "duration": 88,
    "start_time": "2021-07-28T11:46:16.634Z"
   },
   {
    "duration": 7,
    "start_time": "2021-07-28T11:46:16.725Z"
   },
   {
    "duration": 38,
    "start_time": "2021-07-28T11:46:16.736Z"
   },
   {
    "duration": 818,
    "start_time": "2021-07-28T11:46:16.777Z"
   },
   {
    "duration": 20,
    "start_time": "2021-07-28T11:46:17.598Z"
   },
   {
    "duration": 35,
    "start_time": "2021-07-28T11:46:17.624Z"
   },
   {
    "duration": 21,
    "start_time": "2021-07-28T11:46:17.663Z"
   },
   {
    "duration": 14,
    "start_time": "2021-07-28T11:46:17.687Z"
   },
   {
    "duration": 61,
    "start_time": "2021-07-28T11:46:17.704Z"
   },
   {
    "duration": 47,
    "start_time": "2021-07-28T11:46:17.768Z"
   },
   {
    "duration": 5,
    "start_time": "2021-07-28T11:46:17.818Z"
   },
   {
    "duration": 52,
    "start_time": "2021-07-28T11:46:17.825Z"
   },
   {
    "duration": 5,
    "start_time": "2021-07-28T11:46:17.879Z"
   },
   {
    "duration": 18,
    "start_time": "2021-07-28T11:46:17.886Z"
   },
   {
    "duration": 18,
    "start_time": "2021-07-28T11:46:17.907Z"
   },
   {
    "duration": 11,
    "start_time": "2021-07-28T11:46:17.927Z"
   },
   {
    "duration": 8,
    "start_time": "2021-07-28T11:46:17.940Z"
   },
   {
    "duration": 9,
    "start_time": "2021-07-28T11:46:17.950Z"
   },
   {
    "duration": 55,
    "start_time": "2021-07-28T11:46:17.961Z"
   },
   {
    "duration": 5,
    "start_time": "2021-07-28T11:46:18.018Z"
   },
   {
    "duration": 7,
    "start_time": "2021-07-28T11:46:18.026Z"
   },
   {
    "duration": 14,
    "start_time": "2021-07-28T11:46:18.035Z"
   },
   {
    "duration": 8,
    "start_time": "2021-07-28T11:46:18.051Z"
   },
   {
    "duration": 12,
    "start_time": "2021-07-28T11:46:18.061Z"
   },
   {
    "duration": 21,
    "start_time": "2021-07-28T11:46:18.076Z"
   },
   {
    "duration": 19,
    "start_time": "2021-07-28T11:46:18.100Z"
   },
   {
    "duration": 21,
    "start_time": "2021-07-28T11:46:18.122Z"
   },
   {
    "duration": 19,
    "start_time": "2021-07-28T11:46:18.146Z"
   },
   {
    "duration": 38,
    "start_time": "2021-07-28T11:46:18.167Z"
   },
   {
    "duration": 405,
    "start_time": "2021-07-28T11:46:18.208Z"
   },
   {
    "duration": -4822,
    "start_time": "2021-07-28T11:46:23.437Z"
   },
   {
    "duration": -4866,
    "start_time": "2021-07-28T11:46:23.483Z"
   },
   {
    "duration": -4866,
    "start_time": "2021-07-28T11:46:23.485Z"
   },
   {
    "duration": -4868,
    "start_time": "2021-07-28T11:46:23.488Z"
   },
   {
    "duration": -4868,
    "start_time": "2021-07-28T11:46:23.490Z"
   },
   {
    "duration": -4870,
    "start_time": "2021-07-28T11:46:23.493Z"
   },
   {
    "duration": 6833,
    "start_time": "2021-07-28T11:49:04.068Z"
   },
   {
    "duration": 1608,
    "start_time": "2021-07-28T11:49:10.904Z"
   },
   {
    "duration": 171,
    "start_time": "2021-07-28T11:49:12.515Z"
   },
   {
    "duration": 8,
    "start_time": "2021-07-28T11:49:12.689Z"
   },
   {
    "duration": 135,
    "start_time": "2021-07-28T11:49:12.700Z"
   },
   {
    "duration": 97,
    "start_time": "2021-07-28T11:49:12.837Z"
   },
   {
    "duration": 24,
    "start_time": "2021-07-28T11:49:12.936Z"
   },
   {
    "duration": 11,
    "start_time": "2021-07-28T11:49:12.962Z"
   },
   {
    "duration": 172,
    "start_time": "2021-07-28T11:49:12.977Z"
   },
   {
    "duration": 84,
    "start_time": "2021-07-28T11:49:13.155Z"
   },
   {
    "duration": 22,
    "start_time": "2021-07-28T11:49:13.241Z"
   },
   {
    "duration": 42,
    "start_time": "2021-07-28T11:49:13.265Z"
   },
   {
    "duration": 9,
    "start_time": "2021-07-28T11:49:13.309Z"
   },
   {
    "duration": 287,
    "start_time": "2021-07-28T11:49:13.320Z"
   },
   {
    "duration": 6,
    "start_time": "2021-07-28T11:49:13.609Z"
   },
   {
    "duration": 859,
    "start_time": "2021-07-28T11:49:13.618Z"
   },
   {
    "duration": 22,
    "start_time": "2021-07-28T11:49:14.479Z"
   },
   {
    "duration": 686,
    "start_time": "2021-07-28T11:49:14.504Z"
   },
   {
    "duration": 65,
    "start_time": "2021-07-28T11:49:15.193Z"
   },
   {
    "duration": 49,
    "start_time": "2021-07-28T11:49:15.262Z"
   },
   {
    "duration": 67,
    "start_time": "2021-07-28T11:49:15.314Z"
   },
   {
    "duration": 89,
    "start_time": "2021-07-28T11:49:15.384Z"
   },
   {
    "duration": 5,
    "start_time": "2021-07-28T11:49:15.476Z"
   },
   {
    "duration": 25,
    "start_time": "2021-07-28T11:49:15.484Z"
   },
   {
    "duration": 734,
    "start_time": "2021-07-28T11:49:15.512Z"
   },
   {
    "duration": 20,
    "start_time": "2021-07-28T11:49:16.249Z"
   },
   {
    "duration": 5,
    "start_time": "2021-07-28T11:49:16.275Z"
   },
   {
    "duration": 71,
    "start_time": "2021-07-28T11:49:16.283Z"
   },
   {
    "duration": 18,
    "start_time": "2021-07-28T11:49:16.357Z"
   },
   {
    "duration": 177,
    "start_time": "2021-07-28T11:49:16.378Z"
   },
   {
    "duration": 115,
    "start_time": "2021-07-28T11:49:16.558Z"
   },
   {
    "duration": 7,
    "start_time": "2021-07-28T11:49:16.676Z"
   },
   {
    "duration": 83,
    "start_time": "2021-07-28T11:49:16.687Z"
   },
   {
    "duration": 7,
    "start_time": "2021-07-28T11:49:16.773Z"
   },
   {
    "duration": 18,
    "start_time": "2021-07-28T11:49:16.783Z"
   },
   {
    "duration": 27,
    "start_time": "2021-07-28T11:49:16.804Z"
   },
   {
    "duration": 23,
    "start_time": "2021-07-28T11:49:16.834Z"
   },
   {
    "duration": 7,
    "start_time": "2021-07-28T11:49:16.860Z"
   },
   {
    "duration": 9,
    "start_time": "2021-07-28T11:49:16.870Z"
   },
   {
    "duration": 73,
    "start_time": "2021-07-28T11:49:16.881Z"
   },
   {
    "duration": 6,
    "start_time": "2021-07-28T11:49:16.956Z"
   },
   {
    "duration": 11,
    "start_time": "2021-07-28T11:49:16.964Z"
   },
   {
    "duration": 9,
    "start_time": "2021-07-28T11:49:16.978Z"
   },
   {
    "duration": 6,
    "start_time": "2021-07-28T11:49:16.990Z"
   },
   {
    "duration": 11,
    "start_time": "2021-07-28T11:49:16.999Z"
   },
   {
    "duration": 44,
    "start_time": "2021-07-28T11:49:17.012Z"
   },
   {
    "duration": 18,
    "start_time": "2021-07-28T11:49:17.058Z"
   },
   {
    "duration": 14,
    "start_time": "2021-07-28T11:49:17.079Z"
   },
   {
    "duration": 11,
    "start_time": "2021-07-28T11:49:17.095Z"
   },
   {
    "duration": 71,
    "start_time": "2021-07-28T11:49:17.108Z"
   },
   {
    "duration": 8,
    "start_time": "2021-07-28T11:49:17.181Z"
   },
   {
    "duration": 1098,
    "start_time": "2021-07-28T11:49:17.192Z"
   },
   {
    "duration": -2039,
    "start_time": "2021-07-28T11:49:20.331Z"
   },
   {
    "duration": -2039,
    "start_time": "2021-07-28T11:49:20.333Z"
   },
   {
    "duration": -2043,
    "start_time": "2021-07-28T11:49:20.338Z"
   },
   {
    "duration": -2043,
    "start_time": "2021-07-28T11:49:20.340Z"
   },
   {
    "duration": -2044,
    "start_time": "2021-07-28T11:49:20.343Z"
   },
   {
    "duration": 6882,
    "start_time": "2021-07-28T11:51:40.864Z"
   },
   {
    "duration": 1557,
    "start_time": "2021-07-28T11:51:47.750Z"
   },
   {
    "duration": 166,
    "start_time": "2021-07-28T11:51:49.310Z"
   },
   {
    "duration": 8,
    "start_time": "2021-07-28T11:51:49.479Z"
   },
   {
    "duration": 133,
    "start_time": "2021-07-28T11:51:49.489Z"
   },
   {
    "duration": 102,
    "start_time": "2021-07-28T11:51:49.625Z"
   },
   {
    "duration": 25,
    "start_time": "2021-07-28T11:51:49.729Z"
   },
   {
    "duration": 10,
    "start_time": "2021-07-28T11:51:49.758Z"
   },
   {
    "duration": 171,
    "start_time": "2021-07-28T11:51:49.771Z"
   },
   {
    "duration": 87,
    "start_time": "2021-07-28T11:51:49.944Z"
   },
   {
    "duration": 27,
    "start_time": "2021-07-28T11:51:50.033Z"
   },
   {
    "duration": 43,
    "start_time": "2021-07-28T11:51:50.062Z"
   },
   {
    "duration": 9,
    "start_time": "2021-07-28T11:51:50.107Z"
   },
   {
    "duration": 280,
    "start_time": "2021-07-28T11:51:50.118Z"
   },
   {
    "duration": 6,
    "start_time": "2021-07-28T11:51:50.401Z"
   },
   {
    "duration": 877,
    "start_time": "2021-07-28T11:51:50.409Z"
   },
   {
    "duration": 22,
    "start_time": "2021-07-28T11:51:51.289Z"
   },
   {
    "duration": 691,
    "start_time": "2021-07-28T11:51:51.313Z"
   },
   {
    "duration": 56,
    "start_time": "2021-07-28T11:51:52.006Z"
   },
   {
    "duration": 45,
    "start_time": "2021-07-28T11:51:52.065Z"
   },
   {
    "duration": 56,
    "start_time": "2021-07-28T11:51:52.113Z"
   },
   {
    "duration": 83,
    "start_time": "2021-07-28T11:51:52.171Z"
   },
   {
    "duration": 5,
    "start_time": "2021-07-28T11:51:52.260Z"
   },
   {
    "duration": 19,
    "start_time": "2021-07-28T11:51:52.268Z"
   },
   {
    "duration": 667,
    "start_time": "2021-07-28T11:51:52.289Z"
   },
   {
    "duration": 25,
    "start_time": "2021-07-28T11:51:52.960Z"
   },
   {
    "duration": 6,
    "start_time": "2021-07-28T11:51:52.987Z"
   },
   {
    "duration": 68,
    "start_time": "2021-07-28T11:51:52.995Z"
   },
   {
    "duration": 11,
    "start_time": "2021-07-28T11:51:53.066Z"
   },
   {
    "duration": 102,
    "start_time": "2021-07-28T11:51:53.079Z"
   },
   {
    "duration": 98,
    "start_time": "2021-07-28T11:51:53.183Z"
   },
   {
    "duration": 5,
    "start_time": "2021-07-28T11:51:53.283Z"
   },
   {
    "duration": 78,
    "start_time": "2021-07-28T11:51:53.290Z"
   },
   {
    "duration": 5,
    "start_time": "2021-07-28T11:51:53.370Z"
   },
   {
    "duration": 8,
    "start_time": "2021-07-28T11:51:53.378Z"
   },
   {
    "duration": 29,
    "start_time": "2021-07-28T11:51:53.388Z"
   },
   {
    "duration": 11,
    "start_time": "2021-07-28T11:51:53.419Z"
   },
   {
    "duration": 6,
    "start_time": "2021-07-28T11:51:53.433Z"
   },
   {
    "duration": 7,
    "start_time": "2021-07-28T11:51:53.454Z"
   },
   {
    "duration": 46,
    "start_time": "2021-07-28T11:51:53.463Z"
   },
   {
    "duration": 4,
    "start_time": "2021-07-28T11:51:53.512Z"
   },
   {
    "duration": 39,
    "start_time": "2021-07-28T11:51:53.518Z"
   },
   {
    "duration": 8,
    "start_time": "2021-07-28T11:51:53.559Z"
   },
   {
    "duration": 4,
    "start_time": "2021-07-28T11:51:53.569Z"
   },
   {
    "duration": 9,
    "start_time": "2021-07-28T11:51:53.575Z"
   },
   {
    "duration": 12,
    "start_time": "2021-07-28T11:51:53.586Z"
   },
   {
    "duration": 54,
    "start_time": "2021-07-28T11:51:53.601Z"
   },
   {
    "duration": 13,
    "start_time": "2021-07-28T11:51:53.657Z"
   },
   {
    "duration": 5,
    "start_time": "2021-07-28T11:51:53.672Z"
   },
   {
    "duration": 36,
    "start_time": "2021-07-28T11:51:53.680Z"
   },
   {
    "duration": 36,
    "start_time": "2021-07-28T11:51:53.719Z"
   },
   {
    "duration": 150,
    "start_time": "2021-07-28T11:51:53.758Z"
   },
   {
    "duration": 60,
    "start_time": "2021-07-28T11:51:53.910Z"
   },
   {
    "duration": 139,
    "start_time": "2021-07-28T11:51:53.972Z"
   },
   {
    "duration": 180,
    "start_time": "2021-07-28T11:51:54.113Z"
   },
   {
    "duration": 66,
    "start_time": "2021-07-28T11:51:54.295Z"
   },
   {
    "duration": 197,
    "start_time": "2021-07-28T11:51:54.364Z"
   },
   {
    "duration": 7219,
    "start_time": "2021-07-28T11:53:00.130Z"
   },
   {
    "duration": 1579,
    "start_time": "2021-07-28T11:53:07.353Z"
   },
   {
    "duration": 165,
    "start_time": "2021-07-28T11:53:08.936Z"
   },
   {
    "duration": 8,
    "start_time": "2021-07-28T11:53:09.104Z"
   },
   {
    "duration": 145,
    "start_time": "2021-07-28T11:53:09.114Z"
   },
   {
    "duration": 109,
    "start_time": "2021-07-28T11:53:09.261Z"
   },
   {
    "duration": 16,
    "start_time": "2021-07-28T11:53:09.373Z"
   },
   {
    "duration": 22,
    "start_time": "2021-07-28T11:53:09.393Z"
   },
   {
    "duration": 236,
    "start_time": "2021-07-28T11:53:09.420Z"
   },
   {
    "duration": 100,
    "start_time": "2021-07-28T11:53:09.659Z"
   },
   {
    "duration": 13,
    "start_time": "2021-07-28T11:53:09.762Z"
   },
   {
    "duration": 58,
    "start_time": "2021-07-28T11:53:09.778Z"
   },
   {
    "duration": 15,
    "start_time": "2021-07-28T11:53:09.839Z"
   },
   {
    "duration": 264,
    "start_time": "2021-07-28T11:53:09.857Z"
   },
   {
    "duration": 6,
    "start_time": "2021-07-28T11:53:10.124Z"
   },
   {
    "duration": 873,
    "start_time": "2021-07-28T11:53:10.133Z"
   },
   {
    "duration": 22,
    "start_time": "2021-07-28T11:53:11.008Z"
   },
   {
    "duration": 702,
    "start_time": "2021-07-28T11:53:11.032Z"
   },
   {
    "duration": 54,
    "start_time": "2021-07-28T11:53:11.737Z"
   },
   {
    "duration": 63,
    "start_time": "2021-07-28T11:53:11.793Z"
   },
   {
    "duration": 37,
    "start_time": "2021-07-28T11:53:11.858Z"
   },
   {
    "duration": 89,
    "start_time": "2021-07-28T11:53:11.898Z"
   },
   {
    "duration": 6,
    "start_time": "2021-07-28T11:53:11.989Z"
   },
   {
    "duration": 24,
    "start_time": "2021-07-28T11:53:11.997Z"
   },
   {
    "duration": 716,
    "start_time": "2021-07-28T11:53:12.024Z"
   },
   {
    "duration": 26,
    "start_time": "2021-07-28T11:53:12.742Z"
   },
   {
    "duration": 6,
    "start_time": "2021-07-28T11:53:12.776Z"
   },
   {
    "duration": 77,
    "start_time": "2021-07-28T11:53:12.786Z"
   },
   {
    "duration": 21,
    "start_time": "2021-07-28T11:53:12.865Z"
   },
   {
    "duration": 180,
    "start_time": "2021-07-28T11:53:12.888Z"
   },
   {
    "duration": 50,
    "start_time": "2021-07-28T11:53:13.072Z"
   },
   {
    "duration": 29,
    "start_time": "2021-07-28T11:53:13.125Z"
   },
   {
    "duration": 70,
    "start_time": "2021-07-28T11:53:13.157Z"
   },
   {
    "duration": 6,
    "start_time": "2021-07-28T11:53:13.230Z"
   },
   {
    "duration": 24,
    "start_time": "2021-07-28T11:53:13.240Z"
   },
   {
    "duration": 34,
    "start_time": "2021-07-28T11:53:13.267Z"
   },
   {
    "duration": 31,
    "start_time": "2021-07-28T11:53:13.304Z"
   },
   {
    "duration": 31,
    "start_time": "2021-07-28T11:53:13.338Z"
   },
   {
    "duration": 24,
    "start_time": "2021-07-28T11:53:13.371Z"
   },
   {
    "duration": 75,
    "start_time": "2021-07-28T11:53:13.398Z"
   },
   {
    "duration": 5,
    "start_time": "2021-07-28T11:53:13.476Z"
   },
   {
    "duration": 13,
    "start_time": "2021-07-28T11:53:13.484Z"
   },
   {
    "duration": 22,
    "start_time": "2021-07-28T11:53:13.499Z"
   },
   {
    "duration": 21,
    "start_time": "2021-07-28T11:53:13.524Z"
   },
   {
    "duration": 19,
    "start_time": "2021-07-28T11:53:13.554Z"
   },
   {
    "duration": 39,
    "start_time": "2021-07-28T11:53:13.576Z"
   },
   {
    "duration": 22,
    "start_time": "2021-07-28T11:53:13.618Z"
   },
   {
    "duration": 31,
    "start_time": "2021-07-28T11:53:13.643Z"
   },
   {
    "duration": 7,
    "start_time": "2021-07-28T11:53:13.676Z"
   },
   {
    "duration": 57,
    "start_time": "2021-07-28T11:53:13.686Z"
   },
   {
    "duration": 9,
    "start_time": "2021-07-28T11:53:13.745Z"
   },
   {
    "duration": 146,
    "start_time": "2021-07-28T11:53:13.756Z"
   },
   {
    "duration": 65,
    "start_time": "2021-07-28T11:53:13.905Z"
   },
   {
    "duration": 140,
    "start_time": "2021-07-28T11:53:13.972Z"
   },
   {
    "duration": 142,
    "start_time": "2021-07-28T11:53:14.114Z"
   },
   {
    "duration": 50,
    "start_time": "2021-07-28T11:53:14.259Z"
   },
   {
    "duration": 158,
    "start_time": "2021-07-28T11:53:14.311Z"
   },
   {
    "duration": 6665,
    "start_time": "2021-07-28T11:54:24.397Z"
   },
   {
    "duration": 1574,
    "start_time": "2021-07-28T11:54:31.066Z"
   },
   {
    "duration": 166,
    "start_time": "2021-07-28T11:54:32.643Z"
   },
   {
    "duration": 8,
    "start_time": "2021-07-28T11:54:32.812Z"
   },
   {
    "duration": 127,
    "start_time": "2021-07-28T11:54:32.822Z"
   },
   {
    "duration": 101,
    "start_time": "2021-07-28T11:54:32.955Z"
   },
   {
    "duration": 16,
    "start_time": "2021-07-28T11:54:33.059Z"
   },
   {
    "duration": 11,
    "start_time": "2021-07-28T11:54:33.077Z"
   },
   {
    "duration": 186,
    "start_time": "2021-07-28T11:54:33.092Z"
   },
   {
    "duration": 99,
    "start_time": "2021-07-28T11:54:33.281Z"
   },
   {
    "duration": 14,
    "start_time": "2021-07-28T11:54:33.383Z"
   },
   {
    "duration": 57,
    "start_time": "2021-07-28T11:54:33.400Z"
   },
   {
    "duration": 9,
    "start_time": "2021-07-28T11:54:33.459Z"
   },
   {
    "duration": 267,
    "start_time": "2021-07-28T11:54:33.471Z"
   },
   {
    "duration": 18,
    "start_time": "2021-07-28T11:54:33.740Z"
   },
   {
    "duration": 940,
    "start_time": "2021-07-28T11:54:33.760Z"
   },
   {
    "duration": 21,
    "start_time": "2021-07-28T11:54:34.702Z"
   },
   {
    "duration": 700,
    "start_time": "2021-07-28T11:54:34.725Z"
   },
   {
    "duration": 58,
    "start_time": "2021-07-28T11:54:35.427Z"
   },
   {
    "duration": 48,
    "start_time": "2021-07-28T11:54:35.488Z"
   },
   {
    "duration": 50,
    "start_time": "2021-07-28T11:54:35.538Z"
   },
   {
    "duration": 95,
    "start_time": "2021-07-28T11:54:35.590Z"
   },
   {
    "duration": 6,
    "start_time": "2021-07-28T11:54:35.688Z"
   },
   {
    "duration": 20,
    "start_time": "2021-07-28T11:54:35.696Z"
   },
   {
    "duration": 692,
    "start_time": "2021-07-28T11:54:35.719Z"
   },
   {
    "duration": 56,
    "start_time": "2021-07-28T11:54:36.414Z"
   },
   {
    "duration": 7,
    "start_time": "2021-07-28T11:54:36.478Z"
   },
   {
    "duration": 68,
    "start_time": "2021-07-28T11:54:36.489Z"
   },
   {
    "duration": 10,
    "start_time": "2021-07-28T11:54:36.559Z"
   },
   {
    "duration": 187,
    "start_time": "2021-07-28T11:54:36.572Z"
   },
   {
    "duration": 132,
    "start_time": "2021-07-28T11:54:36.762Z"
   },
   {
    "duration": 14,
    "start_time": "2021-07-28T11:54:36.902Z"
   },
   {
    "duration": 176,
    "start_time": "2021-07-28T11:54:36.925Z"
   },
   {
    "duration": 5,
    "start_time": "2021-07-28T11:54:37.104Z"
   },
   {
    "duration": 15,
    "start_time": "2021-07-28T11:54:37.111Z"
   },
   {
    "duration": 27,
    "start_time": "2021-07-28T11:54:37.129Z"
   },
   {
    "duration": 8,
    "start_time": "2021-07-28T11:54:37.159Z"
   },
   {
    "duration": 7,
    "start_time": "2021-07-28T11:54:37.169Z"
   },
   {
    "duration": 11,
    "start_time": "2021-07-28T11:54:37.178Z"
   },
   {
    "duration": 86,
    "start_time": "2021-07-28T11:54:37.192Z"
   },
   {
    "duration": 6,
    "start_time": "2021-07-28T11:54:37.281Z"
   },
   {
    "duration": 11,
    "start_time": "2021-07-28T11:54:37.289Z"
   },
   {
    "duration": 8,
    "start_time": "2021-07-28T11:54:37.302Z"
   },
   {
    "duration": 5,
    "start_time": "2021-07-28T11:54:37.314Z"
   },
   {
    "duration": 37,
    "start_time": "2021-07-28T11:54:37.322Z"
   },
   {
    "duration": 13,
    "start_time": "2021-07-28T11:54:37.362Z"
   },
   {
    "duration": 13,
    "start_time": "2021-07-28T11:54:37.377Z"
   },
   {
    "duration": 15,
    "start_time": "2021-07-28T11:54:37.393Z"
   },
   {
    "duration": 44,
    "start_time": "2021-07-28T11:54:37.410Z"
   },
   {
    "duration": 50,
    "start_time": "2021-07-28T11:54:37.457Z"
   },
   {
    "duration": 9,
    "start_time": "2021-07-28T11:54:37.509Z"
   },
   {
    "duration": 157,
    "start_time": "2021-07-28T11:54:37.522Z"
   },
   {
    "duration": 53,
    "start_time": "2021-07-28T11:54:37.681Z"
   },
   {
    "duration": 158,
    "start_time": "2021-07-28T11:54:37.736Z"
   },
   {
    "duration": 141,
    "start_time": "2021-07-28T11:54:37.896Z"
   },
   {
    "duration": 49,
    "start_time": "2021-07-28T11:54:38.054Z"
   },
   {
    "duration": 161,
    "start_time": "2021-07-28T11:54:38.105Z"
   },
   {
    "duration": 9,
    "start_time": "2021-07-28T11:55:43.394Z"
   },
   {
    "duration": 869,
    "start_time": "2021-07-28T11:55:44.002Z"
   },
   {
    "duration": 6456,
    "start_time": "2021-07-28T11:56:30.006Z"
   },
   {
    "duration": 1579,
    "start_time": "2021-07-28T11:56:36.466Z"
   },
   {
    "duration": 165,
    "start_time": "2021-07-28T11:56:38.049Z"
   },
   {
    "duration": 9,
    "start_time": "2021-07-28T11:56:38.217Z"
   },
   {
    "duration": 134,
    "start_time": "2021-07-28T11:56:38.228Z"
   },
   {
    "duration": 96,
    "start_time": "2021-07-28T11:56:38.365Z"
   },
   {
    "duration": 14,
    "start_time": "2021-07-28T11:56:38.464Z"
   },
   {
    "duration": 11,
    "start_time": "2021-07-28T11:56:38.482Z"
   },
   {
    "duration": 180,
    "start_time": "2021-07-28T11:56:38.496Z"
   },
   {
    "duration": 87,
    "start_time": "2021-07-28T11:56:38.678Z"
   },
   {
    "duration": 13,
    "start_time": "2021-07-28T11:56:38.768Z"
   },
   {
    "duration": 41,
    "start_time": "2021-07-28T11:56:38.784Z"
   },
   {
    "duration": 30,
    "start_time": "2021-07-28T11:56:38.828Z"
   },
   {
    "duration": 277,
    "start_time": "2021-07-28T11:56:38.862Z"
   },
   {
    "duration": 16,
    "start_time": "2021-07-28T11:56:39.142Z"
   },
   {
    "duration": 1012,
    "start_time": "2021-07-28T11:56:39.161Z"
   },
   {
    "duration": 22,
    "start_time": "2021-07-28T11:56:40.176Z"
   },
   {
    "duration": 770,
    "start_time": "2021-07-28T11:56:40.201Z"
   },
   {
    "duration": 46,
    "start_time": "2021-07-28T11:56:40.973Z"
   },
   {
    "duration": 66,
    "start_time": "2021-07-28T11:56:41.021Z"
   },
   {
    "duration": 36,
    "start_time": "2021-07-28T11:56:41.090Z"
   },
   {
    "duration": 88,
    "start_time": "2021-07-28T11:56:41.129Z"
   },
   {
    "duration": 5,
    "start_time": "2021-07-28T11:56:41.223Z"
   },
   {
    "duration": 31,
    "start_time": "2021-07-28T11:56:41.231Z"
   },
   {
    "duration": 662,
    "start_time": "2021-07-28T11:56:41.264Z"
   },
   {
    "duration": 45,
    "start_time": "2021-07-28T11:56:41.929Z"
   },
   {
    "duration": 6,
    "start_time": "2021-07-28T11:56:41.977Z"
   },
   {
    "duration": 77,
    "start_time": "2021-07-28T11:56:41.986Z"
   },
   {
    "duration": 18,
    "start_time": "2021-07-28T11:56:42.066Z"
   },
   {
    "duration": 117,
    "start_time": "2021-07-28T11:56:42.088Z"
   },
   {
    "duration": 93,
    "start_time": "2021-07-28T11:56:42.207Z"
   },
   {
    "duration": 4,
    "start_time": "2021-07-28T11:56:42.303Z"
   },
   {
    "duration": 75,
    "start_time": "2021-07-28T11:56:42.309Z"
   },
   {
    "duration": 5,
    "start_time": "2021-07-28T11:56:42.387Z"
   },
   {
    "duration": 22,
    "start_time": "2021-07-28T11:56:42.394Z"
   },
   {
    "duration": 37,
    "start_time": "2021-07-28T11:56:42.418Z"
   },
   {
    "duration": 25,
    "start_time": "2021-07-28T11:56:42.458Z"
   },
   {
    "duration": 28,
    "start_time": "2021-07-28T11:56:42.485Z"
   },
   {
    "duration": 25,
    "start_time": "2021-07-28T11:56:42.515Z"
   },
   {
    "duration": 63,
    "start_time": "2021-07-28T11:56:42.543Z"
   },
   {
    "duration": 5,
    "start_time": "2021-07-28T11:56:42.608Z"
   },
   {
    "duration": 30,
    "start_time": "2021-07-28T11:56:42.615Z"
   },
   {
    "duration": 39,
    "start_time": "2021-07-28T11:56:42.647Z"
   },
   {
    "duration": 16,
    "start_time": "2021-07-28T11:56:42.688Z"
   },
   {
    "duration": 21,
    "start_time": "2021-07-28T11:56:42.706Z"
   },
   {
    "duration": 43,
    "start_time": "2021-07-28T11:56:42.729Z"
   },
   {
    "duration": 36,
    "start_time": "2021-07-28T11:56:42.774Z"
   },
   {
    "duration": 28,
    "start_time": "2021-07-28T11:56:42.813Z"
   },
   {
    "duration": 16,
    "start_time": "2021-07-28T11:56:42.843Z"
   },
   {
    "duration": 67,
    "start_time": "2021-07-28T11:56:42.861Z"
   },
   {
    "duration": 8,
    "start_time": "2021-07-28T11:56:42.931Z"
   },
   {
    "duration": 829,
    "start_time": "2021-07-28T11:56:42.942Z"
   },
   {
    "duration": -2361,
    "start_time": "2021-07-28T11:56:46.136Z"
   },
   {
    "duration": -2361,
    "start_time": "2021-07-28T11:56:46.138Z"
   },
   {
    "duration": -2362,
    "start_time": "2021-07-28T11:56:46.141Z"
   },
   {
    "duration": -2361,
    "start_time": "2021-07-28T11:56:46.143Z"
   },
   {
    "duration": -2362,
    "start_time": "2021-07-28T11:56:46.146Z"
   },
   {
    "duration": 6924,
    "start_time": "2021-07-28T11:57:36.748Z"
   },
   {
    "duration": 1564,
    "start_time": "2021-07-28T11:57:43.675Z"
   },
   {
    "duration": 166,
    "start_time": "2021-07-28T11:57:45.242Z"
   },
   {
    "duration": 8,
    "start_time": "2021-07-28T11:57:45.411Z"
   },
   {
    "duration": 135,
    "start_time": "2021-07-28T11:57:45.421Z"
   },
   {
    "duration": 101,
    "start_time": "2021-07-28T11:57:45.558Z"
   },
   {
    "duration": 17,
    "start_time": "2021-07-28T11:57:45.662Z"
   },
   {
    "duration": 12,
    "start_time": "2021-07-28T11:57:45.682Z"
   },
   {
    "duration": 195,
    "start_time": "2021-07-28T11:57:45.699Z"
   },
   {
    "duration": 104,
    "start_time": "2021-07-28T11:57:45.897Z"
   },
   {
    "duration": 14,
    "start_time": "2021-07-28T11:57:46.003Z"
   },
   {
    "duration": 52,
    "start_time": "2021-07-28T11:57:46.019Z"
   },
   {
    "duration": 9,
    "start_time": "2021-07-28T11:57:46.074Z"
   },
   {
    "duration": 276,
    "start_time": "2021-07-28T11:57:46.085Z"
   },
   {
    "duration": 7,
    "start_time": "2021-07-28T11:57:46.363Z"
   },
   {
    "duration": 934,
    "start_time": "2021-07-28T11:57:46.373Z"
   },
   {
    "duration": 23,
    "start_time": "2021-07-28T11:57:47.309Z"
   },
   {
    "duration": 763,
    "start_time": "2021-07-28T11:57:47.334Z"
   },
   {
    "duration": 47,
    "start_time": "2021-07-28T11:57:48.100Z"
   },
   {
    "duration": 48,
    "start_time": "2021-07-28T11:57:48.155Z"
   },
   {
    "duration": 37,
    "start_time": "2021-07-28T11:57:48.205Z"
   },
   {
    "duration": 76,
    "start_time": "2021-07-28T11:57:48.244Z"
   },
   {
    "duration": 7,
    "start_time": "2021-07-28T11:57:48.323Z"
   },
   {
    "duration": 24,
    "start_time": "2021-07-28T11:57:48.332Z"
   },
   {
    "duration": 1020,
    "start_time": "2021-07-28T11:57:48.359Z"
   },
   {
    "duration": 78,
    "start_time": "2021-07-28T11:57:49.381Z"
   },
   {
    "duration": 6,
    "start_time": "2021-07-28T11:57:49.464Z"
   },
   {
    "duration": 19,
    "start_time": "2021-07-28T11:57:49.473Z"
   },
   {
    "duration": 62,
    "start_time": "2021-07-28T11:57:49.495Z"
   },
   {
    "duration": 115,
    "start_time": "2021-07-28T11:57:49.560Z"
   },
   {
    "duration": 100,
    "start_time": "2021-07-28T11:57:49.677Z"
   },
   {
    "duration": 6,
    "start_time": "2021-07-28T11:57:49.780Z"
   },
   {
    "duration": 76,
    "start_time": "2021-07-28T11:57:49.789Z"
   },
   {
    "duration": 6,
    "start_time": "2021-07-28T11:57:49.868Z"
   },
   {
    "duration": 10,
    "start_time": "2021-07-28T11:57:49.877Z"
   },
   {
    "duration": 12,
    "start_time": "2021-07-28T11:57:49.890Z"
   },
   {
    "duration": 52,
    "start_time": "2021-07-28T11:57:49.905Z"
   },
   {
    "duration": 4,
    "start_time": "2021-07-28T11:57:49.960Z"
   },
   {
    "duration": 9,
    "start_time": "2021-07-28T11:57:49.967Z"
   },
   {
    "duration": 78,
    "start_time": "2021-07-28T11:57:49.979Z"
   },
   {
    "duration": 6,
    "start_time": "2021-07-28T11:57:50.059Z"
   },
   {
    "duration": 13,
    "start_time": "2021-07-28T11:57:50.068Z"
   },
   {
    "duration": 18,
    "start_time": "2021-07-28T11:57:50.083Z"
   },
   {
    "duration": 11,
    "start_time": "2021-07-28T11:57:50.104Z"
   },
   {
    "duration": 21,
    "start_time": "2021-07-28T11:57:50.118Z"
   },
   {
    "duration": 20,
    "start_time": "2021-07-28T11:57:50.141Z"
   },
   {
    "duration": 19,
    "start_time": "2021-07-28T11:57:50.163Z"
   },
   {
    "duration": 17,
    "start_time": "2021-07-28T11:57:50.184Z"
   },
   {
    "duration": 14,
    "start_time": "2021-07-28T11:57:50.203Z"
   },
   {
    "duration": 56,
    "start_time": "2021-07-28T11:57:50.220Z"
   },
   {
    "duration": 10,
    "start_time": "2021-07-28T11:57:50.278Z"
   },
   {
    "duration": 837,
    "start_time": "2021-07-28T11:57:50.291Z"
   },
   {
    "duration": -2899,
    "start_time": "2021-07-28T11:57:54.030Z"
   },
   {
    "duration": -2903,
    "start_time": "2021-07-28T11:57:54.035Z"
   },
   {
    "duration": -2910,
    "start_time": "2021-07-28T11:57:54.044Z"
   },
   {
    "duration": -2913,
    "start_time": "2021-07-28T11:57:54.049Z"
   },
   {
    "duration": -2921,
    "start_time": "2021-07-28T11:57:54.058Z"
   },
   {
    "duration": 92,
    "start_time": "2021-07-28T11:58:23.990Z"
   },
   {
    "duration": 9,
    "start_time": "2021-07-28T11:58:35.447Z"
   },
   {
    "duration": 126,
    "start_time": "2021-07-28T11:58:36.820Z"
   },
   {
    "duration": 9,
    "start_time": "2021-07-28T11:58:53.350Z"
   },
   {
    "duration": 132,
    "start_time": "2021-07-28T11:58:54.547Z"
   },
   {
    "duration": 6528,
    "start_time": "2021-07-28T11:59:13.149Z"
   },
   {
    "duration": 1539,
    "start_time": "2021-07-28T11:59:19.680Z"
   },
   {
    "duration": 167,
    "start_time": "2021-07-28T11:59:21.223Z"
   },
   {
    "duration": 8,
    "start_time": "2021-07-28T11:59:21.393Z"
   },
   {
    "duration": 144,
    "start_time": "2021-07-28T11:59:21.403Z"
   },
   {
    "duration": 100,
    "start_time": "2021-07-28T11:59:21.554Z"
   },
   {
    "duration": 17,
    "start_time": "2021-07-28T11:59:21.657Z"
   },
   {
    "duration": 20,
    "start_time": "2021-07-28T11:59:21.676Z"
   },
   {
    "duration": 177,
    "start_time": "2021-07-28T11:59:21.700Z"
   },
   {
    "duration": 95,
    "start_time": "2021-07-28T11:59:21.881Z"
   },
   {
    "duration": 13,
    "start_time": "2021-07-28T11:59:21.979Z"
   },
   {
    "duration": 59,
    "start_time": "2021-07-28T11:59:21.994Z"
   },
   {
    "duration": 10,
    "start_time": "2021-07-28T11:59:22.055Z"
   },
   {
    "duration": 259,
    "start_time": "2021-07-28T11:59:22.067Z"
   },
   {
    "duration": 6,
    "start_time": "2021-07-28T11:59:22.329Z"
   },
   {
    "duration": 847,
    "start_time": "2021-07-28T11:59:22.356Z"
   },
   {
    "duration": 24,
    "start_time": "2021-07-28T11:59:23.206Z"
   },
   {
    "duration": 689,
    "start_time": "2021-07-28T11:59:23.232Z"
   },
   {
    "duration": 57,
    "start_time": "2021-07-28T11:59:23.924Z"
   },
   {
    "duration": 46,
    "start_time": "2021-07-28T11:59:23.983Z"
   },
   {
    "duration": 53,
    "start_time": "2021-07-28T11:59:24.032Z"
   },
   {
    "duration": 91,
    "start_time": "2021-07-28T11:59:24.087Z"
   },
   {
    "duration": 6,
    "start_time": "2021-07-28T11:59:24.181Z"
   },
   {
    "duration": 34,
    "start_time": "2021-07-28T11:59:24.190Z"
   },
   {
    "duration": 710,
    "start_time": "2021-07-28T11:59:24.227Z"
   },
   {
    "duration": 29,
    "start_time": "2021-07-28T11:59:24.940Z"
   },
   {
    "duration": 6,
    "start_time": "2021-07-28T11:59:24.975Z"
   },
   {
    "duration": 78,
    "start_time": "2021-07-28T11:59:24.985Z"
   },
   {
    "duration": 26,
    "start_time": "2021-07-28T11:59:25.066Z"
   },
   {
    "duration": 113,
    "start_time": "2021-07-28T11:59:25.095Z"
   },
   {
    "duration": 88,
    "start_time": "2021-07-28T11:59:25.211Z"
   },
   {
    "duration": 6,
    "start_time": "2021-07-28T11:59:25.303Z"
   },
   {
    "duration": 99,
    "start_time": "2021-07-28T11:59:25.313Z"
   },
   {
    "duration": 6,
    "start_time": "2021-07-28T11:59:25.415Z"
   },
   {
    "duration": 10,
    "start_time": "2021-07-28T11:59:25.424Z"
   },
   {
    "duration": 8,
    "start_time": "2021-07-28T11:59:25.456Z"
   },
   {
    "duration": 12,
    "start_time": "2021-07-28T11:59:25.467Z"
   },
   {
    "duration": 7,
    "start_time": "2021-07-28T11:59:25.481Z"
   },
   {
    "duration": 13,
    "start_time": "2021-07-28T11:59:25.490Z"
   },
   {
    "duration": 89,
    "start_time": "2021-07-28T11:59:25.505Z"
   },
   {
    "duration": 4,
    "start_time": "2021-07-28T11:59:25.597Z"
   },
   {
    "duration": 7,
    "start_time": "2021-07-28T11:59:25.604Z"
   },
   {
    "duration": 8,
    "start_time": "2021-07-28T11:59:25.614Z"
   },
   {
    "duration": 4,
    "start_time": "2021-07-28T11:59:25.655Z"
   },
   {
    "duration": 14,
    "start_time": "2021-07-28T11:59:25.661Z"
   },
   {
    "duration": 10,
    "start_time": "2021-07-28T11:59:25.678Z"
   },
   {
    "duration": 19,
    "start_time": "2021-07-28T11:59:25.690Z"
   },
   {
    "duration": 47,
    "start_time": "2021-07-28T11:59:25.712Z"
   },
   {
    "duration": 12,
    "start_time": "2021-07-28T11:59:25.762Z"
   },
   {
    "duration": 42,
    "start_time": "2021-07-28T11:59:25.776Z"
   },
   {
    "duration": 9,
    "start_time": "2021-07-28T11:59:25.820Z"
   },
   {
    "duration": 143,
    "start_time": "2021-07-28T11:59:25.855Z"
   },
   {
    "duration": 69,
    "start_time": "2021-07-28T11:59:26.001Z"
   },
   {
    "duration": 142,
    "start_time": "2021-07-28T11:59:26.073Z"
   },
   {
    "duration": 158,
    "start_time": "2021-07-28T11:59:26.218Z"
   },
   {
    "duration": 51,
    "start_time": "2021-07-28T11:59:26.379Z"
   },
   {
    "duration": 167,
    "start_time": "2021-07-28T11:59:26.433Z"
   },
   {
    "duration": 6350,
    "start_time": "2021-07-28T12:28:46.461Z"
   },
   {
    "duration": 1582,
    "start_time": "2021-07-28T12:28:52.814Z"
   },
   {
    "duration": 168,
    "start_time": "2021-07-28T12:28:54.400Z"
   },
   {
    "duration": 8,
    "start_time": "2021-07-28T12:28:54.571Z"
   },
   {
    "duration": 128,
    "start_time": "2021-07-28T12:28:54.581Z"
   },
   {
    "duration": 99,
    "start_time": "2021-07-28T12:28:54.712Z"
   },
   {
    "duration": 17,
    "start_time": "2021-07-28T12:28:54.813Z"
   },
   {
    "duration": 22,
    "start_time": "2021-07-28T12:28:54.832Z"
   },
   {
    "duration": 173,
    "start_time": "2021-07-28T12:28:54.858Z"
   },
   {
    "duration": 99,
    "start_time": "2021-07-28T12:28:55.034Z"
   },
   {
    "duration": 20,
    "start_time": "2021-07-28T12:28:55.136Z"
   },
   {
    "duration": 44,
    "start_time": "2021-07-28T12:28:55.159Z"
   },
   {
    "duration": 9,
    "start_time": "2021-07-28T12:28:55.205Z"
   },
   {
    "duration": 279,
    "start_time": "2021-07-28T12:28:55.216Z"
   },
   {
    "duration": 5,
    "start_time": "2021-07-28T12:28:55.498Z"
   },
   {
    "duration": 866,
    "start_time": "2021-07-28T12:28:55.506Z"
   },
   {
    "duration": 26,
    "start_time": "2021-07-28T12:28:56.375Z"
   },
   {
    "duration": 688,
    "start_time": "2021-07-28T12:28:56.403Z"
   },
   {
    "duration": 44,
    "start_time": "2021-07-28T12:28:57.094Z"
   },
   {
    "duration": 60,
    "start_time": "2021-07-28T12:28:57.140Z"
   },
   {
    "duration": 58,
    "start_time": "2021-07-28T12:28:57.203Z"
   },
   {
    "duration": 71,
    "start_time": "2021-07-28T12:28:57.264Z"
   },
   {
    "duration": 18,
    "start_time": "2021-07-28T12:28:57.338Z"
   },
   {
    "duration": 26,
    "start_time": "2021-07-28T12:28:57.358Z"
   },
   {
    "duration": 654,
    "start_time": "2021-07-28T12:28:57.387Z"
   },
   {
    "duration": 20,
    "start_time": "2021-07-28T12:28:58.043Z"
   },
   {
    "duration": 12,
    "start_time": "2021-07-28T12:28:58.069Z"
   },
   {
    "duration": 21,
    "start_time": "2021-07-28T12:28:58.084Z"
   },
   {
    "duration": 9,
    "start_time": "2021-07-28T12:28:58.154Z"
   },
   {
    "duration": 118,
    "start_time": "2021-07-28T12:28:58.165Z"
   },
   {
    "duration": 88,
    "start_time": "2021-07-28T12:28:58.287Z"
   },
   {
    "duration": 5,
    "start_time": "2021-07-28T12:28:58.378Z"
   },
   {
    "duration": 69,
    "start_time": "2021-07-28T12:28:58.386Z"
   },
   {
    "duration": 4,
    "start_time": "2021-07-28T12:28:58.458Z"
   },
   {
    "duration": 26,
    "start_time": "2021-07-28T12:28:58.465Z"
   },
   {
    "duration": 46,
    "start_time": "2021-07-28T12:28:58.493Z"
   },
   {
    "duration": 32,
    "start_time": "2021-07-28T12:28:58.542Z"
   },
   {
    "duration": 8,
    "start_time": "2021-07-28T12:28:58.577Z"
   },
   {
    "duration": 28,
    "start_time": "2021-07-28T12:28:58.587Z"
   },
   {
    "duration": 66,
    "start_time": "2021-07-28T12:28:58.617Z"
   },
   {
    "duration": 5,
    "start_time": "2021-07-28T12:28:58.686Z"
   },
   {
    "duration": 32,
    "start_time": "2021-07-28T12:28:58.693Z"
   },
   {
    "duration": 35,
    "start_time": "2021-07-28T12:28:58.727Z"
   },
   {
    "duration": 23,
    "start_time": "2021-07-28T12:28:58.764Z"
   },
   {
    "duration": 30,
    "start_time": "2021-07-28T12:28:58.790Z"
   },
   {
    "duration": 34,
    "start_time": "2021-07-28T12:28:58.823Z"
   },
   {
    "duration": 31,
    "start_time": "2021-07-28T12:28:58.860Z"
   },
   {
    "duration": 33,
    "start_time": "2021-07-28T12:28:58.894Z"
   },
   {
    "duration": 26,
    "start_time": "2021-07-28T12:28:58.930Z"
   },
   {
    "duration": 60,
    "start_time": "2021-07-28T12:28:58.959Z"
   },
   {
    "duration": 10,
    "start_time": "2021-07-28T12:28:59.022Z"
   },
   {
    "duration": 164,
    "start_time": "2021-07-28T12:28:59.035Z"
   },
   {
    "duration": 67,
    "start_time": "2021-07-28T12:28:59.202Z"
   },
   {
    "duration": 143,
    "start_time": "2021-07-28T12:28:59.272Z"
   },
   {
    "duration": 161,
    "start_time": "2021-07-28T12:28:59.417Z"
   },
   {
    "duration": 53,
    "start_time": "2021-07-28T12:28:59.581Z"
   },
   {
    "duration": 152,
    "start_time": "2021-07-28T12:28:59.654Z"
   },
   {
    "duration": 9,
    "start_time": "2021-07-28T12:54:36.312Z"
   },
   {
    "duration": 129,
    "start_time": "2021-07-28T12:54:37.158Z"
   },
   {
    "duration": 6350,
    "start_time": "2021-07-28T12:55:43.939Z"
   },
   {
    "duration": 1631,
    "start_time": "2021-07-28T12:55:50.292Z"
   },
   {
    "duration": 169,
    "start_time": "2021-07-28T12:55:51.926Z"
   },
   {
    "duration": 7,
    "start_time": "2021-07-28T12:55:52.098Z"
   },
   {
    "duration": 130,
    "start_time": "2021-07-28T12:55:52.108Z"
   },
   {
    "duration": 115,
    "start_time": "2021-07-28T12:55:52.240Z"
   },
   {
    "duration": 17,
    "start_time": "2021-07-28T12:55:52.357Z"
   },
   {
    "duration": 10,
    "start_time": "2021-07-28T12:55:52.376Z"
   },
   {
    "duration": 176,
    "start_time": "2021-07-28T12:55:52.390Z"
   },
   {
    "duration": 97,
    "start_time": "2021-07-28T12:55:52.569Z"
   },
   {
    "duration": 13,
    "start_time": "2021-07-28T12:55:52.668Z"
   },
   {
    "duration": 40,
    "start_time": "2021-07-28T12:55:52.684Z"
   },
   {
    "duration": 32,
    "start_time": "2021-07-28T12:55:52.726Z"
   },
   {
    "duration": 270,
    "start_time": "2021-07-28T12:55:52.761Z"
   },
   {
    "duration": 7,
    "start_time": "2021-07-28T12:55:53.034Z"
   },
   {
    "duration": 874,
    "start_time": "2021-07-28T12:55:53.055Z"
   },
   {
    "duration": 36,
    "start_time": "2021-07-28T12:55:53.931Z"
   },
   {
    "duration": 773,
    "start_time": "2021-07-28T12:55:53.969Z"
   },
   {
    "duration": 51,
    "start_time": "2021-07-28T12:55:54.745Z"
   },
   {
    "duration": 66,
    "start_time": "2021-07-28T12:55:54.798Z"
   },
   {
    "duration": 36,
    "start_time": "2021-07-28T12:55:54.866Z"
   },
   {
    "duration": 96,
    "start_time": "2021-07-28T12:55:54.904Z"
   },
   {
    "duration": 5,
    "start_time": "2021-07-28T12:55:55.002Z"
   },
   {
    "duration": 16,
    "start_time": "2021-07-28T12:55:55.010Z"
   },
   {
    "duration": 664,
    "start_time": "2021-07-28T12:55:55.029Z"
   },
   {
    "duration": 60,
    "start_time": "2021-07-28T12:55:55.695Z"
   },
   {
    "duration": 6,
    "start_time": "2021-07-28T12:55:55.761Z"
   },
   {
    "duration": 19,
    "start_time": "2021-07-28T12:55:55.770Z"
   },
   {
    "duration": 62,
    "start_time": "2021-07-28T12:55:55.792Z"
   },
   {
    "duration": 103,
    "start_time": "2021-07-28T12:55:55.857Z"
   },
   {
    "duration": 45,
    "start_time": "2021-07-28T12:55:55.962Z"
   },
   {
    "duration": 45,
    "start_time": "2021-07-28T12:55:56.009Z"
   },
   {
    "duration": 47,
    "start_time": "2021-07-28T12:55:56.058Z"
   },
   {
    "duration": 6,
    "start_time": "2021-07-28T12:55:56.108Z"
   },
   {
    "duration": 42,
    "start_time": "2021-07-28T12:55:56.117Z"
   },
   {
    "duration": 10,
    "start_time": "2021-07-28T12:55:56.162Z"
   },
   {
    "duration": 8,
    "start_time": "2021-07-28T12:55:56.175Z"
   },
   {
    "duration": 8,
    "start_time": "2021-07-28T12:55:56.185Z"
   },
   {
    "duration": 10,
    "start_time": "2021-07-28T12:55:56.195Z"
   },
   {
    "duration": 89,
    "start_time": "2021-07-28T12:55:56.208Z"
   },
   {
    "duration": 5,
    "start_time": "2021-07-28T12:55:56.299Z"
   },
   {
    "duration": 14,
    "start_time": "2021-07-28T12:55:56.306Z"
   },
   {
    "duration": 33,
    "start_time": "2021-07-28T12:55:56.323Z"
   },
   {
    "duration": 3,
    "start_time": "2021-07-28T12:55:56.359Z"
   },
   {
    "duration": 9,
    "start_time": "2021-07-28T12:55:56.365Z"
   },
   {
    "duration": 11,
    "start_time": "2021-07-28T12:55:56.377Z"
   },
   {
    "duration": 13,
    "start_time": "2021-07-28T12:55:56.391Z"
   },
   {
    "duration": 52,
    "start_time": "2021-07-28T12:55:56.406Z"
   },
   {
    "duration": 7,
    "start_time": "2021-07-28T12:55:56.461Z"
   },
   {
    "duration": 41,
    "start_time": "2021-07-28T12:55:56.471Z"
   },
   {
    "duration": 8,
    "start_time": "2021-07-28T12:55:56.514Z"
   },
   {
    "duration": 162,
    "start_time": "2021-07-28T12:55:56.525Z"
   },
   {
    "duration": 49,
    "start_time": "2021-07-28T12:55:56.690Z"
   },
   {
    "duration": 142,
    "start_time": "2021-07-28T12:55:56.754Z"
   },
   {
    "duration": 130,
    "start_time": "2021-07-28T12:55:56.898Z"
   },
   {
    "duration": 63,
    "start_time": "2021-07-28T12:55:57.031Z"
   },
   {
    "duration": 160,
    "start_time": "2021-07-28T12:55:57.096Z"
   },
   {
    "duration": 9,
    "start_time": "2021-07-28T13:17:25.353Z"
   },
   {
    "duration": 6695,
    "start_time": "2021-07-28T13:17:31.967Z"
   },
   {
    "duration": 1557,
    "start_time": "2021-07-28T13:17:38.665Z"
   },
   {
    "duration": 173,
    "start_time": "2021-07-28T13:17:40.226Z"
   },
   {
    "duration": 10,
    "start_time": "2021-07-28T13:17:40.402Z"
   },
   {
    "duration": 144,
    "start_time": "2021-07-28T13:17:40.415Z"
   },
   {
    "duration": 106,
    "start_time": "2021-07-28T13:17:40.563Z"
   },
   {
    "duration": 18,
    "start_time": "2021-07-28T13:17:40.673Z"
   },
   {
    "duration": 13,
    "start_time": "2021-07-28T13:17:40.695Z"
   },
   {
    "duration": 307,
    "start_time": "2021-07-28T13:17:40.714Z"
   },
   {
    "duration": 97,
    "start_time": "2021-07-28T13:17:41.025Z"
   },
   {
    "duration": 15,
    "start_time": "2021-07-28T13:17:41.125Z"
   },
   {
    "duration": 57,
    "start_time": "2021-07-28T13:17:41.143Z"
   },
   {
    "duration": 10,
    "start_time": "2021-07-28T13:17:41.203Z"
   },
   {
    "duration": 275,
    "start_time": "2021-07-28T13:17:41.216Z"
   },
   {
    "duration": 6,
    "start_time": "2021-07-28T13:17:41.494Z"
   },
   {
    "duration": 902,
    "start_time": "2021-07-28T13:17:41.502Z"
   },
   {
    "duration": 47,
    "start_time": "2021-07-28T13:17:42.407Z"
   },
   {
    "duration": 784,
    "start_time": "2021-07-28T13:17:42.458Z"
   },
   {
    "duration": 51,
    "start_time": "2021-07-28T13:17:43.245Z"
   },
   {
    "duration": 73,
    "start_time": "2021-07-28T13:17:43.298Z"
   },
   {
    "duration": 37,
    "start_time": "2021-07-28T13:17:43.373Z"
   },
   {
    "duration": 100,
    "start_time": "2021-07-28T13:17:43.413Z"
   },
   {
    "duration": 6,
    "start_time": "2021-07-28T13:17:43.515Z"
   },
   {
    "duration": 39,
    "start_time": "2021-07-28T13:17:43.523Z"
   },
   {
    "duration": 681,
    "start_time": "2021-07-28T13:17:43.564Z"
   },
   {
    "duration": 20,
    "start_time": "2021-07-28T13:17:44.248Z"
   },
   {
    "duration": 6,
    "start_time": "2021-07-28T13:17:44.274Z"
   },
   {
    "duration": 85,
    "start_time": "2021-07-28T13:17:44.283Z"
   },
   {
    "duration": 8,
    "start_time": "2021-07-28T13:17:44.371Z"
   },
   {
    "duration": 180,
    "start_time": "2021-07-28T13:17:44.381Z"
   },
   {
    "duration": 100,
    "start_time": "2021-07-28T13:17:44.564Z"
   },
   {
    "duration": 5,
    "start_time": "2021-07-28T13:17:44.666Z"
   },
   {
    "duration": 57,
    "start_time": "2021-07-28T13:17:44.673Z"
   },
   {
    "duration": 5,
    "start_time": "2021-07-28T13:17:44.732Z"
   },
   {
    "duration": 20,
    "start_time": "2021-07-28T13:17:44.755Z"
   },
   {
    "duration": 23,
    "start_time": "2021-07-28T13:17:44.777Z"
   },
   {
    "duration": 13,
    "start_time": "2021-07-28T13:17:44.803Z"
   },
   {
    "duration": 18,
    "start_time": "2021-07-28T13:17:44.818Z"
   },
   {
    "duration": 21,
    "start_time": "2021-07-28T13:17:44.839Z"
   },
   {
    "duration": 63,
    "start_time": "2021-07-28T13:17:44.863Z"
   },
   {
    "duration": 5,
    "start_time": "2021-07-28T13:17:44.929Z"
   },
   {
    "duration": 16,
    "start_time": "2021-07-28T13:17:44.937Z"
   },
   {
    "duration": 15,
    "start_time": "2021-07-28T13:17:44.956Z"
   },
   {
    "duration": 20,
    "start_time": "2021-07-28T13:17:44.974Z"
   },
   {
    "duration": 32,
    "start_time": "2021-07-28T13:17:44.998Z"
   },
   {
    "duration": 32,
    "start_time": "2021-07-28T13:17:45.032Z"
   },
   {
    "duration": 32,
    "start_time": "2021-07-28T13:17:45.066Z"
   },
   {
    "duration": 26,
    "start_time": "2021-07-28T13:17:45.101Z"
   },
   {
    "duration": 17,
    "start_time": "2021-07-28T13:17:45.129Z"
   },
   {
    "duration": 62,
    "start_time": "2021-07-28T13:17:45.149Z"
   },
   {
    "duration": 9,
    "start_time": "2021-07-28T13:17:45.213Z"
   },
   {
    "duration": 155,
    "start_time": "2021-07-28T13:17:45.225Z"
   },
   {
    "duration": 71,
    "start_time": "2021-07-28T13:17:45.383Z"
   },
   {
    "duration": 148,
    "start_time": "2021-07-28T13:17:45.456Z"
   },
   {
    "duration": 158,
    "start_time": "2021-07-28T13:17:45.606Z"
   },
   {
    "duration": 49,
    "start_time": "2021-07-28T13:17:45.767Z"
   },
   {
    "duration": 171,
    "start_time": "2021-07-28T13:17:45.819Z"
   },
   {
    "duration": 7437,
    "start_time": "2021-07-28T13:17:58.083Z"
   },
   {
    "duration": 1634,
    "start_time": "2021-07-28T13:18:05.523Z"
   },
   {
    "duration": 169,
    "start_time": "2021-07-28T13:18:07.160Z"
   },
   {
    "duration": 8,
    "start_time": "2021-07-28T13:18:07.332Z"
   },
   {
    "duration": 140,
    "start_time": "2021-07-28T13:18:07.342Z"
   },
   {
    "duration": 100,
    "start_time": "2021-07-28T13:18:07.485Z"
   },
   {
    "duration": 17,
    "start_time": "2021-07-28T13:18:07.587Z"
   },
   {
    "duration": 10,
    "start_time": "2021-07-28T13:18:07.608Z"
   },
   {
    "duration": 190,
    "start_time": "2021-07-28T13:18:07.623Z"
   },
   {
    "duration": 103,
    "start_time": "2021-07-28T13:18:07.816Z"
   },
   {
    "duration": 15,
    "start_time": "2021-07-28T13:18:07.921Z"
   },
   {
    "duration": 35,
    "start_time": "2021-07-28T13:18:07.954Z"
   },
   {
    "duration": 11,
    "start_time": "2021-07-28T13:18:07.992Z"
   },
   {
    "duration": 284,
    "start_time": "2021-07-28T13:18:08.006Z"
   },
   {
    "duration": 8,
    "start_time": "2021-07-28T13:18:08.293Z"
   },
   {
    "duration": 874,
    "start_time": "2021-07-28T13:18:08.303Z"
   },
   {
    "duration": 29,
    "start_time": "2021-07-28T13:18:09.180Z"
   },
   {
    "duration": 726,
    "start_time": "2021-07-28T13:18:09.212Z"
   },
   {
    "duration": 50,
    "start_time": "2021-07-28T13:18:09.940Z"
   },
   {
    "duration": 71,
    "start_time": "2021-07-28T13:18:09.993Z"
   },
   {
    "duration": 40,
    "start_time": "2021-07-28T13:18:10.066Z"
   },
   {
    "duration": 95,
    "start_time": "2021-07-28T13:18:10.109Z"
   },
   {
    "duration": 6,
    "start_time": "2021-07-28T13:18:10.207Z"
   },
   {
    "duration": 38,
    "start_time": "2021-07-28T13:18:10.216Z"
   },
   {
    "duration": 645,
    "start_time": "2021-07-28T13:18:10.256Z"
   },
   {
    "duration": 57,
    "start_time": "2021-07-28T13:18:10.903Z"
   },
   {
    "duration": 5,
    "start_time": "2021-07-28T13:18:10.965Z"
   },
   {
    "duration": 82,
    "start_time": "2021-07-28T13:18:10.973Z"
   },
   {
    "duration": 8,
    "start_time": "2021-07-28T13:18:11.057Z"
   },
   {
    "duration": 117,
    "start_time": "2021-07-28T13:18:11.067Z"
   },
   {
    "duration": 95,
    "start_time": "2021-07-28T13:18:11.187Z"
   },
   {
    "duration": 6,
    "start_time": "2021-07-28T13:18:11.285Z"
   },
   {
    "duration": 80,
    "start_time": "2021-07-28T13:18:11.295Z"
   },
   {
    "duration": 5,
    "start_time": "2021-07-28T13:18:11.378Z"
   },
   {
    "duration": 15,
    "start_time": "2021-07-28T13:18:11.386Z"
   },
   {
    "duration": 19,
    "start_time": "2021-07-28T13:18:11.403Z"
   },
   {
    "duration": 11,
    "start_time": "2021-07-28T13:18:11.424Z"
   },
   {
    "duration": 18,
    "start_time": "2021-07-28T13:18:11.438Z"
   },
   {
    "duration": 18,
    "start_time": "2021-07-28T13:18:11.459Z"
   },
   {
    "duration": 53,
    "start_time": "2021-07-28T13:18:11.480Z"
   },
   {
    "duration": 21,
    "start_time": "2021-07-28T13:18:11.535Z"
   },
   {
    "duration": 25,
    "start_time": "2021-07-28T13:18:11.559Z"
   },
   {
    "duration": 27,
    "start_time": "2021-07-28T13:18:11.587Z"
   },
   {
    "duration": 15,
    "start_time": "2021-07-28T13:18:11.616Z"
   },
   {
    "duration": 20,
    "start_time": "2021-07-28T13:18:11.634Z"
   },
   {
    "duration": 24,
    "start_time": "2021-07-28T13:18:11.657Z"
   },
   {
    "duration": 29,
    "start_time": "2021-07-28T13:18:11.683Z"
   },
   {
    "duration": 12,
    "start_time": "2021-07-28T13:18:11.714Z"
   },
   {
    "duration": 24,
    "start_time": "2021-07-28T13:18:11.729Z"
   },
   {
    "duration": 71,
    "start_time": "2021-07-28T13:18:11.755Z"
   },
   {
    "duration": 13,
    "start_time": "2021-07-28T13:18:11.830Z"
   },
   {
    "duration": 217,
    "start_time": "2021-07-28T13:18:11.846Z"
   },
   {
    "duration": 95,
    "start_time": "2021-07-28T13:18:12.066Z"
   },
   {
    "duration": 155,
    "start_time": "2021-07-28T13:18:12.164Z"
   },
   {
    "duration": 157,
    "start_time": "2021-07-28T13:18:12.322Z"
   },
   {
    "duration": 50,
    "start_time": "2021-07-28T13:18:12.482Z"
   },
   {
    "duration": 176,
    "start_time": "2021-07-28T13:18:12.534Z"
   },
   {
    "duration": 15210,
    "start_time": "2021-07-29T12:32:28.060Z"
   },
   {
    "duration": 1177,
    "start_time": "2021-07-29T12:32:43.272Z"
   },
   {
    "duration": 112,
    "start_time": "2021-07-29T12:32:44.451Z"
   },
   {
    "duration": 5,
    "start_time": "2021-07-29T12:32:44.565Z"
   },
   {
    "duration": 81,
    "start_time": "2021-07-29T12:32:44.571Z"
   },
   {
    "duration": 67,
    "start_time": "2021-07-29T12:32:44.654Z"
   },
   {
    "duration": 11,
    "start_time": "2021-07-29T12:32:44.723Z"
   },
   {
    "duration": 8,
    "start_time": "2021-07-29T12:32:44.736Z"
   },
   {
    "duration": 111,
    "start_time": "2021-07-29T12:32:44.746Z"
   },
   {
    "duration": 63,
    "start_time": "2021-07-29T12:32:44.858Z"
   },
   {
    "duration": 9,
    "start_time": "2021-07-29T12:32:44.923Z"
   },
   {
    "duration": 23,
    "start_time": "2021-07-29T12:32:44.934Z"
   },
   {
    "duration": 6,
    "start_time": "2021-07-29T12:32:44.958Z"
   },
   {
    "duration": 178,
    "start_time": "2021-07-29T12:32:44.966Z"
   },
   {
    "duration": 5,
    "start_time": "2021-07-29T12:32:45.145Z"
   },
   {
    "duration": 480,
    "start_time": "2021-07-29T12:32:45.152Z"
   },
   {
    "duration": 16,
    "start_time": "2021-07-29T12:32:45.634Z"
   },
   {
    "duration": 398,
    "start_time": "2021-07-29T12:32:45.651Z"
   },
   {
    "duration": 40,
    "start_time": "2021-07-29T12:32:46.051Z"
   },
   {
    "duration": 33,
    "start_time": "2021-07-29T12:32:46.093Z"
   },
   {
    "duration": 23,
    "start_time": "2021-07-29T12:32:46.127Z"
   },
   {
    "duration": 68,
    "start_time": "2021-07-29T12:32:46.152Z"
   },
   {
    "duration": 4,
    "start_time": "2021-07-29T12:32:46.223Z"
   },
   {
    "duration": 10,
    "start_time": "2021-07-29T12:32:46.229Z"
   },
   {
    "duration": 531,
    "start_time": "2021-07-29T12:32:46.241Z"
   },
   {
    "duration": 14,
    "start_time": "2021-07-29T12:32:46.774Z"
   },
   {
    "duration": 5,
    "start_time": "2021-07-29T12:32:46.789Z"
   },
   {
    "duration": 15,
    "start_time": "2021-07-29T12:32:46.796Z"
   },
   {
    "duration": 9,
    "start_time": "2021-07-29T12:32:46.812Z"
   },
   {
    "duration": 88,
    "start_time": "2021-07-29T12:32:46.822Z"
   },
   {
    "duration": 33,
    "start_time": "2021-07-29T12:32:46.912Z"
   },
   {
    "duration": 3,
    "start_time": "2021-07-29T12:32:46.947Z"
   },
   {
    "duration": 34,
    "start_time": "2021-07-29T12:32:46.992Z"
   },
   {
    "duration": 4,
    "start_time": "2021-07-29T12:32:47.027Z"
   },
   {
    "duration": 9,
    "start_time": "2021-07-29T12:32:47.032Z"
   },
   {
    "duration": 7,
    "start_time": "2021-07-29T12:32:47.042Z"
   },
   {
    "duration": 7,
    "start_time": "2021-07-29T12:32:47.050Z"
   },
   {
    "duration": 7,
    "start_time": "2021-07-29T12:32:47.058Z"
   },
   {
    "duration": 5,
    "start_time": "2021-07-29T12:32:47.092Z"
   },
   {
    "duration": 37,
    "start_time": "2021-07-29T12:32:47.099Z"
   },
   {
    "duration": 4,
    "start_time": "2021-07-29T12:32:47.137Z"
   },
   {
    "duration": 6,
    "start_time": "2021-07-29T12:32:47.143Z"
   },
   {
    "duration": 12,
    "start_time": "2021-07-29T12:32:47.150Z"
   },
   {
    "duration": 8,
    "start_time": "2021-07-29T12:32:47.164Z"
   },
   {
    "duration": 5,
    "start_time": "2021-07-29T12:32:47.192Z"
   },
   {
    "duration": 11,
    "start_time": "2021-07-29T12:32:47.198Z"
   },
   {
    "duration": 13,
    "start_time": "2021-07-29T12:32:47.210Z"
   },
   {
    "duration": 12,
    "start_time": "2021-07-29T12:32:47.225Z"
   },
   {
    "duration": 10,
    "start_time": "2021-07-29T12:32:47.239Z"
   },
   {
    "duration": 41,
    "start_time": "2021-07-29T12:32:47.251Z"
   },
   {
    "duration": 6,
    "start_time": "2021-07-29T12:32:47.294Z"
   },
   {
    "duration": 107,
    "start_time": "2021-07-29T12:32:47.302Z"
   },
   {
    "duration": 35,
    "start_time": "2021-07-29T12:32:47.411Z"
   },
   {
    "duration": 102,
    "start_time": "2021-07-29T12:32:47.447Z"
   },
   {
    "duration": 97,
    "start_time": "2021-07-29T12:32:47.550Z"
   },
   {
    "duration": 47,
    "start_time": "2021-07-29T12:32:47.649Z"
   },
   {
    "duration": 106,
    "start_time": "2021-07-29T12:32:47.697Z"
   }
  ],
  "kernelspec": {
   "display_name": "Python 3",
   "language": "python",
   "name": "python3"
  },
  "language_info": {
   "codemirror_mode": {
    "name": "ipython",
    "version": 3
   },
   "file_extension": ".py",
   "mimetype": "text/x-python",
   "name": "python",
   "nbconvert_exporter": "python",
   "pygments_lexer": "ipython3",
   "version": "3.8.5"
  },
  "toc": {
   "base_numbering": 1,
   "nav_menu": {},
   "number_sections": true,
   "sideBar": true,
   "skip_h1_title": true,
   "title_cell": "Содержание",
   "title_sidebar": "Содержание",
   "toc_cell": true,
   "toc_position": {
    "height": "calc(100% - 180px)",
    "left": "10px",
    "top": "150px",
    "width": "483.011px"
   },
   "toc_section_display": true,
   "toc_window_display": false
  }
 },
 "nbformat": 4,
 "nbformat_minor": 2
}
